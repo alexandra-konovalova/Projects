{
 "cells": [
  {
   "cell_type": "markdown",
   "id": "e06910dd",
   "metadata": {
    "id": "e06910dd"
   },
   "source": [
    "## Анализ пользовательской активности в городе Москва и Санкт-Петербург\n",
    "\n",
    "- Автор: Коновалова Александра Евгеньевна \n",
    "- Дата: 29.05.25"
   ]
  },
  {
   "cell_type": "markdown",
   "id": "4149134c",
   "metadata": {
    "id": "4149134c"
   },
   "source": [
    "## Цели и задачи проекта\n",
    "Цель проекта: проверить гипотезу: пользователи из Санкт-Петербурга проводят в среднем больше времени за чтением и прослушиванием книг в приложении, чем пользователи из Москвы.\n",
    "    \n",
    "Задачи проекта: \n",
    "    \n",
    "    1. Загрузка и предообработка данных\n",
    "    \n",
    "    2. Проверка гипотезы\n",
    "    \n",
    "    3. Выводы\n",
    "    \n"
   ]
  },
  {
   "cell_type": "markdown",
   "id": "728986ea",
   "metadata": {
    "id": "728986ea"
   },
   "source": [
    "## Описание данных\n",
    "\n",
    "Данные представлены уже предообработанной таблицей, которая включает в себя всех пользователей из Москвы и Санкт-Петербурга c их активностью (суммой часов чтения и прослушивания)\n",
    "\n",
    "city - город пользователя\n",
    "\n",
    "puid - индентификатор пользователя\n",
    "\n",
    "hours - суммарное время прослушивание и чтения пользователем на платформе"
   ]
  },
  {
   "cell_type": "markdown",
   "id": "4fecaf95",
   "metadata": {
    "id": "4fecaf95"
   },
   "source": [
    "## Содержимое проекта\n",
    "\n",
    "\n",
    "---\n",
    "**Содержание проекта:**\n",
    "1. Загрузка данных\n",
    "2. Знакомство с данными\n",
    "3. Предообработка данных\n",
    "4. Проверка гипотезы \n",
    "5. Выводы на основе проведенного эксперимента "
   ]
  },
  {
   "cell_type": "markdown",
   "id": "6f7d21d6",
   "metadata": {
    "id": "6f7d21d6"
   },
   "source": [
    "## 1. Загрузка данных и знакомство с ними\n",
    "\n",
    "Загрузите данные пользователей из Москвы и Санкт-Петербурга c их активностью (суммой часов чтения и прослушивания) из файла `/datasets/yandex_knigi_data.csv`."
   ]
  },
  {
   "cell_type": "code",
   "execution_count": 1,
   "id": "05faf34b",
   "metadata": {
    "id": "05faf34b"
   },
   "outputs": [],
   "source": [
    "# Пустые ячейки после каждого задания — примерное пространство для работы.\n",
    "# Вы можете свободно добавлять или удалять ячейки по своему усмотрению в зависимости от логики и объёма работы."
   ]
  },
  {
   "cell_type": "code",
   "execution_count": 2,
   "id": "ce87c1db",
   "metadata": {
    "id": "ce87c1db"
   },
   "outputs": [],
   "source": [
    "# Используйте ячейки типа Code для вашего кода"
   ]
  },
  {
   "cell_type": "code",
   "execution_count": 3,
   "id": "f68a7419",
   "metadata": {
    "id": "f68a7419"
   },
   "outputs": [],
   "source": [
    "import pandas as pd\n",
    "import matplotlib.pyplot as plt\n",
    "from scipy.stats import mannwhitneyu \n",
    "import numpy as np\n",
    "from statsmodels.stats.power import NormalIndPower\n",
    "from statsmodels.stats.proportion import proportions_ztest"
   ]
  },
  {
   "cell_type": "code",
   "execution_count": 4,
   "id": "814d5c93",
   "metadata": {},
   "outputs": [
    {
     "data": {
      "text/html": [
       "<div>\n",
       "<style scoped>\n",
       "    .dataframe tbody tr th:only-of-type {\n",
       "        vertical-align: middle;\n",
       "    }\n",
       "\n",
       "    .dataframe tbody tr th {\n",
       "        vertical-align: top;\n",
       "    }\n",
       "\n",
       "    .dataframe thead th {\n",
       "        text-align: right;\n",
       "    }\n",
       "</style>\n",
       "<table border=\"1\" class=\"dataframe\">\n",
       "  <thead>\n",
       "    <tr style=\"text-align: right;\">\n",
       "      <th></th>\n",
       "      <th>Unnamed: 0</th>\n",
       "      <th>city</th>\n",
       "      <th>puid</th>\n",
       "      <th>hours</th>\n",
       "    </tr>\n",
       "  </thead>\n",
       "  <tbody>\n",
       "    <tr>\n",
       "      <th>0</th>\n",
       "      <td>0</td>\n",
       "      <td>Москва</td>\n",
       "      <td>9668</td>\n",
       "      <td>26.167776</td>\n",
       "    </tr>\n",
       "    <tr>\n",
       "      <th>1</th>\n",
       "      <td>1</td>\n",
       "      <td>Москва</td>\n",
       "      <td>16598</td>\n",
       "      <td>82.111217</td>\n",
       "    </tr>\n",
       "    <tr>\n",
       "      <th>2</th>\n",
       "      <td>2</td>\n",
       "      <td>Москва</td>\n",
       "      <td>80401</td>\n",
       "      <td>4.656906</td>\n",
       "    </tr>\n",
       "    <tr>\n",
       "      <th>3</th>\n",
       "      <td>3</td>\n",
       "      <td>Москва</td>\n",
       "      <td>140205</td>\n",
       "      <td>1.840556</td>\n",
       "    </tr>\n",
       "    <tr>\n",
       "      <th>4</th>\n",
       "      <td>4</td>\n",
       "      <td>Москва</td>\n",
       "      <td>248755</td>\n",
       "      <td>151.326434</td>\n",
       "    </tr>\n",
       "  </tbody>\n",
       "</table>\n",
       "</div>"
      ],
      "text/plain": [
       "   Unnamed: 0    city    puid       hours\n",
       "0           0  Москва    9668   26.167776\n",
       "1           1  Москва   16598   82.111217\n",
       "2           2  Москва   80401    4.656906\n",
       "3           3  Москва  140205    1.840556\n",
       "4           4  Москва  248755  151.326434"
      ]
     },
     "execution_count": 4,
     "metadata": {},
     "output_type": "execute_result"
    }
   ],
   "source": [
    "df = pd.read_csv('https://code.s3.yandex.net/datasets/yandex_knigi_data.csv')\n",
    "df.head()"
   ]
  },
  {
   "cell_type": "code",
   "execution_count": 5,
   "id": "615027dd",
   "metadata": {
    "scrolled": false
   },
   "outputs": [
    {
     "data": {
      "text/plain": [
       "244"
      ]
     },
     "metadata": {},
     "output_type": "display_data"
    }
   ],
   "source": [
    "# Проверяем наличие дубликатов в индентификаторах пользователей \n",
    "display (df.duplicated(subset = 'puid').sum())"
   ]
  },
  {
   "cell_type": "code",
   "execution_count": 6,
   "id": "2c1cc660",
   "metadata": {},
   "outputs": [
    {
     "data": {
      "text/plain": [
       "0"
      ]
     },
     "metadata": {},
     "output_type": "display_data"
    }
   ],
   "source": [
    "# Дубликаты найдены, для точности анализа удалим их\n",
    "df = df.drop_duplicates(subset = 'puid')\n",
    "display (df.duplicated(subset = 'puid').sum())"
   ]
  },
  {
   "cell_type": "code",
   "execution_count": 7,
   "id": "f3aaaf4e",
   "metadata": {
    "scrolled": true
   },
   "outputs": [
    {
     "data": {
      "text/plain": [
       "city\n",
       "Москва             6234\n",
       "Санкт-Петербург    2306\n",
       "Name: puid, dtype: int64"
      ]
     },
     "metadata": {},
     "output_type": "display_data"
    }
   ],
   "source": [
    "# Проверяем размеры групп \n",
    "display (df.groupby('city')['puid'].count()) "
   ]
  },
  {
   "cell_type": "code",
   "execution_count": 8,
   "id": "e68ff03a",
   "metadata": {},
   "outputs": [],
   "source": [
    "# Рассчитываем долю количества пользователей для каждой группы\n",
    "group_share = df.groupby('city')['puid'].count()/df['puid'].count()"
   ]
  },
  {
   "cell_type": "code",
   "execution_count": 9,
   "id": "c98b310b",
   "metadata": {
    "scrolled": false
   },
   "outputs": [
    {
     "data": {
      "image/png": "[encoded data removed]",
      "text/plain": [
       "<Figure size 720x576 with 1 Axes>"
      ]
     },
     "metadata": {
      "needs_background": "light"
     },
     "output_type": "display_data"
    }
   ],
   "source": [
    "#Визуализируем размеры выборок \n",
    "plt.figure(figsize=(10, 8))\n",
    "group_share.plot(kind = 'bar')\n",
    "plt.xticks(rotation=0)\n",
    "plt.title('Сравнение размеров выборок')\n",
    "plt.xlabel('Город')\n",
    "plt.ylabel('Размер группы')\n",
    "plt.show()"
   ]
  },
  {
   "cell_type": "markdown",
   "id": "8a1a408a",
   "metadata": {},
   "source": [
    "Мы видим, что размеры групп значительно различаются, что нужно учесть при выборе статистического теста"
   ]
  },
  {
   "cell_type": "code",
   "execution_count": 10,
   "id": "7fc7e084",
   "metadata": {},
   "outputs": [
    {
     "data": {
      "image/png": "[encoded data removed]",
      "text/plain": [
       "<Figure size 720x576 with 1 Axes>"
      ]
     },
     "metadata": {
      "needs_background": "light"
     },
     "output_type": "display_data"
    }
   ],
   "source": [
    "# Проверим наличие выбросов в данных\n",
    "plt.figure(figsize=(10, 8))\n",
    "df['hours'].plot(\n",
    "                kind='hist', \n",
    "                bins=30, \n",
    "                alpha=0.75,\n",
    ")\n",
    "plt.title('Распределение времени в часах проведенного на платформе')\n",
    "plt.xlabel('Суммарное время в часах')\n",
    "plt.ylabel('Частота')\n",
    "plt.grid()\n",
    "plt.show()"
   ]
  },
  {
   "cell_type": "markdown",
   "id": "3a3898c5",
   "metadata": {},
   "source": [
    "Видно наличие выбросов в данных, что также необходимо учесть при выборе статистического теста "
   ]
  },
  {
   "cell_type": "markdown",
   "id": "956e82e2",
   "metadata": {
    "id": "956e82e2"
   },
   "source": [
    "## 2. Проверка гипотезы в Python\n",
    "\n",
    "Гипотеза звучит так: пользователи из Санкт-Петербурга проводят в среднем больше времени за чтением и прослушиванием книг в приложении, чем пользователи из Москвы. Попробуйте статистически это доказать, используя одностороннюю проверку гипотезы с двумя выборками:\n",
    "\n",
    "- Нулевая гипотеза H₀: Средняя активность пользователей в часах в Санкт-Петербург не больше, чем в Москве.\n",
    "\n",
    "- Альтернативная гипотеза H₁: Средняя активность пользователей в Санкт-Петербурге больше, и это различие статистически значимо."
   ]
  },
  {
   "cell_type": "code",
   "execution_count": 11,
   "id": "67956690",
   "metadata": {
    "id": "67956690"
   },
   "outputs": [
    {
     "data": {
      "text/plain": [
       "city\n",
       "Москва             10.881092\n",
       "Санкт-Петербург    11.264433\n",
       "Name: hours, dtype: float64"
      ]
     },
     "metadata": {},
     "output_type": "display_data"
    }
   ],
   "source": [
    "# Проверяем средние значения прослушиваний на платформе для каждой группы \n",
    "display (df.groupby('city')['hours'].mean()) "
   ]
  },
  {
   "cell_type": "markdown",
   "id": "ea316a9d",
   "metadata": {},
   "source": [
    "По полученным данным видна разница в значениях, однако необходимо определить является ли эта разница существенной"
   ]
  },
  {
   "cell_type": "code",
   "execution_count": 13,
   "id": "60bd42dd",
   "metadata": {},
   "outputs": [
    {
     "name": "stdout",
     "output_type": "stream",
     "text": [
      "pvalue=0.6189600878052618 > 0.05\n",
      "Не получилось отвергнуть нулевую гипотезу\n"
     ]
    }
   ],
   "source": [
    "m_c = df[df['city']=='Санкт-Петербург']['hours']\n",
    "m_m = df[df['city']=='Москва']['hours']\n",
    "test_result = mannwhitneyu(m_c,\n",
    "                          m_m,\n",
    "                          alternative = 'greater')\n",
    "alpha = 0.05\n",
    "if test_result.pvalue > alpha:\n",
    "    print(f'pvalue={test_result.pvalue} > {alpha}')\n",
    "    print('Не получилось отвергнуть нулевую гипотезу')\n",
    "else:\n",
    "    print(f'pvalue={test_result.pvalue} < {alpha}')\n",
    "    print('Отвергаем нулевую гипотезу')"
   ]
  },
  {
   "cell_type": "markdown",
   "id": "6953e84c",
   "metadata": {
    "id": "6953e84c"
   },
   "source": [
    "## 3. Аналитическая записка\n",
    "\n",
    "- Был выбран тест Манна Уитни, так как он устойчив к выбросам и неравномерному размеру выборок, уровень значимость - 5%\n",
    "\n",
    "- Нулевую гипотезу не получилось отвергнуть, pvalue=0.6189600878052618.\n",
    "\n",
    "- Так как нулевая гипотеза не отвергнута, статистической разницы в данных между двумя группами не выявлено. Это значит, что предположение о том, что в Питере читают больше, чем в Москве не находит подтверждения \n",
    "\n",
    "- Разницы не выявлено, предположение оказалось ошибочным, возможно, оно было выдвинуто из-за представления о Питере, как о культурной столице.\n",
    "\n"
   ]
  },
  {
   "cell_type": "markdown",
   "id": "hc1d6jVISegz",
   "metadata": {
    "id": "hc1d6jVISegz"
   },
   "source": [
    "----"
   ]
  },
  {
   "cell_type": "markdown",
   "id": "NqOUIYhbrIfC",
   "metadata": {
    "id": "NqOUIYhbrIfC"
   },
   "source": [
    "# Часть 2. Анализ результатов A/B-тестирования"
   ]
  },
  {
   "cell_type": "markdown",
   "id": "tDwMKFNGsClr",
   "metadata": {
    "id": "tDwMKFNGsClr"
   },
   "source": [
    "Теперь вам нужно проанализировать другие данные. Представьте, что к вам обратились представители интернет-магазина BitMotion Kit, в котором продаются геймифицированные товары для тех, кто ведёт здоровый образ жизни. У него есть своя целевая аудитория, даже появились хиты продаж: эспандер со счётчиком и напоминанием, так и подстольный велотренажёр с Bluetooth.\n",
    "\n",
    "В будущем компания хочет расширить ассортимент товаров. Но перед этим нужно решить одну проблему. Интерфейс онлайн-магазина слишком сложен для пользователей — об этом говорят отзывы.\n",
    "\n",
    "Чтобы привлечь новых клиентов и увеличить число продаж, владельцы магазина разработали новую версию сайта и протестировали его на части пользователей. По задумке, это решение доказуемо повысит количество пользователей, которые совершат покупку.\n",
    "\n",
    "Ваша задача — провести оценку результатов A/B-теста. В вашем распоряжении:\n",
    "\n",
    "* данные о действиях пользователей и распределении их на группы,\n",
    "\n",
    "* техническое задание.\n",
    "\n",
    "Оцените корректность проведения теста и проанализируйте его результаты."
   ]
  },
  {
   "cell_type": "markdown",
   "id": "UNXAAyF5r9Rk",
   "metadata": {
    "id": "UNXAAyF5r9Rk"
   },
   "source": [
    "## 1. Опишите цели исследования.\n",
    "\n"
   ]
  },
  {
   "cell_type": "markdown",
   "id": "kHx-51yES8bd",
   "metadata": {
    "id": "kHx-51yES8bd"
   },
   "source": [
    "Цель исследования: \"Проверить гипотезу о том, что новая версия сайта BitMotion Kit повысит конверсию в покупку\"\n",
    "\n"
   ]
  },
  {
   "cell_type": "markdown",
   "id": "_CZryx2OsH-s",
   "metadata": {
    "id": "_CZryx2OsH-s"
   },
   "source": [
    "## 2. Загрузите данные, оцените их целостность.\n"
   ]
  },
  {
   "cell_type": "code",
   "execution_count": 14,
   "id": "DjFcJbeGsTIg",
   "metadata": {
    "id": "DjFcJbeGsTIg"
   },
   "outputs": [
    {
     "name": "stdout",
     "output_type": "stream",
     "text": [
      "<class 'pandas.core.frame.DataFrame'>\n",
      "RangeIndex: 14525 entries, 0 to 14524\n",
      "Data columns (total 4 columns):\n",
      " #   Column   Non-Null Count  Dtype \n",
      "---  ------   --------------  ----- \n",
      " 0   user_id  14525 non-null  object\n",
      " 1   group    14525 non-null  object\n",
      " 2   ab_test  14525 non-null  object\n",
      " 3   device   14525 non-null  object\n",
      "dtypes: object(4)\n",
      "memory usage: 454.0+ KB\n"
     ]
    },
    {
     "data": {
      "text/html": [
       "<div>\n",
       "<style scoped>\n",
       "    .dataframe tbody tr th:only-of-type {\n",
       "        vertical-align: middle;\n",
       "    }\n",
       "\n",
       "    .dataframe tbody tr th {\n",
       "        vertical-align: top;\n",
       "    }\n",
       "\n",
       "    .dataframe thead th {\n",
       "        text-align: right;\n",
       "    }\n",
       "</style>\n",
       "<table border=\"1\" class=\"dataframe\">\n",
       "  <thead>\n",
       "    <tr style=\"text-align: right;\">\n",
       "      <th></th>\n",
       "      <th>user_id</th>\n",
       "      <th>group</th>\n",
       "      <th>ab_test</th>\n",
       "      <th>device</th>\n",
       "    </tr>\n",
       "  </thead>\n",
       "  <tbody>\n",
       "    <tr>\n",
       "      <th>0</th>\n",
       "      <td>0002CE61FF2C4011</td>\n",
       "      <td>B</td>\n",
       "      <td>interface_eu_test</td>\n",
       "      <td>Mac</td>\n",
       "    </tr>\n",
       "    <tr>\n",
       "      <th>1</th>\n",
       "      <td>001064FEAAB631A1</td>\n",
       "      <td>B</td>\n",
       "      <td>recommender_system_test</td>\n",
       "      <td>Android</td>\n",
       "    </tr>\n",
       "    <tr>\n",
       "      <th>2</th>\n",
       "      <td>001064FEAAB631A1</td>\n",
       "      <td>A</td>\n",
       "      <td>interface_eu_test</td>\n",
       "      <td>Android</td>\n",
       "    </tr>\n",
       "    <tr>\n",
       "      <th>3</th>\n",
       "      <td>0010A1C096941592</td>\n",
       "      <td>A</td>\n",
       "      <td>recommender_system_test</td>\n",
       "      <td>Android</td>\n",
       "    </tr>\n",
       "    <tr>\n",
       "      <th>4</th>\n",
       "      <td>001E72F50D1C48FA</td>\n",
       "      <td>A</td>\n",
       "      <td>interface_eu_test</td>\n",
       "      <td>Mac</td>\n",
       "    </tr>\n",
       "  </tbody>\n",
       "</table>\n",
       "</div>"
      ],
      "text/plain": [
       "            user_id group                  ab_test   device\n",
       "0  0002CE61FF2C4011     B        interface_eu_test      Mac\n",
       "1  001064FEAAB631A1     B  recommender_system_test  Android\n",
       "2  001064FEAAB631A1     A        interface_eu_test  Android\n",
       "3  0010A1C096941592     A  recommender_system_test  Android\n",
       "4  001E72F50D1C48FA     A        interface_eu_test      Mac"
      ]
     },
     "execution_count": 14,
     "metadata": {},
     "output_type": "execute_result"
    }
   ],
   "source": [
    "participants = pd.read_csv('https://code.s3.yandex.net/datasets/ab_test_participants.csv')\n",
    "events = pd.read_csv('https://code.s3.yandex.net/datasets/ab_test_events.zip',\n",
    "                     parse_dates=['event_dt'], low_memory=False)\n",
    "participants.info()\n",
    "participants.head()"
   ]
  },
  {
   "cell_type": "code",
   "execution_count": 15,
   "id": "a51333e4",
   "metadata": {
    "scrolled": false
   },
   "outputs": [
    {
     "name": "stdout",
     "output_type": "stream",
     "text": [
      "<class 'pandas.core.frame.DataFrame'>\n",
      "RangeIndex: 787286 entries, 0 to 787285\n",
      "Data columns (total 4 columns):\n",
      " #   Column      Non-Null Count   Dtype         \n",
      "---  ------      --------------   -----         \n",
      " 0   user_id     787286 non-null  object        \n",
      " 1   event_dt    787286 non-null  datetime64[ns]\n",
      " 2   event_name  787286 non-null  object        \n",
      " 3   details     249022 non-null  object        \n",
      "dtypes: datetime64[ns](1), object(3)\n",
      "memory usage: 24.0+ MB\n"
     ]
    },
    {
     "data": {
      "text/html": [
       "<div>\n",
       "<style scoped>\n",
       "    .dataframe tbody tr th:only-of-type {\n",
       "        vertical-align: middle;\n",
       "    }\n",
       "\n",
       "    .dataframe tbody tr th {\n",
       "        vertical-align: top;\n",
       "    }\n",
       "\n",
       "    .dataframe thead th {\n",
       "        text-align: right;\n",
       "    }\n",
       "</style>\n",
       "<table border=\"1\" class=\"dataframe\">\n",
       "  <thead>\n",
       "    <tr style=\"text-align: right;\">\n",
       "      <th></th>\n",
       "      <th>user_id</th>\n",
       "      <th>event_dt</th>\n",
       "      <th>event_name</th>\n",
       "      <th>details</th>\n",
       "    </tr>\n",
       "  </thead>\n",
       "  <tbody>\n",
       "    <tr>\n",
       "      <th>0</th>\n",
       "      <td>GLOBAL</td>\n",
       "      <td>2020-12-01 00:00:00</td>\n",
       "      <td>End of Black Friday Ads Campaign</td>\n",
       "      <td>ZONE_CODE15</td>\n",
       "    </tr>\n",
       "    <tr>\n",
       "      <th>1</th>\n",
       "      <td>CCBE9E7E99F94A08</td>\n",
       "      <td>2020-12-01 00:00:11</td>\n",
       "      <td>registration</td>\n",
       "      <td>0.0</td>\n",
       "    </tr>\n",
       "    <tr>\n",
       "      <th>2</th>\n",
       "      <td>GLOBAL</td>\n",
       "      <td>2020-12-01 00:00:25</td>\n",
       "      <td>product_page</td>\n",
       "      <td>NaN</td>\n",
       "    </tr>\n",
       "    <tr>\n",
       "      <th>3</th>\n",
       "      <td>CCBE9E7E99F94A08</td>\n",
       "      <td>2020-12-01 00:00:33</td>\n",
       "      <td>login</td>\n",
       "      <td>NaN</td>\n",
       "    </tr>\n",
       "    <tr>\n",
       "      <th>4</th>\n",
       "      <td>CCBE9E7E99F94A08</td>\n",
       "      <td>2020-12-01 00:00:52</td>\n",
       "      <td>product_page</td>\n",
       "      <td>NaN</td>\n",
       "    </tr>\n",
       "  </tbody>\n",
       "</table>\n",
       "</div>"
      ],
      "text/plain": [
       "            user_id            event_dt                        event_name  \\\n",
       "0            GLOBAL 2020-12-01 00:00:00  End of Black Friday Ads Campaign   \n",
       "1  CCBE9E7E99F94A08 2020-12-01 00:00:11                      registration   \n",
       "2            GLOBAL 2020-12-01 00:00:25                      product_page   \n",
       "3  CCBE9E7E99F94A08 2020-12-01 00:00:33                             login   \n",
       "4  CCBE9E7E99F94A08 2020-12-01 00:00:52                      product_page   \n",
       "\n",
       "       details  \n",
       "0  ZONE_CODE15  \n",
       "1          0.0  \n",
       "2          NaN  \n",
       "3          NaN  \n",
       "4          NaN  "
      ]
     },
     "execution_count": 15,
     "metadata": {},
     "output_type": "execute_result"
    }
   ],
   "source": [
    "events.info()\n",
    "events.head()"
   ]
  },
  {
   "cell_type": "code",
   "execution_count": 16,
   "id": "14703b1c",
   "metadata": {},
   "outputs": [
    {
     "data": {
      "text/plain": [
       "36318"
      ]
     },
     "metadata": {},
     "output_type": "display_data"
    }
   ],
   "source": [
    "# Проверяем дубликаты в таблице events\n",
    "display (events.duplicated().sum())"
   ]
  },
  {
   "cell_type": "code",
   "execution_count": 17,
   "id": "b4a514d4",
   "metadata": {},
   "outputs": [
    {
     "data": {
      "text/plain": [
       "0"
      ]
     },
     "metadata": {},
     "output_type": "display_data"
    },
    {
     "name": "stdout",
     "output_type": "stream",
     "text": [
      "<class 'pandas.core.frame.DataFrame'>\n",
      "Int64Index: 750968 entries, 0 to 787285\n",
      "Data columns (total 4 columns):\n",
      " #   Column      Non-Null Count   Dtype         \n",
      "---  ------      --------------   -----         \n",
      " 0   user_id     750968 non-null  object        \n",
      " 1   event_dt    750968 non-null  datetime64[ns]\n",
      " 2   event_name  750968 non-null  object        \n",
      " 3   details     244905 non-null  object        \n",
      "dtypes: datetime64[ns](1), object(3)\n",
      "memory usage: 28.6+ MB\n"
     ]
    }
   ],
   "source": [
    "# В таблице найдено большое количество явных дубликатов, что может привести к некорректному анализу, поэтому удалим их\n",
    "events = events.drop_duplicates()\n",
    "display (events.duplicated().sum())\n",
    "events.info()"
   ]
  },
  {
   "cell_type": "markdown",
   "id": "ed76e653",
   "metadata": {},
   "source": [
    "Данные целостны, пропущенные значения наблюдается только в столбце details таблицы events и объясняются спецификой столбца, так как он включает в себя доп. данные о событии, что не обязательно для каждого события. Типы данных также релеванты для каждого столбца. В таблице events было найдено 36318 явных дубликатов, которые были удалены "
   ]
  },
  {
   "cell_type": "markdown",
   "id": "CnzA-efasUrk",
   "metadata": {
    "id": "CnzA-efasUrk"
   },
   "source": [
    "## 3. По таблице `ab_test_participants` оцените корректность проведения теста:\n",
    "\n",
    "   3\\.1 Выделите пользователей, участвующих в тесте, и проверьте:\n",
    "\n",
    "   - соответствие требованиям технического задания,\n",
    "\n",
    "   - равномерность распределения пользователей по группам теста,\n",
    "\n",
    "   - отсутствие пересечений с конкурирующим тестом (нет пользователей, участвующих одновременно в двух тестовых группах)."
   ]
  },
  {
   "cell_type": "code",
   "execution_count": 18,
   "id": "eb919516",
   "metadata": {},
   "outputs": [
    {
     "name": "stdout",
     "output_type": "stream",
     "text": [
      "<class 'pandas.core.frame.DataFrame'>\n",
      "Int64Index: 10850 entries, 0 to 14524\n",
      "Data columns (total 4 columns):\n",
      " #   Column   Non-Null Count  Dtype \n",
      "---  ------   --------------  ----- \n",
      " 0   user_id  10850 non-null  object\n",
      " 1   group    10850 non-null  object\n",
      " 2   ab_test  10850 non-null  object\n",
      " 3   device   10850 non-null  object\n",
      "dtypes: object(4)\n",
      "memory usage: 423.8+ KB\n"
     ]
    },
    {
     "data": {
      "text/html": [
       "<div>\n",
       "<style scoped>\n",
       "    .dataframe tbody tr th:only-of-type {\n",
       "        vertical-align: middle;\n",
       "    }\n",
       "\n",
       "    .dataframe tbody tr th {\n",
       "        vertical-align: top;\n",
       "    }\n",
       "\n",
       "    .dataframe thead th {\n",
       "        text-align: right;\n",
       "    }\n",
       "</style>\n",
       "<table border=\"1\" class=\"dataframe\">\n",
       "  <thead>\n",
       "    <tr style=\"text-align: right;\">\n",
       "      <th></th>\n",
       "      <th>user_id</th>\n",
       "      <th>group</th>\n",
       "      <th>ab_test</th>\n",
       "      <th>device</th>\n",
       "    </tr>\n",
       "  </thead>\n",
       "  <tbody>\n",
       "    <tr>\n",
       "      <th>0</th>\n",
       "      <td>0002CE61FF2C4011</td>\n",
       "      <td>B</td>\n",
       "      <td>interface_eu_test</td>\n",
       "      <td>Mac</td>\n",
       "    </tr>\n",
       "    <tr>\n",
       "      <th>2</th>\n",
       "      <td>001064FEAAB631A1</td>\n",
       "      <td>A</td>\n",
       "      <td>interface_eu_test</td>\n",
       "      <td>Android</td>\n",
       "    </tr>\n",
       "    <tr>\n",
       "      <th>4</th>\n",
       "      <td>001E72F50D1C48FA</td>\n",
       "      <td>A</td>\n",
       "      <td>interface_eu_test</td>\n",
       "      <td>Mac</td>\n",
       "    </tr>\n",
       "    <tr>\n",
       "      <th>5</th>\n",
       "      <td>002412F1EB3F6E38</td>\n",
       "      <td>B</td>\n",
       "      <td>interface_eu_test</td>\n",
       "      <td>Mac</td>\n",
       "    </tr>\n",
       "    <tr>\n",
       "      <th>6</th>\n",
       "      <td>002540BE89C930FB</td>\n",
       "      <td>B</td>\n",
       "      <td>interface_eu_test</td>\n",
       "      <td>Android</td>\n",
       "    </tr>\n",
       "  </tbody>\n",
       "</table>\n",
       "</div>"
      ],
      "text/plain": [
       "            user_id group            ab_test   device\n",
       "0  0002CE61FF2C4011     B  interface_eu_test      Mac\n",
       "2  001064FEAAB631A1     A  interface_eu_test  Android\n",
       "4  001E72F50D1C48FA     A  interface_eu_test      Mac\n",
       "5  002412F1EB3F6E38     B  interface_eu_test      Mac\n",
       "6  002540BE89C930FB     B  interface_eu_test  Android"
      ]
     },
     "execution_count": 18,
     "metadata": {},
     "output_type": "execute_result"
    }
   ],
   "source": [
    "# Выделяем пользователей, участвующих в тесте \n",
    "interface_eu_test = participants[participants['ab_test']=='interface_eu_test']\n",
    "interface_eu_test.info()\n",
    "interface_eu_test.head()"
   ]
  },
  {
   "cell_type": "code",
   "execution_count": 19,
   "id": "aNa3zHrKslEN",
   "metadata": {
    "id": "aNa3zHrKslEN"
   },
   "outputs": [
    {
     "data": {
      "text/plain": [
       "group\n",
       "A    5383\n",
       "B    5467\n",
       "Name: user_id, dtype: int64"
      ]
     },
     "metadata": {},
     "output_type": "display_data"
    }
   ],
   "source": [
    "# Проверяем равномерность распределения пользователей по группам \n",
    "display(interface_eu_test.groupby('group')['user_id'].nunique())"
   ]
  },
  {
   "cell_type": "code",
   "execution_count": 20,
   "id": "c30ae46a",
   "metadata": {},
   "outputs": [
    {
     "data": {
      "text/plain": [
       "49.61290322580645"
      ]
     },
     "metadata": {},
     "output_type": "display_data"
    },
    {
     "data": {
      "text/plain": [
       "50.38709677419355"
      ]
     },
     "metadata": {},
     "output_type": "display_data"
    }
   ],
   "source": [
    "\n",
    "display(100 * interface_eu_test[interface_eu_test['group'] == 'A']['user_id'].nunique() / interface_eu_test['user_id'].nunique(), 100 * interface_eu_test[interface_eu_test['group'] == 'B']['user_id'].nunique() / interface_eu_test['user_id'].nunique())\n"
   ]
  },
  {
   "cell_type": "code",
   "execution_count": 21,
   "id": "f70cd98b",
   "metadata": {
    "scrolled": true
   },
   "outputs": [
    {
     "data": {
      "image/png": "[encoded data removed]",
      "text/plain": [
       "<Figure size 720x576 with 1 Axes>"
      ]
     },
     "metadata": {
      "needs_background": "light"
     },
     "output_type": "display_data"
    }
   ],
   "source": [
    "# Визуализируем размер выборок \n",
    "plt.figure(figsize=(10, 8))\n",
    "interface_eu_test.groupby('group')['user_id'].nunique().plot(kind = 'bar')\n",
    "plt.title('Количество пользователей по группам')\n",
    "plt.xticks(rotation=0)\n",
    "plt.xlabel('Группа')\n",
    "plt.ylabel('Количество пользователей')\n",
    "plt.show()"
   ]
  },
  {
   "cell_type": "code",
   "execution_count": 22,
   "id": "327c8b4a",
   "metadata": {
    "scrolled": true
   },
   "outputs": [
    {
     "data": {
      "text/plain": [
       "[]"
      ]
     },
     "metadata": {},
     "output_type": "display_data"
    }
   ],
   "source": [
    "# Проверяем группы на пересечение в тесте interface_eu_test:\n",
    "a = interface_eu_test[interface_eu_test['group'] == 'A']['user_id']\n",
    "b = interface_eu_test[interface_eu_test['group'] == 'B']['user_id']\n",
    "\n",
    "intersection = list(set(a) & set(b))\n",
    "display(intersection)"
   ]
  },
  {
   "cell_type": "code",
   "execution_count": 23,
   "id": "6f039c8c",
   "metadata": {},
   "outputs": [
    {
     "data": {
      "text/plain": [
       "['23F551153080EBAB',\n",
       " 'E32D4C0315D6BFBE',\n",
       " '98D45D3A9D7E3911',\n",
       " '13AA9B89A2885F8E',\n",
       " '6B72CFAE1935C789',\n",
       " 'EA8341F38EFFE04C',\n",
       " '0A0141A363E2E051',\n",
       " 'A6E6ECF8E4924633',\n",
       " '430C998549E88DAE',\n",
       " 'EAFB9027A27D510C',\n",
       " '565EF59DDD36B95B',\n",
       " '82F72EC6CDC1BA8F',\n",
       " '13FBEB715F4AAE10',\n",
       " 'BF1EB8E6FA3F19B8',\n",
       " '3F52D53AB33C9FD6',\n",
       " '70CE04E185154AD7',\n",
       " 'BA98FD8F84C838C7',\n",
       " '63F5FC15B31DB5A6',\n",
       " 'EF449601C94D2496',\n",
       " '75013CAAF42E90A9',\n",
       " '0FBF679EA1340786',\n",
       " '6610064A4B2303D1',\n",
       " '928364C4C9F13FA8',\n",
       " '2D6A6472D7F46812',\n",
       " '4CF756542084F860',\n",
       " '0C2E77C6A381704A',\n",
       " '502902B3C32C72FF',\n",
       " 'A8C25A605F613665',\n",
       " '95401934D6D6D4FC',\n",
       " '59D9BD2A3172D3F4',\n",
       " 'F8564F547AFFC0B9',\n",
       " '47ADBF580CF107E1',\n",
       " 'FC2DA0D7EF375B27',\n",
       " '4122B8F30EB2271C',\n",
       " 'B3059CB4FD2DE0FA',\n",
       " '6786C23A54D59DD4',\n",
       " 'E68002AA33773AD5',\n",
       " '3DEA2F9B3EDA8B91',\n",
       " '24FB1A84E1C30291',\n",
       " '5207E56E697027E9',\n",
       " '902F92052587344F',\n",
       " 'BA9906DF9975512E',\n",
       " '3B3F68DC5779E517',\n",
       " '5B1F39B5D751B669',\n",
       " 'C89E24F4C723CEF4',\n",
       " 'C04E36E535A6F740',\n",
       " 'E1EA339E17C0D568',\n",
       " '067D05BD30F04F2E',\n",
       " 'BBE0583F0240AABB',\n",
       " 'D1DFCE26FF3C713F',\n",
       " 'A35BD08F60AC00B8',\n",
       " 'C74B6E95352ADE79',\n",
       " '4B34A5BD1D1AEF0D',\n",
       " '886E52074D084B18',\n",
       " '573EF5CB449265BE',\n",
       " 'F1B93BAE75EE0FB2',\n",
       " 'E0272BC86CC88DC7',\n",
       " '30DEB75B33B92DC8',\n",
       " 'D40A89E14F1C10BD',\n",
       " '3FAA6AD64C3B47E8',\n",
       " '72742C5F312A1FEC',\n",
       " '1B52830A832D33F5',\n",
       " 'E3780F6861A69868',\n",
       " '14AEC962812EB706',\n",
       " '9918D1C354A1383A',\n",
       " '993BDE69A0DE0391',\n",
       " 'BEF16764A13AEC34',\n",
       " 'A3D5BA3E276CD84C',\n",
       " 'D9BAC4C97F9C107F',\n",
       " 'CA6F4DAED160E5B1',\n",
       " 'FFF28D02B1EACBE1',\n",
       " 'F71DD44DAB783CEB',\n",
       " '1E7B931452B2F965',\n",
       " 'CF03E97B314C5632',\n",
       " 'B582D211C1BE1FFD',\n",
       " 'ABB61823786179CC',\n",
       " 'FEA0C585A53E7027',\n",
       " 'E7CC63BF20618321',\n",
       " 'EE9E527A761299B2',\n",
       " 'FE8F9858BBE502D9',\n",
       " 'C1E43A9B1D675927',\n",
       " 'BE0FDC8CC0D5455D',\n",
       " '115ABCFDBDDB5950',\n",
       " '53732758D90FB1E4',\n",
       " 'EE25BC8FA059151D',\n",
       " 'AEB9B39AE54D3598',\n",
       " '23E633E92EDCD195',\n",
       " '84AAB026310D49C4',\n",
       " '4FE90CB247C78EC5',\n",
       " '94464DF2E5398E26',\n",
       " '13AE4DFAC67ACEB3',\n",
       " '8FC9D1BB3017BE66',\n",
       " 'AE49EDDFB9DABE03',\n",
       " '65A30CEC01FAB999',\n",
       " 'C33D8C1C81C7AA23',\n",
       " 'DD9FB2652AE4ACBA',\n",
       " '8C69C35FB5E142F8',\n",
       " 'C7750723906C925A',\n",
       " '1D831F7D0F539AFA',\n",
       " '88FB1EDF3E249223',\n",
       " '7D8970118A695D48',\n",
       " '6A581C74EF4D5F44',\n",
       " '38189578561F38CB',\n",
       " '894A2506B3A50D03',\n",
       " '9F0571C70D4BD33B',\n",
       " 'CBDE46A45FD5E6A4',\n",
       " 'E391353FC3A4056D',\n",
       " 'C4F3A9D7BB596E6E',\n",
       " '1AD9F88DA92AC4E5',\n",
       " 'C0924D3FF1BEAA05',\n",
       " '3A6D88AB973BD99D',\n",
       " '8FF91E21E27A330D',\n",
       " '8FFA1D6F89AAEA40',\n",
       " '739656E0D7B50B30',\n",
       " 'DD4352CDCF8C3D57',\n",
       " '649CE5D5A38BFA8B']"
      ]
     },
     "metadata": {},
     "output_type": "display_data"
    }
   ],
   "source": [
    "# Проверяем есть ли пересения между пользователями в таблице participants, так как там содержится информация о проведении 2 тестов\n",
    "participants_b_r = participants[(participants['group'] == 'B') & (participants['ab_test'] == 'recommender_system_test')]\n",
    "\n",
    "r = participants_b_r['user_id']\n",
    "i = interface_eu_test[interface_eu_test['group'] == 'B']['user_id']\n",
    "intersection_tests = list(set(r) & set(i))\n",
    "display(intersection_tests)"
   ]
  },
  {
   "cell_type": "code",
   "execution_count": 24,
   "id": "6ee9fdeb",
   "metadata": {},
   "outputs": [],
   "source": [
    "# Пересечения найдены, для корректности дальнейшего теста необходимо их удалить \n",
    "interface_eu_test = interface_eu_test[~interface_eu_test['user_id'].isin(participants_b_r['user_id'])]"
   ]
  },
  {
   "cell_type": "markdown",
   "id": "840019f5",
   "metadata": {},
   "source": [
    "В тесте interface_eu_test значимых расхождения в размерах групп не обнаружено, также в группах не были обнаружены пересечения. Однако были обнаружены перессечения с конкурирующим тестов между участниками групп B, пользователеи, которые попали в два тесте сразу были удалены, так как невозможно обнаружить какие именно изменения повлияли на их активность."
   ]
  },
  {
   "cell_type": "markdown",
   "id": "GjulgSrlsqUU",
   "metadata": {
    "id": "GjulgSrlsqUU"
   },
   "source": [
    "3\\.2 Проанализируйте данные о пользовательской активности по таблице `ab_test_events`:\n",
    "\n",
    "- оставьте только события, связанные с участвующими в изучаемом тесте пользователями;"
   ]
  },
  {
   "cell_type": "code",
   "execution_count": 25,
   "id": "QMt0Ybo_swDK",
   "metadata": {
    "id": "QMt0Ybo_swDK"
   },
   "outputs": [
    {
     "name": "stdout",
     "output_type": "stream",
     "text": [
      "<class 'pandas.core.frame.DataFrame'>\n",
      "Int64Index: 72298 entries, 64672 to 780371\n",
      "Data columns (total 4 columns):\n",
      " #   Column      Non-Null Count  Dtype         \n",
      "---  ------      --------------  -----         \n",
      " 0   user_id     72298 non-null  object        \n",
      " 1   event_dt    72298 non-null  datetime64[ns]\n",
      " 2   event_name  72298 non-null  object        \n",
      " 3   details     20085 non-null  object        \n",
      "dtypes: datetime64[ns](1), object(3)\n",
      "memory usage: 2.8+ MB\n"
     ]
    },
    {
     "data": {
      "text/html": [
       "<div>\n",
       "<style scoped>\n",
       "    .dataframe tbody tr th:only-of-type {\n",
       "        vertical-align: middle;\n",
       "    }\n",
       "\n",
       "    .dataframe tbody tr th {\n",
       "        vertical-align: top;\n",
       "    }\n",
       "\n",
       "    .dataframe thead th {\n",
       "        text-align: right;\n",
       "    }\n",
       "</style>\n",
       "<table border=\"1\" class=\"dataframe\">\n",
       "  <thead>\n",
       "    <tr style=\"text-align: right;\">\n",
       "      <th></th>\n",
       "      <th>user_id</th>\n",
       "      <th>event_dt</th>\n",
       "      <th>event_name</th>\n",
       "      <th>details</th>\n",
       "    </tr>\n",
       "  </thead>\n",
       "  <tbody>\n",
       "    <tr>\n",
       "      <th>64672</th>\n",
       "      <td>5F506CEBEDC05D30</td>\n",
       "      <td>2020-12-06 14:10:01</td>\n",
       "      <td>registration</td>\n",
       "      <td>0.0</td>\n",
       "    </tr>\n",
       "    <tr>\n",
       "      <th>64946</th>\n",
       "      <td>51278A006E918D97</td>\n",
       "      <td>2020-12-06 14:37:25</td>\n",
       "      <td>registration</td>\n",
       "      <td>-3.8</td>\n",
       "    </tr>\n",
       "    <tr>\n",
       "      <th>66585</th>\n",
       "      <td>A0C1E8EFAD874D8B</td>\n",
       "      <td>2020-12-06 17:20:22</td>\n",
       "      <td>registration</td>\n",
       "      <td>-3.32</td>\n",
       "    </tr>\n",
       "    <tr>\n",
       "      <th>67873</th>\n",
       "      <td>275A8D6254ACF530</td>\n",
       "      <td>2020-12-06 19:36:54</td>\n",
       "      <td>registration</td>\n",
       "      <td>-0.48</td>\n",
       "    </tr>\n",
       "    <tr>\n",
       "      <th>67930</th>\n",
       "      <td>0B704EB2DC7FCA4B</td>\n",
       "      <td>2020-12-06 19:42:20</td>\n",
       "      <td>registration</td>\n",
       "      <td>0.0</td>\n",
       "    </tr>\n",
       "  </tbody>\n",
       "</table>\n",
       "</div>"
      ],
      "text/plain": [
       "                user_id            event_dt    event_name details\n",
       "64672  5F506CEBEDC05D30 2020-12-06 14:10:01  registration     0.0\n",
       "64946  51278A006E918D97 2020-12-06 14:37:25  registration    -3.8\n",
       "66585  A0C1E8EFAD874D8B 2020-12-06 17:20:22  registration   -3.32\n",
       "67873  275A8D6254ACF530 2020-12-06 19:36:54  registration   -0.48\n",
       "67930  0B704EB2DC7FCA4B 2020-12-06 19:42:20  registration     0.0"
      ]
     },
     "execution_count": 25,
     "metadata": {},
     "output_type": "execute_result"
    }
   ],
   "source": [
    "ab_test_events = events[events['user_id'].isin(interface_eu_test['user_id'])]\n",
    "ab_test_events.info()\n",
    "ab_test_events.head()"
   ]
  },
  {
   "cell_type": "markdown",
   "id": "fBZ4DC2xswZJ",
   "metadata": {
    "id": "fBZ4DC2xswZJ"
   },
   "source": [
    "- определите горизонт анализа: рассчитайте время (лайфтайм) совершения события пользователем после регистрации и оставьте только те события, которые были выполнены в течение первых семи дней с момента регистрации;"
   ]
  },
  {
   "cell_type": "code",
   "execution_count": 26,
   "id": "sES4-dKts0Yb",
   "metadata": {
    "id": "sES4-dKts0Yb"
   },
   "outputs": [
    {
     "data": {
      "text/html": [
       "<div>\n",
       "<style scoped>\n",
       "    .dataframe tbody tr th:only-of-type {\n",
       "        vertical-align: middle;\n",
       "    }\n",
       "\n",
       "    .dataframe tbody tr th {\n",
       "        vertical-align: top;\n",
       "    }\n",
       "\n",
       "    .dataframe thead th {\n",
       "        text-align: right;\n",
       "    }\n",
       "</style>\n",
       "<table border=\"1\" class=\"dataframe\">\n",
       "  <thead>\n",
       "    <tr style=\"text-align: right;\">\n",
       "      <th></th>\n",
       "      <th>user_id</th>\n",
       "      <th>registration_dt</th>\n",
       "    </tr>\n",
       "  </thead>\n",
       "  <tbody>\n",
       "    <tr>\n",
       "      <th>64672</th>\n",
       "      <td>5F506CEBEDC05D30</td>\n",
       "      <td>2020-12-06 14:10:01</td>\n",
       "    </tr>\n",
       "    <tr>\n",
       "      <th>64946</th>\n",
       "      <td>51278A006E918D97</td>\n",
       "      <td>2020-12-06 14:37:25</td>\n",
       "    </tr>\n",
       "    <tr>\n",
       "      <th>66585</th>\n",
       "      <td>A0C1E8EFAD874D8B</td>\n",
       "      <td>2020-12-06 17:20:22</td>\n",
       "    </tr>\n",
       "    <tr>\n",
       "      <th>67873</th>\n",
       "      <td>275A8D6254ACF530</td>\n",
       "      <td>2020-12-06 19:36:54</td>\n",
       "    </tr>\n",
       "    <tr>\n",
       "      <th>67930</th>\n",
       "      <td>0B704EB2DC7FCA4B</td>\n",
       "      <td>2020-12-06 19:42:20</td>\n",
       "    </tr>\n",
       "  </tbody>\n",
       "</table>\n",
       "</div>"
      ],
      "text/plain": [
       "                user_id     registration_dt\n",
       "64672  5F506CEBEDC05D30 2020-12-06 14:10:01\n",
       "64946  51278A006E918D97 2020-12-06 14:37:25\n",
       "66585  A0C1E8EFAD874D8B 2020-12-06 17:20:22\n",
       "67873  275A8D6254ACF530 2020-12-06 19:36:54\n",
       "67930  0B704EB2DC7FCA4B 2020-12-06 19:42:20"
      ]
     },
     "execution_count": 26,
     "metadata": {},
     "output_type": "execute_result"
    }
   ],
   "source": [
    "# Выводим дату регистрации для пользователей \n",
    "registration_user = ab_test_events[ab_test_events['event_name']=='registration'][['user_id','event_dt']]\n",
    "# Переименуем столбцы \n",
    "registration_user = registration_user.rename(columns={'event_dt':'registration_dt'})\n",
    "registration_user.head()"
   ]
  },
  {
   "cell_type": "code",
   "execution_count": 27,
   "id": "841f34b2",
   "metadata": {},
   "outputs": [
    {
     "data": {
      "text/html": [
       "<div>\n",
       "<style scoped>\n",
       "    .dataframe tbody tr th:only-of-type {\n",
       "        vertical-align: middle;\n",
       "    }\n",
       "\n",
       "    .dataframe tbody tr th {\n",
       "        vertical-align: top;\n",
       "    }\n",
       "\n",
       "    .dataframe thead th {\n",
       "        text-align: right;\n",
       "    }\n",
       "</style>\n",
       "<table border=\"1\" class=\"dataframe\">\n",
       "  <thead>\n",
       "    <tr style=\"text-align: right;\">\n",
       "      <th></th>\n",
       "      <th>user_id</th>\n",
       "      <th>event_dt</th>\n",
       "      <th>event_name</th>\n",
       "      <th>details</th>\n",
       "      <th>registration_dt</th>\n",
       "    </tr>\n",
       "  </thead>\n",
       "  <tbody>\n",
       "    <tr>\n",
       "      <th>0</th>\n",
       "      <td>5F506CEBEDC05D30</td>\n",
       "      <td>2020-12-06 14:10:01</td>\n",
       "      <td>registration</td>\n",
       "      <td>0.0</td>\n",
       "      <td>2020-12-06 14:10:01</td>\n",
       "    </tr>\n",
       "    <tr>\n",
       "      <th>1</th>\n",
       "      <td>51278A006E918D97</td>\n",
       "      <td>2020-12-06 14:37:25</td>\n",
       "      <td>registration</td>\n",
       "      <td>-3.8</td>\n",
       "      <td>2020-12-06 14:37:25</td>\n",
       "    </tr>\n",
       "    <tr>\n",
       "      <th>2</th>\n",
       "      <td>A0C1E8EFAD874D8B</td>\n",
       "      <td>2020-12-06 17:20:22</td>\n",
       "      <td>registration</td>\n",
       "      <td>-3.32</td>\n",
       "      <td>2020-12-06 17:20:22</td>\n",
       "    </tr>\n",
       "    <tr>\n",
       "      <th>3</th>\n",
       "      <td>275A8D6254ACF530</td>\n",
       "      <td>2020-12-06 19:36:54</td>\n",
       "      <td>registration</td>\n",
       "      <td>-0.48</td>\n",
       "      <td>2020-12-06 19:36:54</td>\n",
       "    </tr>\n",
       "    <tr>\n",
       "      <th>4</th>\n",
       "      <td>0B704EB2DC7FCA4B</td>\n",
       "      <td>2020-12-06 19:42:20</td>\n",
       "      <td>registration</td>\n",
       "      <td>0.0</td>\n",
       "      <td>2020-12-06 19:42:20</td>\n",
       "    </tr>\n",
       "  </tbody>\n",
       "</table>\n",
       "</div>"
      ],
      "text/plain": [
       "            user_id            event_dt    event_name details  \\\n",
       "0  5F506CEBEDC05D30 2020-12-06 14:10:01  registration     0.0   \n",
       "1  51278A006E918D97 2020-12-06 14:37:25  registration    -3.8   \n",
       "2  A0C1E8EFAD874D8B 2020-12-06 17:20:22  registration   -3.32   \n",
       "3  275A8D6254ACF530 2020-12-06 19:36:54  registration   -0.48   \n",
       "4  0B704EB2DC7FCA4B 2020-12-06 19:42:20  registration     0.0   \n",
       "\n",
       "      registration_dt  \n",
       "0 2020-12-06 14:10:01  \n",
       "1 2020-12-06 14:37:25  \n",
       "2 2020-12-06 17:20:22  \n",
       "3 2020-12-06 19:36:54  \n",
       "4 2020-12-06 19:42:20  "
      ]
     },
     "execution_count": 27,
     "metadata": {},
     "output_type": "execute_result"
    }
   ],
   "source": [
    "# Объединяем датафреймы \n",
    "df = ab_test_events.merge(registration_user, on = 'user_id', how = 'left')\n",
    "df.head()"
   ]
  },
  {
   "cell_type": "code",
   "execution_count": 28,
   "id": "22b5ac32",
   "metadata": {},
   "outputs": [
    {
     "data": {
      "text/html": [
       "<div>\n",
       "<style scoped>\n",
       "    .dataframe tbody tr th:only-of-type {\n",
       "        vertical-align: middle;\n",
       "    }\n",
       "\n",
       "    .dataframe tbody tr th {\n",
       "        vertical-align: top;\n",
       "    }\n",
       "\n",
       "    .dataframe thead th {\n",
       "        text-align: right;\n",
       "    }\n",
       "</style>\n",
       "<table border=\"1\" class=\"dataframe\">\n",
       "  <thead>\n",
       "    <tr style=\"text-align: right;\">\n",
       "      <th></th>\n",
       "      <th>user_id</th>\n",
       "      <th>event_dt</th>\n",
       "      <th>event_name</th>\n",
       "      <th>details</th>\n",
       "      <th>registration_dt</th>\n",
       "      <th>difference</th>\n",
       "    </tr>\n",
       "  </thead>\n",
       "  <tbody>\n",
       "    <tr>\n",
       "      <th>0</th>\n",
       "      <td>5F506CEBEDC05D30</td>\n",
       "      <td>2020-12-06 14:10:01</td>\n",
       "      <td>registration</td>\n",
       "      <td>0.0</td>\n",
       "      <td>2020-12-06 14:10:01</td>\n",
       "      <td>0</td>\n",
       "    </tr>\n",
       "    <tr>\n",
       "      <th>1</th>\n",
       "      <td>51278A006E918D97</td>\n",
       "      <td>2020-12-06 14:37:25</td>\n",
       "      <td>registration</td>\n",
       "      <td>-3.8</td>\n",
       "      <td>2020-12-06 14:37:25</td>\n",
       "      <td>0</td>\n",
       "    </tr>\n",
       "    <tr>\n",
       "      <th>2</th>\n",
       "      <td>A0C1E8EFAD874D8B</td>\n",
       "      <td>2020-12-06 17:20:22</td>\n",
       "      <td>registration</td>\n",
       "      <td>-3.32</td>\n",
       "      <td>2020-12-06 17:20:22</td>\n",
       "      <td>0</td>\n",
       "    </tr>\n",
       "    <tr>\n",
       "      <th>3</th>\n",
       "      <td>275A8D6254ACF530</td>\n",
       "      <td>2020-12-06 19:36:54</td>\n",
       "      <td>registration</td>\n",
       "      <td>-0.48</td>\n",
       "      <td>2020-12-06 19:36:54</td>\n",
       "      <td>0</td>\n",
       "    </tr>\n",
       "    <tr>\n",
       "      <th>4</th>\n",
       "      <td>0B704EB2DC7FCA4B</td>\n",
       "      <td>2020-12-06 19:42:20</td>\n",
       "      <td>registration</td>\n",
       "      <td>0.0</td>\n",
       "      <td>2020-12-06 19:42:20</td>\n",
       "      <td>0</td>\n",
       "    </tr>\n",
       "  </tbody>\n",
       "</table>\n",
       "</div>"
      ],
      "text/plain": [
       "            user_id            event_dt    event_name details  \\\n",
       "0  5F506CEBEDC05D30 2020-12-06 14:10:01  registration     0.0   \n",
       "1  51278A006E918D97 2020-12-06 14:37:25  registration    -3.8   \n",
       "2  A0C1E8EFAD874D8B 2020-12-06 17:20:22  registration   -3.32   \n",
       "3  275A8D6254ACF530 2020-12-06 19:36:54  registration   -0.48   \n",
       "4  0B704EB2DC7FCA4B 2020-12-06 19:42:20  registration     0.0   \n",
       "\n",
       "      registration_dt  difference  \n",
       "0 2020-12-06 14:10:01           0  \n",
       "1 2020-12-06 14:37:25           0  \n",
       "2 2020-12-06 17:20:22           0  \n",
       "3 2020-12-06 19:36:54           0  \n",
       "4 2020-12-06 19:42:20           0  "
      ]
     },
     "execution_count": 28,
     "metadata": {},
     "output_type": "execute_result"
    }
   ],
   "source": [
    "# Рассчитываем разницу между датой регистрации и первым событием \n",
    "df['difference'] = (df['event_dt']-df['registration_dt']).dt.days\n",
    "df.head()"
   ]
  },
  {
   "cell_type": "code",
   "execution_count": 29,
   "id": "1c9ceef8",
   "metadata": {},
   "outputs": [],
   "source": [
    "# Оставляем только те данные, где прошло не больше 7 дней с момента регистрации \n",
    "df = df[df['difference']<7]"
   ]
  },
  {
   "cell_type": "code",
   "execution_count": 30,
   "id": "3f98e653",
   "metadata": {},
   "outputs": [
    {
     "name": "stdout",
     "output_type": "stream",
     "text": [
      "<class 'pandas.core.frame.DataFrame'>\n",
      "Int64Index: 62383 entries, 0 to 72276\n",
      "Data columns (total 6 columns):\n",
      " #   Column           Non-Null Count  Dtype         \n",
      "---  ------           --------------  -----         \n",
      " 0   user_id          62383 non-null  object        \n",
      " 1   event_dt         62383 non-null  datetime64[ns]\n",
      " 2   event_name       62383 non-null  object        \n",
      " 3   details          16815 non-null  object        \n",
      " 4   registration_dt  62383 non-null  datetime64[ns]\n",
      " 5   difference       62383 non-null  int64         \n",
      "dtypes: datetime64[ns](2), int64(1), object(3)\n",
      "memory usage: 3.3+ MB\n"
     ]
    },
    {
     "data": {
      "text/html": [
       "<div>\n",
       "<style scoped>\n",
       "    .dataframe tbody tr th:only-of-type {\n",
       "        vertical-align: middle;\n",
       "    }\n",
       "\n",
       "    .dataframe tbody tr th {\n",
       "        vertical-align: top;\n",
       "    }\n",
       "\n",
       "    .dataframe thead th {\n",
       "        text-align: right;\n",
       "    }\n",
       "</style>\n",
       "<table border=\"1\" class=\"dataframe\">\n",
       "  <thead>\n",
       "    <tr style=\"text-align: right;\">\n",
       "      <th></th>\n",
       "      <th>user_id</th>\n",
       "      <th>event_dt</th>\n",
       "      <th>event_name</th>\n",
       "      <th>details</th>\n",
       "      <th>registration_dt</th>\n",
       "      <th>difference</th>\n",
       "    </tr>\n",
       "  </thead>\n",
       "  <tbody>\n",
       "    <tr>\n",
       "      <th>0</th>\n",
       "      <td>5F506CEBEDC05D30</td>\n",
       "      <td>2020-12-06 14:10:01</td>\n",
       "      <td>registration</td>\n",
       "      <td>0.0</td>\n",
       "      <td>2020-12-06 14:10:01</td>\n",
       "      <td>0</td>\n",
       "    </tr>\n",
       "    <tr>\n",
       "      <th>1</th>\n",
       "      <td>51278A006E918D97</td>\n",
       "      <td>2020-12-06 14:37:25</td>\n",
       "      <td>registration</td>\n",
       "      <td>-3.8</td>\n",
       "      <td>2020-12-06 14:37:25</td>\n",
       "      <td>0</td>\n",
       "    </tr>\n",
       "    <tr>\n",
       "      <th>2</th>\n",
       "      <td>A0C1E8EFAD874D8B</td>\n",
       "      <td>2020-12-06 17:20:22</td>\n",
       "      <td>registration</td>\n",
       "      <td>-3.32</td>\n",
       "      <td>2020-12-06 17:20:22</td>\n",
       "      <td>0</td>\n",
       "    </tr>\n",
       "    <tr>\n",
       "      <th>3</th>\n",
       "      <td>275A8D6254ACF530</td>\n",
       "      <td>2020-12-06 19:36:54</td>\n",
       "      <td>registration</td>\n",
       "      <td>-0.48</td>\n",
       "      <td>2020-12-06 19:36:54</td>\n",
       "      <td>0</td>\n",
       "    </tr>\n",
       "    <tr>\n",
       "      <th>4</th>\n",
       "      <td>0B704EB2DC7FCA4B</td>\n",
       "      <td>2020-12-06 19:42:20</td>\n",
       "      <td>registration</td>\n",
       "      <td>0.0</td>\n",
       "      <td>2020-12-06 19:42:20</td>\n",
       "      <td>0</td>\n",
       "    </tr>\n",
       "  </tbody>\n",
       "</table>\n",
       "</div>"
      ],
      "text/plain": [
       "            user_id            event_dt    event_name details  \\\n",
       "0  5F506CEBEDC05D30 2020-12-06 14:10:01  registration     0.0   \n",
       "1  51278A006E918D97 2020-12-06 14:37:25  registration    -3.8   \n",
       "2  A0C1E8EFAD874D8B 2020-12-06 17:20:22  registration   -3.32   \n",
       "3  275A8D6254ACF530 2020-12-06 19:36:54  registration   -0.48   \n",
       "4  0B704EB2DC7FCA4B 2020-12-06 19:42:20  registration     0.0   \n",
       "\n",
       "      registration_dt  difference  \n",
       "0 2020-12-06 14:10:01           0  \n",
       "1 2020-12-06 14:37:25           0  \n",
       "2 2020-12-06 17:20:22           0  \n",
       "3 2020-12-06 19:36:54           0  \n",
       "4 2020-12-06 19:42:20           0  "
      ]
     },
     "execution_count": 30,
     "metadata": {},
     "output_type": "execute_result"
    }
   ],
   "source": [
    "df.info()\n",
    "df.head()"
   ]
  },
  {
   "cell_type": "markdown",
   "id": "7cf1df48",
   "metadata": {},
   "source": [
    "Оцените достаточность выборки для получения статистически значимых результатов A/B-теста. Заданные параметры:\n",
    "\n",
    "- базовый показатель конверсии — 30%,\n",
    "\n",
    "- мощность теста — 80%,\n",
    "\n",
    "- достоверность теста — 95%.\n",
    "\n",
    "- Ожидаемый припрост - 3 п.п."
   ]
  },
  {
   "cell_type": "code",
   "execution_count": 31,
   "id": "7d97b466",
   "metadata": {},
   "outputs": [
    {
     "name": "stdout",
     "output_type": "stream",
     "text": [
      "Необходимый размер выборки для каждой группы: 2963\n"
     ]
    }
   ],
   "source": [
    "alpha = 0.05  # Уровень значимости\n",
    "beta = 0.2  # Ошибка второго рода, часто 1 - мощность\n",
    "power = 0.8 # Мощность теста\n",
    "p = 0.3  # Показатель конверсии\n",
    "mde = 0.03  # Минимальный детектируемый эффект\n",
    "\n",
    "# Инициализируем класс NormalIndPower\n",
    "power_analysis = NormalIndPower()\n",
    "\n",
    "# Рассчитываем размер выборки\n",
    "sample_size = power_analysis.solve_power(\n",
    "    effect_size = abs(2 * (np.arcsin(np.sqrt(p)) - np.arcsin(np.sqrt(p + mde)))),\n",
    "    power = power,\n",
    "    alpha = alpha,\n",
    "    ratio = 1,\n",
    "    alternative='larger'# Равномерное распределение выборок\n",
    ")\n",
    "\n",
    "print(f\"Необходимый размер выборки для каждой группы: {int(sample_size)}\")"
   ]
  },
  {
   "cell_type": "markdown",
   "id": "5f31e596",
   "metadata": {},
   "source": [
    "Необходимый размер выборки для каждой группы: 2963. Тест проводится корректно, так как на каждую группу получается чуть больше 5к пользователей, это значит, что проведенный тест имеет достаточную мощность и снижается риск ошибки второго рода."
   ]
  },
  {
   "cell_type": "markdown",
   "id": "SadyUDgZs0t3",
   "metadata": {
    "id": "SadyUDgZs0t3"
   },
   "source": [
    "- рассчитайте для каждой группы количество посетителей, сделавших покупку, и общее количество посетителей."
   ]
  },
  {
   "cell_type": "code",
   "execution_count": 32,
   "id": "7ph853Xks4sy",
   "metadata": {
    "id": "7ph853Xks4sy"
   },
   "outputs": [
    {
     "data": {
      "text/html": [
       "<div>\n",
       "<style scoped>\n",
       "    .dataframe tbody tr th:only-of-type {\n",
       "        vertical-align: middle;\n",
       "    }\n",
       "\n",
       "    .dataframe tbody tr th {\n",
       "        vertical-align: top;\n",
       "    }\n",
       "\n",
       "    .dataframe thead th {\n",
       "        text-align: right;\n",
       "    }\n",
       "</style>\n",
       "<table border=\"1\" class=\"dataframe\">\n",
       "  <thead>\n",
       "    <tr style=\"text-align: right;\">\n",
       "      <th></th>\n",
       "      <th>user_id</th>\n",
       "      <th>group</th>\n",
       "      <th>ab_test</th>\n",
       "      <th>device</th>\n",
       "      <th>event_dt</th>\n",
       "      <th>event_name</th>\n",
       "      <th>details</th>\n",
       "      <th>registration_dt</th>\n",
       "      <th>difference</th>\n",
       "    </tr>\n",
       "  </thead>\n",
       "  <tbody>\n",
       "    <tr>\n",
       "      <th>0</th>\n",
       "      <td>0002CE61FF2C4011</td>\n",
       "      <td>B</td>\n",
       "      <td>interface_eu_test</td>\n",
       "      <td>Mac</td>\n",
       "      <td>2020-12-07 04:37:31</td>\n",
       "      <td>registration</td>\n",
       "      <td>-2.38</td>\n",
       "      <td>2020-12-07 04:37:31</td>\n",
       "      <td>0</td>\n",
       "    </tr>\n",
       "    <tr>\n",
       "      <th>1</th>\n",
       "      <td>0002CE61FF2C4011</td>\n",
       "      <td>B</td>\n",
       "      <td>interface_eu_test</td>\n",
       "      <td>Mac</td>\n",
       "      <td>2020-12-07 04:37:49</td>\n",
       "      <td>login</td>\n",
       "      <td>NaN</td>\n",
       "      <td>2020-12-07 04:37:31</td>\n",
       "      <td>0</td>\n",
       "    </tr>\n",
       "    <tr>\n",
       "      <th>2</th>\n",
       "      <td>0002CE61FF2C4011</td>\n",
       "      <td>B</td>\n",
       "      <td>interface_eu_test</td>\n",
       "      <td>Mac</td>\n",
       "      <td>2020-12-07 04:37:57</td>\n",
       "      <td>login</td>\n",
       "      <td>NaN</td>\n",
       "      <td>2020-12-07 04:37:31</td>\n",
       "      <td>0</td>\n",
       "    </tr>\n",
       "    <tr>\n",
       "      <th>3</th>\n",
       "      <td>0002CE61FF2C4011</td>\n",
       "      <td>B</td>\n",
       "      <td>interface_eu_test</td>\n",
       "      <td>Mac</td>\n",
       "      <td>2020-12-07 04:38:54</td>\n",
       "      <td>login</td>\n",
       "      <td>NaN</td>\n",
       "      <td>2020-12-07 04:37:31</td>\n",
       "      <td>0</td>\n",
       "    </tr>\n",
       "    <tr>\n",
       "      <th>4</th>\n",
       "      <td>0002CE61FF2C4011</td>\n",
       "      <td>B</td>\n",
       "      <td>interface_eu_test</td>\n",
       "      <td>Mac</td>\n",
       "      <td>2020-12-08 22:15:35</td>\n",
       "      <td>login</td>\n",
       "      <td>NaN</td>\n",
       "      <td>2020-12-07 04:37:31</td>\n",
       "      <td>1</td>\n",
       "    </tr>\n",
       "  </tbody>\n",
       "</table>\n",
       "</div>"
      ],
      "text/plain": [
       "            user_id group            ab_test device            event_dt  \\\n",
       "0  0002CE61FF2C4011     B  interface_eu_test    Mac 2020-12-07 04:37:31   \n",
       "1  0002CE61FF2C4011     B  interface_eu_test    Mac 2020-12-07 04:37:49   \n",
       "2  0002CE61FF2C4011     B  interface_eu_test    Mac 2020-12-07 04:37:57   \n",
       "3  0002CE61FF2C4011     B  interface_eu_test    Mac 2020-12-07 04:38:54   \n",
       "4  0002CE61FF2C4011     B  interface_eu_test    Mac 2020-12-08 22:15:35   \n",
       "\n",
       "     event_name details     registration_dt  difference  \n",
       "0  registration   -2.38 2020-12-07 04:37:31           0  \n",
       "1         login     NaN 2020-12-07 04:37:31           0  \n",
       "2         login     NaN 2020-12-07 04:37:31           0  \n",
       "3         login     NaN 2020-12-07 04:37:31           0  \n",
       "4         login     NaN 2020-12-07 04:37:31           1  "
      ]
     },
     "execution_count": 32,
     "metadata": {},
     "output_type": "execute_result"
    }
   ],
   "source": [
    "# Объединяем датафреймы \n",
    "df_all = interface_eu_test.merge(df, on = 'user_id', how = 'left')\n",
    "df_all.head()"
   ]
  },
  {
   "cell_type": "code",
   "execution_count": 33,
   "id": "4eb91cda",
   "metadata": {},
   "outputs": [
    {
     "data": {
      "text/plain": [
       "group\n",
       "A    5277\n",
       "B    5351\n",
       "Name: user_id, dtype: int64"
      ]
     },
     "metadata": {},
     "output_type": "display_data"
    },
    {
     "data": {
      "text/plain": [
       "group\n",
       "A    1454\n",
       "B    1579\n",
       "Name: user_id, dtype: int64"
      ]
     },
     "metadata": {},
     "output_type": "display_data"
    },
    {
     "data": {
      "text/plain": [
       "group\n",
       "A    0.275535\n",
       "B    0.295085\n",
       "Name: user_id, dtype: float64"
      ]
     },
     "metadata": {},
     "output_type": "display_data"
    }
   ],
   "source": [
    "# Рассчитываем количество всех пользователей и тех, кто совершил покупку \n",
    "all_users = df_all.groupby('group')['user_id'].nunique()\n",
    "buyers = df_all[df_all['event_name']=='purchase'].groupby('group')['user_id'].nunique()\n",
    "share_buyers = buyers/all_users\n",
    "display(all_users, buyers, share_buyers)"
   ]
  },
  {
   "cell_type": "markdown",
   "id": "sh1JpGvAs5E3",
   "metadata": {
    "id": "sh1JpGvAs5E3"
   },
   "source": [
    "- сделайте предварительный общий вывод об изменении пользовательской активности в тестовой группе по сравнению с контрольной."
   ]
  },
  {
   "cell_type": "markdown",
   "id": "91909497",
   "metadata": {
    "id": "hHTHPkJYs8mE"
   },
   "source": [
    "Предварительно можно сделать вывод о том, что среди пользователей, которые используют новую версию сайта конверсия в покупку выше, чем в другой группе. Однако прироста в предполагаемые 3 п.п. не наблюдается."
   ]
  },
  {
   "cell_type": "markdown",
   "id": "IKZ1Oo3Ws919",
   "metadata": {
    "id": "IKZ1Oo3Ws919"
   },
   "source": [
    "## 4. Проведите оценку результатов A/B-тестирования:"
   ]
  },
  {
   "cell_type": "markdown",
   "id": "dcUdBSmvtC-E",
   "metadata": {
    "id": "dcUdBSmvtC-E"
   },
   "source": [
    "- Проверьте изменение конверсии подходящим статистическим тестом, учитывая все этапы проверки гипотез."
   ]
  },
  {
   "cell_type": "markdown",
   "id": "1206d83f",
   "metadata": {},
   "source": [
    "H0 - Конверсия в покупку в тестовой группе не выше, чем в контрольной.\n",
    "\n",
    "Н1 - Конверсия в покупку в тестовой группе выше, чем в контрольной."
   ]
  },
  {
   "cell_type": "code",
   "execution_count": 34,
   "id": "24caa969",
   "metadata": {
    "id": "l_KOziBQtL3t"
   },
   "outputs": [
    {
     "name": "stdout",
     "output_type": "stream",
     "text": [
      "pvalue=0.01282747194234516 < 0.05\n",
      "Отвергаем нулевую гипотезу\n"
     ]
    }
   ],
   "source": [
    "# Считаем размеры выборок для применения z теста пропорций \n",
    "n_a = df_all[df_all['group']=='A']['user_id'].nunique()\n",
    "n_b =  df_all[df_all['group']=='B']['user_id'].nunique()\n",
    "# Считаем количество успехов в выборках для применения z теста пропорций \n",
    "m_a = df_all[(df_all['group'] == 'A') & (df_all['event_name'] == 'purchase')]['user_id'].nunique()\n",
    "m_b = df_all[(df_all['group'] == 'B') & (df_all['event_name'] == 'purchase')]['user_id'].nunique()\n",
    "\n",
    "#Применяем z тест пропорций\n",
    "stat_ztest, p_value_ztest = proportions_ztest(\n",
    "    [m_b ,m_a],\n",
    "    [n_b, n_a],\n",
    "    alternative = 'larger'\n",
    ")\n",
    "alpha = 0.05\n",
    "if p_value_ztest > alpha:\n",
    "    print(f'pvalue={p_value_ztest} > {alpha}')\n",
    "    print('Не получилось отвергнуть нулевую гипотезу')\n",
    "else:\n",
    "    print(f'pvalue={p_value_ztest} < {alpha}')\n",
    "    print('Отвергаем нулевую гипотезу')"
   ]
  },
  {
   "cell_type": "markdown",
   "id": "9jkyKOjgtGoc",
   "metadata": {
    "id": "9jkyKOjgtGoc"
   },
   "source": [
    "Гипотеза находит свое подтверждения по результатам z-теста пропорций, что говорит о положительном влиянии изменений на сайте. Пользователи чаще совершают покупку, чем те, что пользуются старой версией сайта. \n",
    "\n",
    "Z-тест пропорций был выбран, так как конверсия в покупку - долевая метрика \n",
    "\n",
    "pvalue=0.01282747194234516\n",
    "\n",
    "Нулевая гипотеза была отвергнута \n",
    "\n",
    "Нововедения в приложения показали свою эффективности, однако, как мы отметили выше, нововведение показало рост на 2 п.п., а не на 3 п.п., как ожидалось ранее. Целесообразности их внедрения изменений необходимо проверять еще раз. "
   ]
  }
 ],
 "metadata": {
  "ExecuteTimeLog": [
   {
    "duration": 383,
    "start_time": "2025-05-29T10:57:34.495Z"
   },
   {
    "duration": 100,
    "start_time": "2025-05-29T10:58:29.490Z"
   },
   {
    "duration": 552,
    "start_time": "2025-05-29T10:58:45.126Z"
   },
   {
    "duration": 1187,
    "start_time": "2025-05-29T10:58:55.475Z"
   },
   {
    "duration": 773,
    "start_time": "2025-05-29T10:59:16.240Z"
   },
   {
    "duration": 58,
    "start_time": "2025-05-29T10:59:56.210Z"
   },
   {
    "duration": 313,
    "start_time": "2025-05-29T11:00:28.235Z"
   },
   {
    "duration": 2,
    "start_time": "2025-05-29T11:05:26.267Z"
   },
   {
    "duration": 2,
    "start_time": "2025-05-29T11:05:26.450Z"
   },
   {
    "duration": 3,
    "start_time": "2025-05-29T11:05:26.990Z"
   },
   {
    "duration": 238,
    "start_time": "2025-05-29T11:05:27.550Z"
   },
   {
    "duration": 6,
    "start_time": "2025-05-29T11:57:36.340Z"
   },
   {
    "duration": 4,
    "start_time": "2025-05-29T11:57:51.547Z"
   },
   {
    "duration": 65,
    "start_time": "2025-05-29T11:58:43.557Z"
   },
   {
    "duration": 4,
    "start_time": "2025-05-29T11:58:46.596Z"
   },
   {
    "duration": 1562,
    "start_time": "2025-05-29T11:58:57.118Z"
   },
   {
    "duration": 916,
    "start_time": "2025-05-29T11:59:11.411Z"
   },
   {
    "duration": 909,
    "start_time": "2025-05-29T11:59:44.223Z"
   },
   {
    "duration": 936,
    "start_time": "2025-05-29T12:02:31.994Z"
   },
   {
    "duration": 9,
    "start_time": "2025-05-29T12:02:39.208Z"
   },
   {
    "duration": 7,
    "start_time": "2025-05-29T12:08:17.269Z"
   },
   {
    "duration": 7,
    "start_time": "2025-05-29T12:09:31.289Z"
   },
   {
    "duration": 3,
    "start_time": "2025-05-29T12:09:34.414Z"
   },
   {
    "duration": 68,
    "start_time": "2025-05-29T12:09:34.795Z"
   },
   {
    "duration": 7,
    "start_time": "2025-05-29T12:09:35.171Z"
   },
   {
    "duration": 6,
    "start_time": "2025-05-29T12:10:20.294Z"
   },
   {
    "duration": 13,
    "start_time": "2025-05-29T12:10:22.263Z"
   },
   {
    "duration": 7,
    "start_time": "2025-05-29T12:10:37.718Z"
   },
   {
    "duration": 6,
    "start_time": "2025-05-29T12:10:49.092Z"
   },
   {
    "duration": 7,
    "start_time": "2025-05-29T12:10:49.419Z"
   },
   {
    "duration": 6,
    "start_time": "2025-05-29T12:12:08.100Z"
   },
   {
    "duration": 6,
    "start_time": "2025-05-29T12:14:04.415Z"
   },
   {
    "duration": 449,
    "start_time": "2025-05-29T12:53:06.370Z"
   },
   {
    "duration": 66,
    "start_time": "2025-05-29T12:53:06.821Z"
   },
   {
    "duration": 6,
    "start_time": "2025-05-29T12:53:06.888Z"
   },
   {
    "duration": 19,
    "start_time": "2025-05-29T12:53:06.896Z"
   },
   {
    "duration": 6,
    "start_time": "2025-05-29T12:53:07.242Z"
   },
   {
    "duration": 6,
    "start_time": "2025-05-29T12:53:07.656Z"
   },
   {
    "duration": 133,
    "start_time": "2025-05-29T12:54:21.405Z"
   },
   {
    "duration": 11,
    "start_time": "2025-05-29T12:54:29.645Z"
   },
   {
    "duration": 109,
    "start_time": "2025-05-29T12:54:41.668Z"
   },
   {
    "duration": 102,
    "start_time": "2025-05-29T12:54:50.889Z"
   },
   {
    "duration": 202,
    "start_time": "2025-05-29T12:55:37.263Z"
   },
   {
    "duration": 141,
    "start_time": "2025-05-29T12:55:43.453Z"
   },
   {
    "duration": 140,
    "start_time": "2025-05-29T12:56:16.203Z"
   },
   {
    "duration": 124,
    "start_time": "2025-05-29T12:56:28.519Z"
   },
   {
    "duration": 9,
    "start_time": "2025-05-29T13:01:17.603Z"
   },
   {
    "duration": 10,
    "start_time": "2025-05-29T13:01:43.962Z"
   },
   {
    "duration": 6,
    "start_time": "2025-05-29T13:01:52.566Z"
   },
   {
    "duration": 6,
    "start_time": "2025-05-29T13:07:59.419Z"
   },
   {
    "duration": 12,
    "start_time": "2025-05-29T13:08:10.852Z"
   },
   {
    "duration": 134,
    "start_time": "2025-05-29T13:08:36.529Z"
   },
   {
    "duration": 5,
    "start_time": "2025-05-29T13:09:08.248Z"
   },
   {
    "duration": 155,
    "start_time": "2025-05-29T13:09:16.423Z"
   },
   {
    "duration": 6,
    "start_time": "2025-05-29T13:12:19.203Z"
   },
   {
    "duration": 130,
    "start_time": "2025-05-29T13:14:10.629Z"
   },
   {
    "duration": 35,
    "start_time": "2025-05-29T13:20:30.351Z"
   },
   {
    "duration": 508,
    "start_time": "2025-05-29T13:20:49.399Z"
   },
   {
    "duration": 351,
    "start_time": "2025-05-29T13:20:49.924Z"
   },
   {
    "duration": 7,
    "start_time": "2025-05-29T13:20:50.545Z"
   },
   {
    "duration": 9,
    "start_time": "2025-05-29T13:20:50.733Z"
   },
   {
    "duration": 8,
    "start_time": "2025-05-29T13:20:50.875Z"
   },
   {
    "duration": 6,
    "start_time": "2025-05-29T13:20:51.017Z"
   },
   {
    "duration": 128,
    "start_time": "2025-05-29T13:20:51.145Z"
   },
   {
    "duration": 7,
    "start_time": "2025-05-29T13:20:51.407Z"
   },
   {
    "duration": 124,
    "start_time": "2025-05-29T13:20:51.599Z"
   },
   {
    "duration": 40,
    "start_time": "2025-05-29T13:20:52.739Z"
   },
   {
    "duration": 13,
    "start_time": "2025-05-29T13:21:08.287Z"
   },
   {
    "duration": 11,
    "start_time": "2025-05-29T13:21:19.778Z"
   },
   {
    "duration": 10,
    "start_time": "2025-05-29T13:21:33.513Z"
   },
   {
    "duration": 13,
    "start_time": "2025-05-29T13:21:46.354Z"
   },
   {
    "duration": 12,
    "start_time": "2025-05-29T13:21:53.000Z"
   },
   {
    "duration": 4,
    "start_time": "2025-05-30T15:15:48.308Z"
   },
   {
    "duration": 3,
    "start_time": "2025-05-30T15:15:48.507Z"
   },
   {
    "duration": 1341,
    "start_time": "2025-05-30T15:15:48.668Z"
   },
   {
    "duration": 170,
    "start_time": "2025-05-30T15:15:50.011Z"
   },
   {
    "duration": 6,
    "start_time": "2025-05-30T15:15:50.183Z"
   },
   {
    "duration": 9,
    "start_time": "2025-05-30T15:15:50.190Z"
   },
   {
    "duration": 10,
    "start_time": "2025-05-30T15:15:50.200Z"
   },
   {
    "duration": 12,
    "start_time": "2025-05-30T15:15:50.212Z"
   },
   {
    "duration": 177,
    "start_time": "2025-05-30T15:15:50.225Z"
   },
   {
    "duration": 7,
    "start_time": "2025-05-30T15:15:50.709Z"
   },
   {
    "duration": 123,
    "start_time": "2025-05-30T15:15:50.938Z"
   },
   {
    "duration": 98,
    "start_time": "2025-05-30T15:15:51.461Z"
   },
   {
    "duration": 7,
    "start_time": "2025-05-30T15:42:09.261Z"
   },
   {
    "duration": 123,
    "start_time": "2025-05-30T15:42:22.192Z"
   },
   {
    "duration": 9,
    "start_time": "2025-05-30T15:45:40.645Z"
   },
   {
    "duration": 3,
    "start_time": "2025-05-30T15:46:19.477Z"
   },
   {
    "duration": 68,
    "start_time": "2025-05-30T15:46:20.180Z"
   },
   {
    "duration": 6,
    "start_time": "2025-05-30T15:46:20.501Z"
   },
   {
    "duration": 8,
    "start_time": "2025-05-30T15:46:20.680Z"
   },
   {
    "duration": 6,
    "start_time": "2025-05-30T15:46:20.831Z"
   },
   {
    "duration": 5,
    "start_time": "2025-05-30T15:46:20.987Z"
   },
   {
    "duration": 126,
    "start_time": "2025-05-30T15:46:21.123Z"
   },
   {
    "duration": 7,
    "start_time": "2025-05-30T15:46:22.355Z"
   },
   {
    "duration": 136,
    "start_time": "2025-05-30T15:46:22.883Z"
   },
   {
    "duration": 19,
    "start_time": "2025-05-30T15:47:01.744Z"
   },
   {
    "duration": 14,
    "start_time": "2025-05-30T15:47:08.987Z"
   },
   {
    "duration": 189,
    "start_time": "2025-05-30T15:51:55.295Z"
   },
   {
    "duration": 6,
    "start_time": "2025-05-30T15:53:15.416Z"
   },
   {
    "duration": 128,
    "start_time": "2025-05-30T15:53:15.925Z"
   },
   {
    "duration": 14,
    "start_time": "2025-05-30T15:53:18.116Z"
   },
   {
    "duration": 1481,
    "start_time": "2025-05-30T16:01:06.078Z"
   },
   {
    "duration": 1629,
    "start_time": "2025-05-30T16:01:56.256Z"
   },
   {
    "duration": 1600,
    "start_time": "2025-05-30T16:02:20.562Z"
   },
   {
    "duration": 1453,
    "start_time": "2025-05-30T16:02:33.971Z"
   },
   {
    "duration": 113,
    "start_time": "2025-05-30T16:02:47.187Z"
   },
   {
    "duration": 3,
    "start_time": "2025-06-02T15:42:19.488Z"
   },
   {
    "duration": 2,
    "start_time": "2025-06-02T15:42:19.694Z"
   },
   {
    "duration": 1237,
    "start_time": "2025-06-02T15:42:19.903Z"
   },
   {
    "duration": 137,
    "start_time": "2025-06-02T15:42:21.142Z"
   },
   {
    "duration": 6,
    "start_time": "2025-06-02T15:42:21.280Z"
   },
   {
    "duration": 9,
    "start_time": "2025-06-02T15:42:21.288Z"
   },
   {
    "duration": 7,
    "start_time": "2025-06-02T15:42:21.298Z"
   },
   {
    "duration": 9,
    "start_time": "2025-06-02T15:42:21.307Z"
   },
   {
    "duration": 177,
    "start_time": "2025-06-02T15:42:21.318Z"
   },
   {
    "duration": 212,
    "start_time": "2025-06-02T15:42:21.775Z"
   },
   {
    "duration": 7,
    "start_time": "2025-06-02T15:42:21.989Z"
   },
   {
    "duration": 149,
    "start_time": "2025-06-02T15:42:21.998Z"
   },
   {
    "duration": 18,
    "start_time": "2025-06-02T15:42:22.149Z"
   },
   {
    "duration": 2217,
    "start_time": "2025-06-02T15:42:22.206Z"
   },
   {
    "duration": 124,
    "start_time": "2025-06-02T15:42:24.425Z"
   },
   {
    "duration": 1489,
    "start_time": "2025-06-02T15:44:44.592Z"
   },
   {
    "duration": 123,
    "start_time": "2025-06-02T15:44:46.083Z"
   },
   {
    "duration": 7,
    "start_time": "2025-06-02T16:07:56.598Z"
   },
   {
    "duration": 2,
    "start_time": "2025-06-02T16:26:47.818Z"
   },
   {
    "duration": 18,
    "start_time": "2025-06-02T16:28:14.957Z"
   },
   {
    "duration": 7,
    "start_time": "2025-06-02T16:28:25.993Z"
   },
   {
    "duration": 12,
    "start_time": "2025-06-02T16:29:03.841Z"
   },
   {
    "duration": 110,
    "start_time": "2025-06-02T16:29:10.006Z"
   },
   {
    "duration": 7,
    "start_time": "2025-06-02T16:29:19.260Z"
   },
   {
    "duration": 10,
    "start_time": "2025-06-02T16:29:23.299Z"
   },
   {
    "duration": 7,
    "start_time": "2025-06-02T16:29:28.780Z"
   },
   {
    "duration": 141,
    "start_time": "2025-06-02T16:29:53.410Z"
   },
   {
    "duration": 10,
    "start_time": "2025-06-02T16:34:46.885Z"
   },
   {
    "duration": 136,
    "start_time": "2025-06-02T16:35:08.204Z"
   },
   {
    "duration": 1242,
    "start_time": "2025-06-02T16:36:18.125Z"
   },
   {
    "duration": 1296,
    "start_time": "2025-06-02T16:37:41.196Z"
   },
   {
    "duration": 1212,
    "start_time": "2025-06-02T16:39:34.549Z"
   },
   {
    "duration": 20,
    "start_time": "2025-06-02T16:41:23.128Z"
   },
   {
    "duration": 3,
    "start_time": "2025-06-02T16:42:45.640Z"
   },
   {
    "duration": 22,
    "start_time": "2025-06-02T16:44:19.050Z"
   },
   {
    "duration": 5,
    "start_time": "2025-06-02T16:46:06.805Z"
   },
   {
    "duration": 12,
    "start_time": "2025-06-02T16:46:32.220Z"
   },
   {
    "duration": 9,
    "start_time": "2025-06-02T16:50:10.010Z"
   },
   {
    "duration": 7,
    "start_time": "2025-06-02T16:50:21.661Z"
   },
   {
    "duration": 17,
    "start_time": "2025-06-02T16:52:22.737Z"
   },
   {
    "duration": 16,
    "start_time": "2025-06-02T16:52:34.781Z"
   },
   {
    "duration": 14,
    "start_time": "2025-06-02T16:54:54.942Z"
   },
   {
    "duration": 9,
    "start_time": "2025-06-02T16:55:42.475Z"
   },
   {
    "duration": 33,
    "start_time": "2025-06-02T16:56:22.078Z"
   },
   {
    "duration": 1331,
    "start_time": "2025-06-02T18:58:27.182Z"
   },
   {
    "duration": 464,
    "start_time": "2025-06-02T18:58:28.515Z"
   },
   {
    "duration": 6,
    "start_time": "2025-06-02T18:58:28.981Z"
   },
   {
    "duration": 18,
    "start_time": "2025-06-02T18:58:28.989Z"
   },
   {
    "duration": 7,
    "start_time": "2025-06-02T18:58:29.008Z"
   },
   {
    "duration": 6,
    "start_time": "2025-06-02T18:58:29.016Z"
   },
   {
    "duration": 153,
    "start_time": "2025-06-02T18:58:29.023Z"
   },
   {
    "duration": 210,
    "start_time": "2025-06-02T18:58:29.178Z"
   },
   {
    "duration": 7,
    "start_time": "2025-06-02T18:58:29.567Z"
   },
   {
    "duration": 129,
    "start_time": "2025-06-02T18:58:29.775Z"
   },
   {
    "duration": 16,
    "start_time": "2025-06-02T18:58:30.201Z"
   },
   {
    "duration": 1963,
    "start_time": "2025-06-02T18:58:32.209Z"
   },
   {
    "duration": 147,
    "start_time": "2025-06-02T18:58:34.174Z"
   },
   {
    "duration": 18,
    "start_time": "2025-06-02T18:58:34.322Z"
   },
   {
    "duration": 36,
    "start_time": "2025-06-02T18:58:34.342Z"
   },
   {
    "duration": 136,
    "start_time": "2025-06-02T18:58:34.380Z"
   },
   {
    "duration": 15,
    "start_time": "2025-06-02T18:58:34.732Z"
   },
   {
    "duration": 6,
    "start_time": "2025-06-02T18:58:35.123Z"
   },
   {
    "duration": 7,
    "start_time": "2025-06-02T18:58:35.461Z"
   },
   {
    "duration": 15,
    "start_time": "2025-06-02T18:58:35.681Z"
   },
   {
    "duration": 26,
    "start_time": "2025-06-02T18:58:35.884Z"
   },
   {
    "duration": 68,
    "start_time": "2025-06-02T19:01:40.922Z"
   },
   {
    "duration": 108,
    "start_time": "2025-06-02T19:05:44.730Z"
   },
   {
    "duration": 9,
    "start_time": "2025-06-02T19:05:55.945Z"
   },
   {
    "duration": 57,
    "start_time": "2025-06-02T19:06:06.629Z"
   },
   {
    "duration": 44,
    "start_time": "2025-06-02T19:06:27.465Z"
   },
   {
    "duration": 8,
    "start_time": "2025-06-02T19:16:47.584Z"
   },
   {
    "duration": 10,
    "start_time": "2025-06-02T19:16:57.284Z"
   },
   {
    "duration": 940,
    "start_time": "2025-06-02T19:17:47.614Z"
   },
   {
    "duration": 1268,
    "start_time": "2025-06-02T19:18:05.448Z"
   },
   {
    "duration": 13,
    "start_time": "2025-06-02T19:18:26.803Z"
   },
   {
    "duration": 13,
    "start_time": "2025-06-02T19:21:06.087Z"
   },
   {
    "duration": 119,
    "start_time": "2025-06-02T19:22:24.934Z"
   },
   {
    "duration": 80,
    "start_time": "2025-06-02T19:22:50.468Z"
   },
   {
    "duration": 14,
    "start_time": "2025-06-02T19:22:53.002Z"
   },
   {
    "duration": 18,
    "start_time": "2025-06-02T19:23:05.986Z"
   },
   {
    "duration": 32,
    "start_time": "2025-06-02T19:25:26.550Z"
   },
   {
    "duration": 39,
    "start_time": "2025-06-02T19:25:32.681Z"
   },
   {
    "duration": 5,
    "start_time": "2025-06-02T19:28:15.979Z"
   },
   {
    "duration": 13,
    "start_time": "2025-06-02T19:28:23.308Z"
   },
   {
    "duration": 18,
    "start_time": "2025-06-02T19:30:15.851Z"
   },
   {
    "duration": 10,
    "start_time": "2025-06-02T19:31:04.650Z"
   },
   {
    "duration": 15,
    "start_time": "2025-06-02T19:31:08.928Z"
   },
   {
    "duration": 17,
    "start_time": "2025-06-02T19:31:10.679Z"
   },
   {
    "duration": 17,
    "start_time": "2025-06-02T19:31:45.397Z"
   },
   {
    "duration": 21,
    "start_time": "2025-06-02T19:32:54.654Z"
   },
   {
    "duration": 20,
    "start_time": "2025-06-02T19:33:00.392Z"
   },
   {
    "duration": 20,
    "start_time": "2025-06-02T19:33:43.723Z"
   },
   {
    "duration": 28,
    "start_time": "2025-06-02T19:35:27.064Z"
   },
   {
    "duration": 39,
    "start_time": "2025-06-02T19:36:39.252Z"
   },
   {
    "duration": 18,
    "start_time": "2025-06-02T19:36:41.092Z"
   },
   {
    "duration": 41,
    "start_time": "2025-06-02T19:36:41.424Z"
   },
   {
    "duration": 16,
    "start_time": "2025-06-02T19:36:41.667Z"
   },
   {
    "duration": 26,
    "start_time": "2025-06-02T19:36:41.883Z"
   },
   {
    "duration": 30,
    "start_time": "2025-06-02T19:36:42.083Z"
   },
   {
    "duration": 20,
    "start_time": "2025-06-02T19:41:58.991Z"
   },
   {
    "duration": 13,
    "start_time": "2025-06-02T19:50:55.701Z"
   },
   {
    "duration": 4,
    "start_time": "2025-06-02T19:51:45.934Z"
   },
   {
    "duration": 61,
    "start_time": "2025-06-02T19:51:46.903Z"
   },
   {
    "duration": 7,
    "start_time": "2025-06-02T19:51:47.426Z"
   },
   {
    "duration": 9,
    "start_time": "2025-06-02T19:51:47.638Z"
   },
   {
    "duration": 7,
    "start_time": "2025-06-02T19:51:47.815Z"
   },
   {
    "duration": 6,
    "start_time": "2025-06-02T19:51:47.982Z"
   },
   {
    "duration": 138,
    "start_time": "2025-06-02T19:51:48.146Z"
   },
   {
    "duration": 212,
    "start_time": "2025-06-02T19:51:48.517Z"
   },
   {
    "duration": 8,
    "start_time": "2025-06-02T19:51:49.080Z"
   },
   {
    "duration": 133,
    "start_time": "2025-06-02T19:51:49.283Z"
   },
   {
    "duration": 15,
    "start_time": "2025-06-02T19:51:49.705Z"
   },
   {
    "duration": 1470,
    "start_time": "2025-06-02T19:51:51.529Z"
   },
   {
    "duration": 133,
    "start_time": "2025-06-02T19:51:53.001Z"
   },
   {
    "duration": 9,
    "start_time": "2025-06-02T19:51:53.137Z"
   },
   {
    "duration": 20,
    "start_time": "2025-06-02T19:51:53.659Z"
   },
   {
    "duration": 155,
    "start_time": "2025-06-02T19:51:54.065Z"
   },
   {
    "duration": 16,
    "start_time": "2025-06-02T19:51:54.566Z"
   },
   {
    "duration": 5,
    "start_time": "2025-06-02T19:51:54.994Z"
   },
   {
    "duration": 7,
    "start_time": "2025-06-02T19:51:55.229Z"
   },
   {
    "duration": 14,
    "start_time": "2025-06-02T19:51:55.384Z"
   },
   {
    "duration": 26,
    "start_time": "2025-06-02T19:51:55.547Z"
   },
   {
    "duration": 87,
    "start_time": "2025-06-02T19:51:57.238Z"
   },
   {
    "duration": 17,
    "start_time": "2025-06-02T19:51:57.933Z"
   },
   {
    "duration": 37,
    "start_time": "2025-06-02T19:51:58.296Z"
   },
   {
    "duration": 15,
    "start_time": "2025-06-02T19:51:58.750Z"
   },
   {
    "duration": 23,
    "start_time": "2025-06-02T19:51:59.132Z"
   },
   {
    "duration": 28,
    "start_time": "2025-06-02T19:51:59.556Z"
   },
   {
    "duration": 17,
    "start_time": "2025-06-02T19:52:10.434Z"
   },
   {
    "duration": 3,
    "start_time": "2025-06-03T14:08:33.271Z"
   },
   {
    "duration": 2,
    "start_time": "2025-06-03T14:08:33.486Z"
   },
   {
    "duration": 1261,
    "start_time": "2025-06-03T14:08:33.689Z"
   },
   {
    "duration": 117,
    "start_time": "2025-06-03T14:08:34.952Z"
   },
   {
    "duration": 7,
    "start_time": "2025-06-03T14:08:35.071Z"
   },
   {
    "duration": 47,
    "start_time": "2025-06-03T14:08:35.080Z"
   },
   {
    "duration": 14,
    "start_time": "2025-06-03T14:08:35.129Z"
   },
   {
    "duration": 6,
    "start_time": "2025-06-03T14:08:35.674Z"
   },
   {
    "duration": 136,
    "start_time": "2025-06-03T14:08:35.928Z"
   },
   {
    "duration": 193,
    "start_time": "2025-06-03T14:08:36.289Z"
   },
   {
    "duration": 7,
    "start_time": "2025-06-03T14:08:36.876Z"
   },
   {
    "duration": 138,
    "start_time": "2025-06-03T14:08:37.077Z"
   },
   {
    "duration": 13,
    "start_time": "2025-06-03T14:08:37.536Z"
   },
   {
    "duration": 1968,
    "start_time": "2025-06-03T14:08:39.724Z"
   },
   {
    "duration": 118,
    "start_time": "2025-06-03T14:08:41.694Z"
   },
   {
    "duration": 50,
    "start_time": "2025-06-03T14:08:41.814Z"
   },
   {
    "duration": 18,
    "start_time": "2025-06-03T14:08:41.885Z"
   },
   {
    "duration": 122,
    "start_time": "2025-06-03T14:08:42.508Z"
   },
   {
    "duration": 14,
    "start_time": "2025-06-03T14:08:42.988Z"
   },
   {
    "duration": 5,
    "start_time": "2025-06-03T14:08:43.474Z"
   },
   {
    "duration": 6,
    "start_time": "2025-06-03T14:08:43.868Z"
   },
   {
    "duration": 13,
    "start_time": "2025-06-03T14:08:44.420Z"
   },
   {
    "duration": 23,
    "start_time": "2025-06-03T14:08:44.847Z"
   },
   {
    "duration": 101,
    "start_time": "2025-06-03T14:08:46.474Z"
   },
   {
    "duration": 17,
    "start_time": "2025-06-03T14:08:47.404Z"
   },
   {
    "duration": 36,
    "start_time": "2025-06-03T14:08:47.787Z"
   },
   {
    "duration": 14,
    "start_time": "2025-06-03T14:08:48.225Z"
   },
   {
    "duration": 27,
    "start_time": "2025-06-03T14:08:48.998Z"
   },
   {
    "duration": 29,
    "start_time": "2025-06-03T14:08:49.748Z"
   },
   {
    "duration": 14,
    "start_time": "2025-06-03T14:08:50.784Z"
   },
   {
    "duration": 33,
    "start_time": "2025-06-03T14:13:36.885Z"
   },
   {
    "duration": 42,
    "start_time": "2025-06-03T14:13:45.298Z"
   },
   {
    "duration": 34,
    "start_time": "2025-06-03T14:17:34.835Z"
   },
   {
    "duration": 18,
    "start_time": "2025-06-03T14:18:33.633Z"
   },
   {
    "duration": 20,
    "start_time": "2025-06-03T14:21:36.514Z"
   },
   {
    "duration": 17,
    "start_time": "2025-06-03T14:21:52.168Z"
   },
   {
    "duration": 124,
    "start_time": "2025-06-03T14:34:21.495Z"
   },
   {
    "duration": 26,
    "start_time": "2025-06-03T14:34:37.997Z"
   },
   {
    "duration": 28,
    "start_time": "2025-06-03T14:36:12.993Z"
   },
   {
    "duration": 43,
    "start_time": "2025-06-03T14:40:04.353Z"
   },
   {
    "duration": 29,
    "start_time": "2025-06-03T14:40:32.127Z"
   },
   {
    "duration": 30,
    "start_time": "2025-06-03T14:40:42.722Z"
   },
   {
    "duration": 2104,
    "start_time": "2025-06-03T14:45:53.103Z"
   },
   {
    "duration": 35,
    "start_time": "2025-06-03T14:46:15.889Z"
   },
   {
    "duration": 31,
    "start_time": "2025-06-03T14:46:26.205Z"
   },
   {
    "duration": 39,
    "start_time": "2025-06-03T14:46:53.027Z"
   },
   {
    "duration": 28,
    "start_time": "2025-06-03T14:47:08.713Z"
   },
   {
    "duration": 965,
    "start_time": "2025-06-03T14:49:26.119Z"
   },
   {
    "duration": 1002,
    "start_time": "2025-06-03T14:56:13.452Z"
   },
   {
    "duration": 52,
    "start_time": "2025-06-03T14:58:46.792Z"
   },
   {
    "duration": 7,
    "start_time": "2025-06-03T14:59:10.968Z"
   },
   {
    "duration": 187,
    "start_time": "2025-06-03T14:59:11.814Z"
   },
   {
    "duration": 5,
    "start_time": "2025-06-03T14:59:12.003Z"
   },
   {
    "duration": 8,
    "start_time": "2025-06-03T14:59:12.146Z"
   },
   {
    "duration": 7,
    "start_time": "2025-06-03T14:59:12.306Z"
   },
   {
    "duration": 5,
    "start_time": "2025-06-03T14:59:12.808Z"
   },
   {
    "duration": 160,
    "start_time": "2025-06-03T14:59:12.852Z"
   },
   {
    "duration": 190,
    "start_time": "2025-06-03T14:59:13.014Z"
   },
   {
    "duration": 5,
    "start_time": "2025-06-03T14:59:13.206Z"
   },
   {
    "duration": 184,
    "start_time": "2025-06-03T14:59:13.213Z"
   },
   {
    "duration": 15,
    "start_time": "2025-06-03T14:59:13.399Z"
   },
   {
    "duration": 1866,
    "start_time": "2025-06-03T14:59:13.415Z"
   },
   {
    "duration": 119,
    "start_time": "2025-06-03T14:59:15.283Z"
   },
   {
    "duration": 8,
    "start_time": "2025-06-03T14:59:15.404Z"
   },
   {
    "duration": 35,
    "start_time": "2025-06-03T14:59:15.413Z"
   },
   {
    "duration": 132,
    "start_time": "2025-06-03T14:59:15.449Z"
   },
   {
    "duration": 16,
    "start_time": "2025-06-03T14:59:15.582Z"
   },
   {
    "duration": 7,
    "start_time": "2025-06-03T14:59:15.600Z"
   },
   {
    "duration": 10,
    "start_time": "2025-06-03T14:59:15.609Z"
   },
   {
    "duration": 13,
    "start_time": "2025-06-03T14:59:15.635Z"
   },
   {
    "duration": 24,
    "start_time": "2025-06-03T14:59:15.650Z"
   },
   {
    "duration": 100,
    "start_time": "2025-06-03T14:59:15.675Z"
   },
   {
    "duration": 17,
    "start_time": "2025-06-03T14:59:15.776Z"
   },
   {
    "duration": 53,
    "start_time": "2025-06-03T14:59:15.794Z"
   },
   {
    "duration": 13,
    "start_time": "2025-06-03T14:59:15.848Z"
   },
   {
    "duration": 44,
    "start_time": "2025-06-03T14:59:15.862Z"
   },
   {
    "duration": 28,
    "start_time": "2025-06-03T14:59:15.908Z"
   },
   {
    "duration": 14,
    "start_time": "2025-06-03T14:59:15.938Z"
   },
   {
    "duration": 129,
    "start_time": "2025-06-03T14:59:15.953Z"
   },
   {
    "duration": 34,
    "start_time": "2025-06-03T14:59:16.083Z"
   },
   {
    "duration": 56,
    "start_time": "2025-06-03T14:59:16.118Z"
   },
   {
    "duration": 64,
    "start_time": "2025-06-03T15:02:56.509Z"
   },
   {
    "duration": 4,
    "start_time": "2025-06-04T08:49:35.648Z"
   },
   {
    "duration": 22,
    "start_time": "2025-06-04T08:49:35.655Z"
   },
   {
    "duration": 1202,
    "start_time": "2025-06-04T08:49:35.679Z"
   },
   {
    "duration": 118,
    "start_time": "2025-06-04T08:49:36.883Z"
   },
   {
    "duration": 5,
    "start_time": "2025-06-04T08:49:37.003Z"
   },
   {
    "duration": 82,
    "start_time": "2025-06-04T08:49:37.010Z"
   },
   {
    "duration": 53,
    "start_time": "2025-06-04T08:49:37.094Z"
   },
   {
    "duration": 13,
    "start_time": "2025-06-04T08:49:37.150Z"
   },
   {
    "duration": 174,
    "start_time": "2025-06-04T08:49:37.165Z"
   },
   {
    "duration": 251,
    "start_time": "2025-06-04T08:49:37.343Z"
   },
   {
    "duration": 7,
    "start_time": "2025-06-04T08:49:37.596Z"
   },
   {
    "duration": 145,
    "start_time": "2025-06-04T08:49:37.605Z"
   },
   {
    "duration": 21,
    "start_time": "2025-06-04T08:49:37.751Z"
   },
   {
    "duration": 1659,
    "start_time": "2025-06-04T08:49:37.774Z"
   },
   {
    "duration": 129,
    "start_time": "2025-06-04T08:49:39.434Z"
   },
   {
    "duration": 9,
    "start_time": "2025-06-04T08:49:39.565Z"
   },
   {
    "duration": 29,
    "start_time": "2025-06-04T08:49:39.575Z"
   },
   {
    "duration": 163,
    "start_time": "2025-06-04T08:49:39.605Z"
   },
   {
    "duration": 15,
    "start_time": "2025-06-04T08:49:39.769Z"
   },
   {
    "duration": 5,
    "start_time": "2025-06-04T08:49:39.785Z"
   },
   {
    "duration": 11,
    "start_time": "2025-06-04T08:49:39.792Z"
   },
   {
    "duration": 14,
    "start_time": "2025-06-04T08:49:39.805Z"
   },
   {
    "duration": 59,
    "start_time": "2025-06-04T08:49:39.821Z"
   },
   {
    "duration": 104,
    "start_time": "2025-06-04T08:49:39.882Z"
   },
   {
    "duration": 35,
    "start_time": "2025-06-04T08:49:39.988Z"
   },
   {
    "duration": 64,
    "start_time": "2025-06-04T08:49:40.025Z"
   },
   {
    "duration": 14,
    "start_time": "2025-06-04T08:49:40.091Z"
   },
   {
    "duration": 30,
    "start_time": "2025-06-04T08:49:40.106Z"
   },
   {
    "duration": 40,
    "start_time": "2025-06-04T08:49:40.138Z"
   },
   {
    "duration": 18,
    "start_time": "2025-06-04T08:49:40.180Z"
   },
   {
    "duration": 64,
    "start_time": "2025-06-04T08:49:40.200Z"
   },
   {
    "duration": 45,
    "start_time": "2025-06-04T08:49:40.265Z"
   },
   {
    "duration": 76,
    "start_time": "2025-06-04T08:49:40.312Z"
   },
   {
    "duration": 1410,
    "start_time": "2025-06-04T09:11:33.881Z"
   },
   {
    "duration": 62,
    "start_time": "2025-06-04T09:11:35.293Z"
   },
   {
    "duration": 7,
    "start_time": "2025-06-04T09:11:35.543Z"
   },
   {
    "duration": 9,
    "start_time": "2025-06-04T09:11:35.808Z"
   },
   {
    "duration": 8,
    "start_time": "2025-06-04T09:11:36.693Z"
   },
   {
    "duration": 6,
    "start_time": "2025-06-04T09:11:36.929Z"
   },
   {
    "duration": 158,
    "start_time": "2025-06-04T09:12:09.308Z"
   },
   {
    "duration": 208,
    "start_time": "2025-06-04T09:12:15.295Z"
   },
   {
    "duration": 7,
    "start_time": "2025-06-04T09:13:23.558Z"
   },
   {
    "duration": 143,
    "start_time": "2025-06-04T09:13:23.887Z"
   },
   {
    "duration": 17,
    "start_time": "2025-06-04T09:13:26.390Z"
   },
   {
    "duration": 1678,
    "start_time": "2025-06-04T09:13:33.149Z"
   },
   {
    "duration": 132,
    "start_time": "2025-06-04T09:13:34.828Z"
   },
   {
    "duration": 332,
    "start_time": "2025-06-04T09:21:02.248Z"
   },
   {
    "duration": 676,
    "start_time": "2025-06-04T09:24:52.846Z"
   },
   {
    "duration": 309,
    "start_time": "2025-06-04T09:25:10.333Z"
   },
   {
    "duration": 707,
    "start_time": "2025-06-04T09:26:00.373Z"
   },
   {
    "duration": 452,
    "start_time": "2025-06-04T09:26:05.504Z"
   },
   {
    "duration": 662,
    "start_time": "2025-06-04T09:26:09.928Z"
   },
   {
    "duration": 352,
    "start_time": "2025-06-04T09:26:21.913Z"
   },
   {
    "duration": 64,
    "start_time": "2025-06-04T09:35:57.061Z"
   },
   {
    "duration": 690,
    "start_time": "2025-06-04T09:40:40.346Z"
   },
   {
    "duration": 782,
    "start_time": "2025-06-04T09:41:57.779Z"
   },
   {
    "duration": 6,
    "start_time": "2025-06-04T09:43:11.330Z"
   },
   {
    "duration": 130,
    "start_time": "2025-06-04T09:43:11.527Z"
   },
   {
    "duration": 15,
    "start_time": "2025-06-04T09:43:12.300Z"
   },
   {
    "duration": 1567,
    "start_time": "2025-06-04T09:43:20.244Z"
   },
   {
    "duration": 132,
    "start_time": "2025-06-04T09:43:21.813Z"
   },
   {
    "duration": 324,
    "start_time": "2025-06-04T09:43:21.947Z"
   },
   {
    "duration": 720,
    "start_time": "2025-06-04T09:43:22.273Z"
   },
   {
    "duration": 19,
    "start_time": "2025-06-04T09:47:49.275Z"
   },
   {
    "duration": 8,
    "start_time": "2025-06-04T09:48:05.955Z"
   },
   {
    "duration": 16,
    "start_time": "2025-06-04T09:48:34.217Z"
   },
   {
    "duration": 126,
    "start_time": "2025-06-04T09:48:48.365Z"
   },
   {
    "duration": 11,
    "start_time": "2025-06-04T09:49:12.748Z"
   },
   {
    "duration": 9,
    "start_time": "2025-06-04T10:08:50.111Z"
   },
   {
    "duration": 97,
    "start_time": "2025-06-04T10:09:02.212Z"
   },
   {
    "duration": 17,
    "start_time": "2025-06-04T10:09:34.829Z"
   },
   {
    "duration": 33,
    "start_time": "2025-06-04T10:09:48.121Z"
   },
   {
    "duration": 14,
    "start_time": "2025-06-04T10:09:53.017Z"
   },
   {
    "duration": 17,
    "start_time": "2025-06-04T10:09:56.627Z"
   },
   {
    "duration": 27,
    "start_time": "2025-06-04T10:09:59.993Z"
   },
   {
    "duration": 14,
    "start_time": "2025-06-04T10:10:11.596Z"
   },
   {
    "duration": 102,
    "start_time": "2025-06-04T10:10:30.342Z"
   },
   {
    "duration": 14,
    "start_time": "2025-06-04T10:10:42.277Z"
   },
   {
    "duration": 33,
    "start_time": "2025-06-04T10:11:11.151Z"
   },
   {
    "duration": 27,
    "start_time": "2025-06-04T10:11:11.733Z"
   },
   {
    "duration": 43,
    "start_time": "2025-06-04T10:11:54.969Z"
   },
   {
    "duration": 1435,
    "start_time": "2025-06-05T07:33:13.568Z"
   },
   {
    "duration": 112,
    "start_time": "2025-06-05T07:33:15.006Z"
   },
   {
    "duration": 7,
    "start_time": "2025-06-05T07:33:20.372Z"
   },
   {
    "duration": 9,
    "start_time": "2025-06-05T07:33:20.574Z"
   },
   {
    "duration": 8,
    "start_time": "2025-06-05T07:33:20.996Z"
   },
   {
    "duration": 6,
    "start_time": "2025-06-05T07:33:21.569Z"
   },
   {
    "duration": 163,
    "start_time": "2025-06-05T07:33:21.825Z"
   },
   {
    "duration": 224,
    "start_time": "2025-06-05T07:33:24.798Z"
   },
   {
    "duration": 7,
    "start_time": "2025-06-05T07:33:27.377Z"
   },
   {
    "duration": 138,
    "start_time": "2025-06-05T07:33:27.569Z"
   },
   {
    "duration": 16,
    "start_time": "2025-06-05T07:33:27.947Z"
   },
   {
    "duration": 1699,
    "start_time": "2025-06-05T07:33:34.396Z"
   },
   {
    "duration": 138,
    "start_time": "2025-06-05T07:33:36.097Z"
   },
   {
    "duration": 373,
    "start_time": "2025-06-05T07:33:36.236Z"
   },
   {
    "duration": 888,
    "start_time": "2025-06-05T07:33:36.611Z"
   },
   {
    "duration": 20,
    "start_time": "2025-06-05T07:33:46.016Z"
   },
   {
    "duration": 9,
    "start_time": "2025-06-05T07:34:17.272Z"
   },
   {
    "duration": 18,
    "start_time": "2025-06-05T07:34:17.644Z"
   },
   {
    "duration": 130,
    "start_time": "2025-06-05T07:34:18.168Z"
   },
   {
    "duration": 144,
    "start_time": "2025-06-05T07:34:54.896Z"
   },
   {
    "duration": 10,
    "start_time": "2025-06-05T07:35:00.756Z"
   },
   {
    "duration": 113,
    "start_time": "2025-06-05T07:35:51.796Z"
   },
   {
    "duration": 17,
    "start_time": "2025-06-05T07:35:54.014Z"
   },
   {
    "duration": 34,
    "start_time": "2025-06-05T07:35:55.927Z"
   },
   {
    "duration": 16,
    "start_time": "2025-06-05T07:35:56.351Z"
   },
   {
    "duration": 11,
    "start_time": "2025-06-05T07:35:57.115Z"
   },
   {
    "duration": 11,
    "start_time": "2025-06-05T07:36:11.166Z"
   },
   {
    "duration": 1435,
    "start_time": "2025-06-05T10:12:50.956Z"
   },
   {
    "duration": 62,
    "start_time": "2025-06-05T10:12:52.393Z"
   },
   {
    "duration": 6,
    "start_time": "2025-06-05T10:12:53.337Z"
   },
   {
    "duration": 21,
    "start_time": "2025-06-05T10:12:53.347Z"
   },
   {
    "duration": 7,
    "start_time": "2025-06-05T10:12:53.542Z"
   },
   {
    "duration": 6,
    "start_time": "2025-06-05T10:12:54.096Z"
   },
   {
    "duration": 154,
    "start_time": "2025-06-05T10:12:54.105Z"
   },
   {
    "duration": 208,
    "start_time": "2025-06-05T10:12:55.610Z"
   },
   {
    "duration": 7,
    "start_time": "2025-06-05T10:12:57.879Z"
   },
   {
    "duration": 140,
    "start_time": "2025-06-05T10:12:57.887Z"
   },
   {
    "duration": 15,
    "start_time": "2025-06-05T10:12:58.029Z"
   },
   {
    "duration": 1641,
    "start_time": "2025-06-05T10:13:01.523Z"
   },
   {
    "duration": 127,
    "start_time": "2025-06-05T10:13:03.166Z"
   },
   {
    "duration": 341,
    "start_time": "2025-06-05T10:13:03.294Z"
   },
   {
    "duration": 795,
    "start_time": "2025-06-05T10:13:03.637Z"
   },
   {
    "duration": 20,
    "start_time": "2025-06-05T10:13:10.953Z"
   },
   {
    "duration": 9,
    "start_time": "2025-06-05T10:13:11.793Z"
   },
   {
    "duration": 25,
    "start_time": "2025-06-05T10:13:11.993Z"
   },
   {
    "duration": 141,
    "start_time": "2025-06-05T10:13:12.469Z"
   },
   {
    "duration": 105,
    "start_time": "2025-06-05T10:22:57.039Z"
   },
   {
    "duration": 4,
    "start_time": "2025-06-05T10:23:33.777Z"
   },
   {
    "duration": 49,
    "start_time": "2025-06-05T10:23:34.098Z"
   },
   {
    "duration": 8,
    "start_time": "2025-06-05T10:23:34.448Z"
   },
   {
    "duration": 8,
    "start_time": "2025-06-05T10:23:34.653Z"
   },
   {
    "duration": 8,
    "start_time": "2025-06-05T10:23:35.013Z"
   },
   {
    "duration": 7,
    "start_time": "2025-06-05T10:23:35.078Z"
   },
   {
    "duration": 144,
    "start_time": "2025-06-05T10:23:35.233Z"
   },
   {
    "duration": 213,
    "start_time": "2025-06-05T10:23:36.068Z"
   },
   {
    "duration": 7,
    "start_time": "2025-06-05T10:23:37.542Z"
   },
   {
    "duration": 131,
    "start_time": "2025-06-05T10:23:37.748Z"
   },
   {
    "duration": 16,
    "start_time": "2025-06-05T10:23:38.268Z"
   },
   {
    "duration": 2574,
    "start_time": "2025-06-05T10:23:40.839Z"
   },
   {
    "duration": 128,
    "start_time": "2025-06-05T10:23:43.415Z"
   },
   {
    "duration": 291,
    "start_time": "2025-06-05T10:23:43.544Z"
   },
   {
    "duration": 729,
    "start_time": "2025-06-05T10:23:43.837Z"
   },
   {
    "duration": 23,
    "start_time": "2025-06-05T10:23:44.568Z"
   },
   {
    "duration": 8,
    "start_time": "2025-06-05T10:23:45.928Z"
   },
   {
    "duration": 17,
    "start_time": "2025-06-05T10:23:46.108Z"
   },
   {
    "duration": 139,
    "start_time": "2025-06-05T10:23:46.253Z"
   },
   {
    "duration": 11,
    "start_time": "2025-06-05T10:23:47.058Z"
   },
   {
    "duration": 11,
    "start_time": "2025-06-05T10:23:47.948Z"
   },
   {
    "duration": 9,
    "start_time": "2025-06-05T10:24:32.170Z"
   },
   {
    "duration": 9,
    "start_time": "2025-06-05T10:24:45.325Z"
   },
   {
    "duration": 7,
    "start_time": "2025-06-05T10:24:49.301Z"
   },
   {
    "duration": 13,
    "start_time": "2025-06-05T10:27:12.133Z"
   },
   {
    "duration": 5,
    "start_time": "2025-06-05T10:29:57.092Z"
   },
   {
    "duration": 7,
    "start_time": "2025-06-05T10:30:31.022Z"
   },
   {
    "duration": 6,
    "start_time": "2025-06-05T10:30:36.523Z"
   },
   {
    "duration": 7,
    "start_time": "2025-06-05T10:30:37.259Z"
   },
   {
    "duration": 11,
    "start_time": "2025-06-05T10:31:31.027Z"
   },
   {
    "duration": 8,
    "start_time": "2025-06-05T10:31:48.328Z"
   },
   {
    "duration": 102,
    "start_time": "2025-06-05T10:35:07.825Z"
   },
   {
    "duration": 17,
    "start_time": "2025-06-05T10:35:54.053Z"
   },
   {
    "duration": 31,
    "start_time": "2025-06-05T10:35:55.588Z"
   },
   {
    "duration": 31,
    "start_time": "2025-06-05T10:36:08.288Z"
   },
   {
    "duration": 14,
    "start_time": "2025-06-05T10:36:08.616Z"
   },
   {
    "duration": 14,
    "start_time": "2025-06-05T10:36:09.077Z"
   },
   {
    "duration": 31,
    "start_time": "2025-06-05T10:36:25.250Z"
   },
   {
    "duration": 10,
    "start_time": "2025-06-05T11:13:20.440Z"
   },
   {
    "duration": 36,
    "start_time": "2025-06-05T11:19:41.664Z"
   },
   {
    "duration": 39,
    "start_time": "2025-06-05T11:19:41.779Z"
   },
   {
    "duration": 43,
    "start_time": "2025-06-05T11:24:16.739Z"
   },
   {
    "duration": 56,
    "start_time": "2025-06-05T11:24:55.810Z"
   },
   {
    "duration": 1686,
    "start_time": "2025-06-05T11:25:32.689Z"
   },
   {
    "duration": 121,
    "start_time": "2025-06-05T11:25:34.376Z"
   },
   {
    "duration": 293,
    "start_time": "2025-06-05T11:25:34.499Z"
   },
   {
    "duration": 687,
    "start_time": "2025-06-05T11:25:34.794Z"
   },
   {
    "duration": 18,
    "start_time": "2025-06-05T11:25:35.483Z"
   },
   {
    "duration": 85,
    "start_time": "2025-06-05T11:25:35.502Z"
   },
   {
    "duration": 28,
    "start_time": "2025-06-05T11:25:35.589Z"
   },
   {
    "duration": 135,
    "start_time": "2025-06-05T11:25:35.619Z"
   },
   {
    "duration": 24,
    "start_time": "2025-06-05T11:25:35.756Z"
   },
   {
    "duration": 158,
    "start_time": "2025-06-05T11:25:35.782Z"
   },
   {
    "duration": 59,
    "start_time": "2025-06-05T11:25:35.942Z"
   },
   {
    "duration": 115,
    "start_time": "2025-06-05T11:25:36.542Z"
   },
   {
    "duration": 17,
    "start_time": "2025-06-05T11:25:37.744Z"
   },
   {
    "duration": 32,
    "start_time": "2025-06-05T11:25:38.953Z"
   },
   {
    "duration": 14,
    "start_time": "2025-06-05T11:25:39.131Z"
   },
   {
    "duration": 10,
    "start_time": "2025-06-05T11:25:39.609Z"
   },
   {
    "duration": 28,
    "start_time": "2025-06-05T11:25:41.681Z"
   },
   {
    "duration": 13,
    "start_time": "2025-06-05T11:25:42.339Z"
   },
   {
    "duration": 34,
    "start_time": "2025-06-05T11:25:43.246Z"
   },
   {
    "duration": 30,
    "start_time": "2025-06-05T11:25:43.423Z"
   },
   {
    "duration": 51,
    "start_time": "2025-06-05T11:25:47.028Z"
   },
   {
    "duration": 49,
    "start_time": "2025-06-05T11:25:54.907Z"
   },
   {
    "duration": 57,
    "start_time": "2025-06-05T11:26:25.883Z"
   },
   {
    "duration": 42,
    "start_time": "2025-06-05T11:26:38.883Z"
   },
   {
    "duration": 43,
    "start_time": "2025-06-05T11:26:57.724Z"
   },
   {
    "duration": 124,
    "start_time": "2025-06-05T11:34:04.694Z"
   },
   {
    "duration": 43,
    "start_time": "2025-06-05T11:35:29.750Z"
   },
   {
    "duration": 48,
    "start_time": "2025-06-05T11:36:48.701Z"
   },
   {
    "duration": 5,
    "start_time": "2025-06-05T11:39:46.552Z"
   },
   {
    "duration": 10,
    "start_time": "2025-06-05T11:39:46.558Z"
   },
   {
    "duration": 1187,
    "start_time": "2025-06-05T11:39:46.570Z"
   },
   {
    "duration": 59,
    "start_time": "2025-06-05T11:39:47.758Z"
   },
   {
    "duration": 5,
    "start_time": "2025-06-05T11:39:47.819Z"
   },
   {
    "duration": 171,
    "start_time": "2025-06-05T11:39:47.826Z"
   },
   {
    "duration": 93,
    "start_time": "2025-06-05T11:39:47.998Z"
   },
   {
    "duration": 19,
    "start_time": "2025-06-05T11:39:48.092Z"
   },
   {
    "duration": 162,
    "start_time": "2025-06-05T11:39:48.112Z"
   },
   {
    "duration": 212,
    "start_time": "2025-06-05T11:39:48.277Z"
   },
   {
    "duration": 6,
    "start_time": "2025-06-05T11:39:48.491Z"
   },
   {
    "duration": 145,
    "start_time": "2025-06-05T11:39:48.499Z"
   },
   {
    "duration": 15,
    "start_time": "2025-06-05T11:39:48.645Z"
   },
   {
    "duration": 1585,
    "start_time": "2025-06-05T11:39:48.662Z"
   },
   {
    "duration": 124,
    "start_time": "2025-06-05T11:39:50.248Z"
   },
   {
    "duration": 341,
    "start_time": "2025-06-05T11:39:50.377Z"
   },
   {
    "duration": 821,
    "start_time": "2025-06-05T11:39:50.720Z"
   },
   {
    "duration": 34,
    "start_time": "2025-06-05T11:39:51.543Z"
   },
   {
    "duration": 81,
    "start_time": "2025-06-05T11:39:51.579Z"
   },
   {
    "duration": 19,
    "start_time": "2025-06-05T11:39:51.662Z"
   },
   {
    "duration": 150,
    "start_time": "2025-06-05T11:39:51.682Z"
   },
   {
    "duration": 10,
    "start_time": "2025-06-05T11:39:51.834Z"
   },
   {
    "duration": 126,
    "start_time": "2025-06-05T11:39:51.846Z"
   },
   {
    "duration": 28,
    "start_time": "2025-06-05T11:39:51.974Z"
   },
   {
    "duration": 123,
    "start_time": "2025-06-05T11:39:52.008Z"
   },
   {
    "duration": 18,
    "start_time": "2025-06-05T11:39:52.133Z"
   },
   {
    "duration": 67,
    "start_time": "2025-06-05T11:39:52.153Z"
   },
   {
    "duration": 15,
    "start_time": "2025-06-05T11:39:52.222Z"
   },
   {
    "duration": 11,
    "start_time": "2025-06-05T11:39:52.239Z"
   },
   {
    "duration": 43,
    "start_time": "2025-06-05T11:39:52.251Z"
   },
   {
    "duration": 11,
    "start_time": "2025-06-05T11:39:52.295Z"
   },
   {
    "duration": 64,
    "start_time": "2025-06-05T11:39:52.307Z"
   },
   {
    "duration": 32,
    "start_time": "2025-06-05T11:39:52.373Z"
   },
   {
    "duration": 48,
    "start_time": "2025-06-05T11:39:52.407Z"
   },
   {
    "duration": 11,
    "start_time": "2025-06-06T11:18:44.995Z"
   }
  ],
  "colab": {
   "provenance": [],
   "toc_visible": true
  },
  "kernelspec": {
   "display_name": "Python 3 (ipykernel)",
   "language": "python",
   "name": "python3"
  },
  "language_info": {
   "codemirror_mode": {
    "name": "ipython",
    "version": 3
   },
   "file_extension": ".py",
   "mimetype": "text/x-python",
   "name": "python",
   "nbconvert_exporter": "python",
   "pygments_lexer": "ipython3",
   "version": "3.9.5"
  },
  "toc": {
   "base_numbering": 1,
   "nav_menu": {},
   "number_sections": true,
   "sideBar": true,
   "skip_h1_title": true,
   "title_cell": "Table of Contents",
   "title_sidebar": "Contents",
   "toc_cell": false,
   "toc_position": {},
   "toc_section_display": true,
   "toc_window_display": false
  }
 },
 "nbformat": 4,
 "nbformat_minor": 5
}
