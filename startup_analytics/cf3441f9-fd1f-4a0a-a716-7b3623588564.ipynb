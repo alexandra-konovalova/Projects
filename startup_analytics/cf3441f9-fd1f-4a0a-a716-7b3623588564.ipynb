{
 "cells": [
  {
   "cell_type": "markdown",
   "metadata": {
    "id": "4mJbK1knrJgz"
   },
   "source": [
    "# Проект: Исследование стартапов"
   ]
  },
  {
   "cell_type": "markdown",
   "metadata": {
    "id": "P6j0r3worJg0"
   },
   "source": [
    "## Введение"
   ]
  },
  {
   "cell_type": "markdown",
   "metadata": {
    "id": "8lQtbsIUyFG6"
   },
   "source": [
    "**Цель проекта:** Исследовать данные о фондах и раундах инвестирования в стартапы для разработки модели бизнеса финансовой компании.\n",
    "\n",
    "**Задачи проекта:**\n",
    "1. Загрузка данных и знакомство с ними.\n",
    "2. Предобработка данных.\n",
    "3. Исследовательский анализ данных.\n",
    "4. Итоговые выводы.\n",
    "    \n",
    "**Описание данных:**\n",
    "\n",
    "**Таблица acquisition** - содержит информацию о покупках одними компаниями других компаний:\n",
    "\n",
    "id — идентификатор покупки.\n",
    "\n",
    "acquiring_company_id — идентификатор покупающей компании.\n",
    "\n",
    "acquired_company_id — идентификатор покупаемой компании.\n",
    "\n",
    "term_code — варианты расчёта.\n",
    "\n",
    "price_amount — сумма сделки.\n",
    "\n",
    "acquired_at — дата сделки.\n",
    "\n",
    "**Таблица company_and_rounds** - содержит информацию о компаниях и раундах финансирования:\n",
    "\n",
    "company ID — идентификатор компании.\n",
    "\n",
    "name — название компании.\n",
    "\n",
    "category code — категория области деятельности компании.\n",
    "\n",
    "status — статус компании.\n",
    "\n",
    "founded at — дата инвестирования.\n",
    "\n",
    "closed at — дата закрытия компании.\n",
    "\n",
    "domain — официальный сайт компании.\n",
    "\n",
    "network username — ник компании в сети.\n",
    "\n",
    "country code — код страны компании.\n",
    "\n",
    "investment rounds — число инвестиционных раундов.\n",
    "\n",
    "funding rounds — число раундов финансирования.\n",
    "\n",
    "funding total — сумма финансирования.\n",
    "\n",
    "milestones — вехи финансирования.\n",
    "\n",
    "funding round id — идентификатор этапа финансирования.\n",
    "\n",
    "company id — идентификатор компании.\n",
    "\n",
    "funded at — дата финансирования.\n",
    "\n",
    "funding round type — тип финансирования.\n",
    "\n",
    "raised amount — сумма финансирования.\n",
    "\n",
    "pre money valuation — предварительная денежная оценка.\n",
    "\n",
    "participants — число участников.\n",
    "\n",
    "is first round — является ли раунд первым.\n",
    "\n",
    "is last round — является раунд последним.\n",
    "\n",
    "**Таблица education** - содержит информацию об образовании сотрудника:\n",
    "\n",
    "id — идентификатор записи об образовании.\n",
    "\n",
    "person_id — идентификатор работника.\n",
    "\n",
    "instituition — название учебного заведения.\n",
    "\n",
    "graduated_at — дата получения образования.\n",
    "\n",
    "**Таблица people** - содержит информацию о сотрудниках:\n",
    "\n",
    "id — идентификатор сотрудника.\n",
    "\n",
    "first_name — имя сотрудника.\n",
    "\n",
    "last_name — фамилия сотрудника.\n",
    "\n",
    "company_id — идентификатор компании.\n",
    "\n",
    "network_username — ник в социальных сетях.\n",
    "\n",
    "**Таблица degrees** - содержит информацию о типе образования сотрудника:\n",
    "\n",
    "id — идентификатор записи.\n",
    "\n",
    "object_id — идентификатор сотрудника.\n",
    "\n",
    "degree_type — тип образования.\n",
    "\n",
    "subject — специальность.\n",
    "\n",
    "**Содеражние проекта:**\n",
    "\n",
    "1. Знакомство с данными и первичная предобработка\n",
    "- Загрузка данных \n",
    "- Первичный анализ\n",
    "- Обработка названий столбцов\n",
    "- Смена типов данных\n",
    "- Анализ пропусков\n",
    "\n",
    "2. Предобработка данных и первичный анализ:\n",
    "- Анализ раундов финансирования по годам\n",
    "- Анализ сотрудников стартапов и их образования \n",
    "- Аанализ возможностей объединения датасетов\n",
    "- Заполнение пропусков \n",
    "\n",
    "3. Исследовательский анализ \n",
    "- Объединение таблиц\n",
    "- Анализ выбросов в данных \n",
    "- Анализ для ответов на исследовательские вопросы \n",
    "\n",
    "4. Итоговый вывод"
   ]
  },
  {
   "cell_type": "markdown",
   "metadata": {
    "id": "xqr6uttCrJg0"
   },
   "source": [
    "\n",
    "## Шаг 1. Знакомство с данными: загрузка и первичная предобработка\n",
    "\n",
    "Названия файлов:\n",
    "* acquisition.csv\n",
    "* company_and_rounds.csv\n",
    "* people.csv\n",
    "* education.csv\n",
    "* degrees.csv\n",
    "\n",
    "Опциональные датасеты:\n",
    "* fund.csv\n",
    "* investment.csv\n",
    "\n",
    "\n",
    "Они находятся в папке datasets, если вы выполняете работу на платформе. В случае, если вы делаете работу локально, доступ к файлам в папке можно получить по адресу `https://code.s3.yandex.net/datasets/` + имя файла.\n",
    "\n",
    "### 1.1. Вывод общей информации, исправление названия столбцов\n",
    "\n",
    "- Загрузите все данные по проекту.\n",
    "- Проверьте названия столбцов.\n",
    "- Выведите информацию, которая необходима вам для принятия решений о предобработке, для каждого из датасетов."
   ]
  },
  {
   "cell_type": "code",
   "execution_count": 1,
   "metadata": {
    "colab": {
     "base_uri": "https://localhost:8080/"
    },
    "id": "W_W4jRazrJg0",
    "outputId": "d2409aad-233f-4bb4-ec71-7da96594f9df",
    "scrolled": true,
    "vscode": {
     "languageId": "plaintext"
    }
   },
   "outputs": [
    {
     "name": "stdout",
     "output_type": "stream",
     "text": [
      "Requirement already satisfied: phik in /opt/conda/lib/python3.9/site-packages (0.12.4)\n",
      "Requirement already satisfied: scipy>=1.5.2 in /opt/conda/lib/python3.9/site-packages (from phik) (1.9.1)\n",
      "Requirement already satisfied: joblib>=0.14.1 in /opt/conda/lib/python3.9/site-packages (from phik) (1.1.0)\n",
      "Requirement already satisfied: matplotlib>=2.2.3 in /opt/conda/lib/python3.9/site-packages (from phik) (3.3.4)\n",
      "Requirement already satisfied: numpy>=1.18.0 in /opt/conda/lib/python3.9/site-packages (from phik) (1.21.1)\n",
      "Requirement already satisfied: pandas>=0.25.1 in /opt/conda/lib/python3.9/site-packages (from phik) (1.2.4)\n",
      "Requirement already satisfied: cycler>=0.10 in /opt/conda/lib/python3.9/site-packages (from matplotlib>=2.2.3->phik) (0.11.0)\n",
      "Requirement already satisfied: python-dateutil>=2.1 in /opt/conda/lib/python3.9/site-packages (from matplotlib>=2.2.3->phik) (2.8.1)\n",
      "Requirement already satisfied: pillow>=6.2.0 in /opt/conda/lib/python3.9/site-packages (from matplotlib>=2.2.3->phik) (8.4.0)\n",
      "Requirement already satisfied: kiwisolver>=1.0.1 in /opt/conda/lib/python3.9/site-packages (from matplotlib>=2.2.3->phik) (1.4.4)\n",
      "Requirement already satisfied: pyparsing!=2.0.4,!=2.1.2,!=2.1.6,>=2.0.3 in /opt/conda/lib/python3.9/site-packages (from matplotlib>=2.2.3->phik) (2.4.7)\n",
      "Requirement already satisfied: pytz>=2017.3 in /opt/conda/lib/python3.9/site-packages (from pandas>=0.25.1->phik) (2021.1)\n",
      "Requirement already satisfied: six>=1.5 in /opt/conda/lib/python3.9/site-packages (from python-dateutil>=2.1->matplotlib>=2.2.3->phik) (1.16.0)\n"
     ]
    }
   ],
   "source": [
    "# Импортируем все необходимые библиотеки \n",
    "! pip install phik\n",
    "import pandas as pd\n",
    "import numpy as np\n",
    "import matplotlib.pyplot as plt\n",
    "import seaborn as sns\n",
    "import os \n",
    "from phik import phik_matrix\n"
   ]
  },
  {
   "cell_type": "code",
   "execution_count": 2,
   "metadata": {
    "id": "2Tm4Pk__Felf"
   },
   "outputs": [],
   "source": [
    "# Загружаем таблицу acquisition и знакомимся с ней\n",
    "df_acquisition = pd.read_csv ('https://code.s3.yandex.net/datasets/acquisition.csv')"
   ]
  },
  {
   "cell_type": "code",
   "execution_count": 3,
   "metadata": {
    "id": "oNqJ2qpRFebv"
   },
   "outputs": [
    {
     "name": "stdout",
     "output_type": "stream",
     "text": [
      "<class 'pandas.core.frame.DataFrame'>\n",
      "RangeIndex: 9407 entries, 0 to 9406\n",
      "Data columns (total 6 columns):\n",
      " #   Column                Non-Null Count  Dtype \n",
      "---  ------                --------------  ----- \n",
      " 0   id                    9407 non-null   int64 \n",
      " 1   acquiring_company_id  9407 non-null   int64 \n",
      " 2   acquired_company_id   9407 non-null   int64 \n",
      " 3   term_code             1831 non-null   object\n",
      " 4   price_amount          9407 non-null   int64 \n",
      " 5   acquired_at           9378 non-null   object\n",
      "dtypes: int64(4), object(2)\n",
      "memory usage: 441.1+ KB\n"
     ]
    }
   ],
   "source": [
    "df_acquisition.info()"
   ]
  },
  {
   "cell_type": "code",
   "execution_count": 4,
   "metadata": {
    "scrolled": true
   },
   "outputs": [
    {
     "data": {
      "text/html": [
       "<div>\n",
       "<style scoped>\n",
       "    .dataframe tbody tr th:only-of-type {\n",
       "        vertical-align: middle;\n",
       "    }\n",
       "\n",
       "    .dataframe tbody tr th {\n",
       "        vertical-align: top;\n",
       "    }\n",
       "\n",
       "    .dataframe thead th {\n",
       "        text-align: right;\n",
       "    }\n",
       "</style>\n",
       "<table border=\"1\" class=\"dataframe\">\n",
       "  <thead>\n",
       "    <tr style=\"text-align: right;\">\n",
       "      <th></th>\n",
       "      <th>id</th>\n",
       "      <th>acquiring_company_id</th>\n",
       "      <th>acquired_company_id</th>\n",
       "      <th>term_code</th>\n",
       "      <th>price_amount</th>\n",
       "      <th>acquired_at</th>\n",
       "    </tr>\n",
       "  </thead>\n",
       "  <tbody>\n",
       "    <tr>\n",
       "      <th>0</th>\n",
       "      <td>1</td>\n",
       "      <td>11</td>\n",
       "      <td>10</td>\n",
       "      <td>NaN</td>\n",
       "      <td>20000000</td>\n",
       "      <td>2007-05-30</td>\n",
       "    </tr>\n",
       "    <tr>\n",
       "      <th>1</th>\n",
       "      <td>7</td>\n",
       "      <td>59</td>\n",
       "      <td>72</td>\n",
       "      <td>cash</td>\n",
       "      <td>60000000</td>\n",
       "      <td>2007-07-01</td>\n",
       "    </tr>\n",
       "    <tr>\n",
       "      <th>2</th>\n",
       "      <td>8</td>\n",
       "      <td>24</td>\n",
       "      <td>132</td>\n",
       "      <td>cash</td>\n",
       "      <td>280000000</td>\n",
       "      <td>2007-05-01</td>\n",
       "    </tr>\n",
       "    <tr>\n",
       "      <th>3</th>\n",
       "      <td>9</td>\n",
       "      <td>59</td>\n",
       "      <td>155</td>\n",
       "      <td>cash</td>\n",
       "      <td>100000000</td>\n",
       "      <td>2007-06-01</td>\n",
       "    </tr>\n",
       "    <tr>\n",
       "      <th>4</th>\n",
       "      <td>10</td>\n",
       "      <td>212</td>\n",
       "      <td>215</td>\n",
       "      <td>cash</td>\n",
       "      <td>25000000</td>\n",
       "      <td>2007-07-01</td>\n",
       "    </tr>\n",
       "  </tbody>\n",
       "</table>\n",
       "</div>"
      ],
      "text/plain": [
       "   id  acquiring_company_id  acquired_company_id term_code  price_amount  \\\n",
       "0   1                    11                   10       NaN      20000000   \n",
       "1   7                    59                   72      cash      60000000   \n",
       "2   8                    24                  132      cash     280000000   \n",
       "3   9                    59                  155      cash     100000000   \n",
       "4  10                   212                  215      cash      25000000   \n",
       "\n",
       "  acquired_at  \n",
       "0  2007-05-30  \n",
       "1  2007-07-01  \n",
       "2  2007-05-01  \n",
       "3  2007-06-01  \n",
       "4  2007-07-01  "
      ]
     },
     "execution_count": 4,
     "metadata": {},
     "output_type": "execute_result"
    }
   ],
   "source": [
    "df_acquisition.head()"
   ]
  },
  {
   "cell_type": "code",
   "execution_count": 5,
   "metadata": {},
   "outputs": [],
   "source": [
    "# Названия столбцов в таблице acquisition релевантны "
   ]
  },
  {
   "cell_type": "code",
   "execution_count": 6,
   "metadata": {},
   "outputs": [],
   "source": [
    "# Загружаем таблицу company_and_rounds и знакомимся с ней"
   ]
  },
  {
   "cell_type": "code",
   "execution_count": 7,
   "metadata": {},
   "outputs": [],
   "source": [
    "df_company_and_rounds = pd.read_csv ('https://code.s3.yandex.net/datasets/company_and_rounds.csv')"
   ]
  },
  {
   "cell_type": "code",
   "execution_count": 8,
   "metadata": {},
   "outputs": [
    {
     "name": "stdout",
     "output_type": "stream",
     "text": [
      "<class 'pandas.core.frame.DataFrame'>\n",
      "RangeIndex: 217774 entries, 0 to 217773\n",
      "Data columns (total 22 columns):\n",
      " #   Column                 Non-Null Count   Dtype  \n",
      "---  ------                 --------------   -----  \n",
      " 0   company  ID            217472 non-null  float64\n",
      " 1   name                   217472 non-null  object \n",
      " 2   category  code         143886 non-null  object \n",
      " 3   status                 217472 non-null  object \n",
      " 4   founded  at            109956 non-null  object \n",
      " 5   closed  at             3449 non-null    object \n",
      " 6   domain                 147159 non-null  object \n",
      " 7   network  username      95534 non-null   object \n",
      " 8   country  code          108607 non-null  object \n",
      " 9   investment  rounds     217472 non-null  float64\n",
      " 10  funding  rounds        217472 non-null  float64\n",
      " 11  funding  total         217472 non-null  float64\n",
      " 12  milestones             217472 non-null  float64\n",
      " 13  funding  round  id     52928 non-null   float64\n",
      " 14  company  id            52928 non-null   float64\n",
      " 15  funded  at             52680 non-null   object \n",
      " 16  funding  round  type   52928 non-null   object \n",
      " 17  raised  amount         52928 non-null   float64\n",
      " 18  pre  money  valuation  52928 non-null   float64\n",
      " 19  participants           52928 non-null   float64\n",
      " 20  is  first  round       52928 non-null   float64\n",
      " 21  is  last  round        52928 non-null   float64\n",
      "dtypes: float64(12), object(10)\n",
      "memory usage: 36.6+ MB\n"
     ]
    }
   ],
   "source": [
    "df_company_and_rounds.info()"
   ]
  },
  {
   "cell_type": "code",
   "execution_count": 9,
   "metadata": {
    "scrolled": true
   },
   "outputs": [
    {
     "data": {
      "text/html": [
       "<div>\n",
       "<style scoped>\n",
       "    .dataframe tbody tr th:only-of-type {\n",
       "        vertical-align: middle;\n",
       "    }\n",
       "\n",
       "    .dataframe tbody tr th {\n",
       "        vertical-align: top;\n",
       "    }\n",
       "\n",
       "    .dataframe thead th {\n",
       "        text-align: right;\n",
       "    }\n",
       "</style>\n",
       "<table border=\"1\" class=\"dataframe\">\n",
       "  <thead>\n",
       "    <tr style=\"text-align: right;\">\n",
       "      <th></th>\n",
       "      <th>company  ID</th>\n",
       "      <th>name</th>\n",
       "      <th>category  code</th>\n",
       "      <th>status</th>\n",
       "      <th>founded  at</th>\n",
       "      <th>closed  at</th>\n",
       "      <th>domain</th>\n",
       "      <th>network  username</th>\n",
       "      <th>country  code</th>\n",
       "      <th>investment  rounds</th>\n",
       "      <th>...</th>\n",
       "      <th>milestones</th>\n",
       "      <th>funding  round  id</th>\n",
       "      <th>company  id</th>\n",
       "      <th>funded  at</th>\n",
       "      <th>funding  round  type</th>\n",
       "      <th>raised  amount</th>\n",
       "      <th>pre  money  valuation</th>\n",
       "      <th>participants</th>\n",
       "      <th>is  first  round</th>\n",
       "      <th>is  last  round</th>\n",
       "    </tr>\n",
       "  </thead>\n",
       "  <tbody>\n",
       "    <tr>\n",
       "      <th>0</th>\n",
       "      <td>1.0</td>\n",
       "      <td>Wetpaint</td>\n",
       "      <td>web</td>\n",
       "      <td>operating</td>\n",
       "      <td>2005-10-17</td>\n",
       "      <td>NaN</td>\n",
       "      <td>wetpaint-inc.com</td>\n",
       "      <td>BachelrWetpaint</td>\n",
       "      <td>USA</td>\n",
       "      <td>0.0</td>\n",
       "      <td>...</td>\n",
       "      <td>5.0</td>\n",
       "      <td>888.0</td>\n",
       "      <td>1.0</td>\n",
       "      <td>2005-10-01</td>\n",
       "      <td>series-a</td>\n",
       "      <td>5250000.0</td>\n",
       "      <td>0.0</td>\n",
       "      <td>2.0</td>\n",
       "      <td>0.0</td>\n",
       "      <td>1.0</td>\n",
       "    </tr>\n",
       "    <tr>\n",
       "      <th>1</th>\n",
       "      <td>1.0</td>\n",
       "      <td>Wetpaint</td>\n",
       "      <td>web</td>\n",
       "      <td>operating</td>\n",
       "      <td>2005-10-17</td>\n",
       "      <td>NaN</td>\n",
       "      <td>wetpaint-inc.com</td>\n",
       "      <td>BachelrWetpaint</td>\n",
       "      <td>USA</td>\n",
       "      <td>0.0</td>\n",
       "      <td>...</td>\n",
       "      <td>5.0</td>\n",
       "      <td>889.0</td>\n",
       "      <td>1.0</td>\n",
       "      <td>2007-01-01</td>\n",
       "      <td>series-b</td>\n",
       "      <td>9500000.0</td>\n",
       "      <td>0.0</td>\n",
       "      <td>3.0</td>\n",
       "      <td>0.0</td>\n",
       "      <td>0.0</td>\n",
       "    </tr>\n",
       "    <tr>\n",
       "      <th>2</th>\n",
       "      <td>1.0</td>\n",
       "      <td>Wetpaint</td>\n",
       "      <td>web</td>\n",
       "      <td>operating</td>\n",
       "      <td>2005-10-17</td>\n",
       "      <td>NaN</td>\n",
       "      <td>wetpaint-inc.com</td>\n",
       "      <td>BachelrWetpaint</td>\n",
       "      <td>USA</td>\n",
       "      <td>0.0</td>\n",
       "      <td>...</td>\n",
       "      <td>5.0</td>\n",
       "      <td>2312.0</td>\n",
       "      <td>1.0</td>\n",
       "      <td>2008-05-19</td>\n",
       "      <td>series-c+</td>\n",
       "      <td>25000000.0</td>\n",
       "      <td>0.0</td>\n",
       "      <td>4.0</td>\n",
       "      <td>1.0</td>\n",
       "      <td>0.0</td>\n",
       "    </tr>\n",
       "    <tr>\n",
       "      <th>3</th>\n",
       "      <td>10.0</td>\n",
       "      <td>Flektor</td>\n",
       "      <td>games_video</td>\n",
       "      <td>acquired</td>\n",
       "      <td>NaN</td>\n",
       "      <td>NaN</td>\n",
       "      <td>flektor.com</td>\n",
       "      <td>NaN</td>\n",
       "      <td>USA</td>\n",
       "      <td>0.0</td>\n",
       "      <td>...</td>\n",
       "      <td>0.0</td>\n",
       "      <td>NaN</td>\n",
       "      <td>NaN</td>\n",
       "      <td>NaN</td>\n",
       "      <td>NaN</td>\n",
       "      <td>NaN</td>\n",
       "      <td>NaN</td>\n",
       "      <td>NaN</td>\n",
       "      <td>NaN</td>\n",
       "      <td>NaN</td>\n",
       "    </tr>\n",
       "    <tr>\n",
       "      <th>4</th>\n",
       "      <td>100.0</td>\n",
       "      <td>There</td>\n",
       "      <td>games_video</td>\n",
       "      <td>acquired</td>\n",
       "      <td>NaN</td>\n",
       "      <td>NaN</td>\n",
       "      <td>there.com</td>\n",
       "      <td>NaN</td>\n",
       "      <td>USA</td>\n",
       "      <td>0.0</td>\n",
       "      <td>...</td>\n",
       "      <td>4.0</td>\n",
       "      <td>NaN</td>\n",
       "      <td>NaN</td>\n",
       "      <td>NaN</td>\n",
       "      <td>NaN</td>\n",
       "      <td>NaN</td>\n",
       "      <td>NaN</td>\n",
       "      <td>NaN</td>\n",
       "      <td>NaN</td>\n",
       "      <td>NaN</td>\n",
       "    </tr>\n",
       "  </tbody>\n",
       "</table>\n",
       "<p>5 rows × 22 columns</p>\n",
       "</div>"
      ],
      "text/plain": [
       "   company  ID      name category  code     status founded  at closed  at  \\\n",
       "0          1.0  Wetpaint            web  operating  2005-10-17        NaN   \n",
       "1          1.0  Wetpaint            web  operating  2005-10-17        NaN   \n",
       "2          1.0  Wetpaint            web  operating  2005-10-17        NaN   \n",
       "3         10.0   Flektor    games_video   acquired         NaN        NaN   \n",
       "4        100.0     There    games_video   acquired         NaN        NaN   \n",
       "\n",
       "             domain network  username country  code  investment  rounds  ...  \\\n",
       "0  wetpaint-inc.com   BachelrWetpaint           USA                 0.0  ...   \n",
       "1  wetpaint-inc.com   BachelrWetpaint           USA                 0.0  ...   \n",
       "2  wetpaint-inc.com   BachelrWetpaint           USA                 0.0  ...   \n",
       "3       flektor.com               NaN           USA                 0.0  ...   \n",
       "4         there.com               NaN           USA                 0.0  ...   \n",
       "\n",
       "   milestones  funding  round  id  company  id  funded  at  \\\n",
       "0         5.0               888.0          1.0  2005-10-01   \n",
       "1         5.0               889.0          1.0  2007-01-01   \n",
       "2         5.0              2312.0          1.0  2008-05-19   \n",
       "3         0.0                 NaN          NaN         NaN   \n",
       "4         4.0                 NaN          NaN         NaN   \n",
       "\n",
       "   funding  round  type raised  amount pre  money  valuation  participants  \\\n",
       "0              series-a      5250000.0                   0.0           2.0   \n",
       "1              series-b      9500000.0                   0.0           3.0   \n",
       "2             series-c+     25000000.0                   0.0           4.0   \n",
       "3                   NaN            NaN                   NaN           NaN   \n",
       "4                   NaN            NaN                   NaN           NaN   \n",
       "\n",
       "   is  first  round  is  last  round  \n",
       "0               0.0              1.0  \n",
       "1               0.0              0.0  \n",
       "2               1.0              0.0  \n",
       "3               NaN              NaN  \n",
       "4               NaN              NaN  \n",
       "\n",
       "[5 rows x 22 columns]"
      ]
     },
     "execution_count": 9,
     "metadata": {},
     "output_type": "execute_result"
    }
   ],
   "source": [
    "df_company_and_rounds.head()"
   ]
  },
  {
   "cell_type": "code",
   "execution_count": 10,
   "metadata": {},
   "outputs": [],
   "source": [
    "# Названия столбцов в таблице company_and_rounds необходимо привести к типу snake_case. \n",
    "# Также стоит обратить внимание на два столбца с названием company ID и company id. "
   ]
  },
  {
   "cell_type": "code",
   "execution_count": 11,
   "metadata": {
    "scrolled": true
   },
   "outputs": [
    {
     "data": {
      "text/plain": [
       "Index(['company_ID', 'name', 'category_code', 'status', 'founded_at',\n",
       "       'closed_at', 'domain', 'network_username', 'country_code',\n",
       "       'investment_rounds', 'funding_rounds', 'funding_total', 'milestones',\n",
       "       'funding_round_id', 'company_id', 'funded_at', 'funding_round_type',\n",
       "       'raised_amount', 'pre_money_valuation', 'participants',\n",
       "       'is_first_round', 'is_last_round'],\n",
       "      dtype='object')"
      ]
     },
     "execution_count": 11,
     "metadata": {},
     "output_type": "execute_result"
    }
   ],
   "source": [
    "# приводим названия столбцов к виду snake_case, заменяя пробелы на _\n",
    "df_company_and_rounds.columns = df_company_and_rounds.columns.str.replace ('  ', ' ')\n",
    "df_company_and_rounds.columns = df_company_and_rounds.columns.str.replace (' ', '_')\n",
    "df_company_and_rounds.columns \n",
    "# приводим столбец company__ID к виду snake_case\n",
    "df_company_and_rounds = df_company_and_rounds.rename(columns={'company__ID':'company__id'})\n",
    "df_company_and_rounds.columns"
   ]
  },
  {
   "cell_type": "code",
   "execution_count": 12,
   "metadata": {},
   "outputs": [
    {
     "name": "stdout",
     "output_type": "stream",
     "text": [
      "<class 'pandas.core.frame.DataFrame'>\n",
      "RangeIndex: 217774 entries, 0 to 217773\n",
      "Data columns (total 22 columns):\n",
      " #   Column               Non-Null Count   Dtype  \n",
      "---  ------               --------------   -----  \n",
      " 0   company_ID           217472 non-null  float64\n",
      " 1   name                 217472 non-null  object \n",
      " 2   category_code        143886 non-null  object \n",
      " 3   status               217472 non-null  object \n",
      " 4   founded_at           109956 non-null  object \n",
      " 5   closed_at            3449 non-null    object \n",
      " 6   domain               147159 non-null  object \n",
      " 7   network_username     95534 non-null   object \n",
      " 8   country_code         108607 non-null  object \n",
      " 9   investment_rounds    217472 non-null  float64\n",
      " 10  funding_rounds       217472 non-null  float64\n",
      " 11  funding_total        217472 non-null  float64\n",
      " 12  milestones           217472 non-null  float64\n",
      " 13  funding_round_id     52928 non-null   float64\n",
      " 14  company_id           52928 non-null   float64\n",
      " 15  funded_at            52680 non-null   object \n",
      " 16  funding_round_type   52928 non-null   object \n",
      " 17  raised_amount        52928 non-null   float64\n",
      " 18  pre_money_valuation  52928 non-null   float64\n",
      " 19  participants         52928 non-null   float64\n",
      " 20  is_first_round       52928 non-null   float64\n",
      " 21  is_last_round        52928 non-null   float64\n",
      "dtypes: float64(12), object(10)\n",
      "memory usage: 36.6+ MB\n"
     ]
    }
   ],
   "source": [
    "df_company_and_rounds.info()"
   ]
  },
  {
   "cell_type": "code",
   "execution_count": 13,
   "metadata": {},
   "outputs": [],
   "source": [
    "# Загружаем таблицу people и знакомимся с ней"
   ]
  },
  {
   "cell_type": "code",
   "execution_count": 14,
   "metadata": {},
   "outputs": [],
   "source": [
    "df_people = pd.read_csv ('https://code.s3.yandex.net/datasets/people.csv')"
   ]
  },
  {
   "cell_type": "code",
   "execution_count": 15,
   "metadata": {},
   "outputs": [
    {
     "name": "stdout",
     "output_type": "stream",
     "text": [
      "<class 'pandas.core.frame.DataFrame'>\n",
      "RangeIndex: 226709 entries, 0 to 226708\n",
      "Data columns (total 5 columns):\n",
      " #   Column            Non-Null Count   Dtype  \n",
      "---  ------            --------------   -----  \n",
      " 0   id                226709 non-null  int64  \n",
      " 1   first_name        226704 non-null  object \n",
      " 2   last_name         226708 non-null  object \n",
      " 3   company_id        34615 non-null   float64\n",
      " 4   network_username  38867 non-null   object \n",
      "dtypes: float64(1), int64(1), object(3)\n",
      "memory usage: 8.6+ MB\n"
     ]
    }
   ],
   "source": [
    "df_people.info()"
   ]
  },
  {
   "cell_type": "code",
   "execution_count": 16,
   "metadata": {},
   "outputs": [],
   "source": [
    "# Названия столбцов в таблице people релевантны "
   ]
  },
  {
   "cell_type": "code",
   "execution_count": 17,
   "metadata": {},
   "outputs": [
    {
     "data": {
      "text/html": [
       "<div>\n",
       "<style scoped>\n",
       "    .dataframe tbody tr th:only-of-type {\n",
       "        vertical-align: middle;\n",
       "    }\n",
       "\n",
       "    .dataframe tbody tr th {\n",
       "        vertical-align: top;\n",
       "    }\n",
       "\n",
       "    .dataframe thead th {\n",
       "        text-align: right;\n",
       "    }\n",
       "</style>\n",
       "<table border=\"1\" class=\"dataframe\">\n",
       "  <thead>\n",
       "    <tr style=\"text-align: right;\">\n",
       "      <th></th>\n",
       "      <th>id</th>\n",
       "      <th>first_name</th>\n",
       "      <th>last_name</th>\n",
       "      <th>company_id</th>\n",
       "      <th>network_username</th>\n",
       "    </tr>\n",
       "  </thead>\n",
       "  <tbody>\n",
       "    <tr>\n",
       "      <th>0</th>\n",
       "      <td>10</td>\n",
       "      <td>Mark</td>\n",
       "      <td>Zuckerberg</td>\n",
       "      <td>5.0</td>\n",
       "      <td>NaN</td>\n",
       "    </tr>\n",
       "    <tr>\n",
       "      <th>1</th>\n",
       "      <td>100</td>\n",
       "      <td>Peter</td>\n",
       "      <td>Lester</td>\n",
       "      <td>27.0</td>\n",
       "      <td>NaN</td>\n",
       "    </tr>\n",
       "    <tr>\n",
       "      <th>2</th>\n",
       "      <td>1000</td>\n",
       "      <td>Dr. Steven</td>\n",
       "      <td>E. Saunders</td>\n",
       "      <td>292.0</td>\n",
       "      <td>NaN</td>\n",
       "    </tr>\n",
       "    <tr>\n",
       "      <th>3</th>\n",
       "      <td>10000</td>\n",
       "      <td>Neil</td>\n",
       "      <td>Capel</td>\n",
       "      <td>2526.0</td>\n",
       "      <td>NaN</td>\n",
       "    </tr>\n",
       "    <tr>\n",
       "      <th>4</th>\n",
       "      <td>100000</td>\n",
       "      <td>Sue</td>\n",
       "      <td>Pilsch</td>\n",
       "      <td>NaN</td>\n",
       "      <td>NaN</td>\n",
       "    </tr>\n",
       "  </tbody>\n",
       "</table>\n",
       "</div>"
      ],
      "text/plain": [
       "       id  first_name    last_name  company_id network_username\n",
       "0      10        Mark   Zuckerberg         5.0              NaN\n",
       "1     100       Peter       Lester        27.0              NaN\n",
       "2    1000  Dr. Steven  E. Saunders       292.0              NaN\n",
       "3   10000        Neil        Capel      2526.0              NaN\n",
       "4  100000         Sue       Pilsch         NaN              NaN"
      ]
     },
     "execution_count": 17,
     "metadata": {},
     "output_type": "execute_result"
    }
   ],
   "source": [
    "df_people.head()"
   ]
  },
  {
   "cell_type": "code",
   "execution_count": 18,
   "metadata": {},
   "outputs": [],
   "source": [
    "# Загружаем таблицу education и знакомимся с ней"
   ]
  },
  {
   "cell_type": "code",
   "execution_count": 19,
   "metadata": {},
   "outputs": [],
   "source": [
    "df_education = pd.read_csv ('https://code.s3.yandex.net/datasets/education.csv')"
   ]
  },
  {
   "cell_type": "code",
   "execution_count": 20,
   "metadata": {},
   "outputs": [
    {
     "name": "stdout",
     "output_type": "stream",
     "text": [
      "<class 'pandas.core.frame.DataFrame'>\n",
      "RangeIndex: 109610 entries, 0 to 109609\n",
      "Data columns (total 4 columns):\n",
      " #   Column        Non-Null Count   Dtype \n",
      "---  ------        --------------   ----- \n",
      " 0   id            109610 non-null  int64 \n",
      " 1   person_id     109610 non-null  int64 \n",
      " 2   instituition  109555 non-null  object\n",
      " 3   graduated_at  58054 non-null   object\n",
      "dtypes: int64(2), object(2)\n",
      "memory usage: 3.3+ MB\n"
     ]
    }
   ],
   "source": [
    "df_education.info()"
   ]
  },
  {
   "cell_type": "code",
   "execution_count": 21,
   "metadata": {},
   "outputs": [
    {
     "data": {
      "text/html": [
       "<div>\n",
       "<style scoped>\n",
       "    .dataframe tbody tr th:only-of-type {\n",
       "        vertical-align: middle;\n",
       "    }\n",
       "\n",
       "    .dataframe tbody tr th {\n",
       "        vertical-align: top;\n",
       "    }\n",
       "\n",
       "    .dataframe thead th {\n",
       "        text-align: right;\n",
       "    }\n",
       "</style>\n",
       "<table border=\"1\" class=\"dataframe\">\n",
       "  <thead>\n",
       "    <tr style=\"text-align: right;\">\n",
       "      <th></th>\n",
       "      <th>id</th>\n",
       "      <th>person_id</th>\n",
       "      <th>instituition</th>\n",
       "      <th>graduated_at</th>\n",
       "    </tr>\n",
       "  </thead>\n",
       "  <tbody>\n",
       "    <tr>\n",
       "      <th>0</th>\n",
       "      <td>1</td>\n",
       "      <td>6117</td>\n",
       "      <td>NaN</td>\n",
       "      <td>NaN</td>\n",
       "    </tr>\n",
       "    <tr>\n",
       "      <th>1</th>\n",
       "      <td>2</td>\n",
       "      <td>6136</td>\n",
       "      <td>Washington University, St. Louis</td>\n",
       "      <td>1990-01-01</td>\n",
       "    </tr>\n",
       "    <tr>\n",
       "      <th>2</th>\n",
       "      <td>3</td>\n",
       "      <td>6136</td>\n",
       "      <td>Boston University</td>\n",
       "      <td>1992-01-01</td>\n",
       "    </tr>\n",
       "    <tr>\n",
       "      <th>3</th>\n",
       "      <td>4</td>\n",
       "      <td>6005</td>\n",
       "      <td>University of Greenwich</td>\n",
       "      <td>2006-01-01</td>\n",
       "    </tr>\n",
       "    <tr>\n",
       "      <th>4</th>\n",
       "      <td>5</td>\n",
       "      <td>5832</td>\n",
       "      <td>Rice University</td>\n",
       "      <td>NaN</td>\n",
       "    </tr>\n",
       "  </tbody>\n",
       "</table>\n",
       "</div>"
      ],
      "text/plain": [
       "   id  person_id                      instituition graduated_at\n",
       "0   1       6117                               NaN          NaN\n",
       "1   2       6136  Washington University, St. Louis   1990-01-01\n",
       "2   3       6136                 Boston University   1992-01-01\n",
       "3   4       6005           University of Greenwich   2006-01-01\n",
       "4   5       5832                   Rice University          NaN"
      ]
     },
     "execution_count": 21,
     "metadata": {},
     "output_type": "execute_result"
    }
   ],
   "source": [
    "df_education.head()"
   ]
  },
  {
   "cell_type": "code",
   "execution_count": 22,
   "metadata": {},
   "outputs": [],
   "source": [
    "# Названия столбцов в таблице education релевантны "
   ]
  },
  {
   "cell_type": "code",
   "execution_count": 23,
   "metadata": {},
   "outputs": [],
   "source": [
    "# Загружаем таблицу degrees и знакомимся с ней"
   ]
  },
  {
   "cell_type": "code",
   "execution_count": 24,
   "metadata": {},
   "outputs": [],
   "source": [
    "df_degrees = pd.read_csv ('https://code.s3.yandex.net/datasets/degrees.csv')"
   ]
  },
  {
   "cell_type": "code",
   "execution_count": 25,
   "metadata": {},
   "outputs": [
    {
     "name": "stdout",
     "output_type": "stream",
     "text": [
      "<class 'pandas.core.frame.DataFrame'>\n",
      "RangeIndex: 109610 entries, 0 to 109609\n",
      "Data columns (total 4 columns):\n",
      " #   Column       Non-Null Count   Dtype \n",
      "---  ------       --------------   ----- \n",
      " 0   id           109610 non-null  int64 \n",
      " 1   object_id    109610 non-null  object\n",
      " 2   degree_type  98392 non-null   object\n",
      " 3   subject      81298 non-null   object\n",
      "dtypes: int64(1), object(3)\n",
      "memory usage: 3.3+ MB\n"
     ]
    }
   ],
   "source": [
    "df_degrees.info()"
   ]
  },
  {
   "cell_type": "code",
   "execution_count": 26,
   "metadata": {},
   "outputs": [
    {
     "data": {
      "text/html": [
       "<div>\n",
       "<style scoped>\n",
       "    .dataframe tbody tr th:only-of-type {\n",
       "        vertical-align: middle;\n",
       "    }\n",
       "\n",
       "    .dataframe tbody tr th {\n",
       "        vertical-align: top;\n",
       "    }\n",
       "\n",
       "    .dataframe thead th {\n",
       "        text-align: right;\n",
       "    }\n",
       "</style>\n",
       "<table border=\"1\" class=\"dataframe\">\n",
       "  <thead>\n",
       "    <tr style=\"text-align: right;\">\n",
       "      <th></th>\n",
       "      <th>id</th>\n",
       "      <th>object_id</th>\n",
       "      <th>degree_type</th>\n",
       "      <th>subject</th>\n",
       "    </tr>\n",
       "  </thead>\n",
       "  <tbody>\n",
       "    <tr>\n",
       "      <th>0</th>\n",
       "      <td>1</td>\n",
       "      <td>p:6117</td>\n",
       "      <td>MBA</td>\n",
       "      <td>NaN</td>\n",
       "    </tr>\n",
       "    <tr>\n",
       "      <th>1</th>\n",
       "      <td>2</td>\n",
       "      <td>p:6136</td>\n",
       "      <td>BA</td>\n",
       "      <td>English, French</td>\n",
       "    </tr>\n",
       "    <tr>\n",
       "      <th>2</th>\n",
       "      <td>3</td>\n",
       "      <td>p:6136</td>\n",
       "      <td>MS</td>\n",
       "      <td>Mass Communication</td>\n",
       "    </tr>\n",
       "    <tr>\n",
       "      <th>3</th>\n",
       "      <td>4</td>\n",
       "      <td>p:6005</td>\n",
       "      <td>MS</td>\n",
       "      <td>Internet Technology</td>\n",
       "    </tr>\n",
       "    <tr>\n",
       "      <th>4</th>\n",
       "      <td>5</td>\n",
       "      <td>p:5832</td>\n",
       "      <td>BCS</td>\n",
       "      <td>Computer Science, Psychology</td>\n",
       "    </tr>\n",
       "  </tbody>\n",
       "</table>\n",
       "</div>"
      ],
      "text/plain": [
       "   id object_id degree_type                       subject\n",
       "0   1    p:6117         MBA                           NaN\n",
       "1   2    p:6136          BA               English, French\n",
       "2   3    p:6136          MS            Mass Communication\n",
       "3   4    p:6005          MS           Internet Technology\n",
       "4   5    p:5832         BCS  Computer Science, Psychology"
      ]
     },
     "execution_count": 26,
     "metadata": {},
     "output_type": "execute_result"
    }
   ],
   "source": [
    "df_degrees.head()"
   ]
  },
  {
   "cell_type": "code",
   "execution_count": 27,
   "metadata": {},
   "outputs": [],
   "source": [
    "# Названия столбцов в таблице degrees релевантны "
   ]
  },
  {
   "cell_type": "markdown",
   "metadata": {},
   "source": [
    "Было проведено знакомство со всеми таблицами \n",
    "Также были проверены все столбцы на релевантность названия и правильность написания. Названия столбцов в таблице company_and_rounds были приведены к типу snake_case. Также стоит обратить внимание на два столбца в данной таблице с названиями company ID и company id, эти столбцы дублируются по названию и по содержащимся в них данным.\n",
    "Проблем с другими таблицами в данном контексте не выявлено."
   ]
  },
  {
   "cell_type": "markdown",
   "metadata": {
    "id": "mg2gEwh0rJg0"
   },
   "source": [
    "### 1.2. Смена типов и анализ пропусков\n",
    "\n",
    "- Обработайте типы данных в столбцах, которые хранят значения даты и времени, если это необходимо.\n",
    "- Оцените полноту данных — сделайте предварительный вывод, достаточно ли данных для решения задач проекта."
   ]
  },
  {
   "cell_type": "code",
   "execution_count": 28,
   "metadata": {
    "id": "FsL0A8RBrJg1",
    "vscode": {
     "languageId": "plaintext"
    }
   },
   "outputs": [],
   "source": [
    "# Меняем типы данных в таблице df_acquisition "
   ]
  },
  {
   "cell_type": "code",
   "execution_count": 29,
   "metadata": {
    "id": "46VskrGyFeJ-",
    "scrolled": true
   },
   "outputs": [
    {
     "name": "stdout",
     "output_type": "stream",
     "text": [
      "<class 'pandas.core.frame.DataFrame'>\n",
      "RangeIndex: 9407 entries, 0 to 9406\n",
      "Data columns (total 6 columns):\n",
      " #   Column                Non-Null Count  Dtype \n",
      "---  ------                --------------  ----- \n",
      " 0   id                    9407 non-null   int64 \n",
      " 1   acquiring_company_id  9407 non-null   int64 \n",
      " 2   acquired_company_id   9407 non-null   int64 \n",
      " 3   term_code             1831 non-null   object\n",
      " 4   price_amount          9407 non-null   int64 \n",
      " 5   acquired_at           9378 non-null   object\n",
      "dtypes: int64(4), object(2)\n",
      "memory usage: 441.1+ KB\n"
     ]
    }
   ],
   "source": [
    "df_acquisition.info()"
   ]
  },
  {
   "cell_type": "code",
   "execution_count": 30,
   "metadata": {},
   "outputs": [],
   "source": [
    "# Видно, что смена типа данных необходима в столбце acquired_at на datetime64, так как в столбце содержится дата"
   ]
  },
  {
   "cell_type": "code",
   "execution_count": 31,
   "metadata": {
    "id": "DEg1tl8DFeBn"
   },
   "outputs": [],
   "source": [
    "df_acquisition['acquired_at'] = df_acquisition['acquired_at'].astype('datetime64')"
   ]
  },
  {
   "cell_type": "code",
   "execution_count": 32,
   "metadata": {},
   "outputs": [
    {
     "name": "stdout",
     "output_type": "stream",
     "text": [
      "<class 'pandas.core.frame.DataFrame'>\n",
      "RangeIndex: 9407 entries, 0 to 9406\n",
      "Data columns (total 6 columns):\n",
      " #   Column                Non-Null Count  Dtype         \n",
      "---  ------                --------------  -----         \n",
      " 0   id                    9407 non-null   int64         \n",
      " 1   acquiring_company_id  9407 non-null   int64         \n",
      " 2   acquired_company_id   9407 non-null   int64         \n",
      " 3   term_code             1831 non-null   object        \n",
      " 4   price_amount          9407 non-null   int64         \n",
      " 5   acquired_at           9378 non-null   datetime64[ns]\n",
      "dtypes: datetime64[ns](1), int64(4), object(1)\n",
      "memory usage: 441.1+ KB\n"
     ]
    }
   ],
   "source": [
    "df_acquisition.info()"
   ]
  },
  {
   "cell_type": "code",
   "execution_count": 33,
   "metadata": {},
   "outputs": [
    {
     "data": {
      "text/html": [
       "<div>\n",
       "<style scoped>\n",
       "    .dataframe tbody tr th:only-of-type {\n",
       "        vertical-align: middle;\n",
       "    }\n",
       "\n",
       "    .dataframe tbody tr th {\n",
       "        vertical-align: top;\n",
       "    }\n",
       "\n",
       "    .dataframe thead th {\n",
       "        text-align: right;\n",
       "    }\n",
       "</style>\n",
       "<table border=\"1\" class=\"dataframe\">\n",
       "  <thead>\n",
       "    <tr style=\"text-align: right;\">\n",
       "      <th></th>\n",
       "      <th>id</th>\n",
       "      <th>acquiring_company_id</th>\n",
       "      <th>acquired_company_id</th>\n",
       "      <th>term_code</th>\n",
       "      <th>price_amount</th>\n",
       "      <th>acquired_at</th>\n",
       "    </tr>\n",
       "  </thead>\n",
       "  <tbody>\n",
       "    <tr>\n",
       "      <th>0</th>\n",
       "      <td>1</td>\n",
       "      <td>11</td>\n",
       "      <td>10</td>\n",
       "      <td>NaN</td>\n",
       "      <td>20000000</td>\n",
       "      <td>2007-05-30</td>\n",
       "    </tr>\n",
       "    <tr>\n",
       "      <th>1</th>\n",
       "      <td>7</td>\n",
       "      <td>59</td>\n",
       "      <td>72</td>\n",
       "      <td>cash</td>\n",
       "      <td>60000000</td>\n",
       "      <td>2007-07-01</td>\n",
       "    </tr>\n",
       "    <tr>\n",
       "      <th>2</th>\n",
       "      <td>8</td>\n",
       "      <td>24</td>\n",
       "      <td>132</td>\n",
       "      <td>cash</td>\n",
       "      <td>280000000</td>\n",
       "      <td>2007-05-01</td>\n",
       "    </tr>\n",
       "    <tr>\n",
       "      <th>3</th>\n",
       "      <td>9</td>\n",
       "      <td>59</td>\n",
       "      <td>155</td>\n",
       "      <td>cash</td>\n",
       "      <td>100000000</td>\n",
       "      <td>2007-06-01</td>\n",
       "    </tr>\n",
       "    <tr>\n",
       "      <th>4</th>\n",
       "      <td>10</td>\n",
       "      <td>212</td>\n",
       "      <td>215</td>\n",
       "      <td>cash</td>\n",
       "      <td>25000000</td>\n",
       "      <td>2007-07-01</td>\n",
       "    </tr>\n",
       "  </tbody>\n",
       "</table>\n",
       "</div>"
      ],
      "text/plain": [
       "   id  acquiring_company_id  acquired_company_id term_code  price_amount  \\\n",
       "0   1                    11                   10       NaN      20000000   \n",
       "1   7                    59                   72      cash      60000000   \n",
       "2   8                    24                  132      cash     280000000   \n",
       "3   9                    59                  155      cash     100000000   \n",
       "4  10                   212                  215      cash      25000000   \n",
       "\n",
       "  acquired_at  \n",
       "0  2007-05-30  \n",
       "1  2007-07-01  \n",
       "2  2007-05-01  \n",
       "3  2007-06-01  \n",
       "4  2007-07-01  "
      ]
     },
     "execution_count": 33,
     "metadata": {},
     "output_type": "execute_result"
    }
   ],
   "source": [
    "df_acquisition.head()"
   ]
  },
  {
   "cell_type": "code",
   "execution_count": 34,
   "metadata": {},
   "outputs": [],
   "source": [
    "# Меняем типы данных в таблице df_company_and_rounds"
   ]
  },
  {
   "cell_type": "code",
   "execution_count": 35,
   "metadata": {},
   "outputs": [
    {
     "name": "stdout",
     "output_type": "stream",
     "text": [
      "<class 'pandas.core.frame.DataFrame'>\n",
      "RangeIndex: 217774 entries, 0 to 217773\n",
      "Data columns (total 22 columns):\n",
      " #   Column               Non-Null Count   Dtype  \n",
      "---  ------               --------------   -----  \n",
      " 0   company_ID           217472 non-null  float64\n",
      " 1   name                 217472 non-null  object \n",
      " 2   category_code        143886 non-null  object \n",
      " 3   status               217472 non-null  object \n",
      " 4   founded_at           109956 non-null  object \n",
      " 5   closed_at            3449 non-null    object \n",
      " 6   domain               147159 non-null  object \n",
      " 7   network_username     95534 non-null   object \n",
      " 8   country_code         108607 non-null  object \n",
      " 9   investment_rounds    217472 non-null  float64\n",
      " 10  funding_rounds       217472 non-null  float64\n",
      " 11  funding_total        217472 non-null  float64\n",
      " 12  milestones           217472 non-null  float64\n",
      " 13  funding_round_id     52928 non-null   float64\n",
      " 14  company_id           52928 non-null   float64\n",
      " 15  funded_at            52680 non-null   object \n",
      " 16  funding_round_type   52928 non-null   object \n",
      " 17  raised_amount        52928 non-null   float64\n",
      " 18  pre_money_valuation  52928 non-null   float64\n",
      " 19  participants         52928 non-null   float64\n",
      " 20  is_first_round       52928 non-null   float64\n",
      " 21  is_last_round        52928 non-null   float64\n",
      "dtypes: float64(12), object(10)\n",
      "memory usage: 36.6+ MB\n"
     ]
    }
   ],
   "source": [
    "df_company_and_rounds.info()"
   ]
  },
  {
   "cell_type": "code",
   "execution_count": 36,
   "metadata": {},
   "outputs": [],
   "source": [
    "# Смена типа данных необходима в столбцах, где записаны даты: founded__at, closed__at, funded__at. Менять будем на тип данных datetime64 "
   ]
  },
  {
   "cell_type": "code",
   "execution_count": 37,
   "metadata": {},
   "outputs": [],
   "source": [
    "for column in ['founded_at','closed_at','funded_at']:\n",
    "    df_company_and_rounds[column] = df_company_and_rounds[column].astype('datetime64')"
   ]
  },
  {
   "cell_type": "code",
   "execution_count": 38,
   "metadata": {},
   "outputs": [
    {
     "name": "stdout",
     "output_type": "stream",
     "text": [
      "<class 'pandas.core.frame.DataFrame'>\n",
      "RangeIndex: 217774 entries, 0 to 217773\n",
      "Data columns (total 22 columns):\n",
      " #   Column               Non-Null Count   Dtype         \n",
      "---  ------               --------------   -----         \n",
      " 0   company_ID           217472 non-null  float64       \n",
      " 1   name                 217472 non-null  object        \n",
      " 2   category_code        143886 non-null  object        \n",
      " 3   status               217472 non-null  object        \n",
      " 4   founded_at           109956 non-null  datetime64[ns]\n",
      " 5   closed_at            3449 non-null    datetime64[ns]\n",
      " 6   domain               147159 non-null  object        \n",
      " 7   network_username     95534 non-null   object        \n",
      " 8   country_code         108607 non-null  object        \n",
      " 9   investment_rounds    217472 non-null  float64       \n",
      " 10  funding_rounds       217472 non-null  float64       \n",
      " 11  funding_total        217472 non-null  float64       \n",
      " 12  milestones           217472 non-null  float64       \n",
      " 13  funding_round_id     52928 non-null   float64       \n",
      " 14  company_id           52928 non-null   float64       \n",
      " 15  funded_at            52680 non-null   datetime64[ns]\n",
      " 16  funding_round_type   52928 non-null   object        \n",
      " 17  raised_amount        52928 non-null   float64       \n",
      " 18  pre_money_valuation  52928 non-null   float64       \n",
      " 19  participants         52928 non-null   float64       \n",
      " 20  is_first_round       52928 non-null   float64       \n",
      " 21  is_last_round        52928 non-null   float64       \n",
      "dtypes: datetime64[ns](3), float64(12), object(7)\n",
      "memory usage: 36.6+ MB\n"
     ]
    }
   ],
   "source": [
    "df_company_and_rounds.info()"
   ]
  },
  {
   "cell_type": "code",
   "execution_count": 39,
   "metadata": {},
   "outputs": [],
   "source": [
    "# Проблема с типом данных даты также обнаружена в таблице df_education в столбце graduated_at "
   ]
  },
  {
   "cell_type": "code",
   "execution_count": 40,
   "metadata": {
    "scrolled": true
   },
   "outputs": [
    {
     "name": "stdout",
     "output_type": "stream",
     "text": [
      "<class 'pandas.core.frame.DataFrame'>\n",
      "RangeIndex: 109610 entries, 0 to 109609\n",
      "Data columns (total 4 columns):\n",
      " #   Column        Non-Null Count   Dtype \n",
      "---  ------        --------------   ----- \n",
      " 0   id            109610 non-null  int64 \n",
      " 1   person_id     109610 non-null  int64 \n",
      " 2   instituition  109555 non-null  object\n",
      " 3   graduated_at  58054 non-null   object\n",
      "dtypes: int64(2), object(2)\n",
      "memory usage: 3.3+ MB\n"
     ]
    }
   ],
   "source": [
    "df_education.info()"
   ]
  },
  {
   "cell_type": "code",
   "execution_count": 41,
   "metadata": {},
   "outputs": [],
   "source": [
    "df_education['graduated_at'] = df_education['graduated_at'].astype('datetime64')"
   ]
  },
  {
   "cell_type": "code",
   "execution_count": 42,
   "metadata": {},
   "outputs": [
    {
     "name": "stdout",
     "output_type": "stream",
     "text": [
      "<class 'pandas.core.frame.DataFrame'>\n",
      "RangeIndex: 109610 entries, 0 to 109609\n",
      "Data columns (total 4 columns):\n",
      " #   Column        Non-Null Count   Dtype         \n",
      "---  ------        --------------   -----         \n",
      " 0   id            109610 non-null  int64         \n",
      " 1   person_id     109610 non-null  int64         \n",
      " 2   instituition  109555 non-null  object        \n",
      " 3   graduated_at  58054 non-null   datetime64[ns]\n",
      "dtypes: datetime64[ns](1), int64(2), object(1)\n",
      "memory usage: 3.3+ MB\n"
     ]
    }
   ],
   "source": [
    "df_education.info()"
   ]
  },
  {
   "cell_type": "code",
   "execution_count": 43,
   "metadata": {},
   "outputs": [],
   "source": [
    "# Типы данных были заменены. Перейдем к анализу пропусков в таблицах"
   ]
  },
  {
   "cell_type": "code",
   "execution_count": 44,
   "metadata": {},
   "outputs": [
    {
     "data": {
      "text/plain": [
       "id                         0\n",
       "acquiring_company_id       0\n",
       "acquired_company_id        0\n",
       "term_code               7576\n",
       "price_amount               0\n",
       "acquired_at               29\n",
       "dtype: int64"
      ]
     },
     "execution_count": 44,
     "metadata": {},
     "output_type": "execute_result"
    }
   ],
   "source": [
    "# Считаем абсолютное кол-во пропусков в таблице df_acquisition \n",
    "df_acquisition.isna().sum()"
   ]
  },
  {
   "cell_type": "code",
   "execution_count": 45,
   "metadata": {},
   "outputs": [
    {
     "data": {
      "text/plain": [
       "id                      0.000\n",
       "acquiring_company_id    0.000\n",
       "acquired_company_id     0.000\n",
       "term_code               0.805\n",
       "price_amount            0.000\n",
       "acquired_at             0.003\n",
       "dtype: float64"
      ]
     },
     "execution_count": 45,
     "metadata": {},
     "output_type": "execute_result"
    }
   ],
   "source": [
    "# Считаем относительное кол-во пропусков в таблице df_acquisition \n",
    "round(df_acquisition.isna().mean(),3)"
   ]
  },
  {
   "cell_type": "code",
   "execution_count": 46,
   "metadata": {},
   "outputs": [],
   "source": [
    "# Найдены пропуски в столбце term_code и acquired_at. В столбце term_code пропусков значительное количество - 80%, а в столбце acquired_at - пропуски не значительны"
   ]
  },
  {
   "cell_type": "code",
   "execution_count": 47,
   "metadata": {},
   "outputs": [
    {
     "data": {
      "text/plain": [
       "company_ID                302\n",
       "name                      302\n",
       "category_code           73888\n",
       "status                    302\n",
       "founded_at             107818\n",
       "closed_at              214325\n",
       "domain                  70615\n",
       "network_username       122240\n",
       "country_code           109167\n",
       "investment_rounds         302\n",
       "funding_rounds            302\n",
       "funding_total             302\n",
       "milestones                302\n",
       "funding_round_id       164846\n",
       "company_id             164846\n",
       "funded_at              165094\n",
       "funding_round_type     164846\n",
       "raised_amount          164846\n",
       "pre_money_valuation    164846\n",
       "participants           164846\n",
       "is_first_round         164846\n",
       "is_last_round          164846\n",
       "dtype: int64"
      ]
     },
     "execution_count": 47,
     "metadata": {},
     "output_type": "execute_result"
    }
   ],
   "source": [
    "# Считаем абсолютное кол-во пропусков в таблице df_company_and_rounds \n",
    "df_company_and_rounds.isna().sum()"
   ]
  },
  {
   "cell_type": "code",
   "execution_count": 48,
   "metadata": {},
   "outputs": [
    {
     "data": {
      "text/plain": [
       "company_ID             0.001\n",
       "name                   0.001\n",
       "category_code          0.339\n",
       "status                 0.001\n",
       "founded_at             0.495\n",
       "closed_at              0.984\n",
       "domain                 0.324\n",
       "network_username       0.561\n",
       "country_code           0.501\n",
       "investment_rounds      0.001\n",
       "funding_rounds         0.001\n",
       "funding_total          0.001\n",
       "milestones             0.001\n",
       "funding_round_id       0.757\n",
       "company_id             0.757\n",
       "funded_at              0.758\n",
       "funding_round_type     0.757\n",
       "raised_amount          0.757\n",
       "pre_money_valuation    0.757\n",
       "participants           0.757\n",
       "is_first_round         0.757\n",
       "is_last_round          0.757\n",
       "dtype: float64"
      ]
     },
     "execution_count": 48,
     "metadata": {},
     "output_type": "execute_result"
    }
   ],
   "source": [
    "# Считаем относительное кол-во пропусков в таблице df_company_and_rounds\n",
    "round(df_company_and_rounds.isna().sum()/len(df_company_and_rounds),3)"
   ]
  },
  {
   "cell_type": "code",
   "execution_count": 49,
   "metadata": {},
   "outputs": [],
   "source": [
    "# Во всех столбцах таблицы найдены пропуски, в большинстве пропусков значительное количество "
   ]
  },
  {
   "cell_type": "code",
   "execution_count": 50,
   "metadata": {},
   "outputs": [
    {
     "data": {
      "text/plain": [
       "id                       0\n",
       "first_name               5\n",
       "last_name                1\n",
       "company_id          192094\n",
       "network_username    187842\n",
       "dtype: int64"
      ]
     },
     "execution_count": 50,
     "metadata": {},
     "output_type": "execute_result"
    }
   ],
   "source": [
    "# Считаем абсолютное кол-во пропусков в таблице df_people\n",
    "df_people.isna().sum()"
   ]
  },
  {
   "cell_type": "code",
   "execution_count": 51,
   "metadata": {},
   "outputs": [
    {
     "data": {
      "text/plain": [
       "id                  0.000\n",
       "first_name          0.000\n",
       "last_name           0.000\n",
       "company_id          0.847\n",
       "network_username    0.829\n",
       "dtype: float64"
      ]
     },
     "execution_count": 51,
     "metadata": {},
     "output_type": "execute_result"
    }
   ],
   "source": [
    "# Считаем относительное кол-во пропусков в таблице df_people\n",
    "round(df_people.isna().sum()/len(df_people),3)"
   ]
  },
  {
   "cell_type": "code",
   "execution_count": 52,
   "metadata": {},
   "outputs": [],
   "source": [
    "# В столбцах company_id и network_username найдено значительное количество пропусков - 80%"
   ]
  },
  {
   "cell_type": "code",
   "execution_count": 53,
   "metadata": {},
   "outputs": [
    {
     "data": {
      "text/plain": [
       "id                  0\n",
       "person_id           0\n",
       "instituition       55\n",
       "graduated_at    51556\n",
       "dtype: int64"
      ]
     },
     "execution_count": 53,
     "metadata": {},
     "output_type": "execute_result"
    }
   ],
   "source": [
    "# Считаем абсолютное кол-во пропусков в таблице df_education\n",
    "df_education.isna().sum()"
   ]
  },
  {
   "cell_type": "code",
   "execution_count": 54,
   "metadata": {},
   "outputs": [
    {
     "data": {
      "text/plain": [
       "id              0.000\n",
       "person_id       0.000\n",
       "instituition    0.001\n",
       "graduated_at    0.470\n",
       "dtype: float64"
      ]
     },
     "execution_count": 54,
     "metadata": {},
     "output_type": "execute_result"
    }
   ],
   "source": [
    "# Считаем относительное кол-во пропусков в таблице df_education\n",
    "round(df_education.isna().sum()/len(df_education),3)"
   ]
  },
  {
   "cell_type": "code",
   "execution_count": 55,
   "metadata": {},
   "outputs": [],
   "source": [
    "# В столбцах instituition и graduated_at найдены пропуски. В столбце graduated_at их значительное количество - 40%"
   ]
  },
  {
   "cell_type": "code",
   "execution_count": 56,
   "metadata": {},
   "outputs": [
    {
     "data": {
      "text/plain": [
       "id                 0\n",
       "object_id          0\n",
       "degree_type    11218\n",
       "subject        28312\n",
       "dtype: int64"
      ]
     },
     "execution_count": 56,
     "metadata": {},
     "output_type": "execute_result"
    }
   ],
   "source": [
    "# Считаем абсолютное кол-во пропусков в таблице df_degrees\n",
    "df_degrees.isna().sum()"
   ]
  },
  {
   "cell_type": "code",
   "execution_count": 57,
   "metadata": {},
   "outputs": [
    {
     "data": {
      "text/plain": [
       "id             0.000\n",
       "object_id      0.000\n",
       "degree_type    0.102\n",
       "subject        0.258\n",
       "dtype: float64"
      ]
     },
     "execution_count": 57,
     "metadata": {},
     "output_type": "execute_result"
    }
   ],
   "source": [
    "# Считаем относительное кол-во пропусков в таблице df_education\n",
    "round(df_degrees.isna().sum()/len(df_degrees),3)"
   ]
  },
  {
   "cell_type": "code",
   "execution_count": 58,
   "metadata": {},
   "outputs": [],
   "source": [
    "# Пропуски найдены в столбцах degree_type и subject - 10% и 25% соответсвенно "
   ]
  },
  {
   "cell_type": "markdown",
   "metadata": {},
   "source": [
    "В каждой таблице найдены пропуски в значительном количество, однако для целей данного исследования представленных данных достаточно "
   ]
  },
  {
   "cell_type": "markdown",
   "metadata": {
    "id": "u60cHsn6rJg1"
   },
   "source": [
    "## Шаг 2. Предобработка данных, предварительное исследование"
   ]
  },
  {
   "cell_type": "markdown",
   "metadata": {
    "id": "g2bHIIjcrJg1"
   },
   "source": [
    "\n",
    "### 2.1. Раунды финансирования по годам\n",
    "\n",
    "Задание необходимо выполнить без объединения и дополнительной предобработки на основе датасета `company_and_rounds.csv`.\n",
    "\n",
    "- Составьте сводную таблицу по годам, в которой на основании столбца `raised_amount` для каждого года указан:\n",
    "    - типичный размер средств, выделяемый в рамках одного раунда;\n",
    "    - общее количество раундов финансирования за этот год.\n",
    "    \n",
    "- Оставьте в таблице информацию только для тех лет, для которых есть информация о более чем 50 раундах финансирования.\n",
    "- На основе получившейся таблицы постройте график, который будет отражать динамику типичного размера средств, которые стартапы получали в рамках одного раунда финансирования.\n",
    "\n",
    "На основе полученных данных ответьте на вопросы:\n",
    "\n",
    "- В каком году типичный размер собранных в рамках одного раунда средств был максимален?\n",
    "- Какая тенденция по количеству раундов и выделяемых в рамках каждого раунда средств наблюдалась в 2013 году?"
   ]
  },
  {
   "cell_type": "code",
   "execution_count": 59,
   "metadata": {
    "id": "Cf5IjfOQrJg1",
    "vscode": {
     "languageId": "plaintext"
    }
   },
   "outputs": [
    {
     "name": "stdout",
     "output_type": "stream",
     "text": [
      "<class 'pandas.core.frame.DataFrame'>\n",
      "RangeIndex: 217774 entries, 0 to 217773\n",
      "Data columns (total 23 columns):\n",
      " #   Column               Non-Null Count   Dtype         \n",
      "---  ------               --------------   -----         \n",
      " 0   company_ID           217472 non-null  float64       \n",
      " 1   name                 217472 non-null  object        \n",
      " 2   category_code        143886 non-null  object        \n",
      " 3   status               217472 non-null  object        \n",
      " 4   founded_at           109956 non-null  datetime64[ns]\n",
      " 5   closed_at            3449 non-null    datetime64[ns]\n",
      " 6   domain               147159 non-null  object        \n",
      " 7   network_username     95534 non-null   object        \n",
      " 8   country_code         108607 non-null  object        \n",
      " 9   investment_rounds    217472 non-null  float64       \n",
      " 10  funding_rounds       217472 non-null  float64       \n",
      " 11  funding_total        217472 non-null  float64       \n",
      " 12  milestones           217472 non-null  float64       \n",
      " 13  funding_round_id     52928 non-null   float64       \n",
      " 14  company_id           52928 non-null   float64       \n",
      " 15  funded_at            52680 non-null   datetime64[ns]\n",
      " 16  funding_round_type   52928 non-null   object        \n",
      " 17  raised_amount        52928 non-null   float64       \n",
      " 18  pre_money_valuation  52928 non-null   float64       \n",
      " 19  participants         52928 non-null   float64       \n",
      " 20  is_first_round       52928 non-null   float64       \n",
      " 21  is_last_round        52928 non-null   float64       \n",
      " 22  funded_year          52680 non-null   float64       \n",
      "dtypes: datetime64[ns](3), float64(13), object(7)\n",
      "memory usage: 38.2+ MB\n"
     ]
    },
    {
     "data": {
      "text/html": [
       "<div>\n",
       "<style scoped>\n",
       "    .dataframe tbody tr th:only-of-type {\n",
       "        vertical-align: middle;\n",
       "    }\n",
       "\n",
       "    .dataframe tbody tr th {\n",
       "        vertical-align: top;\n",
       "    }\n",
       "\n",
       "    .dataframe thead th {\n",
       "        text-align: right;\n",
       "    }\n",
       "</style>\n",
       "<table border=\"1\" class=\"dataframe\">\n",
       "  <thead>\n",
       "    <tr style=\"text-align: right;\">\n",
       "      <th></th>\n",
       "      <th>company_ID</th>\n",
       "      <th>name</th>\n",
       "      <th>category_code</th>\n",
       "      <th>status</th>\n",
       "      <th>founded_at</th>\n",
       "      <th>closed_at</th>\n",
       "      <th>domain</th>\n",
       "      <th>network_username</th>\n",
       "      <th>country_code</th>\n",
       "      <th>investment_rounds</th>\n",
       "      <th>...</th>\n",
       "      <th>funding_round_id</th>\n",
       "      <th>company_id</th>\n",
       "      <th>funded_at</th>\n",
       "      <th>funding_round_type</th>\n",
       "      <th>raised_amount</th>\n",
       "      <th>pre_money_valuation</th>\n",
       "      <th>participants</th>\n",
       "      <th>is_first_round</th>\n",
       "      <th>is_last_round</th>\n",
       "      <th>funded_year</th>\n",
       "    </tr>\n",
       "  </thead>\n",
       "  <tbody>\n",
       "    <tr>\n",
       "      <th>0</th>\n",
       "      <td>1.0</td>\n",
       "      <td>Wetpaint</td>\n",
       "      <td>web</td>\n",
       "      <td>operating</td>\n",
       "      <td>2005-10-17</td>\n",
       "      <td>NaT</td>\n",
       "      <td>wetpaint-inc.com</td>\n",
       "      <td>BachelrWetpaint</td>\n",
       "      <td>USA</td>\n",
       "      <td>0.0</td>\n",
       "      <td>...</td>\n",
       "      <td>888.0</td>\n",
       "      <td>1.0</td>\n",
       "      <td>2005-10-01</td>\n",
       "      <td>series-a</td>\n",
       "      <td>5250000.0</td>\n",
       "      <td>0.0</td>\n",
       "      <td>2.0</td>\n",
       "      <td>0.0</td>\n",
       "      <td>1.0</td>\n",
       "      <td>2005.0</td>\n",
       "    </tr>\n",
       "    <tr>\n",
       "      <th>1</th>\n",
       "      <td>1.0</td>\n",
       "      <td>Wetpaint</td>\n",
       "      <td>web</td>\n",
       "      <td>operating</td>\n",
       "      <td>2005-10-17</td>\n",
       "      <td>NaT</td>\n",
       "      <td>wetpaint-inc.com</td>\n",
       "      <td>BachelrWetpaint</td>\n",
       "      <td>USA</td>\n",
       "      <td>0.0</td>\n",
       "      <td>...</td>\n",
       "      <td>889.0</td>\n",
       "      <td>1.0</td>\n",
       "      <td>2007-01-01</td>\n",
       "      <td>series-b</td>\n",
       "      <td>9500000.0</td>\n",
       "      <td>0.0</td>\n",
       "      <td>3.0</td>\n",
       "      <td>0.0</td>\n",
       "      <td>0.0</td>\n",
       "      <td>2007.0</td>\n",
       "    </tr>\n",
       "    <tr>\n",
       "      <th>2</th>\n",
       "      <td>1.0</td>\n",
       "      <td>Wetpaint</td>\n",
       "      <td>web</td>\n",
       "      <td>operating</td>\n",
       "      <td>2005-10-17</td>\n",
       "      <td>NaT</td>\n",
       "      <td>wetpaint-inc.com</td>\n",
       "      <td>BachelrWetpaint</td>\n",
       "      <td>USA</td>\n",
       "      <td>0.0</td>\n",
       "      <td>...</td>\n",
       "      <td>2312.0</td>\n",
       "      <td>1.0</td>\n",
       "      <td>2008-05-19</td>\n",
       "      <td>series-c+</td>\n",
       "      <td>25000000.0</td>\n",
       "      <td>0.0</td>\n",
       "      <td>4.0</td>\n",
       "      <td>1.0</td>\n",
       "      <td>0.0</td>\n",
       "      <td>2008.0</td>\n",
       "    </tr>\n",
       "    <tr>\n",
       "      <th>3</th>\n",
       "      <td>10.0</td>\n",
       "      <td>Flektor</td>\n",
       "      <td>games_video</td>\n",
       "      <td>acquired</td>\n",
       "      <td>NaT</td>\n",
       "      <td>NaT</td>\n",
       "      <td>flektor.com</td>\n",
       "      <td>NaN</td>\n",
       "      <td>USA</td>\n",
       "      <td>0.0</td>\n",
       "      <td>...</td>\n",
       "      <td>NaN</td>\n",
       "      <td>NaN</td>\n",
       "      <td>NaT</td>\n",
       "      <td>NaN</td>\n",
       "      <td>NaN</td>\n",
       "      <td>NaN</td>\n",
       "      <td>NaN</td>\n",
       "      <td>NaN</td>\n",
       "      <td>NaN</td>\n",
       "      <td>NaN</td>\n",
       "    </tr>\n",
       "    <tr>\n",
       "      <th>4</th>\n",
       "      <td>100.0</td>\n",
       "      <td>There</td>\n",
       "      <td>games_video</td>\n",
       "      <td>acquired</td>\n",
       "      <td>NaT</td>\n",
       "      <td>NaT</td>\n",
       "      <td>there.com</td>\n",
       "      <td>NaN</td>\n",
       "      <td>USA</td>\n",
       "      <td>0.0</td>\n",
       "      <td>...</td>\n",
       "      <td>NaN</td>\n",
       "      <td>NaN</td>\n",
       "      <td>NaT</td>\n",
       "      <td>NaN</td>\n",
       "      <td>NaN</td>\n",
       "      <td>NaN</td>\n",
       "      <td>NaN</td>\n",
       "      <td>NaN</td>\n",
       "      <td>NaN</td>\n",
       "      <td>NaN</td>\n",
       "    </tr>\n",
       "  </tbody>\n",
       "</table>\n",
       "<p>5 rows × 23 columns</p>\n",
       "</div>"
      ],
      "text/plain": [
       "   company_ID      name category_code     status founded_at closed_at  \\\n",
       "0         1.0  Wetpaint           web  operating 2005-10-17       NaT   \n",
       "1         1.0  Wetpaint           web  operating 2005-10-17       NaT   \n",
       "2         1.0  Wetpaint           web  operating 2005-10-17       NaT   \n",
       "3        10.0   Flektor   games_video   acquired        NaT       NaT   \n",
       "4       100.0     There   games_video   acquired        NaT       NaT   \n",
       "\n",
       "             domain network_username country_code  investment_rounds  ...  \\\n",
       "0  wetpaint-inc.com  BachelrWetpaint          USA                0.0  ...   \n",
       "1  wetpaint-inc.com  BachelrWetpaint          USA                0.0  ...   \n",
       "2  wetpaint-inc.com  BachelrWetpaint          USA                0.0  ...   \n",
       "3       flektor.com              NaN          USA                0.0  ...   \n",
       "4         there.com              NaN          USA                0.0  ...   \n",
       "\n",
       "   funding_round_id  company_id  funded_at  funding_round_type  raised_amount  \\\n",
       "0             888.0         1.0 2005-10-01            series-a      5250000.0   \n",
       "1             889.0         1.0 2007-01-01            series-b      9500000.0   \n",
       "2            2312.0         1.0 2008-05-19           series-c+     25000000.0   \n",
       "3               NaN         NaN        NaT                 NaN            NaN   \n",
       "4               NaN         NaN        NaT                 NaN            NaN   \n",
       "\n",
       "  pre_money_valuation participants  is_first_round  is_last_round  funded_year  \n",
       "0                 0.0          2.0             0.0            1.0       2005.0  \n",
       "1                 0.0          3.0             0.0            0.0       2007.0  \n",
       "2                 0.0          4.0             1.0            0.0       2008.0  \n",
       "3                 NaN          NaN             NaN            NaN          NaN  \n",
       "4                 NaN          NaN             NaN            NaN          NaN  \n",
       "\n",
       "[5 rows x 23 columns]"
      ]
     },
     "execution_count": 59,
     "metadata": {},
     "output_type": "execute_result"
    }
   ],
   "source": [
    "# Выделяем год из даты финансирования \n",
    "df_company_and_rounds['funded_year'] = df_company_and_rounds['funded_at'].dt.year\n",
    "df_company_and_rounds.info()\n",
    "df_company_and_rounds.head()"
   ]
  },
  {
   "cell_type": "code",
   "execution_count": 60,
   "metadata": {
    "id": "8Fbz6KmzFdYP"
   },
   "outputs": [
    {
     "data": {
      "text/html": [
       "<div>\n",
       "<style scoped>\n",
       "    .dataframe tbody tr th:only-of-type {\n",
       "        vertical-align: middle;\n",
       "    }\n",
       "\n",
       "    .dataframe tbody tr th {\n",
       "        vertical-align: top;\n",
       "    }\n",
       "\n",
       "    .dataframe thead tr th {\n",
       "        text-align: left;\n",
       "    }\n",
       "</style>\n",
       "<table border=\"1\" class=\"dataframe\">\n",
       "  <thead>\n",
       "    <tr>\n",
       "      <th></th>\n",
       "      <th>funded_year</th>\n",
       "      <th>median</th>\n",
       "      <th>count</th>\n",
       "    </tr>\n",
       "    <tr>\n",
       "      <th></th>\n",
       "      <th></th>\n",
       "      <th>raised_amount</th>\n",
       "      <th>raised_amount</th>\n",
       "    </tr>\n",
       "  </thead>\n",
       "  <tbody>\n",
       "    <tr>\n",
       "      <th>0</th>\n",
       "      <td>1960.0</td>\n",
       "      <td>0.0</td>\n",
       "      <td>9</td>\n",
       "    </tr>\n",
       "    <tr>\n",
       "      <th>1</th>\n",
       "      <td>1973.0</td>\n",
       "      <td>0.0</td>\n",
       "      <td>1</td>\n",
       "    </tr>\n",
       "    <tr>\n",
       "      <th>2</th>\n",
       "      <td>1974.0</td>\n",
       "      <td>0.0</td>\n",
       "      <td>2</td>\n",
       "    </tr>\n",
       "    <tr>\n",
       "      <th>3</th>\n",
       "      <td>1984.0</td>\n",
       "      <td>41000.0</td>\n",
       "      <td>3</td>\n",
       "    </tr>\n",
       "    <tr>\n",
       "      <th>4</th>\n",
       "      <td>1985.0</td>\n",
       "      <td>0.0</td>\n",
       "      <td>1</td>\n",
       "    </tr>\n",
       "    <tr>\n",
       "      <th>5</th>\n",
       "      <td>1987.0</td>\n",
       "      <td>1250000.0</td>\n",
       "      <td>2</td>\n",
       "    </tr>\n",
       "    <tr>\n",
       "      <th>6</th>\n",
       "      <td>1989.0</td>\n",
       "      <td>15000.0</td>\n",
       "      <td>1</td>\n",
       "    </tr>\n",
       "    <tr>\n",
       "      <th>7</th>\n",
       "      <td>1990.0</td>\n",
       "      <td>1000000.0</td>\n",
       "      <td>1</td>\n",
       "    </tr>\n",
       "    <tr>\n",
       "      <th>8</th>\n",
       "      <td>1992.0</td>\n",
       "      <td>2000000.0</td>\n",
       "      <td>1</td>\n",
       "    </tr>\n",
       "    <tr>\n",
       "      <th>9</th>\n",
       "      <td>1993.0</td>\n",
       "      <td>62500.0</td>\n",
       "      <td>2</td>\n",
       "    </tr>\n",
       "    <tr>\n",
       "      <th>10</th>\n",
       "      <td>1994.0</td>\n",
       "      <td>6700000.0</td>\n",
       "      <td>2</td>\n",
       "    </tr>\n",
       "    <tr>\n",
       "      <th>11</th>\n",
       "      <td>1995.0</td>\n",
       "      <td>2000000.0</td>\n",
       "      <td>7</td>\n",
       "    </tr>\n",
       "    <tr>\n",
       "      <th>12</th>\n",
       "      <td>1996.0</td>\n",
       "      <td>12500.0</td>\n",
       "      <td>7</td>\n",
       "    </tr>\n",
       "    <tr>\n",
       "      <th>13</th>\n",
       "      <td>1997.0</td>\n",
       "      <td>3300000.0</td>\n",
       "      <td>9</td>\n",
       "    </tr>\n",
       "    <tr>\n",
       "      <th>14</th>\n",
       "      <td>1998.0</td>\n",
       "      <td>100000.0</td>\n",
       "      <td>29</td>\n",
       "    </tr>\n",
       "    <tr>\n",
       "      <th>15</th>\n",
       "      <td>1999.0</td>\n",
       "      <td>2000000.0</td>\n",
       "      <td>76</td>\n",
       "    </tr>\n",
       "    <tr>\n",
       "      <th>16</th>\n",
       "      <td>2000.0</td>\n",
       "      <td>4200000.0</td>\n",
       "      <td>125</td>\n",
       "    </tr>\n",
       "    <tr>\n",
       "      <th>17</th>\n",
       "      <td>2001.0</td>\n",
       "      <td>3000000.0</td>\n",
       "      <td>96</td>\n",
       "    </tr>\n",
       "    <tr>\n",
       "      <th>18</th>\n",
       "      <td>2002.0</td>\n",
       "      <td>4200000.0</td>\n",
       "      <td>116</td>\n",
       "    </tr>\n",
       "    <tr>\n",
       "      <th>19</th>\n",
       "      <td>2003.0</td>\n",
       "      <td>3000000.0</td>\n",
       "      <td>159</td>\n",
       "    </tr>\n",
       "    <tr>\n",
       "      <th>20</th>\n",
       "      <td>2004.0</td>\n",
       "      <td>5000000.0</td>\n",
       "      <td>291</td>\n",
       "    </tr>\n",
       "    <tr>\n",
       "      <th>21</th>\n",
       "      <td>2005.0</td>\n",
       "      <td>5500000.0</td>\n",
       "      <td>1633</td>\n",
       "    </tr>\n",
       "    <tr>\n",
       "      <th>22</th>\n",
       "      <td>2006.0</td>\n",
       "      <td>5000000.0</td>\n",
       "      <td>2436</td>\n",
       "    </tr>\n",
       "    <tr>\n",
       "      <th>23</th>\n",
       "      <td>2007.0</td>\n",
       "      <td>3973320.0</td>\n",
       "      <td>3279</td>\n",
       "    </tr>\n",
       "    <tr>\n",
       "      <th>24</th>\n",
       "      <td>2008.0</td>\n",
       "      <td>3110000.0</td>\n",
       "      <td>3774</td>\n",
       "    </tr>\n",
       "    <tr>\n",
       "      <th>25</th>\n",
       "      <td>2009.0</td>\n",
       "      <td>2000000.0</td>\n",
       "      <td>4151</td>\n",
       "    </tr>\n",
       "    <tr>\n",
       "      <th>26</th>\n",
       "      <td>2010.0</td>\n",
       "      <td>1602500.0</td>\n",
       "      <td>6221</td>\n",
       "    </tr>\n",
       "    <tr>\n",
       "      <th>27</th>\n",
       "      <td>2011.0</td>\n",
       "      <td>1200000.0</td>\n",
       "      <td>9204</td>\n",
       "    </tr>\n",
       "    <tr>\n",
       "      <th>28</th>\n",
       "      <td>2012.0</td>\n",
       "      <td>1000000.0</td>\n",
       "      <td>9970</td>\n",
       "    </tr>\n",
       "    <tr>\n",
       "      <th>29</th>\n",
       "      <td>2013.0</td>\n",
       "      <td>1200000.0</td>\n",
       "      <td>11072</td>\n",
       "    </tr>\n",
       "  </tbody>\n",
       "</table>\n",
       "</div>"
      ],
      "text/plain": [
       "   funded_year        median         count\n",
       "               raised_amount raised_amount\n",
       "0       1960.0           0.0             9\n",
       "1       1973.0           0.0             1\n",
       "2       1974.0           0.0             2\n",
       "3       1984.0       41000.0             3\n",
       "4       1985.0           0.0             1\n",
       "5       1987.0     1250000.0             2\n",
       "6       1989.0       15000.0             1\n",
       "7       1990.0     1000000.0             1\n",
       "8       1992.0     2000000.0             1\n",
       "9       1993.0       62500.0             2\n",
       "10      1994.0     6700000.0             2\n",
       "11      1995.0     2000000.0             7\n",
       "12      1996.0       12500.0             7\n",
       "13      1997.0     3300000.0             9\n",
       "14      1998.0      100000.0            29\n",
       "15      1999.0     2000000.0            76\n",
       "16      2000.0     4200000.0           125\n",
       "17      2001.0     3000000.0            96\n",
       "18      2002.0     4200000.0           116\n",
       "19      2003.0     3000000.0           159\n",
       "20      2004.0     5000000.0           291\n",
       "21      2005.0     5500000.0          1633\n",
       "22      2006.0     5000000.0          2436\n",
       "23      2007.0     3973320.0          3279\n",
       "24      2008.0     3110000.0          3774\n",
       "25      2009.0     2000000.0          4151\n",
       "26      2010.0     1602500.0          6221\n",
       "27      2011.0     1200000.0          9204\n",
       "28      2012.0     1000000.0          9970\n",
       "29      2013.0     1200000.0         11072"
      ]
     },
     "metadata": {},
     "output_type": "display_data"
    }
   ],
   "source": [
    "# Строим сводную таблицу\n",
    "funded_pivot_table = df_company_and_rounds.pivot_table(index = 'funded_year', \n",
    "                                                        values = 'raised_amount', \n",
    "                                                        aggfunc = ['median', 'count']).reset_index()\n",
    "display(funded_pivot_table)"
   ]
  },
  {
   "cell_type": "code",
   "execution_count": 61,
   "metadata": {},
   "outputs": [
    {
     "data": {
      "text/html": [
       "<div>\n",
       "<style scoped>\n",
       "    .dataframe tbody tr th:only-of-type {\n",
       "        vertical-align: middle;\n",
       "    }\n",
       "\n",
       "    .dataframe tbody tr th {\n",
       "        vertical-align: top;\n",
       "    }\n",
       "\n",
       "    .dataframe thead th {\n",
       "        text-align: right;\n",
       "    }\n",
       "</style>\n",
       "<table border=\"1\" class=\"dataframe\">\n",
       "  <thead>\n",
       "    <tr style=\"text-align: right;\">\n",
       "      <th></th>\n",
       "      <th>funded_year</th>\n",
       "      <th>typical_amount</th>\n",
       "      <th>total_rounds</th>\n",
       "    </tr>\n",
       "  </thead>\n",
       "  <tbody>\n",
       "    <tr>\n",
       "      <th>0</th>\n",
       "      <td>1960.0</td>\n",
       "      <td>0.0</td>\n",
       "      <td>9</td>\n",
       "    </tr>\n",
       "    <tr>\n",
       "      <th>1</th>\n",
       "      <td>1973.0</td>\n",
       "      <td>0.0</td>\n",
       "      <td>1</td>\n",
       "    </tr>\n",
       "    <tr>\n",
       "      <th>2</th>\n",
       "      <td>1974.0</td>\n",
       "      <td>0.0</td>\n",
       "      <td>2</td>\n",
       "    </tr>\n",
       "    <tr>\n",
       "      <th>3</th>\n",
       "      <td>1984.0</td>\n",
       "      <td>41000.0</td>\n",
       "      <td>3</td>\n",
       "    </tr>\n",
       "    <tr>\n",
       "      <th>4</th>\n",
       "      <td>1985.0</td>\n",
       "      <td>0.0</td>\n",
       "      <td>1</td>\n",
       "    </tr>\n",
       "    <tr>\n",
       "      <th>5</th>\n",
       "      <td>1987.0</td>\n",
       "      <td>1250000.0</td>\n",
       "      <td>2</td>\n",
       "    </tr>\n",
       "    <tr>\n",
       "      <th>6</th>\n",
       "      <td>1989.0</td>\n",
       "      <td>15000.0</td>\n",
       "      <td>1</td>\n",
       "    </tr>\n",
       "    <tr>\n",
       "      <th>7</th>\n",
       "      <td>1990.0</td>\n",
       "      <td>1000000.0</td>\n",
       "      <td>1</td>\n",
       "    </tr>\n",
       "    <tr>\n",
       "      <th>8</th>\n",
       "      <td>1992.0</td>\n",
       "      <td>2000000.0</td>\n",
       "      <td>1</td>\n",
       "    </tr>\n",
       "    <tr>\n",
       "      <th>9</th>\n",
       "      <td>1993.0</td>\n",
       "      <td>62500.0</td>\n",
       "      <td>2</td>\n",
       "    </tr>\n",
       "    <tr>\n",
       "      <th>10</th>\n",
       "      <td>1994.0</td>\n",
       "      <td>6700000.0</td>\n",
       "      <td>2</td>\n",
       "    </tr>\n",
       "    <tr>\n",
       "      <th>11</th>\n",
       "      <td>1995.0</td>\n",
       "      <td>2000000.0</td>\n",
       "      <td>7</td>\n",
       "    </tr>\n",
       "    <tr>\n",
       "      <th>12</th>\n",
       "      <td>1996.0</td>\n",
       "      <td>12500.0</td>\n",
       "      <td>7</td>\n",
       "    </tr>\n",
       "    <tr>\n",
       "      <th>13</th>\n",
       "      <td>1997.0</td>\n",
       "      <td>3300000.0</td>\n",
       "      <td>9</td>\n",
       "    </tr>\n",
       "    <tr>\n",
       "      <th>14</th>\n",
       "      <td>1998.0</td>\n",
       "      <td>100000.0</td>\n",
       "      <td>29</td>\n",
       "    </tr>\n",
       "    <tr>\n",
       "      <th>15</th>\n",
       "      <td>1999.0</td>\n",
       "      <td>2000000.0</td>\n",
       "      <td>76</td>\n",
       "    </tr>\n",
       "    <tr>\n",
       "      <th>16</th>\n",
       "      <td>2000.0</td>\n",
       "      <td>4200000.0</td>\n",
       "      <td>125</td>\n",
       "    </tr>\n",
       "    <tr>\n",
       "      <th>17</th>\n",
       "      <td>2001.0</td>\n",
       "      <td>3000000.0</td>\n",
       "      <td>96</td>\n",
       "    </tr>\n",
       "    <tr>\n",
       "      <th>18</th>\n",
       "      <td>2002.0</td>\n",
       "      <td>4200000.0</td>\n",
       "      <td>116</td>\n",
       "    </tr>\n",
       "    <tr>\n",
       "      <th>19</th>\n",
       "      <td>2003.0</td>\n",
       "      <td>3000000.0</td>\n",
       "      <td>159</td>\n",
       "    </tr>\n",
       "    <tr>\n",
       "      <th>20</th>\n",
       "      <td>2004.0</td>\n",
       "      <td>5000000.0</td>\n",
       "      <td>291</td>\n",
       "    </tr>\n",
       "    <tr>\n",
       "      <th>21</th>\n",
       "      <td>2005.0</td>\n",
       "      <td>5500000.0</td>\n",
       "      <td>1633</td>\n",
       "    </tr>\n",
       "    <tr>\n",
       "      <th>22</th>\n",
       "      <td>2006.0</td>\n",
       "      <td>5000000.0</td>\n",
       "      <td>2436</td>\n",
       "    </tr>\n",
       "    <tr>\n",
       "      <th>23</th>\n",
       "      <td>2007.0</td>\n",
       "      <td>3973320.0</td>\n",
       "      <td>3279</td>\n",
       "    </tr>\n",
       "    <tr>\n",
       "      <th>24</th>\n",
       "      <td>2008.0</td>\n",
       "      <td>3110000.0</td>\n",
       "      <td>3774</td>\n",
       "    </tr>\n",
       "    <tr>\n",
       "      <th>25</th>\n",
       "      <td>2009.0</td>\n",
       "      <td>2000000.0</td>\n",
       "      <td>4151</td>\n",
       "    </tr>\n",
       "    <tr>\n",
       "      <th>26</th>\n",
       "      <td>2010.0</td>\n",
       "      <td>1602500.0</td>\n",
       "      <td>6221</td>\n",
       "    </tr>\n",
       "    <tr>\n",
       "      <th>27</th>\n",
       "      <td>2011.0</td>\n",
       "      <td>1200000.0</td>\n",
       "      <td>9204</td>\n",
       "    </tr>\n",
       "    <tr>\n",
       "      <th>28</th>\n",
       "      <td>2012.0</td>\n",
       "      <td>1000000.0</td>\n",
       "      <td>9970</td>\n",
       "    </tr>\n",
       "    <tr>\n",
       "      <th>29</th>\n",
       "      <td>2013.0</td>\n",
       "      <td>1200000.0</td>\n",
       "      <td>11072</td>\n",
       "    </tr>\n",
       "  </tbody>\n",
       "</table>\n",
       "</div>"
      ],
      "text/plain": [
       "    funded_year  typical_amount  total_rounds\n",
       "0        1960.0             0.0             9\n",
       "1        1973.0             0.0             1\n",
       "2        1974.0             0.0             2\n",
       "3        1984.0         41000.0             3\n",
       "4        1985.0             0.0             1\n",
       "5        1987.0       1250000.0             2\n",
       "6        1989.0         15000.0             1\n",
       "7        1990.0       1000000.0             1\n",
       "8        1992.0       2000000.0             1\n",
       "9        1993.0         62500.0             2\n",
       "10       1994.0       6700000.0             2\n",
       "11       1995.0       2000000.0             7\n",
       "12       1996.0         12500.0             7\n",
       "13       1997.0       3300000.0             9\n",
       "14       1998.0        100000.0            29\n",
       "15       1999.0       2000000.0            76\n",
       "16       2000.0       4200000.0           125\n",
       "17       2001.0       3000000.0            96\n",
       "18       2002.0       4200000.0           116\n",
       "19       2003.0       3000000.0           159\n",
       "20       2004.0       5000000.0           291\n",
       "21       2005.0       5500000.0          1633\n",
       "22       2006.0       5000000.0          2436\n",
       "23       2007.0       3973320.0          3279\n",
       "24       2008.0       3110000.0          3774\n",
       "25       2009.0       2000000.0          4151\n",
       "26       2010.0       1602500.0          6221\n",
       "27       2011.0       1200000.0          9204\n",
       "28       2012.0       1000000.0          9970\n",
       "29       2013.0       1200000.0         11072"
      ]
     },
     "metadata": {},
     "output_type": "display_data"
    }
   ],
   "source": [
    "# Переименовываем столбцы в сводной таблице\n",
    "funded_pivot_table.columns = ['funded_year','typical_amount','total_rounds']\n",
    "display(funded_pivot_table)"
   ]
  },
  {
   "cell_type": "code",
   "execution_count": 62,
   "metadata": {
    "id": "Z92DzKMMFdKW"
   },
   "outputs": [
    {
     "data": {
      "text/html": [
       "<div>\n",
       "<style scoped>\n",
       "    .dataframe tbody tr th:only-of-type {\n",
       "        vertical-align: middle;\n",
       "    }\n",
       "\n",
       "    .dataframe tbody tr th {\n",
       "        vertical-align: top;\n",
       "    }\n",
       "\n",
       "    .dataframe thead th {\n",
       "        text-align: right;\n",
       "    }\n",
       "</style>\n",
       "<table border=\"1\" class=\"dataframe\">\n",
       "  <thead>\n",
       "    <tr style=\"text-align: right;\">\n",
       "      <th></th>\n",
       "      <th>funded_year</th>\n",
       "      <th>typical_amount</th>\n",
       "      <th>total_rounds</th>\n",
       "    </tr>\n",
       "  </thead>\n",
       "  <tbody>\n",
       "    <tr>\n",
       "      <th>15</th>\n",
       "      <td>1999.0</td>\n",
       "      <td>2000000.0</td>\n",
       "      <td>76</td>\n",
       "    </tr>\n",
       "    <tr>\n",
       "      <th>16</th>\n",
       "      <td>2000.0</td>\n",
       "      <td>4200000.0</td>\n",
       "      <td>125</td>\n",
       "    </tr>\n",
       "    <tr>\n",
       "      <th>17</th>\n",
       "      <td>2001.0</td>\n",
       "      <td>3000000.0</td>\n",
       "      <td>96</td>\n",
       "    </tr>\n",
       "    <tr>\n",
       "      <th>18</th>\n",
       "      <td>2002.0</td>\n",
       "      <td>4200000.0</td>\n",
       "      <td>116</td>\n",
       "    </tr>\n",
       "    <tr>\n",
       "      <th>19</th>\n",
       "      <td>2003.0</td>\n",
       "      <td>3000000.0</td>\n",
       "      <td>159</td>\n",
       "    </tr>\n",
       "    <tr>\n",
       "      <th>20</th>\n",
       "      <td>2004.0</td>\n",
       "      <td>5000000.0</td>\n",
       "      <td>291</td>\n",
       "    </tr>\n",
       "    <tr>\n",
       "      <th>21</th>\n",
       "      <td>2005.0</td>\n",
       "      <td>5500000.0</td>\n",
       "      <td>1633</td>\n",
       "    </tr>\n",
       "    <tr>\n",
       "      <th>22</th>\n",
       "      <td>2006.0</td>\n",
       "      <td>5000000.0</td>\n",
       "      <td>2436</td>\n",
       "    </tr>\n",
       "    <tr>\n",
       "      <th>23</th>\n",
       "      <td>2007.0</td>\n",
       "      <td>3973320.0</td>\n",
       "      <td>3279</td>\n",
       "    </tr>\n",
       "    <tr>\n",
       "      <th>24</th>\n",
       "      <td>2008.0</td>\n",
       "      <td>3110000.0</td>\n",
       "      <td>3774</td>\n",
       "    </tr>\n",
       "    <tr>\n",
       "      <th>25</th>\n",
       "      <td>2009.0</td>\n",
       "      <td>2000000.0</td>\n",
       "      <td>4151</td>\n",
       "    </tr>\n",
       "    <tr>\n",
       "      <th>26</th>\n",
       "      <td>2010.0</td>\n",
       "      <td>1602500.0</td>\n",
       "      <td>6221</td>\n",
       "    </tr>\n",
       "    <tr>\n",
       "      <th>27</th>\n",
       "      <td>2011.0</td>\n",
       "      <td>1200000.0</td>\n",
       "      <td>9204</td>\n",
       "    </tr>\n",
       "    <tr>\n",
       "      <th>28</th>\n",
       "      <td>2012.0</td>\n",
       "      <td>1000000.0</td>\n",
       "      <td>9970</td>\n",
       "    </tr>\n",
       "    <tr>\n",
       "      <th>29</th>\n",
       "      <td>2013.0</td>\n",
       "      <td>1200000.0</td>\n",
       "      <td>11072</td>\n",
       "    </tr>\n",
       "  </tbody>\n",
       "</table>\n",
       "</div>"
      ],
      "text/plain": [
       "    funded_year  typical_amount  total_rounds\n",
       "15       1999.0       2000000.0            76\n",
       "16       2000.0       4200000.0           125\n",
       "17       2001.0       3000000.0            96\n",
       "18       2002.0       4200000.0           116\n",
       "19       2003.0       3000000.0           159\n",
       "20       2004.0       5000000.0           291\n",
       "21       2005.0       5500000.0          1633\n",
       "22       2006.0       5000000.0          2436\n",
       "23       2007.0       3973320.0          3279\n",
       "24       2008.0       3110000.0          3774\n",
       "25       2009.0       2000000.0          4151\n",
       "26       2010.0       1602500.0          6221\n",
       "27       2011.0       1200000.0          9204\n",
       "28       2012.0       1000000.0          9970\n",
       "29       2013.0       1200000.0         11072"
      ]
     },
     "metadata": {},
     "output_type": "display_data"
    }
   ],
   "source": [
    "# Оставляем данные, где раундов больше 50\n",
    "funded_pivot_table = funded_pivot_table[funded_pivot_table['total_rounds'] > 50]\n",
    "display (funded_pivot_table)"
   ]
  },
  {
   "cell_type": "code",
   "execution_count": 63,
   "metadata": {},
   "outputs": [],
   "source": [
    "# Строим линейный график для отображения изменения "
   ]
  },
  {
   "cell_type": "code",
   "execution_count": 64,
   "metadata": {
    "scrolled": false
   },
   "outputs": [
    {
     "data": {
      "image/png": "[encoded data removed]",
      "text/plain": [
       "<Figure size 864x720 with 1 Axes>"
      ]
     },
     "metadata": {
      "needs_background": "light"
     },
     "output_type": "display_data"
    }
   ],
   "source": [
    "funded_pivot_table.plot(kind = 'line',\n",
    "                        x = 'funded_year',\n",
    "                        y = 'typical_amount',\n",
    "                        title = 'Динамика типичного размера средств, полученных стартапами',\n",
    "                        legend = False,\n",
    "                        figsize = (12,10),\n",
    "                       marker = 'o',\n",
    "                       ylabel = 'Медиана средств (млн)',\n",
    "                       xlabel = 'Год');"
   ]
  },
  {
   "cell_type": "markdown",
   "metadata": {},
   "source": [
    "1. Как мы видим по результатам сводной таблицы и на графике - максимальный размер финансирования был достигнут в 2005 году и составил 5500000.\n",
    "2. График четко показывает тенденцию на снижение типичной суммы средств в рамках одного этапа финансирования, падение которое началось после пика в 2005 году, что же касается количества проведенных раундов, то видно, что оно растет с каждым годом. Ситуация на 2013 год показывает небольшое поднятие типичной цены финансирования до 1200000 и самое большое количество проведенных раундов - 11072\n",
    "\n",
    "Эти данные могут говорить о тенденции на увелечение количества старатапов, нуждающихся в финансировании, но при этом на уменьшение суммы этого финансирования, что создает большую конкуренцию среди стартапов "
   ]
  },
  {
   "cell_type": "markdown",
   "metadata": {
    "id": "45if1en1rJg2"
   },
   "source": [
    "\n",
    "### 2.2. Люди и их образование\n",
    "\n",
    "Заказчик хочет понять, зависит ли полнота сведений о сотрудниках (например, об их образовании) от размера компаний.\n",
    "\n",
    "- Оцените, насколько информация об образовании сотрудников полна. Используя датасеты `people.csv` и `education.csv`, разделите все компании на несколько групп по количеству сотрудников и оцените среднюю долю сотрудников без информации об образовании в каждой из групп. Обоснуйте выбранные границы групп.\n",
    "- Оцените, возможно ли для выполнения задания присоединить к этим таблицам ещё и таблицу `degrees.csv`."
   ]
  },
  {
   "cell_type": "code",
   "execution_count": 65,
   "metadata": {
    "id": "psPO7C4MrJg2",
    "scrolled": false,
    "vscode": {
     "languageId": "plaintext"
    }
   },
   "outputs": [
    {
     "name": "stdout",
     "output_type": "stream",
     "text": [
      "<class 'pandas.core.frame.DataFrame'>\n",
      "Int64Index: 109056 entries, 0 to 109055\n",
      "Data columns (total 9 columns):\n",
      " #   Column            Non-Null Count   Dtype         \n",
      "---  ------            --------------   -----         \n",
      " 0   id_x              109056 non-null  int64         \n",
      " 1   first_name        109056 non-null  object        \n",
      " 2   last_name         109056 non-null  object        \n",
      " 3   company_id        28638 non-null   float64       \n",
      " 4   network_username  33575 non-null   object        \n",
      " 5   id_y              109056 non-null  int64         \n",
      " 6   person_id         109056 non-null  int64         \n",
      " 7   instituition      109002 non-null  object        \n",
      " 8   graduated_at      57691 non-null   datetime64[ns]\n",
      "dtypes: datetime64[ns](1), float64(1), int64(3), object(4)\n",
      "memory usage: 8.3+ MB\n"
     ]
    },
    {
     "data": {
      "text/html": [
       "<div>\n",
       "<style scoped>\n",
       "    .dataframe tbody tr th:only-of-type {\n",
       "        vertical-align: middle;\n",
       "    }\n",
       "\n",
       "    .dataframe tbody tr th {\n",
       "        vertical-align: top;\n",
       "    }\n",
       "\n",
       "    .dataframe thead th {\n",
       "        text-align: right;\n",
       "    }\n",
       "</style>\n",
       "<table border=\"1\" class=\"dataframe\">\n",
       "  <thead>\n",
       "    <tr style=\"text-align: right;\">\n",
       "      <th></th>\n",
       "      <th>id_x</th>\n",
       "      <th>first_name</th>\n",
       "      <th>last_name</th>\n",
       "      <th>company_id</th>\n",
       "      <th>network_username</th>\n",
       "      <th>id_y</th>\n",
       "      <th>person_id</th>\n",
       "      <th>instituition</th>\n",
       "      <th>graduated_at</th>\n",
       "    </tr>\n",
       "  </thead>\n",
       "  <tbody>\n",
       "    <tr>\n",
       "      <th>0</th>\n",
       "      <td>10</td>\n",
       "      <td>Mark</td>\n",
       "      <td>Zuckerberg</td>\n",
       "      <td>5.0</td>\n",
       "      <td>NaN</td>\n",
       "      <td>2415</td>\n",
       "      <td>10</td>\n",
       "      <td>Harvard University</td>\n",
       "      <td>NaT</td>\n",
       "    </tr>\n",
       "    <tr>\n",
       "      <th>1</th>\n",
       "      <td>100006</td>\n",
       "      <td>Courtney</td>\n",
       "      <td>Homer</td>\n",
       "      <td>81558.0</td>\n",
       "      <td>jobsbostontech</td>\n",
       "      <td>83604</td>\n",
       "      <td>100006</td>\n",
       "      <td>MIT Sloan School of Management</td>\n",
       "      <td>2004-01-01</td>\n",
       "    </tr>\n",
       "    <tr>\n",
       "      <th>2</th>\n",
       "      <td>100013</td>\n",
       "      <td>Umesh</td>\n",
       "      <td>Singh</td>\n",
       "      <td>NaN</td>\n",
       "      <td>NaN</td>\n",
       "      <td>36786</td>\n",
       "      <td>100013</td>\n",
       "      <td>Rutgers University</td>\n",
       "      <td>NaT</td>\n",
       "    </tr>\n",
       "    <tr>\n",
       "      <th>3</th>\n",
       "      <td>100013</td>\n",
       "      <td>Umesh</td>\n",
       "      <td>Singh</td>\n",
       "      <td>NaN</td>\n",
       "      <td>NaN</td>\n",
       "      <td>36787</td>\n",
       "      <td>100013</td>\n",
       "      <td>University of Mumbai</td>\n",
       "      <td>NaT</td>\n",
       "    </tr>\n",
       "    <tr>\n",
       "      <th>4</th>\n",
       "      <td>100018</td>\n",
       "      <td>Adam</td>\n",
       "      <td>Beckerman</td>\n",
       "      <td>148554.0</td>\n",
       "      <td>adam_beckerman</td>\n",
       "      <td>14433</td>\n",
       "      <td>100018</td>\n",
       "      <td>Columbia University, Business School</td>\n",
       "      <td>2004-01-01</td>\n",
       "    </tr>\n",
       "  </tbody>\n",
       "</table>\n",
       "</div>"
      ],
      "text/plain": [
       "     id_x first_name   last_name  company_id network_username   id_y  \\\n",
       "0      10       Mark  Zuckerberg         5.0              NaN   2415   \n",
       "1  100006   Courtney       Homer     81558.0   jobsbostontech  83604   \n",
       "2  100013      Umesh       Singh         NaN              NaN  36786   \n",
       "3  100013      Umesh       Singh         NaN              NaN  36787   \n",
       "4  100018       Adam   Beckerman    148554.0   adam_beckerman  14433   \n",
       "\n",
       "   person_id                          instituition graduated_at  \n",
       "0         10                    Harvard University          NaT  \n",
       "1     100006        MIT Sloan School of Management   2004-01-01  \n",
       "2     100013                    Rutgers University          NaT  \n",
       "3     100013                  University of Mumbai          NaT  \n",
       "4     100018  Columbia University, Business School   2004-01-01  "
      ]
     },
     "execution_count": 65,
     "metadata": {},
     "output_type": "execute_result"
    }
   ],
   "source": [
    "# Объединяем датафрейм df.people и df.education\n",
    "df_people_education = df_people.merge(df_education, left_on = 'id', right_on = 'person_id', how = 'inner')\n",
    "df_people_education.info()\n",
    "df_people_education.head()"
   ]
  },
  {
   "cell_type": "code",
   "execution_count": 66,
   "metadata": {
    "id": "BThTjpLqFcsm"
   },
   "outputs": [
    {
     "name": "stdout",
     "output_type": "stream",
     "text": [
      "<class 'pandas.core.frame.DataFrame'>\n",
      "Int64Index: 109056 entries, 0 to 109055\n",
      "Data columns (total 9 columns):\n",
      " #   Column            Non-Null Count   Dtype         \n",
      "---  ------            --------------   -----         \n",
      " 0   id                109056 non-null  int64         \n",
      " 1   first_name        109056 non-null  object        \n",
      " 2   last_name         109056 non-null  object        \n",
      " 3   company_id        28638 non-null   float64       \n",
      " 4   network_username  33575 non-null   object        \n",
      " 5   id_education      109056 non-null  int64         \n",
      " 6   person_id         109056 non-null  int64         \n",
      " 7   instituition      109002 non-null  object        \n",
      " 8   graduated_at      57691 non-null   datetime64[ns]\n",
      "dtypes: datetime64[ns](1), float64(1), int64(3), object(4)\n",
      "memory usage: 8.3+ MB\n"
     ]
    }
   ],
   "source": [
    "# Переименуем столбец id_y, который хранит идентификатор об образовании и дублируется с id сотрудника\n",
    "\n",
    "df_people_education = df_people_education.rename(columns = {'id_y':'id_education',\n",
    "                                                           'id_x':'id'})\n",
    "df_people_education.info()"
   ]
  },
  {
   "cell_type": "code",
   "execution_count": 67,
   "metadata": {
    "id": "4FC98Pd-FcmG",
    "scrolled": true
   },
   "outputs": [
    {
     "name": "stdout",
     "output_type": "stream",
     "text": [
      "<class 'pandas.core.frame.DataFrame'>\n",
      "Int64Index: 109056 entries, 0 to 109055\n",
      "Data columns (total 8 columns):\n",
      " #   Column            Non-Null Count   Dtype         \n",
      "---  ------            --------------   -----         \n",
      " 0   id                109056 non-null  int64         \n",
      " 1   first_name        109056 non-null  object        \n",
      " 2   last_name         109056 non-null  object        \n",
      " 3   company_id        28638 non-null   float64       \n",
      " 4   network_username  33575 non-null   object        \n",
      " 5   id_education      109056 non-null  int64         \n",
      " 6   instituition      109002 non-null  object        \n",
      " 7   graduated_at      57691 non-null   datetime64[ns]\n",
      "dtypes: datetime64[ns](1), float64(1), int64(2), object(4)\n",
      "memory usage: 7.5+ MB\n"
     ]
    }
   ],
   "source": [
    "# Также удалим один из из дублирующихся столбцов с id сотрудника\n",
    "df_people_education.drop('person_id', axis=1, inplace = True)\n",
    "df_people_education.info()"
   ]
  },
  {
   "cell_type": "code",
   "execution_count": 68,
   "metadata": {},
   "outputs": [],
   "source": [
    "# Добавляем столбец с признаком отсутсвия образования.\n",
    "# Проверим пропуски в столбце graduated_at, так как, если отсутствует дата окончания вуза, скорей всего образование не было получено, либо еще идет "
   ]
  },
  {
   "cell_type": "code",
   "execution_count": 69,
   "metadata": {},
   "outputs": [
    {
     "name": "stdout",
     "output_type": "stream",
     "text": [
      "<class 'pandas.core.frame.DataFrame'>\n",
      "Int64Index: 109056 entries, 0 to 109055\n",
      "Data columns (total 9 columns):\n",
      " #   Column            Non-Null Count   Dtype         \n",
      "---  ------            --------------   -----         \n",
      " 0   id                109056 non-null  int64         \n",
      " 1   first_name        109056 non-null  object        \n",
      " 2   last_name         109056 non-null  object        \n",
      " 3   company_id        28638 non-null   float64       \n",
      " 4   network_username  33575 non-null   object        \n",
      " 5   id_education      109056 non-null  int64         \n",
      " 6   instituition      109002 non-null  object        \n",
      " 7   graduated_at      57691 non-null   datetime64[ns]\n",
      " 8   no_education      109056 non-null  bool          \n",
      "dtypes: bool(1), datetime64[ns](1), float64(1), int64(2), object(4)\n",
      "memory usage: 7.6+ MB\n"
     ]
    },
    {
     "data": {
      "text/html": [
       "<div>\n",
       "<style scoped>\n",
       "    .dataframe tbody tr th:only-of-type {\n",
       "        vertical-align: middle;\n",
       "    }\n",
       "\n",
       "    .dataframe tbody tr th {\n",
       "        vertical-align: top;\n",
       "    }\n",
       "\n",
       "    .dataframe thead th {\n",
       "        text-align: right;\n",
       "    }\n",
       "</style>\n",
       "<table border=\"1\" class=\"dataframe\">\n",
       "  <thead>\n",
       "    <tr style=\"text-align: right;\">\n",
       "      <th></th>\n",
       "      <th>id</th>\n",
       "      <th>first_name</th>\n",
       "      <th>last_name</th>\n",
       "      <th>company_id</th>\n",
       "      <th>network_username</th>\n",
       "      <th>id_education</th>\n",
       "      <th>instituition</th>\n",
       "      <th>graduated_at</th>\n",
       "      <th>no_education</th>\n",
       "    </tr>\n",
       "  </thead>\n",
       "  <tbody>\n",
       "    <tr>\n",
       "      <th>0</th>\n",
       "      <td>10</td>\n",
       "      <td>Mark</td>\n",
       "      <td>Zuckerberg</td>\n",
       "      <td>5.0</td>\n",
       "      <td>NaN</td>\n",
       "      <td>2415</td>\n",
       "      <td>Harvard University</td>\n",
       "      <td>NaT</td>\n",
       "      <td>True</td>\n",
       "    </tr>\n",
       "    <tr>\n",
       "      <th>1</th>\n",
       "      <td>100006</td>\n",
       "      <td>Courtney</td>\n",
       "      <td>Homer</td>\n",
       "      <td>81558.0</td>\n",
       "      <td>jobsbostontech</td>\n",
       "      <td>83604</td>\n",
       "      <td>MIT Sloan School of Management</td>\n",
       "      <td>2004-01-01</td>\n",
       "      <td>False</td>\n",
       "    </tr>\n",
       "    <tr>\n",
       "      <th>2</th>\n",
       "      <td>100013</td>\n",
       "      <td>Umesh</td>\n",
       "      <td>Singh</td>\n",
       "      <td>NaN</td>\n",
       "      <td>NaN</td>\n",
       "      <td>36786</td>\n",
       "      <td>Rutgers University</td>\n",
       "      <td>NaT</td>\n",
       "      <td>True</td>\n",
       "    </tr>\n",
       "    <tr>\n",
       "      <th>3</th>\n",
       "      <td>100013</td>\n",
       "      <td>Umesh</td>\n",
       "      <td>Singh</td>\n",
       "      <td>NaN</td>\n",
       "      <td>NaN</td>\n",
       "      <td>36787</td>\n",
       "      <td>University of Mumbai</td>\n",
       "      <td>NaT</td>\n",
       "      <td>True</td>\n",
       "    </tr>\n",
       "    <tr>\n",
       "      <th>4</th>\n",
       "      <td>100018</td>\n",
       "      <td>Adam</td>\n",
       "      <td>Beckerman</td>\n",
       "      <td>148554.0</td>\n",
       "      <td>adam_beckerman</td>\n",
       "      <td>14433</td>\n",
       "      <td>Columbia University, Business School</td>\n",
       "      <td>2004-01-01</td>\n",
       "      <td>False</td>\n",
       "    </tr>\n",
       "  </tbody>\n",
       "</table>\n",
       "</div>"
      ],
      "text/plain": [
       "       id first_name   last_name  company_id network_username  id_education  \\\n",
       "0      10       Mark  Zuckerberg         5.0              NaN          2415   \n",
       "1  100006   Courtney       Homer     81558.0   jobsbostontech         83604   \n",
       "2  100013      Umesh       Singh         NaN              NaN         36786   \n",
       "3  100013      Umesh       Singh         NaN              NaN         36787   \n",
       "4  100018       Adam   Beckerman    148554.0   adam_beckerman         14433   \n",
       "\n",
       "                           instituition graduated_at  no_education  \n",
       "0                    Harvard University          NaT          True  \n",
       "1        MIT Sloan School of Management   2004-01-01         False  \n",
       "2                    Rutgers University          NaT          True  \n",
       "3                  University of Mumbai          NaT          True  \n",
       "4  Columbia University, Business School   2004-01-01         False  "
      ]
     },
     "execution_count": 69,
     "metadata": {},
     "output_type": "execute_result"
    }
   ],
   "source": [
    "df_people_education['no_education'] = df_people_education['graduated_at'].isna()\n",
    "df_people_education.info()\n",
    "df_people_education.head()"
   ]
  },
  {
   "cell_type": "code",
   "execution_count": 70,
   "metadata": {},
   "outputs": [],
   "source": [
    "# Группируем данные по компаниям и считаем сотрудников "
   ]
  },
  {
   "cell_type": "code",
   "execution_count": 71,
   "metadata": {},
   "outputs": [
    {
     "data": {
      "text/html": [
       "<div>\n",
       "<style scoped>\n",
       "    .dataframe tbody tr th:only-of-type {\n",
       "        vertical-align: middle;\n",
       "    }\n",
       "\n",
       "    .dataframe tbody tr th {\n",
       "        vertical-align: top;\n",
       "    }\n",
       "\n",
       "    .dataframe thead th {\n",
       "        text-align: right;\n",
       "    }\n",
       "</style>\n",
       "<table border=\"1\" class=\"dataframe\">\n",
       "  <thead>\n",
       "    <tr style=\"text-align: right;\">\n",
       "      <th></th>\n",
       "      <th>company_id</th>\n",
       "      <th>id</th>\n",
       "      <th>no_education</th>\n",
       "    </tr>\n",
       "  </thead>\n",
       "  <tbody>\n",
       "    <tr>\n",
       "      <th>0</th>\n",
       "      <td>1.0</td>\n",
       "      <td>2</td>\n",
       "      <td>2</td>\n",
       "    </tr>\n",
       "    <tr>\n",
       "      <th>1</th>\n",
       "      <td>2.0</td>\n",
       "      <td>1</td>\n",
       "      <td>0</td>\n",
       "    </tr>\n",
       "    <tr>\n",
       "      <th>2</th>\n",
       "      <td>3.0</td>\n",
       "      <td>4</td>\n",
       "      <td>1</td>\n",
       "    </tr>\n",
       "    <tr>\n",
       "      <th>3</th>\n",
       "      <td>4.0</td>\n",
       "      <td>17</td>\n",
       "      <td>3</td>\n",
       "    </tr>\n",
       "    <tr>\n",
       "      <th>4</th>\n",
       "      <td>5.0</td>\n",
       "      <td>68</td>\n",
       "      <td>33</td>\n",
       "    </tr>\n",
       "    <tr>\n",
       "      <th>...</th>\n",
       "      <td>...</td>\n",
       "      <td>...</td>\n",
       "      <td>...</td>\n",
       "    </tr>\n",
       "    <tr>\n",
       "      <th>13414</th>\n",
       "      <td>285473.0</td>\n",
       "      <td>2</td>\n",
       "      <td>2</td>\n",
       "    </tr>\n",
       "    <tr>\n",
       "      <th>13415</th>\n",
       "      <td>285897.0</td>\n",
       "      <td>2</td>\n",
       "      <td>1</td>\n",
       "    </tr>\n",
       "    <tr>\n",
       "      <th>13416</th>\n",
       "      <td>285972.0</td>\n",
       "      <td>1</td>\n",
       "      <td>1</td>\n",
       "    </tr>\n",
       "    <tr>\n",
       "      <th>13417</th>\n",
       "      <td>285996.0</td>\n",
       "      <td>1</td>\n",
       "      <td>1</td>\n",
       "    </tr>\n",
       "    <tr>\n",
       "      <th>13418</th>\n",
       "      <td>286091.0</td>\n",
       "      <td>5</td>\n",
       "      <td>3</td>\n",
       "    </tr>\n",
       "  </tbody>\n",
       "</table>\n",
       "<p>13419 rows × 3 columns</p>\n",
       "</div>"
      ],
      "text/plain": [
       "       company_id  id  no_education\n",
       "0             1.0   2             2\n",
       "1             2.0   1             0\n",
       "2             3.0   4             1\n",
       "3             4.0  17             3\n",
       "4             5.0  68            33\n",
       "...           ...  ..           ...\n",
       "13414    285473.0   2             2\n",
       "13415    285897.0   2             1\n",
       "13416    285972.0   1             1\n",
       "13417    285996.0   1             1\n",
       "13418    286091.0   5             3\n",
       "\n",
       "[13419 rows x 3 columns]"
      ]
     },
     "metadata": {},
     "output_type": "display_data"
    }
   ],
   "source": [
    "df_grouped_education = df_people_education.groupby('company_id').agg({'id':'count',\n",
    "                                                                      'no_education':'sum'}).reset_index()\n",
    "display(df_grouped_education)"
   ]
  },
  {
   "cell_type": "code",
   "execution_count": 72,
   "metadata": {
    "scrolled": false
   },
   "outputs": [
    {
     "data": {
      "text/html": [
       "<div>\n",
       "<style scoped>\n",
       "    .dataframe tbody tr th:only-of-type {\n",
       "        vertical-align: middle;\n",
       "    }\n",
       "\n",
       "    .dataframe tbody tr th {\n",
       "        vertical-align: top;\n",
       "    }\n",
       "\n",
       "    .dataframe thead th {\n",
       "        text-align: right;\n",
       "    }\n",
       "</style>\n",
       "<table border=\"1\" class=\"dataframe\">\n",
       "  <thead>\n",
       "    <tr style=\"text-align: right;\">\n",
       "      <th></th>\n",
       "      <th>company_id</th>\n",
       "      <th>id</th>\n",
       "      <th>no_education</th>\n",
       "    </tr>\n",
       "  </thead>\n",
       "  <tbody>\n",
       "    <tr>\n",
       "      <th>0</th>\n",
       "      <td>1.0</td>\n",
       "      <td>2</td>\n",
       "      <td>1.00</td>\n",
       "    </tr>\n",
       "    <tr>\n",
       "      <th>1</th>\n",
       "      <td>2.0</td>\n",
       "      <td>1</td>\n",
       "      <td>0.00</td>\n",
       "    </tr>\n",
       "    <tr>\n",
       "      <th>2</th>\n",
       "      <td>3.0</td>\n",
       "      <td>4</td>\n",
       "      <td>0.25</td>\n",
       "    </tr>\n",
       "    <tr>\n",
       "      <th>3</th>\n",
       "      <td>4.0</td>\n",
       "      <td>17</td>\n",
       "      <td>0.18</td>\n",
       "    </tr>\n",
       "    <tr>\n",
       "      <th>4</th>\n",
       "      <td>5.0</td>\n",
       "      <td>68</td>\n",
       "      <td>0.49</td>\n",
       "    </tr>\n",
       "    <tr>\n",
       "      <th>...</th>\n",
       "      <td>...</td>\n",
       "      <td>...</td>\n",
       "      <td>...</td>\n",
       "    </tr>\n",
       "    <tr>\n",
       "      <th>13414</th>\n",
       "      <td>285473.0</td>\n",
       "      <td>2</td>\n",
       "      <td>1.00</td>\n",
       "    </tr>\n",
       "    <tr>\n",
       "      <th>13415</th>\n",
       "      <td>285897.0</td>\n",
       "      <td>2</td>\n",
       "      <td>0.50</td>\n",
       "    </tr>\n",
       "    <tr>\n",
       "      <th>13416</th>\n",
       "      <td>285972.0</td>\n",
       "      <td>1</td>\n",
       "      <td>1.00</td>\n",
       "    </tr>\n",
       "    <tr>\n",
       "      <th>13417</th>\n",
       "      <td>285996.0</td>\n",
       "      <td>1</td>\n",
       "      <td>1.00</td>\n",
       "    </tr>\n",
       "    <tr>\n",
       "      <th>13418</th>\n",
       "      <td>286091.0</td>\n",
       "      <td>5</td>\n",
       "      <td>0.60</td>\n",
       "    </tr>\n",
       "  </tbody>\n",
       "</table>\n",
       "<p>13419 rows × 3 columns</p>\n",
       "</div>"
      ],
      "text/plain": [
       "       company_id  id  no_education\n",
       "0             1.0   2          1.00\n",
       "1             2.0   1          0.00\n",
       "2             3.0   4          0.25\n",
       "3             4.0  17          0.18\n",
       "4             5.0  68          0.49\n",
       "...           ...  ..           ...\n",
       "13414    285473.0   2          1.00\n",
       "13415    285897.0   2          0.50\n",
       "13416    285972.0   1          1.00\n",
       "13417    285996.0   1          1.00\n",
       "13418    286091.0   5          0.60\n",
       "\n",
       "[13419 rows x 3 columns]"
      ]
     },
     "metadata": {},
     "output_type": "display_data"
    }
   ],
   "source": [
    "# Вычисляем долю сотрудников без образования \n",
    "df_grouped_education['no_education'] = round(df_grouped_education['no_education'] / df_grouped_education['id'],2)\n",
    "display(df_grouped_education)"
   ]
  },
  {
   "cell_type": "code",
   "execution_count": 73,
   "metadata": {
    "scrolled": false
   },
   "outputs": [
    {
     "data": {
      "text/html": [
       "<div>\n",
       "<style scoped>\n",
       "    .dataframe tbody tr th:only-of-type {\n",
       "        vertical-align: middle;\n",
       "    }\n",
       "\n",
       "    .dataframe tbody tr th {\n",
       "        vertical-align: top;\n",
       "    }\n",
       "\n",
       "    .dataframe thead th {\n",
       "        text-align: right;\n",
       "    }\n",
       "</style>\n",
       "<table border=\"1\" class=\"dataframe\">\n",
       "  <thead>\n",
       "    <tr style=\"text-align: right;\">\n",
       "      <th></th>\n",
       "      <th>company_id</th>\n",
       "      <th>id</th>\n",
       "      <th>no_education</th>\n",
       "      <th>size_com</th>\n",
       "    </tr>\n",
       "  </thead>\n",
       "  <tbody>\n",
       "    <tr>\n",
       "      <th>0</th>\n",
       "      <td>1.0</td>\n",
       "      <td>2</td>\n",
       "      <td>1.00</td>\n",
       "      <td>Малые</td>\n",
       "    </tr>\n",
       "    <tr>\n",
       "      <th>1</th>\n",
       "      <td>2.0</td>\n",
       "      <td>1</td>\n",
       "      <td>0.00</td>\n",
       "      <td>Микропредприятия</td>\n",
       "    </tr>\n",
       "    <tr>\n",
       "      <th>2</th>\n",
       "      <td>3.0</td>\n",
       "      <td>4</td>\n",
       "      <td>0.25</td>\n",
       "      <td>Малые</td>\n",
       "    </tr>\n",
       "    <tr>\n",
       "      <th>3</th>\n",
       "      <td>4.0</td>\n",
       "      <td>17</td>\n",
       "      <td>0.18</td>\n",
       "      <td>Крупные</td>\n",
       "    </tr>\n",
       "    <tr>\n",
       "      <th>4</th>\n",
       "      <td>5.0</td>\n",
       "      <td>68</td>\n",
       "      <td>0.49</td>\n",
       "      <td>Крупные</td>\n",
       "    </tr>\n",
       "    <tr>\n",
       "      <th>...</th>\n",
       "      <td>...</td>\n",
       "      <td>...</td>\n",
       "      <td>...</td>\n",
       "      <td>...</td>\n",
       "    </tr>\n",
       "    <tr>\n",
       "      <th>13414</th>\n",
       "      <td>285473.0</td>\n",
       "      <td>2</td>\n",
       "      <td>1.00</td>\n",
       "      <td>Малые</td>\n",
       "    </tr>\n",
       "    <tr>\n",
       "      <th>13415</th>\n",
       "      <td>285897.0</td>\n",
       "      <td>2</td>\n",
       "      <td>0.50</td>\n",
       "      <td>Малые</td>\n",
       "    </tr>\n",
       "    <tr>\n",
       "      <th>13416</th>\n",
       "      <td>285972.0</td>\n",
       "      <td>1</td>\n",
       "      <td>1.00</td>\n",
       "      <td>Микропредприятия</td>\n",
       "    </tr>\n",
       "    <tr>\n",
       "      <th>13417</th>\n",
       "      <td>285996.0</td>\n",
       "      <td>1</td>\n",
       "      <td>1.00</td>\n",
       "      <td>Микропредприятия</td>\n",
       "    </tr>\n",
       "    <tr>\n",
       "      <th>13418</th>\n",
       "      <td>286091.0</td>\n",
       "      <td>5</td>\n",
       "      <td>0.60</td>\n",
       "      <td>Малые</td>\n",
       "    </tr>\n",
       "  </tbody>\n",
       "</table>\n",
       "<p>13419 rows × 4 columns</p>\n",
       "</div>"
      ],
      "text/plain": [
       "       company_id  id  no_education          size_com\n",
       "0             1.0   2          1.00             Малые\n",
       "1             2.0   1          0.00  Микропредприятия\n",
       "2             3.0   4          0.25             Малые\n",
       "3             4.0  17          0.18           Крупные\n",
       "4             5.0  68          0.49           Крупные\n",
       "...           ...  ..           ...               ...\n",
       "13414    285473.0   2          1.00             Малые\n",
       "13415    285897.0   2          0.50             Малые\n",
       "13416    285972.0   1          1.00  Микропредприятия\n",
       "13417    285996.0   1          1.00  Микропредприятия\n",
       "13418    286091.0   5          0.60             Малые\n",
       "\n",
       "[13419 rows x 4 columns]"
      ]
     },
     "metadata": {},
     "output_type": "display_data"
    }
   ],
   "source": [
    "# Делим предприятия на категории в зависимости от кол-ва сотрудников.\n",
    "# Для разделения постараемся разделить данные на равные группы\n",
    "# 1 сотрудник - микропредприятие, 2-5 - малые, 6-10 = средние, 11~ крупные\n",
    "df_grouped_education['size_com'] = pd.cut(df_grouped_education['id'], \n",
    "                                          bins = [0,1,5,10,float('inf')], \n",
    "                                          labels = ['Микропредприятия', 'Малые', 'Средние', 'Крупные'])\n",
    "display(df_grouped_education)"
   ]
  },
  {
   "cell_type": "code",
   "execution_count": 74,
   "metadata": {
    "scrolled": true
   },
   "outputs": [
    {
     "data": {
      "text/html": [
       "<div>\n",
       "<style scoped>\n",
       "    .dataframe tbody tr th:only-of-type {\n",
       "        vertical-align: middle;\n",
       "    }\n",
       "\n",
       "    .dataframe tbody tr th {\n",
       "        vertical-align: top;\n",
       "    }\n",
       "\n",
       "    .dataframe thead th {\n",
       "        text-align: right;\n",
       "    }\n",
       "</style>\n",
       "<table border=\"1\" class=\"dataframe\">\n",
       "  <thead>\n",
       "    <tr style=\"text-align: right;\">\n",
       "      <th></th>\n",
       "      <th>size_com</th>\n",
       "      <th>company_id</th>\n",
       "      <th>id</th>\n",
       "      <th>no_education</th>\n",
       "    </tr>\n",
       "  </thead>\n",
       "  <tbody>\n",
       "    <tr>\n",
       "      <th>0</th>\n",
       "      <td>Микропредприятия</td>\n",
       "      <td>6650</td>\n",
       "      <td>6650</td>\n",
       "      <td>0.201805</td>\n",
       "    </tr>\n",
       "    <tr>\n",
       "      <th>1</th>\n",
       "      <td>Малые</td>\n",
       "      <td>6251</td>\n",
       "      <td>15979</td>\n",
       "      <td>0.247727</td>\n",
       "    </tr>\n",
       "    <tr>\n",
       "      <th>2</th>\n",
       "      <td>Средние</td>\n",
       "      <td>395</td>\n",
       "      <td>2830</td>\n",
       "      <td>0.341924</td>\n",
       "    </tr>\n",
       "    <tr>\n",
       "      <th>3</th>\n",
       "      <td>Крупные</td>\n",
       "      <td>123</td>\n",
       "      <td>3179</td>\n",
       "      <td>0.404228</td>\n",
       "    </tr>\n",
       "  </tbody>\n",
       "</table>\n",
       "</div>"
      ],
      "text/plain": [
       "           size_com  company_id     id  no_education\n",
       "0  Микропредприятия        6650   6650      0.201805\n",
       "1             Малые        6251  15979      0.247727\n",
       "2           Средние         395   2830      0.341924\n",
       "3           Крупные         123   3179      0.404228"
      ]
     },
     "metadata": {},
     "output_type": "display_data"
    }
   ],
   "source": [
    "# Группируем данные по размеру предприятий \n",
    "df_grouped_education = df_grouped_education.groupby('size_com').agg({'company_id':'count',\n",
    "                                             'id':'sum',\n",
    "                                              'no_education':'mean'}).reset_index()\n",
    "display(df_grouped_education)"
   ]
  },
  {
   "cell_type": "code",
   "execution_count": 75,
   "metadata": {},
   "outputs": [
    {
     "data": {
      "text/html": [
       "<div>\n",
       "<style scoped>\n",
       "    .dataframe tbody tr th:only-of-type {\n",
       "        vertical-align: middle;\n",
       "    }\n",
       "\n",
       "    .dataframe tbody tr th {\n",
       "        vertical-align: top;\n",
       "    }\n",
       "\n",
       "    .dataframe thead th {\n",
       "        text-align: right;\n",
       "    }\n",
       "</style>\n",
       "<table border=\"1\" class=\"dataframe\">\n",
       "  <thead>\n",
       "    <tr style=\"text-align: right;\">\n",
       "      <th></th>\n",
       "      <th>size_company</th>\n",
       "      <th>company_count</th>\n",
       "      <th>stuff_count</th>\n",
       "      <th>no_education</th>\n",
       "    </tr>\n",
       "  </thead>\n",
       "  <tbody>\n",
       "    <tr>\n",
       "      <th>0</th>\n",
       "      <td>Микропредприятия</td>\n",
       "      <td>6650</td>\n",
       "      <td>6650</td>\n",
       "      <td>0.201805</td>\n",
       "    </tr>\n",
       "    <tr>\n",
       "      <th>1</th>\n",
       "      <td>Малые</td>\n",
       "      <td>6251</td>\n",
       "      <td>15979</td>\n",
       "      <td>0.247727</td>\n",
       "    </tr>\n",
       "    <tr>\n",
       "      <th>2</th>\n",
       "      <td>Средние</td>\n",
       "      <td>395</td>\n",
       "      <td>2830</td>\n",
       "      <td>0.341924</td>\n",
       "    </tr>\n",
       "    <tr>\n",
       "      <th>3</th>\n",
       "      <td>Крупные</td>\n",
       "      <td>123</td>\n",
       "      <td>3179</td>\n",
       "      <td>0.404228</td>\n",
       "    </tr>\n",
       "  </tbody>\n",
       "</table>\n",
       "</div>"
      ],
      "text/plain": [
       "       size_company  company_count  stuff_count  no_education\n",
       "0  Микропредприятия           6650         6650      0.201805\n",
       "1             Малые           6251        15979      0.247727\n",
       "2           Средние            395         2830      0.341924\n",
       "3           Крупные            123         3179      0.404228"
      ]
     },
     "metadata": {},
     "output_type": "display_data"
    }
   ],
   "source": [
    "# Переименуем столбцы для удобства \n",
    "df_grouped_education.columns = ['size_company','company_count','stuff_count','no_education']\n",
    "display(df_grouped_education)"
   ]
  },
  {
   "cell_type": "code",
   "execution_count": 76,
   "metadata": {},
   "outputs": [],
   "source": [
    "# Оцениваем возможность присоединение к датасету df_people_education датасет df_degrees"
   ]
  },
  {
   "cell_type": "code",
   "execution_count": 77,
   "metadata": {},
   "outputs": [
    {
     "name": "stdout",
     "output_type": "stream",
     "text": [
      "<class 'pandas.core.frame.DataFrame'>\n",
      "RangeIndex: 109610 entries, 0 to 109609\n",
      "Data columns (total 4 columns):\n",
      " #   Column       Non-Null Count   Dtype \n",
      "---  ------       --------------   ----- \n",
      " 0   id           109610 non-null  int64 \n",
      " 1   object_id    109610 non-null  object\n",
      " 2   degree_type  98392 non-null   object\n",
      " 3   subject      81298 non-null   object\n",
      "dtypes: int64(1), object(3)\n",
      "memory usage: 3.3+ MB\n"
     ]
    },
    {
     "data": {
      "text/html": [
       "<div>\n",
       "<style scoped>\n",
       "    .dataframe tbody tr th:only-of-type {\n",
       "        vertical-align: middle;\n",
       "    }\n",
       "\n",
       "    .dataframe tbody tr th {\n",
       "        vertical-align: top;\n",
       "    }\n",
       "\n",
       "    .dataframe thead th {\n",
       "        text-align: right;\n",
       "    }\n",
       "</style>\n",
       "<table border=\"1\" class=\"dataframe\">\n",
       "  <thead>\n",
       "    <tr style=\"text-align: right;\">\n",
       "      <th></th>\n",
       "      <th>id</th>\n",
       "      <th>object_id</th>\n",
       "      <th>degree_type</th>\n",
       "      <th>subject</th>\n",
       "    </tr>\n",
       "  </thead>\n",
       "  <tbody>\n",
       "    <tr>\n",
       "      <th>0</th>\n",
       "      <td>1</td>\n",
       "      <td>p:6117</td>\n",
       "      <td>MBA</td>\n",
       "      <td>NaN</td>\n",
       "    </tr>\n",
       "    <tr>\n",
       "      <th>1</th>\n",
       "      <td>2</td>\n",
       "      <td>p:6136</td>\n",
       "      <td>BA</td>\n",
       "      <td>English, French</td>\n",
       "    </tr>\n",
       "    <tr>\n",
       "      <th>2</th>\n",
       "      <td>3</td>\n",
       "      <td>p:6136</td>\n",
       "      <td>MS</td>\n",
       "      <td>Mass Communication</td>\n",
       "    </tr>\n",
       "    <tr>\n",
       "      <th>3</th>\n",
       "      <td>4</td>\n",
       "      <td>p:6005</td>\n",
       "      <td>MS</td>\n",
       "      <td>Internet Technology</td>\n",
       "    </tr>\n",
       "    <tr>\n",
       "      <th>4</th>\n",
       "      <td>5</td>\n",
       "      <td>p:5832</td>\n",
       "      <td>BCS</td>\n",
       "      <td>Computer Science, Psychology</td>\n",
       "    </tr>\n",
       "  </tbody>\n",
       "</table>\n",
       "</div>"
      ],
      "text/plain": [
       "   id object_id degree_type                       subject\n",
       "0   1    p:6117         MBA                           NaN\n",
       "1   2    p:6136          BA               English, French\n",
       "2   3    p:6136          MS            Mass Communication\n",
       "3   4    p:6005          MS           Internet Technology\n",
       "4   5    p:5832         BCS  Computer Science, Psychology"
      ]
     },
     "execution_count": 77,
     "metadata": {},
     "output_type": "execute_result"
    }
   ],
   "source": [
    "df_degrees.info()\n",
    "df_degrees.head()"
   ]
  },
  {
   "cell_type": "code",
   "execution_count": 78,
   "metadata": {
    "scrolled": false
   },
   "outputs": [
    {
     "name": "stdout",
     "output_type": "stream",
     "text": [
      "<class 'pandas.core.frame.DataFrame'>\n",
      "Int64Index: 109056 entries, 0 to 109055\n",
      "Data columns (total 9 columns):\n",
      " #   Column            Non-Null Count   Dtype         \n",
      "---  ------            --------------   -----         \n",
      " 0   id                109056 non-null  int64         \n",
      " 1   first_name        109056 non-null  object        \n",
      " 2   last_name         109056 non-null  object        \n",
      " 3   company_id        28638 non-null   float64       \n",
      " 4   network_username  33575 non-null   object        \n",
      " 5   id_education      109056 non-null  int64         \n",
      " 6   instituition      109002 non-null  object        \n",
      " 7   graduated_at      57691 non-null   datetime64[ns]\n",
      " 8   no_education      109056 non-null  bool          \n",
      "dtypes: bool(1), datetime64[ns](1), float64(1), int64(2), object(4)\n",
      "memory usage: 7.6+ MB\n"
     ]
    },
    {
     "data": {
      "text/html": [
       "<div>\n",
       "<style scoped>\n",
       "    .dataframe tbody tr th:only-of-type {\n",
       "        vertical-align: middle;\n",
       "    }\n",
       "\n",
       "    .dataframe tbody tr th {\n",
       "        vertical-align: top;\n",
       "    }\n",
       "\n",
       "    .dataframe thead th {\n",
       "        text-align: right;\n",
       "    }\n",
       "</style>\n",
       "<table border=\"1\" class=\"dataframe\">\n",
       "  <thead>\n",
       "    <tr style=\"text-align: right;\">\n",
       "      <th></th>\n",
       "      <th>id</th>\n",
       "      <th>first_name</th>\n",
       "      <th>last_name</th>\n",
       "      <th>company_id</th>\n",
       "      <th>network_username</th>\n",
       "      <th>id_education</th>\n",
       "      <th>instituition</th>\n",
       "      <th>graduated_at</th>\n",
       "      <th>no_education</th>\n",
       "    </tr>\n",
       "  </thead>\n",
       "  <tbody>\n",
       "    <tr>\n",
       "      <th>0</th>\n",
       "      <td>10</td>\n",
       "      <td>Mark</td>\n",
       "      <td>Zuckerberg</td>\n",
       "      <td>5.0</td>\n",
       "      <td>NaN</td>\n",
       "      <td>2415</td>\n",
       "      <td>Harvard University</td>\n",
       "      <td>NaT</td>\n",
       "      <td>True</td>\n",
       "    </tr>\n",
       "    <tr>\n",
       "      <th>1</th>\n",
       "      <td>100006</td>\n",
       "      <td>Courtney</td>\n",
       "      <td>Homer</td>\n",
       "      <td>81558.0</td>\n",
       "      <td>jobsbostontech</td>\n",
       "      <td>83604</td>\n",
       "      <td>MIT Sloan School of Management</td>\n",
       "      <td>2004-01-01</td>\n",
       "      <td>False</td>\n",
       "    </tr>\n",
       "    <tr>\n",
       "      <th>2</th>\n",
       "      <td>100013</td>\n",
       "      <td>Umesh</td>\n",
       "      <td>Singh</td>\n",
       "      <td>NaN</td>\n",
       "      <td>NaN</td>\n",
       "      <td>36786</td>\n",
       "      <td>Rutgers University</td>\n",
       "      <td>NaT</td>\n",
       "      <td>True</td>\n",
       "    </tr>\n",
       "    <tr>\n",
       "      <th>3</th>\n",
       "      <td>100013</td>\n",
       "      <td>Umesh</td>\n",
       "      <td>Singh</td>\n",
       "      <td>NaN</td>\n",
       "      <td>NaN</td>\n",
       "      <td>36787</td>\n",
       "      <td>University of Mumbai</td>\n",
       "      <td>NaT</td>\n",
       "      <td>True</td>\n",
       "    </tr>\n",
       "    <tr>\n",
       "      <th>4</th>\n",
       "      <td>100018</td>\n",
       "      <td>Adam</td>\n",
       "      <td>Beckerman</td>\n",
       "      <td>148554.0</td>\n",
       "      <td>adam_beckerman</td>\n",
       "      <td>14433</td>\n",
       "      <td>Columbia University, Business School</td>\n",
       "      <td>2004-01-01</td>\n",
       "      <td>False</td>\n",
       "    </tr>\n",
       "  </tbody>\n",
       "</table>\n",
       "</div>"
      ],
      "text/plain": [
       "       id first_name   last_name  company_id network_username  id_education  \\\n",
       "0      10       Mark  Zuckerberg         5.0              NaN          2415   \n",
       "1  100006   Courtney       Homer     81558.0   jobsbostontech         83604   \n",
       "2  100013      Umesh       Singh         NaN              NaN         36786   \n",
       "3  100013      Umesh       Singh         NaN              NaN         36787   \n",
       "4  100018       Adam   Beckerman    148554.0   adam_beckerman         14433   \n",
       "\n",
       "                           instituition graduated_at  no_education  \n",
       "0                    Harvard University          NaT          True  \n",
       "1        MIT Sloan School of Management   2004-01-01         False  \n",
       "2                    Rutgers University          NaT          True  \n",
       "3                  University of Mumbai          NaT          True  \n",
       "4  Columbia University, Business School   2004-01-01         False  "
      ]
     },
     "execution_count": 78,
     "metadata": {},
     "output_type": "execute_result"
    }
   ],
   "source": [
    "df_people_education.info()\n",
    "df_people_education.head()"
   ]
  },
  {
   "cell_type": "code",
   "execution_count": 79,
   "metadata": {
    "scrolled": false
   },
   "outputs": [
    {
     "data": {
      "text/html": [
       "<div>\n",
       "<style scoped>\n",
       "    .dataframe tbody tr th:only-of-type {\n",
       "        vertical-align: middle;\n",
       "    }\n",
       "\n",
       "    .dataframe tbody tr th {\n",
       "        vertical-align: top;\n",
       "    }\n",
       "\n",
       "    .dataframe thead th {\n",
       "        text-align: right;\n",
       "    }\n",
       "</style>\n",
       "<table border=\"1\" class=\"dataframe\">\n",
       "  <thead>\n",
       "    <tr style=\"text-align: right;\">\n",
       "      <th></th>\n",
       "      <th>id</th>\n",
       "      <th>first_name</th>\n",
       "      <th>last_name</th>\n",
       "      <th>company_id</th>\n",
       "      <th>network_username</th>\n",
       "      <th>id_education</th>\n",
       "      <th>instituition</th>\n",
       "      <th>graduated_at</th>\n",
       "      <th>no_education</th>\n",
       "    </tr>\n",
       "  </thead>\n",
       "  <tbody>\n",
       "    <tr>\n",
       "      <th>94234</th>\n",
       "      <td>5832</td>\n",
       "      <td>David</td>\n",
       "      <td>Peters</td>\n",
       "      <td>2033.0</td>\n",
       "      <td>NaN</td>\n",
       "      <td>5</td>\n",
       "      <td>Rice University</td>\n",
       "      <td>NaT</td>\n",
       "      <td>True</td>\n",
       "    </tr>\n",
       "    <tr>\n",
       "      <th>94920</th>\n",
       "      <td>6005</td>\n",
       "      <td>Sridhar</td>\n",
       "      <td>Gundaiah</td>\n",
       "      <td>2360.0</td>\n",
       "      <td>NaN</td>\n",
       "      <td>4</td>\n",
       "      <td>University of Greenwich</td>\n",
       "      <td>2006-01-01</td>\n",
       "      <td>False</td>\n",
       "    </tr>\n",
       "    <tr>\n",
       "      <th>95316</th>\n",
       "      <td>6117</td>\n",
       "      <td>Maurice</td>\n",
       "      <td>Rompre</td>\n",
       "      <td>2430.0</td>\n",
       "      <td>NaN</td>\n",
       "      <td>1</td>\n",
       "      <td>NaN</td>\n",
       "      <td>NaT</td>\n",
       "      <td>True</td>\n",
       "    </tr>\n",
       "    <tr>\n",
       "      <th>95390</th>\n",
       "      <td>6136</td>\n",
       "      <td>John</td>\n",
       "      <td>Green</td>\n",
       "      <td>2454.0</td>\n",
       "      <td>NaN</td>\n",
       "      <td>2</td>\n",
       "      <td>Washington University, St. Louis</td>\n",
       "      <td>1990-01-01</td>\n",
       "      <td>False</td>\n",
       "    </tr>\n",
       "    <tr>\n",
       "      <th>95391</th>\n",
       "      <td>6136</td>\n",
       "      <td>John</td>\n",
       "      <td>Green</td>\n",
       "      <td>2454.0</td>\n",
       "      <td>NaN</td>\n",
       "      <td>3</td>\n",
       "      <td>Boston University</td>\n",
       "      <td>1992-01-01</td>\n",
       "      <td>False</td>\n",
       "    </tr>\n",
       "  </tbody>\n",
       "</table>\n",
       "</div>"
      ],
      "text/plain": [
       "         id first_name last_name  company_id network_username  id_education  \\\n",
       "94234  5832      David    Peters      2033.0              NaN             5   \n",
       "94920  6005    Sridhar  Gundaiah      2360.0              NaN             4   \n",
       "95316  6117    Maurice    Rompre      2430.0              NaN             1   \n",
       "95390  6136       John     Green      2454.0              NaN             2   \n",
       "95391  6136       John     Green      2454.0              NaN             3   \n",
       "\n",
       "                           instituition graduated_at  no_education  \n",
       "94234                   Rice University          NaT          True  \n",
       "94920           University of Greenwich   2006-01-01         False  \n",
       "95316                               NaN          NaT          True  \n",
       "95390  Washington University, St. Louis   1990-01-01         False  \n",
       "95391                 Boston University   1992-01-01         False  "
      ]
     },
     "metadata": {},
     "output_type": "display_data"
    }
   ],
   "source": [
    "# Стоит обратить внимание на столбцы object_id в df_degrees и id в df_people_education. \n",
    "# Проверим совпадения между столбцами \n",
    "degrees = [6117, 6136, 6005, 5832]\n",
    "check = df_people_education.query('id in @degrees')\n",
    "display (check)"
   ]
  },
  {
   "cell_type": "markdown",
   "metadata": {},
   "source": [
    "1. При анализе предприятий по кол-ву сотрудников, мы видим, что самое большое количество является микропредприятиями - это 6650, в которых всего один сотрудник. среди них нет записей об оконченном образовании у 20% сотрудников, это достаточно большое количество. Тоже самое касается малых предприятий, среди сотрудников нет записей об образовании у 24% - это значительный показатель. Средних и крупных предприятий незначительное кол-во, всего 395 и 193 соответвенно, среди сотрудников этих предприятий нет записей об образовании у примерно 34% и 40% сотрудников. В целом это значительные показатели отсутсвия образования у сотрудников, но у микропредприятий самый низкий показатель, возможно, потому что сотрудниками таких старатапов в основном являются их основатели, которые с большей вероятностью имеют оконченное образование \n",
    "2. При анализе таблицы df_degrees на возможность присоединения её к объединенному датафрейму df_people_education, такая возможности выявлена, так как столбцы соответсвующие идентификаторам сотрудников соответсуют друг другу, однако в датасете df_degrees тип данных object в столбце object_id из-за некоректной записи, перед каждым число стоит приставка 'p:', поэтому перед присоединением этого датасета стоит привести столбец к типу данных int64 и удалить из записи лишние символы"
   ]
  },
  {
   "cell_type": "markdown",
   "metadata": {
    "id": "Lz7qjM32xglW"
   },
   "source": [
    "### 2.3. Объединять или не объединять — вот в чём вопрос\n",
    "\n",
    "Некоторые названия столбцов встречаются в датасетах чаще других. В результате предварительной проверки датасетов было выяснено, что столбец `company_id` подходит для объединения данных.\n",
    "\n",
    "- Установите, подходит ли для объединения данных столбец `network_username`, который встречается в нескольких датасетах. Нам необходимо понимать, дублируется ли для разных датасетов информация в столбцах с таким названием, и если да — то насколько часто.\n",
    "- Оцените, можно ли использовать столбцы с именем `network_username` для объединения данных."
   ]
  },
  {
   "cell_type": "code",
   "execution_count": 80,
   "metadata": {
    "id": "zyI3rt0rxg1O"
   },
   "outputs": [],
   "source": [
    "# Проверяем все датасеты, в которых присутствует столбец network_username"
   ]
  },
  {
   "cell_type": "code",
   "execution_count": 81,
   "metadata": {
    "id": "RxOS5rwmFcNW"
   },
   "outputs": [
    {
     "name": "stdout",
     "output_type": "stream",
     "text": [
      "<class 'pandas.core.frame.DataFrame'>\n",
      "RangeIndex: 226709 entries, 0 to 226708\n",
      "Data columns (total 5 columns):\n",
      " #   Column            Non-Null Count   Dtype  \n",
      "---  ------            --------------   -----  \n",
      " 0   id                226709 non-null  int64  \n",
      " 1   first_name        226704 non-null  object \n",
      " 2   last_name         226708 non-null  object \n",
      " 3   company_id        34615 non-null   float64\n",
      " 4   network_username  38867 non-null   object \n",
      "dtypes: float64(1), int64(1), object(3)\n",
      "memory usage: 8.6+ MB\n"
     ]
    },
    {
     "data": {
      "text/html": [
       "<div>\n",
       "<style scoped>\n",
       "    .dataframe tbody tr th:only-of-type {\n",
       "        vertical-align: middle;\n",
       "    }\n",
       "\n",
       "    .dataframe tbody tr th {\n",
       "        vertical-align: top;\n",
       "    }\n",
       "\n",
       "    .dataframe thead th {\n",
       "        text-align: right;\n",
       "    }\n",
       "</style>\n",
       "<table border=\"1\" class=\"dataframe\">\n",
       "  <thead>\n",
       "    <tr style=\"text-align: right;\">\n",
       "      <th></th>\n",
       "      <th>id</th>\n",
       "      <th>first_name</th>\n",
       "      <th>last_name</th>\n",
       "      <th>company_id</th>\n",
       "      <th>network_username</th>\n",
       "    </tr>\n",
       "  </thead>\n",
       "  <tbody>\n",
       "    <tr>\n",
       "      <th>0</th>\n",
       "      <td>10</td>\n",
       "      <td>Mark</td>\n",
       "      <td>Zuckerberg</td>\n",
       "      <td>5.0</td>\n",
       "      <td>NaN</td>\n",
       "    </tr>\n",
       "    <tr>\n",
       "      <th>1</th>\n",
       "      <td>100</td>\n",
       "      <td>Peter</td>\n",
       "      <td>Lester</td>\n",
       "      <td>27.0</td>\n",
       "      <td>NaN</td>\n",
       "    </tr>\n",
       "    <tr>\n",
       "      <th>2</th>\n",
       "      <td>1000</td>\n",
       "      <td>Dr. Steven</td>\n",
       "      <td>E. Saunders</td>\n",
       "      <td>292.0</td>\n",
       "      <td>NaN</td>\n",
       "    </tr>\n",
       "    <tr>\n",
       "      <th>3</th>\n",
       "      <td>10000</td>\n",
       "      <td>Neil</td>\n",
       "      <td>Capel</td>\n",
       "      <td>2526.0</td>\n",
       "      <td>NaN</td>\n",
       "    </tr>\n",
       "    <tr>\n",
       "      <th>4</th>\n",
       "      <td>100000</td>\n",
       "      <td>Sue</td>\n",
       "      <td>Pilsch</td>\n",
       "      <td>NaN</td>\n",
       "      <td>NaN</td>\n",
       "    </tr>\n",
       "  </tbody>\n",
       "</table>\n",
       "</div>"
      ],
      "text/plain": [
       "       id  first_name    last_name  company_id network_username\n",
       "0      10        Mark   Zuckerberg         5.0              NaN\n",
       "1     100       Peter       Lester        27.0              NaN\n",
       "2    1000  Dr. Steven  E. Saunders       292.0              NaN\n",
       "3   10000        Neil        Capel      2526.0              NaN\n",
       "4  100000         Sue       Pilsch         NaN              NaN"
      ]
     },
     "execution_count": 81,
     "metadata": {},
     "output_type": "execute_result"
    }
   ],
   "source": [
    "df_people.info()\n",
    "df_people.head()"
   ]
  },
  {
   "cell_type": "code",
   "execution_count": 82,
   "metadata": {
    "id": "_7gjdrGOFcB2"
   },
   "outputs": [
    {
     "name": "stdout",
     "output_type": "stream",
     "text": [
      "<class 'pandas.core.frame.DataFrame'>\n",
      "RangeIndex: 217774 entries, 0 to 217773\n",
      "Data columns (total 23 columns):\n",
      " #   Column               Non-Null Count   Dtype         \n",
      "---  ------               --------------   -----         \n",
      " 0   company_ID           217472 non-null  float64       \n",
      " 1   name                 217472 non-null  object        \n",
      " 2   category_code        143886 non-null  object        \n",
      " 3   status               217472 non-null  object        \n",
      " 4   founded_at           109956 non-null  datetime64[ns]\n",
      " 5   closed_at            3449 non-null    datetime64[ns]\n",
      " 6   domain               147159 non-null  object        \n",
      " 7   network_username     95534 non-null   object        \n",
      " 8   country_code         108607 non-null  object        \n",
      " 9   investment_rounds    217472 non-null  float64       \n",
      " 10  funding_rounds       217472 non-null  float64       \n",
      " 11  funding_total        217472 non-null  float64       \n",
      " 12  milestones           217472 non-null  float64       \n",
      " 13  funding_round_id     52928 non-null   float64       \n",
      " 14  company_id           52928 non-null   float64       \n",
      " 15  funded_at            52680 non-null   datetime64[ns]\n",
      " 16  funding_round_type   52928 non-null   object        \n",
      " 17  raised_amount        52928 non-null   float64       \n",
      " 18  pre_money_valuation  52928 non-null   float64       \n",
      " 19  participants         52928 non-null   float64       \n",
      " 20  is_first_round       52928 non-null   float64       \n",
      " 21  is_last_round        52928 non-null   float64       \n",
      " 22  funded_year          52680 non-null   float64       \n",
      "dtypes: datetime64[ns](3), float64(13), object(7)\n",
      "memory usage: 38.2+ MB\n"
     ]
    },
    {
     "data": {
      "text/html": [
       "<div>\n",
       "<style scoped>\n",
       "    .dataframe tbody tr th:only-of-type {\n",
       "        vertical-align: middle;\n",
       "    }\n",
       "\n",
       "    .dataframe tbody tr th {\n",
       "        vertical-align: top;\n",
       "    }\n",
       "\n",
       "    .dataframe thead th {\n",
       "        text-align: right;\n",
       "    }\n",
       "</style>\n",
       "<table border=\"1\" class=\"dataframe\">\n",
       "  <thead>\n",
       "    <tr style=\"text-align: right;\">\n",
       "      <th></th>\n",
       "      <th>company_ID</th>\n",
       "      <th>name</th>\n",
       "      <th>category_code</th>\n",
       "      <th>status</th>\n",
       "      <th>founded_at</th>\n",
       "      <th>closed_at</th>\n",
       "      <th>domain</th>\n",
       "      <th>network_username</th>\n",
       "      <th>country_code</th>\n",
       "      <th>investment_rounds</th>\n",
       "      <th>...</th>\n",
       "      <th>funding_round_id</th>\n",
       "      <th>company_id</th>\n",
       "      <th>funded_at</th>\n",
       "      <th>funding_round_type</th>\n",
       "      <th>raised_amount</th>\n",
       "      <th>pre_money_valuation</th>\n",
       "      <th>participants</th>\n",
       "      <th>is_first_round</th>\n",
       "      <th>is_last_round</th>\n",
       "      <th>funded_year</th>\n",
       "    </tr>\n",
       "  </thead>\n",
       "  <tbody>\n",
       "    <tr>\n",
       "      <th>0</th>\n",
       "      <td>1.0</td>\n",
       "      <td>Wetpaint</td>\n",
       "      <td>web</td>\n",
       "      <td>operating</td>\n",
       "      <td>2005-10-17</td>\n",
       "      <td>NaT</td>\n",
       "      <td>wetpaint-inc.com</td>\n",
       "      <td>BachelrWetpaint</td>\n",
       "      <td>USA</td>\n",
       "      <td>0.0</td>\n",
       "      <td>...</td>\n",
       "      <td>888.0</td>\n",
       "      <td>1.0</td>\n",
       "      <td>2005-10-01</td>\n",
       "      <td>series-a</td>\n",
       "      <td>5250000.0</td>\n",
       "      <td>0.0</td>\n",
       "      <td>2.0</td>\n",
       "      <td>0.0</td>\n",
       "      <td>1.0</td>\n",
       "      <td>2005.0</td>\n",
       "    </tr>\n",
       "    <tr>\n",
       "      <th>1</th>\n",
       "      <td>1.0</td>\n",
       "      <td>Wetpaint</td>\n",
       "      <td>web</td>\n",
       "      <td>operating</td>\n",
       "      <td>2005-10-17</td>\n",
       "      <td>NaT</td>\n",
       "      <td>wetpaint-inc.com</td>\n",
       "      <td>BachelrWetpaint</td>\n",
       "      <td>USA</td>\n",
       "      <td>0.0</td>\n",
       "      <td>...</td>\n",
       "      <td>889.0</td>\n",
       "      <td>1.0</td>\n",
       "      <td>2007-01-01</td>\n",
       "      <td>series-b</td>\n",
       "      <td>9500000.0</td>\n",
       "      <td>0.0</td>\n",
       "      <td>3.0</td>\n",
       "      <td>0.0</td>\n",
       "      <td>0.0</td>\n",
       "      <td>2007.0</td>\n",
       "    </tr>\n",
       "    <tr>\n",
       "      <th>2</th>\n",
       "      <td>1.0</td>\n",
       "      <td>Wetpaint</td>\n",
       "      <td>web</td>\n",
       "      <td>operating</td>\n",
       "      <td>2005-10-17</td>\n",
       "      <td>NaT</td>\n",
       "      <td>wetpaint-inc.com</td>\n",
       "      <td>BachelrWetpaint</td>\n",
       "      <td>USA</td>\n",
       "      <td>0.0</td>\n",
       "      <td>...</td>\n",
       "      <td>2312.0</td>\n",
       "      <td>1.0</td>\n",
       "      <td>2008-05-19</td>\n",
       "      <td>series-c+</td>\n",
       "      <td>25000000.0</td>\n",
       "      <td>0.0</td>\n",
       "      <td>4.0</td>\n",
       "      <td>1.0</td>\n",
       "      <td>0.0</td>\n",
       "      <td>2008.0</td>\n",
       "    </tr>\n",
       "    <tr>\n",
       "      <th>3</th>\n",
       "      <td>10.0</td>\n",
       "      <td>Flektor</td>\n",
       "      <td>games_video</td>\n",
       "      <td>acquired</td>\n",
       "      <td>NaT</td>\n",
       "      <td>NaT</td>\n",
       "      <td>flektor.com</td>\n",
       "      <td>NaN</td>\n",
       "      <td>USA</td>\n",
       "      <td>0.0</td>\n",
       "      <td>...</td>\n",
       "      <td>NaN</td>\n",
       "      <td>NaN</td>\n",
       "      <td>NaT</td>\n",
       "      <td>NaN</td>\n",
       "      <td>NaN</td>\n",
       "      <td>NaN</td>\n",
       "      <td>NaN</td>\n",
       "      <td>NaN</td>\n",
       "      <td>NaN</td>\n",
       "      <td>NaN</td>\n",
       "    </tr>\n",
       "    <tr>\n",
       "      <th>4</th>\n",
       "      <td>100.0</td>\n",
       "      <td>There</td>\n",
       "      <td>games_video</td>\n",
       "      <td>acquired</td>\n",
       "      <td>NaT</td>\n",
       "      <td>NaT</td>\n",
       "      <td>there.com</td>\n",
       "      <td>NaN</td>\n",
       "      <td>USA</td>\n",
       "      <td>0.0</td>\n",
       "      <td>...</td>\n",
       "      <td>NaN</td>\n",
       "      <td>NaN</td>\n",
       "      <td>NaT</td>\n",
       "      <td>NaN</td>\n",
       "      <td>NaN</td>\n",
       "      <td>NaN</td>\n",
       "      <td>NaN</td>\n",
       "      <td>NaN</td>\n",
       "      <td>NaN</td>\n",
       "      <td>NaN</td>\n",
       "    </tr>\n",
       "  </tbody>\n",
       "</table>\n",
       "<p>5 rows × 23 columns</p>\n",
       "</div>"
      ],
      "text/plain": [
       "   company_ID      name category_code     status founded_at closed_at  \\\n",
       "0         1.0  Wetpaint           web  operating 2005-10-17       NaT   \n",
       "1         1.0  Wetpaint           web  operating 2005-10-17       NaT   \n",
       "2         1.0  Wetpaint           web  operating 2005-10-17       NaT   \n",
       "3        10.0   Flektor   games_video   acquired        NaT       NaT   \n",
       "4       100.0     There   games_video   acquired        NaT       NaT   \n",
       "\n",
       "             domain network_username country_code  investment_rounds  ...  \\\n",
       "0  wetpaint-inc.com  BachelrWetpaint          USA                0.0  ...   \n",
       "1  wetpaint-inc.com  BachelrWetpaint          USA                0.0  ...   \n",
       "2  wetpaint-inc.com  BachelrWetpaint          USA                0.0  ...   \n",
       "3       flektor.com              NaN          USA                0.0  ...   \n",
       "4         there.com              NaN          USA                0.0  ...   \n",
       "\n",
       "   funding_round_id  company_id  funded_at  funding_round_type  raised_amount  \\\n",
       "0             888.0         1.0 2005-10-01            series-a      5250000.0   \n",
       "1             889.0         1.0 2007-01-01            series-b      9500000.0   \n",
       "2            2312.0         1.0 2008-05-19           series-c+     25000000.0   \n",
       "3               NaN         NaN        NaT                 NaN            NaN   \n",
       "4               NaN         NaN        NaT                 NaN            NaN   \n",
       "\n",
       "  pre_money_valuation participants  is_first_round  is_last_round  funded_year  \n",
       "0                 0.0          2.0             0.0            1.0       2005.0  \n",
       "1                 0.0          3.0             0.0            0.0       2007.0  \n",
       "2                 0.0          4.0             1.0            0.0       2008.0  \n",
       "3                 NaN          NaN             NaN            NaN          NaN  \n",
       "4                 NaN          NaN             NaN            NaN          NaN  \n",
       "\n",
       "[5 rows x 23 columns]"
      ]
     },
     "execution_count": 82,
     "metadata": {},
     "output_type": "execute_result"
    }
   ],
   "source": [
    "df_company_and_rounds.info()\n",
    "df_company_and_rounds.head()"
   ]
  },
  {
   "cell_type": "code",
   "execution_count": 83,
   "metadata": {},
   "outputs": [
    {
     "data": {
      "text/plain": [
       "2200"
      ]
     },
     "metadata": {},
     "output_type": "display_data"
    }
   ],
   "source": [
    "# Найдем пересечения между данными столбцов, через преобразование в множества \n",
    "df_intersection = len(set(df_company_and_rounds['network_username']).intersection(set(df_people['network_username'])))\n",
    "display(df_intersection)"
   ]
  },
  {
   "cell_type": "code",
   "execution_count": 84,
   "metadata": {},
   "outputs": [
    {
     "data": {
      "text/plain": [
       "0.02"
      ]
     },
     "execution_count": 84,
     "metadata": {},
     "output_type": "execute_result"
    }
   ],
   "source": [
    "# Найдем долю пересечения \n",
    "round(df_intersection/(len(set(df_company_and_rounds['network_username'])) + len(set(df_people['network_username']))),2)"
   ]
  },
  {
   "cell_type": "markdown",
   "metadata": {},
   "source": [
    "Как мы видим столбец network_username присутствует в двух датасетах - df_company_and_rounds и df_people. При проверке этих датасетов видно, что связь между одинаково названными столбцами минимальна, процент пересечния уникальных значений всего 2%. В случае с датасетом df_company_and_rounds столбец содержит информацию о нике в соц.сетях компании, а в случае с датасетом df_people столбец содержит ник конкретного человека. Для объединение датасетов по данным столбцам данных не достаточно "
   ]
  },
  {
   "cell_type": "markdown",
   "metadata": {
    "id": "EHcODomVrJg1"
   },
   "source": [
    "\n",
    "### 2.4. Проблемный датасет и причина возникновения пропусков\n",
    "\n",
    "Во время собственного анализа данных у заказчика больше всего вопросов возникло к датасету `company_and_rounds.csv`. В нём много пропусков как раз в информации о раундах, которая заказчику важна.\n",
    "\n",
    "- Любым удобным способом приведите данные в вид, который позволит в дальнейшем проводить анализ в разрезе отдельных компаний. Обратите внимание на структуру датасета, порядок и названия столбцов, проанализируйте значения.\n",
    "\n",
    "По гипотезе заказчика данные по компаниям из этой таблицы раньше хранились иначе, более удобным для исследования образом.\n",
    "\n",
    "- Максимальным образом сохраняя данные, сохранив их связность и исключив возможные возникающие при этом ошибки, подготовьте данные так, чтобы удобно было отобрать компании по параметрам и рассчитать показатели из расчёта на одну компанию без промежуточных агрегаций."
   ]
  },
  {
   "cell_type": "code",
   "execution_count": 85,
   "metadata": {
    "id": "oSk7xqu_FbaN"
   },
   "outputs": [],
   "source": [
    "# Еще раз проанализируем датасет df_company_and_rounds"
   ]
  },
  {
   "cell_type": "code",
   "execution_count": 86,
   "metadata": {
    "id": "9BY9lTUcFbJ-"
   },
   "outputs": [
    {
     "name": "stdout",
     "output_type": "stream",
     "text": [
      "<class 'pandas.core.frame.DataFrame'>\n",
      "RangeIndex: 217774 entries, 0 to 217773\n",
      "Data columns (total 23 columns):\n",
      " #   Column               Non-Null Count   Dtype         \n",
      "---  ------               --------------   -----         \n",
      " 0   company_ID           217472 non-null  float64       \n",
      " 1   name                 217472 non-null  object        \n",
      " 2   category_code        143886 non-null  object        \n",
      " 3   status               217472 non-null  object        \n",
      " 4   founded_at           109956 non-null  datetime64[ns]\n",
      " 5   closed_at            3449 non-null    datetime64[ns]\n",
      " 6   domain               147159 non-null  object        \n",
      " 7   network_username     95534 non-null   object        \n",
      " 8   country_code         108607 non-null  object        \n",
      " 9   investment_rounds    217472 non-null  float64       \n",
      " 10  funding_rounds       217472 non-null  float64       \n",
      " 11  funding_total        217472 non-null  float64       \n",
      " 12  milestones           217472 non-null  float64       \n",
      " 13  funding_round_id     52928 non-null   float64       \n",
      " 14  company_id           52928 non-null   float64       \n",
      " 15  funded_at            52680 non-null   datetime64[ns]\n",
      " 16  funding_round_type   52928 non-null   object        \n",
      " 17  raised_amount        52928 non-null   float64       \n",
      " 18  pre_money_valuation  52928 non-null   float64       \n",
      " 19  participants         52928 non-null   float64       \n",
      " 20  is_first_round       52928 non-null   float64       \n",
      " 21  is_last_round        52928 non-null   float64       \n",
      " 22  funded_year          52680 non-null   float64       \n",
      "dtypes: datetime64[ns](3), float64(13), object(7)\n",
      "memory usage: 38.2+ MB\n"
     ]
    },
    {
     "data": {
      "text/html": [
       "<div>\n",
       "<style scoped>\n",
       "    .dataframe tbody tr th:only-of-type {\n",
       "        vertical-align: middle;\n",
       "    }\n",
       "\n",
       "    .dataframe tbody tr th {\n",
       "        vertical-align: top;\n",
       "    }\n",
       "\n",
       "    .dataframe thead th {\n",
       "        text-align: right;\n",
       "    }\n",
       "</style>\n",
       "<table border=\"1\" class=\"dataframe\">\n",
       "  <thead>\n",
       "    <tr style=\"text-align: right;\">\n",
       "      <th></th>\n",
       "      <th>company_ID</th>\n",
       "      <th>name</th>\n",
       "      <th>category_code</th>\n",
       "      <th>status</th>\n",
       "      <th>founded_at</th>\n",
       "      <th>closed_at</th>\n",
       "      <th>domain</th>\n",
       "      <th>network_username</th>\n",
       "      <th>country_code</th>\n",
       "      <th>investment_rounds</th>\n",
       "      <th>...</th>\n",
       "      <th>funding_round_id</th>\n",
       "      <th>company_id</th>\n",
       "      <th>funded_at</th>\n",
       "      <th>funding_round_type</th>\n",
       "      <th>raised_amount</th>\n",
       "      <th>pre_money_valuation</th>\n",
       "      <th>participants</th>\n",
       "      <th>is_first_round</th>\n",
       "      <th>is_last_round</th>\n",
       "      <th>funded_year</th>\n",
       "    </tr>\n",
       "  </thead>\n",
       "  <tbody>\n",
       "    <tr>\n",
       "      <th>0</th>\n",
       "      <td>1.0</td>\n",
       "      <td>Wetpaint</td>\n",
       "      <td>web</td>\n",
       "      <td>operating</td>\n",
       "      <td>2005-10-17</td>\n",
       "      <td>NaT</td>\n",
       "      <td>wetpaint-inc.com</td>\n",
       "      <td>BachelrWetpaint</td>\n",
       "      <td>USA</td>\n",
       "      <td>0.0</td>\n",
       "      <td>...</td>\n",
       "      <td>888.0</td>\n",
       "      <td>1.0</td>\n",
       "      <td>2005-10-01</td>\n",
       "      <td>series-a</td>\n",
       "      <td>5250000.0</td>\n",
       "      <td>0.0</td>\n",
       "      <td>2.0</td>\n",
       "      <td>0.0</td>\n",
       "      <td>1.0</td>\n",
       "      <td>2005.0</td>\n",
       "    </tr>\n",
       "    <tr>\n",
       "      <th>1</th>\n",
       "      <td>1.0</td>\n",
       "      <td>Wetpaint</td>\n",
       "      <td>web</td>\n",
       "      <td>operating</td>\n",
       "      <td>2005-10-17</td>\n",
       "      <td>NaT</td>\n",
       "      <td>wetpaint-inc.com</td>\n",
       "      <td>BachelrWetpaint</td>\n",
       "      <td>USA</td>\n",
       "      <td>0.0</td>\n",
       "      <td>...</td>\n",
       "      <td>889.0</td>\n",
       "      <td>1.0</td>\n",
       "      <td>2007-01-01</td>\n",
       "      <td>series-b</td>\n",
       "      <td>9500000.0</td>\n",
       "      <td>0.0</td>\n",
       "      <td>3.0</td>\n",
       "      <td>0.0</td>\n",
       "      <td>0.0</td>\n",
       "      <td>2007.0</td>\n",
       "    </tr>\n",
       "    <tr>\n",
       "      <th>2</th>\n",
       "      <td>1.0</td>\n",
       "      <td>Wetpaint</td>\n",
       "      <td>web</td>\n",
       "      <td>operating</td>\n",
       "      <td>2005-10-17</td>\n",
       "      <td>NaT</td>\n",
       "      <td>wetpaint-inc.com</td>\n",
       "      <td>BachelrWetpaint</td>\n",
       "      <td>USA</td>\n",
       "      <td>0.0</td>\n",
       "      <td>...</td>\n",
       "      <td>2312.0</td>\n",
       "      <td>1.0</td>\n",
       "      <td>2008-05-19</td>\n",
       "      <td>series-c+</td>\n",
       "      <td>25000000.0</td>\n",
       "      <td>0.0</td>\n",
       "      <td>4.0</td>\n",
       "      <td>1.0</td>\n",
       "      <td>0.0</td>\n",
       "      <td>2008.0</td>\n",
       "    </tr>\n",
       "    <tr>\n",
       "      <th>3</th>\n",
       "      <td>10.0</td>\n",
       "      <td>Flektor</td>\n",
       "      <td>games_video</td>\n",
       "      <td>acquired</td>\n",
       "      <td>NaT</td>\n",
       "      <td>NaT</td>\n",
       "      <td>flektor.com</td>\n",
       "      <td>NaN</td>\n",
       "      <td>USA</td>\n",
       "      <td>0.0</td>\n",
       "      <td>...</td>\n",
       "      <td>NaN</td>\n",
       "      <td>NaN</td>\n",
       "      <td>NaT</td>\n",
       "      <td>NaN</td>\n",
       "      <td>NaN</td>\n",
       "      <td>NaN</td>\n",
       "      <td>NaN</td>\n",
       "      <td>NaN</td>\n",
       "      <td>NaN</td>\n",
       "      <td>NaN</td>\n",
       "    </tr>\n",
       "    <tr>\n",
       "      <th>4</th>\n",
       "      <td>100.0</td>\n",
       "      <td>There</td>\n",
       "      <td>games_video</td>\n",
       "      <td>acquired</td>\n",
       "      <td>NaT</td>\n",
       "      <td>NaT</td>\n",
       "      <td>there.com</td>\n",
       "      <td>NaN</td>\n",
       "      <td>USA</td>\n",
       "      <td>0.0</td>\n",
       "      <td>...</td>\n",
       "      <td>NaN</td>\n",
       "      <td>NaN</td>\n",
       "      <td>NaT</td>\n",
       "      <td>NaN</td>\n",
       "      <td>NaN</td>\n",
       "      <td>NaN</td>\n",
       "      <td>NaN</td>\n",
       "      <td>NaN</td>\n",
       "      <td>NaN</td>\n",
       "      <td>NaN</td>\n",
       "    </tr>\n",
       "  </tbody>\n",
       "</table>\n",
       "<p>5 rows × 23 columns</p>\n",
       "</div>"
      ],
      "text/plain": [
       "   company_ID      name category_code     status founded_at closed_at  \\\n",
       "0         1.0  Wetpaint           web  operating 2005-10-17       NaT   \n",
       "1         1.0  Wetpaint           web  operating 2005-10-17       NaT   \n",
       "2         1.0  Wetpaint           web  operating 2005-10-17       NaT   \n",
       "3        10.0   Flektor   games_video   acquired        NaT       NaT   \n",
       "4       100.0     There   games_video   acquired        NaT       NaT   \n",
       "\n",
       "             domain network_username country_code  investment_rounds  ...  \\\n",
       "0  wetpaint-inc.com  BachelrWetpaint          USA                0.0  ...   \n",
       "1  wetpaint-inc.com  BachelrWetpaint          USA                0.0  ...   \n",
       "2  wetpaint-inc.com  BachelrWetpaint          USA                0.0  ...   \n",
       "3       flektor.com              NaN          USA                0.0  ...   \n",
       "4         there.com              NaN          USA                0.0  ...   \n",
       "\n",
       "   funding_round_id  company_id  funded_at  funding_round_type  raised_amount  \\\n",
       "0             888.0         1.0 2005-10-01            series-a      5250000.0   \n",
       "1             889.0         1.0 2007-01-01            series-b      9500000.0   \n",
       "2            2312.0         1.0 2008-05-19           series-c+     25000000.0   \n",
       "3               NaN         NaN        NaT                 NaN            NaN   \n",
       "4               NaN         NaN        NaT                 NaN            NaN   \n",
       "\n",
       "  pre_money_valuation participants  is_first_round  is_last_round  funded_year  \n",
       "0                 0.0          2.0             0.0            1.0       2005.0  \n",
       "1                 0.0          3.0             0.0            0.0       2007.0  \n",
       "2                 0.0          4.0             1.0            0.0       2008.0  \n",
       "3                 NaN          NaN             NaN            NaN          NaN  \n",
       "4                 NaN          NaN             NaN            NaN          NaN  \n",
       "\n",
       "[5 rows x 23 columns]"
      ]
     },
     "execution_count": 86,
     "metadata": {},
     "output_type": "execute_result"
    }
   ],
   "source": [
    "df_company_and_rounds.info()\n",
    "df_company_and_rounds.head()"
   ]
  },
  {
   "cell_type": "markdown",
   "metadata": {
    "id": "tJ6Sl6MKrJg1",
    "vscode": {
     "languageId": "plaintext"
    }
   },
   "source": [
    "Мы видим, что данные в датасете явно разделены по кол-ву не нулевых строк. В первой части данные держаться примерно на уровне 217472 значений, а вот, начиная со столбца  funding_round_id не нулевых значений в столбцах около 52928, кроме того в двух условных частях дублируются столбцы с company_id, и столбцы с информацией о сумме финансирования. Это говорит о том, что датасет составлен из двух отдельных датасетов и для удобства разделим их. Первая таблица будет рассказывать о данных компании, а вторая о каждом этапе финансирования в отдельности "
   ]
  },
  {
   "cell_type": "code",
   "execution_count": 87,
   "metadata": {},
   "outputs": [],
   "source": [
    "# Создаем датасет с информацией о компании \n",
    "company_info = df_company_and_rounds[['company_ID',\n",
    "                                     'name', \n",
    "                                     'category_code', \n",
    "                                     'status', \n",
    "                                     'founded_at', \n",
    "                                     'closed_at', \n",
    "                                     'domain', \n",
    "                                     'network_username',\n",
    "                                     'country_code',\n",
    "                                      'investment_rounds',\n",
    "                                    'funding_rounds',\n",
    "                                    'funding_total',\n",
    "                                    'milestones']]"
   ]
  },
  {
   "cell_type": "code",
   "execution_count": 88,
   "metadata": {
    "scrolled": true
   },
   "outputs": [
    {
     "name": "stdout",
     "output_type": "stream",
     "text": [
      "<class 'pandas.core.frame.DataFrame'>\n",
      "Int64Index: 196554 entries, 0 to 217472\n",
      "Data columns (total 13 columns):\n",
      " #   Column             Non-Null Count   Dtype         \n",
      "---  ------             --------------   -----         \n",
      " 0   company_ID         196553 non-null  float64       \n",
      " 1   name               196553 non-null  object        \n",
      " 2   category_code      123186 non-null  object        \n",
      " 3   status             196553 non-null  object        \n",
      " 4   founded_at         91227 non-null   datetime64[ns]\n",
      " 5   closed_at          2620 non-null    datetime64[ns]\n",
      " 6   domain             126545 non-null  object        \n",
      " 7   network_username   80591 non-null   object        \n",
      " 8   country_code       87990 non-null   object        \n",
      " 9   investment_rounds  196553 non-null  float64       \n",
      " 10  funding_rounds     196553 non-null  float64       \n",
      " 11  funding_total      196553 non-null  float64       \n",
      " 12  milestones         196553 non-null  float64       \n",
      "dtypes: datetime64[ns](2), float64(5), object(6)\n",
      "memory usage: 21.0+ MB\n"
     ]
    },
    {
     "name": "stderr",
     "output_type": "stream",
     "text": [
      "/tmp/ipykernel_390/519831341.py:2: SettingWithCopyWarning: \n",
      "A value is trying to be set on a copy of a slice from a DataFrame\n",
      "\n",
      "See the caveats in the documentation: https://pandas.pydata.org/pandas-docs/stable/user_guide/indexing.html#returning-a-view-versus-a-copy\n",
      "  company_info.drop_duplicates(subset=None, keep='first', inplace=True)\n"
     ]
    },
    {
     "data": {
      "text/html": [
       "<div>\n",
       "<style scoped>\n",
       "    .dataframe tbody tr th:only-of-type {\n",
       "        vertical-align: middle;\n",
       "    }\n",
       "\n",
       "    .dataframe tbody tr th {\n",
       "        vertical-align: top;\n",
       "    }\n",
       "\n",
       "    .dataframe thead th {\n",
       "        text-align: right;\n",
       "    }\n",
       "</style>\n",
       "<table border=\"1\" class=\"dataframe\">\n",
       "  <thead>\n",
       "    <tr style=\"text-align: right;\">\n",
       "      <th></th>\n",
       "      <th>company_ID</th>\n",
       "      <th>name</th>\n",
       "      <th>category_code</th>\n",
       "      <th>status</th>\n",
       "      <th>founded_at</th>\n",
       "      <th>closed_at</th>\n",
       "      <th>domain</th>\n",
       "      <th>network_username</th>\n",
       "      <th>country_code</th>\n",
       "      <th>investment_rounds</th>\n",
       "      <th>funding_rounds</th>\n",
       "      <th>funding_total</th>\n",
       "      <th>milestones</th>\n",
       "    </tr>\n",
       "  </thead>\n",
       "  <tbody>\n",
       "    <tr>\n",
       "      <th>0</th>\n",
       "      <td>1.0</td>\n",
       "      <td>Wetpaint</td>\n",
       "      <td>web</td>\n",
       "      <td>operating</td>\n",
       "      <td>2005-10-17</td>\n",
       "      <td>NaT</td>\n",
       "      <td>wetpaint-inc.com</td>\n",
       "      <td>BachelrWetpaint</td>\n",
       "      <td>USA</td>\n",
       "      <td>0.0</td>\n",
       "      <td>3.0</td>\n",
       "      <td>39750000.0</td>\n",
       "      <td>5.0</td>\n",
       "    </tr>\n",
       "    <tr>\n",
       "      <th>3</th>\n",
       "      <td>10.0</td>\n",
       "      <td>Flektor</td>\n",
       "      <td>games_video</td>\n",
       "      <td>acquired</td>\n",
       "      <td>NaT</td>\n",
       "      <td>NaT</td>\n",
       "      <td>flektor.com</td>\n",
       "      <td>NaN</td>\n",
       "      <td>USA</td>\n",
       "      <td>0.0</td>\n",
       "      <td>0.0</td>\n",
       "      <td>0.0</td>\n",
       "      <td>0.0</td>\n",
       "    </tr>\n",
       "    <tr>\n",
       "      <th>4</th>\n",
       "      <td>100.0</td>\n",
       "      <td>There</td>\n",
       "      <td>games_video</td>\n",
       "      <td>acquired</td>\n",
       "      <td>NaT</td>\n",
       "      <td>NaT</td>\n",
       "      <td>there.com</td>\n",
       "      <td>NaN</td>\n",
       "      <td>USA</td>\n",
       "      <td>0.0</td>\n",
       "      <td>0.0</td>\n",
       "      <td>0.0</td>\n",
       "      <td>4.0</td>\n",
       "    </tr>\n",
       "    <tr>\n",
       "      <th>5</th>\n",
       "      <td>10000.0</td>\n",
       "      <td>MYWEBBO</td>\n",
       "      <td>network_hosting</td>\n",
       "      <td>operating</td>\n",
       "      <td>2008-07-26</td>\n",
       "      <td>NaT</td>\n",
       "      <td>mywebbo.com</td>\n",
       "      <td>NaN</td>\n",
       "      <td>NaN</td>\n",
       "      <td>0.0</td>\n",
       "      <td>0.0</td>\n",
       "      <td>0.0</td>\n",
       "      <td>0.0</td>\n",
       "    </tr>\n",
       "    <tr>\n",
       "      <th>6</th>\n",
       "      <td>10001.0</td>\n",
       "      <td>THE Movie Streamer</td>\n",
       "      <td>games_video</td>\n",
       "      <td>operating</td>\n",
       "      <td>2008-07-26</td>\n",
       "      <td>NaT</td>\n",
       "      <td>themoviestreamer.com</td>\n",
       "      <td>NaN</td>\n",
       "      <td>NaN</td>\n",
       "      <td>0.0</td>\n",
       "      <td>0.0</td>\n",
       "      <td>0.0</td>\n",
       "      <td>0.0</td>\n",
       "    </tr>\n",
       "  </tbody>\n",
       "</table>\n",
       "</div>"
      ],
      "text/plain": [
       "   company_ID                name    category_code     status founded_at  \\\n",
       "0         1.0            Wetpaint              web  operating 2005-10-17   \n",
       "3        10.0             Flektor      games_video   acquired        NaT   \n",
       "4       100.0               There      games_video   acquired        NaT   \n",
       "5     10000.0             MYWEBBO  network_hosting  operating 2008-07-26   \n",
       "6     10001.0  THE Movie Streamer      games_video  operating 2008-07-26   \n",
       "\n",
       "  closed_at                domain network_username country_code  \\\n",
       "0       NaT      wetpaint-inc.com  BachelrWetpaint          USA   \n",
       "3       NaT           flektor.com              NaN          USA   \n",
       "4       NaT             there.com              NaN          USA   \n",
       "5       NaT           mywebbo.com              NaN          NaN   \n",
       "6       NaT  themoviestreamer.com              NaN          NaN   \n",
       "\n",
       "   investment_rounds  funding_rounds  funding_total  milestones  \n",
       "0                0.0             3.0     39750000.0         5.0  \n",
       "3                0.0             0.0            0.0         0.0  \n",
       "4                0.0             0.0            0.0         4.0  \n",
       "5                0.0             0.0            0.0         0.0  \n",
       "6                0.0             0.0            0.0         0.0  "
      ]
     },
     "execution_count": 88,
     "metadata": {},
     "output_type": "execute_result"
    }
   ],
   "source": [
    "# Удалим дуликаты в датасете\n",
    "company_info.drop_duplicates(subset=None, keep='first', inplace=True)\n",
    "company_info.info()\n",
    "company_info.head()"
   ]
  },
  {
   "cell_type": "code",
   "execution_count": 89,
   "metadata": {},
   "outputs": [
    {
     "data": {
      "text/plain": [
       "0"
      ]
     },
     "execution_count": 89,
     "metadata": {},
     "output_type": "execute_result"
    }
   ],
   "source": [
    "company_info.duplicated().sum()"
   ]
  },
  {
   "cell_type": "code",
   "execution_count": 90,
   "metadata": {},
   "outputs": [],
   "source": [
    "# Создаем столбец с информацией о этапе финансирования\n",
    "funding_info = df_company_and_rounds[['funding_round_id',\n",
    "                                      'company_id',\n",
    "                                      'funded_at',\n",
    "                                      'funding_round_type',\n",
    "                                      'raised_amount',\n",
    "                                      'pre_money_valuation',\n",
    "                                      'participants',\n",
    "                                      'is_first_round',\n",
    "                                      'is_last_round',\n",
    "                                      'funded_year']]"
   ]
  },
  {
   "cell_type": "code",
   "execution_count": 91,
   "metadata": {
    "scrolled": true
   },
   "outputs": [
    {
     "name": "stdout",
     "output_type": "stream",
     "text": [
      "<class 'pandas.core.frame.DataFrame'>\n",
      "Int64Index: 52929 entries, 0 to 217773\n",
      "Data columns (total 10 columns):\n",
      " #   Column               Non-Null Count  Dtype         \n",
      "---  ------               --------------  -----         \n",
      " 0   funding_round_id     52928 non-null  float64       \n",
      " 1   company_id           52928 non-null  float64       \n",
      " 2   funded_at            52680 non-null  datetime64[ns]\n",
      " 3   funding_round_type   52928 non-null  object        \n",
      " 4   raised_amount        52928 non-null  float64       \n",
      " 5   pre_money_valuation  52928 non-null  float64       \n",
      " 6   participants         52928 non-null  float64       \n",
      " 7   is_first_round       52928 non-null  float64       \n",
      " 8   is_last_round        52928 non-null  float64       \n",
      " 9   funded_year          52680 non-null  float64       \n",
      "dtypes: datetime64[ns](1), float64(8), object(1)\n",
      "memory usage: 4.4+ MB\n"
     ]
    },
    {
     "name": "stderr",
     "output_type": "stream",
     "text": [
      "/tmp/ipykernel_390/1218326637.py:2: SettingWithCopyWarning: \n",
      "A value is trying to be set on a copy of a slice from a DataFrame\n",
      "\n",
      "See the caveats in the documentation: https://pandas.pydata.org/pandas-docs/stable/user_guide/indexing.html#returning-a-view-versus-a-copy\n",
      "  funding_info.drop_duplicates(subset=None, keep='first', inplace=True)\n"
     ]
    },
    {
     "data": {
      "text/html": [
       "<div>\n",
       "<style scoped>\n",
       "    .dataframe tbody tr th:only-of-type {\n",
       "        vertical-align: middle;\n",
       "    }\n",
       "\n",
       "    .dataframe tbody tr th {\n",
       "        vertical-align: top;\n",
       "    }\n",
       "\n",
       "    .dataframe thead th {\n",
       "        text-align: right;\n",
       "    }\n",
       "</style>\n",
       "<table border=\"1\" class=\"dataframe\">\n",
       "  <thead>\n",
       "    <tr style=\"text-align: right;\">\n",
       "      <th></th>\n",
       "      <th>funding_round_id</th>\n",
       "      <th>company_id</th>\n",
       "      <th>funded_at</th>\n",
       "      <th>funding_round_type</th>\n",
       "      <th>raised_amount</th>\n",
       "      <th>pre_money_valuation</th>\n",
       "      <th>participants</th>\n",
       "      <th>is_first_round</th>\n",
       "      <th>is_last_round</th>\n",
       "      <th>funded_year</th>\n",
       "    </tr>\n",
       "  </thead>\n",
       "  <tbody>\n",
       "    <tr>\n",
       "      <th>0</th>\n",
       "      <td>888.0</td>\n",
       "      <td>1.0</td>\n",
       "      <td>2005-10-01</td>\n",
       "      <td>series-a</td>\n",
       "      <td>5250000.0</td>\n",
       "      <td>0.0</td>\n",
       "      <td>2.0</td>\n",
       "      <td>0.0</td>\n",
       "      <td>1.0</td>\n",
       "      <td>2005.0</td>\n",
       "    </tr>\n",
       "    <tr>\n",
       "      <th>1</th>\n",
       "      <td>889.0</td>\n",
       "      <td>1.0</td>\n",
       "      <td>2007-01-01</td>\n",
       "      <td>series-b</td>\n",
       "      <td>9500000.0</td>\n",
       "      <td>0.0</td>\n",
       "      <td>3.0</td>\n",
       "      <td>0.0</td>\n",
       "      <td>0.0</td>\n",
       "      <td>2007.0</td>\n",
       "    </tr>\n",
       "    <tr>\n",
       "      <th>2</th>\n",
       "      <td>2312.0</td>\n",
       "      <td>1.0</td>\n",
       "      <td>2008-05-19</td>\n",
       "      <td>series-c+</td>\n",
       "      <td>25000000.0</td>\n",
       "      <td>0.0</td>\n",
       "      <td>4.0</td>\n",
       "      <td>1.0</td>\n",
       "      <td>0.0</td>\n",
       "      <td>2008.0</td>\n",
       "    </tr>\n",
       "    <tr>\n",
       "      <th>3</th>\n",
       "      <td>NaN</td>\n",
       "      <td>NaN</td>\n",
       "      <td>NaT</td>\n",
       "      <td>NaN</td>\n",
       "      <td>NaN</td>\n",
       "      <td>NaN</td>\n",
       "      <td>NaN</td>\n",
       "      <td>NaN</td>\n",
       "      <td>NaN</td>\n",
       "      <td>NaN</td>\n",
       "    </tr>\n",
       "    <tr>\n",
       "      <th>15</th>\n",
       "      <td>1644.0</td>\n",
       "      <td>1001.0</td>\n",
       "      <td>2008-02-26</td>\n",
       "      <td>series-a</td>\n",
       "      <td>5000000.0</td>\n",
       "      <td>0.0</td>\n",
       "      <td>3.0</td>\n",
       "      <td>1.0</td>\n",
       "      <td>1.0</td>\n",
       "      <td>2008.0</td>\n",
       "    </tr>\n",
       "  </tbody>\n",
       "</table>\n",
       "</div>"
      ],
      "text/plain": [
       "    funding_round_id  company_id  funded_at funding_round_type  raised_amount  \\\n",
       "0              888.0         1.0 2005-10-01           series-a      5250000.0   \n",
       "1              889.0         1.0 2007-01-01           series-b      9500000.0   \n",
       "2             2312.0         1.0 2008-05-19          series-c+     25000000.0   \n",
       "3                NaN         NaN        NaT                NaN            NaN   \n",
       "15            1644.0      1001.0 2008-02-26           series-a      5000000.0   \n",
       "\n",
       "    pre_money_valuation  participants  is_first_round  is_last_round  \\\n",
       "0                   0.0           2.0             0.0            1.0   \n",
       "1                   0.0           3.0             0.0            0.0   \n",
       "2                   0.0           4.0             1.0            0.0   \n",
       "3                   NaN           NaN             NaN            NaN   \n",
       "15                  0.0           3.0             1.0            1.0   \n",
       "\n",
       "    funded_year  \n",
       "0        2005.0  \n",
       "1        2007.0  \n",
       "2        2008.0  \n",
       "3           NaN  \n",
       "15       2008.0  "
      ]
     },
     "execution_count": 91,
     "metadata": {},
     "output_type": "execute_result"
    }
   ],
   "source": [
    "# Удалим дубликаты \n",
    "funding_info.drop_duplicates(subset=None, keep='first', inplace=True)\n",
    "funding_info.info()\n",
    "funding_info.head()"
   ]
  },
  {
   "cell_type": "markdown",
   "metadata": {},
   "source": [
    " Мы сохранили данные и привели их к более удобному формату, разделив один датасет на два."
   ]
  },
  {
   "cell_type": "code",
   "execution_count": 92,
   "metadata": {},
   "outputs": [
    {
     "data": {
      "image/png": "[encoded data removed]",
      "text/plain": [
       "<Figure size 1800x720 with 1 Axes>"
      ]
     },
     "metadata": {
      "needs_background": "light"
     },
     "output_type": "display_data"
    }
   ],
   "source": [
    "# Код ревьюера\n",
    "# Метод dendrogram из библиотеки missingno\n",
    "!pip install missingno -q\n",
    "import missingno as msno\n",
    "df_company_and_rounds_12 = pd.read_csv(r'https://code.s3.yandex.net/datasets/company_and_rounds.csv')\n",
    "msno.dendrogram(df_company_and_rounds_12)\n",
    "plt.show()"
   ]
  },
  {
   "cell_type": "markdown",
   "metadata": {
    "id": "bmVYhphNrJg2"
   },
   "source": [
    "\n",
    "## Шаг 3. Исследовательский анализ объединённых таблиц\n",
    "\n",
    "> Приступите к шагу 3 после проверки ревьюера.\n",
    "\n",
    "<big>Студентам нужно чётко сказать - проверять дальше или не проверять.</big>"
   ]
  },
  {
   "cell_type": "markdown",
   "metadata": {
    "id": "3Di6tCT3rJg2"
   },
   "source": [
    "\n",
    "### 3.1. Объединение данных\n",
    "\n",
    "Объедините данные для ответа на вопросы заказчика, которые касаются интересующих его компаний. Заказчика прежде всего интересуют те компании, которые меняли или готовы менять владельцев. Получение инвестиций или финансирования, по мнению заказчика, означает интерес к покупке или продаже компании.\n",
    "\n",
    "В качестве основы для объединённой таблицы возьмите данные из обработанного датасета `company_and_rounds.csv` — выберите только те компании, у которых указаны значения `funding_rounds` или `investment_rounds` больше нуля, или те, у которых в колонке `status` указано `acquired`. В результирующей таблице должно получиться порядка 40 тысяч компаний.\n",
    "\n",
    "Проверьте полноту и корректность получившейся таблицы. Далее работайте только с этими данными."
   ]
  },
  {
   "cell_type": "code",
   "execution_count": 93,
   "metadata": {
    "id": "kuV1b5MXFg3_",
    "scrolled": true
   },
   "outputs": [],
   "source": [
    "# Объединяем датасет company_info и funding_info\n",
    "df = company_info.merge(df_acquisition, left_on = 'company_ID', right_on = 'acquired_company_id', how = 'left')"
   ]
  },
  {
   "cell_type": "code",
   "execution_count": 94,
   "metadata": {
    "id": "93v3fEX5FgtP",
    "scrolled": false
   },
   "outputs": [
    {
     "name": "stdout",
     "output_type": "stream",
     "text": [
      "<class 'pandas.core.frame.DataFrame'>\n",
      "RangeIndex: 40890 entries, 0 to 40889\n",
      "Data columns (total 20 columns):\n",
      " #   Column                Non-Null Count  Dtype         \n",
      "---  ------                --------------  -----         \n",
      " 0   index                 40890 non-null  int64         \n",
      " 1   company_ID            40890 non-null  float64       \n",
      " 2   name                  40890 non-null  object        \n",
      " 3   category_code         35436 non-null  object        \n",
      " 4   status                40890 non-null  object        \n",
      " 5   founded_at            27911 non-null  datetime64[ns]\n",
      " 6   closed_at             2128 non-null   datetime64[ns]\n",
      " 7   domain                35883 non-null  object        \n",
      " 8   network_username      20938 non-null  object        \n",
      " 9   country_code          34858 non-null  object        \n",
      " 10  investment_rounds     40890 non-null  float64       \n",
      " 11  funding_rounds        40890 non-null  float64       \n",
      " 12  funding_total         40890 non-null  float64       \n",
      " 13  milestones            40890 non-null  float64       \n",
      " 14  id                    9390 non-null   float64       \n",
      " 15  acquiring_company_id  9390 non-null   float64       \n",
      " 16  acquired_company_id   9390 non-null   float64       \n",
      " 17  term_code             1830 non-null   object        \n",
      " 18  price_amount          9390 non-null   float64       \n",
      " 19  acquired_at           9361 non-null   datetime64[ns]\n",
      "dtypes: datetime64[ns](3), float64(9), int64(1), object(7)\n",
      "memory usage: 6.2+ MB\n"
     ]
    },
    {
     "data": {
      "text/html": [
       "<div>\n",
       "<style scoped>\n",
       "    .dataframe tbody tr th:only-of-type {\n",
       "        vertical-align: middle;\n",
       "    }\n",
       "\n",
       "    .dataframe tbody tr th {\n",
       "        vertical-align: top;\n",
       "    }\n",
       "\n",
       "    .dataframe thead th {\n",
       "        text-align: right;\n",
       "    }\n",
       "</style>\n",
       "<table border=\"1\" class=\"dataframe\">\n",
       "  <thead>\n",
       "    <tr style=\"text-align: right;\">\n",
       "      <th></th>\n",
       "      <th>index</th>\n",
       "      <th>company_ID</th>\n",
       "      <th>name</th>\n",
       "      <th>category_code</th>\n",
       "      <th>status</th>\n",
       "      <th>founded_at</th>\n",
       "      <th>closed_at</th>\n",
       "      <th>domain</th>\n",
       "      <th>network_username</th>\n",
       "      <th>country_code</th>\n",
       "      <th>investment_rounds</th>\n",
       "      <th>funding_rounds</th>\n",
       "      <th>funding_total</th>\n",
       "      <th>milestones</th>\n",
       "      <th>id</th>\n",
       "      <th>acquiring_company_id</th>\n",
       "      <th>acquired_company_id</th>\n",
       "      <th>term_code</th>\n",
       "      <th>price_amount</th>\n",
       "      <th>acquired_at</th>\n",
       "    </tr>\n",
       "  </thead>\n",
       "  <tbody>\n",
       "    <tr>\n",
       "      <th>0</th>\n",
       "      <td>0</td>\n",
       "      <td>1.0</td>\n",
       "      <td>Wetpaint</td>\n",
       "      <td>web</td>\n",
       "      <td>operating</td>\n",
       "      <td>2005-10-17</td>\n",
       "      <td>NaT</td>\n",
       "      <td>wetpaint-inc.com</td>\n",
       "      <td>BachelrWetpaint</td>\n",
       "      <td>USA</td>\n",
       "      <td>0.0</td>\n",
       "      <td>3.0</td>\n",
       "      <td>39750000.0</td>\n",
       "      <td>5.0</td>\n",
       "      <td>NaN</td>\n",
       "      <td>NaN</td>\n",
       "      <td>NaN</td>\n",
       "      <td>NaN</td>\n",
       "      <td>NaN</td>\n",
       "      <td>NaT</td>\n",
       "    </tr>\n",
       "    <tr>\n",
       "      <th>1</th>\n",
       "      <td>1</td>\n",
       "      <td>10.0</td>\n",
       "      <td>Flektor</td>\n",
       "      <td>games_video</td>\n",
       "      <td>acquired</td>\n",
       "      <td>NaT</td>\n",
       "      <td>NaT</td>\n",
       "      <td>flektor.com</td>\n",
       "      <td>NaN</td>\n",
       "      <td>USA</td>\n",
       "      <td>0.0</td>\n",
       "      <td>0.0</td>\n",
       "      <td>0.0</td>\n",
       "      <td>0.0</td>\n",
       "      <td>1.0</td>\n",
       "      <td>11.0</td>\n",
       "      <td>10.0</td>\n",
       "      <td>NaN</td>\n",
       "      <td>20000000.0</td>\n",
       "      <td>2007-05-30</td>\n",
       "    </tr>\n",
       "    <tr>\n",
       "      <th>2</th>\n",
       "      <td>2</td>\n",
       "      <td>100.0</td>\n",
       "      <td>There</td>\n",
       "      <td>games_video</td>\n",
       "      <td>acquired</td>\n",
       "      <td>NaT</td>\n",
       "      <td>NaT</td>\n",
       "      <td>there.com</td>\n",
       "      <td>NaN</td>\n",
       "      <td>USA</td>\n",
       "      <td>0.0</td>\n",
       "      <td>0.0</td>\n",
       "      <td>0.0</td>\n",
       "      <td>4.0</td>\n",
       "      <td>20.0</td>\n",
       "      <td>377.0</td>\n",
       "      <td>100.0</td>\n",
       "      <td>cash</td>\n",
       "      <td>0.0</td>\n",
       "      <td>2005-05-29</td>\n",
       "    </tr>\n",
       "    <tr>\n",
       "      <th>3</th>\n",
       "      <td>13</td>\n",
       "      <td>1001.0</td>\n",
       "      <td>FriendFeed</td>\n",
       "      <td>web</td>\n",
       "      <td>acquired</td>\n",
       "      <td>2007-10-01</td>\n",
       "      <td>NaT</td>\n",
       "      <td>friendfeed.com</td>\n",
       "      <td>friendfeed</td>\n",
       "      <td>USA</td>\n",
       "      <td>0.0</td>\n",
       "      <td>1.0</td>\n",
       "      <td>5000000.0</td>\n",
       "      <td>3.0</td>\n",
       "      <td>1901.0</td>\n",
       "      <td>5.0</td>\n",
       "      <td>1001.0</td>\n",
       "      <td>cash_and_stock</td>\n",
       "      <td>47500000.0</td>\n",
       "      <td>2009-08-10</td>\n",
       "    </tr>\n",
       "    <tr>\n",
       "      <th>4</th>\n",
       "      <td>18</td>\n",
       "      <td>10014.0</td>\n",
       "      <td>Mobclix</td>\n",
       "      <td>mobile</td>\n",
       "      <td>acquired</td>\n",
       "      <td>2008-03-01</td>\n",
       "      <td>NaT</td>\n",
       "      <td>mobclix.com</td>\n",
       "      <td>mobclix</td>\n",
       "      <td>USA</td>\n",
       "      <td>0.0</td>\n",
       "      <td>1.0</td>\n",
       "      <td>0.0</td>\n",
       "      <td>4.0</td>\n",
       "      <td>3878.0</td>\n",
       "      <td>23054.0</td>\n",
       "      <td>10014.0</td>\n",
       "      <td>NaN</td>\n",
       "      <td>0.0</td>\n",
       "      <td>2010-09-30</td>\n",
       "    </tr>\n",
       "  </tbody>\n",
       "</table>\n",
       "</div>"
      ],
      "text/plain": [
       "   index  company_ID        name category_code     status founded_at  \\\n",
       "0      0         1.0    Wetpaint           web  operating 2005-10-17   \n",
       "1      1        10.0     Flektor   games_video   acquired        NaT   \n",
       "2      2       100.0       There   games_video   acquired        NaT   \n",
       "3     13      1001.0  FriendFeed           web   acquired 2007-10-01   \n",
       "4     18     10014.0     Mobclix        mobile   acquired 2008-03-01   \n",
       "\n",
       "  closed_at            domain network_username country_code  \\\n",
       "0       NaT  wetpaint-inc.com  BachelrWetpaint          USA   \n",
       "1       NaT       flektor.com              NaN          USA   \n",
       "2       NaT         there.com              NaN          USA   \n",
       "3       NaT    friendfeed.com       friendfeed          USA   \n",
       "4       NaT       mobclix.com          mobclix          USA   \n",
       "\n",
       "   investment_rounds  funding_rounds  funding_total  milestones      id  \\\n",
       "0                0.0             3.0     39750000.0         5.0     NaN   \n",
       "1                0.0             0.0            0.0         0.0     1.0   \n",
       "2                0.0             0.0            0.0         4.0    20.0   \n",
       "3                0.0             1.0      5000000.0         3.0  1901.0   \n",
       "4                0.0             1.0            0.0         4.0  3878.0   \n",
       "\n",
       "   acquiring_company_id  acquired_company_id       term_code  price_amount  \\\n",
       "0                   NaN                  NaN             NaN           NaN   \n",
       "1                  11.0                 10.0             NaN    20000000.0   \n",
       "2                 377.0                100.0            cash           0.0   \n",
       "3                   5.0               1001.0  cash_and_stock    47500000.0   \n",
       "4               23054.0              10014.0             NaN           0.0   \n",
       "\n",
       "  acquired_at  \n",
       "0         NaT  \n",
       "1  2007-05-30  \n",
       "2  2005-05-29  \n",
       "3  2009-08-10  \n",
       "4  2010-09-30  "
      ]
     },
     "execution_count": 94,
     "metadata": {},
     "output_type": "execute_result"
    }
   ],
   "source": [
    "# Проводим фильтрацию по условиям \n",
    "df = (df[(df['funding_rounds'] > 0) \n",
    "        | (df['investment_rounds'] > 0) \n",
    "        | (df['status'] == 'acquired')].reset_index()\n",
    ")\n",
    "df.info()\n",
    "df.head()"
   ]
  },
  {
   "cell_type": "markdown",
   "metadata": {},
   "source": [
    "Создали датасет путём объединения company_info и df_acquisition, чтобы отобрать  компании, которые меняли или готовы менять владельцев. \n",
    "Отфильтровали датасет, чтобы оставить  только те компании, у которых указаны значения funding_rounds или investment_rounds больше нуля, или те, у которых в колонке status указано acquired. В результирующей таблиц получилось 40890 компаний."
   ]
  },
  {
   "cell_type": "markdown",
   "metadata": {
    "id": "DFHINkV3rJg2"
   },
   "source": [
    "\n",
    "### 3.2. Анализ выбросов\n",
    "\n",
    "Заказчика интересует обычный для рассматриваемого периода размер средств, который предоставлялся компаниям.\n",
    "\n",
    "- По предобработанному столбцу `funding_total` графическим способом оцените, какой размер общего финансирования для одной компании будет типичным, а какой — выбивающимся.\n",
    "- В процессе расчёта значений обратите внимание, например, на показатели, возвращаемые методом `.describe()`, — объясните их. Применимы ли к таким данным обычные способы нахождения типичных значений?"
   ]
  },
  {
   "cell_type": "code",
   "execution_count": 95,
   "metadata": {},
   "outputs": [],
   "source": [
    "# Задаем формат для чисел с плавающей точкой \n",
    "pd.options.display.float_format = '{:.2f}'.format"
   ]
  },
  {
   "cell_type": "code",
   "execution_count": 96,
   "metadata": {
    "id": "8jm75fKXrJg2",
    "vscode": {
     "languageId": "plaintext"
    }
   },
   "outputs": [
    {
     "data": {
      "text/plain": [
       "count        40890.00\n",
       "mean      10135585.95\n",
       "std       56412886.91\n",
       "min              0.00\n",
       "25%              0.00\n",
       "50%         600000.00\n",
       "75%        5631320.00\n",
       "max     5700000000.00\n",
       "Name: funding_total, dtype: float64"
      ]
     },
     "execution_count": 96,
     "metadata": {},
     "output_type": "execute_result"
    }
   ],
   "source": [
    "# Выводим описание столбца funding_total\n",
    "df['funding_total'].describe()"
   ]
  },
  {
   "cell_type": "code",
   "execution_count": 97,
   "metadata": {
    "id": "S1jrfr7rFhcw",
    "scrolled": false
   },
   "outputs": [
    {
     "data": {
      "text/plain": [
       "Text(0.5, 0, 'Сумма финансирования')"
      ]
     },
     "execution_count": 97,
     "metadata": {},
     "output_type": "execute_result"
    },
    {
     "data": {
      "image/png": "[encoded data removed]",
      "text/plain": [
       "<Figure size 864x720 with 1 Axes>"
      ]
     },
     "metadata": {
      "needs_background": "light"
     },
     "output_type": "display_data"
    }
   ],
   "source": [
    "# Строим \"ящик с усами\" на основе столлбца funding_total\n",
    "df.boxplot(column = 'funding_total', vert = False, figsize = (12,10))\n",
    "plt.title('Типичная сумма финансирования')\n",
    "plt.xlabel('Сумма финансирования')\n"
   ]
  },
  {
   "cell_type": "markdown",
   "metadata": {},
   "source": [
    "На основе полученных данных видна неоднородность в данных и длинный правый ус, что говорит о сильной ассиметрии в распределении данных.\n",
    "Среднее значение значительно больше медианы, что говорит о аномально высоком финансировании некоторых компаний.\n",
    "Из-за выбросов среднее не отражает типичный случай, поэтому для этой цели стоит использовать медиану равную 600 000, то есть 50% значений находятся ниже ее и 50% выше \n",
    "25% компаний имеют финансирование 0, возможно это стартапы, которые держутся на \"идее\""
   ]
  },
  {
   "cell_type": "markdown",
   "metadata": {
    "id": "JqkRAQrIrJg2"
   },
   "source": [
    "\n",
    "### 3.3. Куплены забесплатно?\n",
    "\n",
    "- Исследуйте компании, которые были проданы за ноль или за один доллар, и при этом известно, что у них был ненулевой общий объём финансирования.\n",
    "\n",
    "- Рассчитайте аналитически верхнюю и нижнюю границу выбросов для столбца `funding_total` и укажите, каким процентилям границы соответствуют."
   ]
  },
  {
   "cell_type": "code",
   "execution_count": 98,
   "metadata": {
    "id": "wJHXCBwwrJg2",
    "vscode": {
     "languageId": "plaintext"
    }
   },
   "outputs": [
    {
     "name": "stdout",
     "output_type": "stream",
     "text": [
      "<class 'pandas.core.frame.DataFrame'>\n",
      "RangeIndex: 1618 entries, 0 to 1617\n",
      "Data columns (total 21 columns):\n",
      " #   Column                Non-Null Count  Dtype         \n",
      "---  ------                --------------  -----         \n",
      " 0   level_0               1618 non-null   int64         \n",
      " 1   index                 1618 non-null   int64         \n",
      " 2   company_ID            1618 non-null   float64       \n",
      " 3   name                  1618 non-null   object        \n",
      " 4   category_code         1553 non-null   object        \n",
      " 5   status                1618 non-null   object        \n",
      " 6   founded_at            1285 non-null   datetime64[ns]\n",
      " 7   closed_at             13 non-null     datetime64[ns]\n",
      " 8   domain                1546 non-null   object        \n",
      " 9   network_username      812 non-null    object        \n",
      " 10  country_code          1536 non-null   object        \n",
      " 11  investment_rounds     1618 non-null   float64       \n",
      " 12  funding_rounds        1618 non-null   float64       \n",
      " 13  funding_total         1618 non-null   float64       \n",
      " 14  milestones            1618 non-null   float64       \n",
      " 15  id                    1618 non-null   float64       \n",
      " 16  acquiring_company_id  1618 non-null   float64       \n",
      " 17  acquired_company_id   1618 non-null   float64       \n",
      " 18  term_code             121 non-null    object        \n",
      " 19  price_amount          1618 non-null   float64       \n",
      " 20  acquired_at           1614 non-null   datetime64[ns]\n",
      "dtypes: datetime64[ns](3), float64(9), int64(2), object(7)\n",
      "memory usage: 265.6+ KB\n"
     ]
    },
    {
     "data": {
      "text/html": [
       "<div>\n",
       "<style scoped>\n",
       "    .dataframe tbody tr th:only-of-type {\n",
       "        vertical-align: middle;\n",
       "    }\n",
       "\n",
       "    .dataframe tbody tr th {\n",
       "        vertical-align: top;\n",
       "    }\n",
       "\n",
       "    .dataframe thead th {\n",
       "        text-align: right;\n",
       "    }\n",
       "</style>\n",
       "<table border=\"1\" class=\"dataframe\">\n",
       "  <thead>\n",
       "    <tr style=\"text-align: right;\">\n",
       "      <th></th>\n",
       "      <th>level_0</th>\n",
       "      <th>index</th>\n",
       "      <th>company_ID</th>\n",
       "      <th>name</th>\n",
       "      <th>category_code</th>\n",
       "      <th>status</th>\n",
       "      <th>founded_at</th>\n",
       "      <th>closed_at</th>\n",
       "      <th>domain</th>\n",
       "      <th>network_username</th>\n",
       "      <th>...</th>\n",
       "      <th>investment_rounds</th>\n",
       "      <th>funding_rounds</th>\n",
       "      <th>funding_total</th>\n",
       "      <th>milestones</th>\n",
       "      <th>id</th>\n",
       "      <th>acquiring_company_id</th>\n",
       "      <th>acquired_company_id</th>\n",
       "      <th>term_code</th>\n",
       "      <th>price_amount</th>\n",
       "      <th>acquired_at</th>\n",
       "    </tr>\n",
       "  </thead>\n",
       "  <tbody>\n",
       "    <tr>\n",
       "      <th>0</th>\n",
       "      <td>25</td>\n",
       "      <td>66</td>\n",
       "      <td>10054.00</td>\n",
       "      <td>Jumptap</td>\n",
       "      <td>mobile</td>\n",
       "      <td>acquired</td>\n",
       "      <td>2005-01-01</td>\n",
       "      <td>NaT</td>\n",
       "      <td>jumptap.com</td>\n",
       "      <td>jumptap</td>\n",
       "      <td>...</td>\n",
       "      <td>0.00</td>\n",
       "      <td>7.00</td>\n",
       "      <td>121500000.00</td>\n",
       "      <td>3.00</td>\n",
       "      <td>9288.00</td>\n",
       "      <td>23283.00</td>\n",
       "      <td>10054.00</td>\n",
       "      <td>cash_and_stock</td>\n",
       "      <td>0.00</td>\n",
       "      <td>2013-08-13</td>\n",
       "    </tr>\n",
       "    <tr>\n",
       "      <th>1</th>\n",
       "      <td>63</td>\n",
       "      <td>170</td>\n",
       "      <td>101312.00</td>\n",
       "      <td>SideTour</td>\n",
       "      <td>web</td>\n",
       "      <td>acquired</td>\n",
       "      <td>2011-06-01</td>\n",
       "      <td>NaT</td>\n",
       "      <td>sidetour.com</td>\n",
       "      <td>sidetour</td>\n",
       "      <td>...</td>\n",
       "      <td>0.00</td>\n",
       "      <td>3.00</td>\n",
       "      <td>4000000.00</td>\n",
       "      <td>2.00</td>\n",
       "      <td>9653.00</td>\n",
       "      <td>11391.00</td>\n",
       "      <td>101312.00</td>\n",
       "      <td>NaN</td>\n",
       "      <td>0.00</td>\n",
       "      <td>2013-09-18</td>\n",
       "    </tr>\n",
       "    <tr>\n",
       "      <th>2</th>\n",
       "      <td>66</td>\n",
       "      <td>177</td>\n",
       "      <td>101340.00</td>\n",
       "      <td>ChoicePass</td>\n",
       "      <td>enterprise</td>\n",
       "      <td>acquired</td>\n",
       "      <td>2011-07-01</td>\n",
       "      <td>NaT</td>\n",
       "      <td>choicepass.com</td>\n",
       "      <td>choicepass</td>\n",
       "      <td>...</td>\n",
       "      <td>0.00</td>\n",
       "      <td>1.00</td>\n",
       "      <td>250000.00</td>\n",
       "      <td>1.00</td>\n",
       "      <td>7272.00</td>\n",
       "      <td>1972.00</td>\n",
       "      <td>101340.00</td>\n",
       "      <td>NaN</td>\n",
       "      <td>0.00</td>\n",
       "      <td>2012-06-18</td>\n",
       "    </tr>\n",
       "    <tr>\n",
       "      <th>3</th>\n",
       "      <td>67</td>\n",
       "      <td>181</td>\n",
       "      <td>10137.00</td>\n",
       "      <td>Producteev</td>\n",
       "      <td>software</td>\n",
       "      <td>acquired</td>\n",
       "      <td>2008-07-08</td>\n",
       "      <td>NaT</td>\n",
       "      <td>producteev.com</td>\n",
       "      <td>producteev</td>\n",
       "      <td>...</td>\n",
       "      <td>0.00</td>\n",
       "      <td>3.00</td>\n",
       "      <td>1310000.00</td>\n",
       "      <td>2.00</td>\n",
       "      <td>8254.00</td>\n",
       "      <td>757.00</td>\n",
       "      <td>10137.00</td>\n",
       "      <td>cash_and_stock</td>\n",
       "      <td>0.00</td>\n",
       "      <td>2012-11-05</td>\n",
       "    </tr>\n",
       "    <tr>\n",
       "      <th>4</th>\n",
       "      <td>68</td>\n",
       "      <td>184</td>\n",
       "      <td>10139.00</td>\n",
       "      <td>TradeCard</td>\n",
       "      <td>enterprise</td>\n",
       "      <td>acquired</td>\n",
       "      <td>1999-01-01</td>\n",
       "      <td>NaT</td>\n",
       "      <td>tradecard.com</td>\n",
       "      <td>TradeCard</td>\n",
       "      <td>...</td>\n",
       "      <td>0.00</td>\n",
       "      <td>2.00</td>\n",
       "      <td>44925000.00</td>\n",
       "      <td>1.00</td>\n",
       "      <td>9326.00</td>\n",
       "      <td>44008.00</td>\n",
       "      <td>10139.00</td>\n",
       "      <td>NaN</td>\n",
       "      <td>0.00</td>\n",
       "      <td>2013-04-01</td>\n",
       "    </tr>\n",
       "  </tbody>\n",
       "</table>\n",
       "<p>5 rows × 21 columns</p>\n",
       "</div>"
      ],
      "text/plain": [
       "   level_0  index  company_ID        name category_code    status founded_at  \\\n",
       "0       25     66    10054.00     Jumptap        mobile  acquired 2005-01-01   \n",
       "1       63    170   101312.00    SideTour           web  acquired 2011-06-01   \n",
       "2       66    177   101340.00  ChoicePass    enterprise  acquired 2011-07-01   \n",
       "3       67    181    10137.00  Producteev      software  acquired 2008-07-08   \n",
       "4       68    184    10139.00   TradeCard    enterprise  acquired 1999-01-01   \n",
       "\n",
       "  closed_at          domain network_username  ... investment_rounds  \\\n",
       "0       NaT     jumptap.com          jumptap  ...              0.00   \n",
       "1       NaT    sidetour.com         sidetour  ...              0.00   \n",
       "2       NaT  choicepass.com       choicepass  ...              0.00   \n",
       "3       NaT  producteev.com       producteev  ...              0.00   \n",
       "4       NaT   tradecard.com        TradeCard  ...              0.00   \n",
       "\n",
       "   funding_rounds  funding_total  milestones      id  acquiring_company_id  \\\n",
       "0            7.00   121500000.00        3.00 9288.00              23283.00   \n",
       "1            3.00     4000000.00        2.00 9653.00              11391.00   \n",
       "2            1.00      250000.00        1.00 7272.00               1972.00   \n",
       "3            3.00     1310000.00        2.00 8254.00                757.00   \n",
       "4            2.00    44925000.00        1.00 9326.00              44008.00   \n",
       "\n",
       "   acquired_company_id       term_code price_amount  acquired_at  \n",
       "0             10054.00  cash_and_stock         0.00   2013-08-13  \n",
       "1            101312.00             NaN         0.00   2013-09-18  \n",
       "2            101340.00             NaN         0.00   2012-06-18  \n",
       "3             10137.00  cash_and_stock         0.00   2012-11-05  \n",
       "4             10139.00             NaN         0.00   2013-04-01  \n",
       "\n",
       "[5 rows x 21 columns]"
      ]
     },
     "execution_count": 98,
     "metadata": {},
     "output_type": "execute_result"
    }
   ],
   "source": [
    "# фильтруем данные, чтобы оставить компании, которые проданы за ноль или 1$\n",
    "df_null = (df[(df['funding_total'] > 0) \n",
    "        & ((df['price_amount'] == 0) \n",
    "        | (df['price_amount'] == 1))].reset_index()\n",
    ")\n",
    "df_null.info()\n",
    "df_null.head()"
   ]
  },
  {
   "cell_type": "code",
   "execution_count": 99,
   "metadata": {
    "id": "9IDTHfYQFhuX"
   },
   "outputs": [
    {
     "name": "stdout",
     "output_type": "stream",
     "text": [
      "-18250000.0 35750000.0\n"
     ]
    }
   ],
   "source": [
    "# Рассчитаем верхние и нижние границы усов столбца funding_total, полученного датасета\n",
    "lower_value = df_null['funding_total'].quantile(0.25) - 1.5 * (df_null['funding_total'].quantile(0.75) - df_null['funding_total'].quantile(0.25))\n",
    "higher_value = df_null['funding_total'].quantile(0.75) + 1.5 * (df_null['funding_total'].quantile(0.75) - df_null['funding_total'].quantile(0.25))\n",
    "print (lower_value, higher_value)"
   ]
  },
  {
   "cell_type": "code",
   "execution_count": 100,
   "metadata": {},
   "outputs": [
    {
     "data": {
      "text/plain": [
       "count         1618.00\n",
       "mean      18152961.94\n",
       "std      144503027.47\n",
       "min           3750.00\n",
       "25%        2000000.00\n",
       "30%        2600000.00\n",
       "35%        3299116.50\n",
       "40%        4000000.00\n",
       "45%        5000000.00\n",
       "50%        6000000.00\n",
       "70%       13000000.00\n",
       "90%       33015810.00\n",
       "91%       35894000.00\n",
       "max     5700000000.00\n",
       "Name: funding_total, dtype: float64"
      ]
     },
     "execution_count": 100,
     "metadata": {},
     "output_type": "execute_result"
    }
   ],
   "source": [
    "# Находим какому процентилю соответсвует верхний порог выбросов \n",
    "df_null['funding_total'].describe(percentiles = [0.25,0.30,0.35,0.40,0.45,0.50,0.70,0.90,0.91])\n"
   ]
  },
  {
   "cell_type": "markdown",
   "metadata": {},
   "source": [
    "После фильтрации датасета по условиям осталось 1618 фирм - это фирмы проданные \"за бесплатно\", но при этом имеющие финансирование \n",
    "при рассчете нижних и верхних границ выбросов на основе столбца funding_total, видно, что аномально низких значений в данных нет, так как значение нижней границы является отрицательным, что невозможно, так как минимальное больше нуля.\n",
    "Что касается верхней границе выбросов, то оно принимает значение 35 750 000, что является примерно 91 процентилем."
   ]
  },
  {
   "cell_type": "code",
   "execution_count": 109,
   "metadata": {},
   "outputs": [
    {
     "data": {
      "text/plain": [
       "90.91470951792337"
      ]
     },
     "execution_count": 109,
     "metadata": {},
     "output_type": "execute_result"
    }
   ],
   "source": [
    "# Код ревьюера\n",
    "(df_null[df_null['funding_total'] < higher_value].shape[0] / df_null.shape[0]) * 100"
   ]
  },
  {
   "cell_type": "markdown",
   "metadata": {
    "id": "mEiWpROjrJg2"
   },
   "source": [
    "\n",
    "### 3.4. Цены стартапов по категориям\n",
    "\n",
    "Категории стартапов с типично высокими ценами покупки стартапов и значительным разбросом цен могут быть привлекательными для крупных инвесторов, которые готовы к высоким рискам ради потенциально больших доходов. Среди категорий стартапов выделите категории стартапов, характеризующиеся:\n",
    "\n",
    "- типично высокими ценами;\n",
    "- и наибольшим разбросом цен за стартап.\n",
    "\n",
    "Объясните, почему решили составить топ именно из такого числа категорий и почему рассчитывали именно так."
   ]
  },
  {
   "cell_type": "code",
   "execution_count": null,
   "metadata": {},
   "outputs": [],
   "source": []
  },
  {
   "cell_type": "code",
   "execution_count": 101,
   "metadata": {},
   "outputs": [
    {
     "data": {
      "text/plain": [
       "count            9390.00\n",
       "mean        393988145.31\n",
       "std       26846244613.76\n",
       "min                 0.00\n",
       "25%                 0.00\n",
       "50%                 0.00\n",
       "75%             23625.50\n",
       "80%          11820000.00\n",
       "90%         119000000.00\n",
       "95%         359100000.00\n",
       "97%         650000000.00\n",
       "max     2600000000000.00\n",
       "Name: price_amount, dtype: float64"
      ]
     },
     "execution_count": 101,
     "metadata": {},
     "output_type": "execute_result"
    }
   ],
   "source": [
    "df['price_amount'].describe(percentiles = [0.25,0.50,0.75,0.80,0.90,0.95,0.97])"
   ]
  },
  {
   "cell_type": "code",
   "execution_count": 102,
   "metadata": {
    "scrolled": true
   },
   "outputs": [
    {
     "data": {
      "text/plain": [
       "count        9111.00\n",
       "mean     26539770.00\n",
       "std      86478159.19\n",
       "min             0.00\n",
       "25%             0.00\n",
       "50%             0.00\n",
       "75%             0.00\n",
       "max     650000000.00\n",
       "Name: price_amount, dtype: float64"
      ]
     },
     "execution_count": 102,
     "metadata": {},
     "output_type": "execute_result"
    }
   ],
   "source": [
    "# Для корректности данных отфильтруем их по 97 процентилю, чтобы убрать выбросы\n",
    "percentiles = df['price_amount'].quantile(0.97)\n",
    "df_price = df[df['price_amount'] <= percentiles]\n",
    "df_price['price_amount'].describe()"
   ]
  },
  {
   "cell_type": "code",
   "execution_count": 103,
   "metadata": {
    "id": "jQ09dYUWrJg2",
    "scrolled": false,
    "vscode": {
     "languageId": "plaintext"
    }
   },
   "outputs": [
    {
     "data": {
      "text/html": [
       "<div>\n",
       "<style scoped>\n",
       "    .dataframe tbody tr th:only-of-type {\n",
       "        vertical-align: middle;\n",
       "    }\n",
       "\n",
       "    .dataframe tbody tr th {\n",
       "        vertical-align: top;\n",
       "    }\n",
       "\n",
       "    .dataframe thead tr th {\n",
       "        text-align: left;\n",
       "    }\n",
       "</style>\n",
       "<table border=\"1\" class=\"dataframe\">\n",
       "  <thead>\n",
       "    <tr>\n",
       "      <th></th>\n",
       "      <th>category_code</th>\n",
       "      <th colspan=\"2\" halign=\"left\">price_amount</th>\n",
       "    </tr>\n",
       "    <tr>\n",
       "      <th></th>\n",
       "      <th></th>\n",
       "      <th>median</th>\n",
       "      <th>std</th>\n",
       "    </tr>\n",
       "  </thead>\n",
       "  <tbody>\n",
       "    <tr>\n",
       "      <th>0</th>\n",
       "      <td>advertising</td>\n",
       "      <td>0.00</td>\n",
       "      <td>89174926.01</td>\n",
       "    </tr>\n",
       "    <tr>\n",
       "      <th>1</th>\n",
       "      <td>analytics</td>\n",
       "      <td>0.00</td>\n",
       "      <td>52671642.49</td>\n",
       "    </tr>\n",
       "    <tr>\n",
       "      <th>2</th>\n",
       "      <td>automotive</td>\n",
       "      <td>0.00</td>\n",
       "      <td>24826061.58</td>\n",
       "    </tr>\n",
       "    <tr>\n",
       "      <th>3</th>\n",
       "      <td>biotech</td>\n",
       "      <td>2550000.00</td>\n",
       "      <td>169375277.48</td>\n",
       "    </tr>\n",
       "    <tr>\n",
       "      <th>4</th>\n",
       "      <td>cleantech</td>\n",
       "      <td>0.00</td>\n",
       "      <td>115900151.70</td>\n",
       "    </tr>\n",
       "    <tr>\n",
       "      <th>5</th>\n",
       "      <td>consulting</td>\n",
       "      <td>0.00</td>\n",
       "      <td>80448171.02</td>\n",
       "    </tr>\n",
       "    <tr>\n",
       "      <th>6</th>\n",
       "      <td>design</td>\n",
       "      <td>0.00</td>\n",
       "      <td>0.00</td>\n",
       "    </tr>\n",
       "    <tr>\n",
       "      <th>7</th>\n",
       "      <td>ecommerce</td>\n",
       "      <td>0.00</td>\n",
       "      <td>99516434.39</td>\n",
       "    </tr>\n",
       "    <tr>\n",
       "      <th>8</th>\n",
       "      <td>education</td>\n",
       "      <td>0.00</td>\n",
       "      <td>8559050.29</td>\n",
       "    </tr>\n",
       "    <tr>\n",
       "      <th>9</th>\n",
       "      <td>enterprise</td>\n",
       "      <td>0.00</td>\n",
       "      <td>72520987.00</td>\n",
       "    </tr>\n",
       "    <tr>\n",
       "      <th>10</th>\n",
       "      <td>fashion</td>\n",
       "      <td>0.00</td>\n",
       "      <td>95742908.59</td>\n",
       "    </tr>\n",
       "    <tr>\n",
       "      <th>11</th>\n",
       "      <td>finance</td>\n",
       "      <td>0.00</td>\n",
       "      <td>154774321.13</td>\n",
       "    </tr>\n",
       "    <tr>\n",
       "      <th>12</th>\n",
       "      <td>games_video</td>\n",
       "      <td>0.00</td>\n",
       "      <td>76829028.95</td>\n",
       "    </tr>\n",
       "    <tr>\n",
       "      <th>13</th>\n",
       "      <td>hardware</td>\n",
       "      <td>0.00</td>\n",
       "      <td>114904746.49</td>\n",
       "    </tr>\n",
       "    <tr>\n",
       "      <th>14</th>\n",
       "      <td>health</td>\n",
       "      <td>0.00</td>\n",
       "      <td>116149013.48</td>\n",
       "    </tr>\n",
       "    <tr>\n",
       "      <th>15</th>\n",
       "      <td>hospitality</td>\n",
       "      <td>11250000.00</td>\n",
       "      <td>187219682.01</td>\n",
       "    </tr>\n",
       "    <tr>\n",
       "      <th>16</th>\n",
       "      <td>legal</td>\n",
       "      <td>0.00</td>\n",
       "      <td>0.00</td>\n",
       "    </tr>\n",
       "    <tr>\n",
       "      <th>17</th>\n",
       "      <td>local</td>\n",
       "      <td>0.00</td>\n",
       "      <td>9318548.81</td>\n",
       "    </tr>\n",
       "    <tr>\n",
       "      <th>18</th>\n",
       "      <td>manufacturing</td>\n",
       "      <td>15650000.00</td>\n",
       "      <td>197019525.17</td>\n",
       "    </tr>\n",
       "    <tr>\n",
       "      <th>19</th>\n",
       "      <td>medical</td>\n",
       "      <td>0.00</td>\n",
       "      <td>105950927.12</td>\n",
       "    </tr>\n",
       "    <tr>\n",
       "      <th>20</th>\n",
       "      <td>messaging</td>\n",
       "      <td>0.00</td>\n",
       "      <td>42412773.23</td>\n",
       "    </tr>\n",
       "    <tr>\n",
       "      <th>21</th>\n",
       "      <td>mobile</td>\n",
       "      <td>0.00</td>\n",
       "      <td>88767678.78</td>\n",
       "    </tr>\n",
       "    <tr>\n",
       "      <th>22</th>\n",
       "      <td>music</td>\n",
       "      <td>0.00</td>\n",
       "      <td>72198580.46</td>\n",
       "    </tr>\n",
       "    <tr>\n",
       "      <th>23</th>\n",
       "      <td>nanotech</td>\n",
       "      <td>584000000.00</td>\n",
       "      <td>NaN</td>\n",
       "    </tr>\n",
       "    <tr>\n",
       "      <th>24</th>\n",
       "      <td>network_hosting</td>\n",
       "      <td>0.00</td>\n",
       "      <td>95064030.30</td>\n",
       "    </tr>\n",
       "    <tr>\n",
       "      <th>25</th>\n",
       "      <td>news</td>\n",
       "      <td>0.00</td>\n",
       "      <td>70965628.09</td>\n",
       "    </tr>\n",
       "    <tr>\n",
       "      <th>26</th>\n",
       "      <td>nonprofit</td>\n",
       "      <td>0.00</td>\n",
       "      <td>NaN</td>\n",
       "    </tr>\n",
       "    <tr>\n",
       "      <th>27</th>\n",
       "      <td>other</td>\n",
       "      <td>0.00</td>\n",
       "      <td>80220088.17</td>\n",
       "    </tr>\n",
       "    <tr>\n",
       "      <th>28</th>\n",
       "      <td>photo_video</td>\n",
       "      <td>0.00</td>\n",
       "      <td>24228551.90</td>\n",
       "    </tr>\n",
       "    <tr>\n",
       "      <th>29</th>\n",
       "      <td>public_relations</td>\n",
       "      <td>0.00</td>\n",
       "      <td>113333518.10</td>\n",
       "    </tr>\n",
       "    <tr>\n",
       "      <th>30</th>\n",
       "      <td>real_estate</td>\n",
       "      <td>21500000.00</td>\n",
       "      <td>25473842.79</td>\n",
       "    </tr>\n",
       "    <tr>\n",
       "      <th>31</th>\n",
       "      <td>search</td>\n",
       "      <td>0.00</td>\n",
       "      <td>75328727.21</td>\n",
       "    </tr>\n",
       "    <tr>\n",
       "      <th>32</th>\n",
       "      <td>security</td>\n",
       "      <td>0.00</td>\n",
       "      <td>112569870.18</td>\n",
       "    </tr>\n",
       "    <tr>\n",
       "      <th>33</th>\n",
       "      <td>semiconductor</td>\n",
       "      <td>0.00</td>\n",
       "      <td>109795563.36</td>\n",
       "    </tr>\n",
       "    <tr>\n",
       "      <th>34</th>\n",
       "      <td>social</td>\n",
       "      <td>0.00</td>\n",
       "      <td>31859746.73</td>\n",
       "    </tr>\n",
       "    <tr>\n",
       "      <th>35</th>\n",
       "      <td>software</td>\n",
       "      <td>0.00</td>\n",
       "      <td>74806848.05</td>\n",
       "    </tr>\n",
       "    <tr>\n",
       "      <th>36</th>\n",
       "      <td>sports</td>\n",
       "      <td>0.00</td>\n",
       "      <td>130000000.00</td>\n",
       "    </tr>\n",
       "    <tr>\n",
       "      <th>37</th>\n",
       "      <td>transportation</td>\n",
       "      <td>0.00</td>\n",
       "      <td>92610294.60</td>\n",
       "    </tr>\n",
       "    <tr>\n",
       "      <th>38</th>\n",
       "      <td>travel</td>\n",
       "      <td>0.00</td>\n",
       "      <td>50446297.66</td>\n",
       "    </tr>\n",
       "    <tr>\n",
       "      <th>39</th>\n",
       "      <td>web</td>\n",
       "      <td>0.00</td>\n",
       "      <td>86593825.51</td>\n",
       "    </tr>\n",
       "  </tbody>\n",
       "</table>\n",
       "</div>"
      ],
      "text/plain": [
       "       category_code price_amount             \n",
       "                           median          std\n",
       "0        advertising         0.00  89174926.01\n",
       "1          analytics         0.00  52671642.49\n",
       "2         automotive         0.00  24826061.58\n",
       "3            biotech   2550000.00 169375277.48\n",
       "4          cleantech         0.00 115900151.70\n",
       "5         consulting         0.00  80448171.02\n",
       "6             design         0.00         0.00\n",
       "7          ecommerce         0.00  99516434.39\n",
       "8          education         0.00   8559050.29\n",
       "9         enterprise         0.00  72520987.00\n",
       "10           fashion         0.00  95742908.59\n",
       "11           finance         0.00 154774321.13\n",
       "12       games_video         0.00  76829028.95\n",
       "13          hardware         0.00 114904746.49\n",
       "14            health         0.00 116149013.48\n",
       "15       hospitality  11250000.00 187219682.01\n",
       "16             legal         0.00         0.00\n",
       "17             local         0.00   9318548.81\n",
       "18     manufacturing  15650000.00 197019525.17\n",
       "19           medical         0.00 105950927.12\n",
       "20         messaging         0.00  42412773.23\n",
       "21            mobile         0.00  88767678.78\n",
       "22             music         0.00  72198580.46\n",
       "23          nanotech 584000000.00          NaN\n",
       "24   network_hosting         0.00  95064030.30\n",
       "25              news         0.00  70965628.09\n",
       "26         nonprofit         0.00          NaN\n",
       "27             other         0.00  80220088.17\n",
       "28       photo_video         0.00  24228551.90\n",
       "29  public_relations         0.00 113333518.10\n",
       "30       real_estate  21500000.00  25473842.79\n",
       "31            search         0.00  75328727.21\n",
       "32          security         0.00 112569870.18\n",
       "33     semiconductor         0.00 109795563.36\n",
       "34            social         0.00  31859746.73\n",
       "35          software         0.00  74806848.05\n",
       "36            sports         0.00 130000000.00\n",
       "37    transportation         0.00  92610294.60\n",
       "38            travel         0.00  50446297.66\n",
       "39               web         0.00  86593825.51"
      ]
     },
     "metadata": {},
     "output_type": "display_data"
    }
   ],
   "source": [
    "# Группируем стартапы по их категориям \n",
    "df_grouped = df_price.groupby('category_code').agg({'price_amount': ['median','std']}).reset_index()\n",
    "display(df_grouped)"
   ]
  },
  {
   "cell_type": "code",
   "execution_count": 104,
   "metadata": {
    "scrolled": false
   },
   "outputs": [
    {
     "data": {
      "text/html": [
       "<div>\n",
       "<style scoped>\n",
       "    .dataframe tbody tr th:only-of-type {\n",
       "        vertical-align: middle;\n",
       "    }\n",
       "\n",
       "    .dataframe tbody tr th {\n",
       "        vertical-align: top;\n",
       "    }\n",
       "\n",
       "    .dataframe thead th {\n",
       "        text-align: right;\n",
       "    }\n",
       "</style>\n",
       "<table border=\"1\" class=\"dataframe\">\n",
       "  <thead>\n",
       "    <tr style=\"text-align: right;\">\n",
       "      <th></th>\n",
       "      <th>category</th>\n",
       "      <th>price_median</th>\n",
       "      <th>price_std</th>\n",
       "    </tr>\n",
       "  </thead>\n",
       "  <tbody>\n",
       "    <tr>\n",
       "      <th>0</th>\n",
       "      <td>advertising</td>\n",
       "      <td>0.00</td>\n",
       "      <td>89174926.01</td>\n",
       "    </tr>\n",
       "    <tr>\n",
       "      <th>1</th>\n",
       "      <td>analytics</td>\n",
       "      <td>0.00</td>\n",
       "      <td>52671642.49</td>\n",
       "    </tr>\n",
       "    <tr>\n",
       "      <th>2</th>\n",
       "      <td>automotive</td>\n",
       "      <td>0.00</td>\n",
       "      <td>24826061.58</td>\n",
       "    </tr>\n",
       "    <tr>\n",
       "      <th>3</th>\n",
       "      <td>biotech</td>\n",
       "      <td>2550000.00</td>\n",
       "      <td>169375277.48</td>\n",
       "    </tr>\n",
       "    <tr>\n",
       "      <th>4</th>\n",
       "      <td>cleantech</td>\n",
       "      <td>0.00</td>\n",
       "      <td>115900151.70</td>\n",
       "    </tr>\n",
       "    <tr>\n",
       "      <th>5</th>\n",
       "      <td>consulting</td>\n",
       "      <td>0.00</td>\n",
       "      <td>80448171.02</td>\n",
       "    </tr>\n",
       "    <tr>\n",
       "      <th>6</th>\n",
       "      <td>design</td>\n",
       "      <td>0.00</td>\n",
       "      <td>0.00</td>\n",
       "    </tr>\n",
       "    <tr>\n",
       "      <th>7</th>\n",
       "      <td>ecommerce</td>\n",
       "      <td>0.00</td>\n",
       "      <td>99516434.39</td>\n",
       "    </tr>\n",
       "    <tr>\n",
       "      <th>8</th>\n",
       "      <td>education</td>\n",
       "      <td>0.00</td>\n",
       "      <td>8559050.29</td>\n",
       "    </tr>\n",
       "    <tr>\n",
       "      <th>9</th>\n",
       "      <td>enterprise</td>\n",
       "      <td>0.00</td>\n",
       "      <td>72520987.00</td>\n",
       "    </tr>\n",
       "    <tr>\n",
       "      <th>10</th>\n",
       "      <td>fashion</td>\n",
       "      <td>0.00</td>\n",
       "      <td>95742908.59</td>\n",
       "    </tr>\n",
       "    <tr>\n",
       "      <th>11</th>\n",
       "      <td>finance</td>\n",
       "      <td>0.00</td>\n",
       "      <td>154774321.13</td>\n",
       "    </tr>\n",
       "    <tr>\n",
       "      <th>12</th>\n",
       "      <td>games_video</td>\n",
       "      <td>0.00</td>\n",
       "      <td>76829028.95</td>\n",
       "    </tr>\n",
       "    <tr>\n",
       "      <th>13</th>\n",
       "      <td>hardware</td>\n",
       "      <td>0.00</td>\n",
       "      <td>114904746.49</td>\n",
       "    </tr>\n",
       "    <tr>\n",
       "      <th>14</th>\n",
       "      <td>health</td>\n",
       "      <td>0.00</td>\n",
       "      <td>116149013.48</td>\n",
       "    </tr>\n",
       "    <tr>\n",
       "      <th>15</th>\n",
       "      <td>hospitality</td>\n",
       "      <td>11250000.00</td>\n",
       "      <td>187219682.01</td>\n",
       "    </tr>\n",
       "    <tr>\n",
       "      <th>16</th>\n",
       "      <td>legal</td>\n",
       "      <td>0.00</td>\n",
       "      <td>0.00</td>\n",
       "    </tr>\n",
       "    <tr>\n",
       "      <th>17</th>\n",
       "      <td>local</td>\n",
       "      <td>0.00</td>\n",
       "      <td>9318548.81</td>\n",
       "    </tr>\n",
       "    <tr>\n",
       "      <th>18</th>\n",
       "      <td>manufacturing</td>\n",
       "      <td>15650000.00</td>\n",
       "      <td>197019525.17</td>\n",
       "    </tr>\n",
       "    <tr>\n",
       "      <th>19</th>\n",
       "      <td>medical</td>\n",
       "      <td>0.00</td>\n",
       "      <td>105950927.12</td>\n",
       "    </tr>\n",
       "    <tr>\n",
       "      <th>20</th>\n",
       "      <td>messaging</td>\n",
       "      <td>0.00</td>\n",
       "      <td>42412773.23</td>\n",
       "    </tr>\n",
       "    <tr>\n",
       "      <th>21</th>\n",
       "      <td>mobile</td>\n",
       "      <td>0.00</td>\n",
       "      <td>88767678.78</td>\n",
       "    </tr>\n",
       "    <tr>\n",
       "      <th>22</th>\n",
       "      <td>music</td>\n",
       "      <td>0.00</td>\n",
       "      <td>72198580.46</td>\n",
       "    </tr>\n",
       "    <tr>\n",
       "      <th>23</th>\n",
       "      <td>nanotech</td>\n",
       "      <td>584000000.00</td>\n",
       "      <td>NaN</td>\n",
       "    </tr>\n",
       "    <tr>\n",
       "      <th>24</th>\n",
       "      <td>network_hosting</td>\n",
       "      <td>0.00</td>\n",
       "      <td>95064030.30</td>\n",
       "    </tr>\n",
       "    <tr>\n",
       "      <th>25</th>\n",
       "      <td>news</td>\n",
       "      <td>0.00</td>\n",
       "      <td>70965628.09</td>\n",
       "    </tr>\n",
       "    <tr>\n",
       "      <th>26</th>\n",
       "      <td>nonprofit</td>\n",
       "      <td>0.00</td>\n",
       "      <td>NaN</td>\n",
       "    </tr>\n",
       "    <tr>\n",
       "      <th>27</th>\n",
       "      <td>other</td>\n",
       "      <td>0.00</td>\n",
       "      <td>80220088.17</td>\n",
       "    </tr>\n",
       "    <tr>\n",
       "      <th>28</th>\n",
       "      <td>photo_video</td>\n",
       "      <td>0.00</td>\n",
       "      <td>24228551.90</td>\n",
       "    </tr>\n",
       "    <tr>\n",
       "      <th>29</th>\n",
       "      <td>public_relations</td>\n",
       "      <td>0.00</td>\n",
       "      <td>113333518.10</td>\n",
       "    </tr>\n",
       "    <tr>\n",
       "      <th>30</th>\n",
       "      <td>real_estate</td>\n",
       "      <td>21500000.00</td>\n",
       "      <td>25473842.79</td>\n",
       "    </tr>\n",
       "    <tr>\n",
       "      <th>31</th>\n",
       "      <td>search</td>\n",
       "      <td>0.00</td>\n",
       "      <td>75328727.21</td>\n",
       "    </tr>\n",
       "    <tr>\n",
       "      <th>32</th>\n",
       "      <td>security</td>\n",
       "      <td>0.00</td>\n",
       "      <td>112569870.18</td>\n",
       "    </tr>\n",
       "    <tr>\n",
       "      <th>33</th>\n",
       "      <td>semiconductor</td>\n",
       "      <td>0.00</td>\n",
       "      <td>109795563.36</td>\n",
       "    </tr>\n",
       "    <tr>\n",
       "      <th>34</th>\n",
       "      <td>social</td>\n",
       "      <td>0.00</td>\n",
       "      <td>31859746.73</td>\n",
       "    </tr>\n",
       "    <tr>\n",
       "      <th>35</th>\n",
       "      <td>software</td>\n",
       "      <td>0.00</td>\n",
       "      <td>74806848.05</td>\n",
       "    </tr>\n",
       "    <tr>\n",
       "      <th>36</th>\n",
       "      <td>sports</td>\n",
       "      <td>0.00</td>\n",
       "      <td>130000000.00</td>\n",
       "    </tr>\n",
       "    <tr>\n",
       "      <th>37</th>\n",
       "      <td>transportation</td>\n",
       "      <td>0.00</td>\n",
       "      <td>92610294.60</td>\n",
       "    </tr>\n",
       "    <tr>\n",
       "      <th>38</th>\n",
       "      <td>travel</td>\n",
       "      <td>0.00</td>\n",
       "      <td>50446297.66</td>\n",
       "    </tr>\n",
       "    <tr>\n",
       "      <th>39</th>\n",
       "      <td>web</td>\n",
       "      <td>0.00</td>\n",
       "      <td>86593825.51</td>\n",
       "    </tr>\n",
       "  </tbody>\n",
       "</table>\n",
       "</div>"
      ],
      "text/plain": [
       "            category  price_median    price_std\n",
       "0        advertising          0.00  89174926.01\n",
       "1          analytics          0.00  52671642.49\n",
       "2         automotive          0.00  24826061.58\n",
       "3            biotech    2550000.00 169375277.48\n",
       "4          cleantech          0.00 115900151.70\n",
       "5         consulting          0.00  80448171.02\n",
       "6             design          0.00         0.00\n",
       "7          ecommerce          0.00  99516434.39\n",
       "8          education          0.00   8559050.29\n",
       "9         enterprise          0.00  72520987.00\n",
       "10           fashion          0.00  95742908.59\n",
       "11           finance          0.00 154774321.13\n",
       "12       games_video          0.00  76829028.95\n",
       "13          hardware          0.00 114904746.49\n",
       "14            health          0.00 116149013.48\n",
       "15       hospitality   11250000.00 187219682.01\n",
       "16             legal          0.00         0.00\n",
       "17             local          0.00   9318548.81\n",
       "18     manufacturing   15650000.00 197019525.17\n",
       "19           medical          0.00 105950927.12\n",
       "20         messaging          0.00  42412773.23\n",
       "21            mobile          0.00  88767678.78\n",
       "22             music          0.00  72198580.46\n",
       "23          nanotech  584000000.00          NaN\n",
       "24   network_hosting          0.00  95064030.30\n",
       "25              news          0.00  70965628.09\n",
       "26         nonprofit          0.00          NaN\n",
       "27             other          0.00  80220088.17\n",
       "28       photo_video          0.00  24228551.90\n",
       "29  public_relations          0.00 113333518.10\n",
       "30       real_estate   21500000.00  25473842.79\n",
       "31            search          0.00  75328727.21\n",
       "32          security          0.00 112569870.18\n",
       "33     semiconductor          0.00 109795563.36\n",
       "34            social          0.00  31859746.73\n",
       "35          software          0.00  74806848.05\n",
       "36            sports          0.00 130000000.00\n",
       "37    transportation          0.00  92610294.60\n",
       "38            travel          0.00  50446297.66\n",
       "39               web          0.00  86593825.51"
      ]
     },
     "metadata": {},
     "output_type": "display_data"
    }
   ],
   "source": [
    "# Переименуем столбцы для удобства \n",
    "df_grouped.columns = ['category','price_median', 'price_std'] \n",
    "display (df_grouped)"
   ]
  },
  {
   "cell_type": "code",
   "execution_count": 105,
   "metadata": {
    "id": "eF1aULm5FjfY",
    "scrolled": false
   },
   "outputs": [
    {
     "data": {
      "text/html": [
       "<div>\n",
       "<style scoped>\n",
       "    .dataframe tbody tr th:only-of-type {\n",
       "        vertical-align: middle;\n",
       "    }\n",
       "\n",
       "    .dataframe tbody tr th {\n",
       "        vertical-align: top;\n",
       "    }\n",
       "\n",
       "    .dataframe thead th {\n",
       "        text-align: right;\n",
       "    }\n",
       "</style>\n",
       "<table border=\"1\" class=\"dataframe\">\n",
       "  <thead>\n",
       "    <tr style=\"text-align: right;\">\n",
       "      <th></th>\n",
       "      <th>category</th>\n",
       "      <th>price_median</th>\n",
       "      <th>price_std</th>\n",
       "    </tr>\n",
       "  </thead>\n",
       "  <tbody>\n",
       "    <tr>\n",
       "      <th>23</th>\n",
       "      <td>nanotech</td>\n",
       "      <td>584000000.00</td>\n",
       "      <td>NaN</td>\n",
       "    </tr>\n",
       "    <tr>\n",
       "      <th>30</th>\n",
       "      <td>real_estate</td>\n",
       "      <td>21500000.00</td>\n",
       "      <td>25473842.79</td>\n",
       "    </tr>\n",
       "    <tr>\n",
       "      <th>18</th>\n",
       "      <td>manufacturing</td>\n",
       "      <td>15650000.00</td>\n",
       "      <td>197019525.17</td>\n",
       "    </tr>\n",
       "    <tr>\n",
       "      <th>15</th>\n",
       "      <td>hospitality</td>\n",
       "      <td>11250000.00</td>\n",
       "      <td>187219682.01</td>\n",
       "    </tr>\n",
       "    <tr>\n",
       "      <th>3</th>\n",
       "      <td>biotech</td>\n",
       "      <td>2550000.00</td>\n",
       "      <td>169375277.48</td>\n",
       "    </tr>\n",
       "  </tbody>\n",
       "</table>\n",
       "</div>"
      ],
      "text/plain": [
       "         category  price_median    price_std\n",
       "23       nanotech  584000000.00          NaN\n",
       "30    real_estate   21500000.00  25473842.79\n",
       "18  manufacturing   15650000.00 197019525.17\n",
       "15    hospitality   11250000.00 187219682.01\n",
       "3         biotech    2550000.00 169375277.48"
      ]
     },
     "metadata": {},
     "output_type": "display_data"
    }
   ],
   "source": [
    "# Cортируем данные по медиане и выделяем те, что характеризуются типично высокими ценами\n",
    "df_grouped = df_grouped.sort_values(by = 'price_median', ascending = False)\n",
    "df_top_median = df_grouped[0:5]\n",
    "display (df_top_median)"
   ]
  },
  {
   "cell_type": "code",
   "execution_count": 106,
   "metadata": {},
   "outputs": [
    {
     "data": {
      "text/html": [
       "<div>\n",
       "<style scoped>\n",
       "    .dataframe tbody tr th:only-of-type {\n",
       "        vertical-align: middle;\n",
       "    }\n",
       "\n",
       "    .dataframe tbody tr th {\n",
       "        vertical-align: top;\n",
       "    }\n",
       "\n",
       "    .dataframe thead th {\n",
       "        text-align: right;\n",
       "    }\n",
       "</style>\n",
       "<table border=\"1\" class=\"dataframe\">\n",
       "  <thead>\n",
       "    <tr style=\"text-align: right;\">\n",
       "      <th></th>\n",
       "      <th>category</th>\n",
       "      <th>price_median</th>\n",
       "      <th>price_std</th>\n",
       "    </tr>\n",
       "  </thead>\n",
       "  <tbody>\n",
       "    <tr>\n",
       "      <th>18</th>\n",
       "      <td>manufacturing</td>\n",
       "      <td>15650000.00</td>\n",
       "      <td>197019525.17</td>\n",
       "    </tr>\n",
       "    <tr>\n",
       "      <th>15</th>\n",
       "      <td>hospitality</td>\n",
       "      <td>11250000.00</td>\n",
       "      <td>187219682.01</td>\n",
       "    </tr>\n",
       "    <tr>\n",
       "      <th>3</th>\n",
       "      <td>biotech</td>\n",
       "      <td>2550000.00</td>\n",
       "      <td>169375277.48</td>\n",
       "    </tr>\n",
       "    <tr>\n",
       "      <th>11</th>\n",
       "      <td>finance</td>\n",
       "      <td>0.00</td>\n",
       "      <td>154774321.13</td>\n",
       "    </tr>\n",
       "    <tr>\n",
       "      <th>36</th>\n",
       "      <td>sports</td>\n",
       "      <td>0.00</td>\n",
       "      <td>130000000.00</td>\n",
       "    </tr>\n",
       "    <tr>\n",
       "      <th>14</th>\n",
       "      <td>health</td>\n",
       "      <td>0.00</td>\n",
       "      <td>116149013.48</td>\n",
       "    </tr>\n",
       "    <tr>\n",
       "      <th>4</th>\n",
       "      <td>cleantech</td>\n",
       "      <td>0.00</td>\n",
       "      <td>115900151.70</td>\n",
       "    </tr>\n",
       "    <tr>\n",
       "      <th>13</th>\n",
       "      <td>hardware</td>\n",
       "      <td>0.00</td>\n",
       "      <td>114904746.49</td>\n",
       "    </tr>\n",
       "    <tr>\n",
       "      <th>29</th>\n",
       "      <td>public_relations</td>\n",
       "      <td>0.00</td>\n",
       "      <td>113333518.10</td>\n",
       "    </tr>\n",
       "    <tr>\n",
       "      <th>32</th>\n",
       "      <td>security</td>\n",
       "      <td>0.00</td>\n",
       "      <td>112569870.18</td>\n",
       "    </tr>\n",
       "    <tr>\n",
       "      <th>33</th>\n",
       "      <td>semiconductor</td>\n",
       "      <td>0.00</td>\n",
       "      <td>109795563.36</td>\n",
       "    </tr>\n",
       "    <tr>\n",
       "      <th>19</th>\n",
       "      <td>medical</td>\n",
       "      <td>0.00</td>\n",
       "      <td>105950927.12</td>\n",
       "    </tr>\n",
       "    <tr>\n",
       "      <th>7</th>\n",
       "      <td>ecommerce</td>\n",
       "      <td>0.00</td>\n",
       "      <td>99516434.39</td>\n",
       "    </tr>\n",
       "    <tr>\n",
       "      <th>10</th>\n",
       "      <td>fashion</td>\n",
       "      <td>0.00</td>\n",
       "      <td>95742908.59</td>\n",
       "    </tr>\n",
       "    <tr>\n",
       "      <th>24</th>\n",
       "      <td>network_hosting</td>\n",
       "      <td>0.00</td>\n",
       "      <td>95064030.30</td>\n",
       "    </tr>\n",
       "    <tr>\n",
       "      <th>37</th>\n",
       "      <td>transportation</td>\n",
       "      <td>0.00</td>\n",
       "      <td>92610294.60</td>\n",
       "    </tr>\n",
       "    <tr>\n",
       "      <th>0</th>\n",
       "      <td>advertising</td>\n",
       "      <td>0.00</td>\n",
       "      <td>89174926.01</td>\n",
       "    </tr>\n",
       "    <tr>\n",
       "      <th>21</th>\n",
       "      <td>mobile</td>\n",
       "      <td>0.00</td>\n",
       "      <td>88767678.78</td>\n",
       "    </tr>\n",
       "    <tr>\n",
       "      <th>39</th>\n",
       "      <td>web</td>\n",
       "      <td>0.00</td>\n",
       "      <td>86593825.51</td>\n",
       "    </tr>\n",
       "  </tbody>\n",
       "</table>\n",
       "</div>"
      ],
      "text/plain": [
       "            category  price_median    price_std\n",
       "18     manufacturing   15650000.00 197019525.17\n",
       "15       hospitality   11250000.00 187219682.01\n",
       "3            biotech    2550000.00 169375277.48\n",
       "11           finance          0.00 154774321.13\n",
       "36            sports          0.00 130000000.00\n",
       "14            health          0.00 116149013.48\n",
       "4          cleantech          0.00 115900151.70\n",
       "13          hardware          0.00 114904746.49\n",
       "29  public_relations          0.00 113333518.10\n",
       "32          security          0.00 112569870.18\n",
       "33     semiconductor          0.00 109795563.36\n",
       "19           medical          0.00 105950927.12\n",
       "7          ecommerce          0.00  99516434.39\n",
       "10           fashion          0.00  95742908.59\n",
       "24   network_hosting          0.00  95064030.30\n",
       "37    transportation          0.00  92610294.60\n",
       "0        advertising          0.00  89174926.01\n",
       "21            mobile          0.00  88767678.78\n",
       "39               web          0.00  86593825.51"
      ]
     },
     "metadata": {},
     "output_type": "display_data"
    }
   ],
   "source": [
    "# Cортируем данные по стандартному отклонению и выделяем те, что характеризуются наибольшим разбросом цен за стартап\n",
    "df_grouped = df_grouped.sort_values(by = 'price_std', ascending = False)\n",
    "df_top_std = df_grouped[0:19]\n",
    "display (df_top_std)"
   ]
  },
  {
   "cell_type": "markdown",
   "metadata": {},
   "source": [
    "Мы сгруппировали все стартапы по категориям и вывели 2 топа:\n",
    "1. В топе с типично высокими ценами за стартап мы использовали для расчета медиану, так как среднее значение не может представлять типичную картину из-за значительных выбросов. В топ мы вывели 5 категорий, так как в остальных медиана равна нулю, что не отвечает условиям. В топ попали следующие категории:\n",
    "\n",
    "```category\tprice_median\t    price_std\n",
    "23\tnanotech\t584000000.00\tNaN\n",
    "30\treal_estate\t21500000.00\t    25473842.79\n",
    "18\tmanufacturing\t15650000.00\t197019525.17\n",
    "15\thospitality\t11250000.00\t    187219682.01\n",
    "3\tbiotech\t2550000.00\t        169375277.48\n",
    "   ```\n",
    "Как мы видим в данный топ попали наиболее востребованные направления, в которых присутствуют деньги (нанотех, производство, недвижиность и т.д.)\n",
    "\n",
    "2. Топ с наибольшем разбросом цен мы также составили из 19 категорий, так как представленные отклонения больше стандартного отклонения по всему столбцу, однако пересечения с первым топом есть только у трех категорий:\n",
    "\n",
    "``` \n",
    "   category\tprice_median\t      price_std\n",
    "18\tmanufacturing\t15650000.00\t  197019525.17\n",
    "15\thospitality\t11250000.00\t      187219682.01\n",
    "3\tbiotech\t2550000.00\t          169375277.48\n",
    "\n",
    "```\n",
    "\n",
    "Как мы видим есть пересечния с первым топом, это категории : manufacturing, hospitality, biotech. Что может говорить о том, что цена за стартап в данных категориях имеет большой разброс от низких до огромных вложений, это касается и других категорий данного топа, так как медиана их цены - 0, что говорит о значительных выбросах в категориях, когда один стартап условно продан за 0, а другой за н число млрд.\n",
    "\n",
    "   "
   ]
  },
  {
   "cell_type": "markdown",
   "metadata": {
    "id": "ADOfyVY_rJg3"
   },
   "source": [
    "\n",
    "### 3.5. Сколько раундов продержится стартап перед покупкой\n",
    "\n",
    "- Необходимо проанализировать столбец `funding_rounds`. Исследуйте значения столбца. Заказчика интересует типичное значение количества раундов для каждого возможного статуса стартапа.\n",
    "- Постройте график, который отображает, сколько в среднем раундов финансирования проходило для стартапов из каждой группы. Сделайте выводы."
   ]
  },
  {
   "cell_type": "code",
   "execution_count": 107,
   "metadata": {
    "id": "hgXMPC4WrJg3",
    "vscode": {
     "languageId": "plaintext"
    }
   },
   "outputs": [
    {
     "data": {
      "text/plain": [
       "status\n",
       "acquired    0.53\n",
       "closed      1.38\n",
       "operating   1.52\n",
       "ipo         1.93\n",
       "Name: funding_rounds, dtype: float64"
      ]
     },
     "metadata": {},
     "output_type": "display_data"
    }
   ],
   "source": [
    "# рассчитываем типичное количество раундов для каждого статуса стартапа \n",
    "grouped_status = df.groupby('status')['funding_rounds'].mean().sort_values()\n",
    "display (grouped_status)"
   ]
  },
  {
   "cell_type": "code",
   "execution_count": 108,
   "metadata": {
    "id": "pV3e7kw5Fj1Y",
    "scrolled": false
   },
   "outputs": [
    {
     "data": {
      "image/png": "[encoded data removed]",
      "text/plain": [
       "<Figure size 864x720 with 1 Axes>"
      ]
     },
     "metadata": {
      "needs_background": "light"
     },
     "output_type": "display_data"
    }
   ],
   "source": [
    "# Построим график, который визуализирует результаты\n",
    "grouped_status.plot(kind='bar',\n",
    "               title='Типичное значение количества раундов для каждого статуса стартапа',\n",
    "               legend=False,\n",
    "               ylabel='Кол-во раундов',\n",
    "               xlabel='Статус стартапа',\n",
    "               rot=0,\n",
    "               figsize=(12, 10));"
   ]
  },
  {
   "cell_type": "markdown",
   "metadata": {},
   "source": [
    "В данных видна связь между статусом стартапа и средний кол-вом пройденных раундов финасирования\n",
    "\n",
    "acquired, то есть купленные стартапы прошли в среднем меньше одного этапа финасирования, что говорит о их перспективности, так как выгодно купить стартап до того, как он успел масштабироваться\n",
    "\n",
    "closed, то есть стартапы, который закрылись и не выдержали конкуренции на рынке успевают пройти примерно 1 этап финансирования   \n",
    "\n",
    "operating, то есть те стартапы, которые продолжают существовать и развиваться прошли примерно 1.5 раунда финансирования, они масштабируются, но еще не достигли конечной точки \n",
    "\n",
    "ipo или стартапы, который вышли на биржу они в среднем прошли 2 этапа финансирования.\n",
    "\n",
    "Данные показывают, что перспективные стартапы покупают практически сразу, остальные должны пройти примерно 2 эатапа финансирования, чтобы выйти на биржу. "
   ]
  },
  {
   "cell_type": "markdown",
   "metadata": {
    "id": "VAFEZ2HBrJg3"
   },
   "source": [
    "\n",
    "## Шаг 4. Итоговый вывод и рекомендации\n",
    "\n",
    "Опишите, что было сделано в проекте, какие были сделаны выводы, подкрепляют ли они друг друга или заставляют сомневаться в полученных результатах."
   ]
  },
  {
   "cell_type": "markdown",
   "metadata": {},
   "source": [
    "В ходе работы были выполнены все поставленные задачи:\n",
    "\n",
    "-**Было осуществлено знакомство с данными и была проведена их оценка**\n",
    "\n",
    "-**Данные были проверены на корректность. Найдены ошибки в написании столбцов, столбцы приведены к типу snake_case. В каждой таблице найдены пропуски в значительном количество, однако для целей данного исследования представленных данных достаточно**\n",
    "\n",
    "-**Была проведена предобработка данных и предварительное исследование, в ходе которого было сделано следубщее:**\n",
    "1. Была выявлена тенденции на увелечение количества старатапов, нуждающихся в финансировании, но при этом на уменьшение суммы этого финансирования, что создает большую конкуренцию среди стартапов.\n",
    "2. Были выявлены значительные показатели отсутствия образования у сотрудников стартапов (около 20%), но у микропредприятий(1 сотрудник) самый низкий показатель, возможно, потому что сотрудниками таких старатапов в основном являются их основатели, которые с большей вероятностью имеют оконченное образование.\n",
    "3. При анализе таблицы df_degrees на возможность присоединения её к объединенному датафрейму df_people_education, такая возможности выявлена, но перед присоединением этого датасета стоит привести столбец к типу данных int64 и удалить из записи лишние символы.\n",
    "4. Как мы видим столбец network_username присутствует в двух датасетах - df_company_and_rounds и df_people. При проверке этих датасетов видно, что связь между одинаково названными столбцами минимальна, процент пересечния уникальных значений всего 2%, для объединение датасетов по данным столбцам данных не достаточно.\n",
    "5. Для удобства заказчика датасет company_and_rounds был преобразован в два: company_info и funding_info, что позволило сохранить данные и привести их к более удобному формату\n",
    "\n",
    "-**Были получены ответы на все представленные в ходе исследования вопросы**:\n",
    "1. Был создан датасет путём объединения company_info и df_acquisition, чтобы отобрать компании, которые меняли или готовы менять владельцев. Датасет был отфильтрован по требуемым условиям для дальнейшей работы. В результирующей таблиц получилось 40890 компаний.\n",
    "2. На основе полученного датасета при анализе суммы финансирования стартапов видна неоднородность в данных и длинный правый ус, что говорит о сильной ассиметрии в распределении данных. Среднее значение значительно больше медианы, что говорит о аномально высоком финансировании некоторых компаний. Из-за выбросов среднее не отражает типичный случай, поэтому для этой цели стоит использовать медиану равную 600 000, то есть 50% значений находятся ниже ее и 50% выше 25% компаний имеют финансирование 0, возможно это стартапы, которые держутся на \"идее\".\n",
    "3. Был проведен анализ фирм купленых за 0 или 1 доллар. Это 1618 фирм - это фирмы проданные \"за бесплатно\", но при этом имеющие финансирование. При рассчете нижних и верхних границ выбросов на основе столбца funding_total, видно, что аномально низких значений в данных нет, что касается верхней границе выбросов, то оно принимает значение 35 750 000, что является примерно 91 процентилем.\n",
    "4. Данные были сгруппированы по категориям стартапов и была рассчитан типичная сумма покупки стартапа и типичное стандартное отклонение. В топе с типично высокими ценами за стартап мы использовали для расчета медиану, так как среднее значение не может представлять типичную картину из-за значительных выбросов. В данный топ попали наиболее востребованные направления, в которых присутствуют деньги (нанотех, производство, недвижиность и т.д.).Топ с наибольшем разбросом цен мы  сосnавили из 19 категорий, так как представленные отклонения больше стандартного отклонения по всему столбцу. Видно пересечение в двух топах, это категории : manufacturing, hospitality, biotech. Что может говорить о том, что цена за стартап в данных категориях имеет большой разброс от низких до огромных вложений.\n",
    "5. Также мы обнаружили связь между статусом стартапа и средним количество раундов финансирования. Данные показывают, что перспективные стартапы покупают практически сразу, остальные должны пройти примерно 2 эатапа финансирования, чтобы выйти на биржу.\n",
    "\n",
    "В целом можно сказать, что в данных видна неоднородность, так как присутствуют большие выбросы почти во всех значениях, однако это специфика направления дестельности, в которой есть большой разброс предприятий, их продукции и методов, поэтому следует аккуратно заходить на данные рынок и выбирать наиболее доступные и перспективные направления "
   ]
  },
  {
   "cell_type": "code",
   "execution_count": null,
   "metadata": {},
   "outputs": [],
   "source": []
  }
 ],
 "metadata": {
  "ExecuteTimeLog": [
   {
    "duration": 4901,
    "start_time": "2025-03-25T11:04:38.841Z"
   },
   {
    "duration": 103,
    "start_time": "2025-03-25T11:05:29.980Z"
   },
   {
    "duration": 9,
    "start_time": "2025-03-25T11:08:18.590Z"
   },
   {
    "duration": 9,
    "start_time": "2025-03-25T11:08:36.911Z"
   },
   {
    "duration": 57,
    "start_time": "2025-03-25T11:11:33.455Z"
   },
   {
    "duration": 91,
    "start_time": "2025-03-25T11:12:28.665Z"
   },
   {
    "duration": 57,
    "start_time": "2025-03-25T11:14:07.650Z"
   },
   {
    "duration": 59,
    "start_time": "2025-03-25T11:14:23.877Z"
   },
   {
    "duration": 2361,
    "start_time": "2025-03-25T11:15:06.616Z"
   },
   {
    "duration": 54,
    "start_time": "2025-03-25T11:15:37.951Z"
   },
   {
    "duration": 47,
    "start_time": "2025-03-25T11:15:52.446Z"
   },
   {
    "duration": 77,
    "start_time": "2025-03-25T11:16:52.403Z"
   },
   {
    "duration": 68,
    "start_time": "2025-03-25T11:17:01.965Z"
   },
   {
    "duration": 13,
    "start_time": "2025-03-25T11:17:22.370Z"
   },
   {
    "duration": 13,
    "start_time": "2025-03-25T11:17:39.569Z"
   },
   {
    "duration": 91,
    "start_time": "2025-03-25T11:19:47.241Z"
   },
   {
    "duration": 11,
    "start_time": "2025-03-25T11:19:47.718Z"
   },
   {
    "duration": 8,
    "start_time": "2025-03-25T11:19:48.240Z"
   },
   {
    "duration": 3,
    "start_time": "2025-03-25T11:20:00.033Z"
   },
   {
    "duration": 48,
    "start_time": "2025-03-25T11:20:06.186Z"
   },
   {
    "duration": 1232,
    "start_time": "2025-03-25T11:20:43.571Z"
   },
   {
    "duration": 98,
    "start_time": "2025-03-25T11:21:01.207Z"
   },
   {
    "duration": 24,
    "start_time": "2025-03-25T11:21:30.256Z"
   },
   {
    "duration": 3,
    "start_time": "2025-03-25T11:22:16.712Z"
   },
   {
    "duration": 353,
    "start_time": "2025-03-25T11:22:47.159Z"
   },
   {
    "duration": 67,
    "start_time": "2025-03-25T11:22:58.771Z"
   },
   {
    "duration": 9,
    "start_time": "2025-03-25T11:23:09.572Z"
   },
   {
    "duration": 2,
    "start_time": "2025-03-25T11:23:46.304Z"
   },
   {
    "duration": 586,
    "start_time": "2025-03-25T11:24:13.104Z"
   },
   {
    "duration": 33,
    "start_time": "2025-03-25T11:24:26.890Z"
   },
   {
    "duration": 12,
    "start_time": "2025-03-25T11:24:34.005Z"
   },
   {
    "duration": 267,
    "start_time": "2025-03-25T11:25:24.635Z"
   },
   {
    "duration": 23,
    "start_time": "2025-03-25T11:25:38.365Z"
   },
   {
    "duration": 8,
    "start_time": "2025-03-25T11:25:45.575Z"
   },
   {
    "duration": 4,
    "start_time": "2025-03-26T12:22:20.762Z"
   },
   {
    "duration": 2,
    "start_time": "2025-03-26T12:22:21.210Z"
   },
   {
    "duration": 56,
    "start_time": "2025-03-26T12:22:21.656Z"
   },
   {
    "duration": 4728,
    "start_time": "2025-03-26T12:22:26.160Z"
   },
   {
    "duration": 62,
    "start_time": "2025-03-26T12:22:30.891Z"
   },
   {
    "duration": 15,
    "start_time": "2025-03-26T12:22:30.956Z"
   },
   {
    "duration": 31,
    "start_time": "2025-03-26T12:22:30.973Z"
   },
   {
    "duration": 10,
    "start_time": "2025-03-26T12:22:31.005Z"
   },
   {
    "duration": 14,
    "start_time": "2025-03-26T12:22:31.017Z"
   },
   {
    "duration": 1588,
    "start_time": "2025-03-26T12:22:31.032Z"
   },
   {
    "duration": 99,
    "start_time": "2025-03-26T12:22:32.622Z"
   },
   {
    "duration": 27,
    "start_time": "2025-03-26T12:22:32.722Z"
   },
   {
    "duration": 49,
    "start_time": "2025-03-26T12:22:32.751Z"
   },
   {
    "duration": 340,
    "start_time": "2025-03-26T12:22:32.802Z"
   },
   {
    "duration": 38,
    "start_time": "2025-03-26T12:22:33.144Z"
   },
   {
    "duration": 23,
    "start_time": "2025-03-26T12:22:33.184Z"
   },
   {
    "duration": 3,
    "start_time": "2025-03-26T12:22:33.208Z"
   },
   {
    "duration": 212,
    "start_time": "2025-03-26T12:22:33.213Z"
   },
   {
    "duration": 19,
    "start_time": "2025-03-26T12:22:33.427Z"
   },
   {
    "duration": 21,
    "start_time": "2025-03-26T12:22:33.447Z"
   },
   {
    "duration": 22,
    "start_time": "2025-03-26T12:22:33.470Z"
   },
   {
    "duration": 164,
    "start_time": "2025-03-26T12:22:33.837Z"
   },
   {
    "duration": 24,
    "start_time": "2025-03-26T12:22:34.054Z"
   },
   {
    "duration": 8,
    "start_time": "2025-03-26T12:22:34.250Z"
   },
   {
    "duration": 34,
    "start_time": "2025-03-26T12:31:46.647Z"
   },
   {
    "duration": 21,
    "start_time": "2025-03-26T12:32:04.086Z"
   },
   {
    "duration": 33,
    "start_time": "2025-03-26T12:32:08.964Z"
   },
   {
    "duration": 23,
    "start_time": "2025-03-26T12:32:26.845Z"
   },
   {
    "duration": 2,
    "start_time": "2025-03-26T12:32:58.105Z"
   },
   {
    "duration": 33,
    "start_time": "2025-03-26T12:35:18.929Z"
   },
   {
    "duration": 23,
    "start_time": "2025-03-26T12:35:36.190Z"
   },
   {
    "duration": 447,
    "start_time": "2025-03-26T12:49:13.063Z"
   },
   {
    "duration": 66,
    "start_time": "2025-03-26T12:52:55.846Z"
   },
   {
    "duration": 68,
    "start_time": "2025-03-26T12:53:02.373Z"
   },
   {
    "duration": 66,
    "start_time": "2025-03-26T12:53:15.204Z"
   },
   {
    "duration": 2495,
    "start_time": "2025-03-26T12:53:18.995Z"
   },
   {
    "duration": 287,
    "start_time": "2025-03-26T12:53:21.492Z"
   },
   {
    "duration": 11,
    "start_time": "2025-03-26T12:53:21.780Z"
   },
   {
    "duration": 8,
    "start_time": "2025-03-26T12:53:21.793Z"
   },
   {
    "duration": 3,
    "start_time": "2025-03-26T12:53:21.803Z"
   },
   {
    "duration": 11,
    "start_time": "2025-03-26T12:53:21.808Z"
   },
   {
    "duration": 1122,
    "start_time": "2025-03-26T12:53:21.820Z"
   },
   {
    "duration": 100,
    "start_time": "2025-03-26T12:53:22.944Z"
   },
   {
    "duration": 22,
    "start_time": "2025-03-26T12:53:23.046Z"
   },
   {
    "duration": 2,
    "start_time": "2025-03-26T12:53:23.070Z"
   },
   {
    "duration": 85,
    "start_time": "2025-03-26T12:53:23.074Z"
   },
   {
    "duration": 2,
    "start_time": "2025-03-26T12:53:23.161Z"
   },
   {
    "duration": 359,
    "start_time": "2025-03-26T12:53:23.164Z"
   },
   {
    "duration": 38,
    "start_time": "2025-03-26T12:53:23.525Z"
   },
   {
    "duration": 9,
    "start_time": "2025-03-26T12:53:25.067Z"
   },
   {
    "duration": 3,
    "start_time": "2025-03-26T12:53:25.880Z"
   },
   {
    "duration": 825,
    "start_time": "2025-03-26T12:53:26.277Z"
   },
   {
    "duration": 29,
    "start_time": "2025-03-26T12:53:27.260Z"
   },
   {
    "duration": 8,
    "start_time": "2025-03-26T12:53:29.190Z"
   },
   {
    "duration": 5,
    "start_time": "2025-03-26T12:53:29.526Z"
   },
   {
    "duration": 427,
    "start_time": "2025-03-26T12:53:29.896Z"
   },
   {
    "duration": 23,
    "start_time": "2025-03-26T12:53:30.408Z"
   },
   {
    "duration": 8,
    "start_time": "2025-03-26T12:53:30.820Z"
   },
   {
    "duration": 70,
    "start_time": "2025-03-26T12:55:36.731Z"
   },
   {
    "duration": 438,
    "start_time": "2025-03-26T12:55:47.443Z"
   },
   {
    "duration": 5,
    "start_time": "2025-03-26T13:03:01.365Z"
   },
   {
    "duration": 9,
    "start_time": "2025-03-26T13:04:03.084Z"
   },
   {
    "duration": 9,
    "start_time": "2025-03-26T13:04:16.043Z"
   },
   {
    "duration": 5,
    "start_time": "2025-03-26T13:04:19.891Z"
   },
   {
    "duration": 85,
    "start_time": "2025-03-26T13:05:17.121Z"
   },
   {
    "duration": 43,
    "start_time": "2025-03-26T13:06:12.491Z"
   },
   {
    "duration": 101,
    "start_time": "2025-03-26T13:09:30.779Z"
   },
   {
    "duration": 3,
    "start_time": "2025-03-26T13:11:08.495Z"
   },
   {
    "duration": 2,
    "start_time": "2025-03-26T13:11:10.529Z"
   },
   {
    "duration": 581,
    "start_time": "2025-03-26T13:11:10.921Z"
   },
   {
    "duration": 23,
    "start_time": "2025-03-26T13:11:13.413Z"
   },
   {
    "duration": 8,
    "start_time": "2025-03-26T13:11:13.999Z"
   },
   {
    "duration": 10,
    "start_time": "2025-03-26T13:35:12.643Z"
   },
   {
    "duration": 14,
    "start_time": "2025-03-26T13:36:36.746Z"
   },
   {
    "duration": 12,
    "start_time": "2025-03-26T13:37:57.471Z"
   },
   {
    "duration": 15,
    "start_time": "2025-03-26T13:38:01.766Z"
   },
   {
    "duration": 19,
    "start_time": "2025-03-26T13:38:24.450Z"
   },
   {
    "duration": 8,
    "start_time": "2025-03-26T13:38:35.509Z"
   },
   {
    "duration": 12,
    "start_time": "2025-03-26T13:38:41.442Z"
   },
   {
    "duration": 17,
    "start_time": "2025-03-26T13:38:47.359Z"
   },
   {
    "duration": 5,
    "start_time": "2025-03-26T13:38:50.717Z"
   },
   {
    "duration": 11,
    "start_time": "2025-03-26T13:38:59.231Z"
   },
   {
    "duration": 2,
    "start_time": "2025-03-26T13:41:16.525Z"
   },
   {
    "duration": 16,
    "start_time": "2025-03-26T13:41:16.529Z"
   },
   {
    "duration": 12,
    "start_time": "2025-03-26T13:41:17.125Z"
   },
   {
    "duration": 9,
    "start_time": "2025-03-26T13:41:18.687Z"
   },
   {
    "duration": 2,
    "start_time": "2025-03-26T13:46:29.981Z"
   },
   {
    "duration": 11,
    "start_time": "2025-03-26T13:46:30.519Z"
   },
   {
    "duration": 2,
    "start_time": "2025-03-26T13:46:31.078Z"
   },
   {
    "duration": 3,
    "start_time": "2025-03-26T13:46:32.564Z"
   },
   {
    "duration": 11,
    "start_time": "2025-03-26T13:46:32.763Z"
   },
   {
    "duration": 8,
    "start_time": "2025-03-26T13:46:32.929Z"
   },
   {
    "duration": 120,
    "start_time": "2025-03-26T13:52:04.170Z"
   },
   {
    "duration": 43,
    "start_time": "2025-03-26T13:56:38.565Z"
   },
   {
    "duration": 148,
    "start_time": "2025-03-26T13:56:45.109Z"
   },
   {
    "duration": 72,
    "start_time": "2025-03-26T13:56:57.345Z"
   },
   {
    "duration": 2,
    "start_time": "2025-03-26T14:06:06.657Z"
   },
   {
    "duration": 21,
    "start_time": "2025-03-26T14:06:20.915Z"
   },
   {
    "duration": 20,
    "start_time": "2025-03-26T14:08:34.111Z"
   },
   {
    "duration": 15,
    "start_time": "2025-03-26T14:08:41.295Z"
   },
   {
    "duration": 6,
    "start_time": "2025-03-26T14:16:46.502Z"
   },
   {
    "duration": 13,
    "start_time": "2025-03-26T14:17:34.728Z"
   },
   {
    "duration": 11,
    "start_time": "2025-03-26T14:17:40.033Z"
   },
   {
    "duration": 11,
    "start_time": "2025-03-26T14:17:44.600Z"
   },
   {
    "duration": 10,
    "start_time": "2025-03-26T14:17:52.477Z"
   },
   {
    "duration": 31,
    "start_time": "2025-03-26T14:22:02.642Z"
   },
   {
    "duration": 7,
    "start_time": "2025-03-26T14:22:24.436Z"
   },
   {
    "duration": 7,
    "start_time": "2025-03-26T14:22:37.933Z"
   },
   {
    "duration": 6,
    "start_time": "2025-03-26T14:22:45.211Z"
   },
   {
    "duration": 10,
    "start_time": "2025-03-26T14:23:08.593Z"
   },
   {
    "duration": 8,
    "start_time": "2025-03-26T14:23:14.941Z"
   },
   {
    "duration": 2,
    "start_time": "2025-03-26T14:31:41.556Z"
   },
   {
    "duration": 69,
    "start_time": "2025-03-26T14:32:02.084Z"
   },
   {
    "duration": 68,
    "start_time": "2025-03-26T14:32:54.907Z"
   },
   {
    "duration": 3,
    "start_time": "2025-03-26T14:33:49.130Z"
   },
   {
    "duration": 35,
    "start_time": "2025-03-26T14:34:34.955Z"
   },
   {
    "duration": 33,
    "start_time": "2025-03-26T14:35:06.582Z"
   },
   {
    "duration": 3,
    "start_time": "2025-03-26T14:36:00.447Z"
   },
   {
    "duration": 10,
    "start_time": "2025-03-26T14:36:48.220Z"
   },
   {
    "duration": 12,
    "start_time": "2025-03-26T14:37:30.350Z"
   },
   {
    "duration": 2,
    "start_time": "2025-03-26T14:38:47.690Z"
   },
   {
    "duration": 20,
    "start_time": "2025-03-26T14:39:11.162Z"
   },
   {
    "duration": 19,
    "start_time": "2025-03-26T14:39:35.423Z"
   },
   {
    "duration": 3,
    "start_time": "2025-03-26T14:40:29.718Z"
   },
   {
    "duration": 2294,
    "start_time": "2025-03-26T15:43:06.875Z"
   },
   {
    "duration": 70,
    "start_time": "2025-03-26T15:43:09.172Z"
   },
   {
    "duration": 11,
    "start_time": "2025-03-26T15:43:09.243Z"
   },
   {
    "duration": 8,
    "start_time": "2025-03-26T15:43:09.256Z"
   },
   {
    "duration": 6,
    "start_time": "2025-03-26T15:43:09.265Z"
   },
   {
    "duration": 2,
    "start_time": "2025-03-26T15:43:09.272Z"
   },
   {
    "duration": 1077,
    "start_time": "2025-03-26T15:43:09.276Z"
   },
   {
    "duration": 98,
    "start_time": "2025-03-26T15:43:10.355Z"
   },
   {
    "duration": 21,
    "start_time": "2025-03-26T15:43:10.455Z"
   },
   {
    "duration": 28,
    "start_time": "2025-03-26T15:43:10.478Z"
   },
   {
    "duration": 34,
    "start_time": "2025-03-26T15:43:10.507Z"
   },
   {
    "duration": 107,
    "start_time": "2025-03-26T15:43:10.542Z"
   },
   {
    "duration": 2,
    "start_time": "2025-03-26T15:43:10.651Z"
   },
   {
    "duration": 492,
    "start_time": "2025-03-26T15:43:10.654Z"
   },
   {
    "duration": 37,
    "start_time": "2025-03-26T15:43:11.148Z"
   },
   {
    "duration": 20,
    "start_time": "2025-03-26T15:43:11.187Z"
   },
   {
    "duration": 27,
    "start_time": "2025-03-26T15:43:11.208Z"
   },
   {
    "duration": 3,
    "start_time": "2025-03-26T15:43:11.236Z"
   },
   {
    "duration": 311,
    "start_time": "2025-03-26T15:43:11.240Z"
   },
   {
    "duration": 18,
    "start_time": "2025-03-26T15:43:11.553Z"
   },
   {
    "duration": 7,
    "start_time": "2025-03-26T15:43:11.572Z"
   },
   {
    "duration": 4,
    "start_time": "2025-03-26T15:43:11.580Z"
   },
   {
    "duration": 21,
    "start_time": "2025-03-26T15:43:11.586Z"
   },
   {
    "duration": 370,
    "start_time": "2025-03-26T15:43:11.609Z"
   },
   {
    "duration": 27,
    "start_time": "2025-03-26T15:43:11.981Z"
   },
   {
    "duration": 7,
    "start_time": "2025-03-26T15:43:12.009Z"
   },
   {
    "duration": 2,
    "start_time": "2025-03-26T15:43:12.020Z"
   },
   {
    "duration": 3,
    "start_time": "2025-03-26T15:43:12.023Z"
   },
   {
    "duration": 10,
    "start_time": "2025-03-26T15:43:12.027Z"
   },
   {
    "duration": 1,
    "start_time": "2025-03-26T15:43:12.039Z"
   },
   {
    "duration": 13,
    "start_time": "2025-03-26T15:43:12.042Z"
   },
   {
    "duration": 8,
    "start_time": "2025-03-26T15:43:12.057Z"
   },
   {
    "duration": 13,
    "start_time": "2025-03-26T15:43:12.066Z"
   },
   {
    "duration": 28,
    "start_time": "2025-03-26T15:43:12.081Z"
   },
   {
    "duration": 102,
    "start_time": "2025-03-26T15:43:12.111Z"
   },
   {
    "duration": 3,
    "start_time": "2025-03-26T15:43:12.215Z"
   },
   {
    "duration": 162,
    "start_time": "2025-03-26T15:43:12.220Z"
   },
   {
    "duration": 84,
    "start_time": "2025-03-26T15:43:12.384Z"
   },
   {
    "duration": 2,
    "start_time": "2025-03-26T15:43:12.470Z"
   },
   {
    "duration": 20,
    "start_time": "2025-03-26T15:43:12.474Z"
   },
   {
    "duration": 27,
    "start_time": "2025-03-26T15:43:12.496Z"
   },
   {
    "duration": 15,
    "start_time": "2025-03-26T15:43:12.525Z"
   },
   {
    "duration": 4,
    "start_time": "2025-03-26T15:43:12.541Z"
   },
   {
    "duration": 22,
    "start_time": "2025-03-26T15:43:12.547Z"
   },
   {
    "duration": 6,
    "start_time": "2025-03-26T15:43:12.571Z"
   },
   {
    "duration": 3,
    "start_time": "2025-03-26T15:43:12.578Z"
   },
   {
    "duration": 76,
    "start_time": "2025-03-26T15:43:12.582Z"
   },
   {
    "duration": 76,
    "start_time": "2025-03-26T15:43:12.659Z"
   },
   {
    "duration": 2,
    "start_time": "2025-03-26T15:43:12.736Z"
   },
   {
    "duration": 54,
    "start_time": "2025-03-26T15:43:12.740Z"
   },
   {
    "duration": 32,
    "start_time": "2025-03-26T15:43:12.796Z"
   },
   {
    "duration": 5,
    "start_time": "2025-03-26T15:43:12.830Z"
   },
   {
    "duration": 12,
    "start_time": "2025-03-26T15:43:12.836Z"
   },
   {
    "duration": 14,
    "start_time": "2025-03-26T15:43:12.849Z"
   },
   {
    "duration": 2,
    "start_time": "2025-03-26T15:43:12.865Z"
   },
   {
    "duration": 21,
    "start_time": "2025-03-26T15:43:12.869Z"
   },
   {
    "duration": 36,
    "start_time": "2025-03-26T15:43:12.891Z"
   },
   {
    "duration": 2,
    "start_time": "2025-03-26T15:43:12.928Z"
   },
   {
    "duration": 2205,
    "start_time": "2025-03-26T15:58:58.530Z"
   },
   {
    "duration": 1981,
    "start_time": "2025-03-26T16:00:21.932Z"
   },
   {
    "duration": 85,
    "start_time": "2025-03-26T16:00:58.900Z"
   },
   {
    "duration": 150,
    "start_time": "2025-03-26T16:01:16.226Z"
   },
   {
    "duration": 101,
    "start_time": "2025-03-26T16:01:23.764Z"
   },
   {
    "duration": 18,
    "start_time": "2025-03-26T16:03:03.612Z"
   },
   {
    "duration": 29,
    "start_time": "2025-03-26T16:03:41.766Z"
   },
   {
    "duration": 22,
    "start_time": "2025-03-26T16:03:53.237Z"
   },
   {
    "duration": 2360,
    "start_time": "2025-03-26T16:03:58.527Z"
   },
   {
    "duration": 62,
    "start_time": "2025-03-26T16:04:00.890Z"
   },
   {
    "duration": 12,
    "start_time": "2025-03-26T16:04:00.954Z"
   },
   {
    "duration": 20,
    "start_time": "2025-03-26T16:04:00.969Z"
   },
   {
    "duration": 4,
    "start_time": "2025-03-26T16:04:00.991Z"
   },
   {
    "duration": 18,
    "start_time": "2025-03-26T16:04:00.997Z"
   },
   {
    "duration": 1445,
    "start_time": "2025-03-26T16:04:01.017Z"
   },
   {
    "duration": 100,
    "start_time": "2025-03-26T16:04:02.464Z"
   },
   {
    "duration": 22,
    "start_time": "2025-03-26T16:04:02.566Z"
   },
   {
    "duration": 26,
    "start_time": "2025-03-26T16:04:02.589Z"
   },
   {
    "duration": 53,
    "start_time": "2025-03-26T16:04:02.617Z"
   },
   {
    "duration": 90,
    "start_time": "2025-03-26T16:04:06.697Z"
   },
   {
    "duration": 2,
    "start_time": "2025-03-26T16:04:07.223Z"
   },
   {
    "duration": 417,
    "start_time": "2025-03-26T16:04:07.451Z"
   },
   {
    "duration": 44,
    "start_time": "2025-03-26T16:04:07.870Z"
   },
   {
    "duration": 32,
    "start_time": "2025-03-26T16:04:07.916Z"
   },
   {
    "duration": 10,
    "start_time": "2025-03-26T16:04:08.023Z"
   },
   {
    "duration": 3,
    "start_time": "2025-03-26T16:04:08.528Z"
   },
   {
    "duration": 560,
    "start_time": "2025-03-26T16:04:08.981Z"
   },
   {
    "duration": 19,
    "start_time": "2025-03-26T16:04:09.543Z"
   },
   {
    "duration": 8,
    "start_time": "2025-03-26T16:04:10.160Z"
   },
   {
    "duration": 2,
    "start_time": "2025-03-26T16:04:10.904Z"
   },
   {
    "duration": 3,
    "start_time": "2025-03-26T16:04:11.325Z"
   },
   {
    "duration": 178,
    "start_time": "2025-03-26T16:04:11.743Z"
   },
   {
    "duration": 22,
    "start_time": "2025-03-26T16:04:12.516Z"
   },
   {
    "duration": 7,
    "start_time": "2025-03-26T16:04:12.997Z"
   },
   {
    "duration": 2,
    "start_time": "2025-03-26T16:04:13.867Z"
   },
   {
    "duration": 3,
    "start_time": "2025-03-26T16:04:14.931Z"
   },
   {
    "duration": 12,
    "start_time": "2025-03-26T16:04:15.216Z"
   },
   {
    "duration": 3,
    "start_time": "2025-03-26T16:04:15.728Z"
   },
   {
    "duration": 7,
    "start_time": "2025-03-26T16:04:16.140Z"
   },
   {
    "duration": 11,
    "start_time": "2025-03-26T16:04:16.749Z"
   },
   {
    "duration": 8,
    "start_time": "2025-03-26T16:04:17.212Z"
   },
   {
    "duration": 2,
    "start_time": "2025-03-26T16:04:17.652Z"
   },
   {
    "duration": 91,
    "start_time": "2025-03-26T16:04:18.273Z"
   },
   {
    "duration": 2,
    "start_time": "2025-03-26T16:04:18.942Z"
   },
   {
    "duration": 1478,
    "start_time": "2025-03-26T16:04:20.133Z"
   },
   {
    "duration": 0,
    "start_time": "2025-03-26T16:04:21.613Z"
   },
   {
    "duration": 0,
    "start_time": "2025-03-26T16:04:21.614Z"
   },
   {
    "duration": 18,
    "start_time": "2025-03-26T16:04:21.642Z"
   },
   {
    "duration": 131,
    "start_time": "2025-03-26T16:04:32.587Z"
   },
   {
    "duration": 70,
    "start_time": "2025-03-26T16:04:34.137Z"
   },
   {
    "duration": 2,
    "start_time": "2025-03-26T16:04:36.231Z"
   },
   {
    "duration": 18,
    "start_time": "2025-03-26T16:04:36.728Z"
   },
   {
    "duration": 19,
    "start_time": "2025-03-26T16:04:39.296Z"
   },
   {
    "duration": 15,
    "start_time": "2025-03-26T16:04:39.949Z"
   },
   {
    "duration": 2,
    "start_time": "2025-03-26T16:04:40.380Z"
   },
   {
    "duration": 6,
    "start_time": "2025-03-26T16:04:40.624Z"
   },
   {
    "duration": 7,
    "start_time": "2025-03-26T16:04:41.170Z"
   },
   {
    "duration": 2,
    "start_time": "2025-03-26T16:04:41.625Z"
   },
   {
    "duration": 68,
    "start_time": "2025-03-26T16:04:42.221Z"
   },
   {
    "duration": 68,
    "start_time": "2025-03-26T16:04:43.457Z"
   },
   {
    "duration": 2,
    "start_time": "2025-03-26T16:04:43.925Z"
   },
   {
    "duration": 34,
    "start_time": "2025-03-26T16:04:44.555Z"
   },
   {
    "duration": 35,
    "start_time": "2025-03-26T16:04:44.975Z"
   },
   {
    "duration": 2,
    "start_time": "2025-03-26T16:04:45.505Z"
   },
   {
    "duration": 11,
    "start_time": "2025-03-26T16:04:46.073Z"
   },
   {
    "duration": 12,
    "start_time": "2025-03-26T16:04:46.509Z"
   },
   {
    "duration": 3,
    "start_time": "2025-03-26T16:04:46.952Z"
   },
   {
    "duration": 19,
    "start_time": "2025-03-26T16:04:47.503Z"
   },
   {
    "duration": 20,
    "start_time": "2025-03-26T16:04:47.891Z"
   },
   {
    "duration": 2,
    "start_time": "2025-03-26T16:04:48.419Z"
   },
   {
    "duration": 100,
    "start_time": "2025-03-26T16:04:55.743Z"
   },
   {
    "duration": 8,
    "start_time": "2025-03-26T16:08:39.198Z"
   },
   {
    "duration": 46,
    "start_time": "2025-03-26T16:08:48.826Z"
   },
   {
    "duration": 17,
    "start_time": "2025-03-26T16:09:24.487Z"
   },
   {
    "duration": 33,
    "start_time": "2025-03-26T16:09:30.879Z"
   },
   {
    "duration": 20,
    "start_time": "2025-03-26T16:10:23.945Z"
   },
   {
    "duration": 30,
    "start_time": "2025-03-26T16:10:38.989Z"
   },
   {
    "duration": 6,
    "start_time": "2025-03-26T16:17:39.250Z"
   },
   {
    "duration": 1449,
    "start_time": "2025-03-26T16:17:52.902Z"
   },
   {
    "duration": 1644,
    "start_time": "2025-03-26T16:18:03.338Z"
   },
   {
    "duration": 1535,
    "start_time": "2025-03-26T16:18:11.004Z"
   },
   {
    "duration": 27,
    "start_time": "2025-03-26T16:18:40.385Z"
   },
   {
    "duration": 28,
    "start_time": "2025-03-26T16:18:47.763Z"
   },
   {
    "duration": 1831,
    "start_time": "2025-03-26T16:18:54.231Z"
   },
   {
    "duration": 523,
    "start_time": "2025-03-26T16:21:27.971Z"
   },
   {
    "duration": 10,
    "start_time": "2025-03-26T16:21:53.532Z"
   },
   {
    "duration": 1532,
    "start_time": "2025-03-26T16:22:10.471Z"
   },
   {
    "duration": 6,
    "start_time": "2025-03-26T16:22:24.967Z"
   },
   {
    "duration": 1592,
    "start_time": "2025-03-26T16:24:05.400Z"
   },
   {
    "duration": 1356,
    "start_time": "2025-03-26T16:24:15.329Z"
   },
   {
    "duration": 29,
    "start_time": "2025-03-26T16:25:15.766Z"
   },
   {
    "duration": 36,
    "start_time": "2025-03-26T16:25:25.989Z"
   },
   {
    "duration": 30,
    "start_time": "2025-03-26T16:25:38.650Z"
   },
   {
    "duration": 14,
    "start_time": "2025-03-26T16:25:54.429Z"
   },
   {
    "duration": 11,
    "start_time": "2025-03-26T16:26:01.127Z"
   },
   {
    "duration": 9,
    "start_time": "2025-03-26T16:35:38.105Z"
   },
   {
    "duration": 1427,
    "start_time": "2025-03-26T16:36:32.988Z"
   },
   {
    "duration": 1450,
    "start_time": "2025-03-26T16:39:25.814Z"
   },
   {
    "duration": 9,
    "start_time": "2025-03-26T16:39:46.474Z"
   },
   {
    "duration": 11,
    "start_time": "2025-03-26T16:39:47.317Z"
   },
   {
    "duration": 3,
    "start_time": "2025-03-26T16:39:47.836Z"
   },
   {
    "duration": 196,
    "start_time": "2025-03-26T16:39:48.505Z"
   },
   {
    "duration": 212,
    "start_time": "2025-03-26T16:40:09.393Z"
   },
   {
    "duration": 179,
    "start_time": "2025-03-26T16:40:38.621Z"
   },
   {
    "duration": 83,
    "start_time": "2025-03-26T16:40:56.493Z"
   },
   {
    "duration": 154,
    "start_time": "2025-03-26T16:41:01.460Z"
   },
   {
    "duration": 140,
    "start_time": "2025-03-26T16:43:21.417Z"
   },
   {
    "duration": 172,
    "start_time": "2025-03-26T16:43:44.791Z"
   },
   {
    "duration": 271,
    "start_time": "2025-03-26T16:43:58.062Z"
   },
   {
    "duration": 180,
    "start_time": "2025-03-26T16:44:18.665Z"
   },
   {
    "duration": 93,
    "start_time": "2025-03-26T16:45:03.372Z"
   },
   {
    "duration": 176,
    "start_time": "2025-03-26T16:45:09.236Z"
   },
   {
    "duration": 165,
    "start_time": "2025-03-26T16:45:46.121Z"
   },
   {
    "duration": 4992,
    "start_time": "2025-03-26T18:25:29.483Z"
   },
   {
    "duration": 56,
    "start_time": "2025-03-26T18:25:34.477Z"
   },
   {
    "duration": 13,
    "start_time": "2025-03-26T18:25:34.534Z"
   },
   {
    "duration": 12,
    "start_time": "2025-03-26T18:25:34.548Z"
   },
   {
    "duration": 19,
    "start_time": "2025-03-26T18:25:34.561Z"
   },
   {
    "duration": 3,
    "start_time": "2025-03-26T18:25:34.581Z"
   },
   {
    "duration": 1990,
    "start_time": "2025-03-26T18:25:34.585Z"
   },
   {
    "duration": 106,
    "start_time": "2025-03-26T18:25:36.576Z"
   },
   {
    "duration": 23,
    "start_time": "2025-03-26T18:25:36.684Z"
   },
   {
    "duration": 20,
    "start_time": "2025-03-26T18:25:36.709Z"
   },
   {
    "duration": 45,
    "start_time": "2025-03-26T18:25:36.730Z"
   },
   {
    "duration": 102,
    "start_time": "2025-03-26T18:25:36.777Z"
   },
   {
    "duration": 3,
    "start_time": "2025-03-26T18:25:36.880Z"
   },
   {
    "duration": 375,
    "start_time": "2025-03-26T18:25:36.884Z"
   },
   {
    "duration": 39,
    "start_time": "2025-03-26T18:25:37.261Z"
   },
   {
    "duration": 3,
    "start_time": "2025-03-26T18:25:37.302Z"
   },
   {
    "duration": 8,
    "start_time": "2025-03-26T18:25:37.307Z"
   },
   {
    "duration": 2,
    "start_time": "2025-03-26T18:25:37.317Z"
   },
   {
    "duration": 444,
    "start_time": "2025-03-26T18:25:37.320Z"
   },
   {
    "duration": 20,
    "start_time": "2025-03-26T18:25:37.766Z"
   },
   {
    "duration": 33,
    "start_time": "2025-03-26T18:25:37.787Z"
   },
   {
    "duration": 3,
    "start_time": "2025-03-26T18:25:37.822Z"
   },
   {
    "duration": 3,
    "start_time": "2025-03-26T18:25:37.827Z"
   },
   {
    "duration": 208,
    "start_time": "2025-03-26T18:25:37.831Z"
   },
   {
    "duration": 29,
    "start_time": "2025-03-26T18:25:38.042Z"
   },
   {
    "duration": 7,
    "start_time": "2025-03-26T18:25:38.073Z"
   },
   {
    "duration": 3,
    "start_time": "2025-03-26T18:25:38.082Z"
   },
   {
    "duration": 7,
    "start_time": "2025-03-26T18:25:38.086Z"
   },
   {
    "duration": 11,
    "start_time": "2025-03-26T18:25:38.095Z"
   },
   {
    "duration": 5,
    "start_time": "2025-03-26T18:25:38.353Z"
   },
   {
    "duration": 7,
    "start_time": "2025-03-26T18:25:38.641Z"
   },
   {
    "duration": 12,
    "start_time": "2025-03-26T18:25:38.884Z"
   },
   {
    "duration": 10,
    "start_time": "2025-03-26T18:25:39.164Z"
   },
   {
    "duration": 2,
    "start_time": "2025-03-26T18:25:39.529Z"
   },
   {
    "duration": 101,
    "start_time": "2025-03-26T18:25:39.827Z"
   },
   {
    "duration": 2,
    "start_time": "2025-03-26T18:25:40.184Z"
   },
   {
    "duration": 144,
    "start_time": "2025-03-26T18:25:40.527Z"
   },
   {
    "duration": 79,
    "start_time": "2025-03-26T18:25:40.803Z"
   },
   {
    "duration": 3,
    "start_time": "2025-03-26T18:25:41.092Z"
   },
   {
    "duration": 20,
    "start_time": "2025-03-26T18:25:41.389Z"
   },
   {
    "duration": 21,
    "start_time": "2025-03-26T18:25:41.659Z"
   },
   {
    "duration": 16,
    "start_time": "2025-03-26T18:25:41.923Z"
   },
   {
    "duration": 3,
    "start_time": "2025-03-26T18:25:42.191Z"
   },
   {
    "duration": 6,
    "start_time": "2025-03-26T18:25:42.439Z"
   },
   {
    "duration": 9,
    "start_time": "2025-03-26T18:25:42.705Z"
   },
   {
    "duration": 3,
    "start_time": "2025-03-26T18:25:42.931Z"
   },
   {
    "duration": 70,
    "start_time": "2025-03-26T18:25:43.191Z"
   },
   {
    "duration": 75,
    "start_time": "2025-03-26T18:25:43.401Z"
   },
   {
    "duration": 3,
    "start_time": "2025-03-26T18:25:43.649Z"
   },
   {
    "duration": 34,
    "start_time": "2025-03-26T18:25:43.905Z"
   },
   {
    "duration": 36,
    "start_time": "2025-03-26T18:25:44.187Z"
   },
   {
    "duration": 3,
    "start_time": "2025-03-26T18:25:44.485Z"
   },
   {
    "duration": 11,
    "start_time": "2025-03-26T18:25:44.729Z"
   },
   {
    "duration": 14,
    "start_time": "2025-03-26T18:25:45.034Z"
   },
   {
    "duration": 2,
    "start_time": "2025-03-26T18:25:45.275Z"
   },
   {
    "duration": 20,
    "start_time": "2025-03-26T18:25:45.547Z"
   },
   {
    "duration": 20,
    "start_time": "2025-03-26T18:25:45.819Z"
   },
   {
    "duration": 2,
    "start_time": "2025-03-26T18:25:46.093Z"
   },
   {
    "duration": 108,
    "start_time": "2025-03-26T18:25:47.887Z"
   },
   {
    "duration": 58,
    "start_time": "2025-03-26T18:25:48.541Z"
   },
   {
    "duration": 12,
    "start_time": "2025-03-26T18:25:49.063Z"
   },
   {
    "duration": 11,
    "start_time": "2025-03-26T18:25:49.527Z"
   },
   {
    "duration": 2,
    "start_time": "2025-03-26T18:25:49.981Z"
   },
   {
    "duration": 199,
    "start_time": "2025-03-26T18:25:50.883Z"
   },
   {
    "duration": 63,
    "start_time": "2025-03-26T18:32:43.286Z"
   },
   {
    "duration": 114,
    "start_time": "2025-03-26T18:33:07.415Z"
   },
   {
    "duration": 3677,
    "start_time": "2025-03-26T18:35:14.136Z"
   },
   {
    "duration": 61,
    "start_time": "2025-03-26T18:35:17.815Z"
   },
   {
    "duration": 12,
    "start_time": "2025-03-26T18:35:17.878Z"
   },
   {
    "duration": 21,
    "start_time": "2025-03-26T18:35:17.892Z"
   },
   {
    "duration": 3,
    "start_time": "2025-03-26T18:35:17.914Z"
   },
   {
    "duration": 10,
    "start_time": "2025-03-26T18:35:17.918Z"
   },
   {
    "duration": 997,
    "start_time": "2025-03-26T18:35:17.929Z"
   },
   {
    "duration": 110,
    "start_time": "2025-03-26T18:35:18.928Z"
   },
   {
    "duration": 30,
    "start_time": "2025-03-26T18:35:19.039Z"
   },
   {
    "duration": 7,
    "start_time": "2025-03-26T18:35:19.071Z"
   },
   {
    "duration": 41,
    "start_time": "2025-03-26T18:35:19.080Z"
   },
   {
    "duration": 114,
    "start_time": "2025-03-26T18:35:19.123Z"
   },
   {
    "duration": 2,
    "start_time": "2025-03-26T18:35:19.239Z"
   },
   {
    "duration": 376,
    "start_time": "2025-03-26T18:35:19.243Z"
   },
   {
    "duration": 45,
    "start_time": "2025-03-26T18:35:19.621Z"
   },
   {
    "duration": 3,
    "start_time": "2025-03-26T18:35:19.667Z"
   },
   {
    "duration": 10,
    "start_time": "2025-03-26T18:35:19.671Z"
   },
   {
    "duration": 4,
    "start_time": "2025-03-26T18:35:19.682Z"
   },
   {
    "duration": 191,
    "start_time": "2025-03-26T18:35:19.687Z"
   },
   {
    "duration": 19,
    "start_time": "2025-03-26T18:35:19.880Z"
   },
   {
    "duration": 8,
    "start_time": "2025-03-26T18:35:19.900Z"
   },
   {
    "duration": 3,
    "start_time": "2025-03-26T18:35:19.909Z"
   },
   {
    "duration": 3,
    "start_time": "2025-03-26T18:35:19.914Z"
   },
   {
    "duration": 206,
    "start_time": "2025-03-26T18:35:19.918Z"
   },
   {
    "duration": 33,
    "start_time": "2025-03-26T18:35:20.125Z"
   },
   {
    "duration": 9,
    "start_time": "2025-03-26T18:35:20.160Z"
   },
   {
    "duration": 6,
    "start_time": "2025-03-26T18:35:20.170Z"
   },
   {
    "duration": 3,
    "start_time": "2025-03-26T18:35:20.181Z"
   },
   {
    "duration": 11,
    "start_time": "2025-03-26T18:35:20.185Z"
   },
   {
    "duration": 2,
    "start_time": "2025-03-26T18:35:20.197Z"
   },
   {
    "duration": 13,
    "start_time": "2025-03-26T18:35:20.201Z"
   },
   {
    "duration": 10,
    "start_time": "2025-03-26T18:35:20.215Z"
   },
   {
    "duration": 37,
    "start_time": "2025-03-26T18:35:20.227Z"
   },
   {
    "duration": 7,
    "start_time": "2025-03-26T18:35:20.265Z"
   },
   {
    "duration": 103,
    "start_time": "2025-03-26T18:35:20.273Z"
   },
   {
    "duration": 2,
    "start_time": "2025-03-26T18:35:20.378Z"
   },
   {
    "duration": 214,
    "start_time": "2025-03-26T18:35:20.382Z"
   },
   {
    "duration": 84,
    "start_time": "2025-03-26T18:35:20.598Z"
   },
   {
    "duration": 2,
    "start_time": "2025-03-26T18:35:20.684Z"
   },
   {
    "duration": 37,
    "start_time": "2025-03-26T18:35:20.687Z"
   },
   {
    "duration": 20,
    "start_time": "2025-03-26T18:35:20.726Z"
   },
   {
    "duration": 21,
    "start_time": "2025-03-26T18:35:20.748Z"
   },
   {
    "duration": 2,
    "start_time": "2025-03-26T18:35:20.771Z"
   },
   {
    "duration": 17,
    "start_time": "2025-03-26T18:35:20.775Z"
   },
   {
    "duration": 8,
    "start_time": "2025-03-26T18:35:20.794Z"
   },
   {
    "duration": 3,
    "start_time": "2025-03-26T18:35:20.804Z"
   },
   {
    "duration": 95,
    "start_time": "2025-03-26T18:35:20.808Z"
   },
   {
    "duration": 86,
    "start_time": "2025-03-26T18:35:20.905Z"
   },
   {
    "duration": 3,
    "start_time": "2025-03-26T18:35:20.993Z"
   },
   {
    "duration": 66,
    "start_time": "2025-03-26T18:35:20.998Z"
   },
   {
    "duration": 36,
    "start_time": "2025-03-26T18:35:21.066Z"
   },
   {
    "duration": 5,
    "start_time": "2025-03-26T18:35:21.104Z"
   },
   {
    "duration": 12,
    "start_time": "2025-03-26T18:35:21.110Z"
   },
   {
    "duration": 12,
    "start_time": "2025-03-26T18:35:21.123Z"
   },
   {
    "duration": 2,
    "start_time": "2025-03-26T18:35:21.158Z"
   },
   {
    "duration": 32,
    "start_time": "2025-03-26T18:35:21.162Z"
   },
   {
    "duration": 72,
    "start_time": "2025-03-26T18:35:21.195Z"
   },
   {
    "duration": 84,
    "start_time": "2025-03-26T18:35:21.269Z"
   },
   {
    "duration": 243,
    "start_time": "2025-03-26T18:35:21.355Z"
   },
   {
    "duration": 66,
    "start_time": "2025-03-26T18:35:21.601Z"
   },
   {
    "duration": 11,
    "start_time": "2025-03-26T18:35:21.669Z"
   },
   {
    "duration": 11,
    "start_time": "2025-03-26T18:35:21.682Z"
   },
   {
    "duration": 3,
    "start_time": "2025-03-26T18:35:21.695Z"
   },
   {
    "duration": 210,
    "start_time": "2025-03-26T18:35:21.700Z"
   },
   {
    "duration": 109,
    "start_time": "2025-03-26T18:35:21.912Z"
   },
   {
    "duration": 8,
    "start_time": "2025-03-26T18:40:58.062Z"
   },
   {
    "duration": 40,
    "start_time": "2025-03-26T18:41:25.505Z"
   },
   {
    "duration": 41,
    "start_time": "2025-03-26T18:42:03.588Z"
   },
   {
    "duration": 39,
    "start_time": "2025-03-26T18:43:39.988Z"
   },
   {
    "duration": 40,
    "start_time": "2025-03-26T18:43:46.757Z"
   },
   {
    "duration": 3722,
    "start_time": "2025-03-26T18:44:02.714Z"
   },
   {
    "duration": 57,
    "start_time": "2025-03-26T18:44:06.438Z"
   },
   {
    "duration": 12,
    "start_time": "2025-03-26T18:44:06.497Z"
   },
   {
    "duration": 14,
    "start_time": "2025-03-26T18:44:06.511Z"
   },
   {
    "duration": 10,
    "start_time": "2025-03-26T18:44:06.527Z"
   },
   {
    "duration": 12,
    "start_time": "2025-03-26T18:44:06.539Z"
   },
   {
    "duration": 2679,
    "start_time": "2025-03-26T18:44:06.553Z"
   },
   {
    "duration": 107,
    "start_time": "2025-03-26T18:44:09.234Z"
   },
   {
    "duration": 28,
    "start_time": "2025-03-26T18:44:09.343Z"
   },
   {
    "duration": 86,
    "start_time": "2025-03-26T18:44:09.374Z"
   },
   {
    "duration": 44,
    "start_time": "2025-03-26T18:44:09.462Z"
   },
   {
    "duration": 108,
    "start_time": "2025-03-26T18:44:09.508Z"
   },
   {
    "duration": 3,
    "start_time": "2025-03-26T18:44:09.618Z"
   },
   {
    "duration": 420,
    "start_time": "2025-03-26T18:44:09.622Z"
   },
   {
    "duration": 48,
    "start_time": "2025-03-26T18:44:10.043Z"
   },
   {
    "duration": 4,
    "start_time": "2025-03-26T18:44:10.092Z"
   },
   {
    "duration": 11,
    "start_time": "2025-03-26T18:44:10.098Z"
   },
   {
    "duration": 7,
    "start_time": "2025-03-26T18:44:10.111Z"
   },
   {
    "duration": 418,
    "start_time": "2025-03-26T18:44:10.120Z"
   },
   {
    "duration": 20,
    "start_time": "2025-03-26T18:44:10.540Z"
   },
   {
    "duration": 10,
    "start_time": "2025-03-26T18:44:10.562Z"
   },
   {
    "duration": 2,
    "start_time": "2025-03-26T18:44:10.574Z"
   },
   {
    "duration": 4,
    "start_time": "2025-03-26T18:44:10.579Z"
   },
   {
    "duration": 262,
    "start_time": "2025-03-26T18:44:10.585Z"
   },
   {
    "duration": 26,
    "start_time": "2025-03-26T18:44:10.849Z"
   },
   {
    "duration": 7,
    "start_time": "2025-03-26T18:44:10.877Z"
   },
   {
    "duration": 77,
    "start_time": "2025-03-26T18:44:10.886Z"
   },
   {
    "duration": 3,
    "start_time": "2025-03-26T18:44:10.967Z"
   },
   {
    "duration": 13,
    "start_time": "2025-03-26T18:44:10.971Z"
   },
   {
    "duration": 17,
    "start_time": "2025-03-26T18:44:10.985Z"
   },
   {
    "duration": 9,
    "start_time": "2025-03-26T18:44:11.004Z"
   },
   {
    "duration": 16,
    "start_time": "2025-03-26T18:44:11.015Z"
   },
   {
    "duration": 11,
    "start_time": "2025-03-26T18:44:11.033Z"
   },
   {
    "duration": 12,
    "start_time": "2025-03-26T18:44:11.046Z"
   },
   {
    "duration": 119,
    "start_time": "2025-03-26T18:44:11.060Z"
   },
   {
    "duration": 3,
    "start_time": "2025-03-26T18:44:11.181Z"
   },
   {
    "duration": 228,
    "start_time": "2025-03-26T18:44:11.186Z"
   },
   {
    "duration": 84,
    "start_time": "2025-03-26T18:44:11.416Z"
   },
   {
    "duration": 9,
    "start_time": "2025-03-26T18:44:11.501Z"
   },
   {
    "duration": 37,
    "start_time": "2025-03-26T18:44:11.512Z"
   },
   {
    "duration": 30,
    "start_time": "2025-03-26T18:44:11.554Z"
   },
   {
    "duration": 26,
    "start_time": "2025-03-26T18:44:11.587Z"
   },
   {
    "duration": 2,
    "start_time": "2025-03-26T18:44:11.615Z"
   },
   {
    "duration": 7,
    "start_time": "2025-03-26T18:44:11.619Z"
   },
   {
    "duration": 8,
    "start_time": "2025-03-26T18:44:11.628Z"
   },
   {
    "duration": 3,
    "start_time": "2025-03-26T18:44:11.659Z"
   },
   {
    "duration": 76,
    "start_time": "2025-03-26T18:44:11.664Z"
   },
   {
    "duration": 87,
    "start_time": "2025-03-26T18:44:11.741Z"
   },
   {
    "duration": 2,
    "start_time": "2025-03-26T18:44:11.830Z"
   },
   {
    "duration": 106,
    "start_time": "2025-03-26T18:44:11.834Z"
   },
   {
    "duration": 38,
    "start_time": "2025-03-26T18:44:11.942Z"
   },
   {
    "duration": 5,
    "start_time": "2025-03-26T18:44:11.981Z"
   },
   {
    "duration": 82,
    "start_time": "2025-03-26T18:44:11.987Z"
   },
   {
    "duration": 12,
    "start_time": "2025-03-26T18:44:12.071Z"
   },
   {
    "duration": 2,
    "start_time": "2025-03-26T18:44:12.085Z"
   },
   {
    "duration": 20,
    "start_time": "2025-03-26T18:44:12.089Z"
   },
   {
    "duration": 20,
    "start_time": "2025-03-26T18:44:12.111Z"
   },
   {
    "duration": 27,
    "start_time": "2025-03-26T18:44:12.132Z"
   },
   {
    "duration": 121,
    "start_time": "2025-03-26T18:44:12.161Z"
   },
   {
    "duration": 59,
    "start_time": "2025-03-26T18:44:12.284Z"
   },
   {
    "duration": 12,
    "start_time": "2025-03-26T18:44:12.357Z"
   },
   {
    "duration": 17,
    "start_time": "2025-03-26T18:44:12.370Z"
   },
   {
    "duration": 12,
    "start_time": "2025-03-26T18:44:12.389Z"
   },
   {
    "duration": 273,
    "start_time": "2025-03-26T18:44:12.403Z"
   },
   {
    "duration": 110,
    "start_time": "2025-03-26T18:44:12.678Z"
   },
   {
    "duration": 39,
    "start_time": "2025-03-26T18:44:12.790Z"
   },
   {
    "duration": 2,
    "start_time": "2025-03-26T18:44:12.831Z"
   },
   {
    "duration": 21,
    "start_time": "2025-03-26T18:45:35.286Z"
   },
   {
    "duration": 113,
    "start_time": "2025-03-26T18:45:45.630Z"
   },
   {
    "duration": 14,
    "start_time": "2025-03-26T18:46:37.875Z"
   },
   {
    "duration": 13,
    "start_time": "2025-03-26T18:47:06.073Z"
   },
   {
    "duration": 13,
    "start_time": "2025-03-26T18:48:50.597Z"
   },
   {
    "duration": 3694,
    "start_time": "2025-03-26T18:50:33.526Z"
   },
   {
    "duration": 66,
    "start_time": "2025-03-26T18:50:37.222Z"
   },
   {
    "duration": 13,
    "start_time": "2025-03-26T18:50:37.289Z"
   },
   {
    "duration": 11,
    "start_time": "2025-03-26T18:50:37.304Z"
   },
   {
    "duration": 65,
    "start_time": "2025-03-26T18:50:37.316Z"
   },
   {
    "duration": 123,
    "start_time": "2025-03-26T18:50:37.382Z"
   },
   {
    "duration": 1691,
    "start_time": "2025-03-26T18:50:37.507Z"
   },
   {
    "duration": 106,
    "start_time": "2025-03-26T18:50:39.200Z"
   },
   {
    "duration": 24,
    "start_time": "2025-03-26T18:50:39.307Z"
   },
   {
    "duration": 141,
    "start_time": "2025-03-26T18:50:39.334Z"
   },
   {
    "duration": 80,
    "start_time": "2025-03-26T18:50:39.477Z"
   },
   {
    "duration": 103,
    "start_time": "2025-03-26T18:50:39.558Z"
   },
   {
    "duration": 3,
    "start_time": "2025-03-26T18:50:39.662Z"
   },
   {
    "duration": 486,
    "start_time": "2025-03-26T18:50:39.667Z"
   },
   {
    "duration": 42,
    "start_time": "2025-03-26T18:50:40.155Z"
   },
   {
    "duration": 3,
    "start_time": "2025-03-26T18:50:40.198Z"
   },
   {
    "duration": 21,
    "start_time": "2025-03-26T18:50:40.203Z"
   },
   {
    "duration": 7,
    "start_time": "2025-03-26T18:50:40.226Z"
   },
   {
    "duration": 242,
    "start_time": "2025-03-26T18:50:40.234Z"
   },
   {
    "duration": 18,
    "start_time": "2025-03-26T18:50:40.478Z"
   },
   {
    "duration": 8,
    "start_time": "2025-03-26T18:50:40.498Z"
   },
   {
    "duration": 5,
    "start_time": "2025-03-26T18:50:40.507Z"
   },
   {
    "duration": 12,
    "start_time": "2025-03-26T18:50:40.513Z"
   },
   {
    "duration": 644,
    "start_time": "2025-03-26T18:50:40.527Z"
   },
   {
    "duration": 25,
    "start_time": "2025-03-26T18:50:41.173Z"
   },
   {
    "duration": 8,
    "start_time": "2025-03-26T18:50:41.200Z"
   },
   {
    "duration": 60,
    "start_time": "2025-03-26T18:50:41.211Z"
   },
   {
    "duration": 28,
    "start_time": "2025-03-26T18:50:41.275Z"
   },
   {
    "duration": 10,
    "start_time": "2025-03-26T18:50:41.305Z"
   },
   {
    "duration": 2,
    "start_time": "2025-03-26T18:50:41.317Z"
   },
   {
    "duration": 214,
    "start_time": "2025-03-26T18:50:41.320Z"
   },
   {
    "duration": 15,
    "start_time": "2025-03-26T18:50:41.536Z"
   },
   {
    "duration": 12,
    "start_time": "2025-03-26T18:50:41.553Z"
   },
   {
    "duration": 5,
    "start_time": "2025-03-26T18:50:41.567Z"
   },
   {
    "duration": 120,
    "start_time": "2025-03-26T18:50:41.574Z"
   },
   {
    "duration": 2,
    "start_time": "2025-03-26T18:50:41.696Z"
   },
   {
    "duration": 160,
    "start_time": "2025-03-26T18:50:41.700Z"
   },
   {
    "duration": 79,
    "start_time": "2025-03-26T18:50:41.862Z"
   },
   {
    "duration": 2,
    "start_time": "2025-03-26T18:50:41.943Z"
   },
   {
    "duration": 30,
    "start_time": "2025-03-26T18:50:41.946Z"
   },
   {
    "duration": 21,
    "start_time": "2025-03-26T18:50:41.978Z"
   },
   {
    "duration": 16,
    "start_time": "2025-03-26T18:50:42.000Z"
   },
   {
    "duration": 76,
    "start_time": "2025-03-26T18:50:42.018Z"
   },
   {
    "duration": 7,
    "start_time": "2025-03-26T18:50:42.096Z"
   },
   {
    "duration": 7,
    "start_time": "2025-03-26T18:50:42.104Z"
   },
   {
    "duration": 2,
    "start_time": "2025-03-26T18:50:42.113Z"
   },
   {
    "duration": 77,
    "start_time": "2025-03-26T18:50:42.116Z"
   },
   {
    "duration": 81,
    "start_time": "2025-03-26T18:50:42.195Z"
   },
   {
    "duration": 2,
    "start_time": "2025-03-26T18:50:42.278Z"
   },
   {
    "duration": 35,
    "start_time": "2025-03-26T18:50:42.282Z"
   },
   {
    "duration": 54,
    "start_time": "2025-03-26T18:50:42.319Z"
   },
   {
    "duration": 3,
    "start_time": "2025-03-26T18:50:42.374Z"
   },
   {
    "duration": 12,
    "start_time": "2025-03-26T18:50:42.378Z"
   },
   {
    "duration": 11,
    "start_time": "2025-03-26T18:50:42.391Z"
   },
   {
    "duration": 2,
    "start_time": "2025-03-26T18:50:42.404Z"
   },
   {
    "duration": 50,
    "start_time": "2025-03-26T18:50:42.408Z"
   },
   {
    "duration": 54,
    "start_time": "2025-03-26T18:50:42.460Z"
   },
   {
    "duration": 2,
    "start_time": "2025-03-26T18:50:42.516Z"
   },
   {
    "duration": 110,
    "start_time": "2025-03-26T18:50:42.520Z"
   },
   {
    "duration": 69,
    "start_time": "2025-03-26T18:50:42.632Z"
   },
   {
    "duration": 12,
    "start_time": "2025-03-26T18:50:42.703Z"
   },
   {
    "duration": 11,
    "start_time": "2025-03-26T18:50:42.717Z"
   },
   {
    "duration": 28,
    "start_time": "2025-03-26T18:50:42.730Z"
   },
   {
    "duration": 193,
    "start_time": "2025-03-26T18:50:42.760Z"
   },
   {
    "duration": 111,
    "start_time": "2025-03-26T18:50:42.955Z"
   },
   {
    "duration": 38,
    "start_time": "2025-03-26T18:50:43.068Z"
   },
   {
    "duration": 69,
    "start_time": "2025-03-26T18:50:43.107Z"
   },
   {
    "duration": 8,
    "start_time": "2025-03-26T19:06:16.857Z"
   },
   {
    "duration": 11,
    "start_time": "2025-03-26T19:06:29.291Z"
   },
   {
    "duration": 105,
    "start_time": "2025-03-26T19:09:28.691Z"
   },
   {
    "duration": 24,
    "start_time": "2025-03-26T19:09:55.446Z"
   },
   {
    "duration": 19,
    "start_time": "2025-03-26T19:10:22.733Z"
   },
   {
    "duration": 20,
    "start_time": "2025-03-26T19:11:25.050Z"
   },
   {
    "duration": 18,
    "start_time": "2025-03-26T19:11:46.974Z"
   },
   {
    "duration": 5162,
    "start_time": "2025-03-27T09:20:10.249Z"
   },
   {
    "duration": 244,
    "start_time": "2025-03-27T09:20:15.413Z"
   },
   {
    "duration": 13,
    "start_time": "2025-03-27T09:20:15.659Z"
   },
   {
    "duration": 82,
    "start_time": "2025-03-27T09:20:15.673Z"
   },
   {
    "duration": 17,
    "start_time": "2025-03-27T09:20:15.757Z"
   },
   {
    "duration": 4,
    "start_time": "2025-03-27T09:20:15.775Z"
   },
   {
    "duration": 2524,
    "start_time": "2025-03-27T09:20:15.780Z"
   },
   {
    "duration": 99,
    "start_time": "2025-03-27T09:20:18.306Z"
   },
   {
    "duration": 29,
    "start_time": "2025-03-27T09:20:18.407Z"
   },
   {
    "duration": 3,
    "start_time": "2025-03-27T09:20:18.437Z"
   },
   {
    "duration": 25,
    "start_time": "2025-03-27T09:20:18.441Z"
   },
   {
    "duration": 110,
    "start_time": "2025-03-27T09:20:18.467Z"
   },
   {
    "duration": 2,
    "start_time": "2025-03-27T09:20:18.579Z"
   },
   {
    "duration": 1067,
    "start_time": "2025-03-27T09:20:18.583Z"
   },
   {
    "duration": 36,
    "start_time": "2025-03-27T09:20:19.651Z"
   },
   {
    "duration": 8,
    "start_time": "2025-03-27T09:20:19.689Z"
   },
   {
    "duration": 12,
    "start_time": "2025-03-27T09:20:19.698Z"
   },
   {
    "duration": 11,
    "start_time": "2025-03-27T09:20:19.711Z"
   },
   {
    "duration": 345,
    "start_time": "2025-03-27T09:20:19.723Z"
   },
   {
    "duration": 18,
    "start_time": "2025-03-27T09:20:20.070Z"
   },
   {
    "duration": 7,
    "start_time": "2025-03-27T09:20:20.090Z"
   },
   {
    "duration": 12,
    "start_time": "2025-03-27T09:20:20.098Z"
   },
   {
    "duration": 8,
    "start_time": "2025-03-27T09:20:20.111Z"
   },
   {
    "duration": 393,
    "start_time": "2025-03-27T09:20:20.120Z"
   },
   {
    "duration": 23,
    "start_time": "2025-03-27T09:20:20.514Z"
   },
   {
    "duration": 7,
    "start_time": "2025-03-27T09:20:20.538Z"
   },
   {
    "duration": 9,
    "start_time": "2025-03-27T09:20:20.546Z"
   },
   {
    "duration": 3,
    "start_time": "2025-03-27T09:20:20.557Z"
   },
   {
    "duration": 23,
    "start_time": "2025-03-27T09:20:20.561Z"
   },
   {
    "duration": 3,
    "start_time": "2025-03-27T09:20:20.585Z"
   },
   {
    "duration": 84,
    "start_time": "2025-03-27T09:20:20.589Z"
   },
   {
    "duration": 26,
    "start_time": "2025-03-27T09:20:20.674Z"
   },
   {
    "duration": 26,
    "start_time": "2025-03-27T09:20:20.701Z"
   },
   {
    "duration": 4,
    "start_time": "2025-03-27T09:20:20.729Z"
   },
   {
    "duration": 92,
    "start_time": "2025-03-27T09:20:20.734Z"
   },
   {
    "duration": 7,
    "start_time": "2025-03-27T09:20:20.828Z"
   },
   {
    "duration": 261,
    "start_time": "2025-03-27T09:20:20.837Z"
   },
   {
    "duration": 71,
    "start_time": "2025-03-27T09:20:21.100Z"
   },
   {
    "duration": 2,
    "start_time": "2025-03-27T09:20:21.173Z"
   },
   {
    "duration": 46,
    "start_time": "2025-03-27T09:20:21.176Z"
   },
   {
    "duration": 17,
    "start_time": "2025-03-27T09:20:21.226Z"
   },
   {
    "duration": 18,
    "start_time": "2025-03-27T09:20:21.245Z"
   },
   {
    "duration": 3,
    "start_time": "2025-03-27T09:20:21.265Z"
   },
   {
    "duration": 9,
    "start_time": "2025-03-27T09:20:21.269Z"
   },
   {
    "duration": 23,
    "start_time": "2025-03-27T09:20:21.280Z"
   },
   {
    "duration": 2,
    "start_time": "2025-03-27T09:20:21.305Z"
   },
   {
    "duration": 72,
    "start_time": "2025-03-27T09:20:21.308Z"
   },
   {
    "duration": 77,
    "start_time": "2025-03-27T09:20:21.382Z"
   },
   {
    "duration": 2,
    "start_time": "2025-03-27T09:20:21.461Z"
   },
   {
    "duration": 36,
    "start_time": "2025-03-27T09:20:21.465Z"
   },
   {
    "duration": 50,
    "start_time": "2025-03-27T09:20:21.502Z"
   },
   {
    "duration": 122,
    "start_time": "2025-03-27T09:20:21.554Z"
   },
   {
    "duration": 103,
    "start_time": "2025-03-27T09:20:21.678Z"
   },
   {
    "duration": 10,
    "start_time": "2025-03-27T09:20:21.782Z"
   },
   {
    "duration": 3,
    "start_time": "2025-03-27T09:20:21.793Z"
   },
   {
    "duration": 19,
    "start_time": "2025-03-27T09:20:21.797Z"
   },
   {
    "duration": 19,
    "start_time": "2025-03-27T09:20:21.817Z"
   },
   {
    "duration": 3,
    "start_time": "2025-03-27T09:20:21.838Z"
   },
   {
    "duration": 112,
    "start_time": "2025-03-27T09:20:21.842Z"
   },
   {
    "duration": 54,
    "start_time": "2025-03-27T09:20:21.956Z"
   },
   {
    "duration": 27,
    "start_time": "2025-03-27T09:20:22.012Z"
   },
   {
    "duration": 10,
    "start_time": "2025-03-27T09:20:22.040Z"
   },
   {
    "duration": 3,
    "start_time": "2025-03-27T09:20:22.051Z"
   },
   {
    "duration": 196,
    "start_time": "2025-03-27T09:20:22.055Z"
   },
   {
    "duration": 101,
    "start_time": "2025-03-27T09:20:22.253Z"
   },
   {
    "duration": 33,
    "start_time": "2025-03-27T09:20:22.356Z"
   },
   {
    "duration": 65,
    "start_time": "2025-03-27T09:20:22.391Z"
   },
   {
    "duration": 19,
    "start_time": "2025-03-27T09:20:22.457Z"
   },
   {
    "duration": 13,
    "start_time": "2025-03-27T09:20:22.477Z"
   },
   {
    "duration": 21,
    "start_time": "2025-03-27T09:27:10.552Z"
   },
   {
    "duration": 3,
    "start_time": "2025-03-27T09:38:12.026Z"
   },
   {
    "duration": 3319,
    "start_time": "2025-03-27T09:38:12.588Z"
   },
   {
    "duration": 3120,
    "start_time": "2025-03-27T09:38:25.942Z"
   },
   {
    "duration": 2534,
    "start_time": "2025-03-27T09:39:12.350Z"
   },
   {
    "duration": 15,
    "start_time": "2025-03-27T09:40:30.034Z"
   },
   {
    "duration": 2,
    "start_time": "2025-03-27T09:40:30.548Z"
   },
   {
    "duration": 2419,
    "start_time": "2025-03-27T09:40:42.044Z"
   },
   {
    "duration": 113,
    "start_time": "2025-03-27T09:40:44.465Z"
   },
   {
    "duration": 12,
    "start_time": "2025-03-27T09:40:44.579Z"
   },
   {
    "duration": 29,
    "start_time": "2025-03-27T09:40:44.592Z"
   },
   {
    "duration": 3,
    "start_time": "2025-03-27T09:40:44.622Z"
   },
   {
    "duration": 8,
    "start_time": "2025-03-27T09:40:44.626Z"
   },
   {
    "duration": 1563,
    "start_time": "2025-03-27T09:40:44.635Z"
   },
   {
    "duration": 99,
    "start_time": "2025-03-27T09:40:46.199Z"
   },
   {
    "duration": 22,
    "start_time": "2025-03-27T09:40:46.300Z"
   },
   {
    "duration": 2,
    "start_time": "2025-03-27T09:40:46.336Z"
   },
   {
    "duration": 35,
    "start_time": "2025-03-27T09:40:46.339Z"
   },
   {
    "duration": 92,
    "start_time": "2025-03-27T09:40:46.376Z"
   },
   {
    "duration": 3,
    "start_time": "2025-03-27T09:40:46.469Z"
   },
   {
    "duration": 516,
    "start_time": "2025-03-27T09:40:46.473Z"
   },
   {
    "duration": 45,
    "start_time": "2025-03-27T09:40:46.991Z"
   },
   {
    "duration": 3,
    "start_time": "2025-03-27T09:40:47.037Z"
   },
   {
    "duration": 17,
    "start_time": "2025-03-27T09:40:47.041Z"
   },
   {
    "duration": 3,
    "start_time": "2025-03-27T09:40:47.062Z"
   },
   {
    "duration": 267,
    "start_time": "2025-03-27T09:40:47.066Z"
   },
   {
    "duration": 20,
    "start_time": "2025-03-27T09:40:47.335Z"
   },
   {
    "duration": 7,
    "start_time": "2025-03-27T09:40:47.357Z"
   },
   {
    "duration": 2,
    "start_time": "2025-03-27T09:40:47.367Z"
   },
   {
    "duration": 2,
    "start_time": "2025-03-27T09:40:47.401Z"
   },
   {
    "duration": 265,
    "start_time": "2025-03-27T09:40:47.602Z"
   },
   {
    "duration": 23,
    "start_time": "2025-03-27T09:40:47.869Z"
   },
   {
    "duration": 7,
    "start_time": "2025-03-27T09:40:48.041Z"
   },
   {
    "duration": 3,
    "start_time": "2025-03-27T09:40:48.242Z"
   },
   {
    "duration": 2,
    "start_time": "2025-03-27T09:40:48.655Z"
   },
   {
    "duration": 11,
    "start_time": "2025-03-27T09:40:48.881Z"
   },
   {
    "duration": 3,
    "start_time": "2025-03-27T09:40:49.109Z"
   },
   {
    "duration": 8,
    "start_time": "2025-03-27T09:40:49.545Z"
   },
   {
    "duration": 11,
    "start_time": "2025-03-27T09:40:49.759Z"
   },
   {
    "duration": 9,
    "start_time": "2025-03-27T09:40:49.959Z"
   },
   {
    "duration": 2,
    "start_time": "2025-03-27T09:40:50.311Z"
   },
   {
    "duration": 96,
    "start_time": "2025-03-27T09:40:50.610Z"
   },
   {
    "duration": 3,
    "start_time": "2025-03-27T09:40:50.961Z"
   },
   {
    "duration": 137,
    "start_time": "2025-03-27T09:40:51.948Z"
   },
   {
    "duration": 80,
    "start_time": "2025-03-27T09:40:52.087Z"
   },
   {
    "duration": 3,
    "start_time": "2025-03-27T09:40:52.169Z"
   },
   {
    "duration": 33,
    "start_time": "2025-03-27T09:40:52.174Z"
   },
   {
    "duration": 19,
    "start_time": "2025-03-27T09:40:52.375Z"
   },
   {
    "duration": 16,
    "start_time": "2025-03-27T09:40:52.851Z"
   },
   {
    "duration": 2,
    "start_time": "2025-03-27T09:40:53.295Z"
   },
   {
    "duration": 6,
    "start_time": "2025-03-27T09:40:53.617Z"
   },
   {
    "duration": 7,
    "start_time": "2025-03-27T09:40:54.079Z"
   },
   {
    "duration": 3,
    "start_time": "2025-03-27T09:40:54.597Z"
   },
   {
    "duration": 74,
    "start_time": "2025-03-27T09:40:55.139Z"
   },
   {
    "duration": 71,
    "start_time": "2025-03-27T09:40:55.539Z"
   },
   {
    "duration": 2,
    "start_time": "2025-03-27T09:40:56.009Z"
   },
   {
    "duration": 33,
    "start_time": "2025-03-27T09:40:56.429Z"
   },
   {
    "duration": 35,
    "start_time": "2025-03-27T09:40:56.665Z"
   },
   {
    "duration": 3,
    "start_time": "2025-03-27T09:40:56.843Z"
   },
   {
    "duration": 11,
    "start_time": "2025-03-27T09:40:57.033Z"
   },
   {
    "duration": 12,
    "start_time": "2025-03-27T09:40:57.332Z"
   },
   {
    "duration": 2,
    "start_time": "2025-03-27T09:40:57.346Z"
   },
   {
    "duration": 19,
    "start_time": "2025-03-27T09:40:57.459Z"
   },
   {
    "duration": 20,
    "start_time": "2025-03-27T09:40:57.609Z"
   },
   {
    "duration": 2,
    "start_time": "2025-03-27T09:40:57.801Z"
   },
   {
    "duration": 101,
    "start_time": "2025-03-27T09:40:58.870Z"
   },
   {
    "duration": 50,
    "start_time": "2025-03-27T09:40:59.497Z"
   },
   {
    "duration": 11,
    "start_time": "2025-03-27T09:40:59.959Z"
   },
   {
    "duration": 11,
    "start_time": "2025-03-27T09:41:00.567Z"
   },
   {
    "duration": 2,
    "start_time": "2025-03-27T09:41:01.111Z"
   },
   {
    "duration": 168,
    "start_time": "2025-03-27T09:41:01.811Z"
   },
   {
    "duration": 97,
    "start_time": "2025-03-27T09:41:03.587Z"
   },
   {
    "duration": 41,
    "start_time": "2025-03-27T09:41:04.079Z"
   },
   {
    "duration": 46,
    "start_time": "2025-03-27T09:41:04.847Z"
   },
   {
    "duration": 3,
    "start_time": "2025-03-27T09:41:05.547Z"
   },
   {
    "duration": 48,
    "start_time": "2025-03-27T09:41:06.175Z"
   },
   {
    "duration": 51,
    "start_time": "2025-03-27T09:41:26.944Z"
   },
   {
    "duration": 55,
    "start_time": "2025-03-27T09:41:45.236Z"
   },
   {
    "duration": 3959,
    "start_time": "2025-03-27T09:42:03.169Z"
   },
   {
    "duration": 127,
    "start_time": "2025-03-27T09:42:07.130Z"
   },
   {
    "duration": 13,
    "start_time": "2025-03-27T09:42:07.259Z"
   },
   {
    "duration": 42,
    "start_time": "2025-03-27T09:42:07.273Z"
   },
   {
    "duration": 3,
    "start_time": "2025-03-27T09:42:07.317Z"
   },
   {
    "duration": 13,
    "start_time": "2025-03-27T09:42:07.321Z"
   },
   {
    "duration": 9347,
    "start_time": "2025-03-27T09:42:07.336Z"
   },
   {
    "duration": 101,
    "start_time": "2025-03-27T09:42:16.685Z"
   },
   {
    "duration": 23,
    "start_time": "2025-03-27T09:42:16.788Z"
   },
   {
    "duration": 3,
    "start_time": "2025-03-27T09:42:16.813Z"
   },
   {
    "duration": 56,
    "start_time": "2025-03-27T09:42:16.817Z"
   },
   {
    "duration": 109,
    "start_time": "2025-03-27T09:42:16.874Z"
   },
   {
    "duration": 2,
    "start_time": "2025-03-27T09:42:16.985Z"
   },
   {
    "duration": 657,
    "start_time": "2025-03-27T09:42:16.990Z"
   },
   {
    "duration": 39,
    "start_time": "2025-03-27T09:42:17.648Z"
   },
   {
    "duration": 57,
    "start_time": "2025-03-27T09:42:17.689Z"
   },
   {
    "duration": 86,
    "start_time": "2025-03-27T09:42:17.747Z"
   },
   {
    "duration": 4,
    "start_time": "2025-03-27T09:42:17.835Z"
   },
   {
    "duration": 510,
    "start_time": "2025-03-27T09:42:17.840Z"
   },
   {
    "duration": 19,
    "start_time": "2025-03-27T09:42:18.352Z"
   },
   {
    "duration": 7,
    "start_time": "2025-03-27T09:42:18.372Z"
   },
   {
    "duration": 5,
    "start_time": "2025-03-27T09:42:18.381Z"
   },
   {
    "duration": 4,
    "start_time": "2025-03-27T09:42:18.387Z"
   },
   {
    "duration": 276,
    "start_time": "2025-03-27T09:42:18.393Z"
   },
   {
    "duration": 22,
    "start_time": "2025-03-27T09:42:18.671Z"
   },
   {
    "duration": 25,
    "start_time": "2025-03-27T09:42:18.695Z"
   },
   {
    "duration": 3,
    "start_time": "2025-03-27T09:42:18.722Z"
   },
   {
    "duration": 3,
    "start_time": "2025-03-27T09:42:18.726Z"
   },
   {
    "duration": 9,
    "start_time": "2025-03-27T09:42:18.731Z"
   },
   {
    "duration": 2,
    "start_time": "2025-03-27T09:42:18.742Z"
   },
   {
    "duration": 8,
    "start_time": "2025-03-27T09:42:18.745Z"
   },
   {
    "duration": 12,
    "start_time": "2025-03-27T09:42:18.754Z"
   },
   {
    "duration": 8,
    "start_time": "2025-03-27T09:42:18.767Z"
   },
   {
    "duration": 3,
    "start_time": "2025-03-27T09:42:18.777Z"
   },
   {
    "duration": 120,
    "start_time": "2025-03-27T09:42:18.781Z"
   },
   {
    "duration": 2,
    "start_time": "2025-03-27T09:42:18.903Z"
   },
   {
    "duration": 249,
    "start_time": "2025-03-27T09:42:18.906Z"
   },
   {
    "duration": 81,
    "start_time": "2025-03-27T09:42:19.157Z"
   },
   {
    "duration": 3,
    "start_time": "2025-03-27T09:42:19.239Z"
   },
   {
    "duration": 49,
    "start_time": "2025-03-27T09:42:19.243Z"
   },
   {
    "duration": 19,
    "start_time": "2025-03-27T09:42:19.296Z"
   },
   {
    "duration": 14,
    "start_time": "2025-03-27T09:42:19.316Z"
   },
   {
    "duration": 3,
    "start_time": "2025-03-27T09:42:19.331Z"
   },
   {
    "duration": 6,
    "start_time": "2025-03-27T09:42:19.335Z"
   },
   {
    "duration": 7,
    "start_time": "2025-03-27T09:42:19.342Z"
   },
   {
    "duration": 17,
    "start_time": "2025-03-27T09:42:19.350Z"
   },
   {
    "duration": 73,
    "start_time": "2025-03-27T09:42:19.369Z"
   },
   {
    "duration": 70,
    "start_time": "2025-03-27T09:42:19.444Z"
   },
   {
    "duration": 3,
    "start_time": "2025-03-27T09:42:19.515Z"
   },
   {
    "duration": 48,
    "start_time": "2025-03-27T09:42:19.519Z"
   },
   {
    "duration": 35,
    "start_time": "2025-03-27T09:42:19.568Z"
   },
   {
    "duration": 125,
    "start_time": "2025-03-27T09:42:19.605Z"
   },
   {
    "duration": 18,
    "start_time": "2025-03-27T09:42:19.732Z"
   },
   {
    "duration": 88,
    "start_time": "2025-03-27T09:42:19.751Z"
   },
   {
    "duration": 1,
    "start_time": "2025-03-27T09:42:19.841Z"
   },
   {
    "duration": 20,
    "start_time": "2025-03-27T09:42:19.844Z"
   },
   {
    "duration": 22,
    "start_time": "2025-03-27T09:42:19.865Z"
   },
   {
    "duration": 2,
    "start_time": "2025-03-27T09:42:19.888Z"
   },
   {
    "duration": 118,
    "start_time": "2025-03-27T09:42:19.892Z"
   },
   {
    "duration": 65,
    "start_time": "2025-03-27T09:42:20.011Z"
   },
   {
    "duration": 10,
    "start_time": "2025-03-27T09:42:20.078Z"
   },
   {
    "duration": 9,
    "start_time": "2025-03-27T09:42:20.089Z"
   },
   {
    "duration": 3,
    "start_time": "2025-03-27T09:42:20.099Z"
   },
   {
    "duration": 196,
    "start_time": "2025-03-27T09:42:20.104Z"
   },
   {
    "duration": 105,
    "start_time": "2025-03-27T09:42:20.302Z"
   },
   {
    "duration": 48,
    "start_time": "2025-03-27T09:42:20.409Z"
   },
   {
    "duration": 50,
    "start_time": "2025-03-27T09:42:20.459Z"
   },
   {
    "duration": 3,
    "start_time": "2025-03-27T09:42:20.511Z"
   },
   {
    "duration": 54,
    "start_time": "2025-03-27T09:42:20.535Z"
   },
   {
    "duration": 128,
    "start_time": "2025-03-27T09:42:20.591Z"
   },
   {
    "duration": 0,
    "start_time": "2025-03-27T09:42:20.721Z"
   },
   {
    "duration": 2855,
    "start_time": "2025-03-27T09:44:23.899Z"
   },
   {
    "duration": 2924,
    "start_time": "2025-03-27T09:44:29.345Z"
   },
   {
    "duration": 3447,
    "start_time": "2025-03-27T09:44:41.690Z"
   },
   {
    "duration": 2378,
    "start_time": "2025-03-27T09:45:00.799Z"
   },
   {
    "duration": 104,
    "start_time": "2025-03-27T09:45:03.180Z"
   },
   {
    "duration": 25,
    "start_time": "2025-03-27T09:45:03.285Z"
   },
   {
    "duration": 30,
    "start_time": "2025-03-27T09:45:03.312Z"
   },
   {
    "duration": 5,
    "start_time": "2025-03-27T09:45:03.343Z"
   },
   {
    "duration": 4,
    "start_time": "2025-03-27T09:45:03.349Z"
   },
   {
    "duration": 12204,
    "start_time": "2025-03-27T09:45:03.354Z"
   },
   {
    "duration": 110,
    "start_time": "2025-03-27T09:45:15.560Z"
   },
   {
    "duration": 23,
    "start_time": "2025-03-27T09:45:15.672Z"
   },
   {
    "duration": 35,
    "start_time": "2025-03-27T09:45:15.698Z"
   },
   {
    "duration": 25,
    "start_time": "2025-03-27T09:45:15.735Z"
   },
   {
    "duration": 166,
    "start_time": "2025-03-27T09:45:15.762Z"
   },
   {
    "duration": 6,
    "start_time": "2025-03-27T09:45:15.930Z"
   },
   {
    "duration": 662,
    "start_time": "2025-03-27T09:45:15.938Z"
   },
   {
    "duration": 45,
    "start_time": "2025-03-27T09:45:16.602Z"
   },
   {
    "duration": 89,
    "start_time": "2025-03-27T09:45:16.649Z"
   },
   {
    "duration": 11,
    "start_time": "2025-03-27T09:45:16.739Z"
   },
   {
    "duration": 5,
    "start_time": "2025-03-27T09:45:16.752Z"
   },
   {
    "duration": 2851,
    "start_time": "2025-03-27T09:45:16.758Z"
   },
   {
    "duration": 19,
    "start_time": "2025-03-27T09:45:19.610Z"
   },
   {
    "duration": 115,
    "start_time": "2025-03-27T09:45:19.630Z"
   },
   {
    "duration": 60,
    "start_time": "2025-03-27T09:45:19.747Z"
   },
   {
    "duration": 35,
    "start_time": "2025-03-27T09:45:19.809Z"
   },
   {
    "duration": 482,
    "start_time": "2025-03-27T09:45:19.845Z"
   },
   {
    "duration": 22,
    "start_time": "2025-03-27T09:45:20.329Z"
   },
   {
    "duration": 10,
    "start_time": "2025-03-27T09:45:20.353Z"
   },
   {
    "duration": 14,
    "start_time": "2025-03-27T09:45:20.365Z"
   },
   {
    "duration": 2,
    "start_time": "2025-03-27T09:45:20.383Z"
   },
   {
    "duration": 17,
    "start_time": "2025-03-27T09:45:20.387Z"
   },
   {
    "duration": 3,
    "start_time": "2025-03-27T09:45:20.406Z"
   },
   {
    "duration": 39,
    "start_time": "2025-03-27T09:45:20.412Z"
   },
   {
    "duration": 24,
    "start_time": "2025-03-27T09:45:20.453Z"
   },
   {
    "duration": 11,
    "start_time": "2025-03-27T09:45:20.478Z"
   },
   {
    "duration": 9,
    "start_time": "2025-03-27T09:45:20.490Z"
   },
   {
    "duration": 105,
    "start_time": "2025-03-27T09:45:20.500Z"
   },
   {
    "duration": 3,
    "start_time": "2025-03-27T09:45:20.606Z"
   },
   {
    "duration": 142,
    "start_time": "2025-03-27T09:45:20.610Z"
   },
   {
    "duration": 73,
    "start_time": "2025-03-27T09:45:20.754Z"
   },
   {
    "duration": 2,
    "start_time": "2025-03-27T09:45:20.836Z"
   },
   {
    "duration": 23,
    "start_time": "2025-03-27T09:45:20.840Z"
   },
   {
    "duration": 22,
    "start_time": "2025-03-27T09:45:20.864Z"
   },
   {
    "duration": 24,
    "start_time": "2025-03-27T09:45:20.887Z"
   },
   {
    "duration": 65,
    "start_time": "2025-03-27T09:45:20.913Z"
   },
   {
    "duration": 137,
    "start_time": "2025-03-27T09:45:20.979Z"
   },
   {
    "duration": 8,
    "start_time": "2025-03-27T09:45:21.117Z"
   },
   {
    "duration": 2,
    "start_time": "2025-03-27T09:45:21.126Z"
   },
   {
    "duration": 72,
    "start_time": "2025-03-27T09:45:21.130Z"
   },
   {
    "duration": 71,
    "start_time": "2025-03-27T09:45:21.204Z"
   },
   {
    "duration": 9,
    "start_time": "2025-03-27T09:45:21.277Z"
   },
   {
    "duration": 39,
    "start_time": "2025-03-27T09:45:21.287Z"
   },
   {
    "duration": 40,
    "start_time": "2025-03-27T09:45:21.328Z"
   },
   {
    "duration": 2,
    "start_time": "2025-03-27T09:45:21.370Z"
   },
   {
    "duration": 40,
    "start_time": "2025-03-27T09:45:21.374Z"
   },
   {
    "duration": 14,
    "start_time": "2025-03-27T09:45:21.415Z"
   },
   {
    "duration": 9,
    "start_time": "2025-03-27T09:45:21.431Z"
   },
   {
    "duration": 21,
    "start_time": "2025-03-27T09:45:21.441Z"
   },
   {
    "duration": 21,
    "start_time": "2025-03-27T09:45:21.464Z"
   },
   {
    "duration": 3,
    "start_time": "2025-03-27T09:45:21.487Z"
   },
   {
    "duration": 127,
    "start_time": "2025-03-27T09:45:21.492Z"
   },
   {
    "duration": 58,
    "start_time": "2025-03-27T09:45:21.621Z"
   },
   {
    "duration": 60,
    "start_time": "2025-03-27T09:45:21.681Z"
   },
   {
    "duration": 11,
    "start_time": "2025-03-27T09:45:21.743Z"
   },
   {
    "duration": 88,
    "start_time": "2025-03-27T09:45:21.756Z"
   },
   {
    "duration": 170,
    "start_time": "2025-03-27T09:45:21.846Z"
   },
   {
    "duration": 112,
    "start_time": "2025-03-27T09:45:22.018Z"
   },
   {
    "duration": 38,
    "start_time": "2025-03-27T09:45:22.135Z"
   },
   {
    "duration": 62,
    "start_time": "2025-03-27T09:45:22.174Z"
   },
   {
    "duration": 3,
    "start_time": "2025-03-27T09:45:22.237Z"
   },
   {
    "duration": 131,
    "start_time": "2025-03-27T09:45:22.242Z"
   },
   {
    "duration": 12,
    "start_time": "2025-03-27T09:46:58.016Z"
   },
   {
    "duration": 10,
    "start_time": "2025-03-27T09:47:04.886Z"
   },
   {
    "duration": 5,
    "start_time": "2025-03-27T09:47:26.949Z"
   },
   {
    "duration": 45,
    "start_time": "2025-03-27T09:48:51.923Z"
   },
   {
    "duration": 49,
    "start_time": "2025-03-27T09:49:33.797Z"
   },
   {
    "duration": 45,
    "start_time": "2025-03-27T09:49:47.276Z"
   },
   {
    "duration": 16,
    "start_time": "2025-03-27T09:50:18.366Z"
   },
   {
    "duration": 10,
    "start_time": "2025-03-27T09:50:39.903Z"
   },
   {
    "duration": 2405,
    "start_time": "2025-03-27T09:51:20.475Z"
   },
   {
    "duration": 103,
    "start_time": "2025-03-27T09:51:22.882Z"
   },
   {
    "duration": 13,
    "start_time": "2025-03-27T09:51:22.987Z"
   },
   {
    "duration": 68,
    "start_time": "2025-03-27T09:51:23.002Z"
   },
   {
    "duration": 15,
    "start_time": "2025-03-27T09:51:23.071Z"
   },
   {
    "duration": 7,
    "start_time": "2025-03-27T09:51:23.088Z"
   },
   {
    "duration": 1382,
    "start_time": "2025-03-27T09:51:23.097Z"
   },
   {
    "duration": 107,
    "start_time": "2025-03-27T09:51:24.481Z"
   },
   {
    "duration": 22,
    "start_time": "2025-03-27T09:51:24.589Z"
   },
   {
    "duration": 8,
    "start_time": "2025-03-27T09:51:24.613Z"
   },
   {
    "duration": 28,
    "start_time": "2025-03-27T09:51:24.622Z"
   },
   {
    "duration": 101,
    "start_time": "2025-03-27T09:51:24.651Z"
   },
   {
    "duration": 2,
    "start_time": "2025-03-27T09:51:24.754Z"
   },
   {
    "duration": 585,
    "start_time": "2025-03-27T09:51:24.757Z"
   },
   {
    "duration": 37,
    "start_time": "2025-03-27T09:51:25.344Z"
   },
   {
    "duration": 4,
    "start_time": "2025-03-27T09:51:25.383Z"
   },
   {
    "duration": 10,
    "start_time": "2025-03-27T09:51:25.389Z"
   },
   {
    "duration": 4,
    "start_time": "2025-03-27T09:51:25.401Z"
   },
   {
    "duration": 377,
    "start_time": "2025-03-27T09:51:25.406Z"
   },
   {
    "duration": 18,
    "start_time": "2025-03-27T09:51:25.785Z"
   },
   {
    "duration": 60,
    "start_time": "2025-03-27T09:51:25.805Z"
   },
   {
    "duration": 3,
    "start_time": "2025-03-27T09:51:25.867Z"
   },
   {
    "duration": 3,
    "start_time": "2025-03-27T09:51:25.871Z"
   },
   {
    "duration": 1042,
    "start_time": "2025-03-27T09:51:25.876Z"
   },
   {
    "duration": 22,
    "start_time": "2025-03-27T09:51:26.920Z"
   },
   {
    "duration": 126,
    "start_time": "2025-03-27T09:51:26.944Z"
   },
   {
    "duration": 10,
    "start_time": "2025-03-27T09:51:27.072Z"
   },
   {
    "duration": 8,
    "start_time": "2025-03-27T09:51:27.084Z"
   },
   {
    "duration": 16,
    "start_time": "2025-03-27T09:51:27.094Z"
   },
   {
    "duration": 8,
    "start_time": "2025-03-27T09:51:27.113Z"
   },
   {
    "duration": 19,
    "start_time": "2025-03-27T09:51:27.122Z"
   },
   {
    "duration": 17,
    "start_time": "2025-03-27T09:51:27.143Z"
   },
   {
    "duration": 11,
    "start_time": "2025-03-27T09:51:27.161Z"
   },
   {
    "duration": 5,
    "start_time": "2025-03-27T09:51:27.173Z"
   },
   {
    "duration": 111,
    "start_time": "2025-03-27T09:51:27.179Z"
   },
   {
    "duration": 3,
    "start_time": "2025-03-27T09:51:27.291Z"
   },
   {
    "duration": 147,
    "start_time": "2025-03-27T09:51:27.295Z"
   },
   {
    "duration": 72,
    "start_time": "2025-03-27T09:51:27.495Z"
   },
   {
    "duration": 2,
    "start_time": "2025-03-27T09:51:27.689Z"
   },
   {
    "duration": 18,
    "start_time": "2025-03-27T09:51:27.881Z"
   },
   {
    "duration": 19,
    "start_time": "2025-03-27T09:51:28.073Z"
   },
   {
    "duration": 16,
    "start_time": "2025-03-27T09:51:28.273Z"
   },
   {
    "duration": 3,
    "start_time": "2025-03-27T09:51:28.475Z"
   },
   {
    "duration": 6,
    "start_time": "2025-03-27T09:51:28.669Z"
   },
   {
    "duration": 8,
    "start_time": "2025-03-27T09:51:28.867Z"
   },
   {
    "duration": 2,
    "start_time": "2025-03-27T09:51:29.065Z"
   },
   {
    "duration": 69,
    "start_time": "2025-03-27T09:51:29.265Z"
   },
   {
    "duration": 70,
    "start_time": "2025-03-27T09:51:29.439Z"
   },
   {
    "duration": 2,
    "start_time": "2025-03-27T09:51:29.645Z"
   },
   {
    "duration": 34,
    "start_time": "2025-03-27T09:51:29.831Z"
   },
   {
    "duration": 33,
    "start_time": "2025-03-27T09:51:30.017Z"
   },
   {
    "duration": 2,
    "start_time": "2025-03-27T09:51:30.191Z"
   },
   {
    "duration": 11,
    "start_time": "2025-03-27T09:51:30.351Z"
   },
   {
    "duration": 11,
    "start_time": "2025-03-27T09:51:30.511Z"
   },
   {
    "duration": 3,
    "start_time": "2025-03-27T09:51:30.665Z"
   },
   {
    "duration": 19,
    "start_time": "2025-03-27T09:51:30.819Z"
   },
   {
    "duration": 19,
    "start_time": "2025-03-27T09:51:30.991Z"
   },
   {
    "duration": 2,
    "start_time": "2025-03-27T09:51:31.177Z"
   },
   {
    "duration": 100,
    "start_time": "2025-03-27T09:51:32.043Z"
   },
   {
    "duration": 48,
    "start_time": "2025-03-27T09:51:32.267Z"
   },
   {
    "duration": 11,
    "start_time": "2025-03-27T09:51:32.625Z"
   },
   {
    "duration": 11,
    "start_time": "2025-03-27T09:51:32.979Z"
   },
   {
    "duration": 2,
    "start_time": "2025-03-27T09:51:33.593Z"
   },
   {
    "duration": 166,
    "start_time": "2025-03-27T09:51:34.217Z"
   },
   {
    "duration": 96,
    "start_time": "2025-03-27T09:51:35.733Z"
   },
   {
    "duration": 35,
    "start_time": "2025-03-27T09:51:36.167Z"
   },
   {
    "duration": 43,
    "start_time": "2025-03-27T09:51:36.784Z"
   },
   {
    "duration": 3,
    "start_time": "2025-03-27T09:51:37.267Z"
   },
   {
    "duration": 14,
    "start_time": "2025-03-27T09:51:38.266Z"
   },
   {
    "duration": 44,
    "start_time": "2025-03-27T09:52:05.107Z"
   },
   {
    "duration": 11,
    "start_time": "2025-03-27T09:52:17.440Z"
   },
   {
    "duration": 10,
    "start_time": "2025-03-27T09:52:47.269Z"
   },
   {
    "duration": 44,
    "start_time": "2025-03-27T09:53:25.395Z"
   },
   {
    "duration": 2,
    "start_time": "2025-03-27T09:55:16.206Z"
   },
   {
    "duration": 43,
    "start_time": "2025-03-27T09:55:16.710Z"
   },
   {
    "duration": 198,
    "start_time": "2025-03-27T10:01:18.030Z"
   },
   {
    "duration": 10,
    "start_time": "2025-03-27T10:02:00.195Z"
   },
   {
    "duration": 17,
    "start_time": "2025-03-27T10:02:16.927Z"
   },
   {
    "duration": 17,
    "start_time": "2025-03-27T10:02:36.882Z"
   },
   {
    "duration": 13,
    "start_time": "2025-03-27T10:04:58.171Z"
   },
   {
    "duration": 13,
    "start_time": "2025-03-27T10:05:22.976Z"
   },
   {
    "duration": 13,
    "start_time": "2025-03-27T10:05:42.377Z"
   },
   {
    "duration": 12,
    "start_time": "2025-03-27T10:05:54.412Z"
   },
   {
    "duration": 12,
    "start_time": "2025-03-27T10:06:03.290Z"
   },
   {
    "duration": 3601,
    "start_time": "2025-03-27T10:06:47.588Z"
   },
   {
    "duration": 85,
    "start_time": "2025-03-27T10:06:51.190Z"
   },
   {
    "duration": 13,
    "start_time": "2025-03-27T10:06:51.276Z"
   },
   {
    "duration": 57,
    "start_time": "2025-03-27T10:06:51.291Z"
   },
   {
    "duration": 3,
    "start_time": "2025-03-27T10:06:51.349Z"
   },
   {
    "duration": 3,
    "start_time": "2025-03-27T10:06:51.354Z"
   },
   {
    "duration": 1308,
    "start_time": "2025-03-27T10:06:51.358Z"
   },
   {
    "duration": 104,
    "start_time": "2025-03-27T10:06:52.668Z"
   },
   {
    "duration": 22,
    "start_time": "2025-03-27T10:06:52.774Z"
   },
   {
    "duration": 2,
    "start_time": "2025-03-27T10:06:52.799Z"
   },
   {
    "duration": 51,
    "start_time": "2025-03-27T10:06:52.802Z"
   },
   {
    "duration": 101,
    "start_time": "2025-03-27T10:06:52.855Z"
   },
   {
    "duration": 3,
    "start_time": "2025-03-27T10:06:52.957Z"
   },
   {
    "duration": 3099,
    "start_time": "2025-03-27T10:06:52.961Z"
   },
   {
    "duration": 37,
    "start_time": "2025-03-27T10:06:56.062Z"
   },
   {
    "duration": 2,
    "start_time": "2025-03-27T10:06:56.101Z"
   },
   {
    "duration": 10,
    "start_time": "2025-03-27T10:06:56.104Z"
   },
   {
    "duration": 2,
    "start_time": "2025-03-27T10:06:56.116Z"
   },
   {
    "duration": 770,
    "start_time": "2025-03-27T10:06:56.135Z"
   },
   {
    "duration": 17,
    "start_time": "2025-03-27T10:06:56.906Z"
   },
   {
    "duration": 7,
    "start_time": "2025-03-27T10:06:56.935Z"
   },
   {
    "duration": 4,
    "start_time": "2025-03-27T10:06:56.944Z"
   },
   {
    "duration": 5,
    "start_time": "2025-03-27T10:06:56.949Z"
   },
   {
    "duration": 494,
    "start_time": "2025-03-27T10:06:56.955Z"
   },
   {
    "duration": 23,
    "start_time": "2025-03-27T10:06:57.450Z"
   },
   {
    "duration": 8,
    "start_time": "2025-03-27T10:06:57.474Z"
   },
   {
    "duration": 3,
    "start_time": "2025-03-27T10:06:57.483Z"
   },
   {
    "duration": 2,
    "start_time": "2025-03-27T10:06:57.490Z"
   },
   {
    "duration": 11,
    "start_time": "2025-03-27T10:06:57.493Z"
   },
   {
    "duration": 30,
    "start_time": "2025-03-27T10:06:57.506Z"
   },
   {
    "duration": 8,
    "start_time": "2025-03-27T10:06:57.537Z"
   },
   {
    "duration": 14,
    "start_time": "2025-03-27T10:06:57.546Z"
   },
   {
    "duration": 8,
    "start_time": "2025-03-27T10:06:57.561Z"
   },
   {
    "duration": 4,
    "start_time": "2025-03-27T10:06:57.571Z"
   },
   {
    "duration": 115,
    "start_time": "2025-03-27T10:06:57.576Z"
   },
   {
    "duration": 2,
    "start_time": "2025-03-27T10:06:57.693Z"
   },
   {
    "duration": 260,
    "start_time": "2025-03-27T10:06:57.697Z"
   },
   {
    "duration": 98,
    "start_time": "2025-03-27T10:06:57.959Z"
   },
   {
    "duration": 2,
    "start_time": "2025-03-27T10:06:58.058Z"
   },
   {
    "duration": 22,
    "start_time": "2025-03-27T10:06:58.062Z"
   },
   {
    "duration": 18,
    "start_time": "2025-03-27T10:06:58.086Z"
   },
   {
    "duration": 33,
    "start_time": "2025-03-27T10:06:58.105Z"
   },
   {
    "duration": 3,
    "start_time": "2025-03-27T10:06:58.140Z"
   },
   {
    "duration": 12,
    "start_time": "2025-03-27T10:06:58.145Z"
   },
   {
    "duration": 8,
    "start_time": "2025-03-27T10:06:58.159Z"
   },
   {
    "duration": 2,
    "start_time": "2025-03-27T10:06:58.168Z"
   },
   {
    "duration": 88,
    "start_time": "2025-03-27T10:06:58.172Z"
   },
   {
    "duration": 81,
    "start_time": "2025-03-27T10:06:58.261Z"
   },
   {
    "duration": 2,
    "start_time": "2025-03-27T10:06:58.344Z"
   },
   {
    "duration": 73,
    "start_time": "2025-03-27T10:06:58.347Z"
   },
   {
    "duration": 34,
    "start_time": "2025-03-27T10:06:58.422Z"
   },
   {
    "duration": 2,
    "start_time": "2025-03-27T10:06:58.458Z"
   },
   {
    "duration": 11,
    "start_time": "2025-03-27T10:06:58.462Z"
   },
   {
    "duration": 12,
    "start_time": "2025-03-27T10:06:58.475Z"
   },
   {
    "duration": 3,
    "start_time": "2025-03-27T10:06:58.488Z"
   },
   {
    "duration": 48,
    "start_time": "2025-03-27T10:06:58.493Z"
   },
   {
    "duration": 22,
    "start_time": "2025-03-27T10:06:58.543Z"
   },
   {
    "duration": 2,
    "start_time": "2025-03-27T10:06:58.567Z"
   },
   {
    "duration": 123,
    "start_time": "2025-03-27T10:06:58.571Z"
   },
   {
    "duration": 69,
    "start_time": "2025-03-27T10:06:58.696Z"
   },
   {
    "duration": 22,
    "start_time": "2025-03-27T10:06:58.767Z"
   },
   {
    "duration": 11,
    "start_time": "2025-03-27T10:06:58.791Z"
   },
   {
    "duration": 3,
    "start_time": "2025-03-27T10:06:58.803Z"
   },
   {
    "duration": 180,
    "start_time": "2025-03-27T10:06:58.808Z"
   },
   {
    "duration": 112,
    "start_time": "2025-03-27T10:06:58.990Z"
   },
   {
    "duration": 46,
    "start_time": "2025-03-27T10:06:59.103Z"
   },
   {
    "duration": 48,
    "start_time": "2025-03-27T10:06:59.150Z"
   },
   {
    "duration": 2,
    "start_time": "2025-03-27T10:06:59.200Z"
   },
   {
    "duration": 57,
    "start_time": "2025-03-27T10:06:59.204Z"
   },
   {
    "duration": 2,
    "start_time": "2025-03-27T10:06:59.263Z"
   },
   {
    "duration": 84,
    "start_time": "2025-03-27T10:06:59.266Z"
   },
   {
    "duration": 11,
    "start_time": "2025-03-27T10:06:59.351Z"
   },
   {
    "duration": 14,
    "start_time": "2025-03-27T10:07:18.383Z"
   },
   {
    "duration": 3610,
    "start_time": "2025-03-27T10:07:31.587Z"
   },
   {
    "duration": 176,
    "start_time": "2025-03-27T10:07:35.199Z"
   },
   {
    "duration": 11,
    "start_time": "2025-03-27T10:07:35.377Z"
   },
   {
    "duration": 16,
    "start_time": "2025-03-27T10:07:35.391Z"
   },
   {
    "duration": 6,
    "start_time": "2025-03-27T10:07:35.409Z"
   },
   {
    "duration": 5,
    "start_time": "2025-03-27T10:07:35.417Z"
   },
   {
    "duration": 6072,
    "start_time": "2025-03-27T10:07:35.423Z"
   },
   {
    "duration": 101,
    "start_time": "2025-03-27T10:07:41.497Z"
   },
   {
    "duration": 26,
    "start_time": "2025-03-27T10:07:41.599Z"
   },
   {
    "duration": 2,
    "start_time": "2025-03-27T10:07:41.635Z"
   },
   {
    "duration": 39,
    "start_time": "2025-03-27T10:07:41.639Z"
   },
   {
    "duration": 110,
    "start_time": "2025-03-27T10:07:41.679Z"
   },
   {
    "duration": 40,
    "start_time": "2025-03-27T10:07:41.791Z"
   },
   {
    "duration": 2216,
    "start_time": "2025-03-27T10:07:41.833Z"
   },
   {
    "duration": 38,
    "start_time": "2025-03-27T10:07:44.050Z"
   },
   {
    "duration": 2,
    "start_time": "2025-03-27T10:07:44.090Z"
   },
   {
    "duration": 23,
    "start_time": "2025-03-27T10:07:44.093Z"
   },
   {
    "duration": 5,
    "start_time": "2025-03-27T10:07:44.117Z"
   },
   {
    "duration": 260,
    "start_time": "2025-03-27T10:07:44.136Z"
   },
   {
    "duration": 21,
    "start_time": "2025-03-27T10:07:44.398Z"
   },
   {
    "duration": 16,
    "start_time": "2025-03-27T10:07:44.421Z"
   },
   {
    "duration": 8,
    "start_time": "2025-03-27T10:07:44.439Z"
   },
   {
    "duration": 16,
    "start_time": "2025-03-27T10:07:44.449Z"
   },
   {
    "duration": 230,
    "start_time": "2025-03-27T10:07:44.467Z"
   },
   {
    "duration": 24,
    "start_time": "2025-03-27T10:07:44.699Z"
   },
   {
    "duration": 56,
    "start_time": "2025-03-27T10:07:44.735Z"
   },
   {
    "duration": 8,
    "start_time": "2025-03-27T10:07:44.793Z"
   },
   {
    "duration": 6,
    "start_time": "2025-03-27T10:07:44.804Z"
   },
   {
    "duration": 14,
    "start_time": "2025-03-27T10:07:44.811Z"
   },
   {
    "duration": 4,
    "start_time": "2025-03-27T10:07:44.827Z"
   },
   {
    "duration": 9,
    "start_time": "2025-03-27T10:07:44.832Z"
   },
   {
    "duration": 10,
    "start_time": "2025-03-27T10:07:44.842Z"
   },
   {
    "duration": 7,
    "start_time": "2025-03-27T10:07:44.854Z"
   },
   {
    "duration": 3,
    "start_time": "2025-03-27T10:07:44.863Z"
   },
   {
    "duration": 108,
    "start_time": "2025-03-27T10:07:44.867Z"
   },
   {
    "duration": 3,
    "start_time": "2025-03-27T10:07:44.977Z"
   },
   {
    "duration": 224,
    "start_time": "2025-03-27T10:07:44.982Z"
   },
   {
    "duration": 83,
    "start_time": "2025-03-27T10:07:45.208Z"
   },
   {
    "duration": 3,
    "start_time": "2025-03-27T10:07:45.293Z"
   },
   {
    "duration": 62,
    "start_time": "2025-03-27T10:07:45.298Z"
   },
   {
    "duration": 22,
    "start_time": "2025-03-27T10:07:45.362Z"
   },
   {
    "duration": 24,
    "start_time": "2025-03-27T10:07:45.385Z"
   },
   {
    "duration": 3,
    "start_time": "2025-03-27T10:07:45.411Z"
   },
   {
    "duration": 7,
    "start_time": "2025-03-27T10:07:45.415Z"
   },
   {
    "duration": 12,
    "start_time": "2025-03-27T10:07:45.423Z"
   },
   {
    "duration": 2,
    "start_time": "2025-03-27T10:07:45.437Z"
   },
   {
    "duration": 75,
    "start_time": "2025-03-27T10:07:45.440Z"
   },
   {
    "duration": 80,
    "start_time": "2025-03-27T10:07:45.517Z"
   },
   {
    "duration": 2,
    "start_time": "2025-03-27T10:07:45.598Z"
   },
   {
    "duration": 52,
    "start_time": "2025-03-27T10:07:45.601Z"
   },
   {
    "duration": 36,
    "start_time": "2025-03-27T10:07:45.655Z"
   },
   {
    "duration": 128,
    "start_time": "2025-03-27T10:07:45.692Z"
   },
   {
    "duration": 11,
    "start_time": "2025-03-27T10:07:45.822Z"
   },
   {
    "duration": 11,
    "start_time": "2025-03-27T10:07:45.834Z"
   },
   {
    "duration": 85,
    "start_time": "2025-03-27T10:07:45.846Z"
   },
   {
    "duration": 22,
    "start_time": "2025-03-27T10:07:45.932Z"
   },
   {
    "duration": 21,
    "start_time": "2025-03-27T10:07:45.955Z"
   },
   {
    "duration": 2,
    "start_time": "2025-03-27T10:07:45.978Z"
   },
   {
    "duration": 117,
    "start_time": "2025-03-27T10:07:45.982Z"
   },
   {
    "duration": 63,
    "start_time": "2025-03-27T10:07:46.101Z"
   },
   {
    "duration": 10,
    "start_time": "2025-03-27T10:07:46.166Z"
   },
   {
    "duration": 17,
    "start_time": "2025-03-27T10:07:46.177Z"
   },
   {
    "duration": 4,
    "start_time": "2025-03-27T10:07:46.195Z"
   },
   {
    "duration": 187,
    "start_time": "2025-03-27T10:07:46.200Z"
   },
   {
    "duration": 110,
    "start_time": "2025-03-27T10:07:46.389Z"
   },
   {
    "duration": 59,
    "start_time": "2025-03-27T10:07:46.502Z"
   },
   {
    "duration": 44,
    "start_time": "2025-03-27T10:07:46.563Z"
   },
   {
    "duration": 2,
    "start_time": "2025-03-27T10:07:46.609Z"
   },
   {
    "duration": 39,
    "start_time": "2025-03-27T10:07:46.636Z"
   },
   {
    "duration": 2,
    "start_time": "2025-03-27T10:07:46.677Z"
   },
   {
    "duration": 32,
    "start_time": "2025-03-27T10:07:46.681Z"
   },
   {
    "duration": 78,
    "start_time": "2025-03-27T10:07:46.715Z"
   },
   {
    "duration": 102,
    "start_time": "2025-03-27T10:17:14.707Z"
   },
   {
    "duration": 11,
    "start_time": "2025-03-27T10:18:48.278Z"
   },
   {
    "duration": 7,
    "start_time": "2025-03-27T10:18:56.561Z"
   },
   {
    "duration": 17,
    "start_time": "2025-03-27T10:19:08.660Z"
   },
   {
    "duration": 11,
    "start_time": "2025-03-27T10:21:16.132Z"
   },
   {
    "duration": 160,
    "start_time": "2025-03-27T10:22:25.487Z"
   },
   {
    "duration": 145,
    "start_time": "2025-03-27T10:22:37.261Z"
   },
   {
    "duration": 12,
    "start_time": "2025-03-27T10:22:47.786Z"
   },
   {
    "duration": 2536,
    "start_time": "2025-03-27T12:49:19.600Z"
   },
   {
    "duration": 74,
    "start_time": "2025-03-27T12:49:22.139Z"
   },
   {
    "duration": 13,
    "start_time": "2025-03-27T12:49:22.214Z"
   },
   {
    "duration": 13,
    "start_time": "2025-03-27T12:49:22.230Z"
   },
   {
    "duration": 4,
    "start_time": "2025-03-27T12:49:22.244Z"
   },
   {
    "duration": 3,
    "start_time": "2025-03-27T12:49:22.250Z"
   },
   {
    "duration": 1155,
    "start_time": "2025-03-27T12:49:22.255Z"
   },
   {
    "duration": 112,
    "start_time": "2025-03-27T12:49:23.412Z"
   },
   {
    "duration": 38,
    "start_time": "2025-03-27T12:49:23.525Z"
   },
   {
    "duration": 3,
    "start_time": "2025-03-27T12:49:23.565Z"
   },
   {
    "duration": 21,
    "start_time": "2025-03-27T12:49:23.569Z"
   },
   {
    "duration": 123,
    "start_time": "2025-03-27T12:49:23.592Z"
   },
   {
    "duration": 2,
    "start_time": "2025-03-27T12:49:23.717Z"
   },
   {
    "duration": 581,
    "start_time": "2025-03-27T12:49:23.721Z"
   },
   {
    "duration": 42,
    "start_time": "2025-03-27T12:49:24.304Z"
   },
   {
    "duration": 2,
    "start_time": "2025-03-27T12:49:24.358Z"
   },
   {
    "duration": 84,
    "start_time": "2025-03-27T12:49:24.362Z"
   },
   {
    "duration": 3,
    "start_time": "2025-03-27T12:49:24.448Z"
   },
   {
    "duration": 432,
    "start_time": "2025-03-27T12:49:24.452Z"
   },
   {
    "duration": 24,
    "start_time": "2025-03-27T12:49:24.885Z"
   },
   {
    "duration": 9,
    "start_time": "2025-03-27T12:49:24.911Z"
   },
   {
    "duration": 3,
    "start_time": "2025-03-27T12:49:24.922Z"
   },
   {
    "duration": 31,
    "start_time": "2025-03-27T12:49:24.927Z"
   },
   {
    "duration": 405,
    "start_time": "2025-03-27T12:49:24.961Z"
   },
   {
    "duration": 25,
    "start_time": "2025-03-27T12:49:25.367Z"
   },
   {
    "duration": 9,
    "start_time": "2025-03-27T12:49:25.394Z"
   },
   {
    "duration": 163,
    "start_time": "2025-03-27T12:49:25.405Z"
   },
   {
    "duration": 9,
    "start_time": "2025-03-27T12:49:25.570Z"
   },
   {
    "duration": 16,
    "start_time": "2025-03-27T12:49:25.580Z"
   },
   {
    "duration": 4,
    "start_time": "2025-03-27T12:49:25.597Z"
   },
   {
    "duration": 14,
    "start_time": "2025-03-27T12:49:25.603Z"
   },
   {
    "duration": 14,
    "start_time": "2025-03-27T12:49:25.619Z"
   },
   {
    "duration": 9,
    "start_time": "2025-03-27T12:49:25.635Z"
   },
   {
    "duration": 3,
    "start_time": "2025-03-27T12:49:25.645Z"
   },
   {
    "duration": 106,
    "start_time": "2025-03-27T12:49:25.658Z"
   },
   {
    "duration": 3,
    "start_time": "2025-03-27T12:49:25.766Z"
   },
   {
    "duration": 161,
    "start_time": "2025-03-27T12:49:25.770Z"
   },
   {
    "duration": 88,
    "start_time": "2025-03-27T12:49:25.932Z"
   },
   {
    "duration": 3,
    "start_time": "2025-03-27T12:49:26.022Z"
   },
   {
    "duration": 34,
    "start_time": "2025-03-27T12:49:26.027Z"
   },
   {
    "duration": 22,
    "start_time": "2025-03-27T12:49:26.063Z"
   },
   {
    "duration": 35,
    "start_time": "2025-03-27T12:49:26.087Z"
   },
   {
    "duration": 3,
    "start_time": "2025-03-27T12:49:26.124Z"
   },
   {
    "duration": 8,
    "start_time": "2025-03-27T12:49:26.129Z"
   },
   {
    "duration": 24,
    "start_time": "2025-03-27T12:49:26.139Z"
   },
   {
    "duration": 3,
    "start_time": "2025-03-27T12:49:26.165Z"
   },
   {
    "duration": 93,
    "start_time": "2025-03-27T12:49:26.173Z"
   },
   {
    "duration": 75,
    "start_time": "2025-03-27T12:49:26.268Z"
   },
   {
    "duration": 13,
    "start_time": "2025-03-27T12:49:26.345Z"
   },
   {
    "duration": 142,
    "start_time": "2025-03-27T12:49:26.360Z"
   },
   {
    "duration": 36,
    "start_time": "2025-03-27T12:49:26.504Z"
   },
   {
    "duration": 60,
    "start_time": "2025-03-27T12:49:26.542Z"
   },
   {
    "duration": 15,
    "start_time": "2025-03-27T12:49:26.604Z"
   },
   {
    "duration": 12,
    "start_time": "2025-03-27T12:49:26.620Z"
   },
   {
    "duration": 17,
    "start_time": "2025-03-27T12:49:26.634Z"
   },
   {
    "duration": 23,
    "start_time": "2025-03-27T12:49:27.084Z"
   },
   {
    "duration": 37,
    "start_time": "2025-03-27T12:49:27.702Z"
   },
   {
    "duration": 4,
    "start_time": "2025-03-27T12:49:28.014Z"
   },
   {
    "duration": 113,
    "start_time": "2025-03-27T12:49:29.622Z"
   },
   {
    "duration": 59,
    "start_time": "2025-03-27T12:49:29.997Z"
   },
   {
    "duration": 12,
    "start_time": "2025-03-27T12:49:30.380Z"
   },
   {
    "duration": 11,
    "start_time": "2025-03-27T12:49:30.750Z"
   },
   {
    "duration": 3,
    "start_time": "2025-03-27T12:49:31.212Z"
   },
   {
    "duration": 205,
    "start_time": "2025-03-27T12:49:31.453Z"
   },
   {
    "duration": 105,
    "start_time": "2025-03-27T12:49:32.486Z"
   },
   {
    "duration": 38,
    "start_time": "2025-03-27T12:49:32.901Z"
   },
   {
    "duration": 52,
    "start_time": "2025-03-27T12:49:33.214Z"
   },
   {
    "duration": 2,
    "start_time": "2025-03-27T12:49:33.539Z"
   },
   {
    "duration": 49,
    "start_time": "2025-03-27T12:49:33.824Z"
   },
   {
    "duration": 2,
    "start_time": "2025-03-27T12:49:34.098Z"
   },
   {
    "duration": 20,
    "start_time": "2025-03-27T12:49:34.362Z"
   },
   {
    "duration": 14,
    "start_time": "2025-03-27T12:49:34.630Z"
   },
   {
    "duration": 19,
    "start_time": "2025-03-27T12:49:34.884Z"
   },
   {
    "duration": 21,
    "start_time": "2025-03-27T12:49:35.198Z"
   },
   {
    "duration": 18,
    "start_time": "2025-03-27T12:55:12.196Z"
   },
   {
    "duration": 22,
    "start_time": "2025-03-27T12:56:01.595Z"
   },
   {
    "duration": 10,
    "start_time": "2025-03-27T12:56:11.551Z"
   },
   {
    "duration": 15,
    "start_time": "2025-03-27T12:56:24.711Z"
   },
   {
    "duration": 1256,
    "start_time": "2025-03-27T12:56:50.504Z"
   },
   {
    "duration": 14,
    "start_time": "2025-03-27T12:57:04.914Z"
   },
   {
    "duration": 2506,
    "start_time": "2025-03-27T12:57:20.513Z"
   },
   {
    "duration": 85,
    "start_time": "2025-03-27T12:57:23.022Z"
   },
   {
    "duration": 15,
    "start_time": "2025-03-27T12:57:23.109Z"
   },
   {
    "duration": 9,
    "start_time": "2025-03-27T12:57:23.127Z"
   },
   {
    "duration": 7,
    "start_time": "2025-03-27T12:57:23.138Z"
   },
   {
    "duration": 6,
    "start_time": "2025-03-27T12:57:23.146Z"
   },
   {
    "duration": 1044,
    "start_time": "2025-03-27T12:57:23.154Z"
   },
   {
    "duration": 117,
    "start_time": "2025-03-27T12:57:24.199Z"
   },
   {
    "duration": 26,
    "start_time": "2025-03-27T12:57:24.317Z"
   },
   {
    "duration": 4,
    "start_time": "2025-03-27T12:57:24.358Z"
   },
   {
    "duration": 24,
    "start_time": "2025-03-27T12:57:24.364Z"
   },
   {
    "duration": 110,
    "start_time": "2025-03-27T12:57:24.389Z"
   },
   {
    "duration": 3,
    "start_time": "2025-03-27T12:57:24.501Z"
   },
   {
    "duration": 411,
    "start_time": "2025-03-27T12:57:24.505Z"
   },
   {
    "duration": 47,
    "start_time": "2025-03-27T12:57:24.919Z"
   },
   {
    "duration": 2,
    "start_time": "2025-03-27T12:57:24.968Z"
   },
   {
    "duration": 12,
    "start_time": "2025-03-27T12:57:24.973Z"
   },
   {
    "duration": 2,
    "start_time": "2025-03-27T12:57:24.988Z"
   },
   {
    "duration": 260,
    "start_time": "2025-03-27T12:57:24.992Z"
   },
   {
    "duration": 20,
    "start_time": "2025-03-27T12:57:25.257Z"
   },
   {
    "duration": 29,
    "start_time": "2025-03-27T12:57:25.279Z"
   },
   {
    "duration": 3,
    "start_time": "2025-03-27T12:57:25.310Z"
   },
   {
    "duration": 5,
    "start_time": "2025-03-27T12:57:25.314Z"
   },
   {
    "duration": 373,
    "start_time": "2025-03-27T12:57:25.320Z"
   },
   {
    "duration": 24,
    "start_time": "2025-03-27T12:57:25.695Z"
   },
   {
    "duration": 8,
    "start_time": "2025-03-27T12:57:25.721Z"
   },
   {
    "duration": 3,
    "start_time": "2025-03-27T12:57:25.730Z"
   },
   {
    "duration": 19,
    "start_time": "2025-03-27T12:57:25.738Z"
   },
   {
    "duration": 11,
    "start_time": "2025-03-27T12:57:25.759Z"
   },
   {
    "duration": 6,
    "start_time": "2025-03-27T12:57:25.772Z"
   },
   {
    "duration": 7,
    "start_time": "2025-03-27T12:57:25.779Z"
   },
   {
    "duration": 19,
    "start_time": "2025-03-27T12:57:25.788Z"
   },
   {
    "duration": 9,
    "start_time": "2025-03-27T12:57:25.808Z"
   },
   {
    "duration": 74,
    "start_time": "2025-03-27T12:57:25.818Z"
   },
   {
    "duration": 100,
    "start_time": "2025-03-27T12:57:25.894Z"
   },
   {
    "duration": 3,
    "start_time": "2025-03-27T12:57:25.995Z"
   },
   {
    "duration": 146,
    "start_time": "2025-03-27T12:57:25.999Z"
   },
   {
    "duration": 82,
    "start_time": "2025-03-27T12:57:26.147Z"
   },
   {
    "duration": 3,
    "start_time": "2025-03-27T12:57:26.230Z"
   },
   {
    "duration": 31,
    "start_time": "2025-03-27T12:57:26.235Z"
   },
   {
    "duration": 19,
    "start_time": "2025-03-27T12:57:26.267Z"
   },
   {
    "duration": 15,
    "start_time": "2025-03-27T12:57:26.288Z"
   },
   {
    "duration": 2,
    "start_time": "2025-03-27T12:57:26.305Z"
   },
   {
    "duration": 6,
    "start_time": "2025-03-27T12:57:26.309Z"
   },
   {
    "duration": 7,
    "start_time": "2025-03-27T12:57:26.317Z"
   },
   {
    "duration": 3,
    "start_time": "2025-03-27T12:57:26.358Z"
   },
   {
    "duration": 73,
    "start_time": "2025-03-27T12:57:26.363Z"
   },
   {
    "duration": 90,
    "start_time": "2025-03-27T12:57:26.438Z"
   },
   {
    "duration": 3,
    "start_time": "2025-03-27T12:57:26.530Z"
   },
   {
    "duration": 130,
    "start_time": "2025-03-27T12:57:26.535Z"
   },
   {
    "duration": 38,
    "start_time": "2025-03-27T12:57:26.667Z"
   },
   {
    "duration": 2,
    "start_time": "2025-03-27T12:57:26.707Z"
   },
   {
    "duration": 11,
    "start_time": "2025-03-27T12:57:26.711Z"
   },
   {
    "duration": 12,
    "start_time": "2025-03-27T12:57:26.723Z"
   },
   {
    "duration": 3,
    "start_time": "2025-03-27T12:57:26.758Z"
   },
   {
    "duration": 21,
    "start_time": "2025-03-27T12:57:26.762Z"
   },
   {
    "duration": 24,
    "start_time": "2025-03-27T12:57:26.785Z"
   },
   {
    "duration": 4,
    "start_time": "2025-03-27T12:57:26.810Z"
   },
   {
    "duration": 128,
    "start_time": "2025-03-27T12:57:26.816Z"
   },
   {
    "duration": 65,
    "start_time": "2025-03-27T12:57:26.946Z"
   },
   {
    "duration": 11,
    "start_time": "2025-03-27T12:57:27.012Z"
   },
   {
    "duration": 15,
    "start_time": "2025-03-27T12:57:27.025Z"
   },
   {
    "duration": 16,
    "start_time": "2025-03-27T12:57:27.042Z"
   },
   {
    "duration": 188,
    "start_time": "2025-03-27T12:57:27.059Z"
   },
   {
    "duration": 127,
    "start_time": "2025-03-27T12:57:27.249Z"
   },
   {
    "duration": 38,
    "start_time": "2025-03-27T12:57:27.378Z"
   },
   {
    "duration": 72,
    "start_time": "2025-03-27T12:57:27.417Z"
   },
   {
    "duration": 80,
    "start_time": "2025-03-27T12:57:27.491Z"
   },
   {
    "duration": 64,
    "start_time": "2025-03-27T12:57:27.573Z"
   },
   {
    "duration": 2,
    "start_time": "2025-03-27T12:57:27.639Z"
   },
   {
    "duration": 18,
    "start_time": "2025-03-27T12:57:27.643Z"
   },
   {
    "duration": 14,
    "start_time": "2025-03-27T12:57:27.662Z"
   },
   {
    "duration": 1567,
    "start_time": "2025-03-27T12:57:27.677Z"
   },
   {
    "duration": 0,
    "start_time": "2025-03-27T12:57:29.246Z"
   },
   {
    "duration": 17,
    "start_time": "2025-03-27T12:58:00.796Z"
   },
   {
    "duration": 14,
    "start_time": "2025-03-27T12:58:12.043Z"
   },
   {
    "duration": 3,
    "start_time": "2025-03-27T12:59:54.628Z"
   },
   {
    "duration": 8,
    "start_time": "2025-03-27T13:00:02.728Z"
   },
   {
    "duration": 3,
    "start_time": "2025-03-27T13:02:17.960Z"
   },
   {
    "duration": 24,
    "start_time": "2025-03-27T13:02:34.454Z"
   },
   {
    "duration": 30,
    "start_time": "2025-03-27T13:04:05.286Z"
   },
   {
    "duration": 42,
    "start_time": "2025-03-27T13:04:56.626Z"
   },
   {
    "duration": 52,
    "start_time": "2025-03-27T13:44:46.152Z"
   },
   {
    "duration": 3,
    "start_time": "2025-03-27T13:46:23.959Z"
   },
   {
    "duration": 10,
    "start_time": "2025-03-27T13:48:05.067Z"
   },
   {
    "duration": 42,
    "start_time": "2025-03-27T13:48:11.014Z"
   },
   {
    "duration": 51,
    "start_time": "2025-03-27T13:48:21.700Z"
   },
   {
    "duration": 52,
    "start_time": "2025-03-27T13:48:33.558Z"
   },
   {
    "duration": 45,
    "start_time": "2025-03-27T13:48:40.161Z"
   },
   {
    "duration": 100,
    "start_time": "2025-03-27T13:49:14.500Z"
   },
   {
    "duration": 42,
    "start_time": "2025-03-27T13:49:58.307Z"
   },
   {
    "duration": 70,
    "start_time": "2025-03-27T13:50:32.606Z"
   },
   {
    "duration": 12,
    "start_time": "2025-03-27T13:51:49.051Z"
   },
   {
    "duration": 97,
    "start_time": "2025-03-27T14:01:49.022Z"
   },
   {
    "duration": 1207,
    "start_time": "2025-03-27T14:16:56.279Z"
   },
   {
    "duration": 14,
    "start_time": "2025-03-27T14:17:13.442Z"
   },
   {
    "duration": 90,
    "start_time": "2025-03-27T14:19:07.771Z"
   },
   {
    "duration": 93,
    "start_time": "2025-03-27T14:19:25.231Z"
   },
   {
    "duration": 44,
    "start_time": "2025-03-27T14:24:08.473Z"
   },
   {
    "duration": 3748,
    "start_time": "2025-03-27T14:26:22.188Z"
   },
   {
    "duration": 55,
    "start_time": "2025-03-27T14:26:25.938Z"
   },
   {
    "duration": 14,
    "start_time": "2025-03-27T14:26:25.994Z"
   },
   {
    "duration": 13,
    "start_time": "2025-03-27T14:26:26.010Z"
   },
   {
    "duration": 2,
    "start_time": "2025-03-27T14:26:26.025Z"
   },
   {
    "duration": 5,
    "start_time": "2025-03-27T14:26:26.029Z"
   },
   {
    "duration": 1311,
    "start_time": "2025-03-27T14:26:26.035Z"
   },
   {
    "duration": 110,
    "start_time": "2025-03-27T14:26:27.348Z"
   },
   {
    "duration": 25,
    "start_time": "2025-03-27T14:26:27.460Z"
   },
   {
    "duration": 2,
    "start_time": "2025-03-27T14:26:27.488Z"
   },
   {
    "duration": 41,
    "start_time": "2025-03-27T14:26:27.492Z"
   },
   {
    "duration": 129,
    "start_time": "2025-03-27T14:26:27.535Z"
   },
   {
    "duration": 3,
    "start_time": "2025-03-27T14:26:27.666Z"
   },
   {
    "duration": 1515,
    "start_time": "2025-03-27T14:26:27.671Z"
   },
   {
    "duration": 42,
    "start_time": "2025-03-27T14:26:29.188Z"
   },
   {
    "duration": 3,
    "start_time": "2025-03-27T14:26:29.231Z"
   },
   {
    "duration": 28,
    "start_time": "2025-03-27T14:26:29.235Z"
   },
   {
    "duration": 4,
    "start_time": "2025-03-27T14:26:29.265Z"
   },
   {
    "duration": 207,
    "start_time": "2025-03-27T14:26:29.270Z"
   },
   {
    "duration": 21,
    "start_time": "2025-03-27T14:26:29.479Z"
   },
   {
    "duration": 8,
    "start_time": "2025-03-27T14:26:29.502Z"
   },
   {
    "duration": 10,
    "start_time": "2025-03-27T14:26:29.511Z"
   },
   {
    "duration": 3,
    "start_time": "2025-03-27T14:26:29.523Z"
   },
   {
    "duration": 256,
    "start_time": "2025-03-27T14:26:29.528Z"
   },
   {
    "duration": 25,
    "start_time": "2025-03-27T14:26:29.785Z"
   },
   {
    "duration": 57,
    "start_time": "2025-03-27T14:26:29.811Z"
   },
   {
    "duration": 25,
    "start_time": "2025-03-27T14:26:29.870Z"
   },
   {
    "duration": 4,
    "start_time": "2025-03-27T14:26:29.896Z"
   },
   {
    "duration": 26,
    "start_time": "2025-03-27T14:26:29.901Z"
   },
   {
    "duration": 2,
    "start_time": "2025-03-27T14:26:29.929Z"
   },
   {
    "duration": 8,
    "start_time": "2025-03-27T14:26:29.932Z"
   },
   {
    "duration": 10,
    "start_time": "2025-03-27T14:26:29.942Z"
   },
   {
    "duration": 8,
    "start_time": "2025-03-27T14:26:29.954Z"
   },
   {
    "duration": 2,
    "start_time": "2025-03-27T14:26:29.964Z"
   },
   {
    "duration": 104,
    "start_time": "2025-03-27T14:26:29.967Z"
   },
   {
    "duration": 2,
    "start_time": "2025-03-27T14:26:30.073Z"
   },
   {
    "duration": 169,
    "start_time": "2025-03-27T14:26:30.077Z"
   },
   {
    "duration": 111,
    "start_time": "2025-03-27T14:26:30.248Z"
   },
   {
    "duration": 3,
    "start_time": "2025-03-27T14:26:30.361Z"
   },
   {
    "duration": 49,
    "start_time": "2025-03-27T14:26:30.365Z"
   },
   {
    "duration": 20,
    "start_time": "2025-03-27T14:26:30.420Z"
   },
   {
    "duration": 34,
    "start_time": "2025-03-27T14:26:30.442Z"
   },
   {
    "duration": 17,
    "start_time": "2025-03-27T14:26:30.478Z"
   },
   {
    "duration": 10,
    "start_time": "2025-03-27T14:26:30.496Z"
   },
   {
    "duration": 14,
    "start_time": "2025-03-27T14:26:30.507Z"
   },
   {
    "duration": 3,
    "start_time": "2025-03-27T14:26:30.522Z"
   },
   {
    "duration": 98,
    "start_time": "2025-03-27T14:26:30.527Z"
   },
   {
    "duration": 81,
    "start_time": "2025-03-27T14:26:30.627Z"
   },
   {
    "duration": 17,
    "start_time": "2025-03-27T14:26:30.709Z"
   },
   {
    "duration": 54,
    "start_time": "2025-03-27T14:26:30.727Z"
   },
   {
    "duration": 35,
    "start_time": "2025-03-27T14:26:30.783Z"
   },
   {
    "duration": 96,
    "start_time": "2025-03-27T14:26:30.819Z"
   },
   {
    "duration": 12,
    "start_time": "2025-03-27T14:26:30.916Z"
   },
   {
    "duration": 17,
    "start_time": "2025-03-27T14:26:30.930Z"
   },
   {
    "duration": 12,
    "start_time": "2025-03-27T14:26:30.949Z"
   },
   {
    "duration": 26,
    "start_time": "2025-03-27T14:26:30.963Z"
   },
   {
    "duration": 23,
    "start_time": "2025-03-27T14:26:30.991Z"
   },
   {
    "duration": 3,
    "start_time": "2025-03-27T14:26:31.015Z"
   },
   {
    "duration": 126,
    "start_time": "2025-03-27T14:26:31.020Z"
   },
   {
    "duration": 66,
    "start_time": "2025-03-27T14:26:31.147Z"
   },
   {
    "duration": 12,
    "start_time": "2025-03-27T14:26:31.214Z"
   },
   {
    "duration": 25,
    "start_time": "2025-03-27T14:26:31.227Z"
   },
   {
    "duration": 3,
    "start_time": "2025-03-27T14:26:31.257Z"
   },
   {
    "duration": 208,
    "start_time": "2025-03-27T14:26:31.261Z"
   },
   {
    "duration": 138,
    "start_time": "2025-03-27T14:26:31.471Z"
   },
   {
    "duration": 47,
    "start_time": "2025-03-27T14:26:31.611Z"
   },
   {
    "duration": 165,
    "start_time": "2025-03-27T14:26:31.659Z"
   },
   {
    "duration": 3,
    "start_time": "2025-03-27T14:26:31.826Z"
   },
   {
    "duration": 120,
    "start_time": "2025-03-27T14:26:31.830Z"
   },
   {
    "duration": 3,
    "start_time": "2025-03-27T14:26:31.951Z"
   },
   {
    "duration": 21,
    "start_time": "2025-03-27T14:26:31.956Z"
   },
   {
    "duration": 23,
    "start_time": "2025-03-27T14:26:31.979Z"
   },
   {
    "duration": 18,
    "start_time": "2025-03-27T14:26:32.004Z"
   },
   {
    "duration": 14,
    "start_time": "2025-03-27T14:26:32.024Z"
   },
   {
    "duration": 19,
    "start_time": "2025-03-27T14:26:32.057Z"
   },
   {
    "duration": 7,
    "start_time": "2025-03-27T14:26:32.078Z"
   },
   {
    "duration": 32,
    "start_time": "2025-03-27T14:26:32.086Z"
   },
   {
    "duration": 53,
    "start_time": "2025-03-27T14:26:32.120Z"
   },
   {
    "duration": 2,
    "start_time": "2025-03-27T14:26:32.175Z"
   },
   {
    "duration": 115,
    "start_time": "2025-03-27T14:26:32.179Z"
   },
   {
    "duration": 107,
    "start_time": "2025-03-27T14:26:32.295Z"
   },
   {
    "duration": 40,
    "start_time": "2025-03-27T14:26:32.404Z"
   },
   {
    "duration": 75,
    "start_time": "2025-03-27T14:26:32.446Z"
   },
   {
    "duration": 2,
    "start_time": "2025-03-27T14:26:32.523Z"
   },
   {
    "duration": 126,
    "start_time": "2025-03-27T14:26:32.526Z"
   },
   {
    "duration": 110,
    "start_time": "2025-03-27T14:26:32.654Z"
   },
   {
    "duration": 41,
    "start_time": "2025-03-27T14:26:32.766Z"
   },
   {
    "duration": 9059,
    "start_time": "2025-03-27T20:06:55.189Z"
   },
   {
    "duration": 122,
    "start_time": "2025-03-27T20:07:04.251Z"
   },
   {
    "duration": 13,
    "start_time": "2025-03-27T20:07:04.375Z"
   },
   {
    "duration": 12,
    "start_time": "2025-03-27T20:07:04.391Z"
   },
   {
    "duration": 3,
    "start_time": "2025-03-27T20:07:04.405Z"
   },
   {
    "duration": 2,
    "start_time": "2025-03-27T20:07:04.410Z"
   },
   {
    "duration": 1270,
    "start_time": "2025-03-27T20:07:04.414Z"
   },
   {
    "duration": 123,
    "start_time": "2025-03-27T20:07:05.686Z"
   },
   {
    "duration": 33,
    "start_time": "2025-03-27T20:07:05.811Z"
   },
   {
    "duration": 60,
    "start_time": "2025-03-27T20:07:05.847Z"
   },
   {
    "duration": 75,
    "start_time": "2025-03-27T20:07:05.909Z"
   },
   {
    "duration": 99,
    "start_time": "2025-03-27T20:07:05.986Z"
   },
   {
    "duration": 2,
    "start_time": "2025-03-27T20:07:06.086Z"
   },
   {
    "duration": 337,
    "start_time": "2025-03-27T20:07:06.090Z"
   },
   {
    "duration": 38,
    "start_time": "2025-03-27T20:07:06.430Z"
   },
   {
    "duration": 12,
    "start_time": "2025-03-27T20:07:06.470Z"
   },
   {
    "duration": 39,
    "start_time": "2025-03-27T20:07:06.483Z"
   },
   {
    "duration": 28,
    "start_time": "2025-03-27T20:07:06.524Z"
   },
   {
    "duration": 284,
    "start_time": "2025-03-27T20:07:06.553Z"
   },
   {
    "duration": 19,
    "start_time": "2025-03-27T20:07:06.839Z"
   },
   {
    "duration": 40,
    "start_time": "2025-03-27T20:07:06.859Z"
   },
   {
    "duration": 12,
    "start_time": "2025-03-27T20:07:06.901Z"
   },
   {
    "duration": 19,
    "start_time": "2025-03-27T20:07:06.915Z"
   },
   {
    "duration": 203,
    "start_time": "2025-03-27T20:07:06.935Z"
   },
   {
    "duration": 24,
    "start_time": "2025-03-27T20:07:07.140Z"
   },
   {
    "duration": 11,
    "start_time": "2025-03-27T20:07:07.165Z"
   },
   {
    "duration": 4,
    "start_time": "2025-03-27T20:07:07.177Z"
   },
   {
    "duration": 3,
    "start_time": "2025-03-27T20:07:07.185Z"
   },
   {
    "duration": 12,
    "start_time": "2025-03-27T20:07:07.189Z"
   },
   {
    "duration": 27,
    "start_time": "2025-03-27T20:07:07.203Z"
   },
   {
    "duration": 7,
    "start_time": "2025-03-27T20:07:07.232Z"
   },
   {
    "duration": 87,
    "start_time": "2025-03-27T20:07:07.241Z"
   },
   {
    "duration": 15,
    "start_time": "2025-03-27T20:07:07.330Z"
   },
   {
    "duration": 67,
    "start_time": "2025-03-27T20:07:07.346Z"
   },
   {
    "duration": 96,
    "start_time": "2025-03-27T20:07:07.415Z"
   },
   {
    "duration": 2,
    "start_time": "2025-03-27T20:07:07.512Z"
   },
   {
    "duration": 153,
    "start_time": "2025-03-27T20:07:07.516Z"
   },
   {
    "duration": 80,
    "start_time": "2025-03-27T20:07:07.671Z"
   },
   {
    "duration": 3,
    "start_time": "2025-03-27T20:07:07.752Z"
   },
   {
    "duration": 167,
    "start_time": "2025-03-27T20:07:07.757Z"
   },
   {
    "duration": 19,
    "start_time": "2025-03-27T20:07:07.926Z"
   },
   {
    "duration": 24,
    "start_time": "2025-03-27T20:07:07.947Z"
   },
   {
    "duration": 2,
    "start_time": "2025-03-27T20:07:07.972Z"
   },
   {
    "duration": 13,
    "start_time": "2025-03-27T20:07:07.976Z"
   },
   {
    "duration": 8,
    "start_time": "2025-03-27T20:07:07.990Z"
   },
   {
    "duration": 7,
    "start_time": "2025-03-27T20:07:07.999Z"
   },
   {
    "duration": 75,
    "start_time": "2025-03-27T20:07:08.008Z"
   },
   {
    "duration": 80,
    "start_time": "2025-03-27T20:07:08.084Z"
   },
   {
    "duration": 2,
    "start_time": "2025-03-27T20:07:08.165Z"
   },
   {
    "duration": 35,
    "start_time": "2025-03-27T20:07:08.169Z"
   },
   {
    "duration": 47,
    "start_time": "2025-03-27T20:07:08.206Z"
   },
   {
    "duration": 8,
    "start_time": "2025-03-27T20:07:08.255Z"
   },
   {
    "duration": 13,
    "start_time": "2025-03-27T20:07:08.264Z"
   },
   {
    "duration": 10,
    "start_time": "2025-03-27T20:07:08.279Z"
   },
   {
    "duration": 1,
    "start_time": "2025-03-27T20:07:08.291Z"
   },
   {
    "duration": 40,
    "start_time": "2025-03-27T20:07:08.294Z"
   },
   {
    "duration": 28,
    "start_time": "2025-03-27T20:07:08.335Z"
   },
   {
    "duration": 3,
    "start_time": "2025-03-27T20:07:08.364Z"
   },
   {
    "duration": 118,
    "start_time": "2025-03-27T20:07:08.368Z"
   },
   {
    "duration": 61,
    "start_time": "2025-03-27T20:07:08.487Z"
   },
   {
    "duration": 11,
    "start_time": "2025-03-27T20:07:08.549Z"
   },
   {
    "duration": 11,
    "start_time": "2025-03-27T20:07:08.562Z"
   },
   {
    "duration": 21,
    "start_time": "2025-03-27T20:07:08.575Z"
   },
   {
    "duration": 182,
    "start_time": "2025-03-27T20:07:08.598Z"
   },
   {
    "duration": 107,
    "start_time": "2025-03-27T20:07:08.782Z"
   },
   {
    "duration": 55,
    "start_time": "2025-03-27T20:07:08.891Z"
   },
   {
    "duration": 52,
    "start_time": "2025-03-27T20:07:08.948Z"
   },
   {
    "duration": 2,
    "start_time": "2025-03-27T20:07:09.002Z"
   },
   {
    "duration": 61,
    "start_time": "2025-03-27T20:07:09.006Z"
   },
   {
    "duration": 2,
    "start_time": "2025-03-27T20:07:09.069Z"
   },
   {
    "duration": 20,
    "start_time": "2025-03-27T20:07:09.073Z"
   },
   {
    "duration": 12,
    "start_time": "2025-03-27T20:07:09.095Z"
   },
   {
    "duration": 17,
    "start_time": "2025-03-27T20:07:09.129Z"
   },
   {
    "duration": 13,
    "start_time": "2025-03-27T20:07:09.148Z"
   },
   {
    "duration": 8,
    "start_time": "2025-03-27T20:07:09.162Z"
   },
   {
    "duration": 11,
    "start_time": "2025-03-27T20:07:09.172Z"
   },
   {
    "duration": 52,
    "start_time": "2025-03-27T20:07:09.185Z"
   },
   {
    "duration": 41,
    "start_time": "2025-03-27T20:07:09.239Z"
   },
   {
    "duration": 58,
    "start_time": "2025-03-27T20:07:09.282Z"
   },
   {
    "duration": 45,
    "start_time": "2025-03-27T20:07:09.341Z"
   },
   {
    "duration": 98,
    "start_time": "2025-03-27T20:07:09.387Z"
   },
   {
    "duration": 47,
    "start_time": "2025-03-27T20:07:09.491Z"
   },
   {
    "duration": 62,
    "start_time": "2025-03-27T20:07:09.540Z"
   },
   {
    "duration": 2,
    "start_time": "2025-03-27T20:07:09.603Z"
   },
   {
    "duration": 123,
    "start_time": "2025-03-27T20:07:09.607Z"
   },
   {
    "duration": 86,
    "start_time": "2025-03-27T20:07:09.731Z"
   },
   {
    "duration": 89,
    "start_time": "2025-03-27T20:07:09.830Z"
   },
   {
    "duration": 4637,
    "start_time": "2025-03-27T20:07:09.921Z"
   },
   {
    "duration": 4,
    "start_time": "2025-03-28T15:53:34.764Z"
   },
   {
    "duration": 45,
    "start_time": "2025-03-28T15:53:35.242Z"
   },
   {
    "duration": 4699,
    "start_time": "2025-03-28T15:53:42.394Z"
   },
   {
    "duration": 89,
    "start_time": "2025-03-28T15:53:47.095Z"
   },
   {
    "duration": 13,
    "start_time": "2025-03-28T15:53:47.185Z"
   },
   {
    "duration": 24,
    "start_time": "2025-03-28T15:53:47.200Z"
   },
   {
    "duration": 2,
    "start_time": "2025-03-28T15:53:47.225Z"
   },
   {
    "duration": 4,
    "start_time": "2025-03-28T15:53:47.229Z"
   },
   {
    "duration": 1183,
    "start_time": "2025-03-28T15:53:47.234Z"
   },
   {
    "duration": 104,
    "start_time": "2025-03-28T15:53:48.419Z"
   },
   {
    "duration": 23,
    "start_time": "2025-03-28T15:53:48.524Z"
   },
   {
    "duration": 3,
    "start_time": "2025-03-28T15:53:48.549Z"
   },
   {
    "duration": 55,
    "start_time": "2025-03-28T15:53:48.553Z"
   },
   {
    "duration": 103,
    "start_time": "2025-03-28T15:53:48.610Z"
   },
   {
    "duration": 2,
    "start_time": "2025-03-28T15:53:48.715Z"
   },
   {
    "duration": 484,
    "start_time": "2025-03-28T15:53:48.718Z"
   },
   {
    "duration": 37,
    "start_time": "2025-03-28T15:53:49.204Z"
   },
   {
    "duration": 7,
    "start_time": "2025-03-28T15:53:49.242Z"
   },
   {
    "duration": 10,
    "start_time": "2025-03-28T15:53:49.250Z"
   },
   {
    "duration": 15,
    "start_time": "2025-03-28T15:53:49.261Z"
   },
   {
    "duration": 241,
    "start_time": "2025-03-28T15:53:49.277Z"
   },
   {
    "duration": 18,
    "start_time": "2025-03-28T15:53:49.520Z"
   },
   {
    "duration": 37,
    "start_time": "2025-03-28T15:53:49.557Z"
   },
   {
    "duration": 2,
    "start_time": "2025-03-28T15:53:50.024Z"
   },
   {
    "duration": 2,
    "start_time": "2025-03-28T15:53:50.353Z"
   },
   {
    "duration": 276,
    "start_time": "2025-03-28T15:53:50.541Z"
   },
   {
    "duration": 23,
    "start_time": "2025-03-28T15:53:50.819Z"
   },
   {
    "duration": 8,
    "start_time": "2025-03-28T15:53:50.895Z"
   },
   {
    "duration": 3,
    "start_time": "2025-03-28T15:53:51.055Z"
   },
   {
    "duration": 2,
    "start_time": "2025-03-28T15:53:55.008Z"
   },
   {
    "duration": 11,
    "start_time": "2025-03-28T15:53:56.118Z"
   },
   {
    "duration": 3,
    "start_time": "2025-03-28T15:54:06.216Z"
   },
   {
    "duration": 8,
    "start_time": "2025-03-28T15:54:06.408Z"
   },
   {
    "duration": 12,
    "start_time": "2025-03-28T15:54:06.587Z"
   },
   {
    "duration": 9,
    "start_time": "2025-03-28T15:54:06.748Z"
   },
   {
    "duration": 3,
    "start_time": "2025-03-28T15:54:07.134Z"
   },
   {
    "duration": 124,
    "start_time": "2025-03-28T15:54:07.662Z"
   },
   {
    "duration": 3,
    "start_time": "2025-03-28T15:54:08.222Z"
   },
   {
    "duration": 141,
    "start_time": "2025-03-28T15:54:09.104Z"
   },
   {
    "duration": 74,
    "start_time": "2025-03-28T15:54:09.510Z"
   },
   {
    "duration": 2,
    "start_time": "2025-03-28T15:54:10.068Z"
   },
   {
    "duration": 20,
    "start_time": "2025-03-28T15:54:10.511Z"
   },
   {
    "duration": 21,
    "start_time": "2025-03-28T15:54:10.905Z"
   },
   {
    "duration": 16,
    "start_time": "2025-03-28T15:54:11.389Z"
   },
   {
    "duration": 2,
    "start_time": "2025-03-28T15:54:17.254Z"
   },
   {
    "duration": 6,
    "start_time": "2025-03-28T15:54:17.680Z"
   },
   {
    "duration": 72,
    "start_time": "2025-03-28T15:54:38.373Z"
   },
   {
    "duration": 8,
    "start_time": "2025-03-28T15:55:05.086Z"
   },
   {
    "duration": 2,
    "start_time": "2025-03-28T15:55:08.356Z"
   },
   {
    "duration": 74,
    "start_time": "2025-03-28T15:55:08.513Z"
   },
   {
    "duration": 83,
    "start_time": "2025-03-28T15:55:08.657Z"
   },
   {
    "duration": 2,
    "start_time": "2025-03-28T15:55:10.690Z"
   },
   {
    "duration": 33,
    "start_time": "2025-03-28T15:55:11.019Z"
   },
   {
    "duration": 34,
    "start_time": "2025-03-28T15:55:11.277Z"
   },
   {
    "duration": 2,
    "start_time": "2025-03-28T15:55:11.701Z"
   },
   {
    "duration": 11,
    "start_time": "2025-03-28T15:55:12.133Z"
   },
   {
    "duration": 12,
    "start_time": "2025-03-28T15:55:12.607Z"
   },
   {
    "duration": 2,
    "start_time": "2025-03-28T15:55:13.007Z"
   },
   {
    "duration": 19,
    "start_time": "2025-03-28T15:55:13.459Z"
   },
   {
    "duration": 20,
    "start_time": "2025-03-28T15:55:13.667Z"
   },
   {
    "duration": 2,
    "start_time": "2025-03-28T15:55:13.825Z"
   },
   {
    "duration": 4933,
    "start_time": "2025-03-28T18:38:38.983Z"
   },
   {
    "duration": 79,
    "start_time": "2025-03-28T18:38:43.922Z"
   },
   {
    "duration": 12,
    "start_time": "2025-03-28T18:38:44.003Z"
   },
   {
    "duration": 39,
    "start_time": "2025-03-28T18:38:44.017Z"
   },
   {
    "duration": 3,
    "start_time": "2025-03-28T18:38:44.058Z"
   },
   {
    "duration": 7,
    "start_time": "2025-03-28T18:38:44.063Z"
   },
   {
    "duration": 1226,
    "start_time": "2025-03-28T18:38:44.072Z"
   },
   {
    "duration": 109,
    "start_time": "2025-03-28T18:38:45.300Z"
   },
   {
    "duration": 25,
    "start_time": "2025-03-28T18:38:45.411Z"
   },
   {
    "duration": 4,
    "start_time": "2025-03-28T18:38:45.438Z"
   },
   {
    "duration": 66,
    "start_time": "2025-03-28T18:38:45.444Z"
   },
   {
    "duration": 108,
    "start_time": "2025-03-28T18:38:45.512Z"
   },
   {
    "duration": 3,
    "start_time": "2025-03-28T18:38:45.621Z"
   },
   {
    "duration": 396,
    "start_time": "2025-03-28T18:38:45.625Z"
   },
   {
    "duration": 41,
    "start_time": "2025-03-28T18:38:46.023Z"
   },
   {
    "duration": 3,
    "start_time": "2025-03-28T18:38:46.066Z"
   },
   {
    "duration": 22,
    "start_time": "2025-03-28T18:38:46.070Z"
   },
   {
    "duration": 3,
    "start_time": "2025-03-28T18:38:46.412Z"
   },
   {
    "duration": 196,
    "start_time": "2025-03-28T18:38:46.758Z"
   },
   {
    "duration": 20,
    "start_time": "2025-03-28T18:38:47.088Z"
   },
   {
    "duration": 7,
    "start_time": "2025-03-28T18:38:47.440Z"
   },
   {
    "duration": 3,
    "start_time": "2025-03-28T18:38:47.882Z"
   },
   {
    "duration": 3,
    "start_time": "2025-03-28T18:38:48.210Z"
   },
   {
    "duration": 230,
    "start_time": "2025-03-28T18:38:48.550Z"
   },
   {
    "duration": 32,
    "start_time": "2025-03-28T18:38:49.003Z"
   },
   {
    "duration": 8,
    "start_time": "2025-03-28T18:38:49.415Z"
   },
   {
    "duration": 3,
    "start_time": "2025-03-28T18:38:49.794Z"
   },
   {
    "duration": 3,
    "start_time": "2025-03-28T18:38:53.416Z"
   },
   {
    "duration": 14,
    "start_time": "2025-03-28T18:38:53.756Z"
   },
   {
    "duration": 3,
    "start_time": "2025-03-28T18:38:54.387Z"
   },
   {
    "duration": 8,
    "start_time": "2025-03-28T18:38:54.709Z"
   },
   {
    "duration": 11,
    "start_time": "2025-03-28T18:38:55.037Z"
   },
   {
    "duration": 9,
    "start_time": "2025-03-28T18:38:55.367Z"
   },
   {
    "duration": 3,
    "start_time": "2025-03-28T18:38:55.669Z"
   },
   {
    "duration": 102,
    "start_time": "2025-03-28T18:38:55.977Z"
   },
   {
    "duration": 3,
    "start_time": "2025-03-28T18:38:56.272Z"
   },
   {
    "duration": 142,
    "start_time": "2025-03-28T18:38:56.638Z"
   },
   {
    "duration": 78,
    "start_time": "2025-03-28T18:38:56.930Z"
   },
   {
    "duration": 3,
    "start_time": "2025-03-28T18:38:57.394Z"
   },
   {
    "duration": 17,
    "start_time": "2025-03-28T18:38:57.748Z"
   },
   {
    "duration": 20,
    "start_time": "2025-03-28T18:38:58.078Z"
   },
   {
    "duration": 15,
    "start_time": "2025-03-28T18:38:58.412Z"
   },
   {
    "duration": 2,
    "start_time": "2025-03-28T18:38:59.207Z"
   },
   {
    "duration": 7,
    "start_time": "2025-03-28T18:38:59.600Z"
   },
   {
    "duration": 7,
    "start_time": "2025-03-28T18:39:00.057Z"
   },
   {
    "duration": 2,
    "start_time": "2025-03-28T18:39:00.858Z"
   },
   {
    "duration": 76,
    "start_time": "2025-03-28T18:39:01.300Z"
   },
   {
    "duration": 77,
    "start_time": "2025-03-28T18:39:01.792Z"
   },
   {
    "duration": 4,
    "start_time": "2025-03-28T18:39:02.316Z"
   },
   {
    "duration": 41,
    "start_time": "2025-03-28T18:39:02.711Z"
   },
   {
    "duration": 39,
    "start_time": "2025-03-28T18:39:03.171Z"
   },
   {
    "duration": 3,
    "start_time": "2025-03-28T18:39:03.610Z"
   },
   {
    "duration": 18,
    "start_time": "2025-03-28T18:39:04.385Z"
   },
   {
    "duration": 11,
    "start_time": "2025-03-28T18:39:04.916Z"
   },
   {
    "duration": 2,
    "start_time": "2025-03-28T18:39:05.429Z"
   },
   {
    "duration": 19,
    "start_time": "2025-03-28T18:39:05.931Z"
   },
   {
    "duration": 21,
    "start_time": "2025-03-28T18:39:06.415Z"
   },
   {
    "duration": 2,
    "start_time": "2025-03-28T18:39:06.863Z"
   },
   {
    "duration": 110,
    "start_time": "2025-03-28T18:39:10.083Z"
   },
   {
    "duration": 139,
    "start_time": "2025-03-28T18:39:10.820Z"
   },
   {
    "duration": 12,
    "start_time": "2025-03-28T18:39:11.247Z"
   },
   {
    "duration": 11,
    "start_time": "2025-03-28T18:39:11.803Z"
   },
   {
    "duration": 2,
    "start_time": "2025-03-28T18:39:12.441Z"
   },
   {
    "duration": 184,
    "start_time": "2025-03-28T18:39:13.095Z"
   },
   {
    "duration": 169,
    "start_time": "2025-03-28T18:39:30.753Z"
   },
   {
    "duration": 63,
    "start_time": "2025-03-28T18:39:57.020Z"
   },
   {
    "duration": 175,
    "start_time": "2025-03-28T18:40:02.692Z"
   },
   {
    "duration": 213,
    "start_time": "2025-03-28T18:40:12.370Z"
   },
   {
    "duration": 176,
    "start_time": "2025-03-28T18:40:19.362Z"
   },
   {
    "duration": 96,
    "start_time": "2025-03-28T18:40:46.424Z"
   },
   {
    "duration": 39,
    "start_time": "2025-03-28T18:40:46.869Z"
   },
   {
    "duration": 45,
    "start_time": "2025-03-28T18:40:47.277Z"
   },
   {
    "duration": 3,
    "start_time": "2025-03-28T18:40:47.683Z"
   },
   {
    "duration": 101,
    "start_time": "2025-03-28T18:42:18.957Z"
   },
   {
    "duration": 9,
    "start_time": "2025-03-28T18:42:28.976Z"
   },
   {
    "duration": 10,
    "start_time": "2025-03-28T18:42:29.229Z"
   },
   {
    "duration": 9,
    "start_time": "2025-03-28T18:42:30.745Z"
   },
   {
    "duration": 2406,
    "start_time": "2025-03-28T18:42:51.745Z"
   },
   {
    "duration": 56,
    "start_time": "2025-03-28T18:42:54.153Z"
   },
   {
    "duration": 13,
    "start_time": "2025-03-28T18:42:54.211Z"
   },
   {
    "duration": 9,
    "start_time": "2025-03-28T18:42:54.226Z"
   },
   {
    "duration": 7,
    "start_time": "2025-03-28T18:42:54.237Z"
   },
   {
    "duration": 12,
    "start_time": "2025-03-28T18:42:54.245Z"
   },
   {
    "duration": 1107,
    "start_time": "2025-03-28T18:42:54.259Z"
   },
   {
    "duration": 103,
    "start_time": "2025-03-28T18:42:55.368Z"
   },
   {
    "duration": 30,
    "start_time": "2025-03-28T18:42:55.473Z"
   },
   {
    "duration": 2,
    "start_time": "2025-03-28T18:42:55.506Z"
   },
   {
    "duration": 28,
    "start_time": "2025-03-28T18:42:55.510Z"
   },
   {
    "duration": 108,
    "start_time": "2025-03-28T18:42:55.539Z"
   },
   {
    "duration": 3,
    "start_time": "2025-03-28T18:42:55.648Z"
   },
   {
    "duration": 457,
    "start_time": "2025-03-28T18:42:55.652Z"
   },
   {
    "duration": 40,
    "start_time": "2025-03-28T18:42:56.111Z"
   },
   {
    "duration": 52,
    "start_time": "2025-03-28T18:42:56.152Z"
   },
   {
    "duration": 12,
    "start_time": "2025-03-28T18:42:56.206Z"
   },
   {
    "duration": 2,
    "start_time": "2025-03-28T18:42:56.220Z"
   },
   {
    "duration": 254,
    "start_time": "2025-03-28T18:42:56.224Z"
   },
   {
    "duration": 25,
    "start_time": "2025-03-28T18:42:56.479Z"
   },
   {
    "duration": 7,
    "start_time": "2025-03-28T18:42:56.506Z"
   },
   {
    "duration": 5,
    "start_time": "2025-03-28T18:42:56.515Z"
   },
   {
    "duration": 14,
    "start_time": "2025-03-28T18:42:56.522Z"
   },
   {
    "duration": 221,
    "start_time": "2025-03-28T18:42:56.538Z"
   },
   {
    "duration": 25,
    "start_time": "2025-03-28T18:42:56.762Z"
   },
   {
    "duration": 8,
    "start_time": "2025-03-28T18:42:56.803Z"
   },
   {
    "duration": 10,
    "start_time": "2025-03-28T18:42:56.812Z"
   },
   {
    "duration": 7,
    "start_time": "2025-03-28T18:42:56.824Z"
   },
   {
    "duration": 11,
    "start_time": "2025-03-28T18:42:57.110Z"
   },
   {
    "duration": 4,
    "start_time": "2025-03-28T18:42:57.481Z"
   },
   {
    "duration": 7,
    "start_time": "2025-03-28T18:42:57.800Z"
   },
   {
    "duration": 11,
    "start_time": "2025-03-28T18:42:57.997Z"
   },
   {
    "duration": 9,
    "start_time": "2025-03-28T18:42:58.237Z"
   },
   {
    "duration": 3,
    "start_time": "2025-03-28T18:42:58.611Z"
   },
   {
    "duration": 96,
    "start_time": "2025-03-28T18:42:59.056Z"
   },
   {
    "duration": 2,
    "start_time": "2025-03-28T18:42:59.600Z"
   },
   {
    "duration": 173,
    "start_time": "2025-03-28T18:43:00.172Z"
   },
   {
    "duration": 82,
    "start_time": "2025-03-28T18:43:00.545Z"
   },
   {
    "duration": 2,
    "start_time": "2025-03-28T18:43:00.955Z"
   },
   {
    "duration": 19,
    "start_time": "2025-03-28T18:43:01.456Z"
   },
   {
    "duration": 21,
    "start_time": "2025-03-28T18:43:01.919Z"
   },
   {
    "duration": 16,
    "start_time": "2025-03-28T18:43:02.595Z"
   },
   {
    "duration": 2,
    "start_time": "2025-03-28T18:43:05.923Z"
   },
   {
    "duration": 7,
    "start_time": "2025-03-28T18:43:06.104Z"
   },
   {
    "duration": 7,
    "start_time": "2025-03-28T18:43:06.260Z"
   },
   {
    "duration": 2,
    "start_time": "2025-03-28T18:43:06.536Z"
   },
   {
    "duration": 73,
    "start_time": "2025-03-28T18:43:06.686Z"
   },
   {
    "duration": 75,
    "start_time": "2025-03-28T18:43:06.840Z"
   },
   {
    "duration": 2,
    "start_time": "2025-03-28T18:43:07.292Z"
   },
   {
    "duration": 37,
    "start_time": "2025-03-28T18:43:07.674Z"
   },
   {
    "duration": 37,
    "start_time": "2025-03-28T18:43:07.977Z"
   },
   {
    "duration": 2,
    "start_time": "2025-03-28T18:43:08.426Z"
   },
   {
    "duration": 12,
    "start_time": "2025-03-28T18:43:08.893Z"
   },
   {
    "duration": 14,
    "start_time": "2025-03-28T18:43:09.266Z"
   },
   {
    "duration": 3,
    "start_time": "2025-03-28T18:43:09.693Z"
   },
   {
    "duration": 21,
    "start_time": "2025-03-28T18:43:10.220Z"
   },
   {
    "duration": 21,
    "start_time": "2025-03-28T18:43:10.406Z"
   },
   {
    "duration": 2,
    "start_time": "2025-03-28T18:43:10.564Z"
   },
   {
    "duration": 109,
    "start_time": "2025-03-28T18:43:11.962Z"
   },
   {
    "duration": 89,
    "start_time": "2025-03-28T18:43:12.284Z"
   },
   {
    "duration": 16,
    "start_time": "2025-03-28T18:43:12.399Z"
   },
   {
    "duration": 12,
    "start_time": "2025-03-28T18:43:12.570Z"
   },
   {
    "duration": 3,
    "start_time": "2025-03-28T18:43:12.709Z"
   },
   {
    "duration": 176,
    "start_time": "2025-03-28T18:43:12.866Z"
   },
   {
    "duration": 119,
    "start_time": "2025-03-28T18:43:15.400Z"
   },
   {
    "duration": 40,
    "start_time": "2025-03-28T18:43:15.974Z"
   },
   {
    "duration": 54,
    "start_time": "2025-03-28T18:43:16.520Z"
   },
   {
    "duration": 2,
    "start_time": "2025-03-28T18:43:17.052Z"
   },
   {
    "duration": 41,
    "start_time": "2025-03-28T18:43:18.182Z"
   },
   {
    "duration": 2,
    "start_time": "2025-03-28T18:43:18.632Z"
   },
   {
    "duration": 18,
    "start_time": "2025-03-28T18:43:19.182Z"
   },
   {
    "duration": 13,
    "start_time": "2025-03-28T18:43:19.566Z"
   },
   {
    "duration": 19,
    "start_time": "2025-03-28T18:43:20.368Z"
   },
   {
    "duration": 14,
    "start_time": "2025-03-28T18:43:20.904Z"
   },
   {
    "duration": 9,
    "start_time": "2025-03-28T18:43:22.532Z"
   },
   {
    "duration": 1296,
    "start_time": "2025-03-28T18:47:07.331Z"
   },
   {
    "duration": 3862,
    "start_time": "2025-03-28T18:47:30.339Z"
   },
   {
    "duration": 60,
    "start_time": "2025-03-28T18:47:34.203Z"
   },
   {
    "duration": 12,
    "start_time": "2025-03-28T18:47:34.264Z"
   },
   {
    "duration": 48,
    "start_time": "2025-03-28T18:47:34.278Z"
   },
   {
    "duration": 9,
    "start_time": "2025-03-28T18:47:34.328Z"
   },
   {
    "duration": 6,
    "start_time": "2025-03-28T18:47:34.339Z"
   },
   {
    "duration": 1237,
    "start_time": "2025-03-28T18:47:34.346Z"
   },
   {
    "duration": 108,
    "start_time": "2025-03-28T18:47:35.585Z"
   },
   {
    "duration": 30,
    "start_time": "2025-03-28T18:47:35.695Z"
   },
   {
    "duration": 12,
    "start_time": "2025-03-28T18:47:35.729Z"
   },
   {
    "duration": 44,
    "start_time": "2025-03-28T18:47:35.743Z"
   },
   {
    "duration": 117,
    "start_time": "2025-03-28T18:47:35.789Z"
   },
   {
    "duration": 2,
    "start_time": "2025-03-28T18:47:35.908Z"
   },
   {
    "duration": 432,
    "start_time": "2025-03-28T18:47:35.912Z"
   },
   {
    "duration": 41,
    "start_time": "2025-03-28T18:47:36.345Z"
   },
   {
    "duration": 17,
    "start_time": "2025-03-28T18:47:36.388Z"
   },
   {
    "duration": 29,
    "start_time": "2025-03-28T18:47:36.407Z"
   },
   {
    "duration": 14,
    "start_time": "2025-03-28T18:47:36.438Z"
   },
   {
    "duration": 255,
    "start_time": "2025-03-28T18:47:36.454Z"
   },
   {
    "duration": 20,
    "start_time": "2025-03-28T18:47:36.711Z"
   },
   {
    "duration": 14,
    "start_time": "2025-03-28T18:47:36.732Z"
   },
   {
    "duration": 22,
    "start_time": "2025-03-28T18:47:36.747Z"
   },
   {
    "duration": 54,
    "start_time": "2025-03-28T18:47:36.771Z"
   },
   {
    "duration": 270,
    "start_time": "2025-03-28T18:47:36.827Z"
   },
   {
    "duration": 25,
    "start_time": "2025-03-28T18:47:37.098Z"
   },
   {
    "duration": 11,
    "start_time": "2025-03-28T18:47:37.124Z"
   },
   {
    "duration": 4,
    "start_time": "2025-03-28T18:47:37.137Z"
   },
   {
    "duration": 3,
    "start_time": "2025-03-28T18:47:37.145Z"
   },
   {
    "duration": 51,
    "start_time": "2025-03-28T18:47:37.149Z"
   },
   {
    "duration": 39,
    "start_time": "2025-03-28T18:47:37.202Z"
   },
   {
    "duration": 24,
    "start_time": "2025-03-28T18:47:37.242Z"
   },
   {
    "duration": 15,
    "start_time": "2025-03-28T18:47:37.268Z"
   },
   {
    "duration": 24,
    "start_time": "2025-03-28T18:47:37.284Z"
   },
   {
    "duration": 18,
    "start_time": "2025-03-28T18:47:37.309Z"
   },
   {
    "duration": 104,
    "start_time": "2025-03-28T18:47:37.328Z"
   },
   {
    "duration": 2,
    "start_time": "2025-03-28T18:47:37.434Z"
   },
   {
    "duration": 204,
    "start_time": "2025-03-28T18:47:37.438Z"
   },
   {
    "duration": 91,
    "start_time": "2025-03-28T18:47:37.644Z"
   },
   {
    "duration": 3,
    "start_time": "2025-03-28T18:47:37.737Z"
   },
   {
    "duration": 50,
    "start_time": "2025-03-28T18:47:37.741Z"
   },
   {
    "duration": 28,
    "start_time": "2025-03-28T18:47:37.793Z"
   },
   {
    "duration": 25,
    "start_time": "2025-03-28T18:47:37.823Z"
   },
   {
    "duration": 44,
    "start_time": "2025-03-28T18:47:37.849Z"
   },
   {
    "duration": 26,
    "start_time": "2025-03-28T18:47:37.895Z"
   },
   {
    "duration": 8,
    "start_time": "2025-03-28T18:47:37.922Z"
   },
   {
    "duration": 8,
    "start_time": "2025-03-28T18:47:37.931Z"
   },
   {
    "duration": 85,
    "start_time": "2025-03-28T18:47:37.941Z"
   },
   {
    "duration": 92,
    "start_time": "2025-03-28T18:47:38.028Z"
   },
   {
    "duration": 2,
    "start_time": "2025-03-28T18:47:38.122Z"
   },
   {
    "duration": 43,
    "start_time": "2025-03-28T18:47:38.126Z"
   },
   {
    "duration": 54,
    "start_time": "2025-03-28T18:47:38.171Z"
   },
   {
    "duration": 2,
    "start_time": "2025-03-28T18:47:38.227Z"
   },
   {
    "duration": 27,
    "start_time": "2025-03-28T18:47:38.231Z"
   },
   {
    "duration": 48,
    "start_time": "2025-03-28T18:47:38.260Z"
   },
   {
    "duration": 22,
    "start_time": "2025-03-28T18:47:38.309Z"
   },
   {
    "duration": 25,
    "start_time": "2025-03-28T18:47:38.332Z"
   },
   {
    "duration": 27,
    "start_time": "2025-03-28T18:47:38.358Z"
   },
   {
    "duration": 26,
    "start_time": "2025-03-28T18:47:38.387Z"
   },
   {
    "duration": 132,
    "start_time": "2025-03-28T18:47:38.414Z"
   },
   {
    "duration": 64,
    "start_time": "2025-03-28T18:47:38.548Z"
   },
   {
    "duration": 12,
    "start_time": "2025-03-28T18:47:38.613Z"
   },
   {
    "duration": 19,
    "start_time": "2025-03-28T18:47:38.626Z"
   },
   {
    "duration": 17,
    "start_time": "2025-03-28T18:47:38.647Z"
   },
   {
    "duration": 199,
    "start_time": "2025-03-28T18:47:38.665Z"
   },
   {
    "duration": 114,
    "start_time": "2025-03-28T18:47:38.865Z"
   },
   {
    "duration": 47,
    "start_time": "2025-03-28T18:47:38.981Z"
   },
   {
    "duration": 56,
    "start_time": "2025-03-28T18:47:39.029Z"
   },
   {
    "duration": 17,
    "start_time": "2025-03-28T18:47:39.086Z"
   },
   {
    "duration": 53,
    "start_time": "2025-03-28T18:47:39.105Z"
   },
   {
    "duration": 2,
    "start_time": "2025-03-28T18:47:39.160Z"
   },
   {
    "duration": 27,
    "start_time": "2025-03-28T18:47:39.164Z"
   },
   {
    "duration": 27,
    "start_time": "2025-03-28T18:47:39.193Z"
   },
   {
    "duration": 17,
    "start_time": "2025-03-28T18:47:39.222Z"
   },
   {
    "duration": 14,
    "start_time": "2025-03-28T18:47:39.241Z"
   },
   {
    "duration": 10,
    "start_time": "2025-03-28T18:47:39.257Z"
   },
   {
    "duration": 26,
    "start_time": "2025-03-28T18:47:39.269Z"
   },
   {
    "duration": 84,
    "start_time": "2025-03-28T18:47:39.296Z"
   },
   {
    "duration": 42,
    "start_time": "2025-03-28T18:47:39.381Z"
   },
   {
    "duration": 3,
    "start_time": "2025-03-28T18:47:39.425Z"
   },
   {
    "duration": 59,
    "start_time": "2025-03-28T18:47:39.429Z"
   },
   {
    "duration": 120,
    "start_time": "2025-03-28T18:47:39.490Z"
   },
   {
    "duration": 46,
    "start_time": "2025-03-28T18:47:39.616Z"
   },
   {
    "duration": 85,
    "start_time": "2025-03-28T18:47:39.664Z"
   },
   {
    "duration": 10,
    "start_time": "2025-03-28T18:47:39.750Z"
   },
   {
    "duration": 193,
    "start_time": "2025-03-28T18:47:39.761Z"
   },
   {
    "duration": 100,
    "start_time": "2025-03-28T18:47:39.956Z"
   },
   {
    "duration": 64,
    "start_time": "2025-03-28T18:47:40.058Z"
   },
   {
    "duration": 4508,
    "start_time": "2025-03-28T18:47:40.124Z"
   },
   {
    "duration": 1431,
    "start_time": "2025-03-28T18:48:42.334Z"
   },
   {
    "duration": 3724,
    "start_time": "2025-03-28T18:48:54.638Z"
   },
   {
    "duration": 52,
    "start_time": "2025-03-28T18:48:58.364Z"
   },
   {
    "duration": 11,
    "start_time": "2025-03-28T18:48:58.418Z"
   },
   {
    "duration": 12,
    "start_time": "2025-03-28T18:48:58.431Z"
   },
   {
    "duration": 2,
    "start_time": "2025-03-28T18:48:58.445Z"
   },
   {
    "duration": 4,
    "start_time": "2025-03-28T18:48:58.449Z"
   },
   {
    "duration": 1007,
    "start_time": "2025-03-28T18:48:58.454Z"
   },
   {
    "duration": 105,
    "start_time": "2025-03-28T18:48:59.463Z"
   },
   {
    "duration": 22,
    "start_time": "2025-03-28T18:48:59.569Z"
   },
   {
    "duration": 2,
    "start_time": "2025-03-28T18:48:59.604Z"
   },
   {
    "duration": 55,
    "start_time": "2025-03-28T18:48:59.608Z"
   },
   {
    "duration": 97,
    "start_time": "2025-03-28T18:48:59.665Z"
   },
   {
    "duration": 3,
    "start_time": "2025-03-28T18:48:59.764Z"
   },
   {
    "duration": 378,
    "start_time": "2025-03-28T18:48:59.771Z"
   },
   {
    "duration": 41,
    "start_time": "2025-03-28T18:49:00.151Z"
   },
   {
    "duration": 87,
    "start_time": "2025-03-28T18:49:00.194Z"
   },
   {
    "duration": 37,
    "start_time": "2025-03-28T18:49:00.283Z"
   },
   {
    "duration": 51,
    "start_time": "2025-03-28T18:49:00.321Z"
   },
   {
    "duration": 335,
    "start_time": "2025-03-28T18:49:00.373Z"
   },
   {
    "duration": 19,
    "start_time": "2025-03-28T18:49:00.709Z"
   },
   {
    "duration": 54,
    "start_time": "2025-03-28T18:49:00.730Z"
   },
   {
    "duration": 6,
    "start_time": "2025-03-28T18:49:00.786Z"
   },
   {
    "duration": 8,
    "start_time": "2025-03-28T18:49:00.793Z"
   },
   {
    "duration": 238,
    "start_time": "2025-03-28T18:49:00.803Z"
   },
   {
    "duration": 23,
    "start_time": "2025-03-28T18:49:01.043Z"
   },
   {
    "duration": 13,
    "start_time": "2025-03-28T18:49:01.068Z"
   },
   {
    "duration": 3,
    "start_time": "2025-03-28T18:49:01.083Z"
   },
   {
    "duration": 24,
    "start_time": "2025-03-28T18:49:01.088Z"
   },
   {
    "duration": 52,
    "start_time": "2025-03-28T18:49:01.113Z"
   },
   {
    "duration": 46,
    "start_time": "2025-03-28T18:49:01.166Z"
   },
   {
    "duration": 26,
    "start_time": "2025-03-28T18:49:01.214Z"
   },
   {
    "duration": 14,
    "start_time": "2025-03-28T18:49:01.242Z"
   },
   {
    "duration": 24,
    "start_time": "2025-03-28T18:49:01.257Z"
   },
   {
    "duration": 4,
    "start_time": "2025-03-28T18:49:01.282Z"
   },
   {
    "duration": 121,
    "start_time": "2025-03-28T18:49:01.287Z"
   },
   {
    "duration": 2,
    "start_time": "2025-03-28T18:49:01.410Z"
   },
   {
    "duration": 216,
    "start_time": "2025-03-28T18:49:01.414Z"
   },
   {
    "duration": 74,
    "start_time": "2025-03-28T18:49:01.631Z"
   },
   {
    "duration": 2,
    "start_time": "2025-03-28T18:49:01.707Z"
   },
   {
    "duration": 80,
    "start_time": "2025-03-28T18:49:01.711Z"
   },
   {
    "duration": 57,
    "start_time": "2025-03-28T18:49:01.796Z"
   },
   {
    "duration": 84,
    "start_time": "2025-03-28T18:49:01.854Z"
   },
   {
    "duration": 3,
    "start_time": "2025-03-28T18:49:01.939Z"
   },
   {
    "duration": 16,
    "start_time": "2025-03-28T18:49:01.943Z"
   },
   {
    "duration": 15,
    "start_time": "2025-03-28T18:49:01.961Z"
   },
   {
    "duration": 6,
    "start_time": "2025-03-28T18:49:01.978Z"
   },
   {
    "duration": 116,
    "start_time": "2025-03-28T18:49:01.986Z"
   },
   {
    "duration": 78,
    "start_time": "2025-03-28T18:49:02.104Z"
   },
   {
    "duration": 2,
    "start_time": "2025-03-28T18:49:02.184Z"
   },
   {
    "duration": 65,
    "start_time": "2025-03-28T18:49:02.188Z"
   },
   {
    "duration": 37,
    "start_time": "2025-03-28T18:49:02.254Z"
   },
   {
    "duration": 45,
    "start_time": "2025-03-28T18:49:02.293Z"
   },
   {
    "duration": 13,
    "start_time": "2025-03-28T18:49:02.339Z"
   },
   {
    "duration": 36,
    "start_time": "2025-03-28T18:49:02.353Z"
   },
   {
    "duration": 14,
    "start_time": "2025-03-28T18:49:02.391Z"
   },
   {
    "duration": 22,
    "start_time": "2025-03-28T18:49:02.407Z"
   },
   {
    "duration": 36,
    "start_time": "2025-03-28T18:49:02.431Z"
   },
   {
    "duration": 8,
    "start_time": "2025-03-28T18:49:02.469Z"
   },
   {
    "duration": 134,
    "start_time": "2025-03-28T18:49:02.478Z"
   },
   {
    "duration": 59,
    "start_time": "2025-03-28T18:49:02.614Z"
   },
   {
    "duration": 31,
    "start_time": "2025-03-28T18:49:02.674Z"
   },
   {
    "duration": 39,
    "start_time": "2025-03-28T18:49:02.707Z"
   },
   {
    "duration": 10,
    "start_time": "2025-03-28T18:49:02.747Z"
   },
   {
    "duration": 201,
    "start_time": "2025-03-28T18:49:02.758Z"
   },
   {
    "duration": 108,
    "start_time": "2025-03-28T18:49:02.960Z"
   },
   {
    "duration": 47,
    "start_time": "2025-03-28T18:49:03.069Z"
   },
   {
    "duration": 50,
    "start_time": "2025-03-28T18:49:03.118Z"
   },
   {
    "duration": 3,
    "start_time": "2025-03-28T18:49:03.169Z"
   },
   {
    "duration": 59,
    "start_time": "2025-03-28T18:49:03.173Z"
   },
   {
    "duration": 3,
    "start_time": "2025-03-28T18:49:03.234Z"
   },
   {
    "duration": 23,
    "start_time": "2025-03-28T18:49:03.239Z"
   },
   {
    "duration": 13,
    "start_time": "2025-03-28T18:49:03.264Z"
   },
   {
    "duration": 39,
    "start_time": "2025-03-28T18:49:03.278Z"
   },
   {
    "duration": 37,
    "start_time": "2025-03-28T18:49:03.319Z"
   },
   {
    "duration": 45,
    "start_time": "2025-03-28T18:49:03.357Z"
   },
   {
    "duration": 37,
    "start_time": "2025-03-28T18:49:03.404Z"
   },
   {
    "duration": 88,
    "start_time": "2025-03-28T18:49:03.443Z"
   },
   {
    "duration": 41,
    "start_time": "2025-03-28T18:49:03.533Z"
   },
   {
    "duration": 7,
    "start_time": "2025-03-28T18:49:03.576Z"
   },
   {
    "duration": 69,
    "start_time": "2025-03-28T18:49:03.584Z"
   },
   {
    "duration": 100,
    "start_time": "2025-03-28T18:49:03.654Z"
   },
   {
    "duration": 57,
    "start_time": "2025-03-28T18:49:03.755Z"
   },
   {
    "duration": 66,
    "start_time": "2025-03-28T18:49:03.814Z"
   },
   {
    "duration": 3,
    "start_time": "2025-03-28T18:49:03.881Z"
   },
   {
    "duration": 124,
    "start_time": "2025-03-28T18:49:03.885Z"
   },
   {
    "duration": 101,
    "start_time": "2025-03-28T18:49:04.010Z"
   },
   {
    "duration": 50,
    "start_time": "2025-03-28T18:49:04.113Z"
   },
   {
    "duration": 4868,
    "start_time": "2025-03-28T18:49:04.164Z"
   },
   {
    "duration": 1308,
    "start_time": "2025-03-28T18:50:21.223Z"
   },
   {
    "duration": 0,
    "start_time": "2025-03-28T18:50:22.533Z"
   },
   {
    "duration": 9,
    "start_time": "2025-03-28T18:50:22.827Z"
   },
   {
    "duration": 2,
    "start_time": "2025-03-28T18:50:23.215Z"
   },
   {
    "duration": 32,
    "start_time": "2025-03-28T18:50:23.463Z"
   },
   {
    "duration": 1232,
    "start_time": "2025-03-28T18:53:55.249Z"
   },
   {
    "duration": 2604,
    "start_time": "2025-03-28T18:54:05.344Z"
   },
   {
    "duration": 76,
    "start_time": "2025-03-28T18:54:07.950Z"
   },
   {
    "duration": 13,
    "start_time": "2025-03-28T18:54:08.028Z"
   },
   {
    "duration": 29,
    "start_time": "2025-03-28T18:54:08.043Z"
   },
   {
    "duration": 4,
    "start_time": "2025-03-28T18:54:08.073Z"
   },
   {
    "duration": 4,
    "start_time": "2025-03-28T18:54:08.079Z"
   },
   {
    "duration": 1105,
    "start_time": "2025-03-28T18:54:08.084Z"
   },
   {
    "duration": 124,
    "start_time": "2025-03-28T18:54:09.191Z"
   },
   {
    "duration": 26,
    "start_time": "2025-03-28T18:54:09.317Z"
   },
   {
    "duration": 23,
    "start_time": "2025-03-28T18:54:09.346Z"
   },
   {
    "duration": 21,
    "start_time": "2025-03-28T18:54:09.371Z"
   },
   {
    "duration": 103,
    "start_time": "2025-03-28T18:54:09.394Z"
   },
   {
    "duration": 15,
    "start_time": "2025-03-28T18:54:09.498Z"
   },
   {
    "duration": 374,
    "start_time": "2025-03-28T18:54:09.516Z"
   },
   {
    "duration": 52,
    "start_time": "2025-03-28T18:54:09.892Z"
   },
   {
    "duration": 2,
    "start_time": "2025-03-28T18:54:09.946Z"
   },
   {
    "duration": 10,
    "start_time": "2025-03-28T18:54:09.950Z"
   },
   {
    "duration": 9,
    "start_time": "2025-03-28T18:54:09.962Z"
   },
   {
    "duration": 319,
    "start_time": "2025-03-28T18:54:09.972Z"
   },
   {
    "duration": 27,
    "start_time": "2025-03-28T18:54:10.293Z"
   },
   {
    "duration": 20,
    "start_time": "2025-03-28T18:54:10.322Z"
   },
   {
    "duration": 5,
    "start_time": "2025-03-28T18:54:10.344Z"
   },
   {
    "duration": 15,
    "start_time": "2025-03-28T18:54:10.351Z"
   },
   {
    "duration": 211,
    "start_time": "2025-03-28T18:54:10.368Z"
   },
   {
    "duration": 35,
    "start_time": "2025-03-28T18:54:10.581Z"
   },
   {
    "duration": 16,
    "start_time": "2025-03-28T18:54:10.618Z"
   },
   {
    "duration": 95,
    "start_time": "2025-03-28T18:54:10.636Z"
   },
   {
    "duration": 24,
    "start_time": "2025-03-28T18:54:10.734Z"
   },
   {
    "duration": 17,
    "start_time": "2025-03-28T18:54:10.760Z"
   },
   {
    "duration": 2,
    "start_time": "2025-03-28T18:54:10.779Z"
   },
   {
    "duration": 8,
    "start_time": "2025-03-28T18:54:10.783Z"
   },
   {
    "duration": 23,
    "start_time": "2025-03-28T18:54:10.792Z"
   },
   {
    "duration": 10,
    "start_time": "2025-03-28T18:54:10.817Z"
   },
   {
    "duration": 28,
    "start_time": "2025-03-28T18:54:10.828Z"
   },
   {
    "duration": 114,
    "start_time": "2025-03-28T18:54:10.858Z"
   },
   {
    "duration": 3,
    "start_time": "2025-03-28T18:54:10.974Z"
   },
   {
    "duration": 167,
    "start_time": "2025-03-28T18:54:10.979Z"
   },
   {
    "duration": 93,
    "start_time": "2025-03-28T18:54:11.147Z"
   },
   {
    "duration": 2,
    "start_time": "2025-03-28T18:54:11.242Z"
   },
   {
    "duration": 31,
    "start_time": "2025-03-28T18:54:11.246Z"
   },
   {
    "duration": 64,
    "start_time": "2025-03-28T18:54:11.278Z"
   },
   {
    "duration": 44,
    "start_time": "2025-03-28T18:54:11.343Z"
   },
   {
    "duration": 2,
    "start_time": "2025-03-28T18:54:11.389Z"
   },
   {
    "duration": 9,
    "start_time": "2025-03-28T18:54:11.393Z"
   },
   {
    "duration": 11,
    "start_time": "2025-03-28T18:54:11.404Z"
   },
   {
    "duration": 8,
    "start_time": "2025-03-28T18:54:11.417Z"
   },
   {
    "duration": 90,
    "start_time": "2025-03-28T18:54:11.427Z"
   },
   {
    "duration": 68,
    "start_time": "2025-03-28T18:54:11.518Z"
   },
   {
    "duration": 3,
    "start_time": "2025-03-28T18:54:11.588Z"
   },
   {
    "duration": 57,
    "start_time": "2025-03-28T18:54:11.592Z"
   },
   {
    "duration": 36,
    "start_time": "2025-03-28T18:54:11.651Z"
   },
   {
    "duration": 66,
    "start_time": "2025-03-28T18:54:11.691Z"
   },
   {
    "duration": 13,
    "start_time": "2025-03-28T18:54:11.759Z"
   },
   {
    "duration": 16,
    "start_time": "2025-03-28T18:54:11.773Z"
   },
   {
    "duration": 6,
    "start_time": "2025-03-28T18:54:11.791Z"
   },
   {
    "duration": 39,
    "start_time": "2025-03-28T18:54:11.798Z"
   },
   {
    "duration": 28,
    "start_time": "2025-03-28T18:54:11.838Z"
   },
   {
    "duration": 3,
    "start_time": "2025-03-28T18:54:11.868Z"
   },
   {
    "duration": 111,
    "start_time": "2025-03-28T18:54:12.582Z"
   },
   {
    "duration": 56,
    "start_time": "2025-03-28T18:54:13.689Z"
   },
   {
    "duration": 15,
    "start_time": "2025-03-28T18:54:14.109Z"
   },
   {
    "duration": 10,
    "start_time": "2025-03-28T18:54:19.089Z"
   },
   {
    "duration": 2,
    "start_time": "2025-03-28T18:54:19.459Z"
   },
   {
    "duration": 206,
    "start_time": "2025-03-28T18:54:19.689Z"
   },
   {
    "duration": 103,
    "start_time": "2025-03-28T18:54:20.429Z"
   },
   {
    "duration": 44,
    "start_time": "2025-03-28T18:54:21.000Z"
   },
   {
    "duration": 55,
    "start_time": "2025-03-28T18:54:21.437Z"
   },
   {
    "duration": 2,
    "start_time": "2025-03-28T18:54:21.781Z"
   },
   {
    "duration": 46,
    "start_time": "2025-03-28T18:54:22.675Z"
   },
   {
    "duration": 3,
    "start_time": "2025-03-28T18:54:23.079Z"
   },
   {
    "duration": 17,
    "start_time": "2025-03-28T18:54:23.526Z"
   },
   {
    "duration": 17,
    "start_time": "2025-03-28T18:54:23.998Z"
   },
   {
    "duration": 18,
    "start_time": "2025-03-28T18:54:24.617Z"
   },
   {
    "duration": 14,
    "start_time": "2025-03-28T18:54:25.374Z"
   },
   {
    "duration": 9,
    "start_time": "2025-03-28T18:55:14.429Z"
   },
   {
    "duration": 3,
    "start_time": "2025-03-28T18:55:24.618Z"
   },
   {
    "duration": 33,
    "start_time": "2025-03-28T18:55:24.948Z"
   },
   {
    "duration": 45,
    "start_time": "2025-03-28T19:22:35.616Z"
   },
   {
    "duration": 66,
    "start_time": "2025-03-28T19:23:16.950Z"
   },
   {
    "duration": 98,
    "start_time": "2025-03-28T19:28:17.215Z"
   },
   {
    "duration": 66,
    "start_time": "2025-03-28T19:28:33.660Z"
   },
   {
    "duration": 110,
    "start_time": "2025-03-28T19:29:39.334Z"
   },
   {
    "duration": 53,
    "start_time": "2025-03-28T19:30:13.345Z"
   },
   {
    "duration": 59,
    "start_time": "2025-03-28T19:34:15.434Z"
   },
   {
    "duration": 54,
    "start_time": "2025-03-28T19:34:53.428Z"
   },
   {
    "duration": 52,
    "start_time": "2025-03-28T19:35:30.493Z"
   },
   {
    "duration": 52,
    "start_time": "2025-03-28T19:36:11.744Z"
   },
   {
    "duration": 42,
    "start_time": "2025-03-28T19:37:07.423Z"
   },
   {
    "duration": 31,
    "start_time": "2025-03-28T19:37:25.872Z"
   },
   {
    "duration": 40,
    "start_time": "2025-03-28T19:39:53.051Z"
   },
   {
    "duration": 53,
    "start_time": "2025-03-28T19:46:29.660Z"
   },
   {
    "duration": 18,
    "start_time": "2025-03-28T19:46:48.844Z"
   },
   {
    "duration": 61,
    "start_time": "2025-03-28T20:32:03.869Z"
   },
   {
    "duration": 3745,
    "start_time": "2025-03-28T20:32:24.078Z"
   },
   {
    "duration": 64,
    "start_time": "2025-03-28T20:32:27.825Z"
   },
   {
    "duration": 14,
    "start_time": "2025-03-28T20:32:27.890Z"
   },
   {
    "duration": 15,
    "start_time": "2025-03-28T20:32:27.906Z"
   },
   {
    "duration": 3,
    "start_time": "2025-03-28T20:32:27.924Z"
   },
   {
    "duration": 10,
    "start_time": "2025-03-28T20:32:27.928Z"
   },
   {
    "duration": 1119,
    "start_time": "2025-03-28T20:32:27.940Z"
   },
   {
    "duration": 106,
    "start_time": "2025-03-28T20:32:29.061Z"
   },
   {
    "duration": 24,
    "start_time": "2025-03-28T20:32:29.168Z"
   },
   {
    "duration": 12,
    "start_time": "2025-03-28T20:32:29.203Z"
   },
   {
    "duration": 62,
    "start_time": "2025-03-28T20:32:29.216Z"
   },
   {
    "duration": 98,
    "start_time": "2025-03-28T20:32:29.279Z"
   },
   {
    "duration": 2,
    "start_time": "2025-03-28T20:32:29.379Z"
   },
   {
    "duration": 338,
    "start_time": "2025-03-28T20:32:29.384Z"
   },
   {
    "duration": 38,
    "start_time": "2025-03-28T20:32:29.723Z"
   },
   {
    "duration": 3,
    "start_time": "2025-03-28T20:32:29.763Z"
   },
   {
    "duration": 22,
    "start_time": "2025-03-28T20:32:29.768Z"
   },
   {
    "duration": 3,
    "start_time": "2025-03-28T20:32:29.792Z"
   },
   {
    "duration": 343,
    "start_time": "2025-03-28T20:32:29.803Z"
   },
   {
    "duration": 19,
    "start_time": "2025-03-28T20:32:30.147Z"
   },
   {
    "duration": 75,
    "start_time": "2025-03-28T20:32:30.168Z"
   },
   {
    "duration": 87,
    "start_time": "2025-03-28T20:32:30.244Z"
   },
   {
    "duration": 32,
    "start_time": "2025-03-28T20:32:30.333Z"
   },
   {
    "duration": 222,
    "start_time": "2025-03-28T20:32:30.367Z"
   },
   {
    "duration": 30,
    "start_time": "2025-03-28T20:32:30.591Z"
   },
   {
    "duration": 52,
    "start_time": "2025-03-28T20:32:30.622Z"
   },
   {
    "duration": 42,
    "start_time": "2025-03-28T20:32:30.676Z"
   },
   {
    "duration": 8,
    "start_time": "2025-03-28T20:32:30.719Z"
   },
   {
    "duration": 18,
    "start_time": "2025-03-28T20:32:30.728Z"
   },
   {
    "duration": 2,
    "start_time": "2025-03-28T20:32:30.747Z"
   },
   {
    "duration": 9,
    "start_time": "2025-03-28T20:32:30.751Z"
   },
   {
    "duration": 11,
    "start_time": "2025-03-28T20:32:30.762Z"
   },
   {
    "duration": 9,
    "start_time": "2025-03-28T20:32:30.774Z"
   },
   {
    "duration": 5,
    "start_time": "2025-03-28T20:32:30.784Z"
   },
   {
    "duration": 129,
    "start_time": "2025-03-28T20:32:30.791Z"
   },
   {
    "duration": 2,
    "start_time": "2025-03-28T20:32:30.921Z"
   },
   {
    "duration": 179,
    "start_time": "2025-03-28T20:32:30.925Z"
   },
   {
    "duration": 78,
    "start_time": "2025-03-28T20:32:31.106Z"
   },
   {
    "duration": 3,
    "start_time": "2025-03-28T20:32:31.186Z"
   },
   {
    "duration": 53,
    "start_time": "2025-03-28T20:32:31.203Z"
   },
   {
    "duration": 19,
    "start_time": "2025-03-28T20:32:31.261Z"
   },
   {
    "duration": 16,
    "start_time": "2025-03-28T20:32:31.282Z"
   },
   {
    "duration": 30,
    "start_time": "2025-03-28T20:32:31.300Z"
   },
   {
    "duration": 9,
    "start_time": "2025-03-28T20:32:31.332Z"
   },
   {
    "duration": 7,
    "start_time": "2025-03-28T20:32:31.343Z"
   },
   {
    "duration": 5,
    "start_time": "2025-03-28T20:32:31.351Z"
   },
   {
    "duration": 78,
    "start_time": "2025-03-28T20:32:31.357Z"
   },
   {
    "duration": 80,
    "start_time": "2025-03-28T20:32:31.437Z"
   },
   {
    "duration": 3,
    "start_time": "2025-03-28T20:32:31.518Z"
   },
   {
    "duration": 64,
    "start_time": "2025-03-28T20:32:31.522Z"
   },
   {
    "duration": 36,
    "start_time": "2025-03-28T20:32:31.588Z"
   },
   {
    "duration": 42,
    "start_time": "2025-03-28T20:32:31.626Z"
   },
   {
    "duration": 16,
    "start_time": "2025-03-28T20:32:31.670Z"
   },
   {
    "duration": 12,
    "start_time": "2025-03-28T20:32:31.688Z"
   },
   {
    "duration": 15,
    "start_time": "2025-03-28T20:32:31.702Z"
   },
   {
    "duration": 24,
    "start_time": "2025-03-28T20:32:31.718Z"
   },
   {
    "duration": 21,
    "start_time": "2025-03-28T20:32:31.743Z"
   },
   {
    "duration": 2,
    "start_time": "2025-03-28T20:32:31.766Z"
   },
   {
    "duration": 111,
    "start_time": "2025-03-28T20:32:31.770Z"
   },
   {
    "duration": 71,
    "start_time": "2025-03-28T20:32:31.882Z"
   },
   {
    "duration": 12,
    "start_time": "2025-03-28T20:32:31.954Z"
   },
   {
    "duration": 14,
    "start_time": "2025-03-28T20:32:31.968Z"
   },
   {
    "duration": 2,
    "start_time": "2025-03-28T20:32:31.984Z"
   },
   {
    "duration": 203,
    "start_time": "2025-03-28T20:32:32.004Z"
   },
   {
    "duration": 116,
    "start_time": "2025-03-28T20:32:32.208Z"
   },
   {
    "duration": 40,
    "start_time": "2025-03-28T20:32:32.325Z"
   },
   {
    "duration": 75,
    "start_time": "2025-03-28T20:32:32.367Z"
   },
   {
    "duration": 2,
    "start_time": "2025-03-28T20:32:32.444Z"
   },
   {
    "duration": 58,
    "start_time": "2025-03-28T20:32:32.448Z"
   },
   {
    "duration": 2,
    "start_time": "2025-03-28T20:32:32.508Z"
   },
   {
    "duration": 26,
    "start_time": "2025-03-28T20:32:32.512Z"
   },
   {
    "duration": 13,
    "start_time": "2025-03-28T20:32:32.540Z"
   },
   {
    "duration": 18,
    "start_time": "2025-03-28T20:32:32.555Z"
   },
   {
    "duration": 35,
    "start_time": "2025-03-28T20:32:32.575Z"
   },
   {
    "duration": 7,
    "start_time": "2025-03-28T20:32:32.612Z"
   },
   {
    "duration": 78,
    "start_time": "2025-03-28T20:32:32.621Z"
   },
   {
    "duration": 36,
    "start_time": "2025-03-28T20:32:32.700Z"
   },
   {
    "duration": 49,
    "start_time": "2025-03-28T20:32:32.737Z"
   },
   {
    "duration": 29,
    "start_time": "2025-03-28T20:32:32.788Z"
   },
   {
    "duration": 2,
    "start_time": "2025-03-28T20:32:32.819Z"
   },
   {
    "duration": 64,
    "start_time": "2025-03-28T20:32:32.823Z"
   },
   {
    "duration": 97,
    "start_time": "2025-03-28T20:32:32.888Z"
   },
   {
    "duration": 50,
    "start_time": "2025-03-28T20:32:32.986Z"
   },
   {
    "duration": 73,
    "start_time": "2025-03-28T20:32:33.037Z"
   },
   {
    "duration": 3665,
    "start_time": "2025-03-28T20:34:05.989Z"
   },
   {
    "duration": 65,
    "start_time": "2025-03-28T20:34:09.656Z"
   },
   {
    "duration": 14,
    "start_time": "2025-03-28T20:34:09.723Z"
   },
   {
    "duration": 36,
    "start_time": "2025-03-28T20:34:09.739Z"
   },
   {
    "duration": 14,
    "start_time": "2025-03-28T20:34:09.777Z"
   },
   {
    "duration": 37,
    "start_time": "2025-03-28T20:34:09.793Z"
   },
   {
    "duration": 986,
    "start_time": "2025-03-28T20:34:09.832Z"
   },
   {
    "duration": 109,
    "start_time": "2025-03-28T20:34:10.819Z"
   },
   {
    "duration": 25,
    "start_time": "2025-03-28T20:34:10.930Z"
   },
   {
    "duration": 2,
    "start_time": "2025-03-28T20:34:10.957Z"
   },
   {
    "duration": 61,
    "start_time": "2025-03-28T20:34:10.961Z"
   },
   {
    "duration": 105,
    "start_time": "2025-03-28T20:34:11.024Z"
   },
   {
    "duration": 3,
    "start_time": "2025-03-28T20:34:11.130Z"
   },
   {
    "duration": 346,
    "start_time": "2025-03-28T20:34:11.136Z"
   },
   {
    "duration": 44,
    "start_time": "2025-03-28T20:34:11.483Z"
   },
   {
    "duration": 3,
    "start_time": "2025-03-28T20:34:11.528Z"
   },
   {
    "duration": 11,
    "start_time": "2025-03-28T20:34:11.532Z"
   },
   {
    "duration": 4,
    "start_time": "2025-03-28T20:34:11.544Z"
   },
   {
    "duration": 240,
    "start_time": "2025-03-28T20:34:11.549Z"
   },
   {
    "duration": 19,
    "start_time": "2025-03-28T20:34:11.791Z"
   },
   {
    "duration": 7,
    "start_time": "2025-03-28T20:34:11.812Z"
   },
   {
    "duration": 9,
    "start_time": "2025-03-28T20:34:11.820Z"
   },
   {
    "duration": 13,
    "start_time": "2025-03-28T20:34:11.831Z"
   },
   {
    "duration": 281,
    "start_time": "2025-03-28T20:34:11.845Z"
   },
   {
    "duration": 24,
    "start_time": "2025-03-28T20:34:12.127Z"
   },
   {
    "duration": 7,
    "start_time": "2025-03-28T20:34:12.153Z"
   },
   {
    "duration": 10,
    "start_time": "2025-03-28T20:34:12.161Z"
   },
   {
    "duration": 5,
    "start_time": "2025-03-28T20:34:12.172Z"
   },
   {
    "duration": 12,
    "start_time": "2025-03-28T20:34:12.178Z"
   },
   {
    "duration": 2,
    "start_time": "2025-03-28T20:34:12.203Z"
   },
   {
    "duration": 15,
    "start_time": "2025-03-28T20:34:12.207Z"
   },
   {
    "duration": 12,
    "start_time": "2025-03-28T20:34:12.224Z"
   },
   {
    "duration": 13,
    "start_time": "2025-03-28T20:34:12.238Z"
   },
   {
    "duration": 4,
    "start_time": "2025-03-28T20:34:12.252Z"
   },
   {
    "duration": 105,
    "start_time": "2025-03-28T20:34:12.257Z"
   },
   {
    "duration": 3,
    "start_time": "2025-03-28T20:34:12.363Z"
   },
   {
    "duration": 164,
    "start_time": "2025-03-28T20:34:12.367Z"
   },
   {
    "duration": 84,
    "start_time": "2025-03-28T20:34:12.533Z"
   },
   {
    "duration": 2,
    "start_time": "2025-03-28T20:34:12.619Z"
   },
   {
    "duration": 83,
    "start_time": "2025-03-28T20:34:12.623Z"
   },
   {
    "duration": 23,
    "start_time": "2025-03-28T20:34:12.710Z"
   },
   {
    "duration": 15,
    "start_time": "2025-03-28T20:34:12.734Z"
   },
   {
    "duration": 8,
    "start_time": "2025-03-28T20:34:12.750Z"
   },
   {
    "duration": 11,
    "start_time": "2025-03-28T20:34:12.760Z"
   },
   {
    "duration": 7,
    "start_time": "2025-03-28T20:34:12.772Z"
   },
   {
    "duration": 3,
    "start_time": "2025-03-28T20:34:12.781Z"
   },
   {
    "duration": 74,
    "start_time": "2025-03-28T20:34:12.805Z"
   },
   {
    "duration": 85,
    "start_time": "2025-03-28T20:34:12.880Z"
   },
   {
    "duration": 3,
    "start_time": "2025-03-28T20:34:12.966Z"
   },
   {
    "duration": 55,
    "start_time": "2025-03-28T20:34:12.970Z"
   },
   {
    "duration": 37,
    "start_time": "2025-03-28T20:34:13.026Z"
   },
   {
    "duration": 5,
    "start_time": "2025-03-28T20:34:13.064Z"
   },
   {
    "duration": 17,
    "start_time": "2025-03-28T20:34:13.070Z"
   },
   {
    "duration": 23,
    "start_time": "2025-03-28T20:34:13.088Z"
   },
   {
    "duration": 6,
    "start_time": "2025-03-28T20:34:13.113Z"
   },
   {
    "duration": 20,
    "start_time": "2025-03-28T20:34:13.120Z"
   },
   {
    "duration": 20,
    "start_time": "2025-03-28T20:34:13.142Z"
   },
   {
    "duration": 13,
    "start_time": "2025-03-28T20:34:13.163Z"
   },
   {
    "duration": 121,
    "start_time": "2025-03-28T20:34:13.177Z"
   },
   {
    "duration": 58,
    "start_time": "2025-03-28T20:34:13.303Z"
   },
   {
    "duration": 11,
    "start_time": "2025-03-28T20:34:13.362Z"
   },
   {
    "duration": 30,
    "start_time": "2025-03-28T20:34:13.375Z"
   },
   {
    "duration": 7,
    "start_time": "2025-03-28T20:34:13.406Z"
   },
   {
    "duration": 184,
    "start_time": "2025-03-28T20:34:13.415Z"
   },
   {
    "duration": 112,
    "start_time": "2025-03-28T20:34:13.600Z"
   },
   {
    "duration": 37,
    "start_time": "2025-03-28T20:34:13.713Z"
   },
   {
    "duration": 57,
    "start_time": "2025-03-28T20:34:13.751Z"
   },
   {
    "duration": 2,
    "start_time": "2025-03-28T20:34:13.810Z"
   },
   {
    "duration": 44,
    "start_time": "2025-03-28T20:34:13.813Z"
   },
   {
    "duration": 2,
    "start_time": "2025-03-28T20:34:13.859Z"
   },
   {
    "duration": 17,
    "start_time": "2025-03-28T20:34:13.863Z"
   },
   {
    "duration": 13,
    "start_time": "2025-03-28T20:34:13.904Z"
   },
   {
    "duration": 17,
    "start_time": "2025-03-28T20:34:13.918Z"
   },
   {
    "duration": 13,
    "start_time": "2025-03-28T20:34:13.936Z"
   },
   {
    "duration": 7,
    "start_time": "2025-03-28T20:34:13.950Z"
   },
   {
    "duration": 3,
    "start_time": "2025-03-28T20:34:13.959Z"
   },
   {
    "duration": 64,
    "start_time": "2025-03-28T20:34:13.963Z"
   },
   {
    "duration": 43,
    "start_time": "2025-03-28T20:34:14.028Z"
   },
   {
    "duration": 33,
    "start_time": "2025-03-28T20:34:14.072Z"
   },
   {
    "duration": 2,
    "start_time": "2025-03-28T20:34:14.107Z"
   },
   {
    "duration": 48,
    "start_time": "2025-03-28T20:34:14.110Z"
   },
   {
    "duration": 115,
    "start_time": "2025-03-28T20:34:14.160Z"
   },
   {
    "duration": 50,
    "start_time": "2025-03-28T20:34:14.276Z"
   },
   {
    "duration": 75,
    "start_time": "2025-03-28T20:34:14.328Z"
   },
   {
    "duration": 49,
    "start_time": "2025-03-28T20:35:22.684Z"
   },
   {
    "duration": 3766,
    "start_time": "2025-03-28T20:35:37.181Z"
   },
   {
    "duration": 47,
    "start_time": "2025-03-28T20:35:40.949Z"
   },
   {
    "duration": 14,
    "start_time": "2025-03-28T20:35:40.997Z"
   },
   {
    "duration": 27,
    "start_time": "2025-03-28T20:35:41.014Z"
   },
   {
    "duration": 3,
    "start_time": "2025-03-28T20:35:41.043Z"
   },
   {
    "duration": 7,
    "start_time": "2025-03-28T20:35:41.048Z"
   },
   {
    "duration": 965,
    "start_time": "2025-03-28T20:35:41.057Z"
   },
   {
    "duration": 106,
    "start_time": "2025-03-28T20:35:42.024Z"
   },
   {
    "duration": 23,
    "start_time": "2025-03-28T20:35:42.132Z"
   },
   {
    "duration": 23,
    "start_time": "2025-03-28T20:35:42.157Z"
   },
   {
    "duration": 51,
    "start_time": "2025-03-28T20:35:42.182Z"
   },
   {
    "duration": 126,
    "start_time": "2025-03-28T20:35:42.235Z"
   },
   {
    "duration": 3,
    "start_time": "2025-03-28T20:35:42.363Z"
   },
   {
    "duration": 300,
    "start_time": "2025-03-28T20:35:42.368Z"
   },
   {
    "duration": 38,
    "start_time": "2025-03-28T20:35:42.669Z"
   },
   {
    "duration": 18,
    "start_time": "2025-03-28T20:35:42.708Z"
   },
   {
    "duration": 11,
    "start_time": "2025-03-28T20:35:42.728Z"
   },
   {
    "duration": 2,
    "start_time": "2025-03-28T20:35:42.741Z"
   },
   {
    "duration": 223,
    "start_time": "2025-03-28T20:35:42.745Z"
   },
   {
    "duration": 19,
    "start_time": "2025-03-28T20:35:42.970Z"
   },
   {
    "duration": 17,
    "start_time": "2025-03-28T20:35:42.991Z"
   },
   {
    "duration": 3,
    "start_time": "2025-03-28T20:35:43.009Z"
   },
   {
    "duration": 4,
    "start_time": "2025-03-28T20:35:43.014Z"
   },
   {
    "duration": 233,
    "start_time": "2025-03-28T20:35:43.019Z"
   },
   {
    "duration": 26,
    "start_time": "2025-03-28T20:35:43.254Z"
   },
   {
    "duration": 24,
    "start_time": "2025-03-28T20:35:43.281Z"
   },
   {
    "duration": 2,
    "start_time": "2025-03-28T20:35:43.308Z"
   },
   {
    "duration": 3,
    "start_time": "2025-03-28T20:35:43.571Z"
   },
   {
    "duration": 11,
    "start_time": "2025-03-28T20:35:43.779Z"
   },
   {
    "duration": 2,
    "start_time": "2025-03-28T20:35:44.141Z"
   },
   {
    "duration": 7,
    "start_time": "2025-03-28T20:35:44.281Z"
   },
   {
    "duration": 10,
    "start_time": "2025-03-28T20:35:44.437Z"
   },
   {
    "duration": 8,
    "start_time": "2025-03-28T20:35:44.608Z"
   },
   {
    "duration": 3,
    "start_time": "2025-03-28T20:35:44.775Z"
   },
   {
    "duration": 98,
    "start_time": "2025-03-28T20:35:44.951Z"
   },
   {
    "duration": 2,
    "start_time": "2025-03-28T20:35:45.120Z"
   },
   {
    "duration": 157,
    "start_time": "2025-03-28T20:35:45.285Z"
   },
   {
    "duration": 78,
    "start_time": "2025-03-28T20:35:45.460Z"
   },
   {
    "duration": 2,
    "start_time": "2025-03-28T20:35:45.650Z"
   },
   {
    "duration": 20,
    "start_time": "2025-03-28T20:35:45.842Z"
   },
   {
    "duration": 24,
    "start_time": "2025-03-28T20:35:46.039Z"
   },
   {
    "duration": 17,
    "start_time": "2025-03-28T20:35:46.229Z"
   },
   {
    "duration": 2,
    "start_time": "2025-03-28T20:35:46.604Z"
   },
   {
    "duration": 6,
    "start_time": "2025-03-28T20:35:46.794Z"
   },
   {
    "duration": 7,
    "start_time": "2025-03-28T20:35:46.968Z"
   },
   {
    "duration": 3,
    "start_time": "2025-03-28T20:35:47.608Z"
   },
   {
    "duration": 74,
    "start_time": "2025-03-28T20:35:47.950Z"
   },
   {
    "duration": 80,
    "start_time": "2025-03-28T20:35:48.500Z"
   },
   {
    "duration": 2,
    "start_time": "2025-03-28T20:35:49.036Z"
   },
   {
    "duration": 35,
    "start_time": "2025-03-28T20:35:49.324Z"
   },
   {
    "duration": 37,
    "start_time": "2025-03-28T20:35:49.522Z"
   },
   {
    "duration": 2,
    "start_time": "2025-03-28T20:35:49.714Z"
   },
   {
    "duration": 12,
    "start_time": "2025-03-28T20:35:49.873Z"
   },
   {
    "duration": 13,
    "start_time": "2025-03-28T20:35:50.036Z"
   },
   {
    "duration": 2,
    "start_time": "2025-03-28T20:35:50.200Z"
   },
   {
    "duration": 19,
    "start_time": "2025-03-28T20:35:50.380Z"
   },
   {
    "duration": 21,
    "start_time": "2025-03-28T20:35:50.574Z"
   },
   {
    "duration": 2,
    "start_time": "2025-03-28T20:35:50.754Z"
   },
   {
    "duration": 106,
    "start_time": "2025-03-28T20:35:53.580Z"
   },
   {
    "duration": 57,
    "start_time": "2025-03-28T20:35:54.794Z"
   },
   {
    "duration": 11,
    "start_time": "2025-03-28T20:35:54.853Z"
   },
   {
    "duration": 12,
    "start_time": "2025-03-28T20:35:55.263Z"
   },
   {
    "duration": 2,
    "start_time": "2025-03-28T20:35:55.894Z"
   },
   {
    "duration": 184,
    "start_time": "2025-03-28T20:35:56.530Z"
   },
   {
    "duration": 109,
    "start_time": "2025-03-28T20:35:57.528Z"
   },
   {
    "duration": 40,
    "start_time": "2025-03-28T20:35:57.862Z"
   },
   {
    "duration": 48,
    "start_time": "2025-03-28T20:35:58.150Z"
   },
   {
    "duration": 2,
    "start_time": "2025-03-28T20:35:58.415Z"
   },
   {
    "duration": 43,
    "start_time": "2025-03-28T20:35:59.302Z"
   },
   {
    "duration": 4,
    "start_time": "2025-03-28T20:35:59.826Z"
   },
   {
    "duration": 18,
    "start_time": "2025-03-28T20:36:00.390Z"
   },
   {
    "duration": 15,
    "start_time": "2025-03-28T20:36:00.996Z"
   },
   {
    "duration": 18,
    "start_time": "2025-03-28T20:36:02.266Z"
   },
   {
    "duration": 14,
    "start_time": "2025-03-28T20:36:02.810Z"
   },
   {
    "duration": 7,
    "start_time": "2025-03-28T20:36:03.638Z"
   },
   {
    "duration": 2,
    "start_time": "2025-03-28T20:36:03.996Z"
   },
   {
    "duration": 29,
    "start_time": "2025-03-28T20:36:04.376Z"
   },
   {
    "duration": 39,
    "start_time": "2025-03-28T20:36:04.642Z"
   },
   {
    "duration": 16,
    "start_time": "2025-03-28T20:36:04.880Z"
   },
   {
    "duration": 2,
    "start_time": "2025-03-28T20:36:06.634Z"
   },
   {
    "duration": 43,
    "start_time": "2025-03-28T20:36:07.080Z"
   },
   {
    "duration": 105,
    "start_time": "2025-03-28T20:36:07.602Z"
   },
   {
    "duration": 41,
    "start_time": "2025-03-28T20:36:08.194Z"
   },
   {
    "duration": 59,
    "start_time": "2025-03-28T20:36:08.938Z"
   },
   {
    "duration": 49,
    "start_time": "2025-03-28T20:37:00.397Z"
   },
   {
    "duration": 3708,
    "start_time": "2025-03-28T20:37:11.890Z"
   },
   {
    "duration": 51,
    "start_time": "2025-03-28T20:37:15.600Z"
   },
   {
    "duration": 12,
    "start_time": "2025-03-28T20:37:15.653Z"
   },
   {
    "duration": 25,
    "start_time": "2025-03-28T20:37:15.667Z"
   },
   {
    "duration": 3,
    "start_time": "2025-03-28T20:37:15.694Z"
   },
   {
    "duration": 5,
    "start_time": "2025-03-28T20:37:15.698Z"
   },
   {
    "duration": 983,
    "start_time": "2025-03-28T20:37:15.704Z"
   },
   {
    "duration": 103,
    "start_time": "2025-03-28T20:37:16.689Z"
   },
   {
    "duration": 31,
    "start_time": "2025-03-28T20:37:16.793Z"
   },
   {
    "duration": 19,
    "start_time": "2025-03-28T20:37:16.826Z"
   },
   {
    "duration": 27,
    "start_time": "2025-03-28T20:37:16.847Z"
   },
   {
    "duration": 96,
    "start_time": "2025-03-28T20:37:16.875Z"
   },
   {
    "duration": 3,
    "start_time": "2025-03-28T20:37:16.972Z"
   },
   {
    "duration": 357,
    "start_time": "2025-03-28T20:37:16.976Z"
   },
   {
    "duration": 39,
    "start_time": "2025-03-28T20:37:17.335Z"
   },
   {
    "duration": 3,
    "start_time": "2025-03-28T20:37:17.375Z"
   },
   {
    "duration": 34,
    "start_time": "2025-03-28T20:37:17.379Z"
   },
   {
    "duration": 34,
    "start_time": "2025-03-28T20:37:17.414Z"
   },
   {
    "duration": 193,
    "start_time": "2025-03-28T20:37:17.449Z"
   },
   {
    "duration": 19,
    "start_time": "2025-03-28T20:37:17.644Z"
   },
   {
    "duration": 9,
    "start_time": "2025-03-28T20:37:17.664Z"
   },
   {
    "duration": 18,
    "start_time": "2025-03-28T20:37:17.674Z"
   },
   {
    "duration": 10,
    "start_time": "2025-03-28T20:37:17.696Z"
   },
   {
    "duration": 247,
    "start_time": "2025-03-28T20:37:17.707Z"
   },
   {
    "duration": 24,
    "start_time": "2025-03-28T20:37:17.956Z"
   },
   {
    "duration": 22,
    "start_time": "2025-03-28T20:37:17.982Z"
   },
   {
    "duration": 3,
    "start_time": "2025-03-28T20:37:18.006Z"
   },
   {
    "duration": 2,
    "start_time": "2025-03-28T20:37:18.014Z"
   },
   {
    "duration": 11,
    "start_time": "2025-03-28T20:37:18.018Z"
   },
   {
    "duration": 2,
    "start_time": "2025-03-28T20:37:18.031Z"
   },
   {
    "duration": 8,
    "start_time": "2025-03-28T20:37:18.035Z"
   },
   {
    "duration": 11,
    "start_time": "2025-03-28T20:37:18.045Z"
   },
   {
    "duration": 8,
    "start_time": "2025-03-28T20:37:18.058Z"
   },
   {
    "duration": 3,
    "start_time": "2025-03-28T20:37:18.104Z"
   },
   {
    "duration": 108,
    "start_time": "2025-03-28T20:37:18.108Z"
   },
   {
    "duration": 2,
    "start_time": "2025-03-28T20:37:18.218Z"
   },
   {
    "duration": 149,
    "start_time": "2025-03-28T20:37:18.222Z"
   },
   {
    "duration": 84,
    "start_time": "2025-03-28T20:37:18.373Z"
   },
   {
    "duration": 3,
    "start_time": "2025-03-28T20:37:18.459Z"
   },
   {
    "duration": 22,
    "start_time": "2025-03-28T20:37:18.463Z"
   },
   {
    "duration": 34,
    "start_time": "2025-03-28T20:37:18.486Z"
   },
   {
    "duration": 42,
    "start_time": "2025-03-28T20:37:18.522Z"
   },
   {
    "duration": 4,
    "start_time": "2025-03-28T20:37:18.566Z"
   },
   {
    "duration": 10,
    "start_time": "2025-03-28T20:37:18.571Z"
   },
   {
    "duration": 15,
    "start_time": "2025-03-28T20:37:18.582Z"
   },
   {
    "duration": 3,
    "start_time": "2025-03-28T20:37:18.599Z"
   },
   {
    "duration": 77,
    "start_time": "2025-03-28T20:37:18.604Z"
   },
   {
    "duration": 75,
    "start_time": "2025-03-28T20:37:18.683Z"
   },
   {
    "duration": 2,
    "start_time": "2025-03-28T20:37:18.760Z"
   },
   {
    "duration": 48,
    "start_time": "2025-03-28T20:37:18.764Z"
   },
   {
    "duration": 37,
    "start_time": "2025-03-28T20:37:18.814Z"
   },
   {
    "duration": 3,
    "start_time": "2025-03-28T20:37:18.853Z"
   },
   {
    "duration": 16,
    "start_time": "2025-03-28T20:37:18.857Z"
   },
   {
    "duration": 30,
    "start_time": "2025-03-28T20:37:18.874Z"
   },
   {
    "duration": 2,
    "start_time": "2025-03-28T20:37:18.906Z"
   },
   {
    "duration": 23,
    "start_time": "2025-03-28T20:37:18.910Z"
   },
   {
    "duration": 21,
    "start_time": "2025-03-28T20:37:18.935Z"
   },
   {
    "duration": 4,
    "start_time": "2025-03-28T20:37:18.957Z"
   },
   {
    "duration": 123,
    "start_time": "2025-03-28T20:37:18.963Z"
   },
   {
    "duration": 64,
    "start_time": "2025-03-28T20:37:19.088Z"
   },
   {
    "duration": 11,
    "start_time": "2025-03-28T20:37:19.154Z"
   },
   {
    "duration": 17,
    "start_time": "2025-03-28T20:37:19.167Z"
   },
   {
    "duration": 4,
    "start_time": "2025-03-28T20:37:19.185Z"
   },
   {
    "duration": 189,
    "start_time": "2025-03-28T20:37:19.203Z"
   },
   {
    "duration": 118,
    "start_time": "2025-03-28T20:37:19.394Z"
   },
   {
    "duration": 39,
    "start_time": "2025-03-28T20:37:19.513Z"
   },
   {
    "duration": 66,
    "start_time": "2025-03-28T20:37:19.554Z"
   },
   {
    "duration": 3,
    "start_time": "2025-03-28T20:37:19.621Z"
   },
   {
    "duration": 55,
    "start_time": "2025-03-28T20:37:19.625Z"
   },
   {
    "duration": 2,
    "start_time": "2025-03-28T20:37:19.682Z"
   },
   {
    "duration": 29,
    "start_time": "2025-03-28T20:37:19.686Z"
   },
   {
    "duration": 13,
    "start_time": "2025-03-28T20:37:19.716Z"
   },
   {
    "duration": 21,
    "start_time": "2025-03-28T20:37:19.730Z"
   },
   {
    "duration": 16,
    "start_time": "2025-03-28T20:37:19.752Z"
   },
   {
    "duration": 35,
    "start_time": "2025-03-28T20:37:19.770Z"
   },
   {
    "duration": 7,
    "start_time": "2025-03-28T20:37:19.807Z"
   },
   {
    "duration": 34,
    "start_time": "2025-03-28T20:37:19.816Z"
   },
   {
    "duration": 59,
    "start_time": "2025-03-28T20:37:19.853Z"
   },
   {
    "duration": 16,
    "start_time": "2025-03-28T20:37:19.913Z"
   },
   {
    "duration": 2,
    "start_time": "2025-03-28T20:37:19.930Z"
   },
   {
    "duration": 69,
    "start_time": "2025-03-28T20:37:19.934Z"
   },
   {
    "duration": 101,
    "start_time": "2025-03-28T20:37:20.009Z"
   },
   {
    "duration": 42,
    "start_time": "2025-03-28T20:37:20.112Z"
   },
   {
    "duration": 85,
    "start_time": "2025-03-28T20:37:20.156Z"
   },
   {
    "duration": 45,
    "start_time": "2025-03-28T20:38:26.203Z"
   },
   {
    "duration": 3641,
    "start_time": "2025-03-28T20:38:33.641Z"
   },
   {
    "duration": 54,
    "start_time": "2025-03-28T20:38:37.284Z"
   },
   {
    "duration": 11,
    "start_time": "2025-03-28T20:38:37.340Z"
   },
   {
    "duration": 10,
    "start_time": "2025-03-28T20:38:37.353Z"
   },
   {
    "duration": 16,
    "start_time": "2025-03-28T20:38:37.365Z"
   },
   {
    "duration": 7,
    "start_time": "2025-03-28T20:38:37.382Z"
   },
   {
    "duration": 987,
    "start_time": "2025-03-28T20:38:37.390Z"
   },
   {
    "duration": 105,
    "start_time": "2025-03-28T20:38:38.379Z"
   },
   {
    "duration": 33,
    "start_time": "2025-03-28T20:38:38.485Z"
   },
   {
    "duration": 5,
    "start_time": "2025-03-28T20:38:38.521Z"
   },
   {
    "duration": 33,
    "start_time": "2025-03-28T20:38:38.527Z"
   },
   {
    "duration": 115,
    "start_time": "2025-03-28T20:38:38.561Z"
   },
   {
    "duration": 3,
    "start_time": "2025-03-28T20:38:38.677Z"
   },
   {
    "duration": 450,
    "start_time": "2025-03-28T20:38:38.681Z"
   },
   {
    "duration": 38,
    "start_time": "2025-03-28T20:38:39.133Z"
   },
   {
    "duration": 2,
    "start_time": "2025-03-28T20:38:39.173Z"
   },
   {
    "duration": 11,
    "start_time": "2025-03-28T20:38:39.176Z"
   },
   {
    "duration": 18,
    "start_time": "2025-03-28T20:38:39.188Z"
   },
   {
    "duration": 200,
    "start_time": "2025-03-28T20:38:39.207Z"
   },
   {
    "duration": 19,
    "start_time": "2025-03-28T20:38:39.409Z"
   },
   {
    "duration": 24,
    "start_time": "2025-03-28T20:38:39.429Z"
   },
   {
    "duration": 5,
    "start_time": "2025-03-28T20:38:39.455Z"
   },
   {
    "duration": 10,
    "start_time": "2025-03-28T20:38:39.461Z"
   },
   {
    "duration": 209,
    "start_time": "2025-03-28T20:38:39.473Z"
   },
   {
    "duration": 28,
    "start_time": "2025-03-28T20:38:39.684Z"
   },
   {
    "duration": 8,
    "start_time": "2025-03-28T20:38:39.714Z"
   },
   {
    "duration": 25,
    "start_time": "2025-03-28T20:38:39.724Z"
   },
   {
    "duration": 5,
    "start_time": "2025-03-28T20:38:39.753Z"
   },
   {
    "duration": 17,
    "start_time": "2025-03-28T20:38:39.760Z"
   },
   {
    "duration": 3,
    "start_time": "2025-03-28T20:38:39.779Z"
   },
   {
    "duration": 23,
    "start_time": "2025-03-28T20:38:39.784Z"
   },
   {
    "duration": 19,
    "start_time": "2025-03-28T20:38:39.809Z"
   },
   {
    "duration": 12,
    "start_time": "2025-03-28T20:38:39.830Z"
   },
   {
    "duration": 6,
    "start_time": "2025-03-28T20:38:39.845Z"
   },
   {
    "duration": 114,
    "start_time": "2025-03-28T20:38:39.852Z"
   },
   {
    "duration": 2,
    "start_time": "2025-03-28T20:38:39.968Z"
   },
   {
    "duration": 162,
    "start_time": "2025-03-28T20:38:39.972Z"
   },
   {
    "duration": 92,
    "start_time": "2025-03-28T20:38:40.136Z"
   },
   {
    "duration": 2,
    "start_time": "2025-03-28T20:38:40.230Z"
   },
   {
    "duration": 38,
    "start_time": "2025-03-28T20:38:40.234Z"
   },
   {
    "duration": 20,
    "start_time": "2025-03-28T20:38:40.274Z"
   },
   {
    "duration": 16,
    "start_time": "2025-03-28T20:38:40.296Z"
   },
   {
    "duration": 2,
    "start_time": "2025-03-28T20:38:40.314Z"
   },
   {
    "duration": 8,
    "start_time": "2025-03-28T20:38:40.318Z"
   },
   {
    "duration": 22,
    "start_time": "2025-03-28T20:38:40.328Z"
   },
   {
    "duration": 25,
    "start_time": "2025-03-28T20:38:40.352Z"
   },
   {
    "duration": 74,
    "start_time": "2025-03-28T20:38:40.379Z"
   },
   {
    "duration": 80,
    "start_time": "2025-03-28T20:38:40.455Z"
   },
   {
    "duration": 3,
    "start_time": "2025-03-28T20:38:40.536Z"
   },
   {
    "duration": 41,
    "start_time": "2025-03-28T20:38:40.540Z"
   },
   {
    "duration": 46,
    "start_time": "2025-03-28T20:38:40.583Z"
   },
   {
    "duration": 3,
    "start_time": "2025-03-28T20:38:40.630Z"
   },
   {
    "duration": 13,
    "start_time": "2025-03-28T20:38:40.634Z"
   },
   {
    "duration": 12,
    "start_time": "2025-03-28T20:38:40.649Z"
   },
   {
    "duration": 3,
    "start_time": "2025-03-28T20:38:40.663Z"
   },
   {
    "duration": 51,
    "start_time": "2025-03-28T20:38:40.667Z"
   },
   {
    "duration": 37,
    "start_time": "2025-03-28T20:38:40.720Z"
   },
   {
    "duration": 2,
    "start_time": "2025-03-28T20:38:40.759Z"
   },
   {
    "duration": 121,
    "start_time": "2025-03-28T20:38:40.763Z"
   },
   {
    "duration": 67,
    "start_time": "2025-03-28T20:38:40.885Z"
   },
   {
    "duration": 11,
    "start_time": "2025-03-28T20:38:40.954Z"
   },
   {
    "duration": 12,
    "start_time": "2025-03-28T20:38:40.967Z"
   },
   {
    "duration": 24,
    "start_time": "2025-03-28T20:38:40.980Z"
   },
   {
    "duration": 185,
    "start_time": "2025-03-28T20:38:41.007Z"
   },
   {
    "duration": 110,
    "start_time": "2025-03-28T20:38:41.194Z"
   },
   {
    "duration": 37,
    "start_time": "2025-03-28T20:38:41.306Z"
   },
   {
    "duration": 68,
    "start_time": "2025-03-28T20:38:41.345Z"
   },
   {
    "duration": 2,
    "start_time": "2025-03-28T20:38:41.416Z"
   },
   {
    "duration": 43,
    "start_time": "2025-03-28T20:38:41.420Z"
   },
   {
    "duration": 3,
    "start_time": "2025-03-28T20:38:41.465Z"
   },
   {
    "duration": 49,
    "start_time": "2025-03-28T20:38:41.470Z"
   },
   {
    "duration": 14,
    "start_time": "2025-03-28T20:38:41.521Z"
   },
   {
    "duration": 18,
    "start_time": "2025-03-28T20:38:41.537Z"
   },
   {
    "duration": 14,
    "start_time": "2025-03-28T20:38:41.557Z"
   },
   {
    "duration": 9,
    "start_time": "2025-03-28T20:38:41.603Z"
   },
   {
    "duration": 3,
    "start_time": "2025-03-28T20:38:41.614Z"
   },
   {
    "duration": 29,
    "start_time": "2025-03-28T20:38:41.619Z"
   },
   {
    "duration": 67,
    "start_time": "2025-03-28T20:38:41.650Z"
   },
   {
    "duration": 16,
    "start_time": "2025-03-28T20:38:41.719Z"
   },
   {
    "duration": 3,
    "start_time": "2025-03-28T20:38:41.737Z"
   },
   {
    "duration": 73,
    "start_time": "2025-03-28T20:38:41.742Z"
   },
   {
    "duration": 106,
    "start_time": "2025-03-28T20:38:41.820Z"
   },
   {
    "duration": 40,
    "start_time": "2025-03-28T20:38:41.927Z"
   },
   {
    "duration": 73,
    "start_time": "2025-03-28T20:38:41.969Z"
   },
   {
    "duration": 46,
    "start_time": "2025-03-28T20:40:11.997Z"
   },
   {
    "duration": 3757,
    "start_time": "2025-03-28T20:40:19.638Z"
   },
   {
    "duration": 63,
    "start_time": "2025-03-28T20:40:23.396Z"
   },
   {
    "duration": 12,
    "start_time": "2025-03-28T20:40:23.460Z"
   },
   {
    "duration": 14,
    "start_time": "2025-03-28T20:40:23.474Z"
   },
   {
    "duration": 3,
    "start_time": "2025-03-28T20:40:23.490Z"
   },
   {
    "duration": 4,
    "start_time": "2025-03-28T20:40:23.494Z"
   },
   {
    "duration": 943,
    "start_time": "2025-03-28T20:40:23.499Z"
   },
   {
    "duration": 108,
    "start_time": "2025-03-28T20:40:24.444Z"
   },
   {
    "duration": 26,
    "start_time": "2025-03-28T20:40:24.554Z"
   },
   {
    "duration": 3,
    "start_time": "2025-03-28T20:40:24.581Z"
   },
   {
    "duration": 42,
    "start_time": "2025-03-28T20:40:24.603Z"
   },
   {
    "duration": 109,
    "start_time": "2025-03-28T20:40:24.646Z"
   },
   {
    "duration": 3,
    "start_time": "2025-03-28T20:40:24.756Z"
   },
   {
    "duration": 352,
    "start_time": "2025-03-28T20:40:24.761Z"
   },
   {
    "duration": 38,
    "start_time": "2025-03-28T20:40:25.114Z"
   },
   {
    "duration": 6,
    "start_time": "2025-03-28T20:40:25.154Z"
   },
   {
    "duration": 10,
    "start_time": "2025-03-28T20:40:25.161Z"
   },
   {
    "duration": 5,
    "start_time": "2025-03-28T20:40:25.173Z"
   },
   {
    "duration": 315,
    "start_time": "2025-03-28T20:40:25.180Z"
   },
   {
    "duration": 19,
    "start_time": "2025-03-28T20:40:25.497Z"
   },
   {
    "duration": 9,
    "start_time": "2025-03-28T20:40:25.518Z"
   },
   {
    "duration": 6,
    "start_time": "2025-03-28T20:40:25.528Z"
   },
   {
    "duration": 4,
    "start_time": "2025-03-28T20:40:25.535Z"
   },
   {
    "duration": 234,
    "start_time": "2025-03-28T20:40:25.540Z"
   },
   {
    "duration": 29,
    "start_time": "2025-03-28T20:40:25.776Z"
   },
   {
    "duration": 7,
    "start_time": "2025-03-28T20:40:25.807Z"
   },
   {
    "duration": 2,
    "start_time": "2025-03-28T20:40:25.816Z"
   },
   {
    "duration": 3,
    "start_time": "2025-03-28T20:40:25.820Z"
   },
   {
    "duration": 15,
    "start_time": "2025-03-28T20:40:25.825Z"
   },
   {
    "duration": 2,
    "start_time": "2025-03-28T20:40:25.841Z"
   },
   {
    "duration": 9,
    "start_time": "2025-03-28T20:40:25.845Z"
   },
   {
    "duration": 49,
    "start_time": "2025-03-28T20:40:25.855Z"
   },
   {
    "duration": 33,
    "start_time": "2025-03-28T20:40:25.906Z"
   },
   {
    "duration": 3,
    "start_time": "2025-03-28T20:40:25.941Z"
   },
   {
    "duration": 101,
    "start_time": "2025-03-28T20:40:25.945Z"
   },
   {
    "duration": 2,
    "start_time": "2025-03-28T20:40:26.048Z"
   },
   {
    "duration": 175,
    "start_time": "2025-03-28T20:40:26.051Z"
   },
   {
    "duration": 81,
    "start_time": "2025-03-28T20:40:26.228Z"
   },
   {
    "duration": 2,
    "start_time": "2025-03-28T20:40:26.310Z"
   },
   {
    "duration": 29,
    "start_time": "2025-03-28T20:40:26.314Z"
   },
   {
    "duration": 30,
    "start_time": "2025-03-28T20:40:26.347Z"
   },
   {
    "duration": 40,
    "start_time": "2025-03-28T20:40:26.379Z"
   },
   {
    "duration": 14,
    "start_time": "2025-03-28T20:40:26.421Z"
   },
   {
    "duration": 17,
    "start_time": "2025-03-28T20:40:26.437Z"
   },
   {
    "duration": 7,
    "start_time": "2025-03-28T20:40:26.456Z"
   },
   {
    "duration": 2,
    "start_time": "2025-03-28T20:40:26.465Z"
   },
   {
    "duration": 79,
    "start_time": "2025-03-28T20:40:26.468Z"
   },
   {
    "duration": 94,
    "start_time": "2025-03-28T20:40:26.549Z"
   },
   {
    "duration": 2,
    "start_time": "2025-03-28T20:40:26.645Z"
   },
   {
    "duration": 47,
    "start_time": "2025-03-28T20:40:26.648Z"
   },
   {
    "duration": 41,
    "start_time": "2025-03-28T20:40:26.696Z"
   },
   {
    "duration": 17,
    "start_time": "2025-03-28T20:40:26.738Z"
   },
   {
    "duration": 13,
    "start_time": "2025-03-28T20:40:26.756Z"
   },
   {
    "duration": 12,
    "start_time": "2025-03-28T20:40:26.770Z"
   },
   {
    "duration": 2,
    "start_time": "2025-03-28T20:40:26.784Z"
   },
   {
    "duration": 21,
    "start_time": "2025-03-28T20:40:26.804Z"
   },
   {
    "duration": 26,
    "start_time": "2025-03-28T20:40:26.826Z"
   },
   {
    "duration": 13,
    "start_time": "2025-03-28T20:40:26.854Z"
   },
   {
    "duration": 111,
    "start_time": "2025-03-28T20:40:26.868Z"
   },
   {
    "duration": 65,
    "start_time": "2025-03-28T20:40:26.980Z"
   },
   {
    "duration": 12,
    "start_time": "2025-03-28T20:40:27.046Z"
   },
   {
    "duration": 14,
    "start_time": "2025-03-28T20:40:27.060Z"
   },
   {
    "duration": 7,
    "start_time": "2025-03-28T20:40:27.075Z"
   },
   {
    "duration": 191,
    "start_time": "2025-03-28T20:40:27.084Z"
   },
   {
    "duration": 127,
    "start_time": "2025-03-28T20:40:27.276Z"
   },
   {
    "duration": 41,
    "start_time": "2025-03-28T20:40:27.404Z"
   },
   {
    "duration": 63,
    "start_time": "2025-03-28T20:40:27.446Z"
   },
   {
    "duration": 2,
    "start_time": "2025-03-28T20:40:27.511Z"
   },
   {
    "duration": 83,
    "start_time": "2025-03-28T20:40:27.514Z"
   },
   {
    "duration": 2,
    "start_time": "2025-03-28T20:40:27.599Z"
   },
   {
    "duration": 21,
    "start_time": "2025-03-28T20:40:27.602Z"
   },
   {
    "duration": 13,
    "start_time": "2025-03-28T20:40:27.624Z"
   },
   {
    "duration": 30,
    "start_time": "2025-03-28T20:40:27.638Z"
   },
   {
    "duration": 14,
    "start_time": "2025-03-28T20:40:27.670Z"
   },
   {
    "duration": 21,
    "start_time": "2025-03-28T20:40:27.685Z"
   },
   {
    "duration": 25,
    "start_time": "2025-03-28T20:40:27.708Z"
   },
   {
    "duration": 48,
    "start_time": "2025-03-28T20:40:27.735Z"
   },
   {
    "duration": 41,
    "start_time": "2025-03-28T20:40:27.785Z"
   },
   {
    "duration": 15,
    "start_time": "2025-03-28T20:40:27.828Z"
   },
   {
    "duration": 3,
    "start_time": "2025-03-28T20:40:27.844Z"
   },
   {
    "duration": 68,
    "start_time": "2025-03-28T20:40:27.849Z"
   },
   {
    "duration": 108,
    "start_time": "2025-03-28T20:40:27.919Z"
   },
   {
    "duration": 43,
    "start_time": "2025-03-28T20:40:28.029Z"
   },
   {
    "duration": 87,
    "start_time": "2025-03-28T20:40:28.073Z"
   },
   {
    "duration": 55,
    "start_time": "2025-03-28T20:50:39.894Z"
   },
   {
    "duration": 3767,
    "start_time": "2025-03-28T20:50:53.750Z"
   },
   {
    "duration": 105,
    "start_time": "2025-03-28T20:50:57.519Z"
   },
   {
    "duration": 13,
    "start_time": "2025-03-28T20:50:57.626Z"
   },
   {
    "duration": 18,
    "start_time": "2025-03-28T20:50:57.641Z"
   },
   {
    "duration": 15,
    "start_time": "2025-03-28T20:50:57.662Z"
   },
   {
    "duration": 10,
    "start_time": "2025-03-28T20:50:57.679Z"
   },
   {
    "duration": 987,
    "start_time": "2025-03-28T20:50:57.691Z"
   },
   {
    "duration": 106,
    "start_time": "2025-03-28T20:50:58.680Z"
   },
   {
    "duration": 27,
    "start_time": "2025-03-28T20:50:58.788Z"
   },
   {
    "duration": 24,
    "start_time": "2025-03-28T20:50:58.817Z"
   },
   {
    "duration": 61,
    "start_time": "2025-03-28T20:50:58.843Z"
   },
   {
    "duration": 97,
    "start_time": "2025-03-28T20:50:58.906Z"
   },
   {
    "duration": 3,
    "start_time": "2025-03-28T20:50:59.005Z"
   },
   {
    "duration": 336,
    "start_time": "2025-03-28T20:50:59.010Z"
   },
   {
    "duration": 39,
    "start_time": "2025-03-28T20:50:59.348Z"
   },
   {
    "duration": 3,
    "start_time": "2025-03-28T20:50:59.388Z"
   },
   {
    "duration": 14,
    "start_time": "2025-03-28T20:50:59.404Z"
   },
   {
    "duration": 24,
    "start_time": "2025-03-28T20:50:59.420Z"
   },
   {
    "duration": 202,
    "start_time": "2025-03-28T20:50:59.445Z"
   },
   {
    "duration": 20,
    "start_time": "2025-03-28T20:50:59.648Z"
   },
   {
    "duration": 16,
    "start_time": "2025-03-28T20:50:59.670Z"
   },
   {
    "duration": 44,
    "start_time": "2025-03-28T20:50:59.688Z"
   },
   {
    "duration": 23,
    "start_time": "2025-03-28T20:50:59.734Z"
   },
   {
    "duration": 246,
    "start_time": "2025-03-28T20:50:59.759Z"
   },
   {
    "duration": 23,
    "start_time": "2025-03-28T20:51:00.007Z"
   },
   {
    "duration": 53,
    "start_time": "2025-03-28T20:51:00.032Z"
   },
   {
    "duration": 58,
    "start_time": "2025-03-28T20:51:00.086Z"
   },
   {
    "duration": 59,
    "start_time": "2025-03-28T20:51:00.146Z"
   },
   {
    "duration": 93,
    "start_time": "2025-03-28T20:51:00.206Z"
   },
   {
    "duration": 54,
    "start_time": "2025-03-28T20:51:00.301Z"
   },
   {
    "duration": 39,
    "start_time": "2025-03-28T20:51:00.357Z"
   },
   {
    "duration": 43,
    "start_time": "2025-03-28T20:51:00.398Z"
   },
   {
    "duration": 40,
    "start_time": "2025-03-28T20:51:00.442Z"
   },
   {
    "duration": 27,
    "start_time": "2025-03-28T20:51:00.484Z"
   },
   {
    "duration": 135,
    "start_time": "2025-03-28T20:51:00.513Z"
   },
   {
    "duration": 3,
    "start_time": "2025-03-28T20:51:00.650Z"
   },
   {
    "duration": 199,
    "start_time": "2025-03-28T20:51:00.654Z"
   },
   {
    "duration": 81,
    "start_time": "2025-03-28T20:51:00.855Z"
   },
   {
    "duration": 3,
    "start_time": "2025-03-28T20:51:00.937Z"
   },
   {
    "duration": 62,
    "start_time": "2025-03-28T20:51:00.941Z"
   },
   {
    "duration": 28,
    "start_time": "2025-03-28T20:51:01.008Z"
   },
   {
    "duration": 20,
    "start_time": "2025-03-28T20:51:01.037Z"
   },
   {
    "duration": 12,
    "start_time": "2025-03-28T20:51:01.058Z"
   },
   {
    "duration": 8,
    "start_time": "2025-03-28T20:51:01.071Z"
   },
   {
    "duration": 40,
    "start_time": "2025-03-28T20:51:01.080Z"
   },
   {
    "duration": 5,
    "start_time": "2025-03-28T20:51:01.122Z"
   },
   {
    "duration": 80,
    "start_time": "2025-03-28T20:51:01.129Z"
   },
   {
    "duration": 72,
    "start_time": "2025-03-28T20:51:01.211Z"
   },
   {
    "duration": 2,
    "start_time": "2025-03-28T20:51:01.285Z"
   },
   {
    "duration": 37,
    "start_time": "2025-03-28T20:51:01.304Z"
   },
   {
    "duration": 32,
    "start_time": "2025-03-28T20:51:01.342Z"
   },
   {
    "duration": 2,
    "start_time": "2025-03-28T20:51:01.376Z"
   },
   {
    "duration": 28,
    "start_time": "2025-03-28T20:51:01.379Z"
   },
   {
    "duration": 20,
    "start_time": "2025-03-28T20:51:01.409Z"
   },
   {
    "duration": 2,
    "start_time": "2025-03-28T20:51:01.431Z"
   },
   {
    "duration": 38,
    "start_time": "2025-03-28T20:51:01.434Z"
   },
   {
    "duration": 20,
    "start_time": "2025-03-28T20:51:01.474Z"
   },
   {
    "duration": 44,
    "start_time": "2025-03-28T20:51:01.496Z"
   },
   {
    "duration": 107,
    "start_time": "2025-03-28T20:51:01.542Z"
   },
   {
    "duration": 73,
    "start_time": "2025-03-28T20:51:01.650Z"
   },
   {
    "duration": 12,
    "start_time": "2025-03-28T20:51:01.724Z"
   },
   {
    "duration": 41,
    "start_time": "2025-03-28T20:51:01.738Z"
   },
   {
    "duration": 69,
    "start_time": "2025-03-28T20:51:01.781Z"
   },
   {
    "duration": 215,
    "start_time": "2025-03-28T20:51:01.852Z"
   },
   {
    "duration": 121,
    "start_time": "2025-03-28T20:51:02.069Z"
   },
   {
    "duration": 50,
    "start_time": "2025-03-28T20:51:02.192Z"
   },
   {
    "duration": 62,
    "start_time": "2025-03-28T20:51:02.244Z"
   },
   {
    "duration": 2,
    "start_time": "2025-03-28T20:51:02.308Z"
   },
   {
    "duration": 58,
    "start_time": "2025-03-28T20:51:02.312Z"
   },
   {
    "duration": 3,
    "start_time": "2025-03-28T20:51:02.372Z"
   },
   {
    "duration": 41,
    "start_time": "2025-03-28T20:51:02.376Z"
   },
   {
    "duration": 20,
    "start_time": "2025-03-28T20:51:02.419Z"
   },
   {
    "duration": 18,
    "start_time": "2025-03-28T20:51:02.440Z"
   },
   {
    "duration": 14,
    "start_time": "2025-03-28T20:51:02.460Z"
   },
   {
    "duration": 28,
    "start_time": "2025-03-28T20:51:02.476Z"
   },
   {
    "duration": 23,
    "start_time": "2025-03-28T20:51:02.506Z"
   },
   {
    "duration": 29,
    "start_time": "2025-03-28T20:51:02.530Z"
   },
   {
    "duration": 59,
    "start_time": "2025-03-28T20:51:02.561Z"
   },
   {
    "duration": 15,
    "start_time": "2025-03-28T20:51:02.622Z"
   },
   {
    "duration": 3,
    "start_time": "2025-03-28T20:51:02.638Z"
   },
   {
    "duration": 73,
    "start_time": "2025-03-28T20:51:02.642Z"
   },
   {
    "duration": 107,
    "start_time": "2025-03-28T20:51:02.717Z"
   },
   {
    "duration": 38,
    "start_time": "2025-03-28T20:51:02.825Z"
   },
   {
    "duration": 79,
    "start_time": "2025-03-28T20:51:02.865Z"
   },
   {
    "duration": 4878,
    "start_time": "2025-03-31T07:13:49.910Z"
   },
   {
    "duration": 48,
    "start_time": "2025-03-31T07:13:54.790Z"
   },
   {
    "duration": 12,
    "start_time": "2025-03-31T07:13:54.840Z"
   },
   {
    "duration": 122,
    "start_time": "2025-03-31T07:13:54.853Z"
   },
   {
    "duration": 95,
    "start_time": "2025-03-31T07:13:54.977Z"
   },
   {
    "duration": 6,
    "start_time": "2025-03-31T07:13:55.074Z"
   },
   {
    "duration": 1043,
    "start_time": "2025-03-31T07:13:55.081Z"
   },
   {
    "duration": 103,
    "start_time": "2025-03-31T07:13:56.126Z"
   },
   {
    "duration": 26,
    "start_time": "2025-03-31T07:13:56.231Z"
   },
   {
    "duration": 2,
    "start_time": "2025-03-31T07:13:56.277Z"
   },
   {
    "duration": 45,
    "start_time": "2025-03-31T07:13:56.281Z"
   },
   {
    "duration": 110,
    "start_time": "2025-03-31T07:13:56.327Z"
   },
   {
    "duration": 2,
    "start_time": "2025-03-31T07:13:56.439Z"
   },
   {
    "duration": 327,
    "start_time": "2025-03-31T07:13:56.688Z"
   },
   {
    "duration": 41,
    "start_time": "2025-03-31T07:13:57.017Z"
   },
   {
    "duration": 123,
    "start_time": "2025-03-31T07:13:57.149Z"
   },
   {
    "duration": 11,
    "start_time": "2025-03-31T07:13:57.348Z"
   },
   {
    "duration": 3,
    "start_time": "2025-03-31T07:13:57.595Z"
   },
   {
    "duration": 162,
    "start_time": "2025-03-31T07:13:58.025Z"
   },
   {
    "duration": 32,
    "start_time": "2025-03-31T07:13:58.488Z"
   },
   {
    "duration": 9,
    "start_time": "2025-03-31T07:13:58.967Z"
   },
   {
    "duration": 2,
    "start_time": "2025-03-31T07:13:59.501Z"
   },
   {
    "duration": 3,
    "start_time": "2025-03-31T07:13:59.872Z"
   },
   {
    "duration": 218,
    "start_time": "2025-03-31T07:14:00.291Z"
   },
   {
    "duration": 30,
    "start_time": "2025-03-31T07:14:00.719Z"
   },
   {
    "duration": 9,
    "start_time": "2025-03-31T07:14:01.071Z"
   },
   {
    "duration": 2,
    "start_time": "2025-03-31T07:14:01.485Z"
   },
   {
    "duration": 3,
    "start_time": "2025-03-31T07:14:07.571Z"
   },
   {
    "duration": 13,
    "start_time": "2025-03-31T07:14:07.870Z"
   },
   {
    "duration": 2,
    "start_time": "2025-03-31T07:14:08.321Z"
   },
   {
    "duration": 9,
    "start_time": "2025-03-31T07:14:08.571Z"
   },
   {
    "duration": 11,
    "start_time": "2025-03-31T07:14:08.785Z"
   },
   {
    "duration": 10,
    "start_time": "2025-03-31T07:14:09.004Z"
   },
   {
    "duration": 2,
    "start_time": "2025-03-31T07:14:09.187Z"
   },
   {
    "duration": 122,
    "start_time": "2025-03-31T07:14:09.371Z"
   },
   {
    "duration": 3,
    "start_time": "2025-03-31T07:14:09.588Z"
   },
   {
    "duration": 152,
    "start_time": "2025-03-31T07:14:09.818Z"
   },
   {
    "duration": 80,
    "start_time": "2025-03-31T07:14:10.037Z"
   },
   {
    "duration": 2,
    "start_time": "2025-03-31T07:14:10.259Z"
   },
   {
    "duration": 21,
    "start_time": "2025-03-31T07:14:10.470Z"
   },
   {
    "duration": 21,
    "start_time": "2025-03-31T07:14:10.686Z"
   },
   {
    "duration": 16,
    "start_time": "2025-03-31T07:14:10.916Z"
   },
   {
    "duration": 2,
    "start_time": "2025-03-31T07:14:11.349Z"
   },
   {
    "duration": 6,
    "start_time": "2025-03-31T07:14:11.605Z"
   },
   {
    "duration": 8,
    "start_time": "2025-03-31T07:14:11.956Z"
   },
   {
    "duration": 3,
    "start_time": "2025-03-31T07:14:13.051Z"
   },
   {
    "duration": 70,
    "start_time": "2025-03-31T07:14:13.349Z"
   },
   {
    "duration": 75,
    "start_time": "2025-03-31T07:14:13.619Z"
   },
   {
    "duration": 3,
    "start_time": "2025-03-31T07:14:13.982Z"
   },
   {
    "duration": 41,
    "start_time": "2025-03-31T07:14:14.404Z"
   },
   {
    "duration": 37,
    "start_time": "2025-03-31T07:14:14.771Z"
   },
   {
    "duration": 2,
    "start_time": "2025-03-31T07:14:15.169Z"
   },
   {
    "duration": 11,
    "start_time": "2025-03-31T07:14:15.547Z"
   },
   {
    "duration": 14,
    "start_time": "2025-03-31T07:14:15.813Z"
   },
   {
    "duration": 2,
    "start_time": "2025-03-31T07:14:16.053Z"
   },
   {
    "duration": 22,
    "start_time": "2025-03-31T07:14:16.285Z"
   },
   {
    "duration": 21,
    "start_time": "2025-03-31T07:14:16.611Z"
   },
   {
    "duration": 2,
    "start_time": "2025-03-31T07:14:16.927Z"
   },
   {
    "duration": 111,
    "start_time": "2025-03-31T07:14:18.977Z"
   },
   {
    "duration": 61,
    "start_time": "2025-03-31T07:14:19.500Z"
   },
   {
    "duration": 11,
    "start_time": "2025-03-31T07:14:19.643Z"
   },
   {
    "duration": 11,
    "start_time": "2025-03-31T07:14:19.869Z"
   },
   {
    "duration": 3,
    "start_time": "2025-03-31T07:14:20.069Z"
   },
   {
    "duration": 185,
    "start_time": "2025-03-31T07:14:20.407Z"
   },
   {
    "duration": 103,
    "start_time": "2025-03-31T07:14:22.504Z"
   },
   {
    "duration": 37,
    "start_time": "2025-03-31T07:14:22.865Z"
   },
   {
    "duration": 48,
    "start_time": "2025-03-31T07:14:23.244Z"
   },
   {
    "duration": 3,
    "start_time": "2025-03-31T07:14:23.457Z"
   },
   {
    "duration": 43,
    "start_time": "2025-03-31T07:14:24.353Z"
   },
   {
    "duration": 2,
    "start_time": "2025-03-31T07:14:24.844Z"
   },
   {
    "duration": 19,
    "start_time": "2025-03-31T07:14:25.486Z"
   },
   {
    "duration": 18,
    "start_time": "2025-03-31T07:14:25.861Z"
   },
   {
    "duration": 19,
    "start_time": "2025-03-31T07:14:26.505Z"
   },
   {
    "duration": 14,
    "start_time": "2025-03-31T07:14:27.833Z"
   },
   {
    "duration": 8,
    "start_time": "2025-03-31T07:14:29.721Z"
   },
   {
    "duration": 3,
    "start_time": "2025-03-31T07:14:30.223Z"
   },
   {
    "duration": 29,
    "start_time": "2025-03-31T07:14:30.743Z"
   },
   {
    "duration": 43,
    "start_time": "2025-03-31T07:14:31.243Z"
   },
   {
    "duration": 16,
    "start_time": "2025-03-31T07:14:31.769Z"
   },
   {
    "duration": 3,
    "start_time": "2025-03-31T07:14:34.783Z"
   },
   {
    "duration": 151,
    "start_time": "2025-03-31T07:17:10.308Z"
   },
   {
    "duration": 47,
    "start_time": "2025-03-31T07:17:27.459Z"
   },
   {
    "duration": 66,
    "start_time": "2025-03-31T07:20:14.811Z"
   },
   {
    "duration": 65,
    "start_time": "2025-03-31T07:20:38.984Z"
   },
   {
    "duration": 49,
    "start_time": "2025-03-31T07:20:59.981Z"
   },
   {
    "duration": 51,
    "start_time": "2025-03-31T07:21:12.773Z"
   },
   {
    "duration": 46,
    "start_time": "2025-03-31T07:21:23.363Z"
   },
   {
    "duration": 44,
    "start_time": "2025-03-31T07:21:24.913Z"
   },
   {
    "duration": 46,
    "start_time": "2025-03-31T07:22:11.597Z"
   },
   {
    "duration": 44,
    "start_time": "2025-03-31T07:22:28.357Z"
   },
   {
    "duration": 2,
    "start_time": "2025-03-31T07:33:59.726Z"
   },
   {
    "duration": 101,
    "start_time": "2025-03-31T07:34:00.313Z"
   },
   {
    "duration": 20,
    "start_time": "2025-03-31T07:34:39.445Z"
   },
   {
    "duration": 310,
    "start_time": "2025-03-31T07:35:46.192Z"
   },
   {
    "duration": 341,
    "start_time": "2025-03-31T07:36:07.055Z"
   },
   {
    "duration": 8,
    "start_time": "2025-03-31T07:37:17.818Z"
   },
   {
    "duration": 8,
    "start_time": "2025-03-31T07:37:22.183Z"
   },
   {
    "duration": 105,
    "start_time": "2025-03-31T07:37:22.653Z"
   },
   {
    "duration": 4577,
    "start_time": "2025-03-31T07:37:47.436Z"
   },
   {
    "duration": 51,
    "start_time": "2025-03-31T08:06:31.561Z"
   },
   {
    "duration": 3718,
    "start_time": "2025-03-31T08:06:40.084Z"
   },
   {
    "duration": 49,
    "start_time": "2025-03-31T08:06:43.804Z"
   },
   {
    "duration": 12,
    "start_time": "2025-03-31T08:06:43.854Z"
   },
   {
    "duration": 14,
    "start_time": "2025-03-31T08:06:43.867Z"
   },
   {
    "duration": 3,
    "start_time": "2025-03-31T08:06:43.882Z"
   },
   {
    "duration": 11,
    "start_time": "2025-03-31T08:06:43.886Z"
   },
   {
    "duration": 1078,
    "start_time": "2025-03-31T08:06:43.898Z"
   },
   {
    "duration": 105,
    "start_time": "2025-03-31T08:06:44.978Z"
   },
   {
    "duration": 24,
    "start_time": "2025-03-31T08:06:45.085Z"
   },
   {
    "duration": 65,
    "start_time": "2025-03-31T08:06:45.113Z"
   },
   {
    "duration": 76,
    "start_time": "2025-03-31T08:06:45.180Z"
   },
   {
    "duration": 132,
    "start_time": "2025-03-31T08:06:45.257Z"
   },
   {
    "duration": 2,
    "start_time": "2025-03-31T08:06:45.391Z"
   },
   {
    "duration": 545,
    "start_time": "2025-03-31T08:06:45.394Z"
   },
   {
    "duration": 46,
    "start_time": "2025-03-31T08:06:45.940Z"
   },
   {
    "duration": 5,
    "start_time": "2025-03-31T08:06:45.988Z"
   },
   {
    "duration": 18,
    "start_time": "2025-03-31T08:06:45.995Z"
   },
   {
    "duration": 18,
    "start_time": "2025-03-31T08:06:46.015Z"
   },
   {
    "duration": 626,
    "start_time": "2025-03-31T08:06:46.035Z"
   },
   {
    "duration": 28,
    "start_time": "2025-03-31T08:06:46.664Z"
   },
   {
    "duration": 34,
    "start_time": "2025-03-31T08:06:46.694Z"
   },
   {
    "duration": 44,
    "start_time": "2025-03-31T08:06:46.731Z"
   },
   {
    "duration": 45,
    "start_time": "2025-03-31T08:06:46.776Z"
   },
   {
    "duration": 1072,
    "start_time": "2025-03-31T08:06:46.822Z"
   },
   {
    "duration": 26,
    "start_time": "2025-03-31T08:06:47.896Z"
   },
   {
    "duration": 14,
    "start_time": "2025-03-31T08:06:47.924Z"
   },
   {
    "duration": 9,
    "start_time": "2025-03-31T08:06:47.940Z"
   },
   {
    "duration": 3,
    "start_time": "2025-03-31T08:06:47.953Z"
   },
   {
    "duration": 28,
    "start_time": "2025-03-31T08:06:47.957Z"
   },
   {
    "duration": 19,
    "start_time": "2025-03-31T08:06:47.987Z"
   },
   {
    "duration": 15,
    "start_time": "2025-03-31T08:06:48.007Z"
   },
   {
    "duration": 11,
    "start_time": "2025-03-31T08:06:48.024Z"
   },
   {
    "duration": 27,
    "start_time": "2025-03-31T08:06:48.036Z"
   },
   {
    "duration": 37,
    "start_time": "2025-03-31T08:06:48.064Z"
   },
   {
    "duration": 128,
    "start_time": "2025-03-31T08:06:48.103Z"
   },
   {
    "duration": 3,
    "start_time": "2025-03-31T08:06:48.233Z"
   },
   {
    "duration": 178,
    "start_time": "2025-03-31T08:06:48.237Z"
   },
   {
    "duration": 116,
    "start_time": "2025-03-31T08:06:48.417Z"
   },
   {
    "duration": 3,
    "start_time": "2025-03-31T08:06:48.535Z"
   },
   {
    "duration": 45,
    "start_time": "2025-03-31T08:06:48.539Z"
   },
   {
    "duration": 79,
    "start_time": "2025-03-31T08:06:48.585Z"
   },
   {
    "duration": 57,
    "start_time": "2025-03-31T08:06:48.665Z"
   },
   {
    "duration": 3,
    "start_time": "2025-03-31T08:06:48.724Z"
   },
   {
    "duration": 8,
    "start_time": "2025-03-31T08:06:48.730Z"
   },
   {
    "duration": 10,
    "start_time": "2025-03-31T08:06:48.740Z"
   },
   {
    "duration": 3,
    "start_time": "2025-03-31T08:06:48.752Z"
   },
   {
    "duration": 88,
    "start_time": "2025-03-31T08:06:48.756Z"
   },
   {
    "duration": 99,
    "start_time": "2025-03-31T08:06:48.846Z"
   },
   {
    "duration": 2,
    "start_time": "2025-03-31T08:06:48.947Z"
   },
   {
    "duration": 124,
    "start_time": "2025-03-31T08:06:48.951Z"
   },
   {
    "duration": 116,
    "start_time": "2025-03-31T08:06:49.076Z"
   },
   {
    "duration": 8,
    "start_time": "2025-03-31T08:06:49.194Z"
   },
   {
    "duration": 14,
    "start_time": "2025-03-31T08:06:49.204Z"
   },
   {
    "duration": 13,
    "start_time": "2025-03-31T08:06:49.220Z"
   },
   {
    "duration": 6,
    "start_time": "2025-03-31T08:06:49.234Z"
   },
   {
    "duration": 23,
    "start_time": "2025-03-31T08:06:49.241Z"
   },
   {
    "duration": 32,
    "start_time": "2025-03-31T08:06:49.266Z"
   },
   {
    "duration": 11,
    "start_time": "2025-03-31T08:06:49.301Z"
   },
   {
    "duration": 123,
    "start_time": "2025-03-31T08:06:49.313Z"
   },
   {
    "duration": 70,
    "start_time": "2025-03-31T08:06:49.438Z"
   },
   {
    "duration": 11,
    "start_time": "2025-03-31T08:06:49.510Z"
   },
   {
    "duration": 16,
    "start_time": "2025-03-31T08:06:49.524Z"
   },
   {
    "duration": 5,
    "start_time": "2025-03-31T08:06:49.542Z"
   },
   {
    "duration": 208,
    "start_time": "2025-03-31T08:06:49.548Z"
   },
   {
    "duration": 134,
    "start_time": "2025-03-31T08:06:49.759Z"
   },
   {
    "duration": 38,
    "start_time": "2025-03-31T08:06:49.895Z"
   },
   {
    "duration": 69,
    "start_time": "2025-03-31T08:06:49.934Z"
   },
   {
    "duration": 2,
    "start_time": "2025-03-31T08:06:50.005Z"
   },
   {
    "duration": 95,
    "start_time": "2025-03-31T08:06:50.009Z"
   },
   {
    "duration": 3,
    "start_time": "2025-03-31T08:06:50.106Z"
   },
   {
    "duration": 35,
    "start_time": "2025-03-31T08:06:50.110Z"
   },
   {
    "duration": 14,
    "start_time": "2025-03-31T08:06:50.147Z"
   },
   {
    "duration": 37,
    "start_time": "2025-03-31T08:06:50.162Z"
   },
   {
    "duration": 16,
    "start_time": "2025-03-31T08:06:50.201Z"
   },
   {
    "duration": 8,
    "start_time": "2025-03-31T08:06:50.219Z"
   },
   {
    "duration": 10,
    "start_time": "2025-03-31T08:06:50.228Z"
   },
   {
    "duration": 47,
    "start_time": "2025-03-31T08:06:50.240Z"
   },
   {
    "duration": 44,
    "start_time": "2025-03-31T08:06:50.289Z"
   },
   {
    "duration": 163,
    "start_time": "2025-03-31T08:06:50.334Z"
   },
   {
    "duration": 52,
    "start_time": "2025-03-31T08:06:50.498Z"
   },
   {
    "duration": 67,
    "start_time": "2025-03-31T08:06:50.552Z"
   },
   {
    "duration": 106,
    "start_time": "2025-03-31T08:06:50.625Z"
   },
   {
    "duration": 61,
    "start_time": "2025-03-31T08:06:50.733Z"
   },
   {
    "duration": 70,
    "start_time": "2025-03-31T08:06:50.796Z"
   },
   {
    "duration": 39,
    "start_time": "2025-03-31T08:06:50.867Z"
   },
   {
    "duration": 214,
    "start_time": "2025-03-31T08:06:50.907Z"
   },
   {
    "duration": 15,
    "start_time": "2025-03-31T08:06:51.123Z"
   },
   {
    "duration": 414,
    "start_time": "2025-03-31T08:06:51.139Z"
   },
   {
    "duration": 8,
    "start_time": "2025-03-31T08:06:51.554Z"
   },
   {
    "duration": 110,
    "start_time": "2025-03-31T08:06:51.575Z"
   },
   {
    "duration": 4414,
    "start_time": "2025-03-31T08:06:51.687Z"
   },
   {
    "duration": 49,
    "start_time": "2025-03-31T08:08:41.673Z"
   },
   {
    "duration": 3627,
    "start_time": "2025-03-31T08:09:01.583Z"
   },
   {
    "duration": 45,
    "start_time": "2025-03-31T08:09:05.212Z"
   },
   {
    "duration": 12,
    "start_time": "2025-03-31T08:09:05.258Z"
   },
   {
    "duration": 32,
    "start_time": "2025-03-31T08:09:05.272Z"
   },
   {
    "duration": 63,
    "start_time": "2025-03-31T08:09:05.306Z"
   },
   {
    "duration": 6,
    "start_time": "2025-03-31T08:09:05.371Z"
   },
   {
    "duration": 937,
    "start_time": "2025-03-31T08:09:05.379Z"
   },
   {
    "duration": 103,
    "start_time": "2025-03-31T08:09:06.318Z"
   },
   {
    "duration": 49,
    "start_time": "2025-03-31T08:09:06.422Z"
   },
   {
    "duration": 51,
    "start_time": "2025-03-31T08:09:06.474Z"
   },
   {
    "duration": 79,
    "start_time": "2025-03-31T08:09:06.526Z"
   },
   {
    "duration": 103,
    "start_time": "2025-03-31T08:09:06.607Z"
   },
   {
    "duration": 2,
    "start_time": "2025-03-31T08:09:06.712Z"
   },
   {
    "duration": 371,
    "start_time": "2025-03-31T08:09:06.716Z"
   },
   {
    "duration": 40,
    "start_time": "2025-03-31T08:09:07.089Z"
   },
   {
    "duration": 96,
    "start_time": "2025-03-31T08:09:07.131Z"
   },
   {
    "duration": 38,
    "start_time": "2025-03-31T08:09:07.229Z"
   },
   {
    "duration": 211,
    "start_time": "2025-03-31T08:09:07.268Z"
   },
   {
    "duration": 209,
    "start_time": "2025-03-31T08:09:07.481Z"
   },
   {
    "duration": 18,
    "start_time": "2025-03-31T08:09:07.692Z"
   },
   {
    "duration": 15,
    "start_time": "2025-03-31T08:09:07.712Z"
   },
   {
    "duration": 25,
    "start_time": "2025-03-31T08:09:07.729Z"
   },
   {
    "duration": 31,
    "start_time": "2025-03-31T08:09:07.756Z"
   },
   {
    "duration": 328,
    "start_time": "2025-03-31T08:09:07.790Z"
   },
   {
    "duration": 25,
    "start_time": "2025-03-31T08:09:08.120Z"
   },
   {
    "duration": 48,
    "start_time": "2025-03-31T08:09:08.146Z"
   },
   {
    "duration": 22,
    "start_time": "2025-03-31T08:09:08.195Z"
   },
   {
    "duration": 17,
    "start_time": "2025-03-31T08:09:08.219Z"
   },
   {
    "duration": 10,
    "start_time": "2025-03-31T08:09:08.418Z"
   },
   {
    "duration": 2,
    "start_time": "2025-03-31T08:09:08.821Z"
   },
   {
    "duration": 8,
    "start_time": "2025-03-31T08:09:09.053Z"
   },
   {
    "duration": 12,
    "start_time": "2025-03-31T08:09:09.248Z"
   },
   {
    "duration": 8,
    "start_time": "2025-03-31T08:09:09.440Z"
   },
   {
    "duration": 3,
    "start_time": "2025-03-31T08:09:09.621Z"
   },
   {
    "duration": 95,
    "start_time": "2025-03-31T08:09:09.817Z"
   },
   {
    "duration": 2,
    "start_time": "2025-03-31T08:09:10.020Z"
   },
   {
    "duration": 142,
    "start_time": "2025-03-31T08:09:10.241Z"
   },
   {
    "duration": 76,
    "start_time": "2025-03-31T08:09:10.473Z"
   },
   {
    "duration": 2,
    "start_time": "2025-03-31T08:09:10.633Z"
   },
   {
    "duration": 20,
    "start_time": "2025-03-31T08:09:10.826Z"
   },
   {
    "duration": 20,
    "start_time": "2025-03-31T08:09:10.970Z"
   },
   {
    "duration": 15,
    "start_time": "2025-03-31T08:09:11.157Z"
   },
   {
    "duration": 2,
    "start_time": "2025-03-31T08:09:11.538Z"
   },
   {
    "duration": 6,
    "start_time": "2025-03-31T08:09:11.756Z"
   },
   {
    "duration": 7,
    "start_time": "2025-03-31T08:09:11.908Z"
   },
   {
    "duration": 2,
    "start_time": "2025-03-31T08:09:12.298Z"
   },
   {
    "duration": 72,
    "start_time": "2025-03-31T08:09:12.511Z"
   },
   {
    "duration": 73,
    "start_time": "2025-03-31T08:09:12.730Z"
   },
   {
    "duration": 3,
    "start_time": "2025-03-31T08:09:12.943Z"
   },
   {
    "duration": 34,
    "start_time": "2025-03-31T08:09:13.170Z"
   },
   {
    "duration": 36,
    "start_time": "2025-03-31T08:09:13.417Z"
   },
   {
    "duration": 2,
    "start_time": "2025-03-31T08:09:13.632Z"
   },
   {
    "duration": 12,
    "start_time": "2025-03-31T08:09:13.848Z"
   },
   {
    "duration": 12,
    "start_time": "2025-03-31T08:09:14.058Z"
   },
   {
    "duration": 3,
    "start_time": "2025-03-31T08:09:14.281Z"
   },
   {
    "duration": 20,
    "start_time": "2025-03-31T08:09:14.496Z"
   },
   {
    "duration": 20,
    "start_time": "2025-03-31T08:09:14.692Z"
   },
   {
    "duration": 2,
    "start_time": "2025-03-31T08:09:14.884Z"
   },
   {
    "duration": 125,
    "start_time": "2025-03-31T08:09:15.822Z"
   },
   {
    "duration": 56,
    "start_time": "2025-03-31T08:09:16.285Z"
   },
   {
    "duration": 17,
    "start_time": "2025-03-31T08:09:16.484Z"
   },
   {
    "duration": 10,
    "start_time": "2025-03-31T08:09:16.668Z"
   },
   {
    "duration": 3,
    "start_time": "2025-03-31T08:09:16.848Z"
   },
   {
    "duration": 194,
    "start_time": "2025-03-31T08:09:17.036Z"
   },
   {
    "duration": 101,
    "start_time": "2025-03-31T08:09:18.044Z"
   },
   {
    "duration": 37,
    "start_time": "2025-03-31T08:09:18.236Z"
   },
   {
    "duration": 47,
    "start_time": "2025-03-31T08:09:18.392Z"
   },
   {
    "duration": 2,
    "start_time": "2025-03-31T08:09:18.590Z"
   },
   {
    "duration": 42,
    "start_time": "2025-03-31T08:09:18.996Z"
   },
   {
    "duration": 2,
    "start_time": "2025-03-31T08:09:19.202Z"
   },
   {
    "duration": 17,
    "start_time": "2025-03-31T08:09:19.420Z"
   },
   {
    "duration": 15,
    "start_time": "2025-03-31T08:09:19.638Z"
   },
   {
    "duration": 18,
    "start_time": "2025-03-31T08:09:19.866Z"
   },
   {
    "duration": 12,
    "start_time": "2025-03-31T08:09:20.070Z"
   },
   {
    "duration": 8,
    "start_time": "2025-03-31T08:09:20.494Z"
   },
   {
    "duration": 2,
    "start_time": "2025-03-31T08:09:20.888Z"
   },
   {
    "duration": 29,
    "start_time": "2025-03-31T08:09:21.252Z"
   },
   {
    "duration": 41,
    "start_time": "2025-03-31T08:09:21.517Z"
   },
   {
    "duration": 15,
    "start_time": "2025-03-31T08:09:21.764Z"
   },
   {
    "duration": 3,
    "start_time": "2025-03-31T08:09:23.536Z"
   },
   {
    "duration": 47,
    "start_time": "2025-03-31T08:09:23.901Z"
   },
   {
    "duration": 97,
    "start_time": "2025-03-31T08:09:24.121Z"
   },
   {
    "duration": 51,
    "start_time": "2025-03-31T08:09:24.850Z"
   },
   {
    "duration": 44,
    "start_time": "2025-03-31T08:09:25.094Z"
   },
   {
    "duration": 3,
    "start_time": "2025-03-31T08:09:27.218Z"
   },
   {
    "duration": 95,
    "start_time": "2025-03-31T08:09:27.443Z"
   },
   {
    "duration": 20,
    "start_time": "2025-03-31T08:09:27.850Z"
   },
   {
    "duration": 348,
    "start_time": "2025-03-31T08:09:28.056Z"
   },
   {
    "duration": 8,
    "start_time": "2025-03-31T08:09:28.470Z"
   },
   {
    "duration": 105,
    "start_time": "2025-03-31T08:09:28.700Z"
   },
   {
    "duration": 4207,
    "start_time": "2025-03-31T08:09:30.486Z"
   },
   {
    "duration": 46,
    "start_time": "2025-03-31T08:09:49.833Z"
   },
   {
    "duration": 2622,
    "start_time": "2025-03-31T08:10:19.539Z"
   },
   {
    "duration": 3706,
    "start_time": "2025-03-31T08:10:31.652Z"
   },
   {
    "duration": 41,
    "start_time": "2025-03-31T08:10:35.360Z"
   },
   {
    "duration": 72,
    "start_time": "2025-03-31T08:10:35.403Z"
   },
   {
    "duration": 18,
    "start_time": "2025-03-31T08:10:35.477Z"
   },
   {
    "duration": 37,
    "start_time": "2025-03-31T08:10:35.497Z"
   },
   {
    "duration": 39,
    "start_time": "2025-03-31T08:10:35.535Z"
   },
   {
    "duration": 1397,
    "start_time": "2025-03-31T08:10:35.576Z"
   },
   {
    "duration": 103,
    "start_time": "2025-03-31T08:10:36.977Z"
   },
   {
    "duration": 23,
    "start_time": "2025-03-31T08:10:37.081Z"
   },
   {
    "duration": 87,
    "start_time": "2025-03-31T08:10:37.105Z"
   },
   {
    "duration": 73,
    "start_time": "2025-03-31T08:10:37.194Z"
   },
   {
    "duration": 96,
    "start_time": "2025-03-31T08:10:37.269Z"
   },
   {
    "duration": 3,
    "start_time": "2025-03-31T08:10:37.366Z"
   },
   {
    "duration": 475,
    "start_time": "2025-03-31T08:10:37.376Z"
   },
   {
    "duration": 42,
    "start_time": "2025-03-31T08:10:37.853Z"
   },
   {
    "duration": 22,
    "start_time": "2025-03-31T08:10:37.896Z"
   },
   {
    "duration": 55,
    "start_time": "2025-03-31T08:10:37.919Z"
   },
   {
    "duration": 34,
    "start_time": "2025-03-31T08:10:37.976Z"
   },
   {
    "duration": 318,
    "start_time": "2025-03-31T08:10:38.011Z"
   },
   {
    "duration": 26,
    "start_time": "2025-03-31T08:10:38.331Z"
   },
   {
    "duration": 128,
    "start_time": "2025-03-31T08:10:38.359Z"
   },
   {
    "duration": 15,
    "start_time": "2025-03-31T08:10:38.489Z"
   },
   {
    "duration": 5,
    "start_time": "2025-03-31T08:10:38.505Z"
   },
   {
    "duration": 230,
    "start_time": "2025-03-31T08:10:38.511Z"
   },
   {
    "duration": 23,
    "start_time": "2025-03-31T08:10:38.743Z"
   },
   {
    "duration": 10,
    "start_time": "2025-03-31T08:10:38.768Z"
   },
   {
    "duration": 13,
    "start_time": "2025-03-31T08:10:38.779Z"
   },
   {
    "duration": 8,
    "start_time": "2025-03-31T08:10:38.794Z"
   },
   {
    "duration": 12,
    "start_time": "2025-03-31T08:10:38.804Z"
   },
   {
    "duration": 2,
    "start_time": "2025-03-31T08:10:38.817Z"
   },
   {
    "duration": 10,
    "start_time": "2025-03-31T08:10:38.821Z"
   },
   {
    "duration": 12,
    "start_time": "2025-03-31T08:10:38.832Z"
   },
   {
    "duration": 8,
    "start_time": "2025-03-31T08:10:38.846Z"
   },
   {
    "duration": 32,
    "start_time": "2025-03-31T08:10:38.855Z"
   },
   {
    "duration": 105,
    "start_time": "2025-03-31T08:10:38.889Z"
   },
   {
    "duration": 3,
    "start_time": "2025-03-31T08:10:38.996Z"
   },
   {
    "duration": 190,
    "start_time": "2025-03-31T08:10:39.000Z"
   },
   {
    "duration": 76,
    "start_time": "2025-03-31T08:10:39.191Z"
   },
   {
    "duration": 2,
    "start_time": "2025-03-31T08:10:39.277Z"
   },
   {
    "duration": 33,
    "start_time": "2025-03-31T08:10:39.281Z"
   },
   {
    "duration": 25,
    "start_time": "2025-03-31T08:10:39.320Z"
   },
   {
    "duration": 98,
    "start_time": "2025-03-31T08:10:39.346Z"
   },
   {
    "duration": 36,
    "start_time": "2025-03-31T08:10:39.446Z"
   },
   {
    "duration": 9,
    "start_time": "2025-03-31T08:10:39.484Z"
   },
   {
    "duration": 8,
    "start_time": "2025-03-31T08:10:39.494Z"
   },
   {
    "duration": 2,
    "start_time": "2025-03-31T08:10:39.504Z"
   },
   {
    "duration": 78,
    "start_time": "2025-03-31T08:10:39.508Z"
   },
   {
    "duration": 71,
    "start_time": "2025-03-31T08:10:39.588Z"
   },
   {
    "duration": 2,
    "start_time": "2025-03-31T08:10:39.661Z"
   },
   {
    "duration": 38,
    "start_time": "2025-03-31T08:10:39.676Z"
   },
   {
    "duration": 40,
    "start_time": "2025-03-31T08:10:39.716Z"
   },
   {
    "duration": 2,
    "start_time": "2025-03-31T08:10:39.757Z"
   },
   {
    "duration": 11,
    "start_time": "2025-03-31T08:10:39.776Z"
   },
   {
    "duration": 12,
    "start_time": "2025-03-31T08:10:39.789Z"
   },
   {
    "duration": 3,
    "start_time": "2025-03-31T08:10:39.802Z"
   },
   {
    "duration": 22,
    "start_time": "2025-03-31T08:10:39.807Z"
   },
   {
    "duration": 34,
    "start_time": "2025-03-31T08:10:39.830Z"
   },
   {
    "duration": 15,
    "start_time": "2025-03-31T08:10:39.877Z"
   },
   {
    "duration": 110,
    "start_time": "2025-03-31T08:10:39.894Z"
   },
   {
    "duration": 57,
    "start_time": "2025-03-31T08:10:40.006Z"
   },
   {
    "duration": 19,
    "start_time": "2025-03-31T08:10:40.065Z"
   },
   {
    "duration": 14,
    "start_time": "2025-03-31T08:10:40.086Z"
   },
   {
    "duration": 20,
    "start_time": "2025-03-31T08:10:40.101Z"
   },
   {
    "duration": 179,
    "start_time": "2025-03-31T08:10:40.123Z"
   },
   {
    "duration": 105,
    "start_time": "2025-03-31T08:10:40.303Z"
   },
   {
    "duration": 121,
    "start_time": "2025-03-31T08:10:40.409Z"
   },
   {
    "duration": 48,
    "start_time": "2025-03-31T08:10:40.531Z"
   },
   {
    "duration": 2,
    "start_time": "2025-03-31T08:10:40.580Z"
   },
   {
    "duration": 47,
    "start_time": "2025-03-31T08:10:40.584Z"
   },
   {
    "duration": 3,
    "start_time": "2025-03-31T08:10:40.632Z"
   },
   {
    "duration": 39,
    "start_time": "2025-03-31T08:10:40.636Z"
   },
   {
    "duration": 29,
    "start_time": "2025-03-31T08:10:40.677Z"
   },
   {
    "duration": 17,
    "start_time": "2025-03-31T08:10:40.708Z"
   },
   {
    "duration": 14,
    "start_time": "2025-03-31T08:10:40.727Z"
   },
   {
    "duration": 26,
    "start_time": "2025-03-31T08:10:40.742Z"
   },
   {
    "duration": 24,
    "start_time": "2025-03-31T08:10:40.769Z"
   },
   {
    "duration": 29,
    "start_time": "2025-03-31T08:10:40.795Z"
   },
   {
    "duration": 40,
    "start_time": "2025-03-31T08:10:40.826Z"
   },
   {
    "duration": 14,
    "start_time": "2025-03-31T08:10:40.867Z"
   },
   {
    "duration": 6,
    "start_time": "2025-03-31T08:10:40.882Z"
   },
   {
    "duration": 54,
    "start_time": "2025-03-31T08:10:40.889Z"
   },
   {
    "duration": 98,
    "start_time": "2025-03-31T08:10:40.945Z"
   },
   {
    "duration": 61,
    "start_time": "2025-03-31T08:10:41.044Z"
   },
   {
    "duration": 140,
    "start_time": "2025-03-31T08:10:41.107Z"
   },
   {
    "duration": 12,
    "start_time": "2025-03-31T08:10:41.249Z"
   },
   {
    "duration": 110,
    "start_time": "2025-03-31T08:10:41.262Z"
   },
   {
    "duration": 14,
    "start_time": "2025-03-31T08:10:41.374Z"
   },
   {
    "duration": 424,
    "start_time": "2025-03-31T08:10:41.390Z"
   },
   {
    "duration": 8,
    "start_time": "2025-03-31T08:10:41.815Z"
   },
   {
    "duration": 110,
    "start_time": "2025-03-31T08:10:41.824Z"
   },
   {
    "duration": 4069,
    "start_time": "2025-03-31T08:10:41.936Z"
   },
   {
    "duration": 2797,
    "start_time": "2025-03-31T08:10:46.007Z"
   },
   {
    "duration": 49,
    "start_time": "2025-03-31T08:35:34.112Z"
   },
   {
    "duration": 3824,
    "start_time": "2025-03-31T08:35:47.676Z"
   },
   {
    "duration": 45,
    "start_time": "2025-03-31T08:35:51.501Z"
   },
   {
    "duration": 11,
    "start_time": "2025-03-31T08:35:51.547Z"
   },
   {
    "duration": 17,
    "start_time": "2025-03-31T08:35:51.560Z"
   },
   {
    "duration": 2,
    "start_time": "2025-03-31T08:35:51.579Z"
   },
   {
    "duration": 25,
    "start_time": "2025-03-31T08:35:51.582Z"
   },
   {
    "duration": 1756,
    "start_time": "2025-03-31T08:35:51.609Z"
   },
   {
    "duration": 98,
    "start_time": "2025-03-31T08:35:53.367Z"
   },
   {
    "duration": 29,
    "start_time": "2025-03-31T08:35:53.467Z"
   },
   {
    "duration": 15,
    "start_time": "2025-03-31T08:35:53.498Z"
   },
   {
    "duration": 146,
    "start_time": "2025-03-31T08:35:53.514Z"
   },
   {
    "duration": 93,
    "start_time": "2025-03-31T08:35:53.661Z"
   },
   {
    "duration": 2,
    "start_time": "2025-03-31T08:35:53.756Z"
   },
   {
    "duration": 307,
    "start_time": "2025-03-31T08:35:53.761Z"
   },
   {
    "duration": 44,
    "start_time": "2025-03-31T08:35:54.069Z"
   },
   {
    "duration": 48,
    "start_time": "2025-03-31T08:35:54.115Z"
   },
   {
    "duration": 20,
    "start_time": "2025-03-31T08:35:54.165Z"
   },
   {
    "duration": 18,
    "start_time": "2025-03-31T08:35:54.187Z"
   },
   {
    "duration": 188,
    "start_time": "2025-03-31T08:35:54.207Z"
   },
   {
    "duration": 19,
    "start_time": "2025-03-31T08:35:54.396Z"
   },
   {
    "duration": 28,
    "start_time": "2025-03-31T08:35:54.416Z"
   },
   {
    "duration": 47,
    "start_time": "2025-03-31T08:35:54.446Z"
   },
   {
    "duration": 194,
    "start_time": "2025-03-31T08:35:54.495Z"
   },
   {
    "duration": 984,
    "start_time": "2025-03-31T08:35:54.691Z"
   },
   {
    "duration": 23,
    "start_time": "2025-03-31T08:35:55.677Z"
   },
   {
    "duration": 21,
    "start_time": "2025-03-31T08:35:55.702Z"
   },
   {
    "duration": 3,
    "start_time": "2025-03-31T08:35:55.725Z"
   },
   {
    "duration": 26,
    "start_time": "2025-03-31T08:35:55.730Z"
   },
   {
    "duration": 27,
    "start_time": "2025-03-31T08:35:55.758Z"
   },
   {
    "duration": 4,
    "start_time": "2025-03-31T08:35:55.787Z"
   },
   {
    "duration": 14,
    "start_time": "2025-03-31T08:35:55.792Z"
   },
   {
    "duration": 33,
    "start_time": "2025-03-31T08:35:55.808Z"
   },
   {
    "duration": 9,
    "start_time": "2025-03-31T08:35:55.843Z"
   },
   {
    "duration": 73,
    "start_time": "2025-03-31T08:35:55.854Z"
   },
   {
    "duration": 114,
    "start_time": "2025-03-31T08:35:55.929Z"
   },
   {
    "duration": 2,
    "start_time": "2025-03-31T08:35:56.045Z"
   },
   {
    "duration": 154,
    "start_time": "2025-03-31T08:35:56.049Z"
   },
   {
    "duration": 84,
    "start_time": "2025-03-31T08:35:56.205Z"
   },
   {
    "duration": 3,
    "start_time": "2025-03-31T08:35:56.290Z"
   },
   {
    "duration": 20,
    "start_time": "2025-03-31T08:35:56.294Z"
   },
   {
    "duration": 19,
    "start_time": "2025-03-31T08:35:56.318Z"
   },
   {
    "duration": 38,
    "start_time": "2025-03-31T08:35:56.338Z"
   },
   {
    "duration": 2,
    "start_time": "2025-03-31T08:35:56.378Z"
   },
   {
    "duration": 10,
    "start_time": "2025-03-31T08:35:56.382Z"
   },
   {
    "duration": 21,
    "start_time": "2025-03-31T08:35:56.394Z"
   },
   {
    "duration": 17,
    "start_time": "2025-03-31T08:35:56.417Z"
   },
   {
    "duration": 71,
    "start_time": "2025-03-31T08:35:56.436Z"
   },
   {
    "duration": 85,
    "start_time": "2025-03-31T08:35:56.510Z"
   },
   {
    "duration": 2,
    "start_time": "2025-03-31T08:35:56.597Z"
   },
   {
    "duration": 137,
    "start_time": "2025-03-31T08:35:56.601Z"
   },
   {
    "duration": 37,
    "start_time": "2025-03-31T08:35:56.740Z"
   },
   {
    "duration": 17,
    "start_time": "2025-03-31T08:35:56.778Z"
   },
   {
    "duration": 24,
    "start_time": "2025-03-31T08:35:56.797Z"
   },
   {
    "duration": 25,
    "start_time": "2025-03-31T08:35:56.823Z"
   },
   {
    "duration": 71,
    "start_time": "2025-03-31T08:35:56.850Z"
   },
   {
    "duration": 38,
    "start_time": "2025-03-31T08:35:56.923Z"
   },
   {
    "duration": 36,
    "start_time": "2025-03-31T08:35:56.962Z"
   },
   {
    "duration": 10,
    "start_time": "2025-03-31T08:35:57.000Z"
   },
   {
    "duration": 122,
    "start_time": "2025-03-31T08:35:57.012Z"
   },
   {
    "duration": 67,
    "start_time": "2025-03-31T08:35:57.135Z"
   },
   {
    "duration": 50,
    "start_time": "2025-03-31T08:35:57.203Z"
   },
   {
    "duration": 117,
    "start_time": "2025-03-31T08:35:57.255Z"
   },
   {
    "duration": 3,
    "start_time": "2025-03-31T08:35:57.375Z"
   },
   {
    "duration": 178,
    "start_time": "2025-03-31T08:35:57.380Z"
   },
   {
    "duration": 102,
    "start_time": "2025-03-31T08:35:57.559Z"
   },
   {
    "duration": 52,
    "start_time": "2025-03-31T08:35:57.663Z"
   },
   {
    "duration": 59,
    "start_time": "2025-03-31T08:35:57.717Z"
   },
   {
    "duration": 2,
    "start_time": "2025-03-31T08:35:57.778Z"
   },
   {
    "duration": 73,
    "start_time": "2025-03-31T08:35:57.781Z"
   },
   {
    "duration": 2,
    "start_time": "2025-03-31T08:35:57.856Z"
   },
   {
    "duration": 22,
    "start_time": "2025-03-31T08:35:57.860Z"
   },
   {
    "duration": 12,
    "start_time": "2025-03-31T08:35:57.883Z"
   },
   {
    "duration": 16,
    "start_time": "2025-03-31T08:35:57.897Z"
   },
   {
    "duration": 13,
    "start_time": "2025-03-31T08:35:57.914Z"
   },
   {
    "duration": 12,
    "start_time": "2025-03-31T08:35:57.928Z"
   },
   {
    "duration": 17,
    "start_time": "2025-03-31T08:35:57.941Z"
   },
   {
    "duration": 30,
    "start_time": "2025-03-31T08:35:57.977Z"
   },
   {
    "duration": 40,
    "start_time": "2025-03-31T08:35:58.008Z"
   },
   {
    "duration": 36,
    "start_time": "2025-03-31T08:35:58.050Z"
   },
   {
    "duration": 3,
    "start_time": "2025-03-31T08:35:58.087Z"
   },
   {
    "duration": 50,
    "start_time": "2025-03-31T08:35:58.091Z"
   },
   {
    "duration": 119,
    "start_time": "2025-03-31T08:35:58.142Z"
   },
   {
    "duration": 54,
    "start_time": "2025-03-31T08:35:58.262Z"
   },
   {
    "duration": 50,
    "start_time": "2025-03-31T08:35:58.317Z"
   },
   {
    "duration": 6,
    "start_time": "2025-03-31T08:35:58.368Z"
   },
   {
    "duration": 105,
    "start_time": "2025-03-31T08:35:58.377Z"
   },
   {
    "duration": 13,
    "start_time": "2025-03-31T08:35:58.484Z"
   },
   {
    "duration": 525,
    "start_time": "2025-03-31T08:35:58.499Z"
   },
   {
    "duration": 8,
    "start_time": "2025-03-31T08:35:59.025Z"
   },
   {
    "duration": 154,
    "start_time": "2025-03-31T08:35:59.035Z"
   },
   {
    "duration": 4103,
    "start_time": "2025-03-31T08:35:59.190Z"
   },
   {
    "duration": 125,
    "start_time": "2025-03-31T08:36:03.294Z"
   },
   {
    "duration": 106,
    "start_time": "2025-03-31T08:38:16.650Z"
   },
   {
    "duration": 9,
    "start_time": "2025-03-31T08:38:22.611Z"
   },
   {
    "duration": 183,
    "start_time": "2025-03-31T08:41:30.247Z"
   },
   {
    "duration": 81,
    "start_time": "2025-03-31T08:41:58.725Z"
   },
   {
    "duration": 73,
    "start_time": "2025-03-31T08:42:14.656Z"
   },
   {
    "duration": 37,
    "start_time": "2025-03-31T08:42:15.402Z"
   },
   {
    "duration": 78,
    "start_time": "2025-03-31T08:42:26.506Z"
   },
   {
    "duration": 41,
    "start_time": "2025-03-31T08:42:27.036Z"
   },
   {
    "duration": 120,
    "start_time": "2025-03-31T08:42:34.333Z"
   },
   {
    "duration": 121,
    "start_time": "2025-03-31T08:42:34.962Z"
   },
   {
    "duration": 9,
    "start_time": "2025-03-31T08:45:16.314Z"
   },
   {
    "duration": 228,
    "start_time": "2025-03-31T08:45:29.266Z"
   },
   {
    "duration": 321,
    "start_time": "2025-03-31T08:45:39.580Z"
   },
   {
    "duration": 210,
    "start_time": "2025-03-31T08:45:40.180Z"
   },
   {
    "duration": 301,
    "start_time": "2025-03-31T08:46:38.018Z"
   },
   {
    "duration": 202,
    "start_time": "2025-03-31T08:46:39.206Z"
   },
   {
    "duration": 72,
    "start_time": "2025-03-31T08:46:56.389Z"
   },
   {
    "duration": 50,
    "start_time": "2025-03-31T08:47:04.068Z"
   },
   {
    "duration": 276,
    "start_time": "2025-03-31T08:47:33.188Z"
   },
   {
    "duration": 204,
    "start_time": "2025-03-31T08:47:33.751Z"
   },
   {
    "duration": 11,
    "start_time": "2025-03-31T08:47:34.651Z"
   },
   {
    "duration": 99,
    "start_time": "2025-03-31T08:47:35.091Z"
   },
   {
    "duration": 4255,
    "start_time": "2025-03-31T08:47:37.109Z"
   },
   {
    "duration": 117,
    "start_time": "2025-03-31T08:47:41.366Z"
   },
   {
    "duration": 102,
    "start_time": "2025-03-31T08:47:41.485Z"
   },
   {
    "duration": 3686,
    "start_time": "2025-03-31T10:08:11.139Z"
   },
   {
    "duration": 38,
    "start_time": "2025-03-31T10:08:14.827Z"
   },
   {
    "duration": 12,
    "start_time": "2025-03-31T10:08:14.867Z"
   },
   {
    "duration": 11,
    "start_time": "2025-03-31T10:08:14.880Z"
   },
   {
    "duration": 2,
    "start_time": "2025-03-31T10:08:14.893Z"
   },
   {
    "duration": 4,
    "start_time": "2025-03-31T10:08:14.897Z"
   },
   {
    "duration": 889,
    "start_time": "2025-03-31T10:08:14.902Z"
   },
   {
    "duration": 127,
    "start_time": "2025-03-31T10:08:15.793Z"
   },
   {
    "duration": 24,
    "start_time": "2025-03-31T10:08:15.922Z"
   },
   {
    "duration": 4,
    "start_time": "2025-03-31T10:08:15.947Z"
   },
   {
    "duration": 52,
    "start_time": "2025-03-31T10:08:15.952Z"
   },
   {
    "duration": 106,
    "start_time": "2025-03-31T10:08:16.005Z"
   },
   {
    "duration": 3,
    "start_time": "2025-03-31T10:08:16.113Z"
   },
   {
    "duration": 357,
    "start_time": "2025-03-31T10:08:16.118Z"
   },
   {
    "duration": 50,
    "start_time": "2025-03-31T10:08:16.477Z"
   },
   {
    "duration": 2,
    "start_time": "2025-03-31T10:08:16.529Z"
   },
   {
    "duration": 34,
    "start_time": "2025-03-31T10:08:16.533Z"
   },
   {
    "duration": 6,
    "start_time": "2025-03-31T10:08:16.568Z"
   },
   {
    "duration": 194,
    "start_time": "2025-03-31T10:08:16.576Z"
   },
   {
    "duration": 19,
    "start_time": "2025-03-31T10:08:16.772Z"
   },
   {
    "duration": 7,
    "start_time": "2025-03-31T10:08:16.793Z"
   },
   {
    "duration": 4,
    "start_time": "2025-03-31T10:08:16.801Z"
   },
   {
    "duration": 8,
    "start_time": "2025-03-31T10:08:16.806Z"
   },
   {
    "duration": 203,
    "start_time": "2025-03-31T10:08:16.816Z"
   },
   {
    "duration": 24,
    "start_time": "2025-03-31T10:08:17.021Z"
   },
   {
    "duration": 90,
    "start_time": "2025-03-31T10:08:17.046Z"
   },
   {
    "duration": 3,
    "start_time": "2025-03-31T10:08:17.138Z"
   },
   {
    "duration": 4,
    "start_time": "2025-03-31T10:08:17.142Z"
   },
   {
    "duration": 15,
    "start_time": "2025-03-31T10:08:17.147Z"
   },
   {
    "duration": 7,
    "start_time": "2025-03-31T10:08:17.164Z"
   },
   {
    "duration": 118,
    "start_time": "2025-03-31T10:08:17.172Z"
   },
   {
    "duration": 14,
    "start_time": "2025-03-31T10:08:17.291Z"
   },
   {
    "duration": 7,
    "start_time": "2025-03-31T10:08:17.307Z"
   },
   {
    "duration": 9,
    "start_time": "2025-03-31T10:08:17.316Z"
   },
   {
    "duration": 97,
    "start_time": "2025-03-31T10:08:17.327Z"
   },
   {
    "duration": 2,
    "start_time": "2025-03-31T10:08:17.425Z"
   },
   {
    "duration": 172,
    "start_time": "2025-03-31T10:08:17.429Z"
   },
   {
    "duration": 80,
    "start_time": "2025-03-31T10:08:17.603Z"
   },
   {
    "duration": 2,
    "start_time": "2025-03-31T10:08:17.685Z"
   },
   {
    "duration": 83,
    "start_time": "2025-03-31T10:08:17.688Z"
   },
   {
    "duration": 74,
    "start_time": "2025-03-31T10:08:17.776Z"
   },
   {
    "duration": 35,
    "start_time": "2025-03-31T10:08:17.852Z"
   },
   {
    "duration": 9,
    "start_time": "2025-03-31T10:08:17.889Z"
   },
   {
    "duration": 9,
    "start_time": "2025-03-31T10:08:17.899Z"
   },
   {
    "duration": 12,
    "start_time": "2025-03-31T10:08:17.910Z"
   },
   {
    "duration": 4,
    "start_time": "2025-03-31T10:08:17.923Z"
   },
   {
    "duration": 81,
    "start_time": "2025-03-31T10:08:17.928Z"
   },
   {
    "duration": 80,
    "start_time": "2025-03-31T10:08:18.011Z"
   },
   {
    "duration": 3,
    "start_time": "2025-03-31T10:08:18.093Z"
   },
   {
    "duration": 123,
    "start_time": "2025-03-31T10:08:18.098Z"
   },
   {
    "duration": 96,
    "start_time": "2025-03-31T10:08:18.223Z"
   },
   {
    "duration": 2,
    "start_time": "2025-03-31T10:08:18.321Z"
   },
   {
    "duration": 21,
    "start_time": "2025-03-31T10:08:18.325Z"
   },
   {
    "duration": 12,
    "start_time": "2025-03-31T10:08:18.348Z"
   },
   {
    "duration": 36,
    "start_time": "2025-03-31T10:08:18.362Z"
   },
   {
    "duration": 22,
    "start_time": "2025-03-31T10:08:18.399Z"
   },
   {
    "duration": 36,
    "start_time": "2025-03-31T10:08:18.422Z"
   },
   {
    "duration": 9,
    "start_time": "2025-03-31T10:08:18.459Z"
   },
   {
    "duration": 117,
    "start_time": "2025-03-31T10:08:18.470Z"
   },
   {
    "duration": 57,
    "start_time": "2025-03-31T10:08:18.589Z"
   },
   {
    "duration": 10,
    "start_time": "2025-03-31T10:08:18.648Z"
   },
   {
    "duration": 25,
    "start_time": "2025-03-31T10:08:18.660Z"
   },
   {
    "duration": 10,
    "start_time": "2025-03-31T10:08:18.687Z"
   },
   {
    "duration": 196,
    "start_time": "2025-03-31T10:08:18.699Z"
   },
   {
    "duration": 111,
    "start_time": "2025-03-31T10:08:18.896Z"
   },
   {
    "duration": 38,
    "start_time": "2025-03-31T10:08:19.008Z"
   },
   {
    "duration": 67,
    "start_time": "2025-03-31T10:08:19.048Z"
   },
   {
    "duration": 54,
    "start_time": "2025-03-31T10:08:19.117Z"
   },
   {
    "duration": 45,
    "start_time": "2025-03-31T10:08:19.174Z"
   },
   {
    "duration": 76,
    "start_time": "2025-03-31T10:08:19.220Z"
   },
   {
    "duration": 26,
    "start_time": "2025-03-31T10:08:19.297Z"
   },
   {
    "duration": 13,
    "start_time": "2025-03-31T10:08:19.324Z"
   },
   {
    "duration": 55,
    "start_time": "2025-03-31T10:08:19.338Z"
   },
   {
    "duration": 40,
    "start_time": "2025-03-31T10:08:19.394Z"
   },
   {
    "duration": 10,
    "start_time": "2025-03-31T10:08:19.435Z"
   },
   {
    "duration": 10,
    "start_time": "2025-03-31T10:08:19.446Z"
   },
   {
    "duration": 36,
    "start_time": "2025-03-31T10:08:19.458Z"
   },
   {
    "duration": 46,
    "start_time": "2025-03-31T10:08:19.496Z"
   },
   {
    "duration": 17,
    "start_time": "2025-03-31T10:08:19.543Z"
   },
   {
    "duration": 21,
    "start_time": "2025-03-31T10:08:19.561Z"
   },
   {
    "duration": 56,
    "start_time": "2025-03-31T10:08:19.583Z"
   },
   {
    "duration": 95,
    "start_time": "2025-03-31T10:08:19.640Z"
   },
   {
    "duration": 146,
    "start_time": "2025-03-31T10:08:19.737Z"
   },
   {
    "duration": 57,
    "start_time": "2025-03-31T10:08:19.885Z"
   },
   {
    "duration": 10,
    "start_time": "2025-03-31T10:08:19.943Z"
   },
   {
    "duration": 95,
    "start_time": "2025-03-31T10:08:19.954Z"
   },
   {
    "duration": 14,
    "start_time": "2025-03-31T10:08:20.050Z"
   },
   {
    "duration": 379,
    "start_time": "2025-03-31T10:08:20.066Z"
   },
   {
    "duration": 231,
    "start_time": "2025-03-31T10:08:20.446Z"
   },
   {
    "duration": 8,
    "start_time": "2025-03-31T10:08:20.679Z"
   },
   {
    "duration": 99,
    "start_time": "2025-03-31T10:08:20.688Z"
   },
   {
    "duration": 4082,
    "start_time": "2025-03-31T10:08:20.789Z"
   },
   {
    "duration": 132,
    "start_time": "2025-03-31T10:08:24.877Z"
   },
   {
    "duration": 120,
    "start_time": "2025-03-31T10:08:25.010Z"
   },
   {
    "duration": 4947,
    "start_time": "2025-03-31T16:08:56.300Z"
   },
   {
    "duration": 54,
    "start_time": "2025-03-31T16:09:01.250Z"
   },
   {
    "duration": 38,
    "start_time": "2025-03-31T16:09:01.306Z"
   },
   {
    "duration": 68,
    "start_time": "2025-03-31T16:09:01.345Z"
   },
   {
    "duration": 107,
    "start_time": "2025-03-31T16:09:01.415Z"
   },
   {
    "duration": 138,
    "start_time": "2025-03-31T16:09:01.523Z"
   },
   {
    "duration": 2222,
    "start_time": "2025-03-31T16:09:01.663Z"
   },
   {
    "duration": 102,
    "start_time": "2025-03-31T16:09:03.887Z"
   },
   {
    "duration": 240,
    "start_time": "2025-03-31T16:09:03.991Z"
   },
   {
    "duration": 15,
    "start_time": "2025-03-31T16:09:04.233Z"
   },
   {
    "duration": 29,
    "start_time": "2025-03-31T16:09:04.250Z"
   },
   {
    "duration": 110,
    "start_time": "2025-03-31T16:09:04.281Z"
   },
   {
    "duration": 30,
    "start_time": "2025-03-31T16:09:04.393Z"
   },
   {
    "duration": 342,
    "start_time": "2025-03-31T16:09:04.426Z"
   },
   {
    "duration": 41,
    "start_time": "2025-03-31T16:09:04.770Z"
   },
   {
    "duration": 13,
    "start_time": "2025-03-31T16:09:04.812Z"
   },
   {
    "duration": 16,
    "start_time": "2025-03-31T16:09:04.827Z"
   },
   {
    "duration": 7,
    "start_time": "2025-03-31T16:09:04.845Z"
   },
   {
    "duration": 187,
    "start_time": "2025-03-31T16:09:04.853Z"
   },
   {
    "duration": 24,
    "start_time": "2025-03-31T16:09:05.042Z"
   },
   {
    "duration": 8,
    "start_time": "2025-03-31T16:09:05.068Z"
   },
   {
    "duration": 43,
    "start_time": "2025-03-31T16:09:05.078Z"
   },
   {
    "duration": 29,
    "start_time": "2025-03-31T16:09:05.122Z"
   },
   {
    "duration": 222,
    "start_time": "2025-03-31T16:09:05.152Z"
   },
   {
    "duration": 26,
    "start_time": "2025-03-31T16:09:05.376Z"
   },
   {
    "duration": 31,
    "start_time": "2025-03-31T16:09:05.404Z"
   },
   {
    "duration": 16,
    "start_time": "2025-03-31T16:09:05.436Z"
   },
   {
    "duration": 58,
    "start_time": "2025-03-31T16:09:05.453Z"
   },
   {
    "duration": 47,
    "start_time": "2025-03-31T16:09:05.513Z"
   },
   {
    "duration": 19,
    "start_time": "2025-03-31T16:09:05.562Z"
   },
   {
    "duration": 18,
    "start_time": "2025-03-31T16:09:05.582Z"
   },
   {
    "duration": 33,
    "start_time": "2025-03-31T16:09:05.601Z"
   },
   {
    "duration": 17,
    "start_time": "2025-03-31T16:09:05.636Z"
   },
   {
    "duration": 11,
    "start_time": "2025-03-31T16:09:05.654Z"
   },
   {
    "duration": 158,
    "start_time": "2025-03-31T16:09:05.667Z"
   },
   {
    "duration": 3,
    "start_time": "2025-03-31T16:09:05.827Z"
   },
   {
    "duration": 173,
    "start_time": "2025-03-31T16:09:05.831Z"
   },
   {
    "duration": 83,
    "start_time": "2025-03-31T16:09:06.006Z"
   },
   {
    "duration": 3,
    "start_time": "2025-03-31T16:09:06.091Z"
   },
   {
    "duration": 56,
    "start_time": "2025-03-31T16:09:06.096Z"
   },
   {
    "duration": 39,
    "start_time": "2025-03-31T16:09:06.157Z"
   },
   {
    "duration": 44,
    "start_time": "2025-03-31T16:09:06.198Z"
   },
   {
    "duration": 39,
    "start_time": "2025-03-31T16:09:06.244Z"
   },
   {
    "duration": 17,
    "start_time": "2025-03-31T16:09:06.285Z"
   },
   {
    "duration": 158,
    "start_time": "2025-03-31T16:09:06.304Z"
   },
   {
    "duration": 28,
    "start_time": "2025-03-31T16:09:06.464Z"
   },
   {
    "duration": 96,
    "start_time": "2025-03-31T16:09:06.494Z"
   },
   {
    "duration": 84,
    "start_time": "2025-03-31T16:09:06.591Z"
   },
   {
    "duration": 4,
    "start_time": "2025-03-31T16:09:06.677Z"
   },
   {
    "duration": 49,
    "start_time": "2025-03-31T16:09:06.682Z"
   },
   {
    "duration": 59,
    "start_time": "2025-03-31T16:09:06.732Z"
   },
   {
    "duration": 18,
    "start_time": "2025-03-31T16:09:06.793Z"
   },
   {
    "duration": 23,
    "start_time": "2025-03-31T16:09:06.813Z"
   },
   {
    "duration": 12,
    "start_time": "2025-03-31T16:09:06.838Z"
   },
   {
    "duration": 3,
    "start_time": "2025-03-31T16:09:06.851Z"
   },
   {
    "duration": 24,
    "start_time": "2025-03-31T16:09:06.855Z"
   },
   {
    "duration": 29,
    "start_time": "2025-03-31T16:09:06.880Z"
   },
   {
    "duration": 22,
    "start_time": "2025-03-31T16:09:06.910Z"
   },
   {
    "duration": 130,
    "start_time": "2025-03-31T16:09:06.934Z"
   },
   {
    "duration": 59,
    "start_time": "2025-03-31T16:09:07.065Z"
   },
   {
    "duration": 12,
    "start_time": "2025-03-31T16:09:07.125Z"
   },
   {
    "duration": 52,
    "start_time": "2025-03-31T16:09:07.138Z"
   },
   {
    "duration": 26,
    "start_time": "2025-03-31T16:09:07.192Z"
   },
   {
    "duration": 204,
    "start_time": "2025-03-31T16:09:07.220Z"
   },
   {
    "duration": 141,
    "start_time": "2025-03-31T16:09:07.426Z"
   },
   {
    "duration": 40,
    "start_time": "2025-03-31T16:09:07.569Z"
   },
   {
    "duration": 69,
    "start_time": "2025-03-31T16:09:07.611Z"
   },
   {
    "duration": 3,
    "start_time": "2025-03-31T16:09:07.682Z"
   },
   {
    "duration": 53,
    "start_time": "2025-03-31T16:09:07.687Z"
   },
   {
    "duration": 13,
    "start_time": "2025-03-31T16:09:07.741Z"
   },
   {
    "duration": 72,
    "start_time": "2025-03-31T16:09:07.755Z"
   },
   {
    "duration": 19,
    "start_time": "2025-03-31T16:09:07.829Z"
   },
   {
    "duration": 18,
    "start_time": "2025-03-31T16:09:07.849Z"
   },
   {
    "duration": 22,
    "start_time": "2025-03-31T16:09:07.868Z"
   },
   {
    "duration": 15,
    "start_time": "2025-03-31T16:09:07.892Z"
   },
   {
    "duration": 69,
    "start_time": "2025-03-31T16:09:07.909Z"
   },
   {
    "duration": 48,
    "start_time": "2025-03-31T16:09:07.979Z"
   },
   {
    "duration": 56,
    "start_time": "2025-03-31T16:09:08.029Z"
   },
   {
    "duration": 16,
    "start_time": "2025-03-31T16:09:08.087Z"
   },
   {
    "duration": 16,
    "start_time": "2025-03-31T16:09:08.105Z"
   },
   {
    "duration": 61,
    "start_time": "2025-03-31T16:09:08.123Z"
   },
   {
    "duration": 114,
    "start_time": "2025-03-31T16:09:08.186Z"
   },
   {
    "duration": 65,
    "start_time": "2025-03-31T16:09:08.302Z"
   },
   {
    "duration": 92,
    "start_time": "2025-03-31T16:09:08.369Z"
   },
   {
    "duration": 10,
    "start_time": "2025-03-31T16:09:08.463Z"
   },
   {
    "duration": 125,
    "start_time": "2025-03-31T16:09:08.475Z"
   },
   {
    "duration": 16,
    "start_time": "2025-03-31T16:09:08.603Z"
   },
   {
    "duration": 446,
    "start_time": "2025-03-31T16:09:08.621Z"
   },
   {
    "duration": 251,
    "start_time": "2025-03-31T16:09:09.069Z"
   },
   {
    "duration": 9,
    "start_time": "2025-03-31T16:09:09.322Z"
   },
   {
    "duration": 96,
    "start_time": "2025-03-31T16:09:09.333Z"
   },
   {
    "duration": 4960,
    "start_time": "2025-03-31T16:09:09.431Z"
   },
   {
    "duration": 147,
    "start_time": "2025-03-31T16:09:14.393Z"
   },
   {
    "duration": 137,
    "start_time": "2025-03-31T16:09:14.542Z"
   },
   {
    "duration": 10,
    "start_time": "2025-03-31T16:11:06.807Z"
   },
   {
    "duration": 10,
    "start_time": "2025-03-31T16:16:47.750Z"
   },
   {
    "duration": 163,
    "start_time": "2025-03-31T16:18:38.134Z"
   },
   {
    "duration": 4994,
    "start_time": "2025-04-01T08:40:24.161Z"
   },
   {
    "duration": 56,
    "start_time": "2025-04-01T08:40:29.157Z"
   },
   {
    "duration": 12,
    "start_time": "2025-04-01T08:40:29.215Z"
   },
   {
    "duration": 16,
    "start_time": "2025-04-01T08:40:29.229Z"
   },
   {
    "duration": 2,
    "start_time": "2025-04-01T08:40:29.247Z"
   },
   {
    "duration": 2,
    "start_time": "2025-04-01T08:40:29.251Z"
   },
   {
    "duration": 2176,
    "start_time": "2025-04-01T08:40:29.255Z"
   },
   {
    "duration": 93,
    "start_time": "2025-04-01T08:40:31.432Z"
   },
   {
    "duration": 22,
    "start_time": "2025-04-01T08:40:31.527Z"
   },
   {
    "duration": 2,
    "start_time": "2025-04-01T08:40:31.566Z"
   },
   {
    "duration": 43,
    "start_time": "2025-04-01T08:40:31.570Z"
   },
   {
    "duration": 99,
    "start_time": "2025-04-01T08:40:31.615Z"
   },
   {
    "duration": 3,
    "start_time": "2025-04-01T08:40:31.715Z"
   },
   {
    "duration": 306,
    "start_time": "2025-04-01T08:40:31.720Z"
   },
   {
    "duration": 40,
    "start_time": "2025-04-01T08:40:32.028Z"
   },
   {
    "duration": 3,
    "start_time": "2025-04-01T08:40:32.070Z"
   },
   {
    "duration": 9,
    "start_time": "2025-04-01T08:40:32.074Z"
   },
   {
    "duration": 23,
    "start_time": "2025-04-01T08:40:32.085Z"
   },
   {
    "duration": 195,
    "start_time": "2025-04-01T08:40:32.109Z"
   },
   {
    "duration": 17,
    "start_time": "2025-04-01T08:40:32.305Z"
   },
   {
    "duration": 25,
    "start_time": "2025-04-01T08:40:32.324Z"
   },
   {
    "duration": 3,
    "start_time": "2025-04-01T08:40:32.351Z"
   },
   {
    "duration": 7,
    "start_time": "2025-04-01T08:40:32.356Z"
   },
   {
    "duration": 197,
    "start_time": "2025-04-01T08:40:32.365Z"
   },
   {
    "duration": 20,
    "start_time": "2025-04-01T08:40:32.564Z"
   },
   {
    "duration": 7,
    "start_time": "2025-04-01T08:40:32.585Z"
   },
   {
    "duration": 10,
    "start_time": "2025-04-01T08:40:32.594Z"
   },
   {
    "duration": 10,
    "start_time": "2025-04-01T08:40:32.608Z"
   },
   {
    "duration": 25,
    "start_time": "2025-04-01T08:40:32.620Z"
   },
   {
    "duration": 113,
    "start_time": "2025-04-01T08:40:32.647Z"
   },
   {
    "duration": 15,
    "start_time": "2025-04-01T08:40:32.762Z"
   },
   {
    "duration": 42,
    "start_time": "2025-04-01T08:40:32.779Z"
   },
   {
    "duration": 29,
    "start_time": "2025-04-01T08:40:32.823Z"
   },
   {
    "duration": 3,
    "start_time": "2025-04-01T08:40:32.854Z"
   },
   {
    "duration": 85,
    "start_time": "2025-04-01T08:40:32.858Z"
   },
   {
    "duration": 2,
    "start_time": "2025-04-01T08:40:32.945Z"
   },
   {
    "duration": 141,
    "start_time": "2025-04-01T08:40:32.949Z"
   },
   {
    "duration": 71,
    "start_time": "2025-04-01T08:40:33.092Z"
   },
   {
    "duration": 3,
    "start_time": "2025-04-01T08:40:33.165Z"
   },
   {
    "duration": 69,
    "start_time": "2025-04-01T08:40:33.170Z"
   },
   {
    "duration": 19,
    "start_time": "2025-04-01T08:40:33.241Z"
   },
   {
    "duration": 15,
    "start_time": "2025-04-01T08:40:33.262Z"
   },
   {
    "duration": 2,
    "start_time": "2025-04-01T08:40:33.279Z"
   },
   {
    "duration": 7,
    "start_time": "2025-04-01T08:40:33.283Z"
   },
   {
    "duration": 8,
    "start_time": "2025-04-01T08:40:33.292Z"
   },
   {
    "duration": 19,
    "start_time": "2025-04-01T08:40:33.302Z"
   },
   {
    "duration": 75,
    "start_time": "2025-04-01T08:40:33.323Z"
   },
   {
    "duration": 69,
    "start_time": "2025-04-01T08:40:33.400Z"
   },
   {
    "duration": 3,
    "start_time": "2025-04-01T08:40:33.471Z"
   },
   {
    "duration": 28,
    "start_time": "2025-04-01T08:40:33.476Z"
   },
   {
    "duration": 28,
    "start_time": "2025-04-01T08:40:33.506Z"
   },
   {
    "duration": 2,
    "start_time": "2025-04-01T08:40:33.536Z"
   },
   {
    "duration": 14,
    "start_time": "2025-04-01T08:40:33.564Z"
   },
   {
    "duration": 14,
    "start_time": "2025-04-01T08:40:33.580Z"
   },
   {
    "duration": 8,
    "start_time": "2025-04-01T08:40:33.595Z"
   },
   {
    "duration": 28,
    "start_time": "2025-04-01T08:40:33.605Z"
   },
   {
    "duration": 97,
    "start_time": "2025-04-01T08:40:33.635Z"
   },
   {
    "duration": 15,
    "start_time": "2025-04-01T08:40:33.734Z"
   },
   {
    "duration": 93,
    "start_time": "2025-04-01T08:40:33.750Z"
   },
   {
    "duration": 55,
    "start_time": "2025-04-01T08:40:33.845Z"
   },
   {
    "duration": 11,
    "start_time": "2025-04-01T08:40:33.902Z"
   },
   {
    "duration": 30,
    "start_time": "2025-04-01T08:40:33.914Z"
   },
   {
    "duration": 4,
    "start_time": "2025-04-01T08:40:33.945Z"
   },
   {
    "duration": 169,
    "start_time": "2025-04-01T08:40:33.951Z"
   },
   {
    "duration": 95,
    "start_time": "2025-04-01T08:40:34.121Z"
   },
   {
    "duration": 30,
    "start_time": "2025-04-01T08:40:34.218Z"
   },
   {
    "duration": 49,
    "start_time": "2025-04-01T08:40:34.249Z"
   },
   {
    "duration": 2,
    "start_time": "2025-04-01T08:40:34.300Z"
   },
   {
    "duration": 65,
    "start_time": "2025-04-01T08:40:34.304Z"
   },
   {
    "duration": 2,
    "start_time": "2025-04-01T08:40:34.371Z"
   },
   {
    "duration": 19,
    "start_time": "2025-04-01T08:40:34.374Z"
   },
   {
    "duration": 12,
    "start_time": "2025-04-01T08:40:34.395Z"
   },
   {
    "duration": 18,
    "start_time": "2025-04-01T08:40:34.408Z"
   },
   {
    "duration": 39,
    "start_time": "2025-04-01T08:40:34.428Z"
   },
   {
    "duration": 7,
    "start_time": "2025-04-01T08:40:34.469Z"
   },
   {
    "duration": 5,
    "start_time": "2025-04-01T08:40:34.477Z"
   },
   {
    "duration": 29,
    "start_time": "2025-04-01T08:40:34.483Z"
   },
   {
    "duration": 57,
    "start_time": "2025-04-01T08:40:34.514Z"
   },
   {
    "duration": 14,
    "start_time": "2025-04-01T08:40:34.573Z"
   },
   {
    "duration": 3,
    "start_time": "2025-04-01T08:40:34.589Z"
   },
   {
    "duration": 50,
    "start_time": "2025-04-01T08:40:34.593Z"
   },
   {
    "duration": 112,
    "start_time": "2025-04-01T08:40:34.666Z"
   },
   {
    "duration": 48,
    "start_time": "2025-04-01T08:40:34.780Z"
   },
   {
    "duration": 53,
    "start_time": "2025-04-01T08:40:34.830Z"
   },
   {
    "duration": 2,
    "start_time": "2025-04-01T08:40:34.884Z"
   },
   {
    "duration": 108,
    "start_time": "2025-04-01T08:40:34.888Z"
   },
   {
    "duration": 20,
    "start_time": "2025-04-01T08:40:34.998Z"
   },
   {
    "duration": 409,
    "start_time": "2025-04-01T08:40:35.020Z"
   },
   {
    "duration": 205,
    "start_time": "2025-04-01T08:40:35.431Z"
   },
   {
    "duration": 8,
    "start_time": "2025-04-01T08:40:35.637Z"
   },
   {
    "duration": 173,
    "start_time": "2025-04-01T08:40:35.646Z"
   },
   {
    "duration": 5035,
    "start_time": "2025-04-01T08:40:35.821Z"
   },
   {
    "duration": 112,
    "start_time": "2025-04-01T08:40:40.857Z"
   },
   {
    "duration": 106,
    "start_time": "2025-04-01T08:40:40.971Z"
   },
   {
    "duration": 9,
    "start_time": "2025-04-01T08:40:41.079Z"
   },
   {
    "duration": 166,
    "start_time": "2025-04-01T08:40:41.089Z"
   },
   {
    "duration": 246,
    "start_time": "2025-04-01T08:47:49.013Z"
   },
   {
    "duration": 3818,
    "start_time": "2025-04-01T08:48:04.268Z"
   },
   {
    "duration": 36,
    "start_time": "2025-04-01T08:48:08.088Z"
   },
   {
    "duration": 11,
    "start_time": "2025-04-01T08:48:08.126Z"
   },
   {
    "duration": 27,
    "start_time": "2025-04-01T08:48:08.138Z"
   },
   {
    "duration": 17,
    "start_time": "2025-04-01T08:48:08.167Z"
   },
   {
    "duration": 12,
    "start_time": "2025-04-01T08:48:08.185Z"
   },
   {
    "duration": 920,
    "start_time": "2025-04-01T08:48:08.199Z"
   },
   {
    "duration": 88,
    "start_time": "2025-04-01T08:48:09.121Z"
   },
   {
    "duration": 20,
    "start_time": "2025-04-01T08:48:09.210Z"
   },
   {
    "duration": 38,
    "start_time": "2025-04-01T08:48:09.232Z"
   },
   {
    "duration": 39,
    "start_time": "2025-04-01T08:48:09.271Z"
   },
   {
    "duration": 83,
    "start_time": "2025-04-01T08:48:09.311Z"
   },
   {
    "duration": 1,
    "start_time": "2025-04-01T08:48:09.396Z"
   },
   {
    "duration": 284,
    "start_time": "2025-04-01T08:48:09.400Z"
   },
   {
    "duration": 30,
    "start_time": "2025-04-01T08:48:09.686Z"
   },
   {
    "duration": 47,
    "start_time": "2025-04-01T08:48:09.717Z"
   },
   {
    "duration": 19,
    "start_time": "2025-04-01T08:48:09.765Z"
   },
   {
    "duration": 3,
    "start_time": "2025-04-01T08:48:09.786Z"
   },
   {
    "duration": 273,
    "start_time": "2025-04-01T08:48:09.791Z"
   },
   {
    "duration": 16,
    "start_time": "2025-04-01T08:48:10.066Z"
   },
   {
    "duration": 16,
    "start_time": "2025-04-01T08:48:10.083Z"
   },
   {
    "duration": 5,
    "start_time": "2025-04-01T08:48:10.101Z"
   },
   {
    "duration": 10,
    "start_time": "2025-04-01T08:48:10.108Z"
   },
   {
    "duration": 205,
    "start_time": "2025-04-01T08:48:10.120Z"
   },
   {
    "duration": 19,
    "start_time": "2025-04-01T08:48:10.327Z"
   },
   {
    "duration": 6,
    "start_time": "2025-04-01T08:48:10.348Z"
   },
   {
    "duration": 2,
    "start_time": "2025-04-01T08:48:10.363Z"
   },
   {
    "duration": 11,
    "start_time": "2025-04-01T08:48:10.366Z"
   },
   {
    "duration": 10,
    "start_time": "2025-04-01T08:48:10.378Z"
   },
   {
    "duration": 18,
    "start_time": "2025-04-01T08:48:10.390Z"
   },
   {
    "duration": 7,
    "start_time": "2025-04-01T08:48:10.409Z"
   },
   {
    "duration": 13,
    "start_time": "2025-04-01T08:48:10.417Z"
   },
   {
    "duration": 23,
    "start_time": "2025-04-01T08:48:10.432Z"
   },
   {
    "duration": 4,
    "start_time": "2025-04-01T08:48:10.457Z"
   },
   {
    "duration": 89,
    "start_time": "2025-04-01T08:48:10.462Z"
   },
   {
    "duration": 2,
    "start_time": "2025-04-01T08:48:10.553Z"
   },
   {
    "duration": 145,
    "start_time": "2025-04-01T08:48:10.556Z"
   },
   {
    "duration": 73,
    "start_time": "2025-04-01T08:48:10.702Z"
   },
   {
    "duration": 5,
    "start_time": "2025-04-01T08:48:10.776Z"
   },
   {
    "duration": 26,
    "start_time": "2025-04-01T08:48:10.782Z"
   },
   {
    "duration": 20,
    "start_time": "2025-04-01T08:48:10.813Z"
   },
   {
    "duration": 19,
    "start_time": "2025-04-01T08:48:10.834Z"
   },
   {
    "duration": 10,
    "start_time": "2025-04-01T08:48:10.854Z"
   },
   {
    "duration": 8,
    "start_time": "2025-04-01T08:48:10.865Z"
   },
   {
    "duration": 6,
    "start_time": "2025-04-01T08:48:10.874Z"
   },
   {
    "duration": 3,
    "start_time": "2025-04-01T08:48:10.881Z"
   },
   {
    "duration": 79,
    "start_time": "2025-04-01T08:48:10.885Z"
   },
   {
    "duration": 61,
    "start_time": "2025-04-01T08:48:10.965Z"
   },
   {
    "duration": 2,
    "start_time": "2025-04-01T08:48:11.027Z"
   },
   {
    "duration": 120,
    "start_time": "2025-04-01T08:48:11.030Z"
   },
   {
    "duration": 28,
    "start_time": "2025-04-01T08:48:11.152Z"
   },
   {
    "duration": 90,
    "start_time": "2025-04-01T08:48:11.181Z"
   },
   {
    "duration": 14,
    "start_time": "2025-04-01T08:48:11.272Z"
   },
   {
    "duration": 9,
    "start_time": "2025-04-01T08:48:11.288Z"
   },
   {
    "duration": 5,
    "start_time": "2025-04-01T08:48:11.299Z"
   },
   {
    "duration": 20,
    "start_time": "2025-04-01T08:48:11.305Z"
   },
   {
    "duration": 16,
    "start_time": "2025-04-01T08:48:11.326Z"
   },
   {
    "duration": 2,
    "start_time": "2025-04-01T08:48:11.344Z"
   },
   {
    "duration": 104,
    "start_time": "2025-04-01T08:48:11.347Z"
   },
   {
    "duration": 56,
    "start_time": "2025-04-01T08:48:11.453Z"
   },
   {
    "duration": 11,
    "start_time": "2025-04-01T08:48:11.511Z"
   },
   {
    "duration": 10,
    "start_time": "2025-04-01T08:48:11.524Z"
   },
   {
    "duration": 2,
    "start_time": "2025-04-01T08:48:11.536Z"
   },
   {
    "duration": 174,
    "start_time": "2025-04-01T08:48:11.563Z"
   },
   {
    "duration": 89,
    "start_time": "2025-04-01T08:48:11.739Z"
   },
   {
    "duration": 38,
    "start_time": "2025-04-01T08:48:11.830Z"
   },
   {
    "duration": 36,
    "start_time": "2025-04-01T08:48:11.869Z"
   },
   {
    "duration": 2,
    "start_time": "2025-04-01T08:48:11.907Z"
   },
   {
    "duration": 53,
    "start_time": "2025-04-01T08:48:11.910Z"
   },
   {
    "duration": 2,
    "start_time": "2025-04-01T08:48:11.964Z"
   },
   {
    "duration": 18,
    "start_time": "2025-04-01T08:48:11.967Z"
   },
   {
    "duration": 12,
    "start_time": "2025-04-01T08:48:11.986Z"
   },
   {
    "duration": 15,
    "start_time": "2025-04-01T08:48:11.999Z"
   },
   {
    "duration": 12,
    "start_time": "2025-04-01T08:48:12.015Z"
   },
   {
    "duration": 36,
    "start_time": "2025-04-01T08:48:12.028Z"
   },
   {
    "duration": 2,
    "start_time": "2025-04-01T08:48:12.066Z"
   },
   {
    "duration": 29,
    "start_time": "2025-04-01T08:48:12.069Z"
   },
   {
    "duration": 33,
    "start_time": "2025-04-01T08:48:12.099Z"
   },
   {
    "duration": 35,
    "start_time": "2025-04-01T08:48:12.133Z"
   },
   {
    "duration": 2,
    "start_time": "2025-04-01T08:48:12.169Z"
   },
   {
    "duration": 45,
    "start_time": "2025-04-01T08:48:12.173Z"
   },
   {
    "duration": 92,
    "start_time": "2025-04-01T08:48:12.219Z"
   },
   {
    "duration": 51,
    "start_time": "2025-04-01T08:48:12.313Z"
   },
   {
    "duration": 39,
    "start_time": "2025-04-01T08:48:12.365Z"
   },
   {
    "duration": 10,
    "start_time": "2025-04-01T08:48:12.405Z"
   },
   {
    "duration": 91,
    "start_time": "2025-04-01T08:48:12.416Z"
   },
   {
    "duration": 13,
    "start_time": "2025-04-01T08:48:12.508Z"
   },
   {
    "duration": 321,
    "start_time": "2025-04-01T08:48:12.523Z"
   },
   {
    "duration": 175,
    "start_time": "2025-04-01T08:48:12.845Z"
   },
   {
    "duration": 7,
    "start_time": "2025-04-01T08:48:13.021Z"
   },
   {
    "duration": 170,
    "start_time": "2025-04-01T08:48:13.030Z"
   },
   {
    "duration": 4470,
    "start_time": "2025-04-01T08:48:13.202Z"
   },
   {
    "duration": 114,
    "start_time": "2025-04-01T08:48:17.673Z"
   },
   {
    "duration": 113,
    "start_time": "2025-04-01T08:48:17.789Z"
   },
   {
    "duration": 9,
    "start_time": "2025-04-01T08:48:17.904Z"
   },
   {
    "duration": 271,
    "start_time": "2025-04-01T08:48:17.914Z"
   },
   {
    "duration": 160,
    "start_time": "2025-04-01T09:02:40.305Z"
   },
   {
    "duration": 9,
    "start_time": "2025-04-01T09:08:35.547Z"
   },
   {
    "duration": 175,
    "start_time": "2025-04-01T09:08:44.689Z"
   },
   {
    "duration": 173,
    "start_time": "2025-04-01T09:08:56.778Z"
   },
   {
    "duration": 160,
    "start_time": "2025-04-01T10:09:59.637Z"
   },
   {
    "duration": 11,
    "start_time": "2025-04-01T10:11:14.629Z"
   },
   {
    "duration": 9,
    "start_time": "2025-04-01T10:11:30.518Z"
   },
   {
    "duration": 9,
    "start_time": "2025-04-01T10:13:39.258Z"
   },
   {
    "duration": 7,
    "start_time": "2025-04-01T10:14:03.729Z"
   },
   {
    "duration": 20,
    "start_time": "2025-04-01T10:14:11.496Z"
   },
   {
    "duration": 8,
    "start_time": "2025-04-01T10:14:54.686Z"
   },
   {
    "duration": 8,
    "start_time": "2025-04-01T10:15:09.861Z"
   },
   {
    "duration": 9,
    "start_time": "2025-04-01T10:23:04.429Z"
   },
   {
    "duration": 9,
    "start_time": "2025-04-01T10:23:27.226Z"
   },
   {
    "duration": 9,
    "start_time": "2025-04-01T10:23:31.236Z"
   },
   {
    "duration": 10,
    "start_time": "2025-04-01T10:23:36.000Z"
   },
   {
    "duration": 10,
    "start_time": "2025-04-01T10:23:42.936Z"
   },
   {
    "duration": 9,
    "start_time": "2025-04-01T10:26:28.173Z"
   },
   {
    "duration": 3868,
    "start_time": "2025-04-01T10:29:49.237Z"
   },
   {
    "duration": 96,
    "start_time": "2025-04-01T10:29:53.107Z"
   },
   {
    "duration": 12,
    "start_time": "2025-04-01T10:29:53.204Z"
   },
   {
    "duration": 12,
    "start_time": "2025-04-01T10:29:53.217Z"
   },
   {
    "duration": 2,
    "start_time": "2025-04-01T10:29:53.231Z"
   },
   {
    "duration": 4,
    "start_time": "2025-04-01T10:29:53.235Z"
   },
   {
    "duration": 1016,
    "start_time": "2025-04-01T10:29:53.241Z"
   },
   {
    "duration": 84,
    "start_time": "2025-04-01T10:29:54.260Z"
   },
   {
    "duration": 34,
    "start_time": "2025-04-01T10:29:54.346Z"
   },
   {
    "duration": 15,
    "start_time": "2025-04-01T10:29:54.382Z"
   },
   {
    "duration": 72,
    "start_time": "2025-04-01T10:29:54.398Z"
   },
   {
    "duration": 91,
    "start_time": "2025-04-01T10:29:54.472Z"
   },
   {
    "duration": 2,
    "start_time": "2025-04-01T10:29:54.565Z"
   },
   {
    "duration": 333,
    "start_time": "2025-04-01T10:29:54.571Z"
   },
   {
    "duration": 36,
    "start_time": "2025-04-01T10:29:54.905Z"
   },
   {
    "duration": 3,
    "start_time": "2025-04-01T10:29:54.943Z"
   },
   {
    "duration": 10,
    "start_time": "2025-04-01T10:29:54.963Z"
   },
   {
    "duration": 3,
    "start_time": "2025-04-01T10:29:54.975Z"
   },
   {
    "duration": 203,
    "start_time": "2025-04-01T10:29:54.980Z"
   },
   {
    "duration": 20,
    "start_time": "2025-04-01T10:29:55.185Z"
   },
   {
    "duration": 7,
    "start_time": "2025-04-01T10:29:55.207Z"
   },
   {
    "duration": 5,
    "start_time": "2025-04-01T10:29:55.215Z"
   },
   {
    "duration": 5,
    "start_time": "2025-04-01T10:29:55.221Z"
   },
   {
    "duration": 247,
    "start_time": "2025-04-01T10:29:55.227Z"
   },
   {
    "duration": 20,
    "start_time": "2025-04-01T10:29:55.476Z"
   },
   {
    "duration": 19,
    "start_time": "2025-04-01T10:29:55.498Z"
   },
   {
    "duration": 3,
    "start_time": "2025-04-01T10:29:55.519Z"
   },
   {
    "duration": 6,
    "start_time": "2025-04-01T10:29:55.523Z"
   },
   {
    "duration": 18,
    "start_time": "2025-04-01T10:29:55.530Z"
   },
   {
    "duration": 3,
    "start_time": "2025-04-01T10:29:55.549Z"
   },
   {
    "duration": 16,
    "start_time": "2025-04-01T10:29:55.553Z"
   },
   {
    "duration": 18,
    "start_time": "2025-04-01T10:29:55.571Z"
   },
   {
    "duration": 9,
    "start_time": "2025-04-01T10:29:55.590Z"
   },
   {
    "duration": 2,
    "start_time": "2025-04-01T10:29:55.601Z"
   },
   {
    "duration": 100,
    "start_time": "2025-04-01T10:29:55.604Z"
   },
   {
    "duration": 2,
    "start_time": "2025-04-01T10:29:55.706Z"
   },
   {
    "duration": 172,
    "start_time": "2025-04-01T10:29:55.709Z"
   },
   {
    "duration": 65,
    "start_time": "2025-04-01T10:29:55.883Z"
   },
   {
    "duration": 2,
    "start_time": "2025-04-01T10:29:55.949Z"
   },
   {
    "duration": 24,
    "start_time": "2025-04-01T10:29:55.963Z"
   },
   {
    "duration": 18,
    "start_time": "2025-04-01T10:29:55.991Z"
   },
   {
    "duration": 99,
    "start_time": "2025-04-01T10:29:56.011Z"
   },
   {
    "duration": 24,
    "start_time": "2025-04-01T10:29:56.111Z"
   },
   {
    "duration": 31,
    "start_time": "2025-04-01T10:29:56.136Z"
   },
   {
    "duration": 6,
    "start_time": "2025-04-01T10:29:56.169Z"
   },
   {
    "duration": 2,
    "start_time": "2025-04-01T10:29:56.177Z"
   },
   {
    "duration": 68,
    "start_time": "2025-04-01T10:29:56.181Z"
   },
   {
    "duration": 64,
    "start_time": "2025-04-01T10:29:56.262Z"
   },
   {
    "duration": 2,
    "start_time": "2025-04-01T10:29:56.328Z"
   },
   {
    "duration": 43,
    "start_time": "2025-04-01T10:29:56.331Z"
   },
   {
    "duration": 29,
    "start_time": "2025-04-01T10:29:56.376Z"
   },
   {
    "duration": 2,
    "start_time": "2025-04-01T10:29:56.407Z"
   },
   {
    "duration": 31,
    "start_time": "2025-04-01T10:29:56.410Z"
   },
   {
    "duration": 10,
    "start_time": "2025-04-01T10:29:56.443Z"
   },
   {
    "duration": 14,
    "start_time": "2025-04-01T10:29:56.455Z"
   },
   {
    "duration": 22,
    "start_time": "2025-04-01T10:29:56.471Z"
   },
   {
    "duration": 17,
    "start_time": "2025-04-01T10:29:56.495Z"
   },
   {
    "duration": 23,
    "start_time": "2025-04-01T10:29:56.513Z"
   },
   {
    "duration": 120,
    "start_time": "2025-04-01T10:29:56.537Z"
   },
   {
    "duration": 52,
    "start_time": "2025-04-01T10:29:56.662Z"
   },
   {
    "duration": 12,
    "start_time": "2025-04-01T10:29:56.715Z"
   },
   {
    "duration": 22,
    "start_time": "2025-04-01T10:29:56.729Z"
   },
   {
    "duration": 16,
    "start_time": "2025-04-01T10:29:56.753Z"
   },
   {
    "duration": 183,
    "start_time": "2025-04-01T10:29:56.770Z"
   },
   {
    "duration": 92,
    "start_time": "2025-04-01T10:29:56.963Z"
   },
   {
    "duration": 33,
    "start_time": "2025-04-01T10:29:57.063Z"
   },
   {
    "duration": 102,
    "start_time": "2025-04-01T10:29:57.098Z"
   },
   {
    "duration": 2,
    "start_time": "2025-04-01T10:29:57.202Z"
   },
   {
    "duration": 47,
    "start_time": "2025-04-01T10:29:57.206Z"
   },
   {
    "duration": 3,
    "start_time": "2025-04-01T10:29:57.262Z"
   },
   {
    "duration": 34,
    "start_time": "2025-04-01T10:29:57.267Z"
   },
   {
    "duration": 11,
    "start_time": "2025-04-01T10:29:57.303Z"
   },
   {
    "duration": 48,
    "start_time": "2025-04-01T10:29:57.316Z"
   },
   {
    "duration": 14,
    "start_time": "2025-04-01T10:29:57.365Z"
   },
   {
    "duration": 7,
    "start_time": "2025-04-01T10:29:57.380Z"
   },
   {
    "duration": 4,
    "start_time": "2025-04-01T10:29:57.389Z"
   },
   {
    "duration": 28,
    "start_time": "2025-04-01T10:29:57.394Z"
   },
   {
    "duration": 53,
    "start_time": "2025-04-01T10:29:57.423Z"
   },
   {
    "duration": 15,
    "start_time": "2025-04-01T10:29:57.477Z"
   },
   {
    "duration": 73,
    "start_time": "2025-04-01T10:29:57.494Z"
   },
   {
    "duration": 39,
    "start_time": "2025-04-01T10:29:57.569Z"
   },
   {
    "duration": 87,
    "start_time": "2025-04-01T10:29:57.610Z"
   },
   {
    "duration": 47,
    "start_time": "2025-04-01T10:29:57.699Z"
   },
   {
    "duration": 46,
    "start_time": "2025-04-01T10:29:57.763Z"
   },
   {
    "duration": 14,
    "start_time": "2025-04-01T10:29:57.810Z"
   },
   {
    "duration": 87,
    "start_time": "2025-04-01T10:29:57.825Z"
   },
   {
    "duration": 15,
    "start_time": "2025-04-01T10:29:57.913Z"
   },
   {
    "duration": 340,
    "start_time": "2025-04-01T10:29:57.929Z"
   },
   {
    "duration": 204,
    "start_time": "2025-04-01T10:29:58.270Z"
   },
   {
    "duration": 8,
    "start_time": "2025-04-01T10:29:58.476Z"
   },
   {
    "duration": 87,
    "start_time": "2025-04-01T10:29:58.485Z"
   },
   {
    "duration": 4334,
    "start_time": "2025-04-01T10:29:58.574Z"
   },
   {
    "duration": 121,
    "start_time": "2025-04-01T10:30:02.910Z"
   },
   {
    "duration": 115,
    "start_time": "2025-04-01T10:30:03.033Z"
   },
   {
    "duration": 17,
    "start_time": "2025-04-01T10:30:03.150Z"
   },
   {
    "duration": 173,
    "start_time": "2025-04-01T10:30:03.168Z"
   },
   {
    "duration": 4016,
    "start_time": "2025-04-01T10:50:38.042Z"
   },
   {
    "duration": 45,
    "start_time": "2025-04-01T10:50:42.060Z"
   },
   {
    "duration": 13,
    "start_time": "2025-04-01T10:50:42.107Z"
   },
   {
    "duration": 38,
    "start_time": "2025-04-01T10:50:42.122Z"
   },
   {
    "duration": 3,
    "start_time": "2025-04-01T10:50:42.162Z"
   },
   {
    "duration": 6,
    "start_time": "2025-04-01T10:50:42.166Z"
   },
   {
    "duration": 1129,
    "start_time": "2025-04-01T10:50:42.173Z"
   },
   {
    "duration": 94,
    "start_time": "2025-04-01T10:50:43.303Z"
   },
   {
    "duration": 22,
    "start_time": "2025-04-01T10:50:43.398Z"
   },
   {
    "duration": 14,
    "start_time": "2025-04-01T10:50:43.423Z"
   },
   {
    "duration": 52,
    "start_time": "2025-04-01T10:50:43.438Z"
   },
   {
    "duration": 107,
    "start_time": "2025-04-01T10:50:43.492Z"
   },
   {
    "duration": 3,
    "start_time": "2025-04-01T10:50:43.600Z"
   },
   {
    "duration": 767,
    "start_time": "2025-04-01T10:50:43.604Z"
   },
   {
    "duration": 32,
    "start_time": "2025-04-01T10:50:44.373Z"
   },
   {
    "duration": 3,
    "start_time": "2025-04-01T10:50:44.407Z"
   },
   {
    "duration": 30,
    "start_time": "2025-04-01T10:50:44.411Z"
   },
   {
    "duration": 4,
    "start_time": "2025-04-01T10:50:44.443Z"
   },
   {
    "duration": 234,
    "start_time": "2025-04-01T10:50:44.449Z"
   },
   {
    "duration": 24,
    "start_time": "2025-04-01T10:50:44.685Z"
   },
   {
    "duration": 14,
    "start_time": "2025-04-01T10:50:44.711Z"
   },
   {
    "duration": 4,
    "start_time": "2025-04-01T10:50:44.728Z"
   },
   {
    "duration": 7,
    "start_time": "2025-04-01T10:50:44.734Z"
   },
   {
    "duration": 298,
    "start_time": "2025-04-01T10:50:44.743Z"
   },
   {
    "duration": 25,
    "start_time": "2025-04-01T10:50:45.044Z"
   },
   {
    "duration": 38,
    "start_time": "2025-04-01T10:50:45.071Z"
   },
   {
    "duration": 8,
    "start_time": "2025-04-01T10:50:45.111Z"
   },
   {
    "duration": 3,
    "start_time": "2025-04-01T10:50:45.124Z"
   },
   {
    "duration": 16,
    "start_time": "2025-04-01T10:50:45.129Z"
   },
   {
    "duration": 3,
    "start_time": "2025-04-01T10:50:45.148Z"
   },
   {
    "duration": 23,
    "start_time": "2025-04-01T10:50:45.153Z"
   },
   {
    "duration": 105,
    "start_time": "2025-04-01T10:50:45.178Z"
   },
   {
    "duration": 18,
    "start_time": "2025-04-01T10:50:45.285Z"
   },
   {
    "duration": 24,
    "start_time": "2025-04-01T10:50:45.305Z"
   },
   {
    "duration": 101,
    "start_time": "2025-04-01T10:50:45.331Z"
   },
   {
    "duration": 2,
    "start_time": "2025-04-01T10:50:45.434Z"
   },
   {
    "duration": 178,
    "start_time": "2025-04-01T10:50:45.438Z"
   },
   {
    "duration": 76,
    "start_time": "2025-04-01T10:50:45.617Z"
   },
   {
    "duration": 25,
    "start_time": "2025-04-01T10:50:45.694Z"
   },
   {
    "duration": 29,
    "start_time": "2025-04-01T10:50:45.721Z"
   },
   {
    "duration": 112,
    "start_time": "2025-04-01T10:50:45.752Z"
   },
   {
    "duration": 23,
    "start_time": "2025-04-01T10:50:45.866Z"
   },
   {
    "duration": 8,
    "start_time": "2025-04-01T10:50:45.891Z"
   },
   {
    "duration": 13,
    "start_time": "2025-04-01T10:50:45.901Z"
   },
   {
    "duration": 14,
    "start_time": "2025-04-01T10:50:45.915Z"
   },
   {
    "duration": 11,
    "start_time": "2025-04-01T10:50:45.930Z"
   },
   {
    "duration": 74,
    "start_time": "2025-04-01T10:50:45.943Z"
   },
   {
    "duration": 71,
    "start_time": "2025-04-01T10:50:46.019Z"
   },
   {
    "duration": 2,
    "start_time": "2025-04-01T10:50:46.092Z"
   },
   {
    "duration": 170,
    "start_time": "2025-04-01T10:50:46.096Z"
   },
   {
    "duration": 29,
    "start_time": "2025-04-01T10:50:46.268Z"
   },
   {
    "duration": 3,
    "start_time": "2025-04-01T10:50:46.298Z"
   },
   {
    "duration": 19,
    "start_time": "2025-04-01T10:50:46.302Z"
   },
   {
    "duration": 15,
    "start_time": "2025-04-01T10:50:46.322Z"
   },
   {
    "duration": 5,
    "start_time": "2025-04-01T10:50:46.339Z"
   },
   {
    "duration": 17,
    "start_time": "2025-04-01T10:50:46.363Z"
   },
   {
    "duration": 34,
    "start_time": "2025-04-01T10:50:46.381Z"
   },
   {
    "duration": 19,
    "start_time": "2025-04-01T10:50:46.417Z"
   },
   {
    "duration": 122,
    "start_time": "2025-04-01T10:50:46.438Z"
   },
   {
    "duration": 54,
    "start_time": "2025-04-01T10:50:46.562Z"
   },
   {
    "duration": 11,
    "start_time": "2025-04-01T10:50:46.618Z"
   },
   {
    "duration": 36,
    "start_time": "2025-04-01T10:50:46.631Z"
   },
   {
    "duration": 20,
    "start_time": "2025-04-01T10:50:46.669Z"
   },
   {
    "duration": 203,
    "start_time": "2025-04-01T10:50:46.691Z"
   },
   {
    "duration": 100,
    "start_time": "2025-04-01T10:50:46.895Z"
   },
   {
    "duration": 30,
    "start_time": "2025-04-01T10:50:46.997Z"
   },
   {
    "duration": 59,
    "start_time": "2025-04-01T10:50:47.029Z"
   },
   {
    "duration": 2,
    "start_time": "2025-04-01T10:50:47.090Z"
   },
   {
    "duration": 88,
    "start_time": "2025-04-01T10:50:47.093Z"
   },
   {
    "duration": 2,
    "start_time": "2025-04-01T10:50:47.183Z"
   },
   {
    "duration": 109,
    "start_time": "2025-04-01T10:50:47.186Z"
   },
   {
    "duration": 14,
    "start_time": "2025-04-01T10:50:47.296Z"
   },
   {
    "duration": 26,
    "start_time": "2025-04-01T10:50:47.311Z"
   },
   {
    "duration": 14,
    "start_time": "2025-04-01T10:50:47.339Z"
   },
   {
    "duration": 25,
    "start_time": "2025-04-01T10:50:47.354Z"
   },
   {
    "duration": 8,
    "start_time": "2025-04-01T10:50:47.380Z"
   },
   {
    "duration": 29,
    "start_time": "2025-04-01T10:50:47.389Z"
   },
   {
    "duration": 43,
    "start_time": "2025-04-01T10:50:47.420Z"
   },
   {
    "duration": 15,
    "start_time": "2025-04-01T10:50:47.465Z"
   },
   {
    "duration": 3,
    "start_time": "2025-04-01T10:50:47.482Z"
   },
   {
    "duration": 50,
    "start_time": "2025-04-01T10:50:47.486Z"
   },
   {
    "duration": 88,
    "start_time": "2025-04-01T10:50:47.562Z"
   },
   {
    "duration": 50,
    "start_time": "2025-04-01T10:50:47.663Z"
   },
   {
    "duration": 74,
    "start_time": "2025-04-01T10:50:47.715Z"
   },
   {
    "duration": 81,
    "start_time": "2025-04-01T10:50:47.791Z"
   },
   {
    "duration": 98,
    "start_time": "2025-04-01T10:50:47.874Z"
   },
   {
    "duration": 15,
    "start_time": "2025-04-01T10:50:47.973Z"
   },
   {
    "duration": 359,
    "start_time": "2025-04-01T10:50:47.989Z"
   },
   {
    "duration": 211,
    "start_time": "2025-04-01T10:50:48.350Z"
   },
   {
    "duration": 9,
    "start_time": "2025-04-01T10:50:48.563Z"
   },
   {
    "duration": 94,
    "start_time": "2025-04-01T10:50:48.573Z"
   },
   {
    "duration": 4623,
    "start_time": "2025-04-01T10:50:48.669Z"
   },
   {
    "duration": 122,
    "start_time": "2025-04-01T10:50:53.293Z"
   },
   {
    "duration": 119,
    "start_time": "2025-04-01T10:50:53.416Z"
   },
   {
    "duration": 10,
    "start_time": "2025-04-01T10:50:53.536Z"
   },
   {
    "duration": 239,
    "start_time": "2025-04-01T10:50:53.562Z"
   },
   {
    "duration": 66,
    "start_time": "2025-04-01T11:11:16.698Z"
   },
   {
    "duration": 60,
    "start_time": "2025-04-01T11:12:01.111Z"
   },
   {
    "duration": 61,
    "start_time": "2025-04-01T11:14:06.145Z"
   },
   {
    "duration": 63,
    "start_time": "2025-04-01T11:14:21.054Z"
   },
   {
    "duration": 107,
    "start_time": "2025-04-01T11:14:46.553Z"
   },
   {
    "duration": 1481,
    "start_time": "2025-04-01T11:15:12.962Z"
   },
   {
    "duration": 33,
    "start_time": "2025-04-01T11:15:30.979Z"
   },
   {
    "duration": 31,
    "start_time": "2025-04-01T11:22:03.287Z"
   },
   {
    "duration": 7,
    "start_time": "2025-04-01T11:22:55.088Z"
   },
   {
    "duration": 9,
    "start_time": "2025-04-01T11:27:14.164Z"
   },
   {
    "duration": 25,
    "start_time": "2025-04-01T11:27:24.693Z"
   },
   {
    "duration": 21,
    "start_time": "2025-04-01T11:28:54.235Z"
   },
   {
    "duration": 23,
    "start_time": "2025-04-01T11:29:21.544Z"
   },
   {
    "duration": 8,
    "start_time": "2025-04-01T11:29:50.770Z"
   },
   {
    "duration": 155,
    "start_time": "2025-04-01T11:29:54.206Z"
   },
   {
    "duration": 31,
    "start_time": "2025-04-01T11:30:00.367Z"
   },
   {
    "duration": 12,
    "start_time": "2025-04-01T11:50:08.121Z"
   },
   {
    "duration": 9,
    "start_time": "2025-04-01T11:51:59.278Z"
   },
   {
    "duration": 10,
    "start_time": "2025-04-01T12:01:56.197Z"
   },
   {
    "duration": 9,
    "start_time": "2025-04-01T12:03:01.195Z"
   },
   {
    "duration": 9,
    "start_time": "2025-04-01T12:07:47.626Z"
   },
   {
    "duration": 37,
    "start_time": "2025-04-01T12:07:53.406Z"
   },
   {
    "duration": 8,
    "start_time": "2025-04-01T12:08:05.934Z"
   },
   {
    "duration": 8,
    "start_time": "2025-04-01T12:08:32.867Z"
   },
   {
    "duration": 35,
    "start_time": "2025-04-01T12:12:12.295Z"
   },
   {
    "duration": 4,
    "start_time": "2025-04-01T12:27:45.371Z"
   },
   {
    "duration": 12,
    "start_time": "2025-04-01T12:27:46.300Z"
   },
   {
    "duration": 185,
    "start_time": "2025-04-01T12:27:48.942Z"
   },
   {
    "duration": 33,
    "start_time": "2025-04-01T12:27:55.292Z"
   },
   {
    "duration": 9,
    "start_time": "2025-04-01T12:27:57.773Z"
   },
   {
    "duration": 7,
    "start_time": "2025-04-01T12:27:58.375Z"
   },
   {
    "duration": 2,
    "start_time": "2025-04-01T12:28:27.124Z"
   },
   {
    "duration": 31,
    "start_time": "2025-04-01T12:29:06.633Z"
   },
   {
    "duration": 10,
    "start_time": "2025-04-01T12:29:10.771Z"
   },
   {
    "duration": 10,
    "start_time": "2025-04-01T12:29:10.957Z"
   },
   {
    "duration": 16,
    "start_time": "2025-04-01T12:32:22.128Z"
   },
   {
    "duration": 16,
    "start_time": "2025-04-01T12:33:14.088Z"
   },
   {
    "duration": 17,
    "start_time": "2025-04-01T12:34:00.356Z"
   },
   {
    "duration": 1414,
    "start_time": "2025-04-01T12:35:58.582Z"
   },
   {
    "duration": 1291,
    "start_time": "2025-04-01T12:37:16.476Z"
   },
   {
    "duration": 4,
    "start_time": "2025-04-01T12:37:27.646Z"
   },
   {
    "duration": 13,
    "start_time": "2025-04-01T12:38:01.084Z"
   },
   {
    "duration": 3,
    "start_time": "2025-04-01T12:39:32.056Z"
   },
   {
    "duration": 6,
    "start_time": "2025-04-01T12:39:54.686Z"
   },
   {
    "duration": 19,
    "start_time": "2025-04-01T12:40:09.261Z"
   },
   {
    "duration": 12,
    "start_time": "2025-04-01T12:40:14.399Z"
   },
   {
    "duration": 6,
    "start_time": "2025-04-01T12:40:35.061Z"
   },
   {
    "duration": 977,
    "start_time": "2025-04-01T12:40:55.435Z"
   },
   {
    "duration": 8,
    "start_time": "2025-04-01T12:42:51.886Z"
   },
   {
    "duration": 9,
    "start_time": "2025-04-01T12:43:04.430Z"
   },
   {
    "duration": 5,
    "start_time": "2025-04-01T12:43:09.661Z"
   },
   {
    "duration": 9,
    "start_time": "2025-04-01T12:43:11.275Z"
   },
   {
    "duration": 5,
    "start_time": "2025-04-01T12:43:14.727Z"
   },
   {
    "duration": 17,
    "start_time": "2025-04-01T12:43:17.681Z"
   },
   {
    "duration": 10,
    "start_time": "2025-04-01T12:43:21.092Z"
   },
   {
    "duration": 15,
    "start_time": "2025-04-01T12:43:24.747Z"
   },
   {
    "duration": 10,
    "start_time": "2025-04-01T12:44:12.661Z"
   },
   {
    "duration": 83,
    "start_time": "2025-04-01T12:49:40.318Z"
   },
   {
    "duration": 11,
    "start_time": "2025-04-01T12:49:49.386Z"
   },
   {
    "duration": 16,
    "start_time": "2025-04-01T12:50:16.432Z"
   },
   {
    "duration": 10,
    "start_time": "2025-04-01T12:50:41.916Z"
   },
   {
    "duration": 9,
    "start_time": "2025-04-01T12:52:27.219Z"
   },
   {
    "duration": 8,
    "start_time": "2025-04-01T14:44:45.219Z"
   },
   {
    "duration": 8,
    "start_time": "2025-04-01T14:45:11.386Z"
   },
   {
    "duration": 9,
    "start_time": "2025-04-01T14:45:23.262Z"
   },
   {
    "duration": 10,
    "start_time": "2025-04-01T14:45:48.757Z"
   },
   {
    "duration": 13,
    "start_time": "2025-04-01T14:48:46.592Z"
   },
   {
    "duration": 20,
    "start_time": "2025-04-01T14:52:57.759Z"
   },
   {
    "duration": 9,
    "start_time": "2025-04-01T14:54:12.797Z"
   },
   {
    "duration": 11,
    "start_time": "2025-04-01T14:54:20.145Z"
   },
   {
    "duration": 8,
    "start_time": "2025-04-01T14:54:21.831Z"
   },
   {
    "duration": 12,
    "start_time": "2025-04-01T14:54:29.269Z"
   },
   {
    "duration": 7,
    "start_time": "2025-04-01T14:58:14.727Z"
   },
   {
    "duration": 8,
    "start_time": "2025-04-01T14:58:20.416Z"
   },
   {
    "duration": 1081,
    "start_time": "2025-04-01T15:22:56.864Z"
   },
   {
    "duration": 9,
    "start_time": "2025-04-01T15:23:06.756Z"
   },
   {
    "duration": 8,
    "start_time": "2025-04-01T15:25:26.026Z"
   },
   {
    "duration": 8,
    "start_time": "2025-04-01T15:25:31.700Z"
   },
   {
    "duration": 8,
    "start_time": "2025-04-01T15:32:24.013Z"
   },
   {
    "duration": 9,
    "start_time": "2025-04-01T16:00:51.267Z"
   },
   {
    "duration": 13,
    "start_time": "2025-04-01T16:00:58.757Z"
   },
   {
    "duration": 7,
    "start_time": "2025-04-01T16:01:01.298Z"
   },
   {
    "duration": 8,
    "start_time": "2025-04-01T16:05:55.091Z"
   },
   {
    "duration": 6,
    "start_time": "2025-04-01T16:06:00.882Z"
   },
   {
    "duration": 163,
    "start_time": "2025-04-01T16:06:01.577Z"
   },
   {
    "duration": 7,
    "start_time": "2025-04-01T16:06:29.476Z"
   },
   {
    "duration": 173,
    "start_time": "2025-04-01T16:06:31.844Z"
   },
   {
    "duration": 15,
    "start_time": "2025-04-01T16:11:35.559Z"
   },
   {
    "duration": 258,
    "start_time": "2025-04-01T16:11:36.676Z"
   },
   {
    "duration": 3933,
    "start_time": "2025-04-01T18:03:41.442Z"
   },
   {
    "duration": 48,
    "start_time": "2025-04-01T18:03:45.377Z"
   },
   {
    "duration": 11,
    "start_time": "2025-04-01T18:03:45.427Z"
   },
   {
    "duration": 17,
    "start_time": "2025-04-01T18:03:45.440Z"
   },
   {
    "duration": 2,
    "start_time": "2025-04-01T18:03:45.459Z"
   },
   {
    "duration": 13,
    "start_time": "2025-04-01T18:03:45.462Z"
   },
   {
    "duration": 980,
    "start_time": "2025-04-01T18:03:45.477Z"
   },
   {
    "duration": 90,
    "start_time": "2025-04-01T18:03:46.458Z"
   },
   {
    "duration": 35,
    "start_time": "2025-04-01T18:03:46.550Z"
   },
   {
    "duration": 2,
    "start_time": "2025-04-01T18:03:46.587Z"
   },
   {
    "duration": 47,
    "start_time": "2025-04-01T18:03:46.590Z"
   },
   {
    "duration": 95,
    "start_time": "2025-04-01T18:03:46.639Z"
   },
   {
    "duration": 2,
    "start_time": "2025-04-01T18:03:46.736Z"
   },
   {
    "duration": 321,
    "start_time": "2025-04-01T18:03:46.741Z"
   },
   {
    "duration": 30,
    "start_time": "2025-04-01T18:03:47.075Z"
   },
   {
    "duration": 2,
    "start_time": "2025-04-01T18:03:47.107Z"
   },
   {
    "duration": 17,
    "start_time": "2025-04-01T18:03:47.111Z"
   },
   {
    "duration": 3,
    "start_time": "2025-04-01T18:03:47.129Z"
   },
   {
    "duration": 164,
    "start_time": "2025-04-01T18:03:47.133Z"
   },
   {
    "duration": 15,
    "start_time": "2025-04-01T18:03:47.299Z"
   },
   {
    "duration": 6,
    "start_time": "2025-04-01T18:03:47.316Z"
   },
   {
    "duration": 2,
    "start_time": "2025-04-01T18:03:47.324Z"
   },
   {
    "duration": 3,
    "start_time": "2025-04-01T18:03:47.327Z"
   },
   {
    "duration": 227,
    "start_time": "2025-04-01T18:03:47.331Z"
   },
   {
    "duration": 32,
    "start_time": "2025-04-01T18:03:47.560Z"
   },
   {
    "duration": 9,
    "start_time": "2025-04-01T18:03:47.593Z"
   },
   {
    "duration": 2,
    "start_time": "2025-04-01T18:03:47.604Z"
   },
   {
    "duration": 4,
    "start_time": "2025-04-01T18:03:47.607Z"
   },
   {
    "duration": 10,
    "start_time": "2025-04-01T18:03:47.612Z"
   },
   {
    "duration": 2,
    "start_time": "2025-04-01T18:03:47.624Z"
   },
   {
    "duration": 52,
    "start_time": "2025-04-01T18:03:47.627Z"
   },
   {
    "duration": 13,
    "start_time": "2025-04-01T18:03:47.680Z"
   },
   {
    "duration": 12,
    "start_time": "2025-04-01T18:03:47.695Z"
   },
   {
    "duration": 3,
    "start_time": "2025-04-01T18:03:47.708Z"
   },
   {
    "duration": 109,
    "start_time": "2025-04-01T18:03:47.713Z"
   },
   {
    "duration": 2,
    "start_time": "2025-04-01T18:03:47.824Z"
   },
   {
    "duration": 222,
    "start_time": "2025-04-01T18:03:47.827Z"
   },
   {
    "duration": 74,
    "start_time": "2025-04-01T18:03:48.051Z"
   },
   {
    "duration": 2,
    "start_time": "2025-04-01T18:03:48.127Z"
   },
   {
    "duration": 24,
    "start_time": "2025-04-01T18:03:48.130Z"
   },
   {
    "duration": 20,
    "start_time": "2025-04-01T18:03:48.167Z"
   },
   {
    "duration": 13,
    "start_time": "2025-04-01T18:03:48.189Z"
   },
   {
    "duration": 2,
    "start_time": "2025-04-01T18:03:48.205Z"
   },
   {
    "duration": 8,
    "start_time": "2025-04-01T18:03:48.209Z"
   },
   {
    "duration": 10,
    "start_time": "2025-04-01T18:03:48.218Z"
   },
   {
    "duration": 3,
    "start_time": "2025-04-01T18:03:48.229Z"
   },
   {
    "duration": 67,
    "start_time": "2025-04-01T18:03:48.264Z"
   },
   {
    "duration": 75,
    "start_time": "2025-04-01T18:03:48.332Z"
   },
   {
    "duration": 3,
    "start_time": "2025-04-01T18:03:48.408Z"
   },
   {
    "duration": 33,
    "start_time": "2025-04-01T18:03:48.413Z"
   },
   {
    "duration": 50,
    "start_time": "2025-04-01T18:03:48.448Z"
   },
   {
    "duration": 3,
    "start_time": "2025-04-01T18:03:48.499Z"
   },
   {
    "duration": 10,
    "start_time": "2025-04-01T18:03:48.503Z"
   },
   {
    "duration": 10,
    "start_time": "2025-04-01T18:03:48.514Z"
   },
   {
    "duration": 12,
    "start_time": "2025-04-01T18:03:48.525Z"
   },
   {
    "duration": 38,
    "start_time": "2025-04-01T18:03:48.538Z"
   },
   {
    "duration": 18,
    "start_time": "2025-04-01T18:03:48.578Z"
   },
   {
    "duration": 3,
    "start_time": "2025-04-01T18:03:48.597Z"
   },
   {
    "duration": 110,
    "start_time": "2025-04-01T18:03:48.601Z"
   },
   {
    "duration": 62,
    "start_time": "2025-04-01T18:03:48.713Z"
   },
   {
    "duration": 10,
    "start_time": "2025-04-01T18:03:48.777Z"
   },
   {
    "duration": 15,
    "start_time": "2025-04-01T18:03:48.788Z"
   },
   {
    "duration": 21,
    "start_time": "2025-04-01T18:03:48.804Z"
   },
   {
    "duration": 179,
    "start_time": "2025-04-01T18:03:48.827Z"
   },
   {
    "duration": 97,
    "start_time": "2025-04-01T18:03:49.007Z"
   },
   {
    "duration": 30,
    "start_time": "2025-04-01T18:03:49.106Z"
   },
   {
    "duration": 58,
    "start_time": "2025-04-01T18:03:49.137Z"
   },
   {
    "duration": 46,
    "start_time": "2025-04-01T18:03:49.196Z"
   },
   {
    "duration": 37,
    "start_time": "2025-04-01T18:03:49.244Z"
   },
   {
    "duration": 2,
    "start_time": "2025-04-01T18:03:49.283Z"
   },
   {
    "duration": 18,
    "start_time": "2025-04-01T18:03:49.286Z"
   },
   {
    "duration": 10,
    "start_time": "2025-04-01T18:03:49.305Z"
   },
   {
    "duration": 18,
    "start_time": "2025-04-01T18:03:49.317Z"
   },
   {
    "duration": 39,
    "start_time": "2025-04-01T18:03:49.337Z"
   },
   {
    "duration": 59,
    "start_time": "2025-04-01T18:03:49.377Z"
   },
   {
    "duration": 7,
    "start_time": "2025-04-01T18:03:49.438Z"
   },
   {
    "duration": 34,
    "start_time": "2025-04-01T18:03:49.446Z"
   },
   {
    "duration": 34,
    "start_time": "2025-04-01T18:03:49.481Z"
   },
   {
    "duration": 15,
    "start_time": "2025-04-01T18:03:49.517Z"
   },
   {
    "duration": 2,
    "start_time": "2025-04-01T18:03:49.533Z"
   },
   {
    "duration": 69,
    "start_time": "2025-04-01T18:03:49.537Z"
   },
   {
    "duration": 95,
    "start_time": "2025-04-01T18:03:49.608Z"
   },
   {
    "duration": 45,
    "start_time": "2025-04-01T18:03:49.705Z"
   },
   {
    "duration": 54,
    "start_time": "2025-04-01T18:03:49.751Z"
   },
   {
    "duration": 109,
    "start_time": "2025-04-01T18:03:49.806Z"
   },
   {
    "duration": 92,
    "start_time": "2025-04-01T18:03:49.916Z"
   },
   {
    "duration": 14,
    "start_time": "2025-04-01T18:03:50.009Z"
   },
   {
    "duration": 351,
    "start_time": "2025-04-01T18:03:50.024Z"
   },
   {
    "duration": 218,
    "start_time": "2025-04-01T18:03:50.377Z"
   },
   {
    "duration": 8,
    "start_time": "2025-04-01T18:03:50.597Z"
   },
   {
    "duration": 91,
    "start_time": "2025-04-01T18:03:50.606Z"
   },
   {
    "duration": 4310,
    "start_time": "2025-04-01T18:03:50.698Z"
   },
   {
    "duration": 128,
    "start_time": "2025-04-01T18:03:55.010Z"
   },
   {
    "duration": 106,
    "start_time": "2025-04-01T18:03:55.140Z"
   },
   {
    "duration": 3,
    "start_time": "2025-04-01T18:03:55.248Z"
   },
   {
    "duration": 25,
    "start_time": "2025-04-01T18:03:55.252Z"
   },
   {
    "duration": 168,
    "start_time": "2025-04-01T18:03:55.278Z"
   },
   {
    "duration": 39,
    "start_time": "2025-04-01T18:03:55.448Z"
   },
   {
    "duration": 8,
    "start_time": "2025-04-01T18:03:55.489Z"
   },
   {
    "duration": 6,
    "start_time": "2025-04-01T18:03:55.498Z"
   },
   {
    "duration": 10,
    "start_time": "2025-04-01T18:03:55.506Z"
   },
   {
    "duration": 16,
    "start_time": "2025-04-01T18:03:55.518Z"
   },
   {
    "duration": 42,
    "start_time": "2025-04-01T18:03:55.535Z"
   },
   {
    "duration": 7,
    "start_time": "2025-04-01T18:03:55.579Z"
   },
   {
    "duration": 8,
    "start_time": "2025-04-01T18:03:55.588Z"
   },
   {
    "duration": 9,
    "start_time": "2025-04-01T18:03:55.598Z"
   },
   {
    "duration": 195,
    "start_time": "2025-04-01T18:03:55.608Z"
   },
   {
    "duration": 4992,
    "start_time": "2025-04-02T11:25:50.035Z"
   },
   {
    "duration": 111,
    "start_time": "2025-04-02T11:25:55.029Z"
   },
   {
    "duration": 12,
    "start_time": "2025-04-02T11:25:55.142Z"
   },
   {
    "duration": 11,
    "start_time": "2025-04-02T11:25:55.155Z"
   },
   {
    "duration": 3,
    "start_time": "2025-04-02T11:25:55.168Z"
   },
   {
    "duration": 7,
    "start_time": "2025-04-02T11:25:55.172Z"
   },
   {
    "duration": 1076,
    "start_time": "2025-04-02T11:25:55.181Z"
   },
   {
    "duration": 102,
    "start_time": "2025-04-02T11:25:56.259Z"
   },
   {
    "duration": 32,
    "start_time": "2025-04-02T11:25:56.363Z"
   },
   {
    "duration": 3,
    "start_time": "2025-04-02T11:25:56.397Z"
   },
   {
    "duration": 40,
    "start_time": "2025-04-02T11:25:56.401Z"
   },
   {
    "duration": 112,
    "start_time": "2025-04-02T11:25:56.442Z"
   },
   {
    "duration": 2,
    "start_time": "2025-04-02T11:25:56.556Z"
   },
   {
    "duration": 338,
    "start_time": "2025-04-02T11:25:56.572Z"
   },
   {
    "duration": 37,
    "start_time": "2025-04-02T11:25:56.911Z"
   },
   {
    "duration": 2,
    "start_time": "2025-04-02T11:25:56.950Z"
   },
   {
    "duration": 37,
    "start_time": "2025-04-02T11:25:56.954Z"
   },
   {
    "duration": 3,
    "start_time": "2025-04-02T11:25:56.993Z"
   },
   {
    "duration": 272,
    "start_time": "2025-04-02T11:25:56.997Z"
   },
   {
    "duration": 19,
    "start_time": "2025-04-02T11:25:57.270Z"
   },
   {
    "duration": 7,
    "start_time": "2025-04-02T11:25:57.291Z"
   },
   {
    "duration": 7,
    "start_time": "2025-04-02T11:25:57.299Z"
   },
   {
    "duration": 4,
    "start_time": "2025-04-02T11:25:57.307Z"
   },
   {
    "duration": 232,
    "start_time": "2025-04-02T11:25:57.313Z"
   },
   {
    "duration": 31,
    "start_time": "2025-04-02T11:25:57.547Z"
   },
   {
    "duration": 8,
    "start_time": "2025-04-02T11:25:57.580Z"
   },
   {
    "duration": 5,
    "start_time": "2025-04-02T11:25:57.589Z"
   },
   {
    "duration": 3,
    "start_time": "2025-04-02T11:25:57.595Z"
   },
   {
    "duration": 10,
    "start_time": "2025-04-02T11:25:57.599Z"
   },
   {
    "duration": 2,
    "start_time": "2025-04-02T11:25:57.611Z"
   },
   {
    "duration": 11,
    "start_time": "2025-04-02T11:25:57.615Z"
   },
   {
    "duration": 14,
    "start_time": "2025-04-02T11:25:57.628Z"
   },
   {
    "duration": 9,
    "start_time": "2025-04-02T11:25:57.673Z"
   },
   {
    "duration": 3,
    "start_time": "2025-04-02T11:25:57.684Z"
   },
   {
    "duration": 110,
    "start_time": "2025-04-02T11:25:57.688Z"
   },
   {
    "duration": 3,
    "start_time": "2025-04-02T11:25:57.800Z"
   },
   {
    "duration": 149,
    "start_time": "2025-04-02T11:25:57.805Z"
   },
   {
    "duration": 86,
    "start_time": "2025-04-02T11:25:57.956Z"
   },
   {
    "duration": 3,
    "start_time": "2025-04-02T11:25:58.044Z"
   },
   {
    "duration": 76,
    "start_time": "2025-04-02T11:25:58.049Z"
   },
   {
    "duration": 20,
    "start_time": "2025-04-02T11:25:58.131Z"
   },
   {
    "duration": 16,
    "start_time": "2025-04-02T11:25:58.153Z"
   },
   {
    "duration": 3,
    "start_time": "2025-04-02T11:25:58.171Z"
   },
   {
    "duration": 14,
    "start_time": "2025-04-02T11:25:58.176Z"
   },
   {
    "duration": 19,
    "start_time": "2025-04-02T11:25:58.192Z"
   },
   {
    "duration": 3,
    "start_time": "2025-04-02T11:25:58.213Z"
   },
   {
    "duration": 80,
    "start_time": "2025-04-02T11:25:58.218Z"
   },
   {
    "duration": 86,
    "start_time": "2025-04-02T11:25:58.300Z"
   },
   {
    "duration": 3,
    "start_time": "2025-04-02T11:25:58.388Z"
   },
   {
    "duration": 62,
    "start_time": "2025-04-02T11:25:58.393Z"
   },
   {
    "duration": 36,
    "start_time": "2025-04-02T11:25:58.457Z"
   },
   {
    "duration": 2,
    "start_time": "2025-04-02T11:25:58.495Z"
   },
   {
    "duration": 83,
    "start_time": "2025-04-02T11:25:58.499Z"
   },
   {
    "duration": 15,
    "start_time": "2025-04-02T11:25:58.585Z"
   },
   {
    "duration": 3,
    "start_time": "2025-04-02T11:25:58.601Z"
   },
   {
    "duration": 20,
    "start_time": "2025-04-02T11:25:58.607Z"
   },
   {
    "duration": 46,
    "start_time": "2025-04-02T11:25:58.629Z"
   },
   {
    "duration": 2,
    "start_time": "2025-04-02T11:25:58.678Z"
   },
   {
    "duration": 115,
    "start_time": "2025-04-02T11:25:58.682Z"
   },
   {
    "duration": 54,
    "start_time": "2025-04-02T11:25:58.799Z"
   },
   {
    "duration": 24,
    "start_time": "2025-04-02T11:25:58.855Z"
   },
   {
    "duration": 10,
    "start_time": "2025-04-02T11:25:58.881Z"
   },
   {
    "duration": 2,
    "start_time": "2025-04-02T11:25:58.893Z"
   },
   {
    "duration": 189,
    "start_time": "2025-04-02T11:25:58.897Z"
   },
   {
    "duration": 102,
    "start_time": "2025-04-02T11:25:59.088Z"
   },
   {
    "duration": 35,
    "start_time": "2025-04-02T11:25:59.192Z"
   },
   {
    "duration": 65,
    "start_time": "2025-04-02T11:25:59.228Z"
   },
   {
    "duration": 2,
    "start_time": "2025-04-02T11:25:59.294Z"
   },
   {
    "duration": 40,
    "start_time": "2025-04-02T11:25:59.298Z"
   },
   {
    "duration": 2,
    "start_time": "2025-04-02T11:25:59.340Z"
   },
   {
    "duration": 40,
    "start_time": "2025-04-02T11:25:59.343Z"
   },
   {
    "duration": 12,
    "start_time": "2025-04-02T11:25:59.384Z"
   },
   {
    "duration": 16,
    "start_time": "2025-04-02T11:25:59.397Z"
   },
   {
    "duration": 12,
    "start_time": "2025-04-02T11:25:59.415Z"
   },
   {
    "duration": 8,
    "start_time": "2025-04-02T11:25:59.428Z"
   },
   {
    "duration": 2,
    "start_time": "2025-04-02T11:25:59.473Z"
   },
   {
    "duration": 33,
    "start_time": "2025-04-02T11:25:59.477Z"
   },
   {
    "duration": 61,
    "start_time": "2025-04-02T11:25:59.512Z"
   },
   {
    "duration": 15,
    "start_time": "2025-04-02T11:25:59.574Z"
   },
   {
    "duration": 2,
    "start_time": "2025-04-02T11:25:59.590Z"
   },
   {
    "duration": 44,
    "start_time": "2025-04-02T11:25:59.594Z"
   },
   {
    "duration": 117,
    "start_time": "2025-04-02T11:25:59.639Z"
   },
   {
    "duration": 56,
    "start_time": "2025-04-02T11:25:59.758Z"
   },
   {
    "duration": 59,
    "start_time": "2025-04-02T11:25:59.816Z"
   },
   {
    "duration": 2,
    "start_time": "2025-04-02T11:25:59.877Z"
   },
   {
    "duration": 110,
    "start_time": "2025-04-02T11:25:59.880Z"
   },
   {
    "duration": 13,
    "start_time": "2025-04-02T11:25:59.992Z"
   },
   {
    "duration": 368,
    "start_time": "2025-04-02T11:26:00.006Z"
   },
   {
    "duration": 218,
    "start_time": "2025-04-02T11:26:00.376Z"
   },
   {
    "duration": 7,
    "start_time": "2025-04-02T11:26:00.596Z"
   },
   {
    "duration": 96,
    "start_time": "2025-04-02T11:26:00.605Z"
   },
   {
    "duration": 4995,
    "start_time": "2025-04-02T11:26:00.703Z"
   },
   {
    "duration": 125,
    "start_time": "2025-04-02T11:26:05.700Z"
   },
   {
    "duration": 127,
    "start_time": "2025-04-02T11:26:05.827Z"
   },
   {
    "duration": 2,
    "start_time": "2025-04-02T11:26:05.956Z"
   },
   {
    "duration": 23,
    "start_time": "2025-04-02T11:26:05.960Z"
   },
   {
    "duration": 214,
    "start_time": "2025-04-02T11:26:05.985Z"
   },
   {
    "duration": 36,
    "start_time": "2025-04-02T11:26:06.201Z"
   },
   {
    "duration": 34,
    "start_time": "2025-04-02T11:26:06.239Z"
   },
   {
    "duration": 8,
    "start_time": "2025-04-02T11:26:06.275Z"
   },
   {
    "duration": 133,
    "start_time": "2025-04-02T11:26:06.285Z"
   },
   {
    "duration": 0,
    "start_time": "2025-04-02T11:26:06.419Z"
   },
   {
    "duration": 0,
    "start_time": "2025-04-02T11:26:06.421Z"
   },
   {
    "duration": 0,
    "start_time": "2025-04-02T11:26:06.422Z"
   },
   {
    "duration": 0,
    "start_time": "2025-04-02T11:26:06.424Z"
   },
   {
    "duration": 0,
    "start_time": "2025-04-02T11:26:06.425Z"
   },
   {
    "duration": 0,
    "start_time": "2025-04-02T11:26:06.427Z"
   },
   {
    "duration": 0,
    "start_time": "2025-04-02T11:26:06.428Z"
   },
   {
    "duration": 10,
    "start_time": "2025-04-02T11:26:42.915Z"
   },
   {
    "duration": 2645,
    "start_time": "2025-04-02T11:28:01.014Z"
   },
   {
    "duration": 50,
    "start_time": "2025-04-02T11:28:03.661Z"
   },
   {
    "duration": 13,
    "start_time": "2025-04-02T11:28:03.712Z"
   },
   {
    "duration": 27,
    "start_time": "2025-04-02T11:28:03.726Z"
   },
   {
    "duration": 2,
    "start_time": "2025-04-02T11:28:03.756Z"
   },
   {
    "duration": 41,
    "start_time": "2025-04-02T11:28:03.759Z"
   },
   {
    "duration": 1197,
    "start_time": "2025-04-02T11:28:03.802Z"
   },
   {
    "duration": 106,
    "start_time": "2025-04-02T11:28:05.000Z"
   },
   {
    "duration": 18,
    "start_time": "2025-04-02T11:28:05.108Z"
   },
   {
    "duration": 25,
    "start_time": "2025-04-02T11:28:05.128Z"
   },
   {
    "duration": 25,
    "start_time": "2025-04-02T11:28:05.154Z"
   },
   {
    "duration": 113,
    "start_time": "2025-04-02T11:28:05.181Z"
   },
   {
    "duration": 2,
    "start_time": "2025-04-02T11:28:05.296Z"
   },
   {
    "duration": 359,
    "start_time": "2025-04-02T11:28:05.301Z"
   },
   {
    "duration": 45,
    "start_time": "2025-04-02T11:28:05.662Z"
   },
   {
    "duration": 3,
    "start_time": "2025-04-02T11:28:05.709Z"
   },
   {
    "duration": 17,
    "start_time": "2025-04-02T11:28:05.713Z"
   },
   {
    "duration": 32,
    "start_time": "2025-04-02T11:28:05.731Z"
   },
   {
    "duration": 218,
    "start_time": "2025-04-02T11:28:05.765Z"
   },
   {
    "duration": 20,
    "start_time": "2025-04-02T11:28:05.985Z"
   },
   {
    "duration": 72,
    "start_time": "2025-04-02T11:28:06.007Z"
   },
   {
    "duration": 31,
    "start_time": "2025-04-02T11:28:06.081Z"
   },
   {
    "duration": 5,
    "start_time": "2025-04-02T11:28:06.114Z"
   },
   {
    "duration": 229,
    "start_time": "2025-04-02T11:28:06.120Z"
   },
   {
    "duration": 25,
    "start_time": "2025-04-02T11:28:06.351Z"
   },
   {
    "duration": 71,
    "start_time": "2025-04-02T11:28:06.378Z"
   },
   {
    "duration": 5,
    "start_time": "2025-04-02T11:28:06.450Z"
   },
   {
    "duration": 15,
    "start_time": "2025-04-02T11:28:06.456Z"
   },
   {
    "duration": 14,
    "start_time": "2025-04-02T11:28:06.473Z"
   },
   {
    "duration": 101,
    "start_time": "2025-04-02T11:28:06.489Z"
   },
   {
    "duration": 15,
    "start_time": "2025-04-02T11:28:06.591Z"
   },
   {
    "duration": 12,
    "start_time": "2025-04-02T11:28:06.607Z"
   },
   {
    "duration": 57,
    "start_time": "2025-04-02T11:28:06.621Z"
   },
   {
    "duration": 15,
    "start_time": "2025-04-02T11:28:06.680Z"
   },
   {
    "duration": 104,
    "start_time": "2025-04-02T11:28:06.697Z"
   },
   {
    "duration": 3,
    "start_time": "2025-04-02T11:28:06.803Z"
   },
   {
    "duration": 177,
    "start_time": "2025-04-02T11:28:06.808Z"
   },
   {
    "duration": 90,
    "start_time": "2025-04-02T11:28:06.987Z"
   },
   {
    "duration": 5,
    "start_time": "2025-04-02T11:28:07.079Z"
   },
   {
    "duration": 32,
    "start_time": "2025-04-02T11:28:07.086Z"
   },
   {
    "duration": 20,
    "start_time": "2025-04-02T11:28:07.124Z"
   },
   {
    "duration": 26,
    "start_time": "2025-04-02T11:28:07.146Z"
   },
   {
    "duration": 4,
    "start_time": "2025-04-02T11:28:07.173Z"
   },
   {
    "duration": 7,
    "start_time": "2025-04-02T11:28:07.179Z"
   },
   {
    "duration": 9,
    "start_time": "2025-04-02T11:28:07.188Z"
   },
   {
    "duration": 2,
    "start_time": "2025-04-02T11:28:07.199Z"
   },
   {
    "duration": 100,
    "start_time": "2025-04-02T11:28:07.203Z"
   },
   {
    "duration": 79,
    "start_time": "2025-04-02T11:28:07.305Z"
   },
   {
    "duration": 3,
    "start_time": "2025-04-02T11:28:07.385Z"
   },
   {
    "duration": 40,
    "start_time": "2025-04-02T11:28:07.390Z"
   },
   {
    "duration": 49,
    "start_time": "2025-04-02T11:28:07.432Z"
   },
   {
    "duration": 3,
    "start_time": "2025-04-02T11:28:07.483Z"
   },
   {
    "duration": 21,
    "start_time": "2025-04-02T11:28:07.488Z"
   },
   {
    "duration": 11,
    "start_time": "2025-04-02T11:28:07.511Z"
   },
   {
    "duration": 2,
    "start_time": "2025-04-02T11:28:07.524Z"
   },
   {
    "duration": 21,
    "start_time": "2025-04-02T11:28:07.528Z"
   },
   {
    "duration": 21,
    "start_time": "2025-04-02T11:28:07.573Z"
   },
   {
    "duration": 2,
    "start_time": "2025-04-02T11:28:07.596Z"
   },
   {
    "duration": 123,
    "start_time": "2025-04-02T11:28:07.599Z"
   },
   {
    "duration": 61,
    "start_time": "2025-04-02T11:28:07.723Z"
   },
   {
    "duration": 9,
    "start_time": "2025-04-02T11:28:07.786Z"
   },
   {
    "duration": 10,
    "start_time": "2025-04-02T11:28:07.797Z"
   },
   {
    "duration": 7,
    "start_time": "2025-04-02T11:28:07.809Z"
   },
   {
    "duration": 195,
    "start_time": "2025-04-02T11:28:07.817Z"
   },
   {
    "duration": 109,
    "start_time": "2025-04-02T11:28:08.014Z"
   },
   {
    "duration": 36,
    "start_time": "2025-04-02T11:28:08.124Z"
   },
   {
    "duration": 58,
    "start_time": "2025-04-02T11:28:08.161Z"
   },
   {
    "duration": 3,
    "start_time": "2025-04-02T11:28:08.220Z"
   },
   {
    "duration": 59,
    "start_time": "2025-04-02T11:28:08.224Z"
   },
   {
    "duration": 3,
    "start_time": "2025-04-02T11:28:08.285Z"
   },
   {
    "duration": 30,
    "start_time": "2025-04-02T11:28:08.290Z"
   },
   {
    "duration": 12,
    "start_time": "2025-04-02T11:28:08.322Z"
   },
   {
    "duration": 40,
    "start_time": "2025-04-02T11:28:08.335Z"
   },
   {
    "duration": 57,
    "start_time": "2025-04-02T11:28:08.377Z"
   },
   {
    "duration": 8,
    "start_time": "2025-04-02T11:28:08.436Z"
   },
   {
    "duration": 5,
    "start_time": "2025-04-02T11:28:08.446Z"
   },
   {
    "duration": 31,
    "start_time": "2025-04-02T11:28:08.452Z"
   },
   {
    "duration": 43,
    "start_time": "2025-04-02T11:28:08.485Z"
   },
   {
    "duration": 67,
    "start_time": "2025-04-02T11:28:08.530Z"
   },
   {
    "duration": 2,
    "start_time": "2025-04-02T11:28:08.599Z"
   },
   {
    "duration": 59,
    "start_time": "2025-04-02T11:28:08.603Z"
   },
   {
    "duration": 92,
    "start_time": "2025-04-02T11:28:08.663Z"
   },
   {
    "duration": 56,
    "start_time": "2025-04-02T11:28:08.756Z"
   },
   {
    "duration": 88,
    "start_time": "2025-04-02T11:28:08.813Z"
   },
   {
    "duration": 10,
    "start_time": "2025-04-02T11:28:08.903Z"
   },
   {
    "duration": 115,
    "start_time": "2025-04-02T11:28:08.914Z"
   },
   {
    "duration": 14,
    "start_time": "2025-04-02T11:28:09.031Z"
   },
   {
    "duration": 374,
    "start_time": "2025-04-02T11:28:09.047Z"
   },
   {
    "duration": 230,
    "start_time": "2025-04-02T11:28:09.422Z"
   },
   {
    "duration": 8,
    "start_time": "2025-04-02T11:28:09.653Z"
   },
   {
    "duration": 84,
    "start_time": "2025-04-02T11:28:09.663Z"
   },
   {
    "duration": 4225,
    "start_time": "2025-04-02T11:28:09.749Z"
   },
   {
    "duration": 121,
    "start_time": "2025-04-02T11:28:13.976Z"
   },
   {
    "duration": 102,
    "start_time": "2025-04-02T11:28:14.098Z"
   },
   {
    "duration": 3,
    "start_time": "2025-04-02T11:28:14.201Z"
   },
   {
    "duration": 11,
    "start_time": "2025-04-02T11:28:14.205Z"
   },
   {
    "duration": 193,
    "start_time": "2025-04-02T11:28:14.217Z"
   },
   {
    "duration": 34,
    "start_time": "2025-04-02T11:28:14.412Z"
   },
   {
    "duration": 28,
    "start_time": "2025-04-02T11:28:14.447Z"
   },
   {
    "duration": 8,
    "start_time": "2025-04-02T11:28:14.476Z"
   },
   {
    "duration": 9,
    "start_time": "2025-04-02T11:28:14.486Z"
   },
   {
    "duration": 90,
    "start_time": "2025-04-02T11:28:14.497Z"
   },
   {
    "duration": 10,
    "start_time": "2025-04-02T11:28:14.589Z"
   },
   {
    "duration": 9,
    "start_time": "2025-04-02T11:28:14.600Z"
   },
   {
    "duration": 9,
    "start_time": "2025-04-02T11:28:14.611Z"
   },
   {
    "duration": 15,
    "start_time": "2025-04-02T11:28:14.622Z"
   },
   {
    "duration": 216,
    "start_time": "2025-04-02T11:28:14.639Z"
   },
   {
    "duration": 3989,
    "start_time": "2025-04-02T11:35:33.231Z"
   },
   {
    "duration": 59,
    "start_time": "2025-04-02T11:35:37.223Z"
   },
   {
    "duration": 12,
    "start_time": "2025-04-02T11:35:37.284Z"
   },
   {
    "duration": 32,
    "start_time": "2025-04-02T11:35:37.297Z"
   },
   {
    "duration": 5,
    "start_time": "2025-04-02T11:35:37.331Z"
   },
   {
    "duration": 11,
    "start_time": "2025-04-02T11:35:37.337Z"
   },
   {
    "duration": 986,
    "start_time": "2025-04-02T11:35:37.350Z"
   },
   {
    "duration": 106,
    "start_time": "2025-04-02T11:35:38.338Z"
   },
   {
    "duration": 29,
    "start_time": "2025-04-02T11:35:38.446Z"
   },
   {
    "duration": 4,
    "start_time": "2025-04-02T11:35:38.476Z"
   },
   {
    "duration": 43,
    "start_time": "2025-04-02T11:35:38.482Z"
   },
   {
    "duration": 117,
    "start_time": "2025-04-02T11:35:38.526Z"
   },
   {
    "duration": 2,
    "start_time": "2025-04-02T11:35:38.645Z"
   },
   {
    "duration": 381,
    "start_time": "2025-04-02T11:35:38.650Z"
   },
   {
    "duration": 41,
    "start_time": "2025-04-02T11:35:39.033Z"
   },
   {
    "duration": 2,
    "start_time": "2025-04-02T11:35:39.076Z"
   },
   {
    "duration": 15,
    "start_time": "2025-04-02T11:35:39.079Z"
   },
   {
    "duration": 7,
    "start_time": "2025-04-02T11:35:39.095Z"
   },
   {
    "duration": 296,
    "start_time": "2025-04-02T11:35:39.103Z"
   },
   {
    "duration": 18,
    "start_time": "2025-04-02T11:35:39.401Z"
   },
   {
    "duration": 7,
    "start_time": "2025-04-02T11:35:39.420Z"
   },
   {
    "duration": 4,
    "start_time": "2025-04-02T11:35:39.428Z"
   },
   {
    "duration": 3,
    "start_time": "2025-04-02T11:35:39.433Z"
   },
   {
    "duration": 227,
    "start_time": "2025-04-02T11:35:39.437Z"
   },
   {
    "duration": 25,
    "start_time": "2025-04-02T11:35:39.666Z"
   },
   {
    "duration": 8,
    "start_time": "2025-04-02T11:35:39.693Z"
   },
   {
    "duration": 2,
    "start_time": "2025-04-02T11:35:39.703Z"
   },
   {
    "duration": 2,
    "start_time": "2025-04-02T11:35:39.707Z"
   },
   {
    "duration": 11,
    "start_time": "2025-04-02T11:35:39.711Z"
   },
   {
    "duration": 2,
    "start_time": "2025-04-02T11:35:39.724Z"
   },
   {
    "duration": 49,
    "start_time": "2025-04-02T11:35:39.728Z"
   },
   {
    "duration": 13,
    "start_time": "2025-04-02T11:35:39.778Z"
   },
   {
    "duration": 9,
    "start_time": "2025-04-02T11:35:39.792Z"
   },
   {
    "duration": 3,
    "start_time": "2025-04-02T11:35:39.802Z"
   },
   {
    "duration": 116,
    "start_time": "2025-04-02T11:35:39.807Z"
   },
   {
    "duration": 3,
    "start_time": "2025-04-02T11:35:39.925Z"
   },
   {
    "duration": 159,
    "start_time": "2025-04-02T11:35:39.929Z"
   },
   {
    "duration": 85,
    "start_time": "2025-04-02T11:35:40.089Z"
   },
   {
    "duration": 3,
    "start_time": "2025-04-02T11:35:40.176Z"
   },
   {
    "duration": 20,
    "start_time": "2025-04-02T11:35:40.180Z"
   },
   {
    "duration": 20,
    "start_time": "2025-04-02T11:35:40.206Z"
   },
   {
    "duration": 45,
    "start_time": "2025-04-02T11:35:40.228Z"
   },
   {
    "duration": 3,
    "start_time": "2025-04-02T11:35:40.274Z"
   },
   {
    "duration": 8,
    "start_time": "2025-04-02T11:35:40.278Z"
   },
   {
    "duration": 7,
    "start_time": "2025-04-02T11:35:40.288Z"
   },
   {
    "duration": 2,
    "start_time": "2025-04-02T11:35:40.296Z"
   },
   {
    "duration": 101,
    "start_time": "2025-04-02T11:35:40.300Z"
   },
   {
    "duration": 82,
    "start_time": "2025-04-02T11:35:40.402Z"
   },
   {
    "duration": 3,
    "start_time": "2025-04-02T11:35:40.485Z"
   },
   {
    "duration": 43,
    "start_time": "2025-04-02T11:35:40.489Z"
   },
   {
    "duration": 99,
    "start_time": "2025-04-02T11:35:40.534Z"
   },
   {
    "duration": 2,
    "start_time": "2025-04-02T11:35:40.634Z"
   },
   {
    "duration": 11,
    "start_time": "2025-04-02T11:35:40.638Z"
   },
   {
    "duration": 12,
    "start_time": "2025-04-02T11:35:40.651Z"
   },
   {
    "duration": 5,
    "start_time": "2025-04-02T11:35:40.664Z"
   },
   {
    "duration": 20,
    "start_time": "2025-04-02T11:35:40.670Z"
   },
   {
    "duration": 20,
    "start_time": "2025-04-02T11:35:40.692Z"
   },
   {
    "duration": 2,
    "start_time": "2025-04-02T11:35:40.714Z"
   },
   {
    "duration": 133,
    "start_time": "2025-04-02T11:35:40.717Z"
   },
   {
    "duration": 66,
    "start_time": "2025-04-02T11:35:40.851Z"
   },
   {
    "duration": 12,
    "start_time": "2025-04-02T11:35:40.918Z"
   },
   {
    "duration": 12,
    "start_time": "2025-04-02T11:35:40.931Z"
   },
   {
    "duration": 3,
    "start_time": "2025-04-02T11:35:40.944Z"
   },
   {
    "duration": 192,
    "start_time": "2025-04-02T11:35:40.973Z"
   },
   {
    "duration": 120,
    "start_time": "2025-04-02T11:35:41.166Z"
   },
   {
    "duration": 38,
    "start_time": "2025-04-02T11:35:41.287Z"
   },
   {
    "duration": 67,
    "start_time": "2025-04-02T11:35:41.326Z"
   },
   {
    "duration": 2,
    "start_time": "2025-04-02T11:35:41.394Z"
   },
   {
    "duration": 44,
    "start_time": "2025-04-02T11:35:41.398Z"
   },
   {
    "duration": 2,
    "start_time": "2025-04-02T11:35:41.444Z"
   },
   {
    "duration": 41,
    "start_time": "2025-04-02T11:35:41.448Z"
   },
   {
    "duration": 12,
    "start_time": "2025-04-02T11:35:41.491Z"
   },
   {
    "duration": 16,
    "start_time": "2025-04-02T11:35:41.505Z"
   },
   {
    "duration": 13,
    "start_time": "2025-04-02T11:35:41.522Z"
   },
   {
    "duration": 40,
    "start_time": "2025-04-02T11:35:41.536Z"
   },
   {
    "duration": 2,
    "start_time": "2025-04-02T11:35:41.578Z"
   },
   {
    "duration": 30,
    "start_time": "2025-04-02T11:35:41.581Z"
   },
   {
    "duration": 70,
    "start_time": "2025-04-02T11:35:41.612Z"
   },
   {
    "duration": 14,
    "start_time": "2025-04-02T11:35:41.684Z"
   },
   {
    "duration": 2,
    "start_time": "2025-04-02T11:35:41.700Z"
   },
   {
    "duration": 71,
    "start_time": "2025-04-02T11:35:41.703Z"
   },
   {
    "duration": 102,
    "start_time": "2025-04-02T11:35:41.776Z"
   },
   {
    "duration": 52,
    "start_time": "2025-04-02T11:35:41.880Z"
   },
   {
    "duration": 66,
    "start_time": "2025-04-02T11:35:41.933Z"
   },
   {
    "duration": 2,
    "start_time": "2025-04-02T11:35:42.001Z"
   },
   {
    "duration": 114,
    "start_time": "2025-04-02T11:35:42.005Z"
   },
   {
    "duration": 14,
    "start_time": "2025-04-02T11:35:42.120Z"
   },
   {
    "duration": 385,
    "start_time": "2025-04-02T11:35:42.135Z"
   },
   {
    "duration": 232,
    "start_time": "2025-04-02T11:35:42.522Z"
   },
   {
    "duration": 8,
    "start_time": "2025-04-02T11:35:42.755Z"
   },
   {
    "duration": 77,
    "start_time": "2025-04-02T11:35:42.772Z"
   },
   {
    "duration": 4021,
    "start_time": "2025-04-02T11:35:42.851Z"
   },
   {
    "duration": 120,
    "start_time": "2025-04-02T11:35:46.874Z"
   },
   {
    "duration": 111,
    "start_time": "2025-04-02T11:35:46.996Z"
   },
   {
    "duration": 3,
    "start_time": "2025-04-02T11:35:47.108Z"
   },
   {
    "duration": 10,
    "start_time": "2025-04-02T11:35:47.112Z"
   },
   {
    "duration": 187,
    "start_time": "2025-04-02T11:35:47.123Z"
   },
   {
    "duration": 31,
    "start_time": "2025-04-02T11:35:47.311Z"
   },
   {
    "duration": 28,
    "start_time": "2025-04-02T11:35:47.345Z"
   },
   {
    "duration": 11,
    "start_time": "2025-04-02T11:35:47.374Z"
   },
   {
    "duration": 15,
    "start_time": "2025-04-02T11:35:47.387Z"
   },
   {
    "duration": 22,
    "start_time": "2025-04-02T11:35:47.404Z"
   },
   {
    "duration": 8,
    "start_time": "2025-04-02T11:35:47.428Z"
   },
   {
    "duration": 36,
    "start_time": "2025-04-02T11:35:47.437Z"
   },
   {
    "duration": 10,
    "start_time": "2025-04-02T11:35:47.475Z"
   },
   {
    "duration": 23,
    "start_time": "2025-04-02T11:35:47.487Z"
   },
   {
    "duration": 176,
    "start_time": "2025-04-02T11:35:47.512Z"
   },
   {
    "duration": 49,
    "start_time": "2025-04-02T12:22:30.639Z"
   },
   {
    "duration": 4672,
    "start_time": "2025-04-02T12:22:38.181Z"
   },
   {
    "duration": 48,
    "start_time": "2025-04-02T12:22:42.855Z"
   },
   {
    "duration": 12,
    "start_time": "2025-04-02T12:22:42.905Z"
   },
   {
    "duration": 18,
    "start_time": "2025-04-02T12:22:42.918Z"
   },
   {
    "duration": 3,
    "start_time": "2025-04-02T12:22:42.938Z"
   },
   {
    "duration": 7,
    "start_time": "2025-04-02T12:22:42.942Z"
   },
   {
    "duration": 1076,
    "start_time": "2025-04-02T12:22:42.950Z"
   },
   {
    "duration": 101,
    "start_time": "2025-04-02T12:22:44.028Z"
   },
   {
    "duration": 37,
    "start_time": "2025-04-02T12:22:44.131Z"
   },
   {
    "duration": 3,
    "start_time": "2025-04-02T12:22:44.169Z"
   },
   {
    "duration": 44,
    "start_time": "2025-04-02T12:22:44.173Z"
   },
   {
    "duration": 107,
    "start_time": "2025-04-02T12:22:44.219Z"
   },
   {
    "duration": 3,
    "start_time": "2025-04-02T12:22:44.327Z"
   },
   {
    "duration": 459,
    "start_time": "2025-04-02T12:22:44.332Z"
   },
   {
    "duration": 38,
    "start_time": "2025-04-02T12:22:44.793Z"
   },
   {
    "duration": 58,
    "start_time": "2025-04-02T12:22:44.833Z"
   },
   {
    "duration": 11,
    "start_time": "2025-04-02T12:22:44.892Z"
   },
   {
    "duration": 134,
    "start_time": "2025-04-02T12:22:44.905Z"
   },
   {
    "duration": 415,
    "start_time": "2025-04-02T12:22:45.041Z"
   },
   {
    "duration": 20,
    "start_time": "2025-04-02T12:22:45.458Z"
   },
   {
    "duration": 23,
    "start_time": "2025-04-02T12:22:45.479Z"
   },
   {
    "duration": 33,
    "start_time": "2025-04-02T12:22:45.503Z"
   },
   {
    "duration": 17,
    "start_time": "2025-04-02T12:22:45.538Z"
   },
   {
    "duration": 235,
    "start_time": "2025-04-02T12:22:45.556Z"
   },
   {
    "duration": 25,
    "start_time": "2025-04-02T12:22:45.792Z"
   },
   {
    "duration": 7,
    "start_time": "2025-04-02T12:22:45.819Z"
   },
   {
    "duration": 10,
    "start_time": "2025-04-02T12:22:45.828Z"
   },
   {
    "duration": 10,
    "start_time": "2025-04-02T12:22:45.839Z"
   },
   {
    "duration": 22,
    "start_time": "2025-04-02T12:22:45.850Z"
   },
   {
    "duration": 13,
    "start_time": "2025-04-02T12:22:45.874Z"
   },
   {
    "duration": 18,
    "start_time": "2025-04-02T12:22:45.888Z"
   },
   {
    "duration": 21,
    "start_time": "2025-04-02T12:22:45.907Z"
   },
   {
    "duration": 19,
    "start_time": "2025-04-02T12:22:45.930Z"
   },
   {
    "duration": 11,
    "start_time": "2025-04-02T12:22:45.950Z"
   },
   {
    "duration": 108,
    "start_time": "2025-04-02T12:22:45.962Z"
   },
   {
    "duration": 2,
    "start_time": "2025-04-02T12:22:46.071Z"
   },
   {
    "duration": 163,
    "start_time": "2025-04-02T12:22:46.074Z"
   },
   {
    "duration": 82,
    "start_time": "2025-04-02T12:22:46.238Z"
   },
   {
    "duration": 2,
    "start_time": "2025-04-02T12:22:46.322Z"
   },
   {
    "duration": 152,
    "start_time": "2025-04-02T12:22:46.325Z"
   },
   {
    "duration": 32,
    "start_time": "2025-04-02T12:22:46.483Z"
   },
   {
    "duration": 23,
    "start_time": "2025-04-02T12:22:46.517Z"
   },
   {
    "duration": 22,
    "start_time": "2025-04-02T12:22:46.542Z"
   },
   {
    "duration": 23,
    "start_time": "2025-04-02T12:22:46.566Z"
   },
   {
    "duration": 25,
    "start_time": "2025-04-02T12:22:46.590Z"
   },
   {
    "duration": 11,
    "start_time": "2025-04-02T12:22:46.616Z"
   },
   {
    "duration": 86,
    "start_time": "2025-04-02T12:22:46.629Z"
   },
   {
    "duration": 75,
    "start_time": "2025-04-02T12:22:46.717Z"
   },
   {
    "duration": 2,
    "start_time": "2025-04-02T12:22:46.794Z"
   },
   {
    "duration": 117,
    "start_time": "2025-04-02T12:22:46.797Z"
   },
   {
    "duration": 35,
    "start_time": "2025-04-02T12:22:46.916Z"
   },
   {
    "duration": 69,
    "start_time": "2025-04-02T12:22:46.953Z"
   },
   {
    "duration": 24,
    "start_time": "2025-04-02T12:22:47.023Z"
   },
   {
    "duration": 27,
    "start_time": "2025-04-02T12:22:47.048Z"
   },
   {
    "duration": 7,
    "start_time": "2025-04-02T12:22:47.077Z"
   },
   {
    "duration": 25,
    "start_time": "2025-04-02T12:22:47.086Z"
   },
   {
    "duration": 26,
    "start_time": "2025-04-02T12:22:47.112Z"
   },
   {
    "duration": 6,
    "start_time": "2025-04-02T12:22:47.140Z"
   },
   {
    "duration": 108,
    "start_time": "2025-04-02T12:22:47.147Z"
   },
   {
    "duration": 61,
    "start_time": "2025-04-02T12:22:47.257Z"
   },
   {
    "duration": 11,
    "start_time": "2025-04-02T12:22:47.320Z"
   },
   {
    "duration": 32,
    "start_time": "2025-04-02T12:22:47.333Z"
   },
   {
    "duration": 10,
    "start_time": "2025-04-02T12:22:47.367Z"
   },
   {
    "duration": 209,
    "start_time": "2025-04-02T12:22:47.379Z"
   },
   {
    "duration": 119,
    "start_time": "2025-04-02T12:22:47.591Z"
   },
   {
    "duration": 36,
    "start_time": "2025-04-02T12:22:47.712Z"
   },
   {
    "duration": 46,
    "start_time": "2025-04-02T12:22:47.761Z"
   },
   {
    "duration": 13,
    "start_time": "2025-04-02T12:22:47.809Z"
   },
   {
    "duration": 61,
    "start_time": "2025-04-02T12:22:47.824Z"
   },
   {
    "duration": 3,
    "start_time": "2025-04-02T12:22:47.886Z"
   },
   {
    "duration": 25,
    "start_time": "2025-04-02T12:22:47.890Z"
   },
   {
    "duration": 13,
    "start_time": "2025-04-02T12:22:47.916Z"
   },
   {
    "duration": 17,
    "start_time": "2025-04-02T12:22:47.930Z"
   },
   {
    "duration": 13,
    "start_time": "2025-04-02T12:22:47.962Z"
   },
   {
    "duration": 16,
    "start_time": "2025-04-02T12:22:47.976Z"
   },
   {
    "duration": 11,
    "start_time": "2025-04-02T12:22:47.994Z"
   },
   {
    "duration": 60,
    "start_time": "2025-04-02T12:22:48.007Z"
   },
   {
    "duration": 42,
    "start_time": "2025-04-02T12:22:48.069Z"
   },
   {
    "duration": 15,
    "start_time": "2025-04-02T12:22:48.113Z"
   },
   {
    "duration": 6,
    "start_time": "2025-04-02T12:22:48.129Z"
   },
   {
    "duration": 71,
    "start_time": "2025-04-02T12:22:48.136Z"
   },
   {
    "duration": 107,
    "start_time": "2025-04-02T12:22:48.208Z"
   },
   {
    "duration": 55,
    "start_time": "2025-04-02T12:22:48.316Z"
   },
   {
    "duration": 132,
    "start_time": "2025-04-02T12:22:48.372Z"
   },
   {
    "duration": 16,
    "start_time": "2025-04-02T12:22:48.506Z"
   },
   {
    "duration": 103,
    "start_time": "2025-04-02T12:22:48.524Z"
   },
   {
    "duration": 14,
    "start_time": "2025-04-02T12:22:48.629Z"
   },
   {
    "duration": 385,
    "start_time": "2025-04-02T12:22:48.645Z"
   },
   {
    "duration": 217,
    "start_time": "2025-04-02T12:22:49.032Z"
   },
   {
    "duration": 12,
    "start_time": "2025-04-02T12:22:49.251Z"
   },
   {
    "duration": 93,
    "start_time": "2025-04-02T12:22:49.265Z"
   },
   {
    "duration": 5015,
    "start_time": "2025-04-02T12:22:49.360Z"
   },
   {
    "duration": 134,
    "start_time": "2025-04-02T12:22:54.377Z"
   },
   {
    "duration": 129,
    "start_time": "2025-04-02T12:22:54.513Z"
   },
   {
    "duration": 2,
    "start_time": "2025-04-02T12:22:54.644Z"
   },
   {
    "duration": 26,
    "start_time": "2025-04-02T12:22:54.647Z"
   },
   {
    "duration": 172,
    "start_time": "2025-04-02T12:22:54.675Z"
   },
   {
    "duration": 36,
    "start_time": "2025-04-02T12:22:54.848Z"
   },
   {
    "duration": 10,
    "start_time": "2025-04-02T12:22:54.885Z"
   },
   {
    "duration": 112,
    "start_time": "2025-04-02T12:22:54.896Z"
   },
   {
    "duration": 46,
    "start_time": "2025-04-02T12:22:55.010Z"
   },
   {
    "duration": 29,
    "start_time": "2025-04-02T12:22:55.058Z"
   },
   {
    "duration": 54,
    "start_time": "2025-04-02T12:22:55.088Z"
   },
   {
    "duration": 41,
    "start_time": "2025-04-02T12:22:55.144Z"
   },
   {
    "duration": 22,
    "start_time": "2025-04-02T12:22:55.187Z"
   },
   {
    "duration": 45,
    "start_time": "2025-04-02T12:22:55.211Z"
   },
   {
    "duration": 193,
    "start_time": "2025-04-02T12:22:55.258Z"
   },
   {
    "duration": 8,
    "start_time": "2025-04-02T12:23:14.507Z"
   },
   {
    "duration": 8,
    "start_time": "2025-04-02T12:23:29.034Z"
   },
   {
    "duration": 8,
    "start_time": "2025-04-02T12:23:34.511Z"
   },
   {
    "duration": 8,
    "start_time": "2025-04-02T12:23:41.494Z"
   },
   {
    "duration": 10,
    "start_time": "2025-04-02T12:26:10.728Z"
   },
   {
    "duration": 10,
    "start_time": "2025-04-02T12:26:44.808Z"
   },
   {
    "duration": 10,
    "start_time": "2025-04-02T12:27:05.943Z"
   },
   {
    "duration": 8,
    "start_time": "2025-04-02T12:31:34.832Z"
   },
   {
    "duration": 16,
    "start_time": "2025-04-02T12:31:48.721Z"
   },
   {
    "duration": 16,
    "start_time": "2025-04-02T12:31:55.904Z"
   },
   {
    "duration": 10,
    "start_time": "2025-04-02T12:31:56.797Z"
   },
   {
    "duration": 9,
    "start_time": "2025-04-02T12:31:58.062Z"
   },
   {
    "duration": 8,
    "start_time": "2025-04-02T12:31:59.696Z"
   },
   {
    "duration": 10,
    "start_time": "2025-04-02T12:44:58.962Z"
   },
   {
    "duration": 10,
    "start_time": "2025-04-02T12:45:08.875Z"
   },
   {
    "duration": 8,
    "start_time": "2025-04-02T12:45:19.651Z"
   },
   {
    "duration": 15,
    "start_time": "2025-04-02T12:45:20.527Z"
   },
   {
    "duration": 9,
    "start_time": "2025-04-02T12:45:25.429Z"
   },
   {
    "duration": 9,
    "start_time": "2025-04-02T12:45:27.779Z"
   },
   {
    "duration": 9,
    "start_time": "2025-04-02T12:45:29.314Z"
   },
   {
    "duration": 9,
    "start_time": "2025-04-02T12:48:41.392Z"
   },
   {
    "duration": 9,
    "start_time": "2025-04-02T12:48:43.051Z"
   },
   {
    "duration": 10,
    "start_time": "2025-04-02T12:49:44.982Z"
   },
   {
    "duration": 13,
    "start_time": "2025-04-02T12:49:45.580Z"
   },
   {
    "duration": 10,
    "start_time": "2025-04-02T12:50:07.255Z"
   },
   {
    "duration": 9,
    "start_time": "2025-04-02T12:50:14.900Z"
   },
   {
    "duration": 12,
    "start_time": "2025-04-02T12:50:34.208Z"
   },
   {
    "duration": 14,
    "start_time": "2025-04-02T12:50:34.812Z"
   },
   {
    "duration": 10,
    "start_time": "2025-04-02T12:50:38.295Z"
   },
   {
    "duration": 9,
    "start_time": "2025-04-02T12:50:40.966Z"
   },
   {
    "duration": 10,
    "start_time": "2025-04-02T12:51:03.343Z"
   },
   {
    "duration": 10,
    "start_time": "2025-04-02T12:51:11.866Z"
   },
   {
    "duration": 10,
    "start_time": "2025-04-02T12:51:21.304Z"
   },
   {
    "duration": 3796,
    "start_time": "2025-04-02T12:53:28.041Z"
   },
   {
    "duration": 47,
    "start_time": "2025-04-02T12:53:31.839Z"
   },
   {
    "duration": 18,
    "start_time": "2025-04-02T12:53:31.888Z"
   },
   {
    "duration": 33,
    "start_time": "2025-04-02T12:53:31.908Z"
   },
   {
    "duration": 13,
    "start_time": "2025-04-02T12:53:31.943Z"
   },
   {
    "duration": 13,
    "start_time": "2025-04-02T12:53:31.957Z"
   },
   {
    "duration": 1111,
    "start_time": "2025-04-02T12:53:31.971Z"
   },
   {
    "duration": 110,
    "start_time": "2025-04-02T12:53:33.083Z"
   },
   {
    "duration": 24,
    "start_time": "2025-04-02T12:53:33.194Z"
   },
   {
    "duration": 37,
    "start_time": "2025-04-02T12:53:33.221Z"
   },
   {
    "duration": 44,
    "start_time": "2025-04-02T12:53:33.260Z"
   },
   {
    "duration": 160,
    "start_time": "2025-04-02T12:53:33.306Z"
   },
   {
    "duration": 3,
    "start_time": "2025-04-02T12:53:33.467Z"
   },
   {
    "duration": 348,
    "start_time": "2025-04-02T12:53:33.472Z"
   },
   {
    "duration": 48,
    "start_time": "2025-04-02T12:53:33.822Z"
   },
   {
    "duration": 3,
    "start_time": "2025-04-02T12:53:33.872Z"
   },
   {
    "duration": 61,
    "start_time": "2025-04-02T12:53:33.876Z"
   },
   {
    "duration": 36,
    "start_time": "2025-04-02T12:53:33.938Z"
   },
   {
    "duration": 179,
    "start_time": "2025-04-02T12:53:33.976Z"
   },
   {
    "duration": 20,
    "start_time": "2025-04-02T12:53:34.157Z"
   },
   {
    "duration": 8,
    "start_time": "2025-04-02T12:53:34.179Z"
   },
   {
    "duration": 19,
    "start_time": "2025-04-02T12:53:34.188Z"
   },
   {
    "duration": 61,
    "start_time": "2025-04-02T12:53:34.209Z"
   },
   {
    "duration": 263,
    "start_time": "2025-04-02T12:53:34.272Z"
   },
   {
    "duration": 26,
    "start_time": "2025-04-02T12:53:34.536Z"
   },
   {
    "duration": 83,
    "start_time": "2025-04-02T12:53:34.563Z"
   },
   {
    "duration": 51,
    "start_time": "2025-04-02T12:53:34.648Z"
   },
   {
    "duration": 7,
    "start_time": "2025-04-02T12:53:34.703Z"
   },
   {
    "duration": 45,
    "start_time": "2025-04-02T12:53:34.712Z"
   },
   {
    "duration": 46,
    "start_time": "2025-04-02T12:53:34.759Z"
   },
   {
    "duration": 40,
    "start_time": "2025-04-02T12:53:34.807Z"
   },
   {
    "duration": 17,
    "start_time": "2025-04-02T12:53:34.849Z"
   },
   {
    "duration": 40,
    "start_time": "2025-04-02T12:53:34.868Z"
   },
   {
    "duration": 96,
    "start_time": "2025-04-02T12:53:34.910Z"
   },
   {
    "duration": 229,
    "start_time": "2025-04-02T12:53:35.008Z"
   },
   {
    "duration": 2,
    "start_time": "2025-04-02T12:53:35.239Z"
   },
   {
    "duration": 158,
    "start_time": "2025-04-02T12:53:35.242Z"
   },
   {
    "duration": 85,
    "start_time": "2025-04-02T12:53:35.402Z"
   },
   {
    "duration": 3,
    "start_time": "2025-04-02T12:53:35.488Z"
   },
   {
    "duration": 73,
    "start_time": "2025-04-02T12:53:35.492Z"
   },
   {
    "duration": 39,
    "start_time": "2025-04-02T12:53:35.567Z"
   },
   {
    "duration": 83,
    "start_time": "2025-04-02T12:53:35.607Z"
   },
   {
    "duration": 69,
    "start_time": "2025-04-02T12:53:35.693Z"
   },
   {
    "duration": 28,
    "start_time": "2025-04-02T12:53:35.765Z"
   },
   {
    "duration": 33,
    "start_time": "2025-04-02T12:53:35.794Z"
   },
   {
    "duration": 32,
    "start_time": "2025-04-02T12:53:35.828Z"
   },
   {
    "duration": 98,
    "start_time": "2025-04-02T12:53:35.862Z"
   },
   {
    "duration": 82,
    "start_time": "2025-04-02T12:53:35.962Z"
   },
   {
    "duration": 3,
    "start_time": "2025-04-02T12:53:36.046Z"
   },
   {
    "duration": 66,
    "start_time": "2025-04-02T12:53:36.050Z"
   },
   {
    "duration": 34,
    "start_time": "2025-04-02T12:53:36.118Z"
   },
   {
    "duration": 31,
    "start_time": "2025-04-02T12:53:36.153Z"
   },
   {
    "duration": 18,
    "start_time": "2025-04-02T12:53:36.186Z"
   },
   {
    "duration": 47,
    "start_time": "2025-04-02T12:53:36.205Z"
   },
   {
    "duration": 102,
    "start_time": "2025-04-02T12:53:36.254Z"
   },
   {
    "duration": 78,
    "start_time": "2025-04-02T12:53:36.358Z"
   },
   {
    "duration": 47,
    "start_time": "2025-04-02T12:53:36.437Z"
   },
   {
    "duration": 13,
    "start_time": "2025-04-02T12:53:36.486Z"
   },
   {
    "duration": 132,
    "start_time": "2025-04-02T12:53:36.500Z"
   },
   {
    "duration": 63,
    "start_time": "2025-04-02T12:53:36.634Z"
   },
   {
    "duration": 91,
    "start_time": "2025-04-02T12:53:36.698Z"
   },
   {
    "duration": 18,
    "start_time": "2025-04-02T12:53:36.790Z"
   },
   {
    "duration": 47,
    "start_time": "2025-04-02T12:53:36.809Z"
   },
   {
    "duration": 196,
    "start_time": "2025-04-02T12:53:36.858Z"
   },
   {
    "duration": 115,
    "start_time": "2025-04-02T12:53:37.055Z"
   },
   {
    "duration": 39,
    "start_time": "2025-04-02T12:53:37.171Z"
   },
   {
    "duration": 64,
    "start_time": "2025-04-02T12:53:37.212Z"
   },
   {
    "duration": 2,
    "start_time": "2025-04-02T12:53:37.278Z"
   },
   {
    "duration": 59,
    "start_time": "2025-04-02T12:53:37.282Z"
   },
   {
    "duration": 30,
    "start_time": "2025-04-02T12:53:37.342Z"
   },
   {
    "duration": 39,
    "start_time": "2025-04-02T12:53:37.373Z"
   },
   {
    "duration": 12,
    "start_time": "2025-04-02T12:53:37.414Z"
   },
   {
    "duration": 61,
    "start_time": "2025-04-02T12:53:37.428Z"
   },
   {
    "duration": 18,
    "start_time": "2025-04-02T12:53:37.491Z"
   },
   {
    "duration": 62,
    "start_time": "2025-04-02T12:53:37.511Z"
   },
   {
    "duration": 33,
    "start_time": "2025-04-02T12:53:37.575Z"
   },
   {
    "duration": 74,
    "start_time": "2025-04-02T12:53:37.610Z"
   },
   {
    "duration": 53,
    "start_time": "2025-04-02T12:53:37.686Z"
   },
   {
    "duration": 75,
    "start_time": "2025-04-02T12:53:37.740Z"
   },
   {
    "duration": 19,
    "start_time": "2025-04-02T12:53:37.817Z"
   },
   {
    "duration": 62,
    "start_time": "2025-04-02T12:53:37.837Z"
   },
   {
    "duration": 106,
    "start_time": "2025-04-02T12:53:37.905Z"
   },
   {
    "duration": 58,
    "start_time": "2025-04-02T12:53:38.012Z"
   },
   {
    "duration": 67,
    "start_time": "2025-04-02T12:53:38.072Z"
   },
   {
    "duration": 37,
    "start_time": "2025-04-02T12:53:38.141Z"
   },
   {
    "duration": 127,
    "start_time": "2025-04-02T12:53:38.180Z"
   },
   {
    "duration": 17,
    "start_time": "2025-04-02T12:53:38.309Z"
   },
   {
    "duration": 412,
    "start_time": "2025-04-02T12:53:38.328Z"
   },
   {
    "duration": 233,
    "start_time": "2025-04-02T12:53:38.742Z"
   },
   {
    "duration": 9,
    "start_time": "2025-04-02T12:53:38.977Z"
   },
   {
    "duration": 95,
    "start_time": "2025-04-02T12:53:38.987Z"
   },
   {
    "duration": 4096,
    "start_time": "2025-04-02T12:53:39.083Z"
   },
   {
    "duration": 114,
    "start_time": "2025-04-02T12:53:43.180Z"
   },
   {
    "duration": 120,
    "start_time": "2025-04-02T12:53:43.296Z"
   },
   {
    "duration": 2,
    "start_time": "2025-04-02T12:53:43.418Z"
   },
   {
    "duration": 19,
    "start_time": "2025-04-02T12:53:43.422Z"
   },
   {
    "duration": 194,
    "start_time": "2025-04-02T12:53:43.442Z"
   },
   {
    "duration": 43,
    "start_time": "2025-04-02T12:53:43.638Z"
   },
   {
    "duration": 11,
    "start_time": "2025-04-02T12:53:43.682Z"
   },
   {
    "duration": 24,
    "start_time": "2025-04-02T12:53:43.695Z"
   },
   {
    "duration": 23,
    "start_time": "2025-04-02T12:53:43.720Z"
   },
   {
    "duration": 11,
    "start_time": "2025-04-02T12:53:43.744Z"
   },
   {
    "duration": 16,
    "start_time": "2025-04-02T12:53:43.757Z"
   },
   {
    "duration": 29,
    "start_time": "2025-04-02T12:53:43.774Z"
   },
   {
    "duration": 54,
    "start_time": "2025-04-02T12:53:43.805Z"
   },
   {
    "duration": 15,
    "start_time": "2025-04-02T12:53:43.861Z"
   },
   {
    "duration": 29,
    "start_time": "2025-04-02T12:53:43.878Z"
   },
   {
    "duration": 171,
    "start_time": "2025-04-02T12:53:43.908Z"
   },
   {
    "duration": 160,
    "start_time": "2025-04-02T12:54:26.568Z"
   },
   {
    "duration": 4772,
    "start_time": "2025-04-02T19:03:43.348Z"
   },
   {
    "duration": 43,
    "start_time": "2025-04-02T19:03:48.122Z"
   },
   {
    "duration": 12,
    "start_time": "2025-04-02T19:03:48.167Z"
   },
   {
    "duration": 57,
    "start_time": "2025-04-02T19:03:48.181Z"
   },
   {
    "duration": 5,
    "start_time": "2025-04-02T19:03:48.240Z"
   },
   {
    "duration": 9,
    "start_time": "2025-04-02T19:03:48.246Z"
   },
   {
    "duration": 954,
    "start_time": "2025-04-02T19:03:48.256Z"
   },
   {
    "duration": 104,
    "start_time": "2025-04-02T19:03:49.212Z"
   },
   {
    "duration": 22,
    "start_time": "2025-04-02T19:03:49.318Z"
   },
   {
    "duration": 3,
    "start_time": "2025-04-02T19:03:49.341Z"
   },
   {
    "duration": 58,
    "start_time": "2025-04-02T19:03:49.345Z"
   },
   {
    "duration": 113,
    "start_time": "2025-04-02T19:03:49.404Z"
   },
   {
    "duration": 2,
    "start_time": "2025-04-02T19:03:49.519Z"
   },
   {
    "duration": 318,
    "start_time": "2025-04-02T19:03:49.524Z"
   },
   {
    "duration": 47,
    "start_time": "2025-04-02T19:03:49.843Z"
   },
   {
    "duration": 12,
    "start_time": "2025-04-02T19:03:49.892Z"
   },
   {
    "duration": 11,
    "start_time": "2025-04-02T19:03:49.905Z"
   },
   {
    "duration": 5,
    "start_time": "2025-04-02T19:03:49.918Z"
   },
   {
    "duration": 215,
    "start_time": "2025-04-02T19:03:49.924Z"
   },
   {
    "duration": 20,
    "start_time": "2025-04-02T19:03:50.141Z"
   },
   {
    "duration": 74,
    "start_time": "2025-04-02T19:03:50.162Z"
   },
   {
    "duration": 3,
    "start_time": "2025-04-02T19:03:50.238Z"
   },
   {
    "duration": 4,
    "start_time": "2025-04-02T19:03:50.242Z"
   },
   {
    "duration": 207,
    "start_time": "2025-04-02T19:03:50.247Z"
   },
   {
    "duration": 29,
    "start_time": "2025-04-02T19:03:50.456Z"
   },
   {
    "duration": 8,
    "start_time": "2025-04-02T19:03:50.487Z"
   },
   {
    "duration": 6,
    "start_time": "2025-04-02T19:03:50.497Z"
   },
   {
    "duration": 4,
    "start_time": "2025-04-02T19:03:50.504Z"
   },
   {
    "duration": 12,
    "start_time": "2025-04-02T19:03:50.509Z"
   },
   {
    "duration": 3,
    "start_time": "2025-04-02T19:03:50.522Z"
   },
   {
    "duration": 9,
    "start_time": "2025-04-02T19:03:50.526Z"
   },
   {
    "duration": 49,
    "start_time": "2025-04-02T19:03:50.536Z"
   },
   {
    "duration": 8,
    "start_time": "2025-04-02T19:03:50.587Z"
   },
   {
    "duration": 4,
    "start_time": "2025-04-02T19:03:50.596Z"
   },
   {
    "duration": 120,
    "start_time": "2025-04-02T19:03:50.601Z"
   },
   {
    "duration": 2,
    "start_time": "2025-04-02T19:03:50.723Z"
   },
   {
    "duration": 167,
    "start_time": "2025-04-02T19:03:50.726Z"
   },
   {
    "duration": 82,
    "start_time": "2025-04-02T19:03:50.894Z"
   },
   {
    "duration": 6,
    "start_time": "2025-04-02T19:03:50.978Z"
   },
   {
    "duration": 23,
    "start_time": "2025-04-02T19:03:50.986Z"
   },
   {
    "duration": 19,
    "start_time": "2025-04-02T19:03:51.015Z"
   },
   {
    "duration": 14,
    "start_time": "2025-04-02T19:03:51.036Z"
   },
   {
    "duration": 4,
    "start_time": "2025-04-02T19:03:51.072Z"
   },
   {
    "duration": 13,
    "start_time": "2025-04-02T19:03:51.078Z"
   },
   {
    "duration": 7,
    "start_time": "2025-04-02T19:03:51.092Z"
   },
   {
    "duration": 10,
    "start_time": "2025-04-02T19:03:51.100Z"
   },
   {
    "duration": 90,
    "start_time": "2025-04-02T19:03:51.111Z"
   },
   {
    "duration": 81,
    "start_time": "2025-04-02T19:03:51.202Z"
   },
   {
    "duration": 3,
    "start_time": "2025-04-02T19:03:51.285Z"
   },
   {
    "duration": 37,
    "start_time": "2025-04-02T19:03:51.290Z"
   },
   {
    "duration": 46,
    "start_time": "2025-04-02T19:03:51.329Z"
   },
   {
    "duration": 3,
    "start_time": "2025-04-02T19:03:51.377Z"
   },
   {
    "duration": 13,
    "start_time": "2025-04-02T19:03:51.382Z"
   },
   {
    "duration": 16,
    "start_time": "2025-04-02T19:03:51.397Z"
   },
   {
    "duration": 2,
    "start_time": "2025-04-02T19:03:51.415Z"
   },
   {
    "duration": 19,
    "start_time": "2025-04-02T19:03:51.419Z"
   },
   {
    "duration": 52,
    "start_time": "2025-04-02T19:03:51.440Z"
   },
   {
    "duration": 2,
    "start_time": "2025-04-02T19:03:51.494Z"
   },
   {
    "duration": 112,
    "start_time": "2025-04-02T19:03:51.497Z"
   },
   {
    "duration": 64,
    "start_time": "2025-04-02T19:03:51.612Z"
   },
   {
    "duration": 13,
    "start_time": "2025-04-02T19:03:51.679Z"
   },
   {
    "duration": 72,
    "start_time": "2025-04-02T19:03:51.694Z"
   },
   {
    "duration": 46,
    "start_time": "2025-04-02T19:03:51.768Z"
   },
   {
    "duration": 200,
    "start_time": "2025-04-02T19:03:51.815Z"
   },
   {
    "duration": 113,
    "start_time": "2025-04-02T19:03:52.017Z"
   },
   {
    "duration": 44,
    "start_time": "2025-04-02T19:03:52.132Z"
   },
   {
    "duration": 52,
    "start_time": "2025-04-02T19:03:52.178Z"
   },
   {
    "duration": 15,
    "start_time": "2025-04-02T19:03:52.231Z"
   },
   {
    "duration": 59,
    "start_time": "2025-04-02T19:03:52.248Z"
   },
   {
    "duration": 3,
    "start_time": "2025-04-02T19:03:52.308Z"
   },
   {
    "duration": 23,
    "start_time": "2025-04-02T19:03:52.312Z"
   },
   {
    "duration": 12,
    "start_time": "2025-04-02T19:03:52.336Z"
   },
   {
    "duration": 41,
    "start_time": "2025-04-02T19:03:52.350Z"
   },
   {
    "duration": 16,
    "start_time": "2025-04-02T19:03:52.393Z"
   },
   {
    "duration": 11,
    "start_time": "2025-04-02T19:03:52.410Z"
   },
   {
    "duration": 5,
    "start_time": "2025-04-02T19:03:52.423Z"
   },
   {
    "duration": 76,
    "start_time": "2025-04-02T19:03:52.430Z"
   },
   {
    "duration": 41,
    "start_time": "2025-04-02T19:03:52.508Z"
   },
   {
    "duration": 35,
    "start_time": "2025-04-02T19:03:52.551Z"
   },
   {
    "duration": 3,
    "start_time": "2025-04-02T19:03:52.588Z"
   },
   {
    "duration": 44,
    "start_time": "2025-04-02T19:03:52.592Z"
   },
   {
    "duration": 121,
    "start_time": "2025-04-02T19:03:52.637Z"
   },
   {
    "duration": 63,
    "start_time": "2025-04-02T19:03:52.759Z"
   },
   {
    "duration": 75,
    "start_time": "2025-04-02T19:03:52.823Z"
   },
   {
    "duration": 3,
    "start_time": "2025-04-02T19:03:52.900Z"
   },
   {
    "duration": 114,
    "start_time": "2025-04-02T19:03:52.905Z"
   },
   {
    "duration": 13,
    "start_time": "2025-04-02T19:03:53.021Z"
   },
   {
    "duration": 355,
    "start_time": "2025-04-02T19:03:53.036Z"
   },
   {
    "duration": 220,
    "start_time": "2025-04-02T19:03:53.393Z"
   },
   {
    "duration": 8,
    "start_time": "2025-04-02T19:03:53.614Z"
   },
   {
    "duration": 90,
    "start_time": "2025-04-02T19:03:53.623Z"
   },
   {
    "duration": 4192,
    "start_time": "2025-04-02T19:03:53.714Z"
   },
   {
    "duration": 125,
    "start_time": "2025-04-02T19:03:57.908Z"
   },
   {
    "duration": 118,
    "start_time": "2025-04-02T19:03:58.034Z"
   },
   {
    "duration": 2,
    "start_time": "2025-04-02T19:03:58.154Z"
   },
   {
    "duration": 84,
    "start_time": "2025-04-02T19:03:58.157Z"
   },
   {
    "duration": 175,
    "start_time": "2025-04-02T19:03:58.243Z"
   },
   {
    "duration": 30,
    "start_time": "2025-04-02T19:03:58.420Z"
   },
   {
    "duration": 28,
    "start_time": "2025-04-02T19:03:58.452Z"
   },
   {
    "duration": 15,
    "start_time": "2025-04-02T19:03:58.484Z"
   },
   {
    "duration": 9,
    "start_time": "2025-04-02T19:03:58.500Z"
   },
   {
    "duration": 11,
    "start_time": "2025-04-02T19:03:58.510Z"
   },
   {
    "duration": 14,
    "start_time": "2025-04-02T19:03:58.522Z"
   },
   {
    "duration": 34,
    "start_time": "2025-04-02T19:03:58.538Z"
   },
   {
    "duration": 11,
    "start_time": "2025-04-02T19:03:58.574Z"
   },
   {
    "duration": 8,
    "start_time": "2025-04-02T19:03:58.587Z"
   },
   {
    "duration": 9,
    "start_time": "2025-04-02T19:03:58.596Z"
   },
   {
    "duration": 190,
    "start_time": "2025-04-02T19:03:58.606Z"
   },
   {
    "duration": 7,
    "start_time": "2025-04-02T19:04:03.034Z"
   },
   {
    "duration": 114,
    "start_time": "2025-04-02T19:04:42.392Z"
   }
  ],
  "colab": {
   "provenance": []
  },
  "kernelspec": {
   "display_name": "Python 3 (ipykernel)",
   "language": "python",
   "name": "python3"
  },
  "language_info": {
   "codemirror_mode": {
    "name": "ipython",
    "version": 3
   },
   "file_extension": ".py",
   "mimetype": "text/x-python",
   "name": "python",
   "nbconvert_exporter": "python",
   "pygments_lexer": "ipython3",
   "version": "3.9.5"
  },
  "toc": {
   "base_numbering": 1,
   "nav_menu": {},
   "number_sections": true,
   "sideBar": true,
   "skip_h1_title": true,
   "title_cell": "Table of Contents",
   "title_sidebar": "Contents",
   "toc_cell": false,
   "toc_position": {},
   "toc_section_display": true,
   "toc_window_display": false
  }
 },
 "nbformat": 4,
 "nbformat_minor": 1
}
