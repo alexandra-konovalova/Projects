{
 "cells": [
  {
   "cell_type": "markdown",
   "metadata": {
    "id": "LMuaGIE3lGcr"
   },
   "source": [
    "# Исследовательский анализ данных Яндекс.Афиши с 1 июня по 30 октября 2024 года \n",
    "\n",
    "- Автор: Коновалова Александра Евгеньевна \n",
    "- Дата: 16.06.25-18.06.25"
   ]
  },
  {
   "cell_type": "markdown",
   "metadata": {},
   "source": [
    "# Цели и задачи проекта\n",
    "Цель проекта: выявить инсайты об изменении пользовательских предпочтений и популярности событий осенью 2024 года, а также проверить гипотезы о разнице в поведении пользователей с мобильными и стационарными устройствами.\n",
    "\n",
    "Задачи проекта:\n",
    "\n",
    "1. Загрузка и знакомство с данными \n",
    "\n",
    "2. Предобработка данных и подготовка их к исследованию\n",
    "\n",
    "3. Исследовательский анализ данных\n",
    "\n",
    "4. Статистический анализ данных\n",
    "\n",
    "5. Выводы "
   ]
  },
  {
   "cell_type": "markdown",
   "metadata": {},
   "source": [
    "# Описание данных\n",
    "\n",
    "**Датасет final_tickets_orders_df.csv** включает информацию обо всех заказах билетов, совершённых с двух типов устройств — мобильных и стационарных: \n",
    "\n",
    "order_id — уникальный идентификатор заказа.\n",
    "\n",
    "user_id — уникальный идентификатор пользователя.\n",
    "\n",
    "created_dt_msk — дата создания заказа (московское время).\n",
    "\n",
    "created_ts_msk — дата и время создания заказа (московское время).\n",
    "\n",
    "event_id — идентификатор мероприятия из таблицы events.\n",
    "\n",
    "cinema_circuit — сеть кинотеатров. Если не применимо, то здесь будет значение 'нет'.\n",
    "\n",
    "age_limit — возрастное ограничение мероприятия.\n",
    "\n",
    "currency_code — валюта оплаты, например rub для российских рублей.\n",
    "\n",
    "device_type_canonical — тип устройства, с которого был оформлен заказ, например mobile для мобильных устройств, desktop для стационарных.\n",
    "\n",
    "revenue — выручка от заказа.\n",
    "\n",
    "service_name — название билетного оператора.\n",
    "\n",
    "tickets_count — количество купленных билетов.\n",
    "\n",
    "total — общая сумма заказа.\n",
    "\n",
    "days_since_prev с количеством дней с предыдущей покупки для каждого пользователя. Если покупки не было, то данные содержат пропуск.\n",
    "\n",
    "**Второй датасет final_tickets_events_df** содержит информацию о событиях, включая город и регион события, а также информацию о площадке проведения мероприятия(без фильмов). Датасет содержит такие поля:\n",
    "\n",
    "event_id — уникальный идентификатор мероприятия.\n",
    "\n",
    "event_name — название мероприятия. Аналог поля event_name_code из исходной базы данных.\n",
    "\n",
    "event_type_description — описание типа мероприятия.\n",
    "\n",
    "event_type_main — основной тип мероприятия: театральная постановка, концерт и так далее.\n",
    "\n",
    "organizers — организаторы мероприятия.\n",
    "\n",
    "region_name — название региона.\n",
    "\n",
    "city_name — название города.\n",
    "\n",
    "venue_id — уникальный идентификатор площадки.\n",
    "\n",
    "venue_name — название площадки.\n",
    "\n",
    "venue_address — адрес площадки.\n",
    "\n",
    "**Датасет final_tickets_tenge_df.csv** содержит информацию о курсе тенге к российскому рублю за 2024 год. Значения в рублях представлено для 100 тенге. Датасет содержит такие поля:\n",
    "\n",
    "nominal — номинал (100 тенге).\n",
    "\n",
    "data — дата.\n",
    "\n",
    "curs — курс тенге к рублю.\n",
    "\n",
    "cdx — обозначение валюты (kzt)."
   ]
  },
  {
   "cell_type": "markdown",
   "metadata": {},
   "source": [
    "# Содержание проекта\n",
    "\n",
    "1. Загрузка данных и знакомство с данными\n",
    "2. Предообработка данных\n",
    "3. Исследовательский анализ данных:\n",
    "- Анализ распределения заказов по сегментам и их сезонные изменения\n",
    "- Осенняя активность пользователей\n",
    "- Популярные события и партнёры\n",
    "4. Статистический анализ данных\n",
    "- Гипотеза 1\n",
    "- Гипотеза 2\n",
    "5. Выводы и рекомендации "
   ]
  },
  {
   "cell_type": "code",
   "execution_count": 1,
   "metadata": {},
   "outputs": [],
   "source": [
    "# импортируем все необходимые библиотеки\n",
    "import pandas as pd\n",
    "import matplotlib.pyplot as plt\n",
    "from scipy.stats import mannwhitneyu \n",
    "import numpy as np"
   ]
  },
  {
   "cell_type": "markdown",
   "metadata": {},
   "source": [
    "## Знакомство с данными"
   ]
  },
  {
   "cell_type": "code",
   "execution_count": 2,
   "metadata": {
    "scrolled": false
   },
   "outputs": [],
   "source": [
    "# Загружаем датасеты и выводим основную информацию о них\n",
    "final_tickets_order = pd.read_csv('https://code.s3.yandex.net/datasets/final_tickets_orders_df.csv')"
   ]
  },
  {
   "cell_type": "code",
   "execution_count": 3,
   "metadata": {},
   "outputs": [
    {
     "name": "stdout",
     "output_type": "stream",
     "text": [
      "<class 'pandas.core.frame.DataFrame'>\n",
      "RangeIndex: 290849 entries, 0 to 290848\n",
      "Data columns (total 14 columns):\n",
      " #   Column                 Non-Null Count   Dtype  \n",
      "---  ------                 --------------   -----  \n",
      " 0   order_id               290849 non-null  int64  \n",
      " 1   user_id                290849 non-null  object \n",
      " 2   created_dt_msk         290849 non-null  object \n",
      " 3   created_ts_msk         290849 non-null  object \n",
      " 4   event_id               290849 non-null  int64  \n",
      " 5   cinema_circuit         290849 non-null  object \n",
      " 6   age_limit              290849 non-null  int64  \n",
      " 7   currency_code          290849 non-null  object \n",
      " 8   device_type_canonical  290849 non-null  object \n",
      " 9   revenue                290849 non-null  float64\n",
      " 10  service_name           290849 non-null  object \n",
      " 11  tickets_count          290849 non-null  int64  \n",
      " 12  total                  290849 non-null  float64\n",
      " 13  days_since_prev        268909 non-null  float64\n",
      "dtypes: float64(3), int64(4), object(7)\n",
      "memory usage: 31.1+ MB\n"
     ]
    },
    {
     "data": {
      "text/html": [
       "<div>\n",
       "<style scoped>\n",
       "    .dataframe tbody tr th:only-of-type {\n",
       "        vertical-align: middle;\n",
       "    }\n",
       "\n",
       "    .dataframe tbody tr th {\n",
       "        vertical-align: top;\n",
       "    }\n",
       "\n",
       "    .dataframe thead th {\n",
       "        text-align: right;\n",
       "    }\n",
       "</style>\n",
       "<table border=\"1\" class=\"dataframe\">\n",
       "  <thead>\n",
       "    <tr style=\"text-align: right;\">\n",
       "      <th></th>\n",
       "      <th>order_id</th>\n",
       "      <th>user_id</th>\n",
       "      <th>created_dt_msk</th>\n",
       "      <th>created_ts_msk</th>\n",
       "      <th>event_id</th>\n",
       "      <th>cinema_circuit</th>\n",
       "      <th>age_limit</th>\n",
       "      <th>currency_code</th>\n",
       "      <th>device_type_canonical</th>\n",
       "      <th>revenue</th>\n",
       "      <th>service_name</th>\n",
       "      <th>tickets_count</th>\n",
       "      <th>total</th>\n",
       "      <th>days_since_prev</th>\n",
       "    </tr>\n",
       "  </thead>\n",
       "  <tbody>\n",
       "    <tr>\n",
       "      <th>0</th>\n",
       "      <td>4359165</td>\n",
       "      <td>0002849b70a3ce2</td>\n",
       "      <td>2024-08-20</td>\n",
       "      <td>2024-08-20 16:08:03</td>\n",
       "      <td>169230</td>\n",
       "      <td>нет</td>\n",
       "      <td>16</td>\n",
       "      <td>rub</td>\n",
       "      <td>mobile</td>\n",
       "      <td>1521.94</td>\n",
       "      <td>Край билетов</td>\n",
       "      <td>4</td>\n",
       "      <td>10870.99</td>\n",
       "      <td>NaN</td>\n",
       "    </tr>\n",
       "    <tr>\n",
       "      <th>1</th>\n",
       "      <td>7965605</td>\n",
       "      <td>0005ca5e93f2cf4</td>\n",
       "      <td>2024-07-23</td>\n",
       "      <td>2024-07-23 18:36:24</td>\n",
       "      <td>237325</td>\n",
       "      <td>нет</td>\n",
       "      <td>0</td>\n",
       "      <td>rub</td>\n",
       "      <td>mobile</td>\n",
       "      <td>289.45</td>\n",
       "      <td>Мой билет</td>\n",
       "      <td>2</td>\n",
       "      <td>2067.51</td>\n",
       "      <td>NaN</td>\n",
       "    </tr>\n",
       "    <tr>\n",
       "      <th>2</th>\n",
       "      <td>7292370</td>\n",
       "      <td>0005ca5e93f2cf4</td>\n",
       "      <td>2024-10-06</td>\n",
       "      <td>2024-10-06 13:56:02</td>\n",
       "      <td>578454</td>\n",
       "      <td>нет</td>\n",
       "      <td>0</td>\n",
       "      <td>rub</td>\n",
       "      <td>mobile</td>\n",
       "      <td>1258.57</td>\n",
       "      <td>За билетом!</td>\n",
       "      <td>4</td>\n",
       "      <td>13984.16</td>\n",
       "      <td>75.0</td>\n",
       "    </tr>\n",
       "    <tr>\n",
       "      <th>3</th>\n",
       "      <td>1139875</td>\n",
       "      <td>000898990054619</td>\n",
       "      <td>2024-07-13</td>\n",
       "      <td>2024-07-13 19:40:48</td>\n",
       "      <td>387271</td>\n",
       "      <td>нет</td>\n",
       "      <td>0</td>\n",
       "      <td>rub</td>\n",
       "      <td>mobile</td>\n",
       "      <td>8.49</td>\n",
       "      <td>Лови билет!</td>\n",
       "      <td>2</td>\n",
       "      <td>212.28</td>\n",
       "      <td>NaN</td>\n",
       "    </tr>\n",
       "    <tr>\n",
       "      <th>4</th>\n",
       "      <td>972400</td>\n",
       "      <td>000898990054619</td>\n",
       "      <td>2024-10-04</td>\n",
       "      <td>2024-10-04 22:33:15</td>\n",
       "      <td>509453</td>\n",
       "      <td>нет</td>\n",
       "      <td>18</td>\n",
       "      <td>rub</td>\n",
       "      <td>mobile</td>\n",
       "      <td>1390.41</td>\n",
       "      <td>Билеты без проблем</td>\n",
       "      <td>3</td>\n",
       "      <td>10695.43</td>\n",
       "      <td>83.0</td>\n",
       "    </tr>\n",
       "  </tbody>\n",
       "</table>\n",
       "</div>"
      ],
      "text/plain": [
       "   order_id          user_id created_dt_msk       created_ts_msk  event_id  \\\n",
       "0   4359165  0002849b70a3ce2     2024-08-20  2024-08-20 16:08:03    169230   \n",
       "1   7965605  0005ca5e93f2cf4     2024-07-23  2024-07-23 18:36:24    237325   \n",
       "2   7292370  0005ca5e93f2cf4     2024-10-06  2024-10-06 13:56:02    578454   \n",
       "3   1139875  000898990054619     2024-07-13  2024-07-13 19:40:48    387271   \n",
       "4    972400  000898990054619     2024-10-04  2024-10-04 22:33:15    509453   \n",
       "\n",
       "  cinema_circuit  age_limit currency_code device_type_canonical  revenue  \\\n",
       "0            нет         16           rub                mobile  1521.94   \n",
       "1            нет          0           rub                mobile   289.45   \n",
       "2            нет          0           rub                mobile  1258.57   \n",
       "3            нет          0           rub                mobile     8.49   \n",
       "4            нет         18           rub                mobile  1390.41   \n",
       "\n",
       "         service_name  tickets_count     total  days_since_prev  \n",
       "0        Край билетов              4  10870.99              NaN  \n",
       "1           Мой билет              2   2067.51              NaN  \n",
       "2         За билетом!              4  13984.16             75.0  \n",
       "3         Лови билет!              2    212.28              NaN  \n",
       "4  Билеты без проблем              3  10695.43             83.0  "
      ]
     },
     "execution_count": 3,
     "metadata": {},
     "output_type": "execute_result"
    }
   ],
   "source": [
    "final_tickets_order.info()\n",
    "final_tickets_order.head()"
   ]
  },
  {
   "cell_type": "markdown",
   "metadata": {},
   "source": [
    "В даннных датасета final_tickets_order не обнаружено пропусков, кроме столбца days_since_prev, что объяснимо спецификой столбца (если не было покупки - пропуск). Также в целом корректны типы данных, однако столбцы содержащие дату и время created_dt_msk и created_ts_msk стоит привести к типу данных datetime. "
   ]
  },
  {
   "cell_type": "code",
   "execution_count": 4,
   "metadata": {
    "scrolled": false
   },
   "outputs": [],
   "source": [
    "final_tickets_events_df = pd.read_csv('https://code.s3.yandex.net/datasets/final_tickets_events_df.csv')"
   ]
  },
  {
   "cell_type": "code",
   "execution_count": 5,
   "metadata": {},
   "outputs": [
    {
     "name": "stdout",
     "output_type": "stream",
     "text": [
      "<class 'pandas.core.frame.DataFrame'>\n",
      "RangeIndex: 22427 entries, 0 to 22426\n",
      "Data columns (total 11 columns):\n",
      " #   Column                  Non-Null Count  Dtype \n",
      "---  ------                  --------------  ----- \n",
      " 0   event_id                22427 non-null  int64 \n",
      " 1   event_name              22427 non-null  object\n",
      " 2   event_type_description  22427 non-null  object\n",
      " 3   event_type_main         22427 non-null  object\n",
      " 4   organizers              22427 non-null  object\n",
      " 5   region_name             22427 non-null  object\n",
      " 6   city_name               22427 non-null  object\n",
      " 7   city_id                 22427 non-null  int64 \n",
      " 8   venue_id                22427 non-null  int64 \n",
      " 9   venue_name              22427 non-null  object\n",
      " 10  venue_address           22427 non-null  object\n",
      "dtypes: int64(3), object(8)\n",
      "memory usage: 1.9+ MB\n"
     ]
    },
    {
     "data": {
      "text/html": [
       "<div>\n",
       "<style scoped>\n",
       "    .dataframe tbody tr th:only-of-type {\n",
       "        vertical-align: middle;\n",
       "    }\n",
       "\n",
       "    .dataframe tbody tr th {\n",
       "        vertical-align: top;\n",
       "    }\n",
       "\n",
       "    .dataframe thead th {\n",
       "        text-align: right;\n",
       "    }\n",
       "</style>\n",
       "<table border=\"1\" class=\"dataframe\">\n",
       "  <thead>\n",
       "    <tr style=\"text-align: right;\">\n",
       "      <th></th>\n",
       "      <th>event_id</th>\n",
       "      <th>event_name</th>\n",
       "      <th>event_type_description</th>\n",
       "      <th>event_type_main</th>\n",
       "      <th>organizers</th>\n",
       "      <th>region_name</th>\n",
       "      <th>city_name</th>\n",
       "      <th>city_id</th>\n",
       "      <th>venue_id</th>\n",
       "      <th>venue_name</th>\n",
       "      <th>venue_address</th>\n",
       "    </tr>\n",
       "  </thead>\n",
       "  <tbody>\n",
       "    <tr>\n",
       "      <th>0</th>\n",
       "      <td>4436</td>\n",
       "      <td>e4f26fba-da77-4c61-928a-6c3e434d793f</td>\n",
       "      <td>спектакль</td>\n",
       "      <td>театр</td>\n",
       "      <td>№4893</td>\n",
       "      <td>Североярская область</td>\n",
       "      <td>Озёрск</td>\n",
       "      <td>2</td>\n",
       "      <td>1600</td>\n",
       "      <td>Кладбище искусств \"Проблема\" и партнеры</td>\n",
       "      <td>наб. Загородная, д. 785</td>\n",
       "    </tr>\n",
       "    <tr>\n",
       "      <th>1</th>\n",
       "      <td>5785</td>\n",
       "      <td>5cc08a60-fdea-4186-9bb2-bffc3603fb77</td>\n",
       "      <td>спектакль</td>\n",
       "      <td>театр</td>\n",
       "      <td>№1931</td>\n",
       "      <td>Светополянский округ</td>\n",
       "      <td>Глиноград</td>\n",
       "      <td>54</td>\n",
       "      <td>2196</td>\n",
       "      <td>Лекции по искусству \"Свет\" Групп</td>\n",
       "      <td>ул. Ягодная, д. 942</td>\n",
       "    </tr>\n",
       "    <tr>\n",
       "      <th>2</th>\n",
       "      <td>8817</td>\n",
       "      <td>8e379a89-3a10-4811-ba06-ec22ebebe989</td>\n",
       "      <td>спектакль</td>\n",
       "      <td>театр</td>\n",
       "      <td>№4896</td>\n",
       "      <td>Североярская область</td>\n",
       "      <td>Озёрск</td>\n",
       "      <td>2</td>\n",
       "      <td>4043</td>\n",
       "      <td>Кинокомитет \"Золотая\" Инк</td>\n",
       "      <td>ш. Коммуны, д. 92 стр. 6</td>\n",
       "    </tr>\n",
       "    <tr>\n",
       "      <th>3</th>\n",
       "      <td>8849</td>\n",
       "      <td>682e3129-6a32-4952-9d8a-ef7f60d4c247</td>\n",
       "      <td>спектакль</td>\n",
       "      <td>театр</td>\n",
       "      <td>№4960</td>\n",
       "      <td>Каменевский регион</td>\n",
       "      <td>Глиногорск</td>\n",
       "      <td>213</td>\n",
       "      <td>1987</td>\n",
       "      <td>Выставка ремесел \"Свет\" Лтд</td>\n",
       "      <td>пер. Набережный, д. 35</td>\n",
       "    </tr>\n",
       "    <tr>\n",
       "      <th>4</th>\n",
       "      <td>8850</td>\n",
       "      <td>d6e99176-c77f-4af0-9222-07c571f6c624</td>\n",
       "      <td>спектакль</td>\n",
       "      <td>театр</td>\n",
       "      <td>№4770</td>\n",
       "      <td>Лесодальний край</td>\n",
       "      <td>Родниковец</td>\n",
       "      <td>55</td>\n",
       "      <td>4230</td>\n",
       "      <td>Фестивальный проект \"Листья\" Групп</td>\n",
       "      <td>пер. Проезжий, д. 9</td>\n",
       "    </tr>\n",
       "  </tbody>\n",
       "</table>\n",
       "</div>"
      ],
      "text/plain": [
       "   event_id                            event_name event_type_description  \\\n",
       "0      4436  e4f26fba-da77-4c61-928a-6c3e434d793f              спектакль   \n",
       "1      5785  5cc08a60-fdea-4186-9bb2-bffc3603fb77              спектакль   \n",
       "2      8817  8e379a89-3a10-4811-ba06-ec22ebebe989              спектакль   \n",
       "3      8849  682e3129-6a32-4952-9d8a-ef7f60d4c247              спектакль   \n",
       "4      8850  d6e99176-c77f-4af0-9222-07c571f6c624              спектакль   \n",
       "\n",
       "  event_type_main organizers           region_name   city_name  city_id  \\\n",
       "0           театр      №4893  Североярская область      Озёрск        2   \n",
       "1           театр      №1931  Светополянский округ   Глиноград       54   \n",
       "2           театр      №4896  Североярская область      Озёрск        2   \n",
       "3           театр      №4960    Каменевский регион  Глиногорск      213   \n",
       "4           театр      №4770      Лесодальний край  Родниковец       55   \n",
       "\n",
       "   venue_id                               venue_name             venue_address  \n",
       "0      1600  Кладбище искусств \"Проблема\" и партнеры   наб. Загородная, д. 785  \n",
       "1      2196         Лекции по искусству \"Свет\" Групп       ул. Ягодная, д. 942  \n",
       "2      4043                Кинокомитет \"Золотая\" Инк  ш. Коммуны, д. 92 стр. 6  \n",
       "3      1987              Выставка ремесел \"Свет\" Лтд    пер. Набережный, д. 35  \n",
       "4      4230       Фестивальный проект \"Листья\" Групп       пер. Проезжий, д. 9  "
      ]
     },
     "execution_count": 5,
     "metadata": {},
     "output_type": "execute_result"
    }
   ],
   "source": [
    "final_tickets_events_df.info()\n",
    "final_tickets_events_df.head()"
   ]
  },
  {
   "cell_type": "markdown",
   "metadata": {},
   "source": [
    "В даннных датасета final_tickets_events_df не обнаружено пропусков. Также корректны типы данных"
   ]
  },
  {
   "cell_type": "code",
   "execution_count": 6,
   "metadata": {},
   "outputs": [],
   "source": [
    "final_tickets_tenge_df = pd.read_csv('https://code.s3.yandex.net/datasets/final_tickets_tenge_df.csv')"
   ]
  },
  {
   "cell_type": "code",
   "execution_count": 7,
   "metadata": {},
   "outputs": [
    {
     "name": "stdout",
     "output_type": "stream",
     "text": [
      "<class 'pandas.core.frame.DataFrame'>\n",
      "RangeIndex: 357 entries, 0 to 356\n",
      "Data columns (total 4 columns):\n",
      " #   Column   Non-Null Count  Dtype  \n",
      "---  ------   --------------  -----  \n",
      " 0   data     357 non-null    object \n",
      " 1   nominal  357 non-null    int64  \n",
      " 2   curs     357 non-null    float64\n",
      " 3   cdx      357 non-null    object \n",
      "dtypes: float64(1), int64(1), object(2)\n",
      "memory usage: 11.3+ KB\n"
     ]
    },
    {
     "data": {
      "text/html": [
       "<div>\n",
       "<style scoped>\n",
       "    .dataframe tbody tr th:only-of-type {\n",
       "        vertical-align: middle;\n",
       "    }\n",
       "\n",
       "    .dataframe tbody tr th {\n",
       "        vertical-align: top;\n",
       "    }\n",
       "\n",
       "    .dataframe thead th {\n",
       "        text-align: right;\n",
       "    }\n",
       "</style>\n",
       "<table border=\"1\" class=\"dataframe\">\n",
       "  <thead>\n",
       "    <tr style=\"text-align: right;\">\n",
       "      <th></th>\n",
       "      <th>data</th>\n",
       "      <th>nominal</th>\n",
       "      <th>curs</th>\n",
       "      <th>cdx</th>\n",
       "    </tr>\n",
       "  </thead>\n",
       "  <tbody>\n",
       "    <tr>\n",
       "      <th>0</th>\n",
       "      <td>2024-01-10</td>\n",
       "      <td>100</td>\n",
       "      <td>19.9391</td>\n",
       "      <td>kzt</td>\n",
       "    </tr>\n",
       "    <tr>\n",
       "      <th>1</th>\n",
       "      <td>2024-01-11</td>\n",
       "      <td>100</td>\n",
       "      <td>19.7255</td>\n",
       "      <td>kzt</td>\n",
       "    </tr>\n",
       "    <tr>\n",
       "      <th>2</th>\n",
       "      <td>2024-01-12</td>\n",
       "      <td>100</td>\n",
       "      <td>19.5839</td>\n",
       "      <td>kzt</td>\n",
       "    </tr>\n",
       "    <tr>\n",
       "      <th>3</th>\n",
       "      <td>2024-01-13</td>\n",
       "      <td>100</td>\n",
       "      <td>19.4501</td>\n",
       "      <td>kzt</td>\n",
       "    </tr>\n",
       "    <tr>\n",
       "      <th>4</th>\n",
       "      <td>2024-01-14</td>\n",
       "      <td>100</td>\n",
       "      <td>19.4501</td>\n",
       "      <td>kzt</td>\n",
       "    </tr>\n",
       "  </tbody>\n",
       "</table>\n",
       "</div>"
      ],
      "text/plain": [
       "         data  nominal     curs  cdx\n",
       "0  2024-01-10      100  19.9391  kzt\n",
       "1  2024-01-11      100  19.7255  kzt\n",
       "2  2024-01-12      100  19.5839  kzt\n",
       "3  2024-01-13      100  19.4501  kzt\n",
       "4  2024-01-14      100  19.4501  kzt"
      ]
     },
     "execution_count": 7,
     "metadata": {},
     "output_type": "execute_result"
    }
   ],
   "source": [
    "final_tickets_tenge_df.info()\n",
    "final_tickets_tenge_df.head()"
   ]
  },
  {
   "cell_type": "markdown",
   "metadata": {},
   "source": [
    "В даннных датасета final_tickets_tenge_df не обнаружено пропусков. Также в целом корректны типы данных, однако столбец содержащие дату и время data стоит привести к типу данных datetime. "
   ]
  },
  {
   "cell_type": "markdown",
   "metadata": {},
   "source": [
    "## Предобработка данных"
   ]
  },
  {
   "cell_type": "code",
   "execution_count": 8,
   "metadata": {},
   "outputs": [
    {
     "name": "stdout",
     "output_type": "stream",
     "text": [
      "<class 'pandas.core.frame.DataFrame'>\n",
      "Int64Index: 290849 entries, 0 to 290848\n",
      "Data columns (total 28 columns):\n",
      " #   Column                  Non-Null Count   Dtype  \n",
      "---  ------                  --------------   -----  \n",
      " 0   order_id                290849 non-null  int64  \n",
      " 1   user_id                 290849 non-null  object \n",
      " 2   created_dt_msk          290849 non-null  object \n",
      " 3   created_ts_msk          290849 non-null  object \n",
      " 4   event_id                290849 non-null  int64  \n",
      " 5   cinema_circuit          290849 non-null  object \n",
      " 6   age_limit               290849 non-null  int64  \n",
      " 7   currency_code           290849 non-null  object \n",
      " 8   device_type_canonical   290849 non-null  object \n",
      " 9   revenue                 290849 non-null  float64\n",
      " 10  service_name            290849 non-null  object \n",
      " 11  tickets_count           290849 non-null  int64  \n",
      " 12  total                   290849 non-null  float64\n",
      " 13  days_since_prev         268909 non-null  float64\n",
      " 14  event_name              290611 non-null  object \n",
      " 15  event_type_description  290611 non-null  object \n",
      " 16  event_type_main         290611 non-null  object \n",
      " 17  organizers              290611 non-null  object \n",
      " 18  region_name             290611 non-null  object \n",
      " 19  city_name               290611 non-null  object \n",
      " 20  city_id                 290611 non-null  float64\n",
      " 21  venue_id                290611 non-null  float64\n",
      " 22  venue_name              290611 non-null  object \n",
      " 23  venue_address           290611 non-null  object \n",
      " 24  data                    290849 non-null  object \n",
      " 25  nominal                 290849 non-null  int64  \n",
      " 26  curs                    290849 non-null  float64\n",
      " 27  cdx                     290849 non-null  object \n",
      "dtypes: float64(6), int64(5), object(17)\n",
      "memory usage: 64.4+ MB\n"
     ]
    },
    {
     "data": {
      "text/html": [
       "<div>\n",
       "<style scoped>\n",
       "    .dataframe tbody tr th:only-of-type {\n",
       "        vertical-align: middle;\n",
       "    }\n",
       "\n",
       "    .dataframe tbody tr th {\n",
       "        vertical-align: top;\n",
       "    }\n",
       "\n",
       "    .dataframe thead th {\n",
       "        text-align: right;\n",
       "    }\n",
       "</style>\n",
       "<table border=\"1\" class=\"dataframe\">\n",
       "  <thead>\n",
       "    <tr style=\"text-align: right;\">\n",
       "      <th></th>\n",
       "      <th>order_id</th>\n",
       "      <th>user_id</th>\n",
       "      <th>created_dt_msk</th>\n",
       "      <th>created_ts_msk</th>\n",
       "      <th>event_id</th>\n",
       "      <th>cinema_circuit</th>\n",
       "      <th>age_limit</th>\n",
       "      <th>currency_code</th>\n",
       "      <th>device_type_canonical</th>\n",
       "      <th>revenue</th>\n",
       "      <th>service_name</th>\n",
       "      <th>tickets_count</th>\n",
       "      <th>total</th>\n",
       "      <th>days_since_prev</th>\n",
       "      <th>event_name</th>\n",
       "      <th>event_type_description</th>\n",
       "      <th>event_type_main</th>\n",
       "      <th>organizers</th>\n",
       "      <th>region_name</th>\n",
       "      <th>city_name</th>\n",
       "      <th>city_id</th>\n",
       "      <th>venue_id</th>\n",
       "      <th>venue_name</th>\n",
       "      <th>venue_address</th>\n",
       "      <th>data</th>\n",
       "      <th>nominal</th>\n",
       "      <th>curs</th>\n",
       "      <th>cdx</th>\n",
       "    </tr>\n",
       "  </thead>\n",
       "  <tbody>\n",
       "    <tr>\n",
       "      <th>0</th>\n",
       "      <td>4359165</td>\n",
       "      <td>0002849b70a3ce2</td>\n",
       "      <td>2024-08-20</td>\n",
       "      <td>2024-08-20 16:08:03</td>\n",
       "      <td>169230</td>\n",
       "      <td>нет</td>\n",
       "      <td>16</td>\n",
       "      <td>rub</td>\n",
       "      <td>mobile</td>\n",
       "      <td>1521.94</td>\n",
       "      <td>Край билетов</td>\n",
       "      <td>4</td>\n",
       "      <td>10870.99</td>\n",
       "      <td>NaN</td>\n",
       "      <td>f0f7b271-04eb-4af6-bcb8-8f05cf46d6ad</td>\n",
       "      <td>спектакль</td>\n",
       "      <td>театр</td>\n",
       "      <td>№3322</td>\n",
       "      <td>Каменевский регион</td>\n",
       "      <td>Глиногорск</td>\n",
       "      <td>213.0</td>\n",
       "      <td>3972.0</td>\n",
       "      <td>Сценический центр \"Деталь\" Групп</td>\n",
       "      <td>алл. Машиностроителей, д. 19 стр. 6</td>\n",
       "      <td>2024-08-20</td>\n",
       "      <td>100</td>\n",
       "      <td>18.6972</td>\n",
       "      <td>kzt</td>\n",
       "    </tr>\n",
       "    <tr>\n",
       "      <th>1</th>\n",
       "      <td>7965605</td>\n",
       "      <td>0005ca5e93f2cf4</td>\n",
       "      <td>2024-07-23</td>\n",
       "      <td>2024-07-23 18:36:24</td>\n",
       "      <td>237325</td>\n",
       "      <td>нет</td>\n",
       "      <td>0</td>\n",
       "      <td>rub</td>\n",
       "      <td>mobile</td>\n",
       "      <td>289.45</td>\n",
       "      <td>Мой билет</td>\n",
       "      <td>2</td>\n",
       "      <td>2067.51</td>\n",
       "      <td>NaN</td>\n",
       "      <td>40efeb04-81b7-4135-b41f-708ff00cc64c</td>\n",
       "      <td>событие</td>\n",
       "      <td>выставки</td>\n",
       "      <td>№4850</td>\n",
       "      <td>Каменевский регион</td>\n",
       "      <td>Глиногорск</td>\n",
       "      <td>213.0</td>\n",
       "      <td>2941.0</td>\n",
       "      <td>Музыкальная школа для детей \"Аккаунт\" Лтд</td>\n",
       "      <td>алл. Шмидта, д. 9 стр. 4</td>\n",
       "      <td>2024-07-23</td>\n",
       "      <td>100</td>\n",
       "      <td>18.3419</td>\n",
       "      <td>kzt</td>\n",
       "    </tr>\n",
       "    <tr>\n",
       "      <th>2</th>\n",
       "      <td>7292370</td>\n",
       "      <td>0005ca5e93f2cf4</td>\n",
       "      <td>2024-10-06</td>\n",
       "      <td>2024-10-06 13:56:02</td>\n",
       "      <td>578454</td>\n",
       "      <td>нет</td>\n",
       "      <td>0</td>\n",
       "      <td>rub</td>\n",
       "      <td>mobile</td>\n",
       "      <td>1258.57</td>\n",
       "      <td>За билетом!</td>\n",
       "      <td>4</td>\n",
       "      <td>13984.16</td>\n",
       "      <td>75.0</td>\n",
       "      <td>01f3fb7b-ed07-4f94-b1d3-9a2e1ee5a8ca</td>\n",
       "      <td>цирковое шоу</td>\n",
       "      <td>другое</td>\n",
       "      <td>№1540</td>\n",
       "      <td>Каменевский регион</td>\n",
       "      <td>Глиногорск</td>\n",
       "      <td>213.0</td>\n",
       "      <td>4507.0</td>\n",
       "      <td>Училище искусств \"Нирвана\" Инк</td>\n",
       "      <td>алл. Юбилейная, д. 5/6</td>\n",
       "      <td>2024-10-06</td>\n",
       "      <td>100</td>\n",
       "      <td>19.6475</td>\n",
       "      <td>kzt</td>\n",
       "    </tr>\n",
       "    <tr>\n",
       "      <th>3</th>\n",
       "      <td>1139875</td>\n",
       "      <td>000898990054619</td>\n",
       "      <td>2024-07-13</td>\n",
       "      <td>2024-07-13 19:40:48</td>\n",
       "      <td>387271</td>\n",
       "      <td>нет</td>\n",
       "      <td>0</td>\n",
       "      <td>rub</td>\n",
       "      <td>mobile</td>\n",
       "      <td>8.49</td>\n",
       "      <td>Лови билет!</td>\n",
       "      <td>2</td>\n",
       "      <td>212.28</td>\n",
       "      <td>NaN</td>\n",
       "      <td>2f638715-8844-466c-b43f-378a627c419f</td>\n",
       "      <td>выставка</td>\n",
       "      <td>другое</td>\n",
       "      <td>№5049</td>\n",
       "      <td>Североярская область</td>\n",
       "      <td>Озёрск</td>\n",
       "      <td>2.0</td>\n",
       "      <td>3574.0</td>\n",
       "      <td>Театр альтернативного искусства \"Ода\" Лимитед</td>\n",
       "      <td>алл. Есенина, д. 243 к. 3/8</td>\n",
       "      <td>2024-07-13</td>\n",
       "      <td>100</td>\n",
       "      <td>18.5010</td>\n",
       "      <td>kzt</td>\n",
       "    </tr>\n",
       "    <tr>\n",
       "      <th>4</th>\n",
       "      <td>972400</td>\n",
       "      <td>000898990054619</td>\n",
       "      <td>2024-10-04</td>\n",
       "      <td>2024-10-04 22:33:15</td>\n",
       "      <td>509453</td>\n",
       "      <td>нет</td>\n",
       "      <td>18</td>\n",
       "      <td>rub</td>\n",
       "      <td>mobile</td>\n",
       "      <td>1390.41</td>\n",
       "      <td>Билеты без проблем</td>\n",
       "      <td>3</td>\n",
       "      <td>10695.43</td>\n",
       "      <td>83.0</td>\n",
       "      <td>10d805d3-9809-4d8a-834e-225b7d03f95d</td>\n",
       "      <td>шоу</td>\n",
       "      <td>стендап</td>\n",
       "      <td>№832</td>\n",
       "      <td>Озернинский край</td>\n",
       "      <td>Родниковецк</td>\n",
       "      <td>240.0</td>\n",
       "      <td>1896.0</td>\n",
       "      <td>Театр кукол \"Огни\" Инкорпорэйтед</td>\n",
       "      <td>ш. Набережное, д. 595 стр. 8</td>\n",
       "      <td>2024-10-04</td>\n",
       "      <td>100</td>\n",
       "      <td>19.6648</td>\n",
       "      <td>kzt</td>\n",
       "    </tr>\n",
       "  </tbody>\n",
       "</table>\n",
       "</div>"
      ],
      "text/plain": [
       "   order_id          user_id created_dt_msk       created_ts_msk  event_id  \\\n",
       "0   4359165  0002849b70a3ce2     2024-08-20  2024-08-20 16:08:03    169230   \n",
       "1   7965605  0005ca5e93f2cf4     2024-07-23  2024-07-23 18:36:24    237325   \n",
       "2   7292370  0005ca5e93f2cf4     2024-10-06  2024-10-06 13:56:02    578454   \n",
       "3   1139875  000898990054619     2024-07-13  2024-07-13 19:40:48    387271   \n",
       "4    972400  000898990054619     2024-10-04  2024-10-04 22:33:15    509453   \n",
       "\n",
       "  cinema_circuit  age_limit currency_code device_type_canonical  revenue  \\\n",
       "0            нет         16           rub                mobile  1521.94   \n",
       "1            нет          0           rub                mobile   289.45   \n",
       "2            нет          0           rub                mobile  1258.57   \n",
       "3            нет          0           rub                mobile     8.49   \n",
       "4            нет         18           rub                mobile  1390.41   \n",
       "\n",
       "         service_name  tickets_count     total  days_since_prev  \\\n",
       "0        Край билетов              4  10870.99              NaN   \n",
       "1           Мой билет              2   2067.51              NaN   \n",
       "2         За билетом!              4  13984.16             75.0   \n",
       "3         Лови билет!              2    212.28              NaN   \n",
       "4  Билеты без проблем              3  10695.43             83.0   \n",
       "\n",
       "                             event_name event_type_description  \\\n",
       "0  f0f7b271-04eb-4af6-bcb8-8f05cf46d6ad              спектакль   \n",
       "1  40efeb04-81b7-4135-b41f-708ff00cc64c                событие   \n",
       "2  01f3fb7b-ed07-4f94-b1d3-9a2e1ee5a8ca           цирковое шоу   \n",
       "3  2f638715-8844-466c-b43f-378a627c419f               выставка   \n",
       "4  10d805d3-9809-4d8a-834e-225b7d03f95d                    шоу   \n",
       "\n",
       "  event_type_main organizers           region_name    city_name  city_id  \\\n",
       "0           театр      №3322    Каменевский регион   Глиногорск    213.0   \n",
       "1        выставки      №4850    Каменевский регион   Глиногорск    213.0   \n",
       "2          другое      №1540    Каменевский регион   Глиногорск    213.0   \n",
       "3          другое      №5049  Североярская область       Озёрск      2.0   \n",
       "4         стендап       №832      Озернинский край  Родниковецк    240.0   \n",
       "\n",
       "   venue_id                                     venue_name  \\\n",
       "0    3972.0               Сценический центр \"Деталь\" Групп   \n",
       "1    2941.0      Музыкальная школа для детей \"Аккаунт\" Лтд   \n",
       "2    4507.0                 Училище искусств \"Нирвана\" Инк   \n",
       "3    3574.0  Театр альтернативного искусства \"Ода\" Лимитед   \n",
       "4    1896.0               Театр кукол \"Огни\" Инкорпорэйтед   \n",
       "\n",
       "                         venue_address        data  nominal     curs  cdx  \n",
       "0  алл. Машиностроителей, д. 19 стр. 6  2024-08-20      100  18.6972  kzt  \n",
       "1             алл. Шмидта, д. 9 стр. 4  2024-07-23      100  18.3419  kzt  \n",
       "2               алл. Юбилейная, д. 5/6  2024-10-06      100  19.6475  kzt  \n",
       "3          алл. Есенина, д. 243 к. 3/8  2024-07-13      100  18.5010  kzt  \n",
       "4         ш. Набережное, д. 595 стр. 8  2024-10-04      100  19.6648  kzt  "
      ]
     },
     "metadata": {},
     "output_type": "display_data"
    }
   ],
   "source": [
    "# Мы познакомились с данными, теперь проведем предобработку данных, но для начала объеденим данные в один датафрейм \n",
    "df = final_tickets_order.merge(final_tickets_events_df, on = 'event_id', how = 'left')\n",
    "df = df.merge(final_tickets_tenge_df, left_on = 'created_dt_msk', right_on = 'data', how = 'left')\n",
    "df.info()\n",
    "pd.set_option('display.max_columns', 500)\n",
    "display(df.head())"
   ]
  },
  {
   "cell_type": "code",
   "execution_count": 9,
   "metadata": {},
   "outputs": [
    {
     "data": {
      "text/plain": [
       "array(['нет', 'Другое', 'Киномакс', 'КиноСити', 'Москино', 'ЦентрФильм'],\n",
       "      dtype=object)"
      ]
     },
     "execution_count": 9,
     "metadata": {},
     "output_type": "execute_result"
    }
   ],
   "source": [
    "# Присоеденение столбцов прошло успешно, теперь выявим аномальные значения в категориальных столбцах. \n",
    "df['cinema_circuit'].unique()\n",
    "# В столбце не обнаружено ошибок в категориях"
   ]
  },
  {
   "cell_type": "code",
   "execution_count": 10,
   "metadata": {},
   "outputs": [
    {
     "data": {
      "text/plain": [
       "array([16,  0, 18, 12,  6])"
      ]
     },
     "execution_count": 10,
     "metadata": {},
     "output_type": "execute_result"
    }
   ],
   "source": [
    "df['age_limit'].unique()\n",
    "# В столбце не обнаружено ошибок в категориях"
   ]
  },
  {
   "cell_type": "code",
   "execution_count": 11,
   "metadata": {},
   "outputs": [
    {
     "data": {
      "text/plain": [
       "array(['rub', 'kzt'], dtype=object)"
      ]
     },
     "execution_count": 11,
     "metadata": {},
     "output_type": "execute_result"
    }
   ],
   "source": [
    "df['currency_code'].unique()\n",
    "# В столбце не обнаружено ошибок в категориях"
   ]
  },
  {
   "cell_type": "code",
   "execution_count": 12,
   "metadata": {},
   "outputs": [
    {
     "data": {
      "text/plain": [
       "array(['mobile', 'desktop'], dtype=object)"
      ]
     },
     "execution_count": 12,
     "metadata": {},
     "output_type": "execute_result"
    }
   ],
   "source": [
    "df['device_type_canonical'].unique()\n",
    "# В столбце не обнаружено ошибок в категориях"
   ]
  },
  {
   "cell_type": "code",
   "execution_count": 13,
   "metadata": {},
   "outputs": [
    {
     "data": {
      "text/plain": [
       "array(['театр', 'выставки', 'другое', 'стендап', 'концерты', 'спорт', nan,\n",
       "       'ёлки'], dtype=object)"
      ]
     },
     "metadata": {},
     "output_type": "display_data"
    },
    {
     "data": {
      "text/plain": [
       "238"
      ]
     },
     "metadata": {},
     "output_type": "display_data"
    }
   ],
   "source": [
    "display(df['event_type_main'].unique())\n",
    "# В столбце не обнаружено ошибок в категориях, но обнаружено значение с nan\n",
    "# Проверим часто ли встречаются такие пропуски \n",
    "display(df['event_type_main'].isna().sum())\n",
    "# Обнаружено 238 пропусков в столбце event_type_main. "
   ]
  },
  {
   "cell_type": "code",
   "execution_count": 14,
   "metadata": {},
   "outputs": [
    {
     "data": {
      "text/plain": [
       "array(['Каменевский регион', 'Североярская область', 'Озернинский край',\n",
       "       'Лугоградская область', 'Поленовский край', 'Широковская область',\n",
       "       'Медовская область', 'Златопольский округ', 'Малиновоярский округ',\n",
       "       'Яблоневская область', 'Ветренский регион', 'Боровлянский край',\n",
       "       'Крутоводская область', 'Ягодиновская область',\n",
       "       'Серебряноярский округ', nan, 'Лесодальний край',\n",
       "       'Верхоречная область', 'Горицветская область',\n",
       "       'Речиновская область', 'Травиницкий округ', 'Сосновская область',\n",
       "       'Серебринская область', 'Травяная область', 'Каменноярский край',\n",
       "       'Солнечноземская область', 'Светополянский округ',\n",
       "       'Заречная область', 'Ручейковский край', 'Глиногорская область',\n",
       "       'Тепляковская область', 'Каменноозёрный край',\n",
       "       'Солнечнореченская область', 'Зоринский регион',\n",
       "       'Берёзовская область', 'Лесостепной край', 'Малиновая область',\n",
       "       'Синегорский регион', 'Луговая область', 'Шанырский регион',\n",
       "       'Каменополянский округ', 'Речицкая область', 'Горностепной регион',\n",
       "       'Речицкий регион', 'Золотоключевской край', 'Лесоярская область',\n",
       "       'Зеленоградский округ', 'Миропольская область',\n",
       "       'Дальнеземская область', 'Озернопольская область',\n",
       "       'Берестовский округ', 'Ключеводский округ', 'Нежинская область',\n",
       "       'Дальнезорский край', 'Вишнёвский край', 'Каменичская область',\n",
       "       'Голубевский округ', 'Тихогорская область', 'Крутоводский регион',\n",
       "       'Чистогорская область', 'Североозёрский округ', 'Тихолесский край',\n",
       "       'Кристальная область', 'Горноземский регион',\n",
       "       'Радужнопольский край', 'Белоярская область', 'Островная область',\n",
       "       'Тихореченская область', 'Кристаловская область',\n",
       "       'Яснопольский округ', 'Островогорский округ',\n",
       "       'Радужногорская область', 'Дубравная область', 'Залесский край',\n",
       "       'Североключевской округ', 'Верховинская область',\n",
       "       'Светолесский край', 'Сосноводолинская область',\n",
       "       'Верхозёрский край', 'Лесноярский край', 'Теплоозёрский округ',\n",
       "       'Лесополянская область'], dtype=object)"
      ]
     },
     "metadata": {},
     "output_type": "display_data"
    },
    {
     "data": {
      "text/plain": [
       "238"
      ]
     },
     "metadata": {},
     "output_type": "display_data"
    }
   ],
   "source": [
    "display(df['region_name'].unique())\n",
    "# В столбце не обнаружено ошибок в категориях, но обнаружено значение с nan\n",
    "# Проверим часто ли встречаются такие пропуски \n",
    "display(df['region_name'].isna().sum())\n",
    "# Обнаружено 238 пропусков в столбце region_name"
   ]
  },
  {
   "cell_type": "code",
   "execution_count": 15,
   "metadata": {},
   "outputs": [
    {
     "data": {
      "text/plain": [
       "array(['Глиногорск', 'Озёрск', 'Родниковецк', 'Кристалевск',\n",
       "       'Дальнозолотск', 'Радужнополье', 'Радужсвет', 'Кумсай',\n",
       "       'Верховино', 'Светополье', 'Кокжар', 'Каменский', 'Лесоярич',\n",
       "       'Никольянов', 'Речинцево', 'Лесозолотск', nan, 'Дальнозерск',\n",
       "       'Серебрянка', 'Островецк', 'Родниковец', 'Дальнесветск',\n",
       "       'Луговаярово', 'Ягодиновка', 'Дальнополин', 'Солчелуг', 'Озёрчане',\n",
       "       'Серебровино', 'Лесоярово', 'Глинополье', 'Глиноград',\n",
       "       'Дальнесветин', 'Северополье', 'Теплоозеро', 'Горнодолинск',\n",
       "       'Ордакент', 'Озёрово', 'Луговинск', 'Лугоград', 'Златопольск',\n",
       "       'Крутовинск', 'Сарыжар', 'Сосновечин', 'Тихоярск', 'Яблонецк',\n",
       "       'Жаркентай', 'Широковка', 'Синеводов', 'Синеводск', 'Тихосветск',\n",
       "       'Радужанов', 'Глиногорь', 'Каменосветск', 'Родниковск',\n",
       "       'Травогород', 'Глинянск', 'Радужинск', 'Поляногорье',\n",
       "       'Дальнолесье', 'Ручейник', 'Ключеград', 'Ключеводск', 'Поленовино',\n",
       "       'Речичанск', 'Ключевополье', 'Шаныртау', 'Дальнесоснов', 'Ордасай',\n",
       "       'Теплоозёрск', 'Чистогорье', 'Ручейный', 'Островярово', 'Ягодинск',\n",
       "       'Поленоозёрово', 'Акбасты', 'Медовино', 'Каменёвка', 'Рощино',\n",
       "       'Солнечнёвка', 'Верхозолотск', 'Боровлянск', 'Лугиново',\n",
       "       'Сосноград', 'Радужнояр', 'Кенесар', 'Островенск', 'Горнополец',\n",
       "       'Яблоновец', 'Вишнёво', 'Ясногородин', 'Нежинск', 'Малиноворск',\n",
       "       'Леснойск', 'Озёриново', 'Островополь', 'Тихоречка', 'Поленояр',\n",
       "       'Ручьевино', 'Травяниново', 'Кристаловец', 'Буркиттау',\n",
       "       'Ручейковск', 'Песковино', 'Горнополье', 'Зоревец', 'Акбастау',\n",
       "       'Заречиновка', 'Сосновогорец', 'Лесочистка', 'Лесоводск',\n",
       "       'Каменевовск', 'Сарытау', 'Малиновец', 'Речевинец', 'Кристалинск',\n",
       "       'Верхоозёров', 'Травяночистск', 'Байкуль', 'Светоярчик',\n",
       "       'Зориново', 'Лесореченск', 'Водниково', 'Берестовец', 'Мироярово',\n",
       "       'Медвежанск', 'Тихолесье', 'Каменичи', 'Тихогорово', 'Лесиново',\n",
       "       'Синегориново', 'Зелёнаярово', 'Лесозерск', 'Солнечеполье',\n",
       "       'Солнечеводск', 'Лесогорич', 'Ключевогорск', 'Нивинск',\n",
       "       'Травогорск', 'Лесоярка', 'Шынгысай', 'Луговское', 'Горноставинск',\n",
       "       'Зоречанск', 'Ручейновинск', 'Лесодолинск', 'Поленовец', 'Крутово',\n",
       "       'Зеленополье', 'Тепляковск', 'Желкаин', 'Березиноск',\n",
       "       'Горнополянск', 'Песчанская', 'Светополь', 'Поленоград',\n",
       "       'Вишнёвогорск', 'Северогорск', 'Речное', 'Каменевск', 'Травянский',\n",
       "       'Глинозорь', 'Луговинец', 'Серебровка', 'Горяново', 'Медовецк',\n",
       "       'Каменозолото', 'Желтоксан', 'Ясногорец', 'Горицветск',\n",
       "       'Ясносветск', 'Сосновинск', 'Белоярск', 'Солнечейск', 'Каменояр',\n",
       "       'Зеленолесье', 'Нуртас', 'Светогория', 'Беловодск', 'Малиновинск',\n",
       "       'Серебринск', 'Ключевинск', 'Тихозорин', 'Голубино', 'Долиновка',\n",
       "       'Шалкартау', 'Миросветск', 'Травяниково', 'Ясноград',\n",
       "       'Светочистенск', 'Кумсары', 'Зеленоградовск', 'Поленосветск',\n",
       "       'Каменодолин', 'Вишнёводск', 'Северобережье', 'Светозёринск',\n",
       "       'Каражар', 'Горнополёк', 'Ключезолотск', 'Горнолуг', 'Песчанец',\n",
       "       'Бережанка', 'Соловьёвка', 'Крутоводск', 'Бозарык', 'Родничанск',\n",
       "       'Берёзодальн', 'Озёречин', 'Поленосвет', 'Зоревичск', 'Коксуйск',\n",
       "       'Златоречинск', 'Жетисайск', 'Байтерековск', 'Акжолтау',\n",
       "       'Сереброяр', 'Яблоневое', 'Лесинск', 'Речинск', 'Заречнинск',\n",
       "       'Яснополянск', 'Речиноград', 'Радужнаярова', 'Светозорск',\n",
       "       'Горнополяровск', 'Речепольск', 'Тиходеревск', 'Ягодиноград',\n",
       "       'Желтау', 'Поленовичи', 'Тулебайск', 'Златоозёрово',\n",
       "       'Кристальевка', 'Сарыбулак', 'Сосновогорск', 'Теплоград',\n",
       "       'Яблоневск', 'Реченск', 'Бурьяново', 'Островозёров', 'Солнечёвино',\n",
       "       'Берёзоречье', 'Ветеринск', 'Тихолесьевск', 'Зореполин',\n",
       "       'Тихоозёрск', 'Родинсветск', 'Медвежник', 'Ясновский',\n",
       "       'Заречнаярово', 'Светоярич', 'Ручейницк', 'Лесогорский',\n",
       "       'Зелёново', 'Крутоводинск', 'Яснолесье', 'Солнечелесье', 'Луновка',\n",
       "       'Мироград', 'Светлоярск', 'Североград', 'Медвежиновск',\n",
       "       'Сосновецк', 'Зеленополин', 'Каражол', 'Заречка', 'Глинореч',\n",
       "       'Каменевский', 'Берёзогорск', 'Светозолотск', 'Гореловск',\n",
       "       'Малиновочист', 'Островской', 'Каменогорье', 'Чистояр', 'Ташбулак',\n",
       "       'Бережанск', 'Кристалин', 'Зареченец', 'Талдысай', 'Ягодино',\n",
       "       'Синеполинск', 'Берестяград', 'Алтынсай', 'Заречийск',\n",
       "       'Берёзополье', 'Зеленополец', 'Шынартас', 'Радужновка',\n",
       "       'Поленолесье', 'Златоречье', 'Островсков', 'Тогусжол',\n",
       "       'Светоречин', 'Айкольск', 'Радужовинск', 'Айсуак', 'Заречник',\n",
       "       'Глинолес', 'Зелёнояр', 'Синегорск', 'Каменогорский', 'Полянск',\n",
       "       'Крутовичи', 'Глинозолото', 'Ягодинска', 'Верховка', 'Тепляровск',\n",
       "       'Реченогор', 'Озёроярск', 'Тастай', 'Светоярово', 'Верхозорье',\n",
       "       'Поляноречинск', 'Малиновецк', 'Острововск', 'Светочистка',\n",
       "       'Долиновск', 'Мирополь', 'Озёряновск', 'Златополье', 'Кристаловка',\n",
       "       'Берёзореч', 'Зеленогорье', 'Солнечеград', 'Голубевск',\n",
       "       'Глинополянск', 'Радугорь', 'Кристолесье', 'Березиногорск',\n",
       "       'Миролесье', 'Заречинск', 'Ягодиноск', 'Байсары', 'Берёзиново',\n",
       "       'Солнечегорск', 'Глинополин', 'Озёроград', 'Ягодинец', 'Алтынкала',\n",
       "       'Горнолесье', 'Карасуй', 'Лесополин', 'Дальнеград', 'Горноград',\n",
       "       'Березовцево', 'Берёзовка', 'Дальнозелен', 'Травино', 'Карасуйск',\n",
       "       'Кызылжол', 'Поляновск', 'Лесогорск'], dtype=object)"
      ]
     },
     "metadata": {},
     "output_type": "display_data"
    },
    {
     "data": {
      "text/plain": [
       "238"
      ]
     },
     "metadata": {},
     "output_type": "display_data"
    }
   ],
   "source": [
    "display(df['city_name'].unique())\n",
    "# В столбце не обнаружено ошибок в категориях, но обнаружено значение с nan\n",
    "# Проверим часто ли встречаются такие пропуски \n",
    "display(df['city_name'].isna().sum())\n",
    "# Обнаружено 238 пропусков в столбце city_name"
   ]
  },
  {
   "cell_type": "code",
   "execution_count": 16,
   "metadata": {},
   "outputs": [
    {
     "data": {
      "text/plain": [
       "0"
      ]
     },
     "metadata": {},
     "output_type": "display_data"
    },
    {
     "data": {
      "text/plain": [
       "0"
      ]
     },
     "metadata": {},
     "output_type": "display_data"
    },
    {
     "data": {
      "text/plain": [
       "0"
      ]
     },
     "metadata": {},
     "output_type": "display_data"
    }
   ],
   "source": [
    "# Мы видим, что в данных присутствует 238 строк с пропусками в типах мероприятия, регионе и городе\n",
    "# Принято решение удалить строки с пропусками \n",
    "df = df.dropna(subset=['event_type_main', 'region_name', 'city_name'])\n",
    "display(df['event_type_main'].isna().sum())\n",
    "display(df['region_name'].isna().sum())\n",
    "display(df['city_name'].isna().sum())"
   ]
  },
  {
   "cell_type": "markdown",
   "metadata": {},
   "source": [
    "Были проверены и обработаны категориальные столбцы. Теперь проверим количественные столбцы на выбросы"
   ]
  },
  {
   "cell_type": "code",
   "execution_count": 17,
   "metadata": {
    "scrolled": true
   },
   "outputs": [
    {
     "data": {
      "text/plain": [
       "count    285542.000000\n",
       "mean        548.013929\n",
       "std         871.750181\n",
       "min         -90.760000\n",
       "25%         114.170000\n",
       "50%         346.630000\n",
       "75%         793.320000\n",
       "max       81174.540000\n",
       "Name: revenue, dtype: float64"
      ]
     },
     "execution_count": 17,
     "metadata": {},
     "output_type": "execute_result"
    }
   ],
   "source": [
    "# Проверяем выбросы в столбце revenue в разрезе разных валют \n",
    "df[df['currency_code'] == 'rub']['revenue'].describe()"
   ]
  },
  {
   "cell_type": "code",
   "execution_count": 18,
   "metadata": {
    "scrolled": true
   },
   "outputs": [
    {
     "data": {
      "image/png": "[encoded data removed]",
      "text/plain": [
       "<Figure size 504x144 with 1 Axes>"
      ]
     },
     "metadata": {
      "needs_background": "light"
     },
     "output_type": "display_data"
    }
   ],
   "source": [
    "# Строим ящик с усами, чтобы визуализировать выбросы в данных\n",
    "plt.figure(figsize=(7, 2))\n",
    "df.loc[df['currency_code'] == 'rub'].boxplot(column='revenue', vert=False)\n",
    "plt.title('Распределение выручки')\n",
    "plt.xlabel('Выручка')\n",
    "plt.show()"
   ]
  },
  {
   "cell_type": "markdown",
   "metadata": {},
   "source": [
    "В столбце revenue в разрезе рублей обнаружены выбросы, отфильтруем данные по 99 процентилю"
   ]
  },
  {
   "cell_type": "code",
   "execution_count": 19,
   "metadata": {},
   "outputs": [
    {
     "data": {
      "text/plain": [
       "2570.8"
      ]
     },
     "metadata": {},
     "output_type": "display_data"
    }
   ],
   "source": [
    "# Определяем 99 процентиль для рублей \n",
    "rub_quantile = df[df['currency_code'] == 'rub']['revenue'].quantile(0.99)\n",
    "display(rub_quantile)"
   ]
  },
  {
   "cell_type": "code",
   "execution_count": 20,
   "metadata": {},
   "outputs": [],
   "source": [
    "# Фильтруем датасет \n",
    "df = df[(df['currency_code'] != 'rub') | (df['revenue'] <= rub_quantile)]"
   ]
  },
  {
   "cell_type": "markdown",
   "metadata": {},
   "source": []
  },
  {
   "cell_type": "code",
   "execution_count": 21,
   "metadata": {},
   "outputs": [
    {
     "data": {
      "text/plain": [
       "count     5069.000000\n",
       "mean      4995.206767\n",
       "std       4916.752776\n",
       "min          0.000000\n",
       "25%        518.100000\n",
       "50%       3698.830000\n",
       "75%       7397.660000\n",
       "max      26425.860000\n",
       "Name: revenue, dtype: float64"
      ]
     },
     "execution_count": 21,
     "metadata": {},
     "output_type": "execute_result"
    }
   ],
   "source": [
    "# Сделаем тоже самое для выручки в тенге\n",
    "df[df['currency_code'] == 'kzt']['revenue'].describe()"
   ]
  },
  {
   "cell_type": "code",
   "execution_count": 22,
   "metadata": {
    "scrolled": true
   },
   "outputs": [
    {
     "data": {
      "image/png": "[encoded data removed]",
      "text/plain": [
       "<Figure size 504x144 with 1 Axes>"
      ]
     },
     "metadata": {
      "needs_background": "light"
     },
     "output_type": "display_data"
    }
   ],
   "source": [
    "# Строим ящик с усами, чтобы визуализировать выбросы в данных\n",
    "plt.figure(figsize=(7, 2))\n",
    "df.loc[df['currency_code'] == 'kzt'].boxplot(column='revenue', vert=False)\n",
    "plt.title('Распределение выручки')\n",
    "plt.xlabel('Выручка')\n",
    "plt.show()"
   ]
  },
  {
   "cell_type": "markdown",
   "metadata": {},
   "source": [
    "В столбце revenue в разрезе рублей обнаружены выбросы, отфильтруем данные по 99 процентилю"
   ]
  },
  {
   "cell_type": "code",
   "execution_count": 23,
   "metadata": {},
   "outputs": [
    {
     "data": {
      "text/plain": [
       "17617.24"
      ]
     },
     "metadata": {},
     "output_type": "display_data"
    }
   ],
   "source": [
    "# Определяем 99 процентиль для рублей \n",
    "kzt_quantile = df[df['currency_code'] == 'kzt']['revenue'].quantile(0.99)\n",
    "display(kzt_quantile)"
   ]
  },
  {
   "cell_type": "code",
   "execution_count": 24,
   "metadata": {},
   "outputs": [],
   "source": [
    "# Фильтруем датасет \n",
    "df = df[(df['currency_code'] != 'kzt') | (df['revenue'] <= kzt_quantile)]"
   ]
  },
  {
   "cell_type": "markdown",
   "metadata": {},
   "source": [
    "Проверим есть ли выбросы в столбце tickets_count\t"
   ]
  },
  {
   "cell_type": "code",
   "execution_count": 25,
   "metadata": {},
   "outputs": [
    {
     "data": {
      "text/plain": [
       "count    287782.000000\n",
       "mean          2.740217\n",
       "std           1.162477\n",
       "min           1.000000\n",
       "25%           2.000000\n",
       "50%           3.000000\n",
       "75%           3.000000\n",
       "max          57.000000\n",
       "Name: tickets_count, dtype: float64"
      ]
     },
     "execution_count": 25,
     "metadata": {},
     "output_type": "execute_result"
    }
   ],
   "source": [
    "df['tickets_count'].describe()"
   ]
  },
  {
   "cell_type": "code",
   "execution_count": 26,
   "metadata": {},
   "outputs": [
    {
     "data": {
      "image/png": "[encoded data removed]",
      "text/plain": [
       "<Figure size 504x144 with 1 Axes>"
      ]
     },
     "metadata": {
      "needs_background": "light"
     },
     "output_type": "display_data"
    }
   ],
   "source": [
    "# В столбце обнаружены выбросы\n",
    "# Строим ящик с усами, чтобы визуализировать выбросы в данных\n",
    "plt.figure(figsize=(7, 2))\n",
    "df.boxplot(column='tickets_count', vert=False)\n",
    "plt.title('Распределение кол-ва билетов в заказе')\n",
    "plt.xlabel('Кол-во билетов в заказе')\n",
    "plt.show()"
   ]
  },
  {
   "cell_type": "markdown",
   "metadata": {},
   "source": [
    "В столбце tickets_count обнаружены выбросы, отфильтруем данные по 99 процентилю"
   ]
  },
  {
   "cell_type": "code",
   "execution_count": 27,
   "metadata": {},
   "outputs": [
    {
     "data": {
      "text/plain": [
       "6.0"
      ]
     },
     "metadata": {},
     "output_type": "display_data"
    }
   ],
   "source": [
    "# Определяем 99\n",
    "ticket_quantile = df['tickets_count'].quantile(0.99)\n",
    "display(ticket_quantile)"
   ]
  },
  {
   "cell_type": "code",
   "execution_count": 28,
   "metadata": {},
   "outputs": [],
   "source": [
    "# Фильтруем датасет \n",
    "df = df[df['tickets_count'] <= ticket_quantile]"
   ]
  },
  {
   "cell_type": "code",
   "execution_count": 29,
   "metadata": {},
   "outputs": [
    {
     "name": "stdout",
     "output_type": "stream",
     "text": [
      "<class 'pandas.core.frame.DataFrame'>\n",
      "Int64Index: 287602 entries, 0 to 290848\n",
      "Data columns (total 28 columns):\n",
      " #   Column                  Non-Null Count   Dtype  \n",
      "---  ------                  --------------   -----  \n",
      " 0   order_id                287602 non-null  int64  \n",
      " 1   user_id                 287602 non-null  object \n",
      " 2   created_dt_msk          287602 non-null  object \n",
      " 3   created_ts_msk          287602 non-null  object \n",
      " 4   event_id                287602 non-null  int64  \n",
      " 5   cinema_circuit          287602 non-null  object \n",
      " 6   age_limit               287602 non-null  int64  \n",
      " 7   currency_code           287602 non-null  object \n",
      " 8   device_type_canonical   287602 non-null  object \n",
      " 9   revenue                 287602 non-null  float64\n",
      " 10  service_name            287602 non-null  object \n",
      " 11  tickets_count           287602 non-null  int64  \n",
      " 12  total                   287602 non-null  float64\n",
      " 13  days_since_prev         265901 non-null  float64\n",
      " 14  event_name              287602 non-null  object \n",
      " 15  event_type_description  287602 non-null  object \n",
      " 16  event_type_main         287602 non-null  object \n",
      " 17  organizers              287602 non-null  object \n",
      " 18  region_name             287602 non-null  object \n",
      " 19  city_name               287602 non-null  object \n",
      " 20  city_id                 287602 non-null  float64\n",
      " 21  venue_id                287602 non-null  float64\n",
      " 22  venue_name              287602 non-null  object \n",
      " 23  venue_address           287602 non-null  object \n",
      " 24  data                    287602 non-null  object \n",
      " 25  nominal                 287602 non-null  int64  \n",
      " 26  curs                    287602 non-null  float64\n",
      " 27  cdx                     287602 non-null  object \n",
      "dtypes: float64(6), int64(5), object(17)\n",
      "memory usage: 63.6+ MB\n"
     ]
    }
   ],
   "source": [
    "#Посмотрим на датасет после этих манипуляций \n",
    "df.info()"
   ]
  },
  {
   "cell_type": "markdown",
   "metadata": {},
   "source": [
    "Теперь проверим данные на явные и неявные дубликаты "
   ]
  },
  {
   "cell_type": "code",
   "execution_count": 30,
   "metadata": {},
   "outputs": [
    {
     "data": {
      "text/plain": [
       "0"
      ]
     },
     "execution_count": 30,
     "metadata": {},
     "output_type": "execute_result"
    }
   ],
   "source": [
    "# Проверяем данные на явные дубликаты\n",
    "df.duplicated().sum()"
   ]
  },
  {
   "cell_type": "markdown",
   "metadata": {},
   "source": [
    "Явных дубликатов в данных не обнаруженно "
   ]
  },
  {
   "cell_type": "code",
   "execution_count": 31,
   "metadata": {},
   "outputs": [
    {
     "data": {
      "text/plain": [
       "0"
      ]
     },
     "metadata": {},
     "output_type": "display_data"
    },
    {
     "data": {
      "text/plain": [
       "39"
      ]
     },
     "metadata": {},
     "output_type": "display_data"
    }
   ],
   "source": [
    "# Проверяем данные на неявные дубликаты в столбце order_id\n",
    "display(df.duplicated(subset = 'order_id').sum())\n",
    "display(df.duplicated(subset = \n",
    "('user_id', 'event_id', 'created_ts_msk', 'cinema_circuit', 'age_limit','currency_code',\n",
    "'tickets_count', 'revenue', 'service_name', 'device_type_canonical', 'event_name', 'organizers','city_id')).sum())"
   ]
  },
  {
   "cell_type": "markdown",
   "metadata": {},
   "source": [
    "В данных обнаружено 39 неявных дубликатов. Удалим их "
   ]
  },
  {
   "cell_type": "code",
   "execution_count": 32,
   "metadata": {},
   "outputs": [],
   "source": [
    "df = df.drop_duplicates(subset = ('user_id', 'event_id', 'created_ts_msk', 'cinema_circuit', 'age_limit','currency_code','tickets_count', 'revenue', 'service_name', 'device_type_canonical', 'event_name', 'organizers','city_id'))"
   ]
  },
  {
   "cell_type": "markdown",
   "metadata": {},
   "source": [
    "Данные были очищены от неявных дубликатов, было удалено 39 строк, явных дубликатов в данных не было обнаружено. Теперь приведем столбцы с датой и временем к типу данных datetime, но перед этим удалим дублирующий столбец с датой data"
   ]
  },
  {
   "cell_type": "code",
   "execution_count": 33,
   "metadata": {},
   "outputs": [],
   "source": [
    "# Удаляем столбец дублирующий дату data\n",
    "df = df.drop(columns=['data'])"
   ]
  },
  {
   "cell_type": "markdown",
   "metadata": {},
   "source": [
    "Меняем типы данных в столбцах created_dt_msk и created_ts_msk c object на datetime "
   ]
  },
  {
   "cell_type": "code",
   "execution_count": 34,
   "metadata": {},
   "outputs": [
    {
     "name": "stdout",
     "output_type": "stream",
     "text": [
      "<class 'pandas.core.frame.DataFrame'>\n",
      "Int64Index: 287563 entries, 0 to 290848\n",
      "Data columns (total 27 columns):\n",
      " #   Column                  Non-Null Count   Dtype         \n",
      "---  ------                  --------------   -----         \n",
      " 0   order_id                287563 non-null  int64         \n",
      " 1   user_id                 287563 non-null  object        \n",
      " 2   created_dt_msk          287563 non-null  datetime64[ns]\n",
      " 3   created_ts_msk          287563 non-null  datetime64[ns]\n",
      " 4   event_id                287563 non-null  int64         \n",
      " 5   cinema_circuit          287563 non-null  object        \n",
      " 6   age_limit               287563 non-null  int64         \n",
      " 7   currency_code           287563 non-null  object        \n",
      " 8   device_type_canonical   287563 non-null  object        \n",
      " 9   revenue                 287563 non-null  float64       \n",
      " 10  service_name            287563 non-null  object        \n",
      " 11  tickets_count           287563 non-null  int64         \n",
      " 12  total                   287563 non-null  float64       \n",
      " 13  days_since_prev         265862 non-null  float64       \n",
      " 14  event_name              287563 non-null  object        \n",
      " 15  event_type_description  287563 non-null  object        \n",
      " 16  event_type_main         287563 non-null  object        \n",
      " 17  organizers              287563 non-null  object        \n",
      " 18  region_name             287563 non-null  object        \n",
      " 19  city_name               287563 non-null  object        \n",
      " 20  city_id                 287563 non-null  float64       \n",
      " 21  venue_id                287563 non-null  float64       \n",
      " 22  venue_name              287563 non-null  object        \n",
      " 23  venue_address           287563 non-null  object        \n",
      " 24  nominal                 287563 non-null  int64         \n",
      " 25  curs                    287563 non-null  float64       \n",
      " 26  cdx                     287563 non-null  object        \n",
      "dtypes: datetime64[ns](2), float64(6), int64(5), object(14)\n",
      "memory usage: 61.4+ MB\n"
     ]
    }
   ],
   "source": [
    "df['created_dt_msk'] = pd.to_datetime(df['created_dt_msk'])\n",
    "df['created_ts_msk'] = pd.to_datetime(df['created_ts_msk'])\n",
    "df.info()"
   ]
  },
  {
   "cell_type": "code",
   "execution_count": 35,
   "metadata": {},
   "outputs": [],
   "source": [
    "# Создаем столбец 'revenue_rub', где вся выручка будет представлена в рублях, то есть переводим тенге в рубли, \n",
    "#а рубли оставляем \n",
    "df['revenue_rub'] = np.where(\n",
    "    df['currency_code'] == 'kzt',\n",
    "    df['revenue'] / 100 * df['curs'],\n",
    "    df['revenue']\n",
    ")"
   ]
  },
  {
   "cell_type": "code",
   "execution_count": 36,
   "metadata": {},
   "outputs": [],
   "source": [
    "# Создаем столбец 'one_ticket_revenue_rub', где представлена выручка с одного билета на мероприятие \n",
    "df['one_ticket_revenue_rub'] = df['revenue_rub'] / df['tickets_count']"
   ]
  },
  {
   "cell_type": "code",
   "execution_count": 37,
   "metadata": {},
   "outputs": [],
   "source": [
    "# Создаем столбец 'month', где содержится номер месяца, когда была совершена покупка \n",
    "df['month'] = df['created_dt_msk'].dt.month"
   ]
  },
  {
   "cell_type": "code",
   "execution_count": 38,
   "metadata": {},
   "outputs": [],
   "source": [
    "# Создаем столбец 'season', где содержится сезон (зима, весна, лето, осень) совершения покупки\n",
    "def get_season(month):\n",
    "    if month in [12, 1, 2]:\n",
    "        return 'зима'\n",
    "    elif month in [3, 4, 5]:\n",
    "        return 'весна'\n",
    "    elif month in [6, 7, 8]:\n",
    "        return 'лето'\n",
    "    else:\n",
    "        return 'осень'\n",
    "\n",
    "df['season'] = df['month'].apply(get_season)"
   ]
  },
  {
   "cell_type": "code",
   "execution_count": 39,
   "metadata": {},
   "outputs": [
    {
     "name": "stdout",
     "output_type": "stream",
     "text": [
      "<class 'pandas.core.frame.DataFrame'>\n",
      "Int64Index: 287563 entries, 0 to 290848\n",
      "Data columns (total 31 columns):\n",
      " #   Column                  Non-Null Count   Dtype         \n",
      "---  ------                  --------------   -----         \n",
      " 0   order_id                287563 non-null  int64         \n",
      " 1   user_id                 287563 non-null  object        \n",
      " 2   created_dt_msk          287563 non-null  datetime64[ns]\n",
      " 3   created_ts_msk          287563 non-null  datetime64[ns]\n",
      " 4   event_id                287563 non-null  int64         \n",
      " 5   cinema_circuit          287563 non-null  object        \n",
      " 6   age_limit               287563 non-null  int64         \n",
      " 7   currency_code           287563 non-null  object        \n",
      " 8   device_type_canonical   287563 non-null  object        \n",
      " 9   revenue                 287563 non-null  float64       \n",
      " 10  service_name            287563 non-null  object        \n",
      " 11  tickets_count           287563 non-null  int64         \n",
      " 12  total                   287563 non-null  float64       \n",
      " 13  days_since_prev         265862 non-null  float64       \n",
      " 14  event_name              287563 non-null  object        \n",
      " 15  event_type_description  287563 non-null  object        \n",
      " 16  event_type_main         287563 non-null  object        \n",
      " 17  organizers              287563 non-null  object        \n",
      " 18  region_name             287563 non-null  object        \n",
      " 19  city_name               287563 non-null  object        \n",
      " 20  city_id                 287563 non-null  float64       \n",
      " 21  venue_id                287563 non-null  float64       \n",
      " 22  venue_name              287563 non-null  object        \n",
      " 23  venue_address           287563 non-null  object        \n",
      " 24  nominal                 287563 non-null  int64         \n",
      " 25  curs                    287563 non-null  float64       \n",
      " 26  cdx                     287563 non-null  object        \n",
      " 27  revenue_rub             287563 non-null  float64       \n",
      " 28  one_ticket_revenue_rub  287563 non-null  float64       \n",
      " 29  month                   287563 non-null  int64         \n",
      " 30  season                  287563 non-null  object        \n",
      "dtypes: datetime64[ns](2), float64(8), int64(6), object(15)\n",
      "memory usage: 70.2+ MB\n"
     ]
    },
    {
     "data": {
      "text/html": [
       "<div>\n",
       "<style scoped>\n",
       "    .dataframe tbody tr th:only-of-type {\n",
       "        vertical-align: middle;\n",
       "    }\n",
       "\n",
       "    .dataframe tbody tr th {\n",
       "        vertical-align: top;\n",
       "    }\n",
       "\n",
       "    .dataframe thead th {\n",
       "        text-align: right;\n",
       "    }\n",
       "</style>\n",
       "<table border=\"1\" class=\"dataframe\">\n",
       "  <thead>\n",
       "    <tr style=\"text-align: right;\">\n",
       "      <th></th>\n",
       "      <th>order_id</th>\n",
       "      <th>user_id</th>\n",
       "      <th>created_dt_msk</th>\n",
       "      <th>created_ts_msk</th>\n",
       "      <th>event_id</th>\n",
       "      <th>cinema_circuit</th>\n",
       "      <th>age_limit</th>\n",
       "      <th>currency_code</th>\n",
       "      <th>device_type_canonical</th>\n",
       "      <th>revenue</th>\n",
       "      <th>service_name</th>\n",
       "      <th>tickets_count</th>\n",
       "      <th>total</th>\n",
       "      <th>days_since_prev</th>\n",
       "      <th>event_name</th>\n",
       "      <th>event_type_description</th>\n",
       "      <th>event_type_main</th>\n",
       "      <th>organizers</th>\n",
       "      <th>region_name</th>\n",
       "      <th>city_name</th>\n",
       "      <th>city_id</th>\n",
       "      <th>venue_id</th>\n",
       "      <th>venue_name</th>\n",
       "      <th>venue_address</th>\n",
       "      <th>nominal</th>\n",
       "      <th>curs</th>\n",
       "      <th>cdx</th>\n",
       "      <th>revenue_rub</th>\n",
       "      <th>one_ticket_revenue_rub</th>\n",
       "      <th>month</th>\n",
       "      <th>season</th>\n",
       "    </tr>\n",
       "  </thead>\n",
       "  <tbody>\n",
       "    <tr>\n",
       "      <th>0</th>\n",
       "      <td>4359165</td>\n",
       "      <td>0002849b70a3ce2</td>\n",
       "      <td>2024-08-20</td>\n",
       "      <td>2024-08-20 16:08:03</td>\n",
       "      <td>169230</td>\n",
       "      <td>нет</td>\n",
       "      <td>16</td>\n",
       "      <td>rub</td>\n",
       "      <td>mobile</td>\n",
       "      <td>1521.94</td>\n",
       "      <td>Край билетов</td>\n",
       "      <td>4</td>\n",
       "      <td>10870.99</td>\n",
       "      <td>NaN</td>\n",
       "      <td>f0f7b271-04eb-4af6-bcb8-8f05cf46d6ad</td>\n",
       "      <td>спектакль</td>\n",
       "      <td>театр</td>\n",
       "      <td>№3322</td>\n",
       "      <td>Каменевский регион</td>\n",
       "      <td>Глиногорск</td>\n",
       "      <td>213.0</td>\n",
       "      <td>3972.0</td>\n",
       "      <td>Сценический центр \"Деталь\" Групп</td>\n",
       "      <td>алл. Машиностроителей, д. 19 стр. 6</td>\n",
       "      <td>100</td>\n",
       "      <td>18.6972</td>\n",
       "      <td>kzt</td>\n",
       "      <td>1521.94</td>\n",
       "      <td>380.4850</td>\n",
       "      <td>8</td>\n",
       "      <td>лето</td>\n",
       "    </tr>\n",
       "    <tr>\n",
       "      <th>1</th>\n",
       "      <td>7965605</td>\n",
       "      <td>0005ca5e93f2cf4</td>\n",
       "      <td>2024-07-23</td>\n",
       "      <td>2024-07-23 18:36:24</td>\n",
       "      <td>237325</td>\n",
       "      <td>нет</td>\n",
       "      <td>0</td>\n",
       "      <td>rub</td>\n",
       "      <td>mobile</td>\n",
       "      <td>289.45</td>\n",
       "      <td>Мой билет</td>\n",
       "      <td>2</td>\n",
       "      <td>2067.51</td>\n",
       "      <td>NaN</td>\n",
       "      <td>40efeb04-81b7-4135-b41f-708ff00cc64c</td>\n",
       "      <td>событие</td>\n",
       "      <td>выставки</td>\n",
       "      <td>№4850</td>\n",
       "      <td>Каменевский регион</td>\n",
       "      <td>Глиногорск</td>\n",
       "      <td>213.0</td>\n",
       "      <td>2941.0</td>\n",
       "      <td>Музыкальная школа для детей \"Аккаунт\" Лтд</td>\n",
       "      <td>алл. Шмидта, д. 9 стр. 4</td>\n",
       "      <td>100</td>\n",
       "      <td>18.3419</td>\n",
       "      <td>kzt</td>\n",
       "      <td>289.45</td>\n",
       "      <td>144.7250</td>\n",
       "      <td>7</td>\n",
       "      <td>лето</td>\n",
       "    </tr>\n",
       "    <tr>\n",
       "      <th>2</th>\n",
       "      <td>7292370</td>\n",
       "      <td>0005ca5e93f2cf4</td>\n",
       "      <td>2024-10-06</td>\n",
       "      <td>2024-10-06 13:56:02</td>\n",
       "      <td>578454</td>\n",
       "      <td>нет</td>\n",
       "      <td>0</td>\n",
       "      <td>rub</td>\n",
       "      <td>mobile</td>\n",
       "      <td>1258.57</td>\n",
       "      <td>За билетом!</td>\n",
       "      <td>4</td>\n",
       "      <td>13984.16</td>\n",
       "      <td>75.0</td>\n",
       "      <td>01f3fb7b-ed07-4f94-b1d3-9a2e1ee5a8ca</td>\n",
       "      <td>цирковое шоу</td>\n",
       "      <td>другое</td>\n",
       "      <td>№1540</td>\n",
       "      <td>Каменевский регион</td>\n",
       "      <td>Глиногорск</td>\n",
       "      <td>213.0</td>\n",
       "      <td>4507.0</td>\n",
       "      <td>Училище искусств \"Нирвана\" Инк</td>\n",
       "      <td>алл. Юбилейная, д. 5/6</td>\n",
       "      <td>100</td>\n",
       "      <td>19.6475</td>\n",
       "      <td>kzt</td>\n",
       "      <td>1258.57</td>\n",
       "      <td>314.6425</td>\n",
       "      <td>10</td>\n",
       "      <td>осень</td>\n",
       "    </tr>\n",
       "    <tr>\n",
       "      <th>3</th>\n",
       "      <td>1139875</td>\n",
       "      <td>000898990054619</td>\n",
       "      <td>2024-07-13</td>\n",
       "      <td>2024-07-13 19:40:48</td>\n",
       "      <td>387271</td>\n",
       "      <td>нет</td>\n",
       "      <td>0</td>\n",
       "      <td>rub</td>\n",
       "      <td>mobile</td>\n",
       "      <td>8.49</td>\n",
       "      <td>Лови билет!</td>\n",
       "      <td>2</td>\n",
       "      <td>212.28</td>\n",
       "      <td>NaN</td>\n",
       "      <td>2f638715-8844-466c-b43f-378a627c419f</td>\n",
       "      <td>выставка</td>\n",
       "      <td>другое</td>\n",
       "      <td>№5049</td>\n",
       "      <td>Североярская область</td>\n",
       "      <td>Озёрск</td>\n",
       "      <td>2.0</td>\n",
       "      <td>3574.0</td>\n",
       "      <td>Театр альтернативного искусства \"Ода\" Лимитед</td>\n",
       "      <td>алл. Есенина, д. 243 к. 3/8</td>\n",
       "      <td>100</td>\n",
       "      <td>18.5010</td>\n",
       "      <td>kzt</td>\n",
       "      <td>8.49</td>\n",
       "      <td>4.2450</td>\n",
       "      <td>7</td>\n",
       "      <td>лето</td>\n",
       "    </tr>\n",
       "    <tr>\n",
       "      <th>4</th>\n",
       "      <td>972400</td>\n",
       "      <td>000898990054619</td>\n",
       "      <td>2024-10-04</td>\n",
       "      <td>2024-10-04 22:33:15</td>\n",
       "      <td>509453</td>\n",
       "      <td>нет</td>\n",
       "      <td>18</td>\n",
       "      <td>rub</td>\n",
       "      <td>mobile</td>\n",
       "      <td>1390.41</td>\n",
       "      <td>Билеты без проблем</td>\n",
       "      <td>3</td>\n",
       "      <td>10695.43</td>\n",
       "      <td>83.0</td>\n",
       "      <td>10d805d3-9809-4d8a-834e-225b7d03f95d</td>\n",
       "      <td>шоу</td>\n",
       "      <td>стендап</td>\n",
       "      <td>№832</td>\n",
       "      <td>Озернинский край</td>\n",
       "      <td>Родниковецк</td>\n",
       "      <td>240.0</td>\n",
       "      <td>1896.0</td>\n",
       "      <td>Театр кукол \"Огни\" Инкорпорэйтед</td>\n",
       "      <td>ш. Набережное, д. 595 стр. 8</td>\n",
       "      <td>100</td>\n",
       "      <td>19.6648</td>\n",
       "      <td>kzt</td>\n",
       "      <td>1390.41</td>\n",
       "      <td>463.4700</td>\n",
       "      <td>10</td>\n",
       "      <td>осень</td>\n",
       "    </tr>\n",
       "  </tbody>\n",
       "</table>\n",
       "</div>"
      ],
      "text/plain": [
       "   order_id          user_id created_dt_msk      created_ts_msk  event_id  \\\n",
       "0   4359165  0002849b70a3ce2     2024-08-20 2024-08-20 16:08:03    169230   \n",
       "1   7965605  0005ca5e93f2cf4     2024-07-23 2024-07-23 18:36:24    237325   \n",
       "2   7292370  0005ca5e93f2cf4     2024-10-06 2024-10-06 13:56:02    578454   \n",
       "3   1139875  000898990054619     2024-07-13 2024-07-13 19:40:48    387271   \n",
       "4    972400  000898990054619     2024-10-04 2024-10-04 22:33:15    509453   \n",
       "\n",
       "  cinema_circuit  age_limit currency_code device_type_canonical  revenue  \\\n",
       "0            нет         16           rub                mobile  1521.94   \n",
       "1            нет          0           rub                mobile   289.45   \n",
       "2            нет          0           rub                mobile  1258.57   \n",
       "3            нет          0           rub                mobile     8.49   \n",
       "4            нет         18           rub                mobile  1390.41   \n",
       "\n",
       "         service_name  tickets_count     total  days_since_prev  \\\n",
       "0        Край билетов              4  10870.99              NaN   \n",
       "1           Мой билет              2   2067.51              NaN   \n",
       "2         За билетом!              4  13984.16             75.0   \n",
       "3         Лови билет!              2    212.28              NaN   \n",
       "4  Билеты без проблем              3  10695.43             83.0   \n",
       "\n",
       "                             event_name event_type_description  \\\n",
       "0  f0f7b271-04eb-4af6-bcb8-8f05cf46d6ad              спектакль   \n",
       "1  40efeb04-81b7-4135-b41f-708ff00cc64c                событие   \n",
       "2  01f3fb7b-ed07-4f94-b1d3-9a2e1ee5a8ca           цирковое шоу   \n",
       "3  2f638715-8844-466c-b43f-378a627c419f               выставка   \n",
       "4  10d805d3-9809-4d8a-834e-225b7d03f95d                    шоу   \n",
       "\n",
       "  event_type_main organizers           region_name    city_name  city_id  \\\n",
       "0           театр      №3322    Каменевский регион   Глиногорск    213.0   \n",
       "1        выставки      №4850    Каменевский регион   Глиногорск    213.0   \n",
       "2          другое      №1540    Каменевский регион   Глиногорск    213.0   \n",
       "3          другое      №5049  Североярская область       Озёрск      2.0   \n",
       "4         стендап       №832      Озернинский край  Родниковецк    240.0   \n",
       "\n",
       "   venue_id                                     venue_name  \\\n",
       "0    3972.0               Сценический центр \"Деталь\" Групп   \n",
       "1    2941.0      Музыкальная школа для детей \"Аккаунт\" Лтд   \n",
       "2    4507.0                 Училище искусств \"Нирвана\" Инк   \n",
       "3    3574.0  Театр альтернативного искусства \"Ода\" Лимитед   \n",
       "4    1896.0               Театр кукол \"Огни\" Инкорпорэйтед   \n",
       "\n",
       "                         venue_address  nominal     curs  cdx  revenue_rub  \\\n",
       "0  алл. Машиностроителей, д. 19 стр. 6      100  18.6972  kzt      1521.94   \n",
       "1             алл. Шмидта, д. 9 стр. 4      100  18.3419  kzt       289.45   \n",
       "2               алл. Юбилейная, д. 5/6      100  19.6475  kzt      1258.57   \n",
       "3          алл. Есенина, д. 243 к. 3/8      100  18.5010  kzt         8.49   \n",
       "4         ш. Набережное, д. 595 стр. 8      100  19.6648  kzt      1390.41   \n",
       "\n",
       "   one_ticket_revenue_rub  month season  \n",
       "0                380.4850      8   лето  \n",
       "1                144.7250      7   лето  \n",
       "2                314.6425     10  осень  \n",
       "3                  4.2450      7   лето  \n",
       "4                463.4700     10  осень  "
      ]
     },
     "execution_count": 39,
     "metadata": {},
     "output_type": "execute_result"
    }
   ],
   "source": [
    "# Проверим как выглядит датасет после всех изменений \n",
    "df.info()\n",
    "pd.set_option('display.max_columns', 500)\n",
    "df.head()"
   ]
  },
  {
   "cell_type": "markdown",
   "metadata": {},
   "source": [
    "**Основные выводы после предообработки данных**:\n",
    "\n",
    "- В начале все датасеты были объедененны в один - df для упрощения дальнейшей работы \n",
    "- В данных было обнаружено 238 значений с nan в совновных категориальных столбцах, строки с nan были удалены \n",
    "- Данные были проверены на выбросы в столбцах revenue в разерезе валют и tickets_count. Были обнаружены выбросы, данные в этих столбцах были отфильтрованы по 99 процентилю \n",
    "- В столбцах не были обнаружены явные дубликаты, но было обнаружено 39 неявных дубликатов, данные были от них очищены\n",
    "- Из данных был удален столбец data дублирующий дату\n",
    "- В столбцах created_dt_msk и created_ts_msk тип данных был преобразован c object на datetime. В оснальных столбцах не было обнаружено проблем с типом данных \n",
    "- Был создан столбец 'revenue_rub', где вся выручка представлена в рублях, тенге были переведены в рубли, а рубли остались неизменными\n",
    "- Был создан столбец 'one_ticket_revenue_rub', содержащий выручку с одного билета на мероприятие\n",
    "- Был создан столбец 'month', сожержащий номер месяца, совершения покупки \n",
    "- Был создан столбец 'season', содержащий сезон (зима, весна, лето, осень) совершения покупки\n",
    "- Количество строк после всех преобразований сократилось с 290849 до 287563. То есть было удалено 3286 строк, что составляет примерно 1% данных."
   ]
  },
  {
   "cell_type": "markdown",
   "metadata": {},
   "source": [
    "## Исследовательский анализ данных"
   ]
  },
  {
   "cell_type": "markdown",
   "metadata": {},
   "source": [
    "### Анализ распределения заказов по сегментам и их сезонные изменения"
   ]
  },
  {
   "cell_type": "markdown",
   "metadata": {},
   "source": [
    "Датасет был предобработан, теперь перейдем к исследовательской части работы, для начала проанализируем распределения заказов по сегментам и их сезонные изменения"
   ]
  },
  {
   "cell_type": "code",
   "execution_count": 40,
   "metadata": {},
   "outputs": [
    {
     "data": {
      "text/plain": [
       "month\n",
       "6     34147\n",
       "7     40376\n",
       "8     44514\n",
       "9     69310\n",
       "10    99216\n",
       "Name: order_id, dtype: int64"
      ]
     },
     "metadata": {},
     "output_type": "display_data"
    }
   ],
   "source": [
    "# Найдем для каждого месяца количество заказов\n",
    "order_month = df.groupby('month')['order_id'].count()\n",
    "display (order_month)"
   ]
  },
  {
   "cell_type": "code",
   "execution_count": 41,
   "metadata": {},
   "outputs": [
    {
     "data": {
      "image/png": "[encoded data removed]",
      "text/plain": [
       "<Figure size 720x576 with 1 Axes>"
      ]
     },
     "metadata": {
      "needs_background": "light"
     },
     "output_type": "display_data"
    }
   ],
   "source": [
    "# Визуализируем полученный данные \n",
    "plt.figure(figsize=(10, 8))\n",
    "order_month.plot(kind='line',legend=False)\n",
    "plt.title('Изменение количества заказов по месяцам')\n",
    "plt.ylabel('Количество заказов')\n",
    "plt.xlabel('Месяц')\n",
    "plt.xticks(rotation=0)\n",
    "plt.grid()\n",
    "plt.show()"
   ]
  },
  {
   "cell_type": "markdown",
   "metadata": {},
   "source": [
    "Как мы видим есть тенденция на увелечение кол-ва заказов к осени.\n",
    "\n",
    "Теперь для осеннего и летнего периодов сравним распределение заказов билетов по разным категориям: тип мероприятия, тип устройства, категория мероприятия по возрастному рейтингу."
   ]
  },
  {
   "cell_type": "code",
   "execution_count": 42,
   "metadata": {},
   "outputs": [
    {
     "data": {
      "text/html": [
       "<div>\n",
       "<style scoped>\n",
       "    .dataframe tbody tr th:only-of-type {\n",
       "        vertical-align: middle;\n",
       "    }\n",
       "\n",
       "    .dataframe tbody tr th {\n",
       "        vertical-align: top;\n",
       "    }\n",
       "\n",
       "    .dataframe thead th {\n",
       "        text-align: right;\n",
       "    }\n",
       "</style>\n",
       "<table border=\"1\" class=\"dataframe\">\n",
       "  <thead>\n",
       "    <tr style=\"text-align: right;\">\n",
       "      <th>season</th>\n",
       "      <th>лето</th>\n",
       "      <th>осень</th>\n",
       "    </tr>\n",
       "    <tr>\n",
       "      <th>event_type_main</th>\n",
       "      <th></th>\n",
       "      <th></th>\n",
       "    </tr>\n",
       "  </thead>\n",
       "  <tbody>\n",
       "    <tr>\n",
       "      <th>выставки</th>\n",
       "      <td>0.008402</td>\n",
       "      <td>0.008471</td>\n",
       "    </tr>\n",
       "    <tr>\n",
       "      <th>другое</th>\n",
       "      <td>0.112323</td>\n",
       "      <td>0.115296</td>\n",
       "    </tr>\n",
       "    <tr>\n",
       "      <th>концерты</th>\n",
       "      <td>0.176525</td>\n",
       "      <td>0.218133</td>\n",
       "    </tr>\n",
       "    <tr>\n",
       "      <th>спорт</th>\n",
       "      <td>0.010446</td>\n",
       "      <td>0.065620</td>\n",
       "    </tr>\n",
       "    <tr>\n",
       "      <th>стендап</th>\n",
       "      <td>0.022068</td>\n",
       "      <td>0.024075</td>\n",
       "    </tr>\n",
       "    <tr>\n",
       "      <th>театр</th>\n",
       "      <td>0.083237</td>\n",
       "      <td>0.148580</td>\n",
       "    </tr>\n",
       "    <tr>\n",
       "      <th>ёлки</th>\n",
       "      <td>0.000949</td>\n",
       "      <td>0.005873</td>\n",
       "    </tr>\n",
       "  </tbody>\n",
       "</table>\n",
       "</div>"
      ],
      "text/plain": [
       "season               лето     осень\n",
       "event_type_main                    \n",
       "выставки         0.008402  0.008471\n",
       "другое           0.112323  0.115296\n",
       "концерты         0.176525  0.218133\n",
       "спорт            0.010446  0.065620\n",
       "стендап          0.022068  0.024075\n",
       "театр            0.083237  0.148580\n",
       "ёлки             0.000949  0.005873"
      ]
     },
     "metadata": {},
     "output_type": "display_data"
    }
   ],
   "source": [
    "# Для начала рассчитаем доля заказов по мероприятиям в зависимости от сезона\n",
    "order_event = df.groupby(['season','event_type_main'])['order_id'].count()/df['order_id'].count()\n",
    "order_event = order_event.unstack(level=0).fillna(0)\n",
    "display (order_event)"
   ]
  },
  {
   "cell_type": "code",
   "execution_count": 43,
   "metadata": {
    "scrolled": false
   },
   "outputs": [
    {
     "data": {
      "image/png": "[encoded data removed]",
      "text/plain": [
       "<Figure size 720x576 with 1 Axes>"
      ]
     },
     "metadata": {
      "needs_background": "light"
     },
     "output_type": "display_data"
    }
   ],
   "source": [
    "# Визуализурием данные \n",
    "order_event.sort_values(by = 'осень').plot(kind='bar',legend=True, figsize=(10, 8))\n",
    "plt.title('Распределение заказов билетов по типу меропрития ')\n",
    "plt.ylabel('Доля заказов')\n",
    "plt.xlabel('Тип мероприятия')\n",
    "plt.xticks(rotation=0)\n",
    "plt.grid()\n",
    "plt.show()"
   ]
  },
  {
   "cell_type": "markdown",
   "metadata": {},
   "source": [
    "Практически по всем типам мероприятий в осенний период доля заказов значительно больше, кроме категории \"выставки\", доля этих мероприятий примерно одинакова и осенью, и летом. Самые популярные мероприятия для обоих сезонов: концерты, театр, другое\n",
    "\n",
    "Теперь для осеннего и летнего периодов сравним распределение заказов билетов по типам устройств "
   ]
  },
  {
   "cell_type": "code",
   "execution_count": 44,
   "metadata": {},
   "outputs": [
    {
     "data": {
      "text/html": [
       "<div>\n",
       "<style scoped>\n",
       "    .dataframe tbody tr th:only-of-type {\n",
       "        vertical-align: middle;\n",
       "    }\n",
       "\n",
       "    .dataframe tbody tr th {\n",
       "        vertical-align: top;\n",
       "    }\n",
       "\n",
       "    .dataframe thead th {\n",
       "        text-align: right;\n",
       "    }\n",
       "</style>\n",
       "<table border=\"1\" class=\"dataframe\">\n",
       "  <thead>\n",
       "    <tr style=\"text-align: right;\">\n",
       "      <th>season</th>\n",
       "      <th>лето</th>\n",
       "      <th>осень</th>\n",
       "    </tr>\n",
       "    <tr>\n",
       "      <th>device_type_canonical</th>\n",
       "      <th></th>\n",
       "      <th></th>\n",
       "    </tr>\n",
       "  </thead>\n",
       "  <tbody>\n",
       "    <tr>\n",
       "      <th>desktop</th>\n",
       "      <td>0.080083</td>\n",
       "      <td>0.119125</td>\n",
       "    </tr>\n",
       "    <tr>\n",
       "      <th>mobile</th>\n",
       "      <td>0.333868</td>\n",
       "      <td>0.466924</td>\n",
       "    </tr>\n",
       "  </tbody>\n",
       "</table>\n",
       "</div>"
      ],
      "text/plain": [
       "season                     лето     осень\n",
       "device_type_canonical                    \n",
       "desktop                0.080083  0.119125\n",
       "mobile                 0.333868  0.466924"
      ]
     },
     "metadata": {},
     "output_type": "display_data"
    }
   ],
   "source": [
    "# Посчитаем долю заказов по типам устройств в зависимости от сезона\n",
    "order_device = df.groupby(['season','device_type_canonical'])['order_id'].count()/df['order_id'].count()\n",
    "order_device = order_device.unstack(level=0).fillna(0)\n",
    "display(order_device)"
   ]
  },
  {
   "cell_type": "code",
   "execution_count": 45,
   "metadata": {},
   "outputs": [
    {
     "data": {
      "image/png": "[encoded data removed]",
      "text/plain": [
       "<Figure size 720x576 with 1 Axes>"
      ]
     },
     "metadata": {
      "needs_background": "light"
     },
     "output_type": "display_data"
    }
   ],
   "source": [
    "# Визуализурием данные \n",
    "order_device.sort_values(by = 'осень').plot(kind='bar',legend=True, figsize=(10, 8))\n",
    "plt.title('Распределение заказов билетов по типу устройства')\n",
    "plt.ylabel('Доля заказов')\n",
    "plt.xlabel('Тип устройства')\n",
    "plt.xticks(rotation=0)\n",
    "plt.grid()\n",
    "plt.show()"
   ]
  },
  {
   "cell_type": "markdown",
   "metadata": {},
   "source": [
    "С устройствами мы наблюдаем ту же картину - в осенний период кол-во заказов увеличивается. При этом заказов с смартофонов совершается подавляющее кол-во для обоих сезонов\n",
    "\n",
    "Теперь для осеннего и летнего периодов сравним распределение заказов билетов по возврастному рейтингу "
   ]
  },
  {
   "cell_type": "code",
   "execution_count": 46,
   "metadata": {},
   "outputs": [
    {
     "data": {
      "text/html": [
       "<div>\n",
       "<style scoped>\n",
       "    .dataframe tbody tr th:only-of-type {\n",
       "        vertical-align: middle;\n",
       "    }\n",
       "\n",
       "    .dataframe tbody tr th {\n",
       "        vertical-align: top;\n",
       "    }\n",
       "\n",
       "    .dataframe thead th {\n",
       "        text-align: right;\n",
       "    }\n",
       "</style>\n",
       "<table border=\"1\" class=\"dataframe\">\n",
       "  <thead>\n",
       "    <tr style=\"text-align: right;\">\n",
       "      <th>season</th>\n",
       "      <th>лето</th>\n",
       "      <th>осень</th>\n",
       "    </tr>\n",
       "    <tr>\n",
       "      <th>age_limit</th>\n",
       "      <th></th>\n",
       "      <th></th>\n",
       "    </tr>\n",
       "  </thead>\n",
       "  <tbody>\n",
       "    <tr>\n",
       "      <th>0</th>\n",
       "      <td>0.074359</td>\n",
       "      <td>0.138425</td>\n",
       "    </tr>\n",
       "    <tr>\n",
       "      <th>6</th>\n",
       "      <td>0.075368</td>\n",
       "      <td>0.103271</td>\n",
       "    </tr>\n",
       "    <tr>\n",
       "      <th>12</th>\n",
       "      <td>0.085070</td>\n",
       "      <td>0.129540</td>\n",
       "    </tr>\n",
       "    <tr>\n",
       "      <th>16</th>\n",
       "      <td>0.117352</td>\n",
       "      <td>0.153754</td>\n",
       "    </tr>\n",
       "    <tr>\n",
       "      <th>18</th>\n",
       "      <td>0.061802</td>\n",
       "      <td>0.061058</td>\n",
       "    </tr>\n",
       "  </tbody>\n",
       "</table>\n",
       "</div>"
      ],
      "text/plain": [
       "season         лето     осень\n",
       "age_limit                    \n",
       "0          0.074359  0.138425\n",
       "6          0.075368  0.103271\n",
       "12         0.085070  0.129540\n",
       "16         0.117352  0.153754\n",
       "18         0.061802  0.061058"
      ]
     },
     "metadata": {},
     "output_type": "display_data"
    }
   ],
   "source": [
    "# Посчитаем долю заказов по типам устройств в зависимости от сезона\n",
    "order_age = df.groupby(['season','age_limit'])['order_id'].count()/df['order_id'].count()\n",
    "order_age = order_age.unstack(level=0).fillna(0)\n",
    "display(order_age)"
   ]
  },
  {
   "cell_type": "code",
   "execution_count": 47,
   "metadata": {},
   "outputs": [
    {
     "data": {
      "image/png": "[encoded data removed]",
      "text/plain": [
       "<Figure size 720x576 with 1 Axes>"
      ]
     },
     "metadata": {
      "needs_background": "light"
     },
     "output_type": "display_data"
    }
   ],
   "source": [
    "# Визуализурием данные \n",
    "order_age.sort_values(by = 'осень').plot(kind='bar',legend=True, figsize=(10, 8))\n",
    "plt.title('Распределение заказов билетов по возрастному ограничению')\n",
    "plt.ylabel('Доля заказов')\n",
    "plt.xlabel('Возрастное ограничение')\n",
    "plt.xticks(rotation=0)\n",
    "plt.grid()\n",
    "plt.show()"
   ]
  },
  {
   "cell_type": "markdown",
   "metadata": {},
   "source": [
    "Та же тенденция, сохраняется для возрастных ограничений. Стоит обратить внимание, что для мероприятий 18+ доля заказов примерно одинакова и в летнее и осеннее время, при этом это самая непопулярная категория. Наиболее популярными возрастными категориями являются 16+, 0+ и 12+"
   ]
  },
  {
   "cell_type": "markdown",
   "metadata": {},
   "source": [
    "Теперь проанализируем изменение выручки с продажи одного билета в зависимости от типа мероприятия летом и осенью"
   ]
  },
  {
   "cell_type": "code",
   "execution_count": 48,
   "metadata": {},
   "outputs": [
    {
     "data": {
      "text/html": [
       "<div>\n",
       "<style scoped>\n",
       "    .dataframe tbody tr th:only-of-type {\n",
       "        vertical-align: middle;\n",
       "    }\n",
       "\n",
       "    .dataframe tbody tr th {\n",
       "        vertical-align: top;\n",
       "    }\n",
       "\n",
       "    .dataframe thead th {\n",
       "        text-align: right;\n",
       "    }\n",
       "</style>\n",
       "<table border=\"1\" class=\"dataframe\">\n",
       "  <thead>\n",
       "    <tr style=\"text-align: right;\">\n",
       "      <th>season</th>\n",
       "      <th>лето</th>\n",
       "      <th>осень</th>\n",
       "    </tr>\n",
       "    <tr>\n",
       "      <th>event_type_main</th>\n",
       "      <th></th>\n",
       "      <th></th>\n",
       "    </tr>\n",
       "  </thead>\n",
       "  <tbody>\n",
       "    <tr>\n",
       "      <th>выставки</th>\n",
       "      <td>86.416198</td>\n",
       "      <td>90.603610</td>\n",
       "    </tr>\n",
       "    <tr>\n",
       "      <th>другое</th>\n",
       "      <td>77.395258</td>\n",
       "      <td>76.059694</td>\n",
       "    </tr>\n",
       "    <tr>\n",
       "      <th>концерты</th>\n",
       "      <td>304.800056</td>\n",
       "      <td>268.379925</td>\n",
       "    </tr>\n",
       "    <tr>\n",
       "      <th>спорт</th>\n",
       "      <td>50.744650</td>\n",
       "      <td>49.986591</td>\n",
       "    </tr>\n",
       "    <tr>\n",
       "      <th>стендап</th>\n",
       "      <td>218.518107</td>\n",
       "      <td>231.124973</td>\n",
       "    </tr>\n",
       "    <tr>\n",
       "      <th>театр</th>\n",
       "      <td>214.179496</td>\n",
       "      <td>175.991603</td>\n",
       "    </tr>\n",
       "    <tr>\n",
       "      <th>ёлки</th>\n",
       "      <td>271.436176</td>\n",
       "      <td>229.564210</td>\n",
       "    </tr>\n",
       "  </tbody>\n",
       "</table>\n",
       "</div>"
      ],
      "text/plain": [
       "season                 лето       осень\n",
       "event_type_main                        \n",
       "выставки          86.416198   90.603610\n",
       "другое            77.395258   76.059694\n",
       "концерты         304.800056  268.379925\n",
       "спорт             50.744650   49.986591\n",
       "стендап          218.518107  231.124973\n",
       "театр            214.179496  175.991603\n",
       "ёлки             271.436176  229.564210"
      ]
     },
     "metadata": {},
     "output_type": "display_data"
    }
   ],
   "source": [
    "# Посчитаем выручку с продажи одного билета в зависимости от типа мероприятия летом и осенью\n",
    "ticket_event = df.groupby(['season','event_type_main'])['one_ticket_revenue_rub'].mean()\n",
    "ticket_event = ticket_event.unstack(level=0).fillna(0)\n",
    "display (ticket_event)"
   ]
  },
  {
   "cell_type": "code",
   "execution_count": 49,
   "metadata": {},
   "outputs": [
    {
     "data": {
      "image/png": "[encoded data removed]",
      "text/plain": [
       "<Figure size 720x576 with 1 Axes>"
      ]
     },
     "metadata": {
      "needs_background": "light"
     },
     "output_type": "display_data"
    }
   ],
   "source": [
    "# Визуализируем полученные результаты \n",
    "ticket_event.sort_values(by = 'осень').plot(kind='bar',legend=True, figsize=(10, 8))\n",
    "plt.title('Распределение средней выручки с продажи одного билета в зависимости от типа мероприятия')\n",
    "plt.ylabel('Средняя выручка от одного билета')\n",
    "plt.xlabel('Тип мероприятия')\n",
    "plt.xticks(rotation=0)\n",
    "plt.grid()\n",
    "plt.show()"
   ]
  },
  {
   "cell_type": "code",
   "execution_count": 50,
   "metadata": {},
   "outputs": [
    {
     "data": {
      "text/html": [
       "<div>\n",
       "<style scoped>\n",
       "    .dataframe tbody tr th:only-of-type {\n",
       "        vertical-align: middle;\n",
       "    }\n",
       "\n",
       "    .dataframe tbody tr th {\n",
       "        vertical-align: top;\n",
       "    }\n",
       "\n",
       "    .dataframe thead th {\n",
       "        text-align: right;\n",
       "    }\n",
       "</style>\n",
       "<table border=\"1\" class=\"dataframe\">\n",
       "  <thead>\n",
       "    <tr style=\"text-align: right;\">\n",
       "      <th>season</th>\n",
       "      <th>лето</th>\n",
       "      <th>осень</th>\n",
       "      <th>change</th>\n",
       "    </tr>\n",
       "    <tr>\n",
       "      <th>event_type_main</th>\n",
       "      <th></th>\n",
       "      <th></th>\n",
       "      <th></th>\n",
       "    </tr>\n",
       "  </thead>\n",
       "  <tbody>\n",
       "    <tr>\n",
       "      <th>выставки</th>\n",
       "      <td>86.416198</td>\n",
       "      <td>90.603610</td>\n",
       "      <td>4.845634</td>\n",
       "    </tr>\n",
       "    <tr>\n",
       "      <th>другое</th>\n",
       "      <td>77.395258</td>\n",
       "      <td>76.059694</td>\n",
       "      <td>-1.725640</td>\n",
       "    </tr>\n",
       "    <tr>\n",
       "      <th>концерты</th>\n",
       "      <td>304.800056</td>\n",
       "      <td>268.379925</td>\n",
       "      <td>-11.948860</td>\n",
       "    </tr>\n",
       "    <tr>\n",
       "      <th>спорт</th>\n",
       "      <td>50.744650</td>\n",
       "      <td>49.986591</td>\n",
       "      <td>-1.493869</td>\n",
       "    </tr>\n",
       "    <tr>\n",
       "      <th>стендап</th>\n",
       "      <td>218.518107</td>\n",
       "      <td>231.124973</td>\n",
       "      <td>5.769255</td>\n",
       "    </tr>\n",
       "    <tr>\n",
       "      <th>театр</th>\n",
       "      <td>214.179496</td>\n",
       "      <td>175.991603</td>\n",
       "      <td>-17.829854</td>\n",
       "    </tr>\n",
       "    <tr>\n",
       "      <th>ёлки</th>\n",
       "      <td>271.436176</td>\n",
       "      <td>229.564210</td>\n",
       "      <td>-15.426081</td>\n",
       "    </tr>\n",
       "  </tbody>\n",
       "</table>\n",
       "</div>"
      ],
      "text/plain": [
       "season                 лето       осень     change\n",
       "event_type_main                                   \n",
       "выставки          86.416198   90.603610   4.845634\n",
       "другое            77.395258   76.059694  -1.725640\n",
       "концерты         304.800056  268.379925 -11.948860\n",
       "спорт             50.744650   49.986591  -1.493869\n",
       "стендап          218.518107  231.124973   5.769255\n",
       "театр            214.179496  175.991603 -17.829854\n",
       "ёлки             271.436176  229.564210 -15.426081"
      ]
     },
     "metadata": {},
     "output_type": "display_data"
    }
   ],
   "source": [
    "# Рассчитаем относительное изменение осенних значений по сравнению с летними\n",
    "ticket_event['change'] = ((ticket_event['осень'] - ticket_event['лето'])/ticket_event['лето'])*100\n",
    "display(ticket_event)"
   ]
  },
  {
   "cell_type": "code",
   "execution_count": 51,
   "metadata": {},
   "outputs": [
    {
     "data": {
      "image/png": "[encoded data removed]",
      "text/plain": [
       "<Figure size 720x576 with 1 Axes>"
      ]
     },
     "metadata": {
      "needs_background": "light"
     },
     "output_type": "display_data"
    }
   ],
   "source": [
    "# Визуализируем полученные результаты \n",
    "ticket_event['change'].sort_values().plot(kind='bar',legend=False, figsize=(10, 8))\n",
    "plt.title('Изменение осенних значений средней выручки с одного билета по сравнению с летними')\n",
    "plt.ylabel('Изменение в %')\n",
    "plt.xlabel('Тип мероприятия')\n",
    "plt.xticks(rotation=0)\n",
    "plt.grid()\n",
    "plt.show()"
   ]
  },
  {
   "cell_type": "markdown",
   "metadata": {},
   "source": [
    "**Выводы:**\n",
    "- Обнаружена явная тенденция на увелечение кол-ва заказов к осени\n",
    "- Практически по всем типам мероприятий в осенний период доля заказов значительно больше, кроме категории \"выставки\", доля этих мероприятий примерно одинакова и осенью, и летом. Самые популярные мероприятия для обоих сезонов: концерты, театр, другое\n",
    "- С устройствами мы наблюдаем ту же картину - в осенний период кол-во заказов увеличивается. При этом заказов с смартофонов совершается подавляющее кол-во для обоих сезонов\n",
    "- Та же тенденция, сохраняется для возрастных ограничений. Стоит обратить внимание, что для мероприятий 18+ доля заказов примерно одинакова и в летнее и осеннее время, при этом это самая непопулярная категория. Наиболее популярными возрастными категориями являются 16+, 0+ и 12+\n",
    "- Однако средний чек с одного билета летом выше, чем осенью для всех типов мероприятий, кроме выставок и стендапов. Средняя цена за билет в театр осенью ниже на 18 %, на елки на 15%, на концерты на 12%, на другое и спорт примерно на 1-2%. Большинство изменений можно объяснить сезонностью мероприятий: летом закрывается театральный сезон, елки также не очень популярны, как и другие типы мероприятий, люди уезжают в отпуска или предпочитают проводить время на открытом воздухе, поэтому кассу делают засчет увелечения цены билетов"
   ]
  },
  {
   "cell_type": "markdown",
   "metadata": {},
   "source": [
    "### Осенняя активность пользователей"
   ]
  },
  {
   "cell_type": "code",
   "execution_count": 52,
   "metadata": {},
   "outputs": [],
   "source": [
    "# Отфильтруем данные только за осенние месяцы \n",
    "df_autumn = df[df['season']=='осень'].copy()"
   ]
  },
  {
   "cell_type": "markdown",
   "metadata": {},
   "source": [
    "Создадим свободную таблицу, где рассчитаем общее число заказов, количество активных пользователей, среднее число заказов на одного пользователя, среднюю стоимость одного билета по дням "
   ]
  },
  {
   "cell_type": "code",
   "execution_count": 53,
   "metadata": {
    "scrolled": false
   },
   "outputs": [
    {
     "data": {
      "text/html": [
       "<div>\n",
       "<style scoped>\n",
       "    .dataframe tbody tr th:only-of-type {\n",
       "        vertical-align: middle;\n",
       "    }\n",
       "\n",
       "    .dataframe tbody tr th {\n",
       "        vertical-align: top;\n",
       "    }\n",
       "\n",
       "    .dataframe thead th {\n",
       "        text-align: right;\n",
       "    }\n",
       "</style>\n",
       "<table border=\"1\" class=\"dataframe\">\n",
       "  <thead>\n",
       "    <tr style=\"text-align: right;\">\n",
       "      <th></th>\n",
       "      <th>one_ticket_revenue_rub</th>\n",
       "      <th>order_id</th>\n",
       "      <th>user_id</th>\n",
       "    </tr>\n",
       "    <tr>\n",
       "      <th>created_dt_msk</th>\n",
       "      <th></th>\n",
       "      <th></th>\n",
       "      <th></th>\n",
       "    </tr>\n",
       "  </thead>\n",
       "  <tbody>\n",
       "    <tr>\n",
       "      <th>2024-09-01</th>\n",
       "      <td>200.168708</td>\n",
       "      <td>1327</td>\n",
       "      <td>564</td>\n",
       "    </tr>\n",
       "    <tr>\n",
       "      <th>2024-09-02</th>\n",
       "      <td>189.464639</td>\n",
       "      <td>1380</td>\n",
       "      <td>574</td>\n",
       "    </tr>\n",
       "    <tr>\n",
       "      <th>2024-09-03</th>\n",
       "      <td>80.350151</td>\n",
       "      <td>5113</td>\n",
       "      <td>778</td>\n",
       "    </tr>\n",
       "    <tr>\n",
       "      <th>2024-09-04</th>\n",
       "      <td>178.077235</td>\n",
       "      <td>1772</td>\n",
       "      <td>685</td>\n",
       "    </tr>\n",
       "    <tr>\n",
       "      <th>2024-09-05</th>\n",
       "      <td>189.763046</td>\n",
       "      <td>1940</td>\n",
       "      <td>739</td>\n",
       "    </tr>\n",
       "    <tr>\n",
       "      <th>...</th>\n",
       "      <td>...</td>\n",
       "      <td>...</td>\n",
       "      <td>...</td>\n",
       "    </tr>\n",
       "    <tr>\n",
       "      <th>2024-10-27</th>\n",
       "      <td>186.968328</td>\n",
       "      <td>2849</td>\n",
       "      <td>1034</td>\n",
       "    </tr>\n",
       "    <tr>\n",
       "      <th>2024-10-28</th>\n",
       "      <td>170.600648</td>\n",
       "      <td>2836</td>\n",
       "      <td>985</td>\n",
       "    </tr>\n",
       "    <tr>\n",
       "      <th>2024-10-29</th>\n",
       "      <td>177.430604</td>\n",
       "      <td>2833</td>\n",
       "      <td>998</td>\n",
       "    </tr>\n",
       "    <tr>\n",
       "      <th>2024-10-30</th>\n",
       "      <td>182.791483</td>\n",
       "      <td>2927</td>\n",
       "      <td>1039</td>\n",
       "    </tr>\n",
       "    <tr>\n",
       "      <th>2024-10-31</th>\n",
       "      <td>150.595277</td>\n",
       "      <td>5957</td>\n",
       "      <td>1272</td>\n",
       "    </tr>\n",
       "  </tbody>\n",
       "</table>\n",
       "<p>61 rows × 3 columns</p>\n",
       "</div>"
      ],
      "text/plain": [
       "                one_ticket_revenue_rub  order_id  user_id\n",
       "created_dt_msk                                           \n",
       "2024-09-01                  200.168708      1327      564\n",
       "2024-09-02                  189.464639      1380      574\n",
       "2024-09-03                   80.350151      5113      778\n",
       "2024-09-04                  178.077235      1772      685\n",
       "2024-09-05                  189.763046      1940      739\n",
       "...                                ...       ...      ...\n",
       "2024-10-27                  186.968328      2849     1034\n",
       "2024-10-28                  170.600648      2836      985\n",
       "2024-10-29                  177.430604      2833      998\n",
       "2024-10-30                  182.791483      2927     1039\n",
       "2024-10-31                  150.595277      5957     1272\n",
       "\n",
       "[61 rows x 3 columns]"
      ]
     },
     "metadata": {},
     "output_type": "display_data"
    }
   ],
   "source": [
    "# Создаем сводную таблицу \n",
    "pivot = pd.pivot_table(\n",
    "    df_autumn,\n",
    "    index='created_dt_msk',\n",
    "    values=['order_id', 'user_id', 'tickets_count','one_ticket_revenue_rub'],\n",
    "    aggfunc={\n",
    "        'order_id': 'count',              \n",
    "        'user_id': 'nunique',\n",
    "        'one_ticket_revenue_rub': 'mean'  \n",
    "    }\n",
    ")\n",
    "display(pivot)"
   ]
  },
  {
   "cell_type": "code",
   "execution_count": 54,
   "metadata": {},
   "outputs": [
    {
     "data": {
      "text/html": [
       "<div>\n",
       "<style scoped>\n",
       "    .dataframe tbody tr th:only-of-type {\n",
       "        vertical-align: middle;\n",
       "    }\n",
       "\n",
       "    .dataframe tbody tr th {\n",
       "        vertical-align: top;\n",
       "    }\n",
       "\n",
       "    .dataframe thead th {\n",
       "        text-align: right;\n",
       "    }\n",
       "</style>\n",
       "<table border=\"1\" class=\"dataframe\">\n",
       "  <thead>\n",
       "    <tr style=\"text-align: right;\">\n",
       "      <th></th>\n",
       "      <th>Средняя стоимость одного билета</th>\n",
       "      <th>Общее число заказов</th>\n",
       "      <th>DAU</th>\n",
       "      <th>Среднее число заказов на одного пользователя</th>\n",
       "    </tr>\n",
       "    <tr>\n",
       "      <th>created_dt_msk</th>\n",
       "      <th></th>\n",
       "      <th></th>\n",
       "      <th></th>\n",
       "      <th></th>\n",
       "    </tr>\n",
       "  </thead>\n",
       "  <tbody>\n",
       "    <tr>\n",
       "      <th>2024-09-01</th>\n",
       "      <td>200.168708</td>\n",
       "      <td>1327</td>\n",
       "      <td>564</td>\n",
       "      <td>2.352837</td>\n",
       "    </tr>\n",
       "    <tr>\n",
       "      <th>2024-09-02</th>\n",
       "      <td>189.464639</td>\n",
       "      <td>1380</td>\n",
       "      <td>574</td>\n",
       "      <td>2.404181</td>\n",
       "    </tr>\n",
       "    <tr>\n",
       "      <th>2024-09-03</th>\n",
       "      <td>80.350151</td>\n",
       "      <td>5113</td>\n",
       "      <td>778</td>\n",
       "      <td>6.571979</td>\n",
       "    </tr>\n",
       "    <tr>\n",
       "      <th>2024-09-04</th>\n",
       "      <td>178.077235</td>\n",
       "      <td>1772</td>\n",
       "      <td>685</td>\n",
       "      <td>2.586861</td>\n",
       "    </tr>\n",
       "    <tr>\n",
       "      <th>2024-09-05</th>\n",
       "      <td>189.763046</td>\n",
       "      <td>1940</td>\n",
       "      <td>739</td>\n",
       "      <td>2.625169</td>\n",
       "    </tr>\n",
       "    <tr>\n",
       "      <th>...</th>\n",
       "      <td>...</td>\n",
       "      <td>...</td>\n",
       "      <td>...</td>\n",
       "      <td>...</td>\n",
       "    </tr>\n",
       "    <tr>\n",
       "      <th>2024-10-27</th>\n",
       "      <td>186.968328</td>\n",
       "      <td>2849</td>\n",
       "      <td>1034</td>\n",
       "      <td>2.755319</td>\n",
       "    </tr>\n",
       "    <tr>\n",
       "      <th>2024-10-28</th>\n",
       "      <td>170.600648</td>\n",
       "      <td>2836</td>\n",
       "      <td>985</td>\n",
       "      <td>2.879188</td>\n",
       "    </tr>\n",
       "    <tr>\n",
       "      <th>2024-10-29</th>\n",
       "      <td>177.430604</td>\n",
       "      <td>2833</td>\n",
       "      <td>998</td>\n",
       "      <td>2.838677</td>\n",
       "    </tr>\n",
       "    <tr>\n",
       "      <th>2024-10-30</th>\n",
       "      <td>182.791483</td>\n",
       "      <td>2927</td>\n",
       "      <td>1039</td>\n",
       "      <td>2.817132</td>\n",
       "    </tr>\n",
       "    <tr>\n",
       "      <th>2024-10-31</th>\n",
       "      <td>150.595277</td>\n",
       "      <td>5957</td>\n",
       "      <td>1272</td>\n",
       "      <td>4.683176</td>\n",
       "    </tr>\n",
       "  </tbody>\n",
       "</table>\n",
       "<p>61 rows × 4 columns</p>\n",
       "</div>"
      ],
      "text/plain": [
       "                Средняя стоимость одного билета  Общее число заказов   DAU  \\\n",
       "created_dt_msk                                                               \n",
       "2024-09-01                           200.168708                 1327   564   \n",
       "2024-09-02                           189.464639                 1380   574   \n",
       "2024-09-03                            80.350151                 5113   778   \n",
       "2024-09-04                           178.077235                 1772   685   \n",
       "2024-09-05                           189.763046                 1940   739   \n",
       "...                                         ...                  ...   ...   \n",
       "2024-10-27                           186.968328                 2849  1034   \n",
       "2024-10-28                           170.600648                 2836   985   \n",
       "2024-10-29                           177.430604                 2833   998   \n",
       "2024-10-30                           182.791483                 2927  1039   \n",
       "2024-10-31                           150.595277                 5957  1272   \n",
       "\n",
       "                Среднее число заказов на одного пользователя  \n",
       "created_dt_msk                                                \n",
       "2024-09-01                                          2.352837  \n",
       "2024-09-02                                          2.404181  \n",
       "2024-09-03                                          6.571979  \n",
       "2024-09-04                                          2.586861  \n",
       "2024-09-05                                          2.625169  \n",
       "...                                                      ...  \n",
       "2024-10-27                                          2.755319  \n",
       "2024-10-28                                          2.879188  \n",
       "2024-10-29                                          2.838677  \n",
       "2024-10-30                                          2.817132  \n",
       "2024-10-31                                          4.683176  \n",
       "\n",
       "[61 rows x 4 columns]"
      ]
     },
     "metadata": {},
     "output_type": "display_data"
    }
   ],
   "source": [
    "# Переименуем столбцы для лучшего пониманния \n",
    "pivot.columns = ['Средняя стоимость одного билета', 'Общее число заказов', 'DAU']\n",
    "# Добавим столбец с средним числом заказов на одного пользователя\n",
    "pivot['Среднее число заказов на одного пользователя'] = pivot['Общее число заказов']/pivot['DAU']\n",
    "display (pivot)"
   ]
  },
  {
   "cell_type": "code",
   "execution_count": 55,
   "metadata": {},
   "outputs": [
    {
     "data": {
      "image/png": "[encoded data removed]",
      "text/plain": [
       "<Figure size 720x576 with 4 Axes>"
      ]
     },
     "metadata": {
      "needs_background": "light"
     },
     "output_type": "display_data"
    }
   ],
   "source": [
    "# Визуализируем сводную таблицу \n",
    "pivot.plot(\n",
    "    subplots=True,\n",
    "    figsize=(10, 8),\n",
    "    title='Показатели по дням: осень 2024',\n",
    "    grid=True\n",
    ")\n",
    "plt.tight_layout()\n",
    "plt.show()"
   ]
  },
  {
   "cell_type": "markdown",
   "metadata": {},
   "source": [
    "Мы видим, что средняя стоимость одного билета, общее число заказов и DAU в целом стабильны и стабильно растут, пиковые значения наблюдаются в начале сентября, начале октября и мы наблюдаем резкий рост в конце октября. Это может быть связано с праздничными днями (1 сентября и последующая неделя, когда отмечают начало учебного года, 31 октября - хэллоуин, и конец октября - это начало школьных каникул). В то же время средняя стоимость одного билета в целом стабильна, но наблюдаются пиковые снижения стоимости, которые соотносятся с пиковыми значениями других показателей. То есть средняя цена за билет на мероприятия падает, а спрос растет "
   ]
  },
  {
   "cell_type": "markdown",
   "metadata": {},
   "source": [
    "Теперь рассмотрим динамику показателей в разрезе дней недели"
   ]
  },
  {
   "cell_type": "code",
   "execution_count": 56,
   "metadata": {},
   "outputs": [],
   "source": [
    "# Создаем столбец с названием дня недели \n",
    "df_autumn['weekday'] = df_autumn['created_dt_msk'].dt.weekday"
   ]
  },
  {
   "cell_type": "code",
   "execution_count": 57,
   "metadata": {},
   "outputs": [
    {
     "data": {
      "text/html": [
       "<div>\n",
       "<style scoped>\n",
       "    .dataframe tbody tr th:only-of-type {\n",
       "        vertical-align: middle;\n",
       "    }\n",
       "\n",
       "    .dataframe tbody tr th {\n",
       "        vertical-align: top;\n",
       "    }\n",
       "\n",
       "    .dataframe thead th {\n",
       "        text-align: right;\n",
       "    }\n",
       "</style>\n",
       "<table border=\"1\" class=\"dataframe\">\n",
       "  <thead>\n",
       "    <tr style=\"text-align: right;\">\n",
       "      <th></th>\n",
       "      <th>one_ticket_revenue_rub</th>\n",
       "      <th>order_id</th>\n",
       "      <th>user_id</th>\n",
       "    </tr>\n",
       "    <tr>\n",
       "      <th>weekday</th>\n",
       "      <th></th>\n",
       "      <th></th>\n",
       "      <th></th>\n",
       "    </tr>\n",
       "  </thead>\n",
       "  <tbody>\n",
       "    <tr>\n",
       "      <th>0</th>\n",
       "      <td>184.250510</td>\n",
       "      <td>21500</td>\n",
       "      <td>4444</td>\n",
       "    </tr>\n",
       "    <tr>\n",
       "      <th>1</th>\n",
       "      <td>140.664396</td>\n",
       "      <td>31477</td>\n",
       "      <td>4794</td>\n",
       "    </tr>\n",
       "    <tr>\n",
       "      <th>2</th>\n",
       "      <td>186.009103</td>\n",
       "      <td>22871</td>\n",
       "      <td>4813</td>\n",
       "    </tr>\n",
       "    <tr>\n",
       "      <th>3</th>\n",
       "      <td>177.991547</td>\n",
       "      <td>27150</td>\n",
       "      <td>4969</td>\n",
       "    </tr>\n",
       "    <tr>\n",
       "      <th>4</th>\n",
       "      <td>185.809707</td>\n",
       "      <td>24811</td>\n",
       "      <td>4869</td>\n",
       "    </tr>\n",
       "    <tr>\n",
       "      <th>5</th>\n",
       "      <td>192.330664</td>\n",
       "      <td>21332</td>\n",
       "      <td>4572</td>\n",
       "    </tr>\n",
       "    <tr>\n",
       "      <th>6</th>\n",
       "      <td>198.035968</td>\n",
       "      <td>19385</td>\n",
       "      <td>4393</td>\n",
       "    </tr>\n",
       "  </tbody>\n",
       "</table>\n",
       "</div>"
      ],
      "text/plain": [
       "         one_ticket_revenue_rub  order_id  user_id\n",
       "weekday                                           \n",
       "0                    184.250510     21500     4444\n",
       "1                    140.664396     31477     4794\n",
       "2                    186.009103     22871     4813\n",
       "3                    177.991547     27150     4969\n",
       "4                    185.809707     24811     4869\n",
       "5                    192.330664     21332     4572\n",
       "6                    198.035968     19385     4393"
      ]
     },
     "metadata": {},
     "output_type": "display_data"
    }
   ],
   "source": [
    "# Создаем сводную таблицу \n",
    "pivot_weekday = pd.pivot_table(\n",
    "    df_autumn,\n",
    "    index='weekday',\n",
    "    values=['order_id', 'user_id', 'tickets_count','one_ticket_revenue_rub'],\n",
    "    aggfunc={\n",
    "        'order_id': 'count',              \n",
    "        'user_id': 'nunique',\n",
    "        'one_ticket_revenue_rub': 'mean'  \n",
    "    }\n",
    ")\n",
    "display(pivot_weekday)"
   ]
  },
  {
   "cell_type": "code",
   "execution_count": 58,
   "metadata": {},
   "outputs": [
    {
     "data": {
      "text/html": [
       "<div>\n",
       "<style scoped>\n",
       "    .dataframe tbody tr th:only-of-type {\n",
       "        vertical-align: middle;\n",
       "    }\n",
       "\n",
       "    .dataframe tbody tr th {\n",
       "        vertical-align: top;\n",
       "    }\n",
       "\n",
       "    .dataframe thead th {\n",
       "        text-align: right;\n",
       "    }\n",
       "</style>\n",
       "<table border=\"1\" class=\"dataframe\">\n",
       "  <thead>\n",
       "    <tr style=\"text-align: right;\">\n",
       "      <th></th>\n",
       "      <th>Средняя стоимость одного билета</th>\n",
       "      <th>Общее число заказов</th>\n",
       "      <th>DAU</th>\n",
       "      <th>Среднее число заказов на одного пользователя</th>\n",
       "    </tr>\n",
       "    <tr>\n",
       "      <th>weekday</th>\n",
       "      <th></th>\n",
       "      <th></th>\n",
       "      <th></th>\n",
       "      <th></th>\n",
       "    </tr>\n",
       "  </thead>\n",
       "  <tbody>\n",
       "    <tr>\n",
       "      <th>0</th>\n",
       "      <td>184.250510</td>\n",
       "      <td>21500</td>\n",
       "      <td>4444</td>\n",
       "      <td>4.837984</td>\n",
       "    </tr>\n",
       "    <tr>\n",
       "      <th>1</th>\n",
       "      <td>140.664396</td>\n",
       "      <td>31477</td>\n",
       "      <td>4794</td>\n",
       "      <td>6.565916</td>\n",
       "    </tr>\n",
       "    <tr>\n",
       "      <th>2</th>\n",
       "      <td>186.009103</td>\n",
       "      <td>22871</td>\n",
       "      <td>4813</td>\n",
       "      <td>4.751922</td>\n",
       "    </tr>\n",
       "    <tr>\n",
       "      <th>3</th>\n",
       "      <td>177.991547</td>\n",
       "      <td>27150</td>\n",
       "      <td>4969</td>\n",
       "      <td>5.463876</td>\n",
       "    </tr>\n",
       "    <tr>\n",
       "      <th>4</th>\n",
       "      <td>185.809707</td>\n",
       "      <td>24811</td>\n",
       "      <td>4869</td>\n",
       "      <td>5.095708</td>\n",
       "    </tr>\n",
       "    <tr>\n",
       "      <th>5</th>\n",
       "      <td>192.330664</td>\n",
       "      <td>21332</td>\n",
       "      <td>4572</td>\n",
       "      <td>4.665792</td>\n",
       "    </tr>\n",
       "    <tr>\n",
       "      <th>6</th>\n",
       "      <td>198.035968</td>\n",
       "      <td>19385</td>\n",
       "      <td>4393</td>\n",
       "      <td>4.412702</td>\n",
       "    </tr>\n",
       "  </tbody>\n",
       "</table>\n",
       "</div>"
      ],
      "text/plain": [
       "         Средняя стоимость одного билета  Общее число заказов   DAU  \\\n",
       "weekday                                                               \n",
       "0                             184.250510                21500  4444   \n",
       "1                             140.664396                31477  4794   \n",
       "2                             186.009103                22871  4813   \n",
       "3                             177.991547                27150  4969   \n",
       "4                             185.809707                24811  4869   \n",
       "5                             192.330664                21332  4572   \n",
       "6                             198.035968                19385  4393   \n",
       "\n",
       "         Среднее число заказов на одного пользователя  \n",
       "weekday                                                \n",
       "0                                            4.837984  \n",
       "1                                            6.565916  \n",
       "2                                            4.751922  \n",
       "3                                            5.463876  \n",
       "4                                            5.095708  \n",
       "5                                            4.665792  \n",
       "6                                            4.412702  "
      ]
     },
     "metadata": {},
     "output_type": "display_data"
    }
   ],
   "source": [
    "# Переименуем столбцы для лучшего пониманния \n",
    "pivot_weekday.columns = ['Средняя стоимость одного билета', 'Общее число заказов', 'DAU']\n",
    "# Добавим столбец с средним числом заказов на одного пользователя\n",
    "pivot_weekday['Среднее число заказов на одного пользователя'] = pivot_weekday['Общее число заказов']/pivot_weekday['DAU']\n",
    "display (pivot_weekday)"
   ]
  },
  {
   "cell_type": "code",
   "execution_count": 59,
   "metadata": {},
   "outputs": [
    {
     "data": {
      "image/png": "[encoded data removed]",
      "text/plain": [
       "<Figure size 720x576 with 4 Axes>"
      ]
     },
     "metadata": {
      "needs_background": "light"
     },
     "output_type": "display_data"
    }
   ],
   "source": [
    "# Визуализируем сводную таблицу \n",
    "pivot_weekday.plot(\n",
    "    subplots=True,\n",
    "    figsize=(10, 8),\n",
    "    title='Показатели по дням: осень 2024',\n",
    "    grid=True\n",
    ")\n",
    "plt.tight_layout()\n",
    "plt.show()"
   ]
  },
  {
   "cell_type": "markdown",
   "metadata": {},
   "source": [
    "В рамках дней недели мы видим тенденцию на снижение средней стоимости одного билета, общего числа заказов и DAU к выходным, при этом средняя стоимость одного билета наоборот к выходным растет. Больше всего заказов приходится на вторник. Четверг - самое активное время среди уникальных пользователей "
   ]
  },
  {
   "cell_type": "markdown",
   "metadata": {},
   "source": [
    "**Выводы:**\n",
    "\n",
    "Динамика по дням (сентябрь–октябрь):\n",
    "- Пики заказов и DAU приходятся на начало сентября — возможно, из-за мероприятий ко Дню знаний;\n",
    "- Пики заказов и DAU приходятся также на начало октября — возможно из-за активизация осеннего культурного сезона;\n",
    "- Пики заказов и DAU приходятся также на конец октября — возможно из-за Хэллоуина и школьных каникул.\n",
    "- Средняя стоимость билета в пиковые периоды падает, что может свидетельствовать о скидках или увеличении доли дешёвых массовых мероприятий.\n",
    "\n",
    "Динамика по дням недели (сентябрь-октябрь):\n",
    "- Максимум заказов — по вторникам.\n",
    "- Наибольшая активность (DAU) — по четвергам, вероятно, пользователи планируют выходные заранее.\n",
    "- Средняя стоимость билета постепенно растёт к выходным\n"
   ]
  },
  {
   "cell_type": "markdown",
   "metadata": {},
   "source": [
    "### Популярные события и партнёры"
   ]
  },
  {
   "cell_type": "markdown",
   "metadata": {},
   "source": [
    "Теперь для каждого региона посчитаем уникальное количество мероприятий и общее число заказов осенью. "
   ]
  },
  {
   "cell_type": "code",
   "execution_count": 60,
   "metadata": {},
   "outputs": [],
   "source": [
    "# Создаем таблицу по регионам, где поссчитаем кол-во заказов и кол-во мероприятий\n",
    "top_region = df_autumn.groupby('region_name')[['event_id','order_id']].agg({\n",
    "    'event_id':'nunique','order_id':'count'}).sort_values(by=['event_id', 'order_id'], ascending = False)\n"
   ]
  },
  {
   "cell_type": "code",
   "execution_count": 61,
   "metadata": {
    "scrolled": false
   },
   "outputs": [],
   "source": [
    "# Переименуем столбцы\n",
    "top_region.columns = ({'Кол_во мероприятий','Кол-во заказов'})\n",
    "# Добавим доли заказов и мероприятий \n",
    "top_region['Доля мероприятий'] = top_region['Кол_во мероприятий']/top_region['Кол_во мероприятий'].sum()\n",
    "top_region['Доля заказов'] = top_region['Кол-во заказов']/top_region['Кол-во заказов'].sum()"
   ]
  },
  {
   "cell_type": "code",
   "execution_count": 62,
   "metadata": {
    "scrolled": false
   },
   "outputs": [
    {
     "data": {
      "text/html": [
       "<div>\n",
       "<style scoped>\n",
       "    .dataframe tbody tr th:only-of-type {\n",
       "        vertical-align: middle;\n",
       "    }\n",
       "\n",
       "    .dataframe tbody tr th {\n",
       "        vertical-align: top;\n",
       "    }\n",
       "\n",
       "    .dataframe thead th {\n",
       "        text-align: right;\n",
       "    }\n",
       "</style>\n",
       "<table border=\"1\" class=\"dataframe\">\n",
       "  <thead>\n",
       "    <tr style=\"text-align: right;\">\n",
       "      <th></th>\n",
       "      <th>Кол-во заказов</th>\n",
       "      <th>Кол_во мероприятий</th>\n",
       "      <th>Доля мероприятий</th>\n",
       "      <th>Доля заказов</th>\n",
       "    </tr>\n",
       "    <tr>\n",
       "      <th>region_name</th>\n",
       "      <th></th>\n",
       "      <th></th>\n",
       "      <th></th>\n",
       "      <th></th>\n",
       "    </tr>\n",
       "  </thead>\n",
       "  <tbody>\n",
       "    <tr>\n",
       "      <th>Каменевский регион</th>\n",
       "      <td>3910</td>\n",
       "      <td>46667</td>\n",
       "      <td>0.276913</td>\n",
       "      <td>0.246377</td>\n",
       "    </tr>\n",
       "    <tr>\n",
       "      <th>Североярская область</th>\n",
       "      <td>2610</td>\n",
       "      <td>20655</td>\n",
       "      <td>0.122563</td>\n",
       "      <td>0.164461</td>\n",
       "    </tr>\n",
       "    <tr>\n",
       "      <th>Широковская область</th>\n",
       "      <td>803</td>\n",
       "      <td>8715</td>\n",
       "      <td>0.051713</td>\n",
       "      <td>0.050599</td>\n",
       "    </tr>\n",
       "    <tr>\n",
       "      <th>Светополянский округ</th>\n",
       "      <td>764</td>\n",
       "      <td>4777</td>\n",
       "      <td>0.028346</td>\n",
       "      <td>0.048141</td>\n",
       "    </tr>\n",
       "    <tr>\n",
       "      <th>Речиновская область</th>\n",
       "      <td>529</td>\n",
       "      <td>3564</td>\n",
       "      <td>0.021148</td>\n",
       "      <td>0.033333</td>\n",
       "    </tr>\n",
       "    <tr>\n",
       "      <th>Серебринская область</th>\n",
       "      <td>456</td>\n",
       "      <td>4467</td>\n",
       "      <td>0.026506</td>\n",
       "      <td>0.028733</td>\n",
       "    </tr>\n",
       "    <tr>\n",
       "      <th>Яблоневская область</th>\n",
       "      <td>432</td>\n",
       "      <td>4198</td>\n",
       "      <td>0.024910</td>\n",
       "      <td>0.027221</td>\n",
       "    </tr>\n",
       "    <tr>\n",
       "      <th>Тепляковская область</th>\n",
       "      <td>419</td>\n",
       "      <td>2484</td>\n",
       "      <td>0.014740</td>\n",
       "      <td>0.026402</td>\n",
       "    </tr>\n",
       "    <tr>\n",
       "      <th>Горицветская область</th>\n",
       "      <td>406</td>\n",
       "      <td>3229</td>\n",
       "      <td>0.019160</td>\n",
       "      <td>0.025583</td>\n",
       "    </tr>\n",
       "    <tr>\n",
       "      <th>Солнечноземская область</th>\n",
       "      <td>403</td>\n",
       "      <td>4228</td>\n",
       "      <td>0.025088</td>\n",
       "      <td>0.025394</td>\n",
       "    </tr>\n",
       "    <tr>\n",
       "      <th>Медовская область</th>\n",
       "      <td>369</td>\n",
       "      <td>12042</td>\n",
       "      <td>0.071455</td>\n",
       "      <td>0.023251</td>\n",
       "    </tr>\n",
       "    <tr>\n",
       "      <th>Травяная область</th>\n",
       "      <td>352</td>\n",
       "      <td>2074</td>\n",
       "      <td>0.012307</td>\n",
       "      <td>0.022180</td>\n",
       "    </tr>\n",
       "  </tbody>\n",
       "</table>\n",
       "</div>"
      ],
      "text/plain": [
       "                         Кол-во заказов  Кол_во мероприятий  Доля мероприятий  \\\n",
       "region_name                                                                     \n",
       "Каменевский регион                 3910               46667          0.276913   \n",
       "Североярская область               2610               20655          0.122563   \n",
       "Широковская область                 803                8715          0.051713   \n",
       "Светополянский округ                764                4777          0.028346   \n",
       "Речиновская область                 529                3564          0.021148   \n",
       "Серебринская область                456                4467          0.026506   \n",
       "Яблоневская область                 432                4198          0.024910   \n",
       "Тепляковская область                419                2484          0.014740   \n",
       "Горицветская область                406                3229          0.019160   \n",
       "Солнечноземская область             403                4228          0.025088   \n",
       "Медовская область                   369               12042          0.071455   \n",
       "Травяная область                    352                2074          0.012307   \n",
       "\n",
       "                         Доля заказов  \n",
       "region_name                            \n",
       "Каменевский регион           0.246377  \n",
       "Североярская область         0.164461  \n",
       "Широковская область          0.050599  \n",
       "Светополянский округ         0.048141  \n",
       "Речиновская область          0.033333  \n",
       "Серебринская область         0.028733  \n",
       "Яблоневская область          0.027221  \n",
       "Тепляковская область         0.026402  \n",
       "Горицветская область         0.025583  \n",
       "Солнечноземская область      0.025394  \n",
       "Медовская область            0.023251  \n",
       "Травяная область             0.022180  "
      ]
     },
     "metadata": {},
     "output_type": "display_data"
    }
   ],
   "source": [
    "# Отфильтруем данные по доле заказов (>5%)\n",
    "top_region = top_region[top_region['Доля заказов']>0.02]\n",
    "display (top_region)"
   ]
  },
  {
   "cell_type": "markdown",
   "metadata": {},
   "source": [
    "Отфильтровали выгрузку по доле заказов от общего числа, чтобы убрать низкочастотные показатели в данном случае регионы, где доля заказов меньше 2 % от общего числа. Тем самым получили топ 11 регионов по доле мероприятий и заказов."
   ]
  },
  {
   "cell_type": "markdown",
   "metadata": {},
   "source": [
    "Каменевский регион и Североярская область с большим отрывом являются лидерами по кол-ву заказов и кол-ву уникальных мероприятий\n",
    "\n",
    "Каневский регион - 25% мероприятий от общего кол-ва и 28% заказов от общего кол-ва. \n",
    "\n",
    "Североярская область - 16% мероприятий от общего кол-ва и 12% заказов от общего кол-ва.\n",
    "\n",
    "Также стоит обратить внимание на Медовскую область, доля мероприятий там небольшая, однако по доле заказов эта область занимает 3 место \n",
    "\n",
    "Эти показатели у остальных регионов меньше 5 %"
   ]
  },
  {
   "cell_type": "code",
   "execution_count": 63,
   "metadata": {},
   "outputs": [],
   "source": [
    "# Создаем таблицу по билетным операторам, где поссчитаем кол-во заказов и кол-во мероприятий\n",
    "top_service = df_autumn.groupby('service_name')[['event_id','order_id','revenue_rub']].agg({\n",
    "    'event_id':'nunique','order_id':'count','revenue_rub':'sum'}).sort_values(by=[\n",
    "    'event_id', 'order_id', 'revenue_rub'], ascending = False)"
   ]
  },
  {
   "cell_type": "code",
   "execution_count": 64,
   "metadata": {},
   "outputs": [],
   "source": [
    "# Переименуем столбцы\n",
    "top_service = top_service.rename(columns= {\n",
    "    'event_id':'Кол_во мероприятий','order_id':'Кол-во заказов','revenue_rub':'Выручка'})"
   ]
  },
  {
   "cell_type": "code",
   "execution_count": 65,
   "metadata": {},
   "outputs": [],
   "source": [
    "# Добавим доли заказов и мероприятий \n",
    "top_service['Доля мероприятий'] = top_service['Кол_во мероприятий']/top_service['Кол_во мероприятий'].sum()\n",
    "top_service['Доля заказов'] = top_service['Кол-во заказов']/top_service['Кол-во заказов'].sum()\n",
    "top_service['Выручка'] = top_service['Выручка'].apply(lambda x: f\"{x/1_000_000:.2f} млн ₽\")"
   ]
  },
  {
   "cell_type": "code",
   "execution_count": 66,
   "metadata": {},
   "outputs": [],
   "source": [
    "# Отфильтруем по доле заказов (> 2%)\n",
    "top_service = top_service[top_service['Доля заказов']>0.02]"
   ]
  },
  {
   "cell_type": "code",
   "execution_count": 67,
   "metadata": {
    "scrolled": false
   },
   "outputs": [
    {
     "data": {
      "text/html": [
       "<div>\n",
       "<style scoped>\n",
       "    .dataframe tbody tr th:only-of-type {\n",
       "        vertical-align: middle;\n",
       "    }\n",
       "\n",
       "    .dataframe tbody tr th {\n",
       "        vertical-align: top;\n",
       "    }\n",
       "\n",
       "    .dataframe thead th {\n",
       "        text-align: right;\n",
       "    }\n",
       "</style>\n",
       "<table border=\"1\" class=\"dataframe\">\n",
       "  <thead>\n",
       "    <tr style=\"text-align: right;\">\n",
       "      <th></th>\n",
       "      <th>Кол_во мероприятий</th>\n",
       "      <th>Кол-во заказов</th>\n",
       "      <th>Выручка</th>\n",
       "      <th>Доля мероприятий</th>\n",
       "      <th>Доля заказов</th>\n",
       "    </tr>\n",
       "    <tr>\n",
       "      <th>service_name</th>\n",
       "      <th></th>\n",
       "      <th></th>\n",
       "      <th></th>\n",
       "      <th></th>\n",
       "      <th></th>\n",
       "    </tr>\n",
       "  </thead>\n",
       "  <tbody>\n",
       "    <tr>\n",
       "      <th>Лови билет!</th>\n",
       "      <td>3616</td>\n",
       "      <td>25790</td>\n",
       "      <td>10.38 млн ₽</td>\n",
       "      <td>0.209114</td>\n",
       "      <td>0.153033</td>\n",
       "    </tr>\n",
       "    <tr>\n",
       "      <th>Билеты без проблем</th>\n",
       "      <td>2844</td>\n",
       "      <td>32340</td>\n",
       "      <td>12.11 млн ₽</td>\n",
       "      <td>0.164469</td>\n",
       "      <td>0.191899</td>\n",
       "    </tr>\n",
       "    <tr>\n",
       "      <th>Билеты в руки</th>\n",
       "      <td>2469</td>\n",
       "      <td>25723</td>\n",
       "      <td>7.61 млн ₽</td>\n",
       "      <td>0.142783</td>\n",
       "      <td>0.152635</td>\n",
       "    </tr>\n",
       "    <tr>\n",
       "      <th>Облачко</th>\n",
       "      <td>1409</td>\n",
       "      <td>15478</td>\n",
       "      <td>10.61 млн ₽</td>\n",
       "      <td>0.081483</td>\n",
       "      <td>0.091843</td>\n",
       "    </tr>\n",
       "    <tr>\n",
       "      <th>Лучшие билеты</th>\n",
       "      <td>1396</td>\n",
       "      <td>12425</td>\n",
       "      <td>1.67 млн ₽</td>\n",
       "      <td>0.080731</td>\n",
       "      <td>0.073727</td>\n",
       "    </tr>\n",
       "    <tr>\n",
       "      <th>Мой билет</th>\n",
       "      <td>1002</td>\n",
       "      <td>19395</td>\n",
       "      <td>10.83 млн ₽</td>\n",
       "      <td>0.057946</td>\n",
       "      <td>0.115086</td>\n",
       "    </tr>\n",
       "    <tr>\n",
       "      <th>Тебе билет!</th>\n",
       "      <td>859</td>\n",
       "      <td>3760</td>\n",
       "      <td>2.17 млн ₽</td>\n",
       "      <td>0.049676</td>\n",
       "      <td>0.022311</td>\n",
       "    </tr>\n",
       "    <tr>\n",
       "      <th>Прачечная</th>\n",
       "      <td>728</td>\n",
       "      <td>5798</td>\n",
       "      <td>2.55 млн ₽</td>\n",
       "      <td>0.042100</td>\n",
       "      <td>0.034404</td>\n",
       "    </tr>\n",
       "    <tr>\n",
       "      <th>Весь в билетах</th>\n",
       "      <td>599</td>\n",
       "      <td>9415</td>\n",
       "      <td>9.35 млн ₽</td>\n",
       "      <td>0.034640</td>\n",
       "      <td>0.055867</td>\n",
       "    </tr>\n",
       "    <tr>\n",
       "      <th>Яблоко</th>\n",
       "      <td>537</td>\n",
       "      <td>3473</td>\n",
       "      <td>2.76 млн ₽</td>\n",
       "      <td>0.031055</td>\n",
       "      <td>0.020608</td>\n",
       "    </tr>\n",
       "  </tbody>\n",
       "</table>\n",
       "</div>"
      ],
      "text/plain": [
       "                    Кол_во мероприятий  Кол-во заказов      Выручка  \\\n",
       "service_name                                                          \n",
       "Лови билет!                       3616           25790  10.38 млн ₽   \n",
       "Билеты без проблем                2844           32340  12.11 млн ₽   \n",
       "Билеты в руки                     2469           25723   7.61 млн ₽   \n",
       "Облачко                           1409           15478  10.61 млн ₽   \n",
       "Лучшие билеты                     1396           12425   1.67 млн ₽   \n",
       "Мой билет                         1002           19395  10.83 млн ₽   \n",
       "Тебе билет!                        859            3760   2.17 млн ₽   \n",
       "Прачечная                          728            5798   2.55 млн ₽   \n",
       "Весь в билетах                     599            9415   9.35 млн ₽   \n",
       "Яблоко                             537            3473   2.76 млн ₽   \n",
       "\n",
       "                    Доля мероприятий  Доля заказов  \n",
       "service_name                                        \n",
       "Лови билет!                 0.209114      0.153033  \n",
       "Билеты без проблем          0.164469      0.191899  \n",
       "Билеты в руки               0.142783      0.152635  \n",
       "Облачко                     0.081483      0.091843  \n",
       "Лучшие билеты               0.080731      0.073727  \n",
       "Мой билет                   0.057946      0.115086  \n",
       "Тебе билет!                 0.049676      0.022311  \n",
       "Прачечная                   0.042100      0.034404  \n",
       "Весь в билетах              0.034640      0.055867  \n",
       "Яблоко                      0.031055      0.020608  "
      ]
     },
     "metadata": {},
     "output_type": "display_data"
    }
   ],
   "source": [
    "# Выведем результат \n",
    "display(top_service)"
   ]
  },
  {
   "cell_type": "markdown",
   "metadata": {},
   "source": [
    "Отфильтровали выгрузку по доле заказов от общего числа, чтобы убрать низкочастотные показатели в данном случае сервисы, где доля заказов меньше 2 % от общего числа. Тем самым получили топ 10 партнеров."
   ]
  },
  {
   "cell_type": "markdown",
   "metadata": {},
   "source": [
    "С билетными операторами не все так одназначно. К лидерам по кол_ву мероприятий и кол-ву заказов относятся следующие сервисы:\n",
    "\n",
    "- Лови билет!(мероприятия - 21%, заказы - 15%)\n",
    "- Билеты без проблем (мероприятия - 16%, заказы - 19%)\n",
    "- Билеты в руки\t(мероприятия - 14%, заказы - 15%)\n",
    "\n",
    "Самое большое кол-во мероприятий относится к сервису \"лови билет!\", при этом количество заказов больше у сервиса \"билеты без проблем\", выручка у этого оперотара также больше - 12 млн, то есть их мероприятия пользуются большим спросом.\n",
    "Стоит также обратить внимание на сервисы \"Облачко\", \"Мой билет\" и \"Весь в билетах\", доля мероприятий и заказов у них меньше (3-9%), однако выручка на равне с сервисом \"Лови билет\", что может говорить о высокой стоимости мероприятий, которые предоставляют эти площадки\n",
    "Также присутвует большое кол-во операторов, которые приносят минимум выручки и оперируют 1-2 мероприятия"
   ]
  },
  {
   "cell_type": "markdown",
   "metadata": {},
   "source": [
    "**Выводы:**\n",
    "Кол-во заказов и кол-во уникальных мероприятий по регионам:\n",
    "- Каменевский регион — безусловный лидер(25% всех мероприятий и 28% всех заказов)\n",
    "- Североярская область — второе место(16% мероприятий и 12% заказов)\n",
    "- Все остальные регионы сильно уступают — менее 5% в каждой метрике.\n",
    "\n",
    "Кол-во закзаов, кол-во уникальных мероприятий и выручка по билетным операторам:\n",
    "\n",
    "Топ-3 по активности:\n",
    "\n",
    "- Лови билет! — 21% мероприятий, 15% заказов.\n",
    "- Билеты без проблем — 16% мероприятий, 19% заказов и лидер по выручке (12 млн ₽).\n",
    "- Билеты в руки — 14% мероприятий, 15% заказов.\n",
    "\n",
    "Вывод: мероприятия \"Билеты без проблем\" вызывают наибольший спрос и интерес для дальнейшего отрудничества \n",
    "\n",
    "- Сервисы, на которые стоит обратить внимание: «Облачко», «Мой билет» и «Весь в билетах» — несмотря на долю показателей <9%, генерируют сравнимую выручку с лидерами. Это может говорить о высокой средней стоимости билетов.\n",
    "- Присутствует множество мелких операторов — низкий вклад в выручку, работают с 1–2 мероприятиями"
   ]
  },
  {
   "cell_type": "markdown",
   "metadata": {},
   "source": [
    "## Статистический анализ данных"
   ]
  },
  {
   "cell_type": "markdown",
   "metadata": {},
   "source": [
    "### Гипотеза 1\n",
    "\n",
    "Проверим гипотезу, что среднее количество заказов на одного пользователя мобильного приложения выше по сравнению с пользователями стационарных устройств.\n",
    "\n",
    "H0 - среднее кол-во заказов у пользователей мобильных устройств не больше, чем у пользователей десктопных устройств \n",
    "\n",
    "Н1 - среднее кол-во заказов у пользователей мобильных устройств больше, чем у пользователей десктопных устройств "
   ]
  },
  {
   "cell_type": "code",
   "execution_count": 70,
   "metadata": {},
   "outputs": [],
   "source": [
    "# Разделим датасет на мобильные и десктопные утсройства \n",
    "orders_mobile = df_autumn[df_autumn['device_type_canonical']=='mobile']\n",
    "orders_desktop = df_autumn[df_autumn['device_type_canonical']=='desktop']"
   ]
  },
  {
   "cell_type": "code",
   "execution_count": 69,
   "metadata": {},
   "outputs": [],
   "source": [
    "# Подсчитаем среднее кол-во заказов на одного пользователя \n",
    "orders_mobile_count = orders_mobile.groupby('user_id')['order_id'].count()\n",
    "orders_desktop_count = orders_desktop.groupby('user_id')['order_id'].count()"
   ]
  },
  {
   "cell_type": "code",
   "execution_count": 74,
   "metadata": {},
   "outputs": [
    {
     "data": {
      "image/png": "[encoded data removed]",
      "text/plain": [
       "<Figure size 576x360 with 1 Axes>"
      ]
     },
     "metadata": {
      "needs_background": "light"
     },
     "output_type": "display_data"
    }
   ],
   "source": [
    "# Построим боксплот, чтобы посмотреть на распределение данных \n",
    "plt.figure(figsize=(8, 5))\n",
    "\n",
    "plt.boxplot(\n",
    "    [orders_mobile_count, orders_desktop_count],\n",
    "    labels=['Mobile', 'Desktop'],\n",
    ")\n",
    "\n",
    "plt.title('Kоличество заказов на одного пользователя')\n",
    "plt.ylabel('Число заказов')\n",
    "plt.grid(True)\n",
    "plt.tight_layout()\n",
    "plt.show()"
   ]
  },
  {
   "cell_type": "markdown",
   "metadata": {},
   "source": [
    "Распределение является ассиметричным и ненормальным, много выбросов, длиный хвост, также присутствуют резкие выбросы "
   ]
  },
  {
   "cell_type": "markdown",
   "metadata": {},
   "source": [
    "Выберем для проверки гипотезы тест Манна-Уитни, так как мы уже знаем, что распределение групп неравномерно, также выборки количественные и независимые. Уровень статистической значимости - 5%"
   ]
  },
  {
   "cell_type": "code",
   "execution_count": 75,
   "metadata": {},
   "outputs": [
    {
     "name": "stdout",
     "output_type": "stream",
     "text": [
      "pvalue=3.7517575005947054e-07 < 0.05\n",
      "Отвергаем нулевую гипотезу\n"
     ]
    }
   ],
   "source": [
    "test_result = mannwhitneyu(orders_mobile_count,\n",
    "                          orders_desktop_count,\n",
    "                          alternative = 'greater')\n",
    "alpha = 0.05\n",
    "if test_result.pvalue > alpha:\n",
    "    print(f'pvalue={test_result.pvalue} > {alpha}')\n",
    "    print('Не получилось отвергнуть нулевую гипотезу')\n",
    "else:\n",
    "    print(f'pvalue={test_result.pvalue} < {alpha}')\n",
    "    print('Отвергаем нулевую гипотезу')"
   ]
  },
  {
   "cell_type": "markdown",
   "metadata": {},
   "source": [
    "Нулевая гипотеза была отвергнута, среднее кол-во заказов у пользователей мобильных устройств действительно больше, чем у пользователей десктопных устройств\n",
    "\n",
    "pvalue=3.7517575005947054e-07"
   ]
  },
  {
   "cell_type": "markdown",
   "metadata": {},
   "source": [
    "### Гипотеза 2\n",
    "\n",
    "Проверим гипотезу, что среднее время между заказами пользователей мобильных приложений выше по сравнению с пользователями стационарных устройств.\n",
    "\n",
    "Н0 - среднее время между заказами пользователей мобильных приложений не выше по сравнению с пользователями стационарных устройств\n",
    "\n",
    "Н1 - среднее время между заказами пользователей мобильных приложений выше по сравнению с пользователями стационарных устройств."
   ]
  },
  {
   "cell_type": "code",
   "execution_count": 83,
   "metadata": {},
   "outputs": [
    {
     "data": {
      "text/html": [
       "<div>\n",
       "<style scoped>\n",
       "    .dataframe tbody tr th:only-of-type {\n",
       "        vertical-align: middle;\n",
       "    }\n",
       "\n",
       "    .dataframe tbody tr th {\n",
       "        vertical-align: top;\n",
       "    }\n",
       "\n",
       "    .dataframe thead th {\n",
       "        text-align: right;\n",
       "    }\n",
       "</style>\n",
       "<table border=\"1\" class=\"dataframe\">\n",
       "  <thead>\n",
       "    <tr style=\"text-align: right;\">\n",
       "      <th></th>\n",
       "      <th>min</th>\n",
       "      <th>max</th>\n",
       "      <th>count</th>\n",
       "      <th>avg_days_between</th>\n",
       "    </tr>\n",
       "    <tr>\n",
       "      <th>user_id</th>\n",
       "      <th></th>\n",
       "      <th></th>\n",
       "      <th></th>\n",
       "      <th></th>\n",
       "    </tr>\n",
       "  </thead>\n",
       "  <tbody>\n",
       "    <tr>\n",
       "      <th>000898990054619</th>\n",
       "      <td>2024-10-04</td>\n",
       "      <td>2024-10-23</td>\n",
       "      <td>2</td>\n",
       "      <td>9.500000</td>\n",
       "    </tr>\n",
       "    <tr>\n",
       "      <th>000a55a418c128c</th>\n",
       "      <td>2024-09-29</td>\n",
       "      <td>2024-10-15</td>\n",
       "      <td>2</td>\n",
       "      <td>8.000000</td>\n",
       "    </tr>\n",
       "    <tr>\n",
       "      <th>001e7037d013f0f</th>\n",
       "      <td>2024-09-16</td>\n",
       "      <td>2024-09-29</td>\n",
       "      <td>2</td>\n",
       "      <td>6.500000</td>\n",
       "    </tr>\n",
       "    <tr>\n",
       "      <th>00245c702bc343e</th>\n",
       "      <td>2024-09-25</td>\n",
       "      <td>2024-10-25</td>\n",
       "      <td>2</td>\n",
       "      <td>15.000000</td>\n",
       "    </tr>\n",
       "    <tr>\n",
       "      <th>002ec276eee9b0b</th>\n",
       "      <td>2024-09-21</td>\n",
       "      <td>2024-10-31</td>\n",
       "      <td>11</td>\n",
       "      <td>3.636364</td>\n",
       "    </tr>\n",
       "    <tr>\n",
       "      <th>...</th>\n",
       "      <td>...</td>\n",
       "      <td>...</td>\n",
       "      <td>...</td>\n",
       "      <td>...</td>\n",
       "    </tr>\n",
       "    <tr>\n",
       "      <th>ffe364dd8211157</th>\n",
       "      <td>2024-10-07</td>\n",
       "      <td>2024-10-07</td>\n",
       "      <td>3</td>\n",
       "      <td>0.000000</td>\n",
       "    </tr>\n",
       "    <tr>\n",
       "      <th>ffe73c50cbd71fc</th>\n",
       "      <td>2024-09-15</td>\n",
       "      <td>2024-09-15</td>\n",
       "      <td>2</td>\n",
       "      <td>0.000000</td>\n",
       "    </tr>\n",
       "    <tr>\n",
       "      <th>ffed3ff067d4f12</th>\n",
       "      <td>2024-09-01</td>\n",
       "      <td>2024-10-17</td>\n",
       "      <td>3</td>\n",
       "      <td>15.333333</td>\n",
       "    </tr>\n",
       "    <tr>\n",
       "      <th>fff13b79bd47d7c</th>\n",
       "      <td>2024-09-28</td>\n",
       "      <td>2024-10-31</td>\n",
       "      <td>3</td>\n",
       "      <td>11.000000</td>\n",
       "    </tr>\n",
       "    <tr>\n",
       "      <th>fffcd3dde79eb2c</th>\n",
       "      <td>2024-09-09</td>\n",
       "      <td>2024-10-27</td>\n",
       "      <td>14</td>\n",
       "      <td>3.428571</td>\n",
       "    </tr>\n",
       "  </tbody>\n",
       "</table>\n",
       "<p>8261 rows × 4 columns</p>\n",
       "</div>"
      ],
      "text/plain": [
       "                       min        max  count  avg_days_between\n",
       "user_id                                                       \n",
       "000898990054619 2024-10-04 2024-10-23      2          9.500000\n",
       "000a55a418c128c 2024-09-29 2024-10-15      2          8.000000\n",
       "001e7037d013f0f 2024-09-16 2024-09-29      2          6.500000\n",
       "00245c702bc343e 2024-09-25 2024-10-25      2         15.000000\n",
       "002ec276eee9b0b 2024-09-21 2024-10-31     11          3.636364\n",
       "...                    ...        ...    ...               ...\n",
       "ffe364dd8211157 2024-10-07 2024-10-07      3          0.000000\n",
       "ffe73c50cbd71fc 2024-09-15 2024-09-15      2          0.000000\n",
       "ffed3ff067d4f12 2024-09-01 2024-10-17      3         15.333333\n",
       "fff13b79bd47d7c 2024-09-28 2024-10-31      3         11.000000\n",
       "fffcd3dde79eb2c 2024-09-09 2024-10-27     14          3.428571\n",
       "\n",
       "[8261 rows x 4 columns]"
      ]
     },
     "metadata": {},
     "output_type": "display_data"
    }
   ],
   "source": [
    "# Для начала рассчитаем время между заказами для пользователей мобильных устройств \n",
    "mobile_times = (\n",
    "    orders_mobile\n",
    "    .groupby('user_id')['created_dt_msk']\n",
    "    .agg(['min', 'max', 'count'])\n",
    ")\n",
    "# Отфильтруем данные, если у пользователя не было заказов \n",
    "mobile_times = mobile_times[mobile_times['count'] > 1]\n",
    "\n",
    "mobile_times['avg_days_between'] = (\n",
    "    (mobile_times['max'] - mobile_times['min']).dt.days / (mobile_times['count'])\n",
    ")\n",
    "display (mobile_times)"
   ]
  },
  {
   "cell_type": "code",
   "execution_count": 84,
   "metadata": {},
   "outputs": [
    {
     "data": {
      "text/html": [
       "<div>\n",
       "<style scoped>\n",
       "    .dataframe tbody tr th:only-of-type {\n",
       "        vertical-align: middle;\n",
       "    }\n",
       "\n",
       "    .dataframe tbody tr th {\n",
       "        vertical-align: top;\n",
       "    }\n",
       "\n",
       "    .dataframe thead th {\n",
       "        text-align: right;\n",
       "    }\n",
       "</style>\n",
       "<table border=\"1\" class=\"dataframe\">\n",
       "  <thead>\n",
       "    <tr style=\"text-align: right;\">\n",
       "      <th></th>\n",
       "      <th>min</th>\n",
       "      <th>max</th>\n",
       "      <th>count</th>\n",
       "      <th>avg_days_between</th>\n",
       "    </tr>\n",
       "    <tr>\n",
       "      <th>user_id</th>\n",
       "      <th></th>\n",
       "      <th></th>\n",
       "      <th></th>\n",
       "      <th></th>\n",
       "    </tr>\n",
       "  </thead>\n",
       "  <tbody>\n",
       "    <tr>\n",
       "      <th>002b75ca606ba46</th>\n",
       "      <td>2024-10-02</td>\n",
       "      <td>2024-10-16</td>\n",
       "      <td>3</td>\n",
       "      <td>4.666667</td>\n",
       "    </tr>\n",
       "    <tr>\n",
       "      <th>005fefeabf1e678</th>\n",
       "      <td>2024-09-10</td>\n",
       "      <td>2024-09-10</td>\n",
       "      <td>3</td>\n",
       "      <td>0.000000</td>\n",
       "    </tr>\n",
       "    <tr>\n",
       "      <th>006d1660d830822</th>\n",
       "      <td>2024-09-01</td>\n",
       "      <td>2024-10-18</td>\n",
       "      <td>7</td>\n",
       "      <td>6.714286</td>\n",
       "    </tr>\n",
       "    <tr>\n",
       "      <th>00937de412ea430</th>\n",
       "      <td>2024-10-06</td>\n",
       "      <td>2024-10-06</td>\n",
       "      <td>3</td>\n",
       "      <td>0.000000</td>\n",
       "    </tr>\n",
       "    <tr>\n",
       "      <th>00cb8c1ef996876</th>\n",
       "      <td>2024-10-21</td>\n",
       "      <td>2024-10-22</td>\n",
       "      <td>2</td>\n",
       "      <td>0.500000</td>\n",
       "    </tr>\n",
       "    <tr>\n",
       "      <th>...</th>\n",
       "      <td>...</td>\n",
       "      <td>...</td>\n",
       "      <td>...</td>\n",
       "      <td>...</td>\n",
       "    </tr>\n",
       "    <tr>\n",
       "      <th>ff684621b134cc4</th>\n",
       "      <td>2024-09-19</td>\n",
       "      <td>2024-10-29</td>\n",
       "      <td>9</td>\n",
       "      <td>4.444444</td>\n",
       "    </tr>\n",
       "    <tr>\n",
       "      <th>ff840c2bf377690</th>\n",
       "      <td>2024-09-27</td>\n",
       "      <td>2024-10-18</td>\n",
       "      <td>2</td>\n",
       "      <td>10.500000</td>\n",
       "    </tr>\n",
       "    <tr>\n",
       "      <th>ff9310a90294d5c</th>\n",
       "      <td>2024-09-24</td>\n",
       "      <td>2024-10-31</td>\n",
       "      <td>13</td>\n",
       "      <td>2.846154</td>\n",
       "    </tr>\n",
       "    <tr>\n",
       "      <th>ffade91aac83ba3</th>\n",
       "      <td>2024-09-20</td>\n",
       "      <td>2024-09-20</td>\n",
       "      <td>4</td>\n",
       "      <td>0.000000</td>\n",
       "    </tr>\n",
       "    <tr>\n",
       "      <th>fffcd3dde79eb2c</th>\n",
       "      <td>2024-09-27</td>\n",
       "      <td>2024-10-30</td>\n",
       "      <td>2</td>\n",
       "      <td>16.500000</td>\n",
       "    </tr>\n",
       "  </tbody>\n",
       "</table>\n",
       "<p>2711 rows × 4 columns</p>\n",
       "</div>"
      ],
      "text/plain": [
       "                       min        max  count  avg_days_between\n",
       "user_id                                                       \n",
       "002b75ca606ba46 2024-10-02 2024-10-16      3          4.666667\n",
       "005fefeabf1e678 2024-09-10 2024-09-10      3          0.000000\n",
       "006d1660d830822 2024-09-01 2024-10-18      7          6.714286\n",
       "00937de412ea430 2024-10-06 2024-10-06      3          0.000000\n",
       "00cb8c1ef996876 2024-10-21 2024-10-22      2          0.500000\n",
       "...                    ...        ...    ...               ...\n",
       "ff684621b134cc4 2024-09-19 2024-10-29      9          4.444444\n",
       "ff840c2bf377690 2024-09-27 2024-10-18      2         10.500000\n",
       "ff9310a90294d5c 2024-09-24 2024-10-31     13          2.846154\n",
       "ffade91aac83ba3 2024-09-20 2024-09-20      4          0.000000\n",
       "fffcd3dde79eb2c 2024-09-27 2024-10-30      2         16.500000\n",
       "\n",
       "[2711 rows x 4 columns]"
      ]
     },
     "metadata": {},
     "output_type": "display_data"
    }
   ],
   "source": [
    "# Рассчитаем время между заказами для пользователей стаицонарных устройств \n",
    "desktop_times = (\n",
    "    orders_desktop\n",
    "    .groupby('user_id')['created_dt_msk']\n",
    "    .agg(['min', 'max', 'count'])\n",
    ")\n",
    "# Отфильтруем данные, если у пользователя не было заказов \n",
    "desktop_times = desktop_times[desktop_times['count'] > 1]\n",
    "\n",
    "desktop_times['avg_days_between'] = (\n",
    "    (desktop_times['max'] - desktop_times['min']).dt.days / (desktop_times['count'])\n",
    ")\n",
    "display (desktop_times)"
   ]
  },
  {
   "cell_type": "code",
   "execution_count": 85,
   "metadata": {
    "scrolled": false
   },
   "outputs": [
    {
     "data": {
      "image/png": "[encoded data removed]",
      "text/plain": [
       "<Figure size 576x360 with 1 Axes>"
      ]
     },
     "metadata": {
      "needs_background": "light"
     },
     "output_type": "display_data"
    }
   ],
   "source": [
    "# Проверим выборки на равномерность распределения, построив боксплот \n",
    "plt.figure(figsize=(8, 5))\n",
    "\n",
    "plt.boxplot(\n",
    "    [mobile_times['avg_days_between'], desktop_times['avg_days_between']],\n",
    "    labels=['Mobile', 'Desktop'],\n",
    ")\n",
    "\n",
    "plt.title('Количество дней между покупками пользователей')\n",
    "plt.ylabel('Кол-во дней')\n",
    "plt.grid(True)\n",
    "plt.tight_layout()\n",
    "plt.show()"
   ]
  },
  {
   "cell_type": "markdown",
   "metadata": {},
   "source": [
    "Распределение является ассиметричным и ненормальным присутствуют выбросы и длиный хвост \n",
    "\n",
    "Выберем для проверки гипотезы тест Манна-Уитни, так как мы уже знаем, что распределение групп неравномерно, также выборки количественные и независимые. Уровень статистической значимости - 5%"
   ]
  },
  {
   "cell_type": "code",
   "execution_count": 87,
   "metadata": {},
   "outputs": [
    {
     "name": "stdout",
     "output_type": "stream",
     "text": [
      "pvalue=2.4566253909444583e-10 < 0.05\n",
      "Отвергаем нулевую гипотезу\n"
     ]
    }
   ],
   "source": [
    "test_result = mannwhitneyu(mobile_times['avg_days_between'],\n",
    "                          desktop_times['avg_days_between'],\n",
    "                          alternative = 'greater')\n",
    "alpha = 0.05\n",
    "if test_result.pvalue > alpha:\n",
    "    print(f'pvalue={test_result.pvalue} > {alpha}')\n",
    "    print('Не получилось отвергнуть нулевую гипотезу')\n",
    "else:\n",
    "    print(f'pvalue={test_result.pvalue} < {alpha}')\n",
    "    print('Отвергаем нулевую гипотезу')"
   ]
  },
  {
   "cell_type": "markdown",
   "metadata": {},
   "source": [
    "Нулевая гипотеза была отвергнута, среднее время между заказами пользователей мобильных приложений выше по сравнению с пользователями стационарных устройств.\n",
    "\n",
    "pvalue=2.4566253909444583e-10"
   ]
  },
  {
   "cell_type": "markdown",
   "metadata": {},
   "source": [
    "## Выводы "
   ]
  },
  {
   "cell_type": "markdown",
   "metadata": {},
   "source": [
    "1. Предобработка данных\n",
    "- Все датасеты были объединены в один (df) для удобства анализа.\n",
    "- Были удалены строки, где встречались NaN в категориальных колонках (238).\n",
    "- Произведена очистка от выбросов в revenue и tickets_count по 99-му процентилю.\n",
    "- Удалены неявные дубликаты (39 строк).\n",
    "- Приведены типы данных в столбцах с датой и временем\n",
    "- Всего очищено в данных около 1% данных\n",
    "- Созданы новые столбцы: revenue_rub - выручка в единой валюте, one_ticket_revenue_rub - средняя выручка с продажи 1 билета, month - месяцы, когда была совершенна покупка, season - сезон, когда была совершенна покупка.\n",
    "\n",
    "2. Осенняя активность пользователей (сентябрь–октябрь)\n",
    "- Пики заказов и DAU наблюдаются в начале сентября, октября и в конце октября (возможно, из-за Дня знаний, Хэллоуина и школьных каникул).\n",
    "- Средняя стоимость билета в пиковые периоды ниже — вероятны акции или рост массовых недорогих событий.\n",
    "\n",
    "**По дням недели:**\n",
    "\n",
    "- Больше всего заказов — по вторникам.\n",
    "- Максимальный DAU — по четвергам.\n",
    "- Средняя стоимость билета растёт к выходным.\n",
    "\n",
    "3. Популярные регионы и партнёры\n",
    "**Регионы:**\n",
    "\n",
    "- Каменевский регион — лидер: 25% всех мероприятий и 28% заказов.\n",
    "- Североярская область — 16% мероприятий и 12% заказов.\n",
    "- Остальные регионы — менее 5% в каждой метрике.\n",
    "\n",
    "**Билетные партнёры:**\n",
    "\n",
    "Топ-3:\n",
    "\n",
    "- Лови билет! — 21% мероприятий, 15% заказов.\n",
    "- Билеты без проблем — 16% мероприятий, 19% заказов, лидер по выручке (12 млн ₽).\n",
    "- Билеты в руки — 14% мероприятий, 15% заказов.\n",
    "- Интерены также Облачко, Мой билет, Весь в билетах — несмотря на <9% по показателям, их выручка сопоставима с лидерами (высокий средний чек).\n",
    "- Множество мелких партнёров обрабатывают 1–2 мероприятия с минимальной выручкой.\n",
    "\n",
    "4. Статистический анализ (осень 2024)\n",
    "**Гипотеза 1:** Среднее количество заказов у пользователей мобильных устройств выше, чем у десктопных.\n",
    "\n",
    "- Нулевая гипотеза отвергнута, различие статистически значимо.\n",
    "- p-value = 3.75e-07\n",
    "\n",
    "**Гипотеза 2:** Среднее время между заказами у мобильных пользователей выше.\n",
    "\n",
    "- Нулевая гипотеза отвергнута, различие также значимо.\n",
    "- p-value = 2.46e-10"
   ]
  },
  {
   "cell_type": "markdown",
   "metadata": {},
   "source": [
    "**Рекомендации:**\n",
    "\n",
    "- Фокус на мобильных пользователях, у них выше активность (больше заказов), но при этом — дольше паузы между заказами, что может быть точкой роста (упор на увелечение вовлечённости).\n",
    "- Поддерживать активность в Каменевском и Североярском регионах.\n",
    "- В других регионах — оценить, почему показатели слабые, и стоит ли запускать локальные кампании.\n",
    "- Продолжить работу с партнёрами \"Билеты без проблем\", \"Лови билет!\" и \"Билеты в руки\"как с лидерами.\n",
    "- Рассмотреть расширение сотрудничества с \"Облачко\", \"Мой билет\" и др. — они приносят хорошую выручку при меньших объёмах.\n",
    "- Пересмотреть целесообразность работы с мелкими операторами.\n",
    "- Массовые мероприятия (концерты, театр и тд) это драйвер трафика, но с низким средним чеком — уместно применять сегментную стратегию: одни партнёры — для охвата, другие — для монетизации."
   ]
  },
  {
   "cell_type": "markdown",
   "metadata": {},
   "source": []
  },
  {
   "cell_type": "markdown",
   "metadata": {},
   "source": [
    "<div style=\"border:solid blue 3px; padding: 20px\">\n",
    "<div class=\"alert alert-block alert-success\">✔️\n",
    "    \n",
    "\n",
    "__Коментарий от ревьюера №2__\n",
    "\n",
    "Александра, все замечания учтены - проект принят!\n",
    "\n",
    "\n",
    "Всё чудно😊. Твой проект так и просится на github =)   \n",
    "    \n",
    "Поздравляю с успешным завершением проекта 😊👍\n",
    "И желаю успехов в новых работах 😊\n",
    "    \n",
    "---\n",
    "    \n",
    "От себя хочу порекомендовать тебе отличный метариал по статистике. \n",
    "    \n",
    "* Курс \"Вероятность и статистика\" | Глеб Михайлов (free): https://www.youtube.com/playlist?list=PLQJ7ptkRY-xbHLLI66KdscKp_FJt0FsIi\n",
    "    \n",
    "* Методы обнаружения выбросов: https://youtu.be/TOK7Kq7x0yc\n",
    "    \n",
    "\n",
    "</div>"
   ]
  }
 ],
 "metadata": {
  "ExecuteTimeLog": [
   {
    "duration": 3,
    "start_time": "2025-06-16T13:09:52.526Z"
   },
   {
    "duration": 1340,
    "start_time": "2025-06-16T13:10:42.295Z"
   },
   {
    "duration": 3,
    "start_time": "2025-06-16T13:11:00.384Z"
   },
   {
    "duration": 2535,
    "start_time": "2025-06-16T13:11:55.402Z"
   },
   {
    "duration": 1584,
    "start_time": "2025-06-16T13:12:14.145Z"
   },
   {
    "duration": 1971,
    "start_time": "2025-06-16T13:12:26.929Z"
   },
   {
    "duration": 1563,
    "start_time": "2025-06-16T13:12:34.875Z"
   },
   {
    "duration": 308,
    "start_time": "2025-06-16T13:14:17.170Z"
   },
   {
    "duration": 136,
    "start_time": "2025-06-16T13:15:09.111Z"
   },
   {
    "duration": 38,
    "start_time": "2025-06-16T13:15:13.790Z"
   },
   {
    "duration": 41,
    "start_time": "2025-06-16T13:15:26.030Z"
   },
   {
    "duration": 108,
    "start_time": "2025-06-16T14:31:40.904Z"
   },
   {
    "duration": 259,
    "start_time": "2025-06-16T14:45:26.702Z"
   },
   {
    "duration": 252,
    "start_time": "2025-06-16T14:46:13.363Z"
   },
   {
    "duration": 345,
    "start_time": "2025-06-16T14:49:24.281Z"
   },
   {
    "duration": 341,
    "start_time": "2025-06-16T14:49:27.662Z"
   },
   {
    "duration": 604,
    "start_time": "2025-06-16T14:49:42.010Z"
   },
   {
    "duration": 3,
    "start_time": "2025-06-16T14:54:58.728Z"
   },
   {
    "duration": 9,
    "start_time": "2025-06-16T14:55:40.324Z"
   },
   {
    "duration": 24,
    "start_time": "2025-06-16T14:55:51.744Z"
   },
   {
    "duration": 533,
    "start_time": "2025-06-16T15:03:28.425Z"
   },
   {
    "duration": 46,
    "start_time": "2025-06-16T15:03:51.619Z"
   },
   {
    "duration": 30,
    "start_time": "2025-06-16T15:05:35.978Z"
   },
   {
    "duration": 17,
    "start_time": "2025-06-16T15:05:49.608Z"
   },
   {
    "duration": 6,
    "start_time": "2025-06-16T15:06:46.579Z"
   },
   {
    "duration": 15,
    "start_time": "2025-06-16T15:07:13.313Z"
   },
   {
    "duration": 17,
    "start_time": "2025-06-16T15:07:35.922Z"
   },
   {
    "duration": 558,
    "start_time": "2025-06-16T15:07:43.068Z"
   },
   {
    "duration": 952,
    "start_time": "2025-06-16T15:11:44.876Z"
   },
   {
    "duration": 534,
    "start_time": "2025-06-16T15:11:59.854Z"
   },
   {
    "duration": 555,
    "start_time": "2025-06-16T15:13:25.165Z"
   },
   {
    "duration": 557,
    "start_time": "2025-06-16T15:13:37.085Z"
   },
   {
    "duration": 1832,
    "start_time": "2025-06-16T15:14:08.534Z"
   },
   {
    "duration": 22,
    "start_time": "2025-06-16T15:14:18.180Z"
   },
   {
    "duration": 14,
    "start_time": "2025-06-16T15:15:24.368Z"
   },
   {
    "duration": 12,
    "start_time": "2025-06-16T15:17:54.577Z"
   },
   {
    "duration": 18,
    "start_time": "2025-06-16T15:18:44.111Z"
   },
   {
    "duration": 14,
    "start_time": "2025-06-16T15:19:03.402Z"
   },
   {
    "duration": 35,
    "start_time": "2025-06-16T15:22:39.188Z"
   },
   {
    "duration": 19,
    "start_time": "2025-06-16T15:23:13.245Z"
   },
   {
    "duration": 52,
    "start_time": "2025-06-16T15:23:50.556Z"
   },
   {
    "duration": 89,
    "start_time": "2025-06-16T15:24:56.014Z"
   },
   {
    "duration": 21,
    "start_time": "2025-06-16T15:25:00.359Z"
   },
   {
    "duration": 26,
    "start_time": "2025-06-16T15:26:35.265Z"
   },
   {
    "duration": 26,
    "start_time": "2025-06-16T15:30:05.639Z"
   },
   {
    "duration": 38,
    "start_time": "2025-06-16T15:30:46.640Z"
   },
   {
    "duration": 27,
    "start_time": "2025-06-16T15:31:26.564Z"
   },
   {
    "duration": 28,
    "start_time": "2025-06-16T15:31:59.758Z"
   },
   {
    "duration": 19,
    "start_time": "2025-06-16T15:32:43.456Z"
   },
   {
    "duration": 291,
    "start_time": "2025-06-16T15:35:21.435Z"
   },
   {
    "duration": 159,
    "start_time": "2025-06-16T15:35:55.978Z"
   },
   {
    "duration": 19,
    "start_time": "2025-06-16T15:38:41.758Z"
   },
   {
    "duration": 9,
    "start_time": "2025-06-16T15:42:54.067Z"
   },
   {
    "duration": 11,
    "start_time": "2025-06-16T15:44:13.293Z"
   },
   {
    "duration": 933,
    "start_time": "2025-06-16T15:44:20.889Z"
   },
   {
    "duration": 114,
    "start_time": "2025-06-16T15:45:45.574Z"
   },
   {
    "duration": 30,
    "start_time": "2025-06-16T15:46:06.651Z"
   },
   {
    "duration": 112,
    "start_time": "2025-06-16T15:47:01.156Z"
   },
   {
    "duration": 131,
    "start_time": "2025-06-16T15:49:20.544Z"
   },
   {
    "duration": 112,
    "start_time": "2025-06-16T15:50:47.118Z"
   },
   {
    "duration": 116,
    "start_time": "2025-06-16T15:53:07.780Z"
   },
   {
    "duration": 477,
    "start_time": "2025-06-16T15:53:30.973Z"
   },
   {
    "duration": 451,
    "start_time": "2025-06-16T15:54:55.214Z"
   },
   {
    "duration": 453,
    "start_time": "2025-06-16T15:55:49.023Z"
   },
   {
    "duration": 103,
    "start_time": "2025-06-16T16:03:08.052Z"
   },
   {
    "duration": 99,
    "start_time": "2025-06-16T16:03:22.722Z"
   },
   {
    "duration": 91,
    "start_time": "2025-06-16T16:07:49.440Z"
   },
   {
    "duration": 321,
    "start_time": "2025-06-16T16:07:56.728Z"
   },
   {
    "duration": 105,
    "start_time": "2025-06-16T16:08:09.616Z"
   },
   {
    "duration": 73,
    "start_time": "2025-06-16T16:08:16.155Z"
   },
   {
    "duration": 28,
    "start_time": "2025-06-16T16:08:34.282Z"
   },
   {
    "duration": 29,
    "start_time": "2025-06-16T16:09:01.874Z"
   },
   {
    "duration": 115,
    "start_time": "2025-06-16T16:09:19.720Z"
   },
   {
    "duration": 132,
    "start_time": "2025-06-16T16:09:27.278Z"
   },
   {
    "duration": 95,
    "start_time": "2025-06-16T16:10:09.769Z"
   },
   {
    "duration": 26,
    "start_time": "2025-06-16T16:10:16.758Z"
   },
   {
    "duration": 38,
    "start_time": "2025-06-16T16:10:49.556Z"
   },
   {
    "duration": 36,
    "start_time": "2025-06-16T16:10:55.434Z"
   },
   {
    "duration": 92,
    "start_time": "2025-06-16T16:11:02.601Z"
   },
   {
    "duration": 15,
    "start_time": "2025-06-16T16:12:43.354Z"
   },
   {
    "duration": 329,
    "start_time": "2025-06-16T16:14:29.548Z"
   },
   {
    "duration": 9,
    "start_time": "2025-06-16T16:16:13.764Z"
   },
   {
    "duration": 73,
    "start_time": "2025-06-16T16:17:08.277Z"
   },
   {
    "duration": 240,
    "start_time": "2025-06-16T16:18:01.834Z"
   },
   {
    "duration": 1448,
    "start_time": "2025-06-16T18:07:24.194Z"
   },
   {
    "duration": 1668,
    "start_time": "2025-06-16T18:07:25.644Z"
   },
   {
    "duration": 310,
    "start_time": "2025-06-16T18:07:27.314Z"
   },
   {
    "duration": 55,
    "start_time": "2025-06-16T18:07:27.626Z"
   },
   {
    "duration": 655,
    "start_time": "2025-06-16T18:07:27.682Z"
   },
   {
    "duration": 17,
    "start_time": "2025-06-16T18:07:28.339Z"
   },
   {
    "duration": 10,
    "start_time": "2025-06-16T18:07:28.358Z"
   },
   {
    "duration": 16,
    "start_time": "2025-06-16T18:07:28.370Z"
   },
   {
    "duration": 147,
    "start_time": "2025-06-16T18:07:28.389Z"
   },
   {
    "duration": 28,
    "start_time": "2025-06-16T18:07:28.538Z"
   },
   {
    "duration": 123,
    "start_time": "2025-06-16T18:07:28.567Z"
   },
   {
    "duration": 30,
    "start_time": "2025-06-16T18:07:28.692Z"
   },
   {
    "duration": 381,
    "start_time": "2025-06-16T18:07:28.724Z"
   },
   {
    "duration": 117,
    "start_time": "2025-06-16T18:07:29.107Z"
   },
   {
    "duration": 478,
    "start_time": "2025-06-16T18:07:29.226Z"
   },
   {
    "duration": 109,
    "start_time": "2025-06-16T18:07:29.706Z"
   },
   {
    "duration": 96,
    "start_time": "2025-06-16T18:07:29.816Z"
   },
   {
    "duration": 41,
    "start_time": "2025-06-16T18:07:29.913Z"
   },
   {
    "duration": 149,
    "start_time": "2025-06-16T18:07:29.956Z"
   },
   {
    "duration": 37,
    "start_time": "2025-06-16T18:07:30.107Z"
   },
   {
    "duration": 119,
    "start_time": "2025-06-16T18:07:30.146Z"
   },
   {
    "duration": 15,
    "start_time": "2025-06-16T18:07:30.267Z"
   },
   {
    "duration": 380,
    "start_time": "2025-06-16T18:07:30.283Z"
   },
   {
    "duration": 8,
    "start_time": "2025-06-16T18:07:30.666Z"
   },
   {
    "duration": 94,
    "start_time": "2025-06-16T18:07:30.675Z"
   },
   {
    "duration": 230,
    "start_time": "2025-06-16T18:07:30.771Z"
   },
   {
    "duration": 101,
    "start_time": "2025-06-16T18:09:24.058Z"
   },
   {
    "duration": 10,
    "start_time": "2025-06-16T18:09:36.690Z"
   },
   {
    "duration": 592,
    "start_time": "2025-06-16T18:10:17.862Z"
   },
   {
    "duration": 620,
    "start_time": "2025-06-16T18:10:30.596Z"
   },
   {
    "duration": 25,
    "start_time": "2025-06-16T18:12:25.010Z"
   },
   {
    "duration": 47,
    "start_time": "2025-06-16T18:12:42.973Z"
   },
   {
    "duration": 49,
    "start_time": "2025-06-16T18:13:06.965Z"
   },
   {
    "duration": 37,
    "start_time": "2025-06-16T18:13:44.602Z"
   },
   {
    "duration": 38,
    "start_time": "2025-06-16T18:13:55.733Z"
   },
   {
    "duration": 24,
    "start_time": "2025-06-16T18:16:35.777Z"
   },
   {
    "duration": 69,
    "start_time": "2025-06-17T13:09:54.836Z"
   },
   {
    "duration": 1372,
    "start_time": "2025-06-17T13:10:09.088Z"
   },
   {
    "duration": 1914,
    "start_time": "2025-06-17T13:10:10.462Z"
   },
   {
    "duration": 309,
    "start_time": "2025-06-17T13:10:12.378Z"
   },
   {
    "duration": 56,
    "start_time": "2025-06-17T13:10:12.690Z"
   },
   {
    "duration": 638,
    "start_time": "2025-06-17T13:10:12.748Z"
   },
   {
    "duration": 19,
    "start_time": "2025-06-17T13:10:13.387Z"
   },
   {
    "duration": 41,
    "start_time": "2025-06-17T13:10:13.408Z"
   },
   {
    "duration": 29,
    "start_time": "2025-06-17T13:10:13.451Z"
   },
   {
    "duration": 34,
    "start_time": "2025-06-17T13:10:13.482Z"
   },
   {
    "duration": 43,
    "start_time": "2025-06-17T13:10:13.519Z"
   },
   {
    "duration": 42,
    "start_time": "2025-06-17T13:10:13.564Z"
   },
   {
    "duration": 52,
    "start_time": "2025-06-17T13:10:13.608Z"
   },
   {
    "duration": 344,
    "start_time": "2025-06-17T13:10:13.661Z"
   },
   {
    "duration": 111,
    "start_time": "2025-06-17T13:10:14.006Z"
   },
   {
    "duration": 477,
    "start_time": "2025-06-17T13:10:14.119Z"
   },
   {
    "duration": 105,
    "start_time": "2025-06-17T13:10:14.598Z"
   },
   {
    "duration": 98,
    "start_time": "2025-06-17T13:10:14.705Z"
   },
   {
    "duration": 36,
    "start_time": "2025-06-17T13:10:14.805Z"
   },
   {
    "duration": 140,
    "start_time": "2025-06-17T13:10:14.842Z"
   },
   {
    "duration": 28,
    "start_time": "2025-06-17T13:10:14.983Z"
   },
   {
    "duration": 160,
    "start_time": "2025-06-17T13:10:15.013Z"
   },
   {
    "duration": 15,
    "start_time": "2025-06-17T13:10:15.175Z"
   },
   {
    "duration": 344,
    "start_time": "2025-06-17T13:10:15.191Z"
   },
   {
    "duration": 8,
    "start_time": "2025-06-17T13:10:15.538Z"
   },
   {
    "duration": 120,
    "start_time": "2025-06-17T13:10:15.547Z"
   },
   {
    "duration": 221,
    "start_time": "2025-06-17T13:10:15.669Z"
   },
   {
    "duration": 628,
    "start_time": "2025-06-17T13:10:15.891Z"
   },
   {
    "duration": 68,
    "start_time": "2025-06-17T13:10:16.523Z"
   },
   {
    "duration": 87,
    "start_time": "2025-06-17T13:10:34.060Z"
   },
   {
    "duration": 69,
    "start_time": "2025-06-17T13:10:51.773Z"
   },
   {
    "duration": 85,
    "start_time": "2025-06-17T13:10:57.791Z"
   },
   {
    "duration": 89,
    "start_time": "2025-06-17T13:11:02.340Z"
   },
   {
    "duration": 77,
    "start_time": "2025-06-17T13:11:20.742Z"
   },
   {
    "duration": 73,
    "start_time": "2025-06-17T13:11:58.995Z"
   },
   {
    "duration": 67,
    "start_time": "2025-06-17T13:12:01.581Z"
   },
   {
    "duration": 72,
    "start_time": "2025-06-17T13:12:57.548Z"
   },
   {
    "duration": 301,
    "start_time": "2025-06-17T13:13:10.042Z"
   },
   {
    "duration": 70,
    "start_time": "2025-06-17T13:13:21.850Z"
   },
   {
    "duration": 60,
    "start_time": "2025-06-17T13:13:28.895Z"
   },
   {
    "duration": 99,
    "start_time": "2025-06-17T13:14:46.441Z"
   },
   {
    "duration": 143,
    "start_time": "2025-06-17T13:15:01.646Z"
   },
   {
    "duration": 253,
    "start_time": "2025-06-17T13:17:17.016Z"
   },
   {
    "duration": 303,
    "start_time": "2025-06-17T13:18:06.383Z"
   },
   {
    "duration": 62,
    "start_time": "2025-06-17T13:19:49.251Z"
   },
   {
    "duration": 69,
    "start_time": "2025-06-17T13:19:56.776Z"
   },
   {
    "duration": 105,
    "start_time": "2025-06-17T13:20:11.677Z"
   },
   {
    "duration": 354,
    "start_time": "2025-06-17T13:20:19.553Z"
   },
   {
    "duration": 69,
    "start_time": "2025-06-17T13:26:04.218Z"
   },
   {
    "duration": 15,
    "start_time": "2025-06-17T13:44:25.504Z"
   },
   {
    "duration": 12,
    "start_time": "2025-06-17T13:46:16.332Z"
   },
   {
    "duration": 10,
    "start_time": "2025-06-17T13:47:03.476Z"
   },
   {
    "duration": 9,
    "start_time": "2025-06-17T13:47:09.591Z"
   },
   {
    "duration": 14,
    "start_time": "2025-06-17T13:47:14.415Z"
   },
   {
    "duration": 13,
    "start_time": "2025-06-17T13:49:04.199Z"
   },
   {
    "duration": 228,
    "start_time": "2025-06-17T13:49:24.327Z"
   },
   {
    "duration": 3,
    "start_time": "2025-06-17T13:49:54.620Z"
   },
   {
    "duration": 1514,
    "start_time": "2025-06-17T13:49:55.030Z"
   },
   {
    "duration": 284,
    "start_time": "2025-06-17T13:49:56.546Z"
   },
   {
    "duration": 42,
    "start_time": "2025-06-17T13:49:56.832Z"
   },
   {
    "duration": 572,
    "start_time": "2025-06-17T13:49:56.876Z"
   },
   {
    "duration": 17,
    "start_time": "2025-06-17T13:49:57.450Z"
   },
   {
    "duration": 23,
    "start_time": "2025-06-17T13:49:57.469Z"
   },
   {
    "duration": 56,
    "start_time": "2025-06-17T13:49:57.494Z"
   },
   {
    "duration": 67,
    "start_time": "2025-06-17T13:49:57.552Z"
   },
   {
    "duration": 29,
    "start_time": "2025-06-17T13:49:57.621Z"
   },
   {
    "duration": 29,
    "start_time": "2025-06-17T13:49:57.652Z"
   },
   {
    "duration": 28,
    "start_time": "2025-06-17T13:49:57.683Z"
   },
   {
    "duration": 350,
    "start_time": "2025-06-17T13:49:57.738Z"
   },
   {
    "duration": 121,
    "start_time": "2025-06-17T13:49:58.090Z"
   },
   {
    "duration": 450,
    "start_time": "2025-06-17T13:49:58.213Z"
   },
   {
    "duration": 104,
    "start_time": "2025-06-17T13:49:58.665Z"
   },
   {
    "duration": 104,
    "start_time": "2025-06-17T13:49:58.771Z"
   },
   {
    "duration": 30,
    "start_time": "2025-06-17T13:49:58.877Z"
   },
   {
    "duration": 138,
    "start_time": "2025-06-17T13:49:58.909Z"
   },
   {
    "duration": 27,
    "start_time": "2025-06-17T13:49:59.050Z"
   },
   {
    "duration": 117,
    "start_time": "2025-06-17T13:49:59.079Z"
   },
   {
    "duration": 15,
    "start_time": "2025-06-17T13:49:59.197Z"
   },
   {
    "duration": 325,
    "start_time": "2025-06-17T13:49:59.214Z"
   },
   {
    "duration": 7,
    "start_time": "2025-06-17T13:49:59.540Z"
   },
   {
    "duration": 89,
    "start_time": "2025-06-17T13:49:59.550Z"
   },
   {
    "duration": 219,
    "start_time": "2025-06-17T13:49:59.641Z"
   },
   {
    "duration": 615,
    "start_time": "2025-06-17T13:49:59.862Z"
   },
   {
    "duration": 316,
    "start_time": "2025-06-17T13:50:00.479Z"
   },
   {
    "duration": 375,
    "start_time": "2025-06-17T13:50:00.796Z"
   },
   {
    "duration": 290,
    "start_time": "2025-06-17T13:50:01.173Z"
   },
   {
    "duration": 13,
    "start_time": "2025-06-17T13:50:17.713Z"
   },
   {
    "duration": 3,
    "start_time": "2025-06-17T13:50:27.223Z"
   },
   {
    "duration": 1605,
    "start_time": "2025-06-17T13:50:27.789Z"
   },
   {
    "duration": 228,
    "start_time": "2025-06-17T13:50:29.396Z"
   },
   {
    "duration": 46,
    "start_time": "2025-06-17T13:50:29.626Z"
   },
   {
    "duration": 629,
    "start_time": "2025-06-17T13:50:29.674Z"
   },
   {
    "duration": 17,
    "start_time": "2025-06-17T13:50:30.305Z"
   },
   {
    "duration": 109,
    "start_time": "2025-06-17T13:50:30.340Z"
   },
   {
    "duration": 24,
    "start_time": "2025-06-17T13:50:30.450Z"
   },
   {
    "duration": 100,
    "start_time": "2025-06-17T13:50:30.476Z"
   },
   {
    "duration": 85,
    "start_time": "2025-06-17T13:50:30.578Z"
   },
   {
    "duration": 29,
    "start_time": "2025-06-17T13:50:30.667Z"
   },
   {
    "duration": 50,
    "start_time": "2025-06-17T13:50:30.698Z"
   },
   {
    "duration": 374,
    "start_time": "2025-06-17T13:50:30.749Z"
   },
   {
    "duration": 130,
    "start_time": "2025-06-17T13:50:31.125Z"
   },
   {
    "duration": 467,
    "start_time": "2025-06-17T13:50:31.257Z"
   },
   {
    "duration": 113,
    "start_time": "2025-06-17T13:50:31.726Z"
   },
   {
    "duration": 108,
    "start_time": "2025-06-17T13:50:31.841Z"
   },
   {
    "duration": 32,
    "start_time": "2025-06-17T13:50:31.951Z"
   },
   {
    "duration": 140,
    "start_time": "2025-06-17T13:50:31.985Z"
   },
   {
    "duration": 34,
    "start_time": "2025-06-17T13:50:32.127Z"
   },
   {
    "duration": 115,
    "start_time": "2025-06-17T13:50:32.163Z"
   },
   {
    "duration": 15,
    "start_time": "2025-06-17T13:50:32.279Z"
   },
   {
    "duration": 322,
    "start_time": "2025-06-17T13:50:32.296Z"
   },
   {
    "duration": 7,
    "start_time": "2025-06-17T13:50:32.620Z"
   },
   {
    "duration": 84,
    "start_time": "2025-06-17T13:50:32.628Z"
   },
   {
    "duration": 222,
    "start_time": "2025-06-17T13:50:32.713Z"
   },
   {
    "duration": 612,
    "start_time": "2025-06-17T13:50:32.939Z"
   },
   {
    "duration": 420,
    "start_time": "2025-06-17T13:50:33.553Z"
   },
   {
    "duration": 367,
    "start_time": "2025-06-17T13:50:33.975Z"
   },
   {
    "duration": 272,
    "start_time": "2025-06-17T13:50:34.344Z"
   },
   {
    "duration": 12,
    "start_time": "2025-06-17T13:53:09.983Z"
   },
   {
    "duration": 16,
    "start_time": "2025-06-17T13:54:43.698Z"
   },
   {
    "duration": 15,
    "start_time": "2025-06-17T13:54:50.425Z"
   },
   {
    "duration": 15,
    "start_time": "2025-06-17T13:55:04.951Z"
   },
   {
    "duration": 55,
    "start_time": "2025-06-17T13:55:12.548Z"
   },
   {
    "duration": 176,
    "start_time": "2025-06-17T13:58:20.602Z"
   },
   {
    "duration": 202,
    "start_time": "2025-06-17T13:59:30.313Z"
   },
   {
    "duration": 42,
    "start_time": "2025-06-17T14:05:34.637Z"
   },
   {
    "duration": 23,
    "start_time": "2025-06-17T14:15:11.301Z"
   },
   {
    "duration": 22,
    "start_time": "2025-06-17T14:15:24.027Z"
   },
   {
    "duration": 47,
    "start_time": "2025-06-17T14:15:30.735Z"
   },
   {
    "duration": 57,
    "start_time": "2025-06-17T14:15:52.137Z"
   },
   {
    "duration": 98,
    "start_time": "2025-06-17T14:16:02.130Z"
   },
   {
    "duration": 89,
    "start_time": "2025-06-17T14:16:56.581Z"
   },
   {
    "duration": 23,
    "start_time": "2025-06-17T14:17:10.578Z"
   },
   {
    "duration": 23,
    "start_time": "2025-06-17T14:19:36.153Z"
   },
   {
    "duration": 5,
    "start_time": "2025-06-17T14:20:51.458Z"
   },
   {
    "duration": 5,
    "start_time": "2025-06-17T14:21:03.328Z"
   },
   {
    "duration": 26,
    "start_time": "2025-06-17T14:25:06.871Z"
   },
   {
    "duration": 26,
    "start_time": "2025-06-17T14:25:53.344Z"
   },
   {
    "duration": 73,
    "start_time": "2025-06-17T14:32:05.989Z"
   },
   {
    "duration": 72,
    "start_time": "2025-06-17T14:32:59.602Z"
   },
   {
    "duration": 209,
    "start_time": "2025-06-17T14:34:21.797Z"
   },
   {
    "duration": 89,
    "start_time": "2025-06-17T14:36:13.585Z"
   },
   {
    "duration": 27,
    "start_time": "2025-06-17T14:36:14.639Z"
   },
   {
    "duration": 72,
    "start_time": "2025-06-17T14:36:15.239Z"
   },
   {
    "duration": 214,
    "start_time": "2025-06-17T14:36:15.397Z"
   },
   {
    "duration": 13599,
    "start_time": "2025-06-17T14:36:47.925Z"
   },
   {
    "duration": 0,
    "start_time": "2025-06-17T14:37:01.526Z"
   },
   {
    "duration": 124,
    "start_time": "2025-06-17T14:37:23.229Z"
   },
   {
    "duration": 26,
    "start_time": "2025-06-17T14:37:25.455Z"
   },
   {
    "duration": 72,
    "start_time": "2025-06-17T14:37:26.063Z"
   },
   {
    "duration": 216,
    "start_time": "2025-06-17T14:37:26.357Z"
   },
   {
    "duration": 23,
    "start_time": "2025-06-17T14:46:32.369Z"
   },
   {
    "duration": 26,
    "start_time": "2025-06-17T14:46:33.745Z"
   },
   {
    "duration": 72,
    "start_time": "2025-06-17T14:46:33.893Z"
   },
   {
    "duration": 218,
    "start_time": "2025-06-17T14:46:34.388Z"
   },
   {
    "duration": 30,
    "start_time": "2025-06-17T14:48:08.051Z"
   },
   {
    "duration": 26,
    "start_time": "2025-06-17T14:48:16.080Z"
   },
   {
    "duration": 74,
    "start_time": "2025-06-17T14:48:16.391Z"
   },
   {
    "duration": 221,
    "start_time": "2025-06-17T14:48:16.575Z"
   },
   {
    "duration": 182,
    "start_time": "2025-06-17T14:48:58.610Z"
   },
   {
    "duration": 26,
    "start_time": "2025-06-17T14:48:59.189Z"
   },
   {
    "duration": 71,
    "start_time": "2025-06-17T14:48:59.441Z"
   },
   {
    "duration": 222,
    "start_time": "2025-06-17T14:48:59.637Z"
   },
   {
    "duration": 4,
    "start_time": "2025-06-17T14:49:18.166Z"
   },
   {
    "duration": 27,
    "start_time": "2025-06-17T14:49:19.578Z"
   },
   {
    "duration": 72,
    "start_time": "2025-06-17T14:49:19.750Z"
   },
   {
    "duration": 212,
    "start_time": "2025-06-17T14:49:19.898Z"
   },
   {
    "duration": 24,
    "start_time": "2025-06-17T15:08:05.433Z"
   },
   {
    "duration": 30,
    "start_time": "2025-06-17T15:08:07.759Z"
   },
   {
    "duration": 71,
    "start_time": "2025-06-17T15:08:08.584Z"
   },
   {
    "duration": 213,
    "start_time": "2025-06-17T15:08:09.170Z"
   },
   {
    "duration": 5,
    "start_time": "2025-06-17T15:09:33.014Z"
   },
   {
    "duration": 32,
    "start_time": "2025-06-17T15:09:33.580Z"
   },
   {
    "duration": 72,
    "start_time": "2025-06-17T15:09:33.767Z"
   },
   {
    "duration": 209,
    "start_time": "2025-06-17T15:09:33.916Z"
   },
   {
    "duration": 5,
    "start_time": "2025-06-17T15:09:58.134Z"
   },
   {
    "duration": 25,
    "start_time": "2025-06-17T15:09:58.948Z"
   },
   {
    "duration": 73,
    "start_time": "2025-06-17T15:09:59.439Z"
   },
   {
    "duration": 216,
    "start_time": "2025-06-17T15:10:00.018Z"
   },
   {
    "duration": 1214,
    "start_time": "2025-06-17T15:12:10.512Z"
   },
   {
    "duration": 1885,
    "start_time": "2025-06-17T15:12:11.728Z"
   },
   {
    "duration": 238,
    "start_time": "2025-06-17T15:12:13.615Z"
   },
   {
    "duration": 37,
    "start_time": "2025-06-17T15:12:13.855Z"
   },
   {
    "duration": 660,
    "start_time": "2025-06-17T15:12:13.894Z"
   },
   {
    "duration": 18,
    "start_time": "2025-06-17T15:12:14.556Z"
   },
   {
    "duration": 6,
    "start_time": "2025-06-17T15:12:14.576Z"
   },
   {
    "duration": 23,
    "start_time": "2025-06-17T15:12:14.584Z"
   },
   {
    "duration": 56,
    "start_time": "2025-06-17T15:12:14.609Z"
   },
   {
    "duration": 47,
    "start_time": "2025-06-17T15:12:14.667Z"
   },
   {
    "duration": 29,
    "start_time": "2025-06-17T15:12:14.715Z"
   },
   {
    "duration": 38,
    "start_time": "2025-06-17T15:12:14.745Z"
   },
   {
    "duration": 342,
    "start_time": "2025-06-17T15:12:14.784Z"
   },
   {
    "duration": 117,
    "start_time": "2025-06-17T15:12:15.139Z"
   },
   {
    "duration": 483,
    "start_time": "2025-06-17T15:12:15.257Z"
   },
   {
    "duration": 108,
    "start_time": "2025-06-17T15:12:15.742Z"
   },
   {
    "duration": 95,
    "start_time": "2025-06-17T15:12:15.852Z"
   },
   {
    "duration": 30,
    "start_time": "2025-06-17T15:12:15.949Z"
   },
   {
    "duration": 192,
    "start_time": "2025-06-17T15:12:15.981Z"
   },
   {
    "duration": 28,
    "start_time": "2025-06-17T15:12:16.174Z"
   },
   {
    "duration": 102,
    "start_time": "2025-06-17T15:12:16.203Z"
   },
   {
    "duration": 15,
    "start_time": "2025-06-17T15:12:16.307Z"
   },
   {
    "duration": 320,
    "start_time": "2025-06-17T15:12:16.324Z"
   },
   {
    "duration": 7,
    "start_time": "2025-06-17T15:12:16.646Z"
   },
   {
    "duration": 91,
    "start_time": "2025-06-17T15:12:16.654Z"
   },
   {
    "duration": 221,
    "start_time": "2025-06-17T15:12:16.747Z"
   },
   {
    "duration": 644,
    "start_time": "2025-06-17T15:12:16.970Z"
   },
   {
    "duration": 355,
    "start_time": "2025-06-17T15:12:17.616Z"
   },
   {
    "duration": 392,
    "start_time": "2025-06-17T15:12:17.972Z"
   },
   {
    "duration": 76,
    "start_time": "2025-06-17T15:12:18.366Z"
   },
   {
    "duration": 484,
    "start_time": "2025-06-17T15:12:18.444Z"
   },
   {
    "duration": 28,
    "start_time": "2025-06-17T15:12:18.930Z"
   },
   {
    "duration": 66,
    "start_time": "2025-06-17T15:12:18.959Z"
   },
   {
    "duration": 52,
    "start_time": "2025-06-17T15:12:19.027Z"
   },
   {
    "duration": 77,
    "start_time": "2025-06-17T15:12:19.081Z"
   },
   {
    "duration": 230,
    "start_time": "2025-06-17T15:12:19.160Z"
   },
   {
    "duration": 105,
    "start_time": "2025-06-17T15:29:15.418Z"
   },
   {
    "duration": 3,
    "start_time": "2025-06-17T15:29:29.939Z"
   },
   {
    "duration": 1581,
    "start_time": "2025-06-17T15:29:30.317Z"
   },
   {
    "duration": 282,
    "start_time": "2025-06-17T15:29:31.901Z"
   },
   {
    "duration": 43,
    "start_time": "2025-06-17T15:29:32.185Z"
   },
   {
    "duration": 643,
    "start_time": "2025-06-17T15:29:32.231Z"
   },
   {
    "duration": 17,
    "start_time": "2025-06-17T15:29:32.876Z"
   },
   {
    "duration": 20,
    "start_time": "2025-06-17T15:29:32.895Z"
   },
   {
    "duration": 41,
    "start_time": "2025-06-17T15:29:32.917Z"
   },
   {
    "duration": 70,
    "start_time": "2025-06-17T15:29:32.960Z"
   },
   {
    "duration": 183,
    "start_time": "2025-06-17T15:29:33.031Z"
   },
   {
    "duration": 48,
    "start_time": "2025-06-17T15:29:33.216Z"
   },
   {
    "duration": 29,
    "start_time": "2025-06-17T15:29:33.266Z"
   },
   {
    "duration": 349,
    "start_time": "2025-06-17T15:29:33.297Z"
   },
   {
    "duration": 102,
    "start_time": "2025-06-17T15:29:34.307Z"
   },
   {
    "duration": 454,
    "start_time": "2025-06-17T15:29:35.007Z"
   },
   {
    "duration": 93,
    "start_time": "2025-06-17T15:29:36.079Z"
   },
   {
    "duration": 87,
    "start_time": "2025-06-17T15:29:36.685Z"
   },
   {
    "duration": 34,
    "start_time": "2025-06-17T15:29:37.504Z"
   },
   {
    "duration": 131,
    "start_time": "2025-06-17T15:29:37.873Z"
   },
   {
    "duration": 29,
    "start_time": "2025-06-17T15:29:39.496Z"
   },
   {
    "duration": 86,
    "start_time": "2025-06-17T15:29:39.845Z"
   },
   {
    "duration": 15,
    "start_time": "2025-06-17T15:29:41.256Z"
   },
   {
    "duration": 307,
    "start_time": "2025-06-17T15:29:41.908Z"
   },
   {
    "duration": 7,
    "start_time": "2025-06-17T15:29:42.323Z"
   },
   {
    "duration": 72,
    "start_time": "2025-06-17T15:29:42.950Z"
   },
   {
    "duration": 210,
    "start_time": "2025-06-17T15:29:43.232Z"
   },
   {
    "duration": 612,
    "start_time": "2025-06-17T15:29:44.900Z"
   },
   {
    "duration": 300,
    "start_time": "2025-06-17T15:29:45.927Z"
   },
   {
    "duration": 337,
    "start_time": "2025-06-17T15:29:46.587Z"
   },
   {
    "duration": 63,
    "start_time": "2025-06-17T15:29:48.058Z"
   },
   {
    "duration": 389,
    "start_time": "2025-06-17T15:29:49.517Z"
   },
   {
    "duration": 14,
    "start_time": "2025-06-17T15:54:54.588Z"
   },
   {
    "duration": 3,
    "start_time": "2025-06-17T15:55:22.935Z"
   },
   {
    "duration": 1444,
    "start_time": "2025-06-17T15:55:23.825Z"
   },
   {
    "duration": 384,
    "start_time": "2025-06-17T15:55:25.271Z"
   },
   {
    "duration": 63,
    "start_time": "2025-06-17T15:55:25.657Z"
   },
   {
    "duration": 580,
    "start_time": "2025-06-17T15:55:25.722Z"
   },
   {
    "duration": 18,
    "start_time": "2025-06-17T15:55:26.304Z"
   },
   {
    "duration": 43,
    "start_time": "2025-06-17T15:55:26.323Z"
   },
   {
    "duration": 25,
    "start_time": "2025-06-17T15:55:26.368Z"
   },
   {
    "duration": 33,
    "start_time": "2025-06-17T15:55:26.395Z"
   },
   {
    "duration": 33,
    "start_time": "2025-06-17T15:55:26.555Z"
   },
   {
    "duration": 29,
    "start_time": "2025-06-17T15:55:26.739Z"
   },
   {
    "duration": 31,
    "start_time": "2025-06-17T15:55:26.944Z"
   },
   {
    "duration": 323,
    "start_time": "2025-06-17T15:55:27.295Z"
   },
   {
    "duration": 103,
    "start_time": "2025-06-17T15:55:27.711Z"
   },
   {
    "duration": 448,
    "start_time": "2025-06-17T15:55:27.975Z"
   },
   {
    "duration": 92,
    "start_time": "2025-06-17T15:55:28.459Z"
   },
   {
    "duration": 88,
    "start_time": "2025-06-17T15:55:28.692Z"
   },
   {
    "duration": 29,
    "start_time": "2025-06-17T15:55:28.923Z"
   },
   {
    "duration": 122,
    "start_time": "2025-06-17T15:55:29.153Z"
   },
   {
    "duration": 27,
    "start_time": "2025-06-17T15:55:29.865Z"
   },
   {
    "duration": 88,
    "start_time": "2025-06-17T15:55:30.307Z"
   },
   {
    "duration": 16,
    "start_time": "2025-06-17T15:55:30.873Z"
   },
   {
    "duration": 311,
    "start_time": "2025-06-17T15:55:31.089Z"
   },
   {
    "duration": 7,
    "start_time": "2025-06-17T15:55:31.461Z"
   },
   {
    "duration": 70,
    "start_time": "2025-06-17T15:55:31.713Z"
   },
   {
    "duration": 204,
    "start_time": "2025-06-17T15:55:32.151Z"
   },
   {
    "duration": 621,
    "start_time": "2025-06-17T15:55:33.051Z"
   },
   {
    "duration": 297,
    "start_time": "2025-06-17T15:55:33.673Z"
   },
   {
    "duration": 347,
    "start_time": "2025-06-17T15:55:33.972Z"
   },
   {
    "duration": 66,
    "start_time": "2025-06-17T15:55:34.421Z"
   },
   {
    "duration": 394,
    "start_time": "2025-06-17T15:55:34.802Z"
   },
   {
    "duration": 21,
    "start_time": "2025-06-17T15:55:35.198Z"
   },
   {
    "duration": 46,
    "start_time": "2025-06-17T15:55:35.221Z"
   },
   {
    "duration": 25,
    "start_time": "2025-06-17T15:55:35.339Z"
   },
   {
    "duration": 71,
    "start_time": "2025-06-17T15:55:35.547Z"
   },
   {
    "duration": 308,
    "start_time": "2025-06-17T15:55:35.711Z"
   },
   {
    "duration": 9,
    "start_time": "2025-06-17T15:55:37.048Z"
   },
   {
    "duration": 150,
    "start_time": "2025-06-17T16:00:06.177Z"
   },
   {
    "duration": 206,
    "start_time": "2025-06-17T16:02:00.903Z"
   },
   {
    "duration": 167,
    "start_time": "2025-06-17T16:02:13.802Z"
   },
   {
    "duration": 3,
    "start_time": "2025-06-17T16:18:15.151Z"
   },
   {
    "duration": 130,
    "start_time": "2025-06-17T16:20:03.688Z"
   },
   {
    "duration": 130,
    "start_time": "2025-06-17T16:20:22.128Z"
   },
   {
    "duration": 11,
    "start_time": "2025-06-17T16:20:37.276Z"
   },
   {
    "duration": 130,
    "start_time": "2025-06-17T16:20:46.129Z"
   },
   {
    "duration": 10,
    "start_time": "2025-06-17T16:21:43.460Z"
   },
   {
    "duration": 28,
    "start_time": "2025-06-17T16:21:50.976Z"
   },
   {
    "duration": 12,
    "start_time": "2025-06-17T16:22:28.097Z"
   },
   {
    "duration": 14,
    "start_time": "2025-06-17T16:22:41.453Z"
   },
   {
    "duration": 48,
    "start_time": "2025-06-17T16:24:27.411Z"
   },
   {
    "duration": 231,
    "start_time": "2025-06-17T16:25:53.795Z"
   },
   {
    "duration": 53,
    "start_time": "2025-06-17T16:26:11.939Z"
   },
   {
    "duration": 224,
    "start_time": "2025-06-17T16:26:33.010Z"
   },
   {
    "duration": 225,
    "start_time": "2025-06-17T16:26:46.982Z"
   },
   {
    "duration": 48,
    "start_time": "2025-06-17T16:32:19.901Z"
   },
   {
    "duration": 180,
    "start_time": "2025-06-17T16:32:24.161Z"
   },
   {
    "duration": 175,
    "start_time": "2025-06-17T16:32:29.003Z"
   },
   {
    "duration": 173,
    "start_time": "2025-06-17T16:32:38.276Z"
   },
   {
    "duration": 299,
    "start_time": "2025-06-17T16:32:49.098Z"
   },
   {
    "duration": 268,
    "start_time": "2025-06-17T16:33:08.291Z"
   },
   {
    "duration": 206,
    "start_time": "2025-06-17T16:35:08.600Z"
   },
   {
    "duration": 189,
    "start_time": "2025-06-17T16:35:16.100Z"
   },
   {
    "duration": 176,
    "start_time": "2025-06-17T16:35:47.058Z"
   },
   {
    "duration": 194,
    "start_time": "2025-06-17T16:36:08.687Z"
   },
   {
    "duration": 174,
    "start_time": "2025-06-17T16:36:20.570Z"
   },
   {
    "duration": 50,
    "start_time": "2025-06-17T16:40:34.086Z"
   },
   {
    "duration": 46,
    "start_time": "2025-06-17T16:42:55.848Z"
   },
   {
    "duration": 46,
    "start_time": "2025-06-17T16:43:24.173Z"
   },
   {
    "duration": 158,
    "start_time": "2025-06-17T16:43:58.871Z"
   },
   {
    "duration": 144,
    "start_time": "2025-06-17T16:44:10.222Z"
   },
   {
    "duration": 48,
    "start_time": "2025-06-17T16:44:50.824Z"
   },
   {
    "duration": 199,
    "start_time": "2025-06-17T16:45:37.643Z"
   },
   {
    "duration": 45,
    "start_time": "2025-06-17T16:46:47.945Z"
   },
   {
    "duration": 150,
    "start_time": "2025-06-17T16:47:27.803Z"
   },
   {
    "duration": 35,
    "start_time": "2025-06-17T16:50:56.829Z"
   },
   {
    "duration": 199,
    "start_time": "2025-06-17T16:51:37.099Z"
   },
   {
    "duration": 47,
    "start_time": "2025-06-17T18:18:29.635Z"
   },
   {
    "duration": 50,
    "start_time": "2025-06-17T18:18:55.780Z"
   },
   {
    "duration": 2,
    "start_time": "2025-06-17T18:19:33.784Z"
   },
   {
    "duration": 298,
    "start_time": "2025-06-17T18:20:55.318Z"
   },
   {
    "duration": 3,
    "start_time": "2025-06-17T18:24:32.549Z"
   },
   {
    "duration": 11,
    "start_time": "2025-06-17T18:26:59.667Z"
   },
   {
    "duration": 10,
    "start_time": "2025-06-17T18:27:03.114Z"
   },
   {
    "duration": 247,
    "start_time": "2025-06-17T18:27:08.249Z"
   },
   {
    "duration": 50,
    "start_time": "2025-06-17T18:27:15.654Z"
   },
   {
    "duration": 10,
    "start_time": "2025-06-17T18:27:16.165Z"
   },
   {
    "duration": 220,
    "start_time": "2025-06-17T18:27:41.547Z"
   },
   {
    "duration": 179,
    "start_time": "2025-06-17T18:28:03.347Z"
   },
   {
    "duration": 196,
    "start_time": "2025-06-17T18:28:14.886Z"
   },
   {
    "duration": 250,
    "start_time": "2025-06-17T18:28:34.519Z"
   },
   {
    "duration": 5,
    "start_time": "2025-06-17T18:31:11.275Z"
   },
   {
    "duration": 14,
    "start_time": "2025-06-17T18:31:27.946Z"
   },
   {
    "duration": 12,
    "start_time": "2025-06-17T18:33:02.824Z"
   },
   {
    "duration": 15,
    "start_time": "2025-06-17T18:33:10.865Z"
   },
   {
    "duration": 182,
    "start_time": "2025-06-17T18:33:14.278Z"
   },
   {
    "duration": 172,
    "start_time": "2025-06-17T18:33:25.835Z"
   },
   {
    "duration": 188,
    "start_time": "2025-06-17T18:34:11.595Z"
   },
   {
    "duration": 162,
    "start_time": "2025-06-17T18:34:25.054Z"
   },
   {
    "duration": 1372,
    "start_time": "2025-06-18T07:32:20.407Z"
   },
   {
    "duration": 1698,
    "start_time": "2025-06-18T07:32:21.781Z"
   },
   {
    "duration": 435,
    "start_time": "2025-06-18T07:32:23.481Z"
   },
   {
    "duration": 39,
    "start_time": "2025-06-18T07:32:23.918Z"
   },
   {
    "duration": 652,
    "start_time": "2025-06-18T07:32:23.959Z"
   },
   {
    "duration": 27,
    "start_time": "2025-06-18T07:32:24.613Z"
   },
   {
    "duration": 58,
    "start_time": "2025-06-18T07:32:24.642Z"
   },
   {
    "duration": 29,
    "start_time": "2025-06-18T07:32:24.701Z"
   },
   {
    "duration": 19,
    "start_time": "2025-06-18T07:32:24.733Z"
   },
   {
    "duration": 29,
    "start_time": "2025-06-18T07:32:24.755Z"
   },
   {
    "duration": 29,
    "start_time": "2025-06-18T07:32:24.785Z"
   },
   {
    "duration": 30,
    "start_time": "2025-06-18T07:32:24.840Z"
   },
   {
    "duration": 370,
    "start_time": "2025-06-18T07:32:24.872Z"
   },
   {
    "duration": 121,
    "start_time": "2025-06-18T07:32:25.244Z"
   },
   {
    "duration": 493,
    "start_time": "2025-06-18T07:32:25.367Z"
   },
   {
    "duration": 107,
    "start_time": "2025-06-18T07:32:25.862Z"
   },
   {
    "duration": 105,
    "start_time": "2025-06-18T07:32:25.971Z"
   },
   {
    "duration": 33,
    "start_time": "2025-06-18T07:32:26.078Z"
   },
   {
    "duration": 146,
    "start_time": "2025-06-18T07:32:26.112Z"
   },
   {
    "duration": 29,
    "start_time": "2025-06-18T07:32:26.260Z"
   },
   {
    "duration": 173,
    "start_time": "2025-06-18T07:32:26.291Z"
   },
   {
    "duration": 16,
    "start_time": "2025-06-18T07:32:26.692Z"
   },
   {
    "duration": 323,
    "start_time": "2025-06-18T07:32:26.901Z"
   },
   {
    "duration": 8,
    "start_time": "2025-06-18T07:32:27.337Z"
   },
   {
    "duration": 81,
    "start_time": "2025-06-18T07:32:27.583Z"
   },
   {
    "duration": 222,
    "start_time": "2025-06-18T07:32:27.746Z"
   },
   {
    "duration": 627,
    "start_time": "2025-06-18T07:32:28.132Z"
   },
   {
    "duration": 342,
    "start_time": "2025-06-18T07:32:28.761Z"
   },
   {
    "duration": 406,
    "start_time": "2025-06-18T07:32:29.105Z"
   },
   {
    "duration": 74,
    "start_time": "2025-06-18T07:32:29.513Z"
   },
   {
    "duration": 409,
    "start_time": "2025-06-18T07:32:29.705Z"
   },
   {
    "duration": 27,
    "start_time": "2025-06-18T07:32:30.116Z"
   },
   {
    "duration": 5,
    "start_time": "2025-06-18T07:32:30.278Z"
   },
   {
    "duration": 26,
    "start_time": "2025-06-18T07:32:30.528Z"
   },
   {
    "duration": 72,
    "start_time": "2025-06-18T07:32:30.756Z"
   },
   {
    "duration": 217,
    "start_time": "2025-06-18T07:32:31.002Z"
   },
   {
    "duration": 8,
    "start_time": "2025-06-18T07:32:33.012Z"
   },
   {
    "duration": 181,
    "start_time": "2025-06-18T07:32:33.234Z"
   },
   {
    "duration": 51,
    "start_time": "2025-06-18T07:32:33.909Z"
   },
   {
    "duration": 195,
    "start_time": "2025-06-18T07:32:34.174Z"
   },
   {
    "duration": 48,
    "start_time": "2025-06-18T07:32:34.905Z"
   },
   {
    "duration": 161,
    "start_time": "2025-06-18T07:32:35.580Z"
   },
   {
    "duration": 34,
    "start_time": "2025-06-18T07:32:36.249Z"
   },
   {
    "duration": 191,
    "start_time": "2025-06-18T07:32:36.518Z"
   },
   {
    "duration": 54,
    "start_time": "2025-06-18T07:32:37.610Z"
   },
   {
    "duration": 222,
    "start_time": "2025-06-18T07:32:38.138Z"
   },
   {
    "duration": 10,
    "start_time": "2025-06-18T07:32:38.480Z"
   },
   {
    "duration": 164,
    "start_time": "2025-06-18T07:32:39.370Z"
   },
   {
    "duration": 213,
    "start_time": "2025-06-18T07:58:43.619Z"
   },
   {
    "duration": 44,
    "start_time": "2025-06-18T08:10:22.804Z"
   },
   {
    "duration": 53,
    "start_time": "2025-06-18T08:10:31.698Z"
   },
   {
    "duration": 1458,
    "start_time": "2025-06-18T08:11:33.714Z"
   },
   {
    "duration": 1174,
    "start_time": "2025-06-18T08:12:40.233Z"
   },
   {
    "duration": 3,
    "start_time": "2025-06-18T08:41:03.040Z"
   },
   {
    "duration": 2020,
    "start_time": "2025-06-18T08:41:03.530Z"
   },
   {
    "duration": 321,
    "start_time": "2025-06-18T08:41:05.552Z"
   },
   {
    "duration": 128,
    "start_time": "2025-06-18T08:41:05.875Z"
   },
   {
    "duration": 603,
    "start_time": "2025-06-18T08:41:06.005Z"
   },
   {
    "duration": 17,
    "start_time": "2025-06-18T08:41:06.610Z"
   },
   {
    "duration": 5,
    "start_time": "2025-06-18T08:41:06.640Z"
   },
   {
    "duration": 63,
    "start_time": "2025-06-18T08:41:06.647Z"
   },
   {
    "duration": 33,
    "start_time": "2025-06-18T08:41:06.712Z"
   },
   {
    "duration": 33,
    "start_time": "2025-06-18T08:41:06.748Z"
   },
   {
    "duration": 62,
    "start_time": "2025-06-18T08:41:06.783Z"
   },
   {
    "duration": 30,
    "start_time": "2025-06-18T08:41:06.847Z"
   },
   {
    "duration": 347,
    "start_time": "2025-06-18T08:41:06.878Z"
   },
   {
    "duration": 122,
    "start_time": "2025-06-18T08:41:07.227Z"
   },
   {
    "duration": 503,
    "start_time": "2025-06-18T08:41:07.351Z"
   },
   {
    "duration": 106,
    "start_time": "2025-06-18T08:41:07.857Z"
   },
   {
    "duration": 103,
    "start_time": "2025-06-18T08:41:07.965Z"
   },
   {
    "duration": 32,
    "start_time": "2025-06-18T08:41:08.110Z"
   },
   {
    "duration": 231,
    "start_time": "2025-06-18T08:41:08.314Z"
   },
   {
    "duration": 29,
    "start_time": "2025-06-18T08:41:08.672Z"
   },
   {
    "duration": 95,
    "start_time": "2025-06-18T08:41:08.868Z"
   },
   {
    "duration": 15,
    "start_time": "2025-06-18T08:41:09.260Z"
   },
   {
    "duration": 325,
    "start_time": "2025-06-18T08:41:09.472Z"
   },
   {
    "duration": 7,
    "start_time": "2025-06-18T08:41:09.882Z"
   },
   {
    "duration": 74,
    "start_time": "2025-06-18T08:41:10.124Z"
   },
   {
    "duration": 219,
    "start_time": "2025-06-18T08:41:10.296Z"
   },
   {
    "duration": 612,
    "start_time": "2025-06-18T08:41:10.694Z"
   },
   {
    "duration": 312,
    "start_time": "2025-06-18T08:41:11.307Z"
   },
   {
    "duration": 354,
    "start_time": "2025-06-18T08:41:11.621Z"
   },
   {
    "duration": 65,
    "start_time": "2025-06-18T08:41:11.994Z"
   },
   {
    "duration": 364,
    "start_time": "2025-06-18T08:41:12.412Z"
   },
   {
    "duration": 23,
    "start_time": "2025-06-18T08:41:12.778Z"
   },
   {
    "duration": 103,
    "start_time": "2025-06-18T08:41:12.809Z"
   },
   {
    "duration": 25,
    "start_time": "2025-06-18T08:41:13.038Z"
   },
   {
    "duration": 76,
    "start_time": "2025-06-18T08:41:13.228Z"
   },
   {
    "duration": 227,
    "start_time": "2025-06-18T08:41:13.442Z"
   },
   {
    "duration": 8,
    "start_time": "2025-06-18T08:41:14.550Z"
   },
   {
    "duration": 176,
    "start_time": "2025-06-18T08:41:14.775Z"
   },
   {
    "duration": 50,
    "start_time": "2025-06-18T08:41:15.164Z"
   },
   {
    "duration": 205,
    "start_time": "2025-06-18T08:41:15.376Z"
   },
   {
    "duration": 46,
    "start_time": "2025-06-18T08:41:15.766Z"
   },
   {
    "duration": 157,
    "start_time": "2025-06-18T08:41:15.950Z"
   },
   {
    "duration": 36,
    "start_time": "2025-06-18T08:41:16.364Z"
   },
   {
    "duration": 210,
    "start_time": "2025-06-18T08:41:16.576Z"
   },
   {
    "duration": 49,
    "start_time": "2025-06-18T08:41:17.223Z"
   },
   {
    "duration": 247,
    "start_time": "2025-06-18T08:41:17.457Z"
   },
   {
    "duration": 13,
    "start_time": "2025-06-18T08:41:17.706Z"
   },
   {
    "duration": 161,
    "start_time": "2025-06-18T08:41:17.946Z"
   },
   {
    "duration": 207,
    "start_time": "2025-06-18T08:41:18.594Z"
   },
   {
    "duration": 50,
    "start_time": "2025-06-18T08:41:19.003Z"
   },
   {
    "duration": 1239,
    "start_time": "2025-06-18T08:41:19.245Z"
   },
   {
    "duration": 48,
    "start_time": "2025-06-18T08:41:50.016Z"
   },
   {
    "duration": 43,
    "start_time": "2025-06-18T08:46:36.485Z"
   },
   {
    "duration": 3,
    "start_time": "2025-06-18T08:47:08.813Z"
   },
   {
    "duration": 6,
    "start_time": "2025-06-18T08:49:00.715Z"
   },
   {
    "duration": 438,
    "start_time": "2025-06-18T08:49:10.769Z"
   },
   {
    "duration": 320,
    "start_time": "2025-06-18T08:49:41.364Z"
   },
   {
    "duration": 45,
    "start_time": "2025-06-18T08:51:24.214Z"
   },
   {
    "duration": 6,
    "start_time": "2025-06-18T08:51:27.165Z"
   },
   {
    "duration": 310,
    "start_time": "2025-06-18T08:51:45.532Z"
   },
   {
    "duration": 47,
    "start_time": "2025-06-18T08:51:49.723Z"
   },
   {
    "duration": 18,
    "start_time": "2025-06-18T08:51:50.572Z"
   },
   {
    "duration": 1148,
    "start_time": "2025-06-18T08:52:14.018Z"
   },
   {
    "duration": 4,
    "start_time": "2025-06-18T09:57:51.608Z"
   },
   {
    "duration": 1776,
    "start_time": "2025-06-18T09:57:52.131Z"
   },
   {
    "duration": 435,
    "start_time": "2025-06-18T09:57:53.909Z"
   },
   {
    "duration": 41,
    "start_time": "2025-06-18T09:57:54.346Z"
   },
   {
    "duration": 596,
    "start_time": "2025-06-18T09:57:54.389Z"
   },
   {
    "duration": 18,
    "start_time": "2025-06-18T09:57:54.987Z"
   },
   {
    "duration": 7,
    "start_time": "2025-06-18T09:57:55.006Z"
   },
   {
    "duration": 40,
    "start_time": "2025-06-18T09:57:55.015Z"
   },
   {
    "duration": 21,
    "start_time": "2025-06-18T09:57:55.057Z"
   },
   {
    "duration": 29,
    "start_time": "2025-06-18T09:57:55.094Z"
   },
   {
    "duration": 28,
    "start_time": "2025-06-18T09:57:55.317Z"
   },
   {
    "duration": 28,
    "start_time": "2025-06-18T09:57:55.457Z"
   },
   {
    "duration": 310,
    "start_time": "2025-06-18T09:57:55.611Z"
   },
   {
    "duration": 100,
    "start_time": "2025-06-18T09:57:55.973Z"
   },
   {
    "duration": 419,
    "start_time": "2025-06-18T09:57:56.128Z"
   },
   {
    "duration": 99,
    "start_time": "2025-06-18T09:57:56.549Z"
   },
   {
    "duration": 85,
    "start_time": "2025-06-18T09:57:56.664Z"
   },
   {
    "duration": 37,
    "start_time": "2025-06-18T09:57:56.858Z"
   },
   {
    "duration": 130,
    "start_time": "2025-06-18T09:57:57.075Z"
   },
   {
    "duration": 28,
    "start_time": "2025-06-18T09:57:57.441Z"
   },
   {
    "duration": 89,
    "start_time": "2025-06-18T09:57:57.644Z"
   },
   {
    "duration": 16,
    "start_time": "2025-06-18T09:57:58.063Z"
   },
   {
    "duration": 318,
    "start_time": "2025-06-18T09:57:58.229Z"
   },
   {
    "duration": 8,
    "start_time": "2025-06-18T09:57:58.929Z"
   },
   {
    "duration": 73,
    "start_time": "2025-06-18T09:57:59.333Z"
   },
   {
    "duration": 209,
    "start_time": "2025-06-18T09:57:59.737Z"
   },
   {
    "duration": 583,
    "start_time": "2025-06-18T09:58:00.779Z"
   },
   {
    "duration": 309,
    "start_time": "2025-06-18T09:58:01.364Z"
   },
   {
    "duration": 365,
    "start_time": "2025-06-18T09:58:01.675Z"
   },
   {
    "duration": 66,
    "start_time": "2025-06-18T09:58:02.042Z"
   },
   {
    "duration": 418,
    "start_time": "2025-06-18T09:58:02.319Z"
   },
   {
    "duration": 23,
    "start_time": "2025-06-18T09:58:02.740Z"
   },
   {
    "duration": 5,
    "start_time": "2025-06-18T09:58:03.032Z"
   },
   {
    "duration": 28,
    "start_time": "2025-06-18T09:58:03.688Z"
   },
   {
    "duration": 70,
    "start_time": "2025-06-18T09:58:03.921Z"
   },
   {
    "duration": 214,
    "start_time": "2025-06-18T09:58:04.109Z"
   },
   {
    "duration": 9,
    "start_time": "2025-06-18T09:58:05.303Z"
   },
   {
    "duration": 181,
    "start_time": "2025-06-18T09:58:05.545Z"
   },
   {
    "duration": 50,
    "start_time": "2025-06-18T09:58:05.881Z"
   },
   {
    "duration": 307,
    "start_time": "2025-06-18T09:58:06.085Z"
   },
   {
    "duration": 48,
    "start_time": "2025-06-18T09:58:06.415Z"
   },
   {
    "duration": 162,
    "start_time": "2025-06-18T09:58:06.597Z"
   },
   {
    "duration": 32,
    "start_time": "2025-06-18T09:58:07.292Z"
   },
   {
    "duration": 212,
    "start_time": "2025-06-18T09:58:07.576Z"
   },
   {
    "duration": 50,
    "start_time": "2025-06-18T09:58:08.339Z"
   },
   {
    "duration": 217,
    "start_time": "2025-06-18T09:58:08.571Z"
   },
   {
    "duration": 10,
    "start_time": "2025-06-18T09:58:08.858Z"
   },
   {
    "duration": 159,
    "start_time": "2025-06-18T09:58:09.426Z"
   },
   {
    "duration": 207,
    "start_time": "2025-06-18T09:58:11.005Z"
   },
   {
    "duration": 45,
    "start_time": "2025-06-18T09:58:11.822Z"
   },
   {
    "duration": 16,
    "start_time": "2025-06-18T09:58:12.242Z"
   },
   {
    "duration": 1140,
    "start_time": "2025-06-18T09:58:12.530Z"
   },
   {
    "duration": 12,
    "start_time": "2025-06-18T10:26:27.379Z"
   },
   {
    "duration": 15,
    "start_time": "2025-06-18T10:27:40.731Z"
   },
   {
    "duration": 18,
    "start_time": "2025-06-18T10:28:00.967Z"
   },
   {
    "duration": 33,
    "start_time": "2025-06-18T10:29:25.572Z"
   },
   {
    "duration": 20,
    "start_time": "2025-06-18T10:31:03.121Z"
   },
   {
    "duration": 13,
    "start_time": "2025-06-18T10:31:18.956Z"
   },
   {
    "duration": 52,
    "start_time": "2025-06-18T10:32:58.145Z"
   },
   {
    "duration": 113,
    "start_time": "2025-06-18T10:35:24.673Z"
   },
   {
    "duration": 46,
    "start_time": "2025-06-18T10:35:26.831Z"
   },
   {
    "duration": 17,
    "start_time": "2025-06-18T10:35:27.171Z"
   },
   {
    "duration": 1361,
    "start_time": "2025-06-18T10:35:27.799Z"
   },
   {
    "duration": 54,
    "start_time": "2025-06-18T10:35:29.162Z"
   },
   {
    "duration": 3,
    "start_time": "2025-06-18T10:37:18.876Z"
   },
   {
    "duration": 123,
    "start_time": "2025-06-18T10:37:50.750Z"
   },
   {
    "duration": 56,
    "start_time": "2025-06-18T10:38:51.220Z"
   },
   {
    "duration": 1527,
    "start_time": "2025-06-18T10:41:29.268Z"
   },
   {
    "duration": 10,
    "start_time": "2025-06-18T10:41:47.720Z"
   },
   {
    "duration": 631,
    "start_time": "2025-06-18T10:42:37.174Z"
   },
   {
    "duration": 58,
    "start_time": "2025-06-18T10:43:08.794Z"
   },
   {
    "duration": 60,
    "start_time": "2025-06-18T10:43:17.832Z"
   },
   {
    "duration": 24,
    "start_time": "2025-06-18T10:43:38.357Z"
   },
   {
    "duration": 37,
    "start_time": "2025-06-18T10:43:54.110Z"
   },
   {
    "duration": 45,
    "start_time": "2025-06-18T10:44:04.787Z"
   },
   {
    "duration": 15,
    "start_time": "2025-06-18T10:44:23.469Z"
   },
   {
    "duration": 42,
    "start_time": "2025-06-18T10:44:23.695Z"
   },
   {
    "duration": 19,
    "start_time": "2025-06-18T10:45:33.617Z"
   },
   {
    "duration": 42,
    "start_time": "2025-06-18T10:45:35.648Z"
   },
   {
    "duration": 25,
    "start_time": "2025-06-18T10:46:13.573Z"
   },
   {
    "duration": 42,
    "start_time": "2025-06-18T10:46:14.646Z"
   },
   {
    "duration": 11,
    "start_time": "2025-06-18T10:46:17.021Z"
   },
   {
    "duration": 697,
    "start_time": "2025-06-18T10:46:17.499Z"
   },
   {
    "duration": 13,
    "start_time": "2025-06-18T11:19:28.417Z"
   },
   {
    "duration": 87,
    "start_time": "2025-06-18T11:19:38.843Z"
   },
   {
    "duration": 73,
    "start_time": "2025-06-18T11:20:12.946Z"
   },
   {
    "duration": 75,
    "start_time": "2025-06-18T11:20:23.294Z"
   },
   {
    "duration": 77,
    "start_time": "2025-06-18T11:21:04.373Z"
   },
   {
    "duration": 73,
    "start_time": "2025-06-18T11:22:48.303Z"
   },
   {
    "duration": 79,
    "start_time": "2025-06-18T11:23:01.721Z"
   },
   {
    "duration": 70,
    "start_time": "2025-06-18T11:23:59.699Z"
   },
   {
    "duration": 95,
    "start_time": "2025-06-18T11:24:09.824Z"
   },
   {
    "duration": 78,
    "start_time": "2025-06-18T11:24:21.923Z"
   },
   {
    "duration": 76,
    "start_time": "2025-06-18T11:24:35.507Z"
   },
   {
    "duration": 1370,
    "start_time": "2025-06-18T14:01:57.673Z"
   },
   {
    "duration": 1718,
    "start_time": "2025-06-18T14:01:59.045Z"
   },
   {
    "duration": 328,
    "start_time": "2025-06-18T14:02:00.765Z"
   },
   {
    "duration": 65,
    "start_time": "2025-06-18T14:02:01.096Z"
   },
   {
    "duration": 677,
    "start_time": "2025-06-18T14:02:01.163Z"
   },
   {
    "duration": 18,
    "start_time": "2025-06-18T14:02:01.842Z"
   },
   {
    "duration": 41,
    "start_time": "2025-06-18T14:02:01.862Z"
   },
   {
    "duration": 98,
    "start_time": "2025-06-18T14:02:01.905Z"
   },
   {
    "duration": 52,
    "start_time": "2025-06-18T14:02:02.006Z"
   },
   {
    "duration": 119,
    "start_time": "2025-06-18T14:02:02.061Z"
   },
   {
    "duration": 149,
    "start_time": "2025-06-18T14:02:02.182Z"
   },
   {
    "duration": 175,
    "start_time": "2025-06-18T14:02:02.333Z"
   },
   {
    "duration": 405,
    "start_time": "2025-06-18T14:02:02.510Z"
   },
   {
    "duration": 121,
    "start_time": "2025-06-18T14:02:02.917Z"
   },
   {
    "duration": 491,
    "start_time": "2025-06-18T14:02:03.040Z"
   },
   {
    "duration": 106,
    "start_time": "2025-06-18T14:02:03.537Z"
   },
   {
    "duration": 103,
    "start_time": "2025-06-18T14:02:03.644Z"
   },
   {
    "duration": 31,
    "start_time": "2025-06-18T14:02:03.748Z"
   },
   {
    "duration": 141,
    "start_time": "2025-06-18T14:02:03.782Z"
   },
   {
    "duration": 34,
    "start_time": "2025-06-18T14:02:03.924Z"
   },
   {
    "duration": 120,
    "start_time": "2025-06-18T14:02:03.959Z"
   },
   {
    "duration": 15,
    "start_time": "2025-06-18T14:02:04.081Z"
   },
   {
    "duration": 358,
    "start_time": "2025-06-18T14:02:04.098Z"
   },
   {
    "duration": 8,
    "start_time": "2025-06-18T14:02:04.458Z"
   },
   {
    "duration": 123,
    "start_time": "2025-06-18T14:02:04.467Z"
   },
   {
    "duration": 250,
    "start_time": "2025-06-18T14:02:04.592Z"
   },
   {
    "duration": 630,
    "start_time": "2025-06-18T14:02:04.843Z"
   },
   {
    "duration": 340,
    "start_time": "2025-06-18T14:02:05.475Z"
   },
   {
    "duration": 383,
    "start_time": "2025-06-18T14:02:05.817Z"
   },
   {
    "duration": 71,
    "start_time": "2025-06-18T14:02:06.202Z"
   },
   {
    "duration": 463,
    "start_time": "2025-06-18T14:02:06.275Z"
   },
   {
    "duration": 23,
    "start_time": "2025-06-18T14:02:06.740Z"
   },
   {
    "duration": 18,
    "start_time": "2025-06-18T14:02:06.765Z"
   },
   {
    "duration": 38,
    "start_time": "2025-06-18T14:02:06.785Z"
   },
   {
    "duration": 85,
    "start_time": "2025-06-18T14:02:06.824Z"
   },
   {
    "duration": 232,
    "start_time": "2025-06-18T14:02:06.910Z"
   },
   {
    "duration": 9,
    "start_time": "2025-06-18T14:02:07.143Z"
   },
   {
    "duration": 231,
    "start_time": "2025-06-18T14:02:07.154Z"
   },
   {
    "duration": 55,
    "start_time": "2025-06-18T14:02:10.807Z"
   },
   {
    "duration": 202,
    "start_time": "2025-06-18T14:02:11.318Z"
   },
   {
    "duration": 55,
    "start_time": "2025-06-18T14:02:11.522Z"
   },
   {
    "duration": 194,
    "start_time": "2025-06-18T14:02:11.579Z"
   },
   {
    "duration": 35,
    "start_time": "2025-06-18T14:02:11.775Z"
   },
   {
    "duration": 228,
    "start_time": "2025-06-18T14:02:11.812Z"
   },
   {
    "duration": 52,
    "start_time": "2025-06-18T14:02:12.042Z"
   },
   {
    "duration": 236,
    "start_time": "2025-06-18T14:02:12.096Z"
   },
   {
    "duration": 14,
    "start_time": "2025-06-18T14:02:12.338Z"
   },
   {
    "duration": 282,
    "start_time": "2025-06-18T14:02:12.354Z"
   },
   {
    "duration": 261,
    "start_time": "2025-06-18T14:02:12.639Z"
   },
   {
    "duration": 52,
    "start_time": "2025-06-18T14:02:12.902Z"
   },
   {
    "duration": 16,
    "start_time": "2025-06-18T14:02:12.956Z"
   },
   {
    "duration": 1360,
    "start_time": "2025-06-18T14:02:12.974Z"
   },
   {
    "duration": 19,
    "start_time": "2025-06-18T14:02:14.336Z"
   },
   {
    "duration": 164,
    "start_time": "2025-06-18T14:02:14.357Z"
   },
   {
    "duration": 10,
    "start_time": "2025-06-18T14:02:14.523Z"
   },
   {
    "duration": 762,
    "start_time": "2025-06-18T14:02:14.535Z"
   },
   {
    "duration": 88,
    "start_time": "2025-06-18T14:02:15.299Z"
   },
   {
    "duration": 84,
    "start_time": "2025-06-18T14:04:45.109Z"
   },
   {
    "duration": 78,
    "start_time": "2025-06-18T14:04:50.475Z"
   },
   {
    "duration": 102,
    "start_time": "2025-06-18T14:06:27.310Z"
   },
   {
    "duration": 3,
    "start_time": "2025-06-18T14:06:46.082Z"
   },
   {
    "duration": 63,
    "start_time": "2025-06-18T14:09:37.856Z"
   },
   {
    "duration": 4,
    "start_time": "2025-06-18T14:13:06.439Z"
   },
   {
    "duration": 363,
    "start_time": "2025-06-18T14:14:07.197Z"
   },
   {
    "duration": 50,
    "start_time": "2025-06-18T14:14:26.507Z"
   },
   {
    "duration": 12,
    "start_time": "2025-06-18T14:14:26.867Z"
   },
   {
    "duration": 52,
    "start_time": "2025-06-18T14:14:47.051Z"
   },
   {
    "duration": 11,
    "start_time": "2025-06-18T14:14:47.362Z"
   },
   {
    "duration": 67,
    "start_time": "2025-06-18T14:23:25.171Z"
   },
   {
    "duration": 55,
    "start_time": "2025-06-18T14:23:37.280Z"
   },
   {
    "duration": 15,
    "start_time": "2025-06-18T14:26:10.000Z"
   },
   {
    "duration": 50,
    "start_time": "2025-06-18T14:26:28.781Z"
   },
   {
    "duration": 13,
    "start_time": "2025-06-18T14:26:29.319Z"
   },
   {
    "duration": 56,
    "start_time": "2025-06-18T14:26:38.299Z"
   },
   {
    "duration": 18,
    "start_time": "2025-06-18T14:26:49.711Z"
   },
   {
    "duration": 55,
    "start_time": "2025-06-18T14:29:38.054Z"
   },
   {
    "duration": 13,
    "start_time": "2025-06-18T14:29:38.594Z"
   },
   {
    "duration": 53,
    "start_time": "2025-06-18T14:29:39.642Z"
   },
   {
    "duration": 16,
    "start_time": "2025-06-18T14:29:40.044Z"
   },
   {
    "duration": 71,
    "start_time": "2025-06-18T14:29:57.112Z"
   },
   {
    "duration": 43,
    "start_time": "2025-06-18T14:30:10.772Z"
   },
   {
    "duration": 13,
    "start_time": "2025-06-18T14:30:15.087Z"
   },
   {
    "duration": 48,
    "start_time": "2025-06-18T14:30:25.487Z"
   },
   {
    "duration": 16,
    "start_time": "2025-06-18T14:30:26.984Z"
   },
   {
    "duration": 44,
    "start_time": "2025-06-18T14:30:54.057Z"
   },
   {
    "duration": 16,
    "start_time": "2025-06-18T14:30:54.387Z"
   },
   {
    "duration": 329,
    "start_time": "2025-06-18T14:48:26.415Z"
   },
   {
    "duration": 48,
    "start_time": "2025-06-18T14:48:31.387Z"
   },
   {
    "duration": 17,
    "start_time": "2025-06-18T14:48:31.713Z"
   },
   {
    "duration": 61,
    "start_time": "2025-06-18T15:42:08.858Z"
   },
   {
    "duration": 97,
    "start_time": "2025-06-18T15:46:01.836Z"
   },
   {
    "duration": 16,
    "start_time": "2025-06-18T15:51:01.291Z"
   },
   {
    "duration": 92,
    "start_time": "2025-06-18T15:56:55.467Z"
   },
   {
    "duration": 18,
    "start_time": "2025-06-18T15:56:56.798Z"
   },
   {
    "duration": 81,
    "start_time": "2025-06-18T16:01:14.215Z"
   },
   {
    "duration": 82,
    "start_time": "2025-06-18T16:01:25.512Z"
   },
   {
    "duration": 87,
    "start_time": "2025-06-18T16:01:59.797Z"
   },
   {
    "duration": 84,
    "start_time": "2025-06-18T16:02:16.852Z"
   },
   {
    "duration": 87,
    "start_time": "2025-06-18T16:02:23.594Z"
   },
   {
    "duration": 95,
    "start_time": "2025-06-18T16:05:47.264Z"
   },
   {
    "duration": 7,
    "start_time": "2025-06-18T16:06:10.876Z"
   },
   {
    "duration": 6,
    "start_time": "2025-06-18T16:06:38.805Z"
   },
   {
    "duration": 6,
    "start_time": "2025-06-18T16:06:51.030Z"
   },
   {
    "duration": 5,
    "start_time": "2025-06-18T16:06:57.838Z"
   },
   {
    "duration": 13,
    "start_time": "2025-06-18T16:21:08.065Z"
   },
   {
    "duration": 32,
    "start_time": "2025-06-18T16:21:30.021Z"
   },
   {
    "duration": 37,
    "start_time": "2025-06-18T16:21:49.116Z"
   },
   {
    "duration": 34,
    "start_time": "2025-06-18T16:22:01.045Z"
   },
   {
    "duration": 34,
    "start_time": "2025-06-18T16:22:26.162Z"
   },
   {
    "duration": 33,
    "start_time": "2025-06-18T16:23:04.819Z"
   },
   {
    "duration": 28,
    "start_time": "2025-06-18T16:24:32.988Z"
   },
   {
    "duration": 26,
    "start_time": "2025-06-18T16:25:02.882Z"
   },
   {
    "duration": 23,
    "start_time": "2025-06-18T16:25:21.452Z"
   },
   {
    "duration": 13,
    "start_time": "2025-06-18T16:26:03.470Z"
   },
   {
    "duration": 3,
    "start_time": "2025-06-18T17:26:01.319Z"
   },
   {
    "duration": 4705,
    "start_time": "2025-06-18T17:26:02.860Z"
   },
   {
    "duration": 331,
    "start_time": "2025-06-18T17:26:07.567Z"
   },
   {
    "duration": 69,
    "start_time": "2025-06-18T17:26:07.900Z"
   },
   {
    "duration": 650,
    "start_time": "2025-06-18T17:26:07.972Z"
   },
   {
    "duration": 33,
    "start_time": "2025-06-18T17:26:08.624Z"
   },
   {
    "duration": 5,
    "start_time": "2025-06-18T17:26:08.659Z"
   },
   {
    "duration": 17,
    "start_time": "2025-06-18T17:26:08.666Z"
   },
   {
    "duration": 19,
    "start_time": "2025-06-18T17:26:08.684Z"
   },
   {
    "duration": 70,
    "start_time": "2025-06-18T17:26:08.704Z"
   },
   {
    "duration": 31,
    "start_time": "2025-06-18T17:26:08.777Z"
   },
   {
    "duration": 60,
    "start_time": "2025-06-18T17:26:08.810Z"
   },
   {
    "duration": 368,
    "start_time": "2025-06-18T17:26:08.872Z"
   },
   {
    "duration": 107,
    "start_time": "2025-06-18T17:26:09.243Z"
   },
   {
    "duration": 553,
    "start_time": "2025-06-18T17:26:09.352Z"
   },
   {
    "duration": 92,
    "start_time": "2025-06-18T17:26:09.907Z"
   },
   {
    "duration": 92,
    "start_time": "2025-06-18T17:26:10.001Z"
   },
   {
    "duration": 30,
    "start_time": "2025-06-18T17:26:10.095Z"
   },
   {
    "duration": 161,
    "start_time": "2025-06-18T17:26:10.127Z"
   },
   {
    "duration": 29,
    "start_time": "2025-06-18T17:26:10.290Z"
   },
   {
    "duration": 106,
    "start_time": "2025-06-18T17:26:10.322Z"
   },
   {
    "duration": 24,
    "start_time": "2025-06-18T17:26:10.430Z"
   },
   {
    "duration": 431,
    "start_time": "2025-06-18T17:26:10.457Z"
   },
   {
    "duration": 8,
    "start_time": "2025-06-18T17:26:10.890Z"
   },
   {
    "duration": 80,
    "start_time": "2025-06-18T17:26:10.899Z"
   },
   {
    "duration": 235,
    "start_time": "2025-06-18T17:26:10.981Z"
   },
   {
    "duration": 606,
    "start_time": "2025-06-18T17:26:11.218Z"
   },
   {
    "duration": 332,
    "start_time": "2025-06-18T17:26:11.825Z"
   },
   {
    "duration": 385,
    "start_time": "2025-06-18T17:26:12.161Z"
   },
   {
    "duration": 49,
    "start_time": "2025-06-18T17:26:12.549Z"
   },
   {
    "duration": 464,
    "start_time": "2025-06-18T17:26:12.600Z"
   },
   {
    "duration": 23,
    "start_time": "2025-06-18T17:26:13.065Z"
   },
   {
    "duration": 5,
    "start_time": "2025-06-18T17:26:13.090Z"
   },
   {
    "duration": 45,
    "start_time": "2025-06-18T17:26:13.096Z"
   },
   {
    "duration": 99,
    "start_time": "2025-06-18T17:26:13.143Z"
   },
   {
    "duration": 260,
    "start_time": "2025-06-18T17:26:13.244Z"
   },
   {
    "duration": 8,
    "start_time": "2025-06-18T17:26:13.506Z"
   },
   {
    "duration": 249,
    "start_time": "2025-06-18T17:26:13.516Z"
   },
   {
    "duration": 51,
    "start_time": "2025-06-18T17:26:13.767Z"
   },
   {
    "duration": 369,
    "start_time": "2025-06-18T17:26:13.820Z"
   },
   {
    "duration": 71,
    "start_time": "2025-06-18T17:26:14.192Z"
   },
   {
    "duration": 185,
    "start_time": "2025-06-18T17:26:14.264Z"
   },
   {
    "duration": 36,
    "start_time": "2025-06-18T17:26:14.453Z"
   },
   {
    "duration": 294,
    "start_time": "2025-06-18T17:26:14.491Z"
   },
   {
    "duration": 65,
    "start_time": "2025-06-18T17:26:14.787Z"
   },
   {
    "duration": 249,
    "start_time": "2025-06-18T17:26:14.853Z"
   },
   {
    "duration": 12,
    "start_time": "2025-06-18T17:26:15.104Z"
   },
   {
    "duration": 204,
    "start_time": "2025-06-18T17:26:15.117Z"
   },
   {
    "duration": 275,
    "start_time": "2025-06-18T17:26:15.322Z"
   },
   {
    "duration": 61,
    "start_time": "2025-06-18T17:26:15.600Z"
   },
   {
    "duration": 18,
    "start_time": "2025-06-18T17:26:15.663Z"
   },
   {
    "duration": 1224,
    "start_time": "2025-06-18T17:26:15.682Z"
   },
   {
    "duration": 32,
    "start_time": "2025-06-18T17:26:16.908Z"
   },
   {
    "duration": 56,
    "start_time": "2025-06-18T17:26:16.942Z"
   },
   {
    "duration": 53,
    "start_time": "2025-06-18T17:26:16.999Z"
   },
   {
    "duration": 794,
    "start_time": "2025-06-18T17:26:17.054Z"
   },
   {
    "duration": 44,
    "start_time": "2025-06-18T17:26:17.851Z"
   },
   {
    "duration": 13,
    "start_time": "2025-06-18T17:26:17.897Z"
   },
   {
    "duration": 68,
    "start_time": "2025-06-18T17:26:17.911Z"
   },
   {
    "duration": 18,
    "start_time": "2025-06-18T17:26:17.981Z"
   },
   {
    "duration": 84,
    "start_time": "2025-06-18T17:26:18.712Z"
   },
   {
    "duration": 17,
    "start_time": "2025-06-18T17:26:19.107Z"
   },
   {
    "duration": 46,
    "start_time": "2025-06-18T17:26:19.673Z"
   },
   {
    "duration": 24,
    "start_time": "2025-06-18T17:26:19.867Z"
   },
   {
    "duration": 20,
    "start_time": "2025-06-18T17:26:20.066Z"
   },
   {
    "duration": 1184,
    "start_time": "2025-06-18T17:46:17.842Z"
   },
   {
    "duration": 1595,
    "start_time": "2025-06-18T17:46:19.028Z"
   },
   {
    "duration": 222,
    "start_time": "2025-06-18T17:46:20.625Z"
   },
   {
    "duration": 40,
    "start_time": "2025-06-18T17:46:20.849Z"
   },
   {
    "duration": 651,
    "start_time": "2025-06-18T17:46:20.891Z"
   },
   {
    "duration": 16,
    "start_time": "2025-06-18T17:46:21.544Z"
   },
   {
    "duration": 7,
    "start_time": "2025-06-18T17:46:21.562Z"
   },
   {
    "duration": 23,
    "start_time": "2025-06-18T17:46:21.571Z"
   },
   {
    "duration": 42,
    "start_time": "2025-06-18T17:46:21.597Z"
   },
   {
    "duration": 29,
    "start_time": "2025-06-18T17:46:21.641Z"
   },
   {
    "duration": 30,
    "start_time": "2025-06-18T17:46:21.672Z"
   },
   {
    "duration": 51,
    "start_time": "2025-06-18T17:46:21.704Z"
   },
   {
    "duration": 359,
    "start_time": "2025-06-18T17:46:21.757Z"
   },
   {
    "duration": 119,
    "start_time": "2025-06-18T17:46:22.119Z"
   },
   {
    "duration": 477,
    "start_time": "2025-06-18T17:46:22.240Z"
   },
   {
    "duration": 102,
    "start_time": "2025-06-18T17:46:22.720Z"
   },
   {
    "duration": 96,
    "start_time": "2025-06-18T17:46:22.824Z"
   },
   {
    "duration": 39,
    "start_time": "2025-06-18T17:46:22.922Z"
   },
   {
    "duration": 138,
    "start_time": "2025-06-18T17:46:22.963Z"
   },
   {
    "duration": 36,
    "start_time": "2025-06-18T17:46:23.103Z"
   },
   {
    "duration": 98,
    "start_time": "2025-06-18T17:46:23.140Z"
   },
   {
    "duration": 16,
    "start_time": "2025-06-18T17:46:23.240Z"
   },
   {
    "duration": 348,
    "start_time": "2025-06-18T17:46:23.258Z"
   },
   {
    "duration": 8,
    "start_time": "2025-06-18T17:46:23.607Z"
   },
   {
    "duration": 89,
    "start_time": "2025-06-18T17:46:23.616Z"
   },
   {
    "duration": 232,
    "start_time": "2025-06-18T17:46:23.707Z"
   },
   {
    "duration": 634,
    "start_time": "2025-06-18T17:46:23.941Z"
   },
   {
    "duration": 370,
    "start_time": "2025-06-18T17:46:24.576Z"
   },
   {
    "duration": 397,
    "start_time": "2025-06-18T17:46:24.947Z"
   },
   {
    "duration": 63,
    "start_time": "2025-06-18T17:46:25.346Z"
   },
   {
    "duration": 523,
    "start_time": "2025-06-18T17:46:25.411Z"
   },
   {
    "duration": 23,
    "start_time": "2025-06-18T17:46:25.938Z"
   },
   {
    "duration": 5,
    "start_time": "2025-06-18T17:46:25.963Z"
   },
   {
    "duration": 29,
    "start_time": "2025-06-18T17:46:25.969Z"
   },
   {
    "duration": 100,
    "start_time": "2025-06-18T17:46:25.999Z"
   },
   {
    "duration": 228,
    "start_time": "2025-06-18T17:46:26.100Z"
   },
   {
    "duration": 9,
    "start_time": "2025-06-18T17:46:26.338Z"
   },
   {
    "duration": 195,
    "start_time": "2025-06-18T17:46:26.348Z"
   },
   {
    "duration": 53,
    "start_time": "2025-06-18T17:46:26.544Z"
   },
   {
    "duration": 214,
    "start_time": "2025-06-18T17:46:26.601Z"
   },
   {
    "duration": 59,
    "start_time": "2025-06-18T17:46:26.819Z"
   },
   {
    "duration": 176,
    "start_time": "2025-06-18T17:46:26.879Z"
   },
   {
    "duration": 36,
    "start_time": "2025-06-18T17:46:27.057Z"
   },
   {
    "duration": 223,
    "start_time": "2025-06-18T17:46:27.094Z"
   },
   {
    "duration": 60,
    "start_time": "2025-06-18T17:46:27.318Z"
   },
   {
    "duration": 230,
    "start_time": "2025-06-18T17:46:27.380Z"
   },
   {
    "duration": 10,
    "start_time": "2025-06-18T17:46:27.612Z"
   },
   {
    "duration": 193,
    "start_time": "2025-06-18T17:46:27.623Z"
   },
   {
    "duration": 265,
    "start_time": "2025-06-18T17:46:27.817Z"
   },
   {
    "duration": 54,
    "start_time": "2025-06-18T17:46:28.084Z"
   },
   {
    "duration": 19,
    "start_time": "2025-06-18T17:46:28.140Z"
   },
   {
    "duration": 1270,
    "start_time": "2025-06-18T17:46:28.160Z"
   },
   {
    "duration": 19,
    "start_time": "2025-06-18T17:46:29.432Z"
   },
   {
    "duration": 106,
    "start_time": "2025-06-18T17:46:29.453Z"
   },
   {
    "duration": 10,
    "start_time": "2025-06-18T17:46:29.561Z"
   },
   {
    "duration": 666,
    "start_time": "2025-06-18T17:46:29.573Z"
   },
   {
    "duration": 46,
    "start_time": "2025-06-18T17:46:30.241Z"
   },
   {
    "duration": 13,
    "start_time": "2025-06-18T17:46:30.289Z"
   },
   {
    "duration": 76,
    "start_time": "2025-06-18T17:46:30.304Z"
   },
   {
    "duration": 97,
    "start_time": "2025-06-18T17:46:30.382Z"
   },
   {
    "duration": 92,
    "start_time": "2025-06-18T17:46:30.481Z"
   },
   {
    "duration": 17,
    "start_time": "2025-06-18T17:46:30.575Z"
   },
   {
    "duration": 102,
    "start_time": "2025-06-18T17:46:30.593Z"
   },
   {
    "duration": 23,
    "start_time": "2025-06-18T17:46:30.697Z"
   },
   {
    "duration": 15,
    "start_time": "2025-06-18T17:46:30.721Z"
   },
   {
    "duration": 1365,
    "start_time": "2025-06-19T07:19:38.497Z"
   },
   {
    "duration": 1901,
    "start_time": "2025-06-19T07:19:39.864Z"
   },
   {
    "duration": 338,
    "start_time": "2025-06-19T07:19:41.766Z"
   },
   {
    "duration": 74,
    "start_time": "2025-06-19T07:19:42.105Z"
   },
   {
    "duration": 637,
    "start_time": "2025-06-19T07:19:42.181Z"
   },
   {
    "duration": 19,
    "start_time": "2025-06-19T07:19:42.821Z"
   },
   {
    "duration": 7,
    "start_time": "2025-06-19T07:19:42.842Z"
   },
   {
    "duration": 19,
    "start_time": "2025-06-19T07:19:42.876Z"
   },
   {
    "duration": 26,
    "start_time": "2025-06-19T07:19:42.897Z"
   },
   {
    "duration": 52,
    "start_time": "2025-06-19T07:19:42.925Z"
   },
   {
    "duration": 53,
    "start_time": "2025-06-19T07:19:42.979Z"
   },
   {
    "duration": 39,
    "start_time": "2025-06-19T07:19:43.034Z"
   },
   {
    "duration": 348,
    "start_time": "2025-06-19T07:19:43.075Z"
   },
   {
    "duration": 119,
    "start_time": "2025-06-19T07:19:43.429Z"
   },
   {
    "duration": 450,
    "start_time": "2025-06-19T07:19:43.550Z"
   },
   {
    "duration": 101,
    "start_time": "2025-06-19T07:19:44.003Z"
   },
   {
    "duration": 101,
    "start_time": "2025-06-19T07:19:44.106Z"
   },
   {
    "duration": 32,
    "start_time": "2025-06-19T07:19:44.209Z"
   },
   {
    "duration": 143,
    "start_time": "2025-06-19T07:19:44.243Z"
   },
   {
    "duration": 28,
    "start_time": "2025-06-19T07:19:44.388Z"
   },
   {
    "duration": 101,
    "start_time": "2025-06-19T07:19:44.418Z"
   },
   {
    "duration": 15,
    "start_time": "2025-06-19T07:19:44.521Z"
   },
   {
    "duration": 347,
    "start_time": "2025-06-19T07:19:44.538Z"
   },
   {
    "duration": 8,
    "start_time": "2025-06-19T07:19:44.886Z"
   },
   {
    "duration": 84,
    "start_time": "2025-06-19T07:19:44.895Z"
   },
   {
    "duration": 229,
    "start_time": "2025-06-19T07:19:44.981Z"
   },
   {
    "duration": 604,
    "start_time": "2025-06-19T07:19:45.211Z"
   },
   {
    "duration": 366,
    "start_time": "2025-06-19T07:19:45.817Z"
   },
   {
    "duration": 395,
    "start_time": "2025-06-19T07:19:46.184Z"
   },
   {
    "duration": 66,
    "start_time": "2025-06-19T07:19:46.581Z"
   },
   {
    "duration": 443,
    "start_time": "2025-06-19T07:19:46.649Z"
   },
   {
    "duration": 24,
    "start_time": "2025-06-19T07:19:47.094Z"
   },
   {
    "duration": 44,
    "start_time": "2025-06-19T07:19:47.120Z"
   },
   {
    "duration": 30,
    "start_time": "2025-06-19T07:19:47.166Z"
   },
   {
    "duration": 86,
    "start_time": "2025-06-19T07:19:47.198Z"
   },
   {
    "duration": 303,
    "start_time": "2025-06-19T07:19:47.286Z"
   },
   {
    "duration": 10,
    "start_time": "2025-06-19T07:19:47.591Z"
   },
   {
    "duration": 222,
    "start_time": "2025-06-19T07:19:47.603Z"
   },
   {
    "duration": 66,
    "start_time": "2025-06-19T07:19:47.827Z"
   },
   {
    "duration": 219,
    "start_time": "2025-06-19T07:19:47.895Z"
   },
   {
    "duration": 63,
    "start_time": "2025-06-19T07:19:48.120Z"
   },
   {
    "duration": 184,
    "start_time": "2025-06-19T07:19:48.184Z"
   },
   {
    "duration": 43,
    "start_time": "2025-06-19T07:19:48.370Z"
   },
   {
    "duration": 233,
    "start_time": "2025-06-19T07:19:48.416Z"
   },
   {
    "duration": 63,
    "start_time": "2025-06-19T07:19:48.651Z"
   },
   {
    "duration": 239,
    "start_time": "2025-06-19T07:19:48.716Z"
   },
   {
    "duration": 22,
    "start_time": "2025-06-19T07:19:48.957Z"
   },
   {
    "duration": 186,
    "start_time": "2025-06-19T07:19:48.982Z"
   },
   {
    "duration": 265,
    "start_time": "2025-06-19T07:19:49.169Z"
   },
   {
    "duration": 53,
    "start_time": "2025-06-19T07:19:49.436Z"
   },
   {
    "duration": 18,
    "start_time": "2025-06-19T07:19:49.491Z"
   },
   {
    "duration": 1391,
    "start_time": "2025-06-19T07:19:49.510Z"
   },
   {
    "duration": 20,
    "start_time": "2025-06-19T07:19:50.903Z"
   },
   {
    "duration": 99,
    "start_time": "2025-06-19T07:19:50.925Z"
   },
   {
    "duration": 22,
    "start_time": "2025-06-19T07:19:51.026Z"
   },
   {
    "duration": 704,
    "start_time": "2025-06-19T07:19:51.050Z"
   },
   {
    "duration": 60,
    "start_time": "2025-06-19T07:19:51.756Z"
   },
   {
    "duration": 86,
    "start_time": "2025-06-19T07:19:51.818Z"
   },
   {
    "duration": 55,
    "start_time": "2025-06-19T07:19:51.905Z"
   },
   {
    "duration": 19,
    "start_time": "2025-06-19T07:19:51.962Z"
   },
   {
    "duration": 192,
    "start_time": "2025-06-19T07:19:51.983Z"
   },
   {
    "duration": 15,
    "start_time": "2025-06-19T07:19:52.177Z"
   },
   {
    "duration": 54,
    "start_time": "2025-06-19T07:19:52.194Z"
   },
   {
    "duration": 30,
    "start_time": "2025-06-19T07:19:52.250Z"
   },
   {
    "duration": 35,
    "start_time": "2025-06-19T07:19:52.282Z"
   },
   {
    "duration": 47,
    "start_time": "2025-06-19T08:31:51.107Z"
   },
   {
    "duration": 1266,
    "start_time": "2025-06-19T08:31:56.154Z"
   },
   {
    "duration": 1591,
    "start_time": "2025-06-19T08:31:57.451Z"
   },
   {
    "duration": 145,
    "start_time": "2025-06-19T08:31:59.044Z"
   },
   {
    "duration": 283,
    "start_time": "2025-06-19T08:32:03.439Z"
   },
   {
    "duration": 39,
    "start_time": "2025-06-19T08:32:04.643Z"
   },
   {
    "duration": 638,
    "start_time": "2025-06-19T08:32:13.598Z"
   },
   {
    "duration": 19,
    "start_time": "2025-06-19T08:32:14.239Z"
   },
   {
    "duration": 7,
    "start_time": "2025-06-19T08:32:14.421Z"
   },
   {
    "duration": 18,
    "start_time": "2025-06-19T08:32:14.837Z"
   },
   {
    "duration": 18,
    "start_time": "2025-06-19T08:32:15.383Z"
   },
   {
    "duration": 27,
    "start_time": "2025-06-19T08:32:15.417Z"
   },
   {
    "duration": 30,
    "start_time": "2025-06-19T08:32:15.475Z"
   },
   {
    "duration": 30,
    "start_time": "2025-06-19T08:32:15.507Z"
   },
   {
    "duration": 323,
    "start_time": "2025-06-19T08:32:15.547Z"
   },
   {
    "duration": 112,
    "start_time": "2025-06-19T08:32:15.872Z"
   },
   {
    "duration": 438,
    "start_time": "2025-06-19T08:32:15.985Z"
   },
   {
    "duration": 102,
    "start_time": "2025-06-19T08:32:16.426Z"
   },
   {
    "duration": 119,
    "start_time": "2025-06-19T08:32:16.531Z"
   },
   {
    "duration": 31,
    "start_time": "2025-06-19T08:32:16.651Z"
   },
   {
    "duration": 137,
    "start_time": "2025-06-19T08:32:16.684Z"
   },
   {
    "duration": 28,
    "start_time": "2025-06-19T08:32:32.453Z"
   },
   {
    "duration": 88,
    "start_time": "2025-06-19T08:32:33.183Z"
   },
   {
    "duration": 14,
    "start_time": "2025-06-19T08:32:33.273Z"
   },
   {
    "duration": 311,
    "start_time": "2025-06-19T08:32:33.376Z"
   },
   {
    "duration": 7,
    "start_time": "2025-06-19T08:32:33.728Z"
   },
   {
    "duration": 75,
    "start_time": "2025-06-19T08:32:33.939Z"
   },
   {
    "duration": 219,
    "start_time": "2025-06-19T08:32:38.949Z"
   },
   {
    "duration": 586,
    "start_time": "2025-06-19T08:32:39.624Z"
   },
   {
    "duration": 314,
    "start_time": "2025-06-19T08:33:04.889Z"
   },
   {
    "duration": 364,
    "start_time": "2025-06-19T08:33:08.713Z"
   },
   {
    "duration": 66,
    "start_time": "2025-06-19T08:33:10.293Z"
   },
   {
    "duration": 413,
    "start_time": "2025-06-19T08:33:10.935Z"
   },
   {
    "duration": 22,
    "start_time": "2025-06-19T08:33:11.563Z"
   },
   {
    "duration": 5,
    "start_time": "2025-06-19T08:33:11.847Z"
   },
   {
    "duration": 25,
    "start_time": "2025-06-19T08:33:12.065Z"
   },
   {
    "duration": 71,
    "start_time": "2025-06-19T08:33:12.315Z"
   },
   {
    "duration": 225,
    "start_time": "2025-06-19T08:33:13.124Z"
   },
   {
    "duration": 10,
    "start_time": "2025-06-19T08:33:19.610Z"
   },
   {
    "duration": 168,
    "start_time": "2025-06-19T08:33:19.941Z"
   },
   {
    "duration": 53,
    "start_time": "2025-06-19T08:33:31.151Z"
   },
   {
    "duration": 192,
    "start_time": "2025-06-19T08:33:31.769Z"
   },
   {
    "duration": 46,
    "start_time": "2025-06-19T08:33:32.544Z"
   },
   {
    "duration": 165,
    "start_time": "2025-06-19T08:33:34.247Z"
   },
   {
    "duration": 34,
    "start_time": "2025-06-19T08:33:34.797Z"
   },
   {
    "duration": 196,
    "start_time": "2025-06-19T08:33:35.082Z"
   },
   {
    "duration": 48,
    "start_time": "2025-06-19T08:33:42.476Z"
   },
   {
    "duration": 207,
    "start_time": "2025-06-19T08:33:42.794Z"
   },
   {
    "duration": 9,
    "start_time": "2025-06-19T08:33:43.136Z"
   },
   {
    "duration": 153,
    "start_time": "2025-06-19T08:33:43.411Z"
   },
   {
    "duration": 260,
    "start_time": "2025-06-19T08:33:55.136Z"
   },
   {
    "duration": 43,
    "start_time": "2025-06-19T08:33:55.872Z"
   },
   {
    "duration": 17,
    "start_time": "2025-06-19T08:33:56.232Z"
   },
   {
    "duration": 1218,
    "start_time": "2025-06-19T08:33:56.670Z"
   },
   {
    "duration": 20,
    "start_time": "2025-06-19T08:34:04.318Z"
   },
   {
    "duration": 46,
    "start_time": "2025-06-19T08:34:04.525Z"
   },
   {
    "duration": 9,
    "start_time": "2025-06-19T08:34:04.737Z"
   },
   {
    "duration": 654,
    "start_time": "2025-06-19T08:34:04.912Z"
   },
   {
    "duration": 44,
    "start_time": "2025-06-19T08:34:17.414Z"
   },
   {
    "duration": 13,
    "start_time": "2025-06-19T08:34:17.656Z"
   },
   {
    "duration": 1737,
    "start_time": "2025-06-19T09:52:02.088Z"
   },
   {
    "duration": 119,
    "start_time": "2025-06-19T09:52:03.828Z"
   },
   {
    "duration": 353,
    "start_time": "2025-06-19T09:52:11.724Z"
   },
   {
    "duration": 219,
    "start_time": "2025-06-19T09:52:18.083Z"
   },
   {
    "duration": 27,
    "start_time": "2025-06-19T09:52:21.203Z"
   },
   {
    "duration": 43,
    "start_time": "2025-06-19T09:52:51.834Z"
   },
   {
    "duration": 33,
    "start_time": "2025-06-19T09:52:57.919Z"
   },
   {
    "duration": 17,
    "start_time": "2025-06-19T09:52:58.889Z"
   },
   {
    "duration": 589,
    "start_time": "2025-06-19T09:53:04.764Z"
   },
   {
    "duration": 19,
    "start_time": "2025-06-19T09:53:05.355Z"
   },
   {
    "duration": 40,
    "start_time": "2025-06-19T09:53:05.376Z"
   },
   {
    "duration": 30,
    "start_time": "2025-06-19T09:53:05.579Z"
   },
   {
    "duration": 18,
    "start_time": "2025-06-19T09:53:05.709Z"
   },
   {
    "duration": 27,
    "start_time": "2025-06-19T09:53:06.689Z"
   },
   {
    "duration": 28,
    "start_time": "2025-06-19T09:53:06.718Z"
   },
   {
    "duration": 31,
    "start_time": "2025-06-19T09:53:06.748Z"
   },
   {
    "duration": 304,
    "start_time": "2025-06-19T09:53:07.090Z"
   },
   {
    "duration": 119,
    "start_time": "2025-06-19T09:53:07.396Z"
   },
   {
    "duration": 436,
    "start_time": "2025-06-19T09:53:07.589Z"
   },
   {
    "duration": 109,
    "start_time": "2025-06-19T09:53:08.027Z"
   },
   {
    "duration": 87,
    "start_time": "2025-06-19T09:53:08.138Z"
   },
   {
    "duration": 31,
    "start_time": "2025-06-19T09:53:08.236Z"
   },
   {
    "duration": 129,
    "start_time": "2025-06-19T09:53:08.459Z"
   },
   {
    "duration": 29,
    "start_time": "2025-06-19T09:53:08.844Z"
   },
   {
    "duration": 74,
    "start_time": "2025-06-19T09:53:09.269Z"
   },
   {
    "duration": 14,
    "start_time": "2025-06-19T09:53:09.384Z"
   },
   {
    "duration": 325,
    "start_time": "2025-06-19T09:53:09.599Z"
   },
   {
    "duration": 7,
    "start_time": "2025-06-19T09:53:09.933Z"
   },
   {
    "duration": 68,
    "start_time": "2025-06-19T09:53:10.144Z"
   },
   {
    "duration": 215,
    "start_time": "2025-06-19T09:53:10.349Z"
   },
   {
    "duration": 555,
    "start_time": "2025-06-19T09:53:10.754Z"
   },
   {
    "duration": 293,
    "start_time": "2025-06-19T09:53:13.522Z"
   },
   {
    "duration": 321,
    "start_time": "2025-06-19T09:53:15.392Z"
   },
   {
    "duration": 62,
    "start_time": "2025-06-19T09:53:16.382Z"
   },
   {
    "duration": 397,
    "start_time": "2025-06-19T09:53:16.446Z"
   },
   {
    "duration": 22,
    "start_time": "2025-06-19T09:53:16.845Z"
   },
   {
    "duration": 9,
    "start_time": "2025-06-19T09:53:16.869Z"
   },
   {
    "duration": 26,
    "start_time": "2025-06-19T09:53:16.991Z"
   },
   {
    "duration": 72,
    "start_time": "2025-06-19T09:53:17.592Z"
   },
   {
    "duration": 224,
    "start_time": "2025-06-19T09:53:17.666Z"
   },
   {
    "duration": 9,
    "start_time": "2025-06-19T09:53:18.759Z"
   },
   {
    "duration": 174,
    "start_time": "2025-06-19T09:53:18.819Z"
   },
   {
    "duration": 49,
    "start_time": "2025-06-19T09:53:19.372Z"
   },
   {
    "duration": 280,
    "start_time": "2025-06-19T09:53:19.561Z"
   },
   {
    "duration": 47,
    "start_time": "2025-06-19T09:53:19.907Z"
   },
   {
    "duration": 171,
    "start_time": "2025-06-19T09:53:20.131Z"
   },
   {
    "duration": 33,
    "start_time": "2025-06-19T09:53:20.522Z"
   },
   {
    "duration": 190,
    "start_time": "2025-06-19T09:53:20.712Z"
   },
   {
    "duration": 47,
    "start_time": "2025-06-19T09:53:21.491Z"
   },
   {
    "duration": 211,
    "start_time": "2025-06-19T09:53:21.691Z"
   },
   {
    "duration": 11,
    "start_time": "2025-06-19T09:53:21.903Z"
   },
   {
    "duration": 158,
    "start_time": "2025-06-19T09:53:22.067Z"
   },
   {
    "duration": 250,
    "start_time": "2025-06-19T09:53:24.843Z"
   },
   {
    "duration": 45,
    "start_time": "2025-06-19T09:53:25.258Z"
   },
   {
    "duration": 22,
    "start_time": "2025-06-19T09:53:25.509Z"
   },
   {
    "duration": 1146,
    "start_time": "2025-06-19T09:53:25.912Z"
   },
   {
    "duration": 20,
    "start_time": "2025-06-19T09:53:27.060Z"
   },
   {
    "duration": 64,
    "start_time": "2025-06-19T09:53:27.082Z"
   },
   {
    "duration": 14,
    "start_time": "2025-06-19T09:53:27.149Z"
   },
   {
    "duration": 840,
    "start_time": "2025-06-19T09:53:27.164Z"
   },
   {
    "duration": 43,
    "start_time": "2025-06-19T09:53:28.225Z"
   },
   {
    "duration": 12,
    "start_time": "2025-06-19T09:53:28.761Z"
   },
   {
    "duration": 61,
    "start_time": "2025-06-19T09:56:43.660Z"
   },
   {
    "duration": 4,
    "start_time": "2025-06-19T09:56:48.633Z"
   },
   {
    "duration": 4,
    "start_time": "2025-06-19T10:00:40.940Z"
   },
   {
    "duration": 13,
    "start_time": "2025-06-19T10:00:59.163Z"
   },
   {
    "duration": 8,
    "start_time": "2025-06-19T10:01:14.899Z"
   },
   {
    "duration": 713,
    "start_time": "2025-06-19T10:01:32.360Z"
   },
   {
    "duration": 0,
    "start_time": "2025-06-19T10:01:33.075Z"
   },
   {
    "duration": 42,
    "start_time": "2025-06-19T10:01:37.747Z"
   },
   {
    "duration": 6,
    "start_time": "2025-06-19T10:01:38.577Z"
   },
   {
    "duration": 10,
    "start_time": "2025-06-19T10:01:40.144Z"
   },
   {
    "duration": 45,
    "start_time": "2025-06-19T10:02:08.944Z"
   },
   {
    "duration": 15,
    "start_time": "2025-06-19T10:02:09.814Z"
   },
   {
    "duration": 318,
    "start_time": "2025-06-19T10:02:22.855Z"
   },
   {
    "duration": 43,
    "start_time": "2025-06-19T10:02:30.770Z"
   },
   {
    "duration": 13,
    "start_time": "2025-06-19T10:02:31.177Z"
   },
   {
    "duration": 9,
    "start_time": "2025-06-19T10:02:31.975Z"
   },
   {
    "duration": 9,
    "start_time": "2025-06-19T10:02:53.754Z"
   },
   {
    "duration": 45,
    "start_time": "2025-06-19T10:03:02.930Z"
   },
   {
    "duration": 14,
    "start_time": "2025-06-19T10:03:02.977Z"
   },
   {
    "duration": 41,
    "start_time": "2025-06-19T10:03:02.993Z"
   },
   {
    "duration": 43,
    "start_time": "2025-06-19T10:12:13.381Z"
   },
   {
    "duration": 18,
    "start_time": "2025-06-19T10:12:13.863Z"
   },
   {
    "duration": 375,
    "start_time": "2025-06-19T10:12:41.112Z"
   },
   {
    "duration": 41,
    "start_time": "2025-06-19T10:12:44.398Z"
   },
   {
    "duration": 5,
    "start_time": "2025-06-19T10:12:44.633Z"
   },
   {
    "duration": 10,
    "start_time": "2025-06-19T10:12:45.075Z"
   },
   {
    "duration": 45,
    "start_time": "2025-06-19T10:12:46.932Z"
   },
   {
    "duration": 19,
    "start_time": "2025-06-19T10:12:49.392Z"
   },
   {
    "duration": 66,
    "start_time": "2025-06-19T10:14:10.182Z"
   },
   {
    "duration": 66,
    "start_time": "2025-06-19T10:14:13.723Z"
   },
   {
    "duration": 340,
    "start_time": "2025-06-19T10:14:13.849Z"
   },
   {
    "duration": 44,
    "start_time": "2025-06-19T10:14:20.423Z"
   },
   {
    "duration": 45,
    "start_time": "2025-06-19T10:14:49.173Z"
   },
   {
    "duration": 3,
    "start_time": "2025-06-19T10:15:24.817Z"
   },
   {
    "duration": 2693,
    "start_time": "2025-06-19T10:15:24.899Z"
   },
   {
    "duration": 108,
    "start_time": "2025-06-19T10:15:27.594Z"
   },
   {
    "duration": 351,
    "start_time": "2025-06-19T10:15:27.703Z"
   },
   {
    "duration": 26,
    "start_time": "2025-06-19T10:15:28.056Z"
   },
   {
    "duration": 43,
    "start_time": "2025-06-19T10:15:28.084Z"
   },
   {
    "duration": 16,
    "start_time": "2025-06-19T10:15:28.129Z"
   },
   {
    "duration": 564,
    "start_time": "2025-06-19T10:15:28.146Z"
   },
   {
    "duration": 26,
    "start_time": "2025-06-19T10:15:28.712Z"
   },
   {
    "duration": 5,
    "start_time": "2025-06-19T10:15:28.740Z"
   },
   {
    "duration": 19,
    "start_time": "2025-06-19T10:15:28.748Z"
   },
   {
    "duration": 17,
    "start_time": "2025-06-19T10:15:28.768Z"
   },
   {
    "duration": 59,
    "start_time": "2025-06-19T10:15:28.787Z"
   },
   {
    "duration": 29,
    "start_time": "2025-06-19T10:15:28.848Z"
   },
   {
    "duration": 30,
    "start_time": "2025-06-19T10:15:28.879Z"
   },
   {
    "duration": 333,
    "start_time": "2025-06-19T10:15:28.936Z"
   },
   {
    "duration": 115,
    "start_time": "2025-06-19T10:15:29.271Z"
   },
   {
    "duration": 450,
    "start_time": "2025-06-19T10:15:29.388Z"
   },
   {
    "duration": 92,
    "start_time": "2025-06-19T10:15:30.839Z"
   },
   {
    "duration": 87,
    "start_time": "2025-06-19T10:15:38.512Z"
   },
   {
    "duration": 39,
    "start_time": "2025-06-19T10:15:38.601Z"
   },
   {
    "duration": 127,
    "start_time": "2025-06-19T10:15:38.735Z"
   },
   {
    "duration": 27,
    "start_time": "2025-06-19T10:15:38.864Z"
   },
   {
    "duration": 105,
    "start_time": "2025-06-19T10:15:38.892Z"
   },
   {
    "duration": 14,
    "start_time": "2025-06-19T10:15:38.999Z"
   },
   {
    "duration": 339,
    "start_time": "2025-06-19T10:15:39.015Z"
   },
   {
    "duration": 7,
    "start_time": "2025-06-19T10:15:39.356Z"
   },
   {
    "duration": 103,
    "start_time": "2025-06-19T10:15:39.365Z"
   },
   {
    "duration": 230,
    "start_time": "2025-06-19T10:15:39.470Z"
   },
   {
    "duration": 569,
    "start_time": "2025-06-19T10:15:39.702Z"
   },
   {
    "duration": 297,
    "start_time": "2025-06-19T10:15:40.273Z"
   },
   {
    "duration": 329,
    "start_time": "2025-06-19T10:15:40.573Z"
   },
   {
    "duration": 68,
    "start_time": "2025-06-19T10:15:40.903Z"
   },
   {
    "duration": 373,
    "start_time": "2025-06-19T10:15:40.973Z"
   },
   {
    "duration": 22,
    "start_time": "2025-06-19T10:15:41.347Z"
   },
   {
    "duration": 11,
    "start_time": "2025-06-19T10:15:41.371Z"
   },
   {
    "duration": 26,
    "start_time": "2025-06-19T10:15:41.384Z"
   },
   {
    "duration": 89,
    "start_time": "2025-06-19T10:15:41.412Z"
   },
   {
    "duration": 233,
    "start_time": "2025-06-19T10:15:41.503Z"
   },
   {
    "duration": 8,
    "start_time": "2025-06-19T10:15:41.738Z"
   },
   {
    "duration": 193,
    "start_time": "2025-06-19T10:15:41.747Z"
   },
   {
    "duration": 48,
    "start_time": "2025-06-19T10:15:41.942Z"
   },
   {
    "duration": 207,
    "start_time": "2025-06-19T10:15:41.992Z"
   },
   {
    "duration": 54,
    "start_time": "2025-06-19T10:15:42.200Z"
   },
   {
    "duration": 162,
    "start_time": "2025-06-19T10:15:42.256Z"
   },
   {
    "duration": 41,
    "start_time": "2025-06-19T10:15:42.420Z"
   },
   {
    "duration": 208,
    "start_time": "2025-06-19T10:15:42.463Z"
   },
   {
    "duration": 49,
    "start_time": "2025-06-19T10:15:42.674Z"
   },
   {
    "duration": 226,
    "start_time": "2025-06-19T10:15:50.034Z"
   },
   {
    "duration": 11,
    "start_time": "2025-06-19T10:15:50.262Z"
   },
   {
    "duration": 176,
    "start_time": "2025-06-19T10:15:50.274Z"
   },
   {
    "duration": 249,
    "start_time": "2025-06-19T10:15:50.452Z"
   },
   {
    "duration": 46,
    "start_time": "2025-06-19T10:15:50.704Z"
   },
   {
    "duration": 14,
    "start_time": "2025-06-19T10:15:50.752Z"
   },
   {
    "duration": 1332,
    "start_time": "2025-06-19T10:15:50.768Z"
   },
   {
    "duration": 18,
    "start_time": "2025-06-19T10:15:52.102Z"
   },
   {
    "duration": 44,
    "start_time": "2025-06-19T10:15:52.135Z"
   },
   {
    "duration": 10,
    "start_time": "2025-06-19T10:15:52.181Z"
   },
   {
    "duration": 704,
    "start_time": "2025-06-19T10:15:52.193Z"
   },
   {
    "duration": 52,
    "start_time": "2025-06-19T10:15:52.899Z"
   },
   {
    "duration": 6,
    "start_time": "2025-06-19T10:15:52.953Z"
   },
   {
    "duration": 14,
    "start_time": "2025-06-19T10:15:52.961Z"
   },
   {
    "duration": 44,
    "start_time": "2025-06-19T10:15:54.665Z"
   },
   {
    "duration": 19,
    "start_time": "2025-06-19T10:15:55.226Z"
   },
   {
    "duration": 43,
    "start_time": "2025-06-19T10:19:33.000Z"
   },
   {
    "duration": 3,
    "start_time": "2025-06-19T10:19:35.280Z"
   },
   {
    "duration": 10,
    "start_time": "2025-06-19T10:19:36.732Z"
   },
   {
    "duration": 14,
    "start_time": "2025-06-19T10:19:37.593Z"
   },
   {
    "duration": 44,
    "start_time": "2025-06-19T10:20:16.307Z"
   },
   {
    "duration": 11,
    "start_time": "2025-06-19T10:20:16.863Z"
   },
   {
    "duration": 3,
    "start_time": "2025-06-19T10:20:40.714Z"
   },
   {
    "duration": 12,
    "start_time": "2025-06-19T10:20:41.139Z"
   },
   {
    "duration": 3,
    "start_time": "2025-06-19T10:21:37.054Z"
   },
   {
    "duration": 11,
    "start_time": "2025-06-19T10:21:37.930Z"
   },
   {
    "duration": 2,
    "start_time": "2025-06-19T10:21:43.439Z"
   },
   {
    "duration": 12,
    "start_time": "2025-06-19T10:21:43.443Z"
   },
   {
    "duration": 44,
    "start_time": "2025-06-19T10:21:53.216Z"
   },
   {
    "duration": 11,
    "start_time": "2025-06-19T10:21:53.996Z"
   },
   {
    "duration": 3,
    "start_time": "2025-06-19T10:21:59.721Z"
   },
   {
    "duration": 11,
    "start_time": "2025-06-19T10:22:00.212Z"
   },
   {
    "duration": 4,
    "start_time": "2025-06-19T10:24:21.252Z"
   },
   {
    "duration": 10,
    "start_time": "2025-06-19T10:24:23.616Z"
   },
   {
    "duration": 6,
    "start_time": "2025-06-19T10:24:27.724Z"
   },
   {
    "duration": 12,
    "start_time": "2025-06-19T10:24:28.348Z"
   },
   {
    "duration": 44,
    "start_time": "2025-06-19T10:25:02.070Z"
   },
   {
    "duration": 4,
    "start_time": "2025-06-19T10:25:02.429Z"
   },
   {
    "duration": 6,
    "start_time": "2025-06-19T10:25:02.883Z"
   },
   {
    "duration": 11,
    "start_time": "2025-06-19T10:25:03.448Z"
   },
   {
    "duration": 1267,
    "start_time": "2025-06-19T10:27:21.157Z"
   },
   {
    "duration": 9,
    "start_time": "2025-06-19T10:27:37.413Z"
   },
   {
    "duration": 70,
    "start_time": "2025-06-19T10:29:03.435Z"
   },
   {
    "duration": 3,
    "start_time": "2025-06-19T10:29:07.421Z"
   },
   {
    "duration": 5,
    "start_time": "2025-06-19T10:29:13.534Z"
   },
   {
    "duration": 10,
    "start_time": "2025-06-19T10:29:15.582Z"
   },
   {
    "duration": 12,
    "start_time": "2025-06-19T10:38:53.076Z"
   },
   {
    "duration": 77,
    "start_time": "2025-06-19T10:39:01.442Z"
   },
   {
    "duration": 15,
    "start_time": "2025-06-19T10:39:01.722Z"
   },
   {
    "duration": 177,
    "start_time": "2025-06-19T10:40:14.841Z"
   },
   {
    "duration": 113,
    "start_time": "2025-06-19T10:40:53.040Z"
   },
   {
    "duration": 336,
    "start_time": "2025-06-19T10:41:08.208Z"
   },
   {
    "duration": 213,
    "start_time": "2025-06-19T10:41:37.434Z"
   },
   {
    "duration": 164,
    "start_time": "2025-06-19T10:44:07.903Z"
   },
   {
    "duration": 1127,
    "start_time": "2025-06-19T13:03:12.277Z"
   },
   {
    "duration": 3,
    "start_time": "2025-06-19T13:03:27.512Z"
   },
   {
    "duration": 1542,
    "start_time": "2025-06-19T13:03:28.810Z"
   },
   {
    "duration": 131,
    "start_time": "2025-06-19T13:03:30.354Z"
   },
   {
    "duration": 382,
    "start_time": "2025-06-19T13:03:30.486Z"
   },
   {
    "duration": 28,
    "start_time": "2025-06-19T13:03:30.870Z"
   },
   {
    "duration": 47,
    "start_time": "2025-06-19T13:03:30.900Z"
   },
   {
    "duration": 17,
    "start_time": "2025-06-19T13:03:30.949Z"
   },
   {
    "duration": 660,
    "start_time": "2025-06-19T13:03:31.205Z"
   },
   {
    "duration": 19,
    "start_time": "2025-06-19T13:03:31.867Z"
   },
   {
    "duration": 154,
    "start_time": "2025-06-19T13:03:31.888Z"
   },
   {
    "duration": 20,
    "start_time": "2025-06-19T13:03:32.045Z"
   },
   {
    "duration": 19,
    "start_time": "2025-06-19T13:03:32.067Z"
   },
   {
    "duration": 37,
    "start_time": "2025-06-19T13:03:32.244Z"
   },
   {
    "duration": 29,
    "start_time": "2025-06-19T13:03:33.108Z"
   },
   {
    "duration": 30,
    "start_time": "2025-06-19T13:03:33.282Z"
   },
   {
    "duration": 349,
    "start_time": "2025-06-19T13:03:33.500Z"
   },
   {
    "duration": 113,
    "start_time": "2025-06-19T13:03:34.014Z"
   },
   {
    "duration": 478,
    "start_time": "2025-06-19T13:03:34.160Z"
   },
   {
    "duration": 113,
    "start_time": "2025-06-19T13:03:34.640Z"
   },
   {
    "duration": 104,
    "start_time": "2025-06-19T13:03:34.755Z"
   },
   {
    "duration": 31,
    "start_time": "2025-06-19T13:03:34.981Z"
   },
   {
    "duration": 127,
    "start_time": "2025-06-19T13:03:35.273Z"
   },
   {
    "duration": 29,
    "start_time": "2025-06-19T13:03:35.618Z"
   },
   {
    "duration": 94,
    "start_time": "2025-06-19T13:03:36.981Z"
   },
   {
    "duration": 17,
    "start_time": "2025-06-19T13:03:37.078Z"
   },
   {
    "duration": 359,
    "start_time": "2025-06-19T13:03:37.097Z"
   },
   {
    "duration": 8,
    "start_time": "2025-06-19T13:03:37.458Z"
   },
   {
    "duration": 99,
    "start_time": "2025-06-19T13:03:37.469Z"
   },
   {
    "duration": 231,
    "start_time": "2025-06-19T13:03:37.570Z"
   },
   {
    "duration": 639,
    "start_time": "2025-06-19T13:03:37.803Z"
   },
   {
    "duration": 365,
    "start_time": "2025-06-19T13:03:38.445Z"
   },
   {
    "duration": 409,
    "start_time": "2025-06-19T13:03:38.812Z"
   },
   {
    "duration": 70,
    "start_time": "2025-06-19T13:03:39.676Z"
   },
   {
    "duration": 430,
    "start_time": "2025-06-19T13:03:40.024Z"
   },
   {
    "duration": 25,
    "start_time": "2025-06-19T13:03:40.456Z"
   },
   {
    "duration": 14,
    "start_time": "2025-06-19T13:03:40.483Z"
   },
   {
    "duration": 24,
    "start_time": "2025-06-19T13:03:45.074Z"
   },
   {
    "duration": 5,
    "start_time": "2025-06-19T13:03:45.323Z"
   },
   {
    "duration": 23,
    "start_time": "2025-06-19T13:03:52.314Z"
   },
   {
    "duration": 6,
    "start_time": "2025-06-19T13:03:53.020Z"
   },
   {
    "duration": 28,
    "start_time": "2025-06-19T13:03:53.313Z"
   },
   {
    "duration": 74,
    "start_time": "2025-06-19T13:03:53.840Z"
   },
   {
    "duration": 223,
    "start_time": "2025-06-19T13:03:54.603Z"
   },
   {
    "duration": 9,
    "start_time": "2025-06-19T13:03:56.727Z"
   },
   {
    "duration": 179,
    "start_time": "2025-06-19T13:03:57.262Z"
   },
   {
    "duration": 69,
    "start_time": "2025-06-19T13:03:59.181Z"
   },
   {
    "duration": 203,
    "start_time": "2025-06-19T13:03:59.900Z"
   },
   {
    "duration": 50,
    "start_time": "2025-06-19T13:04:00.441Z"
   },
   {
    "duration": 184,
    "start_time": "2025-06-19T13:04:00.623Z"
   },
   {
    "duration": 39,
    "start_time": "2025-06-19T13:04:01.064Z"
   },
   {
    "duration": 205,
    "start_time": "2025-06-19T13:04:01.292Z"
   },
   {
    "duration": 55,
    "start_time": "2025-06-19T13:04:02.558Z"
   },
   {
    "duration": 247,
    "start_time": "2025-06-19T13:04:02.738Z"
   },
   {
    "duration": 10,
    "start_time": "2025-06-19T13:04:02.987Z"
   },
   {
    "duration": 168,
    "start_time": "2025-06-19T13:04:03.531Z"
   },
   {
    "duration": 259,
    "start_time": "2025-06-19T13:04:05.512Z"
   },
   {
    "duration": 44,
    "start_time": "2025-06-19T13:04:05.996Z"
   },
   {
    "duration": 18,
    "start_time": "2025-06-19T13:04:06.226Z"
   },
   {
    "duration": 1274,
    "start_time": "2025-06-19T13:04:06.470Z"
   },
   {
    "duration": 19,
    "start_time": "2025-06-19T13:04:08.363Z"
   },
   {
    "duration": 47,
    "start_time": "2025-06-19T13:04:08.986Z"
   },
   {
    "duration": 11,
    "start_time": "2025-06-19T13:04:09.408Z"
   },
   {
    "duration": 650,
    "start_time": "2025-06-19T13:04:13.499Z"
   },
   {
    "duration": 42,
    "start_time": "2025-06-19T13:04:14.745Z"
   },
   {
    "duration": 7,
    "start_time": "2025-06-19T13:04:14.952Z"
   },
   {
    "duration": 11,
    "start_time": "2025-06-19T13:04:16.180Z"
   },
   {
    "duration": 55,
    "start_time": "2025-06-19T13:04:24.127Z"
   },
   {
    "duration": 7,
    "start_time": "2025-06-19T13:04:25.362Z"
   },
   {
    "duration": 10,
    "start_time": "2025-06-19T13:04:26.912Z"
   },
   {
    "duration": 46,
    "start_time": "2025-06-19T13:04:42.222Z"
   },
   {
    "duration": 3,
    "start_time": "2025-06-19T13:04:42.690Z"
   },
   {
    "duration": 6,
    "start_time": "2025-06-19T13:04:43.175Z"
   },
   {
    "duration": 4,
    "start_time": "2025-06-19T13:04:43.545Z"
   },
   {
    "duration": 10,
    "start_time": "2025-06-19T13:04:43.938Z"
   },
   {
    "duration": 60,
    "start_time": "2025-06-19T13:04:51.869Z"
   },
   {
    "duration": 1203,
    "start_time": "2025-06-19T13:07:13.908Z"
   },
   {
    "duration": 1566,
    "start_time": "2025-06-19T13:07:17.689Z"
   },
   {
    "duration": 128,
    "start_time": "2025-06-19T13:07:19.257Z"
   },
   {
    "duration": 353,
    "start_time": "2025-06-19T13:07:20.241Z"
   },
   {
    "duration": 41,
    "start_time": "2025-06-19T13:07:20.596Z"
   },
   {
    "duration": 27,
    "start_time": "2025-06-19T13:07:20.775Z"
   },
   {
    "duration": 16,
    "start_time": "2025-06-19T13:07:21.978Z"
   },
   {
    "duration": 726,
    "start_time": "2025-06-19T13:07:21.997Z"
   },
   {
    "duration": 27,
    "start_time": "2025-06-19T13:07:22.725Z"
   },
   {
    "duration": 7,
    "start_time": "2025-06-19T13:07:22.754Z"
   },
   {
    "duration": 19,
    "start_time": "2025-06-19T13:07:22.764Z"
   },
   {
    "duration": 17,
    "start_time": "2025-06-19T13:07:22.785Z"
   },
   {
    "duration": 30,
    "start_time": "2025-06-19T13:07:22.836Z"
   },
   {
    "duration": 30,
    "start_time": "2025-06-19T13:07:22.867Z"
   },
   {
    "duration": 29,
    "start_time": "2025-06-19T13:07:22.973Z"
   },
   {
    "duration": 348,
    "start_time": "2025-06-19T13:07:23.122Z"
   },
   {
    "duration": 105,
    "start_time": "2025-06-19T13:07:23.656Z"
   },
   {
    "duration": 506,
    "start_time": "2025-06-19T13:07:23.832Z"
   },
   {
    "duration": 108,
    "start_time": "2025-06-19T13:07:24.340Z"
   },
   {
    "duration": 105,
    "start_time": "2025-06-19T13:07:24.450Z"
   },
   {
    "duration": 32,
    "start_time": "2025-06-19T13:07:24.784Z"
   },
   {
    "duration": 124,
    "start_time": "2025-06-19T13:07:25.181Z"
   },
   {
    "duration": 29,
    "start_time": "2025-06-19T13:07:25.573Z"
   },
   {
    "duration": 91,
    "start_time": "2025-06-19T13:07:25.777Z"
   },
   {
    "duration": 15,
    "start_time": "2025-06-19T13:07:26.202Z"
   },
   {
    "duration": 342,
    "start_time": "2025-06-19T13:07:26.372Z"
   },
   {
    "duration": 7,
    "start_time": "2025-06-19T13:07:26.716Z"
   },
   {
    "duration": 79,
    "start_time": "2025-06-19T13:07:26.882Z"
   },
   {
    "duration": 219,
    "start_time": "2025-06-19T13:07:27.083Z"
   },
   {
    "duration": 605,
    "start_time": "2025-06-19T13:07:27.495Z"
   },
   {
    "duration": 333,
    "start_time": "2025-06-19T13:07:28.102Z"
   },
   {
    "duration": 376,
    "start_time": "2025-06-19T13:07:28.443Z"
   },
   {
    "duration": 83,
    "start_time": "2025-06-19T13:07:29.139Z"
   },
   {
    "duration": 414,
    "start_time": "2025-06-19T13:07:29.592Z"
   },
   {
    "duration": 28,
    "start_time": "2025-06-19T13:07:30.008Z"
   },
   {
    "duration": 83,
    "start_time": "2025-06-19T13:07:30.047Z"
   },
   {
    "duration": 28,
    "start_time": "2025-06-19T13:07:30.295Z"
   },
   {
    "duration": 72,
    "start_time": "2025-06-19T13:07:30.520Z"
   },
   {
    "duration": 213,
    "start_time": "2025-06-19T13:07:30.979Z"
   },
   {
    "duration": 9,
    "start_time": "2025-06-19T13:07:32.322Z"
   },
   {
    "duration": 176,
    "start_time": "2025-06-19T13:07:32.513Z"
   },
   {
    "duration": 52,
    "start_time": "2025-06-19T13:07:33.304Z"
   },
   {
    "duration": 210,
    "start_time": "2025-06-19T13:07:33.496Z"
   },
   {
    "duration": 48,
    "start_time": "2025-06-19T13:07:33.885Z"
   },
   {
    "duration": 212,
    "start_time": "2025-06-19T13:07:34.097Z"
   },
   {
    "duration": 36,
    "start_time": "2025-06-19T13:07:34.504Z"
   },
   {
    "duration": 204,
    "start_time": "2025-06-19T13:07:34.707Z"
   },
   {
    "duration": 51,
    "start_time": "2025-06-19T13:07:35.543Z"
   },
   {
    "duration": 215,
    "start_time": "2025-06-19T13:07:35.766Z"
   },
   {
    "duration": 9,
    "start_time": "2025-06-19T13:07:36.018Z"
   },
   {
    "duration": 172,
    "start_time": "2025-06-19T13:07:36.132Z"
   },
   {
    "duration": 255,
    "start_time": "2025-06-19T13:07:37.168Z"
   },
   {
    "duration": 45,
    "start_time": "2025-06-19T13:07:37.606Z"
   },
   {
    "duration": 17,
    "start_time": "2025-06-19T13:07:37.843Z"
   },
   {
    "duration": 1266,
    "start_time": "2025-06-19T13:07:38.046Z"
   },
   {
    "duration": 19,
    "start_time": "2025-06-19T13:07:41.970Z"
   },
   {
    "duration": 46,
    "start_time": "2025-06-19T13:07:43.625Z"
   },
   {
    "duration": 9,
    "start_time": "2025-06-19T13:07:43.673Z"
   },
   {
    "duration": 652,
    "start_time": "2025-06-19T13:07:44.222Z"
   },
   {
    "duration": 44,
    "start_time": "2025-06-19T13:07:47.595Z"
   },
   {
    "duration": 5,
    "start_time": "2025-06-19T13:07:47.839Z"
   },
   {
    "duration": 11,
    "start_time": "2025-06-19T13:07:48.989Z"
   },
   {
    "duration": 43,
    "start_time": "2025-06-19T13:07:51.103Z"
   },
   {
    "duration": 4,
    "start_time": "2025-06-19T13:07:51.379Z"
   },
   {
    "duration": 7,
    "start_time": "2025-06-19T13:07:51.721Z"
   },
   {
    "duration": 4,
    "start_time": "2025-06-19T13:07:51.960Z"
   },
   {
    "duration": 10,
    "start_time": "2025-06-19T13:07:52.203Z"
   },
   {
    "duration": 59,
    "start_time": "2025-06-19T13:07:56.134Z"
   },
   {
    "duration": 40,
    "start_time": "2025-06-19T13:07:56.504Z"
   },
   {
    "duration": 71,
    "start_time": "2025-06-19T13:19:36.587Z"
   },
   {
    "duration": 48138,
    "start_time": "2025-06-19T13:19:37.648Z"
   },
   {
    "duration": 265,
    "start_time": "2025-06-19T13:24:23.685Z"
   },
   {
    "duration": 261,
    "start_time": "2025-06-19T13:25:08.285Z"
   },
   {
    "duration": 242,
    "start_time": "2025-06-19T13:27:06.022Z"
   },
   {
    "duration": 16,
    "start_time": "2025-06-19T13:28:27.017Z"
   },
   {
    "duration": 42,
    "start_time": "2025-06-19T13:28:32.340Z"
   },
   {
    "duration": 26,
    "start_time": "2025-06-19T13:28:37.765Z"
   },
   {
    "duration": 241,
    "start_time": "2025-06-19T13:30:30.630Z"
   },
   {
    "duration": 37,
    "start_time": "2025-06-19T13:32:01.497Z"
   },
   {
    "duration": 23,
    "start_time": "2025-06-19T13:32:02.826Z"
   },
   {
    "duration": 237,
    "start_time": "2025-06-19T13:32:03.447Z"
   },
   {
    "duration": 12,
    "start_time": "2025-06-19T13:32:06.114Z"
   },
   {
    "duration": 37,
    "start_time": "2025-06-19T13:33:12.575Z"
   },
   {
    "duration": 26,
    "start_time": "2025-06-19T13:33:16.303Z"
   },
   {
    "duration": 256,
    "start_time": "2025-06-19T13:33:18.024Z"
   },
   {
    "duration": 14,
    "start_time": "2025-06-19T13:33:25.033Z"
   },
   {
    "duration": 13,
    "start_time": "2025-06-19T13:35:37.613Z"
   }
  ],
  "colab": {
   "provenance": []
  },
  "kernelspec": {
   "display_name": "Python 3 (ipykernel)",
   "language": "python",
   "name": "python3"
  },
  "language_info": {
   "codemirror_mode": {
    "name": "ipython",
    "version": 3
   },
   "file_extension": ".py",
   "mimetype": "text/x-python",
   "name": "python",
   "nbconvert_exporter": "python",
   "pygments_lexer": "ipython3",
   "version": "3.9.5"
  },
  "toc": {
   "base_numbering": 1,
   "nav_menu": {},
   "number_sections": true,
   "sideBar": true,
   "skip_h1_title": true,
   "title_cell": "Table of Contents",
   "title_sidebar": "Contents",
   "toc_cell": false,
   "toc_position": {},
   "toc_section_display": true,
   "toc_window_display": true
  }
 },
 "nbformat": 4,
 "nbformat_minor": 1
}
